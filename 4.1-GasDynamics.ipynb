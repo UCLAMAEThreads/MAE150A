{
 "cells": [
  {
   "cell_type": "markdown",
   "metadata": {},
   "source": [
    "<img src=\"logo_UCLA_blue_boxed.svg\" alt=\"ucla logo\" width=\"150\" align=\"left\"/>"
   ]
  },
  {
   "cell_type": "markdown",
   "metadata": {},
   "source": [
    "### **MAE 150A - Intermediate Fluid Mechanics**\n",
    "\n",
    "<hr />"
   ]
  },
  {
   "cell_type": "markdown",
   "metadata": {},
   "source": [
    "# Quasi-1D Steady Compressible Flow\n",
    "This notebook demonstrates the use of some tools for computing states and processes in quasi-1d steady compressible flow."
   ]
  },
  {
   "cell_type": "code",
   "execution_count": 1,
   "metadata": {},
   "outputs": [],
   "source": [
    "include(\"src/gasdynamics.jl\")"
   ]
  },
  {
   "cell_type": "code",
   "execution_count": 2,
   "metadata": {},
   "outputs": [],
   "source": [
    "using Plots"
   ]
  },
  {
   "cell_type": "markdown",
   "metadata": {},
   "source": [
    "### Setting basic properties and states"
   ]
  },
  {
   "cell_type": "markdown",
   "metadata": {},
   "source": [
    "We can set thermodynamic properties and states in a straightforward manner."
   ]
  },
  {
   "cell_type": "markdown",
   "metadata": {},
   "source": [
    "#### Units\n",
    "When we set a thermodynamic quantity, we also need to set its units. For every quantity, we have a few units to choose from. For example:"
   ]
  },
  {
   "cell_type": "code",
   "execution_count": 3,
   "metadata": {},
   "outputs": [
    {
     "data": {
      "text/plain": [
       "Union{KPa, Pa, Pascals, atm, psi}"
      ]
     },
     "execution_count": 3,
     "metadata": {},
     "output_type": "execute_result"
    }
   ],
   "source": [
    "PressureUnits"
   ]
  },
  {
   "cell_type": "markdown",
   "metadata": {},
   "source": [
    "Among these, one is designated the default unit. All quantities are converted to this unit for calculation purposes. For example, for pressure:"
   ]
  },
  {
   "cell_type": "code",
   "execution_count": 4,
   "metadata": {},
   "outputs": [
    {
     "data": {
      "text/plain": [
       "Pascals"
      ]
     },
     "execution_count": 4,
     "metadata": {},
     "output_type": "execute_result"
    }
   ],
   "source": [
    "default_unit(PressureUnits)"
   ]
  },
  {
   "cell_type": "markdown",
   "metadata": {},
   "source": [
    "If we do not specify the unit, it is automatically set to the default:"
   ]
  },
  {
   "cell_type": "code",
   "execution_count": 5,
   "metadata": {},
   "outputs": [
    {
     "data": {
      "text/plain": [
       "Pressure = 10000.0 Pascals"
      ]
     },
     "execution_count": 5,
     "metadata": {},
     "output_type": "execute_result"
    }
   ],
   "source": [
    "Pressure(10000)"
   ]
  },
  {
   "cell_type": "markdown",
   "metadata": {},
   "source": [
    "and if we set the pressure in another unit:"
   ]
  },
  {
   "cell_type": "code",
   "execution_count": 6,
   "metadata": {},
   "outputs": [
    {
     "data": {
      "text/plain": [
       "Pressure = 101325.0 Pascals"
      ]
     },
     "execution_count": 6,
     "metadata": {},
     "output_type": "execute_result"
    }
   ],
   "source": [
    "p = Pressure(1,units=atm)"
   ]
  },
  {
   "cell_type": "markdown",
   "metadata": {},
   "source": [
    "However, we can always convert the quantity to some desired units with the `value` function:"
   ]
  },
  {
   "cell_type": "code",
   "execution_count": 7,
   "metadata": {},
   "outputs": [
    {
     "data": {
      "text/plain": [
       "1.0"
      ]
     },
     "execution_count": 7,
     "metadata": {},
     "output_type": "execute_result"
    }
   ],
   "source": [
    "value(p,atm)"
   ]
  },
  {
   "cell_type": "code",
   "execution_count": 8,
   "metadata": {},
   "outputs": [
    {
     "data": {
      "text/plain": [
       "14.695943005992957"
      ]
     },
     "execution_count": 8,
     "metadata": {},
     "output_type": "execute_result"
    }
   ],
   "source": [
    "value(p,psi)"
   ]
  },
  {
   "cell_type": "code",
   "execution_count": 9,
   "metadata": {},
   "outputs": [
    {
     "data": {
      "text/plain": [
       "101.325"
      ]
     },
     "execution_count": 9,
     "metadata": {},
     "output_type": "execute_result"
    }
   ],
   "source": [
    "value(p,KPa)"
   ]
  },
  {
   "cell_type": "markdown",
   "metadata": {},
   "source": [
    "#### Other thermodynamic quantities\n",
    "We can set most any other thermodynamic quantity in similar fashion:"
   ]
  },
  {
   "cell_type": "code",
   "execution_count": 10,
   "metadata": {},
   "outputs": [
    {
     "data": {
      "text/plain": [
       "Temperature = 293.15 Kelvin"
      ]
     },
     "execution_count": 10,
     "metadata": {},
     "output_type": "execute_result"
    }
   ],
   "source": [
    "T = Temperature(20,units=Celsius)"
   ]
  },
  {
   "cell_type": "code",
   "execution_count": 11,
   "metadata": {},
   "outputs": [
    {
     "data": {
      "text/plain": [
       "StagnationTemperature = 20.0 Kelvin"
      ]
     },
     "execution_count": 11,
     "metadata": {},
     "output_type": "execute_result"
    }
   ],
   "source": [
    "T0 = StagnationTemperature(20)"
   ]
  },
  {
   "cell_type": "code",
   "execution_count": 12,
   "metadata": {},
   "outputs": [
    {
     "data": {
      "text/plain": [
       "MachNumber = 2.0 "
      ]
     },
     "execution_count": 12,
     "metadata": {},
     "output_type": "execute_result"
    }
   ],
   "source": [
    "MachNumber(2.0)"
   ]
  },
  {
   "cell_type": "code",
   "execution_count": 13,
   "metadata": {},
   "outputs": [
    {
     "data": {
      "text/plain": [
       "Enthalpy = 50.0 JPerKG"
      ]
     },
     "execution_count": 13,
     "metadata": {},
     "output_type": "execute_result"
    }
   ],
   "source": [
    "Enthalpy(50)"
   ]
  },
  {
   "cell_type": "code",
   "execution_count": 14,
   "metadata": {},
   "outputs": [
    {
     "data": {
      "text/plain": [
       "Entropy = 10.0 JPerKGK"
      ]
     },
     "execution_count": 14,
     "metadata": {},
     "output_type": "execute_result"
    }
   ],
   "source": [
    "Entropy(10)"
   ]
  },
  {
   "cell_type": "markdown",
   "metadata": {},
   "source": [
    "and others..."
   ]
  },
  {
   "cell_type": "markdown",
   "metadata": {},
   "source": [
    "#### Gas properties\n",
    "We can set the properties of the gas. (It is assumed that the gas is perfect.)"
   ]
  },
  {
   "cell_type": "code",
   "execution_count": 15,
   "metadata": {},
   "outputs": [
    {
     "data": {
      "text/plain": [
       "SpecificHeatRatio = 1.3 "
      ]
     },
     "execution_count": 15,
     "metadata": {},
     "output_type": "execute_result"
    }
   ],
   "source": [
    "SpecificHeatRatio(1.3)"
   ]
  },
  {
   "cell_type": "code",
   "execution_count": 16,
   "metadata": {},
   "outputs": [
    {
     "data": {
      "text/plain": [
       "GasConstant = 320.0 JPerKGK"
      ]
     },
     "execution_count": 16,
     "metadata": {},
     "output_type": "execute_result"
    }
   ],
   "source": [
    "GasConstant(320)"
   ]
  },
  {
   "cell_type": "markdown",
   "metadata": {},
   "source": [
    "and define a gas with these values:"
   ]
  },
  {
   "cell_type": "code",
   "execution_count": 17,
   "metadata": {},
   "outputs": [
    {
     "data": {
      "text/plain": [
       "Perfect gas with\n",
       "   Specific heat ratio = 1.3\n",
       "   Gas constant = 320.0\n",
       "   cp = 1386.67\n",
       "   cv = 1066.67\n"
      ]
     },
     "execution_count": 17,
     "metadata": {},
     "output_type": "execute_result"
    }
   ],
   "source": [
    "gas = PerfectGas(γ=SpecificHeatRatio(1.3),R=GasConstant(320))"
   ]
  },
  {
   "cell_type": "markdown",
   "metadata": {},
   "source": [
    "We have **pre-defined gases** (at standard conditions), as well:"
   ]
  },
  {
   "cell_type": "code",
   "execution_count": 18,
   "metadata": {},
   "outputs": [
    {
     "data": {
      "text/plain": [
       "Perfect gas with\n",
       "   Specific heat ratio = 1.4\n",
       "   Gas constant = 287.0\n",
       "   cp = 1004.5\n",
       "   cv = 717.5\n"
      ]
     },
     "execution_count": 18,
     "metadata": {},
     "output_type": "execute_result"
    }
   ],
   "source": [
    "Air"
   ]
  },
  {
   "cell_type": "code",
   "execution_count": 19,
   "metadata": {},
   "outputs": [
    {
     "data": {
      "text/plain": [
       "Perfect gas with\n",
       "   Specific heat ratio = 1.66667\n",
       "   Gas constant = 2077.0\n",
       "   cp = 5192.5\n",
       "   cv = 3115.5\n"
      ]
     },
     "execution_count": 19,
     "metadata": {},
     "output_type": "execute_result"
    }
   ],
   "source": [
    "He"
   ]
  },
  {
   "cell_type": "markdown",
   "metadata": {},
   "source": [
    "#### Equations of state\n",
    "We can apply the equation of state for a perfect gas to determine other quantities. For example, suppose we have carbon dioxide at 1.2 kg/m^3 and 80 KPa. What is the temperature?"
   ]
  },
  {
   "cell_type": "code",
   "execution_count": 20,
   "metadata": {},
   "outputs": [
    {
     "data": {
      "text/plain": [
       "Temperature = 352.734 Kelvin"
      ]
     },
     "execution_count": 20,
     "metadata": {},
     "output_type": "execute_result"
    }
   ],
   "source": [
    "T = Temperature(Density(1.2),Pressure(80,units=KPa),gas=CO2)"
   ]
  },
  {
   "cell_type": "code",
   "execution_count": 21,
   "metadata": {},
   "outputs": [
    {
     "data": {
      "text/plain": [
       "Enthalpy = 354321.0 JPerKG"
      ]
     },
     "execution_count": 21,
     "metadata": {},
     "output_type": "execute_result"
    }
   ],
   "source": [
    "Enthalpy(T)"
   ]
  },
  {
   "cell_type": "markdown",
   "metadata": {},
   "source": [
    "What is the speed of sound of air at 20 degrees Celsius?"
   ]
  },
  {
   "cell_type": "code",
   "execution_count": 22,
   "metadata": {},
   "outputs": [
    {
     "data": {
      "text/plain": [
       "SoundSpeed = 343.202 MPerSec"
      ]
     },
     "execution_count": 22,
     "metadata": {},
     "output_type": "execute_result"
    }
   ],
   "source": [
    "SoundSpeed(Temperature(20,units=C),gas=Air)"
   ]
  },
  {
   "cell_type": "markdown",
   "metadata": {},
   "source": [
    "**Note: the default gas is air. So if you do not put the `gas=` argument in, it will assume air at standard conditions.**"
   ]
  },
  {
   "cell_type": "markdown",
   "metadata": {},
   "source": [
    "### Using isentropic relations\n",
    "Let us apply some basic isentropic relations. For example, let's find the temperature ratio in Helium that results from a pressure ratio of 1.2. Note that we specify the argument `Isentropic`:"
   ]
  },
  {
   "cell_type": "code",
   "execution_count": 23,
   "metadata": {},
   "outputs": [
    {
     "data": {
      "text/plain": [
       "TemperatureRatio = 1.07565 "
      ]
     },
     "execution_count": 23,
     "metadata": {},
     "output_type": "execute_result"
    }
   ],
   "source": [
    "TemperatureRatio(PressureRatio(1.2),Isentropic,gas=He)"
   ]
  },
  {
   "cell_type": "markdown",
   "metadata": {},
   "source": [
    "What are the subsonic and supersonic Mach numbers associated with an area ratio $A/A_*$ of 2?"
   ]
  },
  {
   "cell_type": "code",
   "execution_count": 24,
   "metadata": {},
   "outputs": [],
   "source": [
    "M1, M2 = MachNumber(AreaRatio(2));"
   ]
  },
  {
   "cell_type": "code",
   "execution_count": 25,
   "metadata": {},
   "outputs": [
    {
     "data": {
      "text/plain": [
       "MachNumber = 0.305904 "
      ]
     },
     "execution_count": 25,
     "metadata": {},
     "output_type": "execute_result"
    }
   ],
   "source": [
    "M1"
   ]
  },
  {
   "cell_type": "code",
   "execution_count": 26,
   "metadata": {},
   "outputs": [
    {
     "data": {
      "text/plain": [
       "MachNumber = 2.1972 "
      ]
     },
     "execution_count": 26,
     "metadata": {},
     "output_type": "execute_result"
    }
   ],
   "source": [
    "M2"
   ]
  },
  {
   "cell_type": "markdown",
   "metadata": {},
   "source": [
    "From another perspective: What is the local sonic reference area $A_*$ when the Mach number is 7.1 and the local area is 50 sq cm?"
   ]
  },
  {
   "cell_type": "code",
   "execution_count": 7,
   "metadata": {},
   "outputs": [
    {
     "data": {
      "text/plain": [
       "Area = 4.507e-5 SqM"
      ]
     },
     "execution_count": 7,
     "metadata": {},
     "output_type": "execute_result"
    }
   ],
   "source": [
    "AStar(Area(50,units=SqCM),MachNumber(7.1))"
   ]
  },
  {
   "cell_type": "markdown",
   "metadata": {},
   "source": [
    "If the temperature ratio $T/T_0$ is 0.2381, what is the Mach number?"
   ]
  },
  {
   "cell_type": "code",
   "execution_count": 27,
   "metadata": {},
   "outputs": [
    {
     "data": {
      "text/plain": [
       "MachNumber = 3.99995 "
      ]
     },
     "execution_count": 27,
     "metadata": {},
     "output_type": "execute_result"
    }
   ],
   "source": [
    "MachNumber(TemperatureRatio(0.2381))"
   ]
  },
  {
   "cell_type": "markdown",
   "metadata": {},
   "source": [
    "If the Mach number is 4.4 and stagnation pressure is 800 KPa, what is the pressure?"
   ]
  },
  {
   "cell_type": "code",
   "execution_count": 28,
   "metadata": {},
   "outputs": [
    {
     "data": {
      "text/plain": [
       "Pressure = 3134.11 Pascals"
      ]
     },
     "execution_count": 28,
     "metadata": {},
     "output_type": "execute_result"
    }
   ],
   "source": [
    "Pressure(StagnationPressure(800,units=KPa),MachNumber(4.4))"
   ]
  },
  {
   "cell_type": "markdown",
   "metadata": {},
   "source": [
    "If the Mach number and area at location 1 are 0.4 and 50 sq cm, respectively, then what are the possible Mach numbers (in choked isentropic conditions) where the area is 60 sq cm?"
   ]
  },
  {
   "cell_type": "code",
   "execution_count": 48,
   "metadata": {},
   "outputs": [],
   "source": [
    "M2sub, M2sup = MachNumber(MachNumber(0.4),Area(50,units=SqCM),Area(60,units=SqCM),gas=Air);"
   ]
  },
  {
   "cell_type": "code",
   "execution_count": 49,
   "metadata": {},
   "outputs": [
    {
     "data": {
      "text/plain": [
       "MachNumber = 0.322613 "
      ]
     },
     "execution_count": 49,
     "metadata": {},
     "output_type": "execute_result"
    }
   ],
   "source": [
    "M2sub"
   ]
  },
  {
   "cell_type": "code",
   "execution_count": 50,
   "metadata": {},
   "outputs": [
    {
     "data": {
      "text/plain": [
       "MachNumber = 2.1438 "
      ]
     },
     "execution_count": 50,
     "metadata": {},
     "output_type": "execute_result"
    }
   ],
   "source": [
    "M2sup"
   ]
  },
  {
   "cell_type": "markdown",
   "metadata": {},
   "source": [
    "Let's plot the area ratio $A/A_*$ for all possible Mach numbers:"
   ]
  },
  {
   "cell_type": "code",
   "execution_count": 52,
   "metadata": {},
   "outputs": [],
   "source": [
    "Mrange = range(0,6,length=601)\n",
    "Aratio = []\n",
    "for M in Mrange\n",
    "    push!(Aratio,value(AOverAStar(MachNumber(M))))\n",
    "end"
   ]
  },
  {
   "cell_type": "code",
   "execution_count": 54,
   "metadata": {},
   "outputs": [
    {
     "data": {
      "image/svg+xml": [
       "<?xml version=\"1.0\" encoding=\"utf-8\"?>\n",
       "<svg xmlns=\"http://www.w3.org/2000/svg\" xmlns:xlink=\"http://www.w3.org/1999/xlink\" width=\"600\" height=\"400\" viewBox=\"0 0 2400 1600\">\n",
       "<defs>\n",
       "  <clipPath id=\"clip7400\">\n",
       "    <rect x=\"0\" y=\"0\" width=\"2400\" height=\"1600\"/>\n",
       "  </clipPath>\n",
       "</defs>\n",
       "<path clip-path=\"url(#clip7400)\" d=\"\n",
       "M0 1600 L2400 1600 L2400 0 L0 0  Z\n",
       "  \" fill=\"#ffffff\" fill-rule=\"evenodd\" fill-opacity=\"1\"/>\n",
       "<defs>\n",
       "  <clipPath id=\"clip7401\">\n",
       "    <rect x=\"480\" y=\"0\" width=\"1681\" height=\"1600\"/>\n",
       "  </clipPath>\n",
       "</defs>\n",
       "<path clip-path=\"url(#clip7400)\" d=\"\n",
       "M202.373 1425.62 L2352.76 1425.62 L2352.76 47.2441 L202.373 47.2441  Z\n",
       "  \" fill=\"#ffffff\" fill-rule=\"evenodd\" fill-opacity=\"1\"/>\n",
       "<defs>\n",
       "  <clipPath id=\"clip7402\">\n",
       "    <rect x=\"202\" y=\"47\" width=\"2151\" height=\"1379\"/>\n",
       "  </clipPath>\n",
       "</defs>\n",
       "<polyline clip-path=\"url(#clip7402)\" style=\"stroke:#000000; stroke-width:2; stroke-opacity:0.1; fill:none\" points=\"\n",
       "  202.373,1425.62 202.373,47.2441 \n",
       "  \"/>\n",
       "<polyline clip-path=\"url(#clip7402)\" style=\"stroke:#000000; stroke-width:2; stroke-opacity:0.1; fill:none\" points=\"\n",
       "  739.969,1425.62 739.969,47.2441 \n",
       "  \"/>\n",
       "<polyline clip-path=\"url(#clip7402)\" style=\"stroke:#000000; stroke-width:2; stroke-opacity:0.1; fill:none\" points=\"\n",
       "  1277.56,1425.62 1277.56,47.2441 \n",
       "  \"/>\n",
       "<polyline clip-path=\"url(#clip7402)\" style=\"stroke:#000000; stroke-width:2; stroke-opacity:0.1; fill:none\" points=\"\n",
       "  1815.16,1425.62 1815.16,47.2441 \n",
       "  \"/>\n",
       "<polyline clip-path=\"url(#clip7402)\" style=\"stroke:#000000; stroke-width:2; stroke-opacity:0.1; fill:none\" points=\"\n",
       "  2352.76,1425.62 2352.76,47.2441 \n",
       "  \"/>\n",
       "<polyline clip-path=\"url(#clip7402)\" style=\"stroke:#000000; stroke-width:2; stroke-opacity:0.1; fill:none\" points=\"\n",
       "  202.373,1425.62 2352.76,1425.62 \n",
       "  \"/>\n",
       "<polyline clip-path=\"url(#clip7402)\" style=\"stroke:#000000; stroke-width:2; stroke-opacity:0.1; fill:none\" points=\"\n",
       "  202.373,1195.89 2352.76,1195.89 \n",
       "  \"/>\n",
       "<polyline clip-path=\"url(#clip7402)\" style=\"stroke:#000000; stroke-width:2; stroke-opacity:0.1; fill:none\" points=\"\n",
       "  202.373,966.16 2352.76,966.16 \n",
       "  \"/>\n",
       "<polyline clip-path=\"url(#clip7402)\" style=\"stroke:#000000; stroke-width:2; stroke-opacity:0.1; fill:none\" points=\"\n",
       "  202.373,736.431 2352.76,736.431 \n",
       "  \"/>\n",
       "<polyline clip-path=\"url(#clip7402)\" style=\"stroke:#000000; stroke-width:2; stroke-opacity:0.1; fill:none\" points=\"\n",
       "  202.373,506.702 2352.76,506.702 \n",
       "  \"/>\n",
       "<polyline clip-path=\"url(#clip7402)\" style=\"stroke:#000000; stroke-width:2; stroke-opacity:0.1; fill:none\" points=\"\n",
       "  202.373,276.973 2352.76,276.973 \n",
       "  \"/>\n",
       "<polyline clip-path=\"url(#clip7402)\" style=\"stroke:#000000; stroke-width:2; stroke-opacity:0.1; fill:none\" points=\"\n",
       "  202.373,47.2441 2352.76,47.2441 \n",
       "  \"/>\n",
       "<polyline clip-path=\"url(#clip7400)\" style=\"stroke:#000000; stroke-width:4; stroke-opacity:1; fill:none\" points=\"\n",
       "  202.373,1425.62 2352.76,1425.62 \n",
       "  \"/>\n",
       "<polyline clip-path=\"url(#clip7400)\" style=\"stroke:#000000; stroke-width:4; stroke-opacity:1; fill:none\" points=\"\n",
       "  202.373,1425.62 202.373,47.2441 \n",
       "  \"/>\n",
       "<polyline clip-path=\"url(#clip7400)\" style=\"stroke:#000000; stroke-width:4; stroke-opacity:1; fill:none\" points=\"\n",
       "  202.373,1425.62 202.373,1409.08 \n",
       "  \"/>\n",
       "<polyline clip-path=\"url(#clip7400)\" style=\"stroke:#000000; stroke-width:4; stroke-opacity:1; fill:none\" points=\"\n",
       "  739.969,1425.62 739.969,1409.08 \n",
       "  \"/>\n",
       "<polyline clip-path=\"url(#clip7400)\" style=\"stroke:#000000; stroke-width:4; stroke-opacity:1; fill:none\" points=\"\n",
       "  1277.56,1425.62 1277.56,1409.08 \n",
       "  \"/>\n",
       "<polyline clip-path=\"url(#clip7400)\" style=\"stroke:#000000; stroke-width:4; stroke-opacity:1; fill:none\" points=\"\n",
       "  1815.16,1425.62 1815.16,1409.08 \n",
       "  \"/>\n",
       "<polyline clip-path=\"url(#clip7400)\" style=\"stroke:#000000; stroke-width:4; stroke-opacity:1; fill:none\" points=\"\n",
       "  2352.76,1425.62 2352.76,1409.08 \n",
       "  \"/>\n",
       "<polyline clip-path=\"url(#clip7400)\" style=\"stroke:#000000; stroke-width:4; stroke-opacity:1; fill:none\" points=\"\n",
       "  202.373,1425.62 228.178,1425.62 \n",
       "  \"/>\n",
       "<polyline clip-path=\"url(#clip7400)\" style=\"stroke:#000000; stroke-width:4; stroke-opacity:1; fill:none\" points=\"\n",
       "  202.373,1195.89 228.178,1195.89 \n",
       "  \"/>\n",
       "<polyline clip-path=\"url(#clip7400)\" style=\"stroke:#000000; stroke-width:4; stroke-opacity:1; fill:none\" points=\"\n",
       "  202.373,966.16 228.178,966.16 \n",
       "  \"/>\n",
       "<polyline clip-path=\"url(#clip7400)\" style=\"stroke:#000000; stroke-width:4; stroke-opacity:1; fill:none\" points=\"\n",
       "  202.373,736.431 228.178,736.431 \n",
       "  \"/>\n",
       "<polyline clip-path=\"url(#clip7400)\" style=\"stroke:#000000; stroke-width:4; stroke-opacity:1; fill:none\" points=\"\n",
       "  202.373,506.702 228.178,506.702 \n",
       "  \"/>\n",
       "<polyline clip-path=\"url(#clip7400)\" style=\"stroke:#000000; stroke-width:4; stroke-opacity:1; fill:none\" points=\"\n",
       "  202.373,276.973 228.178,276.973 \n",
       "  \"/>\n",
       "<polyline clip-path=\"url(#clip7400)\" style=\"stroke:#000000; stroke-width:4; stroke-opacity:1; fill:none\" points=\"\n",
       "  202.373,47.2441 228.178,47.2441 \n",
       "  \"/>\n",
       "<g clip-path=\"url(#clip7400)\">\n",
       "<text style=\"fill:#000000; fill-opacity:1; font-family:Arial,Helvetica Neue,Helvetica,sans-serif; font-size:48px; text-anchor:middle;\" transform=\"rotate(0, 202.373, 1479.62)\" x=\"202.373\" y=\"1479.62\">0</text>\n",
       "</g>\n",
       "<g clip-path=\"url(#clip7400)\">\n",
       "<text style=\"fill:#000000; fill-opacity:1; font-family:Arial,Helvetica Neue,Helvetica,sans-serif; font-size:48px; text-anchor:middle;\" transform=\"rotate(0, 739.969, 1479.62)\" x=\"739.969\" y=\"1479.62\">1</text>\n",
       "</g>\n",
       "<g clip-path=\"url(#clip7400)\">\n",
       "<text style=\"fill:#000000; fill-opacity:1; font-family:Arial,Helvetica Neue,Helvetica,sans-serif; font-size:48px; text-anchor:middle;\" transform=\"rotate(0, 1277.56, 1479.62)\" x=\"1277.56\" y=\"1479.62\">2</text>\n",
       "</g>\n",
       "<g clip-path=\"url(#clip7400)\">\n",
       "<text style=\"fill:#000000; fill-opacity:1; font-family:Arial,Helvetica Neue,Helvetica,sans-serif; font-size:48px; text-anchor:middle;\" transform=\"rotate(0, 1815.16, 1479.62)\" x=\"1815.16\" y=\"1479.62\">3</text>\n",
       "</g>\n",
       "<g clip-path=\"url(#clip7400)\">\n",
       "<text style=\"fill:#000000; fill-opacity:1; font-family:Arial,Helvetica Neue,Helvetica,sans-serif; font-size:48px; text-anchor:middle;\" transform=\"rotate(0, 2352.76, 1479.62)\" x=\"2352.76\" y=\"1479.62\">4</text>\n",
       "</g>\n",
       "<g clip-path=\"url(#clip7400)\">\n",
       "<text style=\"fill:#000000; fill-opacity:1; font-family:Arial,Helvetica Neue,Helvetica,sans-serif; font-size:48px; text-anchor:end;\" transform=\"rotate(0, 178.373, 1443.12)\" x=\"178.373\" y=\"1443.12\">0</text>\n",
       "</g>\n",
       "<g clip-path=\"url(#clip7400)\">\n",
       "<text style=\"fill:#000000; fill-opacity:1; font-family:Arial,Helvetica Neue,Helvetica,sans-serif; font-size:48px; text-anchor:end;\" transform=\"rotate(0, 178.373, 1213.39)\" x=\"178.373\" y=\"1213.39\">2</text>\n",
       "</g>\n",
       "<g clip-path=\"url(#clip7400)\">\n",
       "<text style=\"fill:#000000; fill-opacity:1; font-family:Arial,Helvetica Neue,Helvetica,sans-serif; font-size:48px; text-anchor:end;\" transform=\"rotate(0, 178.373, 983.66)\" x=\"178.373\" y=\"983.66\">4</text>\n",
       "</g>\n",
       "<g clip-path=\"url(#clip7400)\">\n",
       "<text style=\"fill:#000000; fill-opacity:1; font-family:Arial,Helvetica Neue,Helvetica,sans-serif; font-size:48px; text-anchor:end;\" transform=\"rotate(0, 178.373, 753.931)\" x=\"178.373\" y=\"753.931\">6</text>\n",
       "</g>\n",
       "<g clip-path=\"url(#clip7400)\">\n",
       "<text style=\"fill:#000000; fill-opacity:1; font-family:Arial,Helvetica Neue,Helvetica,sans-serif; font-size:48px; text-anchor:end;\" transform=\"rotate(0, 178.373, 524.202)\" x=\"178.373\" y=\"524.202\">8</text>\n",
       "</g>\n",
       "<g clip-path=\"url(#clip7400)\">\n",
       "<text style=\"fill:#000000; fill-opacity:1; font-family:Arial,Helvetica Neue,Helvetica,sans-serif; font-size:48px; text-anchor:end;\" transform=\"rotate(0, 178.373, 294.473)\" x=\"178.373\" y=\"294.473\">10</text>\n",
       "</g>\n",
       "<g clip-path=\"url(#clip7400)\">\n",
       "<text style=\"fill:#000000; fill-opacity:1; font-family:Arial,Helvetica Neue,Helvetica,sans-serif; font-size:48px; text-anchor:end;\" transform=\"rotate(0, 178.373, 64.7441)\" x=\"178.373\" y=\"64.7441\">12</text>\n",
       "</g>\n",
       "<g clip-path=\"url(#clip7400)\">\n",
       "<text style=\"fill:#000000; fill-opacity:1; font-family:Arial,Helvetica Neue,Helvetica,sans-serif; font-size:66px; text-anchor:middle;\" transform=\"rotate(0, 1277.56, 1559.48)\" x=\"1277.56\" y=\"1559.48\">Mach number</text>\n",
       "</g>\n",
       "<g clip-path=\"url(#clip7400)\">\n",
       "<text style=\"fill:#000000; fill-opacity:1; font-family:Arial,Helvetica Neue,Helvetica,sans-serif; font-size:66px; text-anchor:middle;\" transform=\"rotate(-90, 89.2861, 736.431)\" x=\"89.2861\" y=\"736.431\">Area ratio</text>\n",
       "</g>\n",
       "<polyline clip-path=\"url(#clip7402)\" style=\"stroke:#009af9; stroke-width:4; stroke-opacity:1; fill:none\" points=\"\n",
       "  207.749,-5222.03 213.125,-1898.81 218.501,-791.329 223.877,-237.791 229.253,94.1727 234.629,315.348 240.005,473.216 245.381,591.517 250.757,683.44 256.132,756.897 \n",
       "  261.508,816.925 266.884,866.881 272.26,909.089 277.636,945.209 283.012,976.459 288.388,1003.75 293.764,1027.78 299.14,1049.1 304.516,1068.13 309.892,1085.22 \n",
       "  315.268,1100.63 320.644,1114.61 326.02,1127.34 331.396,1138.97 336.772,1149.63 342.148,1159.44 347.524,1168.5 352.9,1176.87 358.276,1184.64 363.652,1191.86 \n",
       "  369.028,1198.59 374.404,1204.87 379.78,1210.74 385.155,1216.23 390.531,1221.39 395.907,1226.24 401.283,1230.8 406.659,1235.09 412.035,1239.14 417.411,1242.97 \n",
       "  422.787,1246.58 428.163,1250 433.539,1253.24 438.915,1256.31 444.291,1259.22 449.667,1261.98 455.043,1264.6 460.419,1267.09 465.795,1269.46 471.171,1271.72 \n",
       "  476.547,1273.86 481.923,1275.91 487.299,1277.85 492.675,1279.7 498.051,1281.47 503.427,1283.15 508.802,1284.76 514.178,1286.29 519.554,1287.75 524.93,1289.14 \n",
       "  530.306,1290.46 535.682,1291.73 541.058,1292.93 546.434,1294.08 551.81,1295.18 557.186,1296.22 562.562,1297.21 567.938,1298.16 573.314,1299.06 578.69,1299.91 \n",
       "  584.066,1300.73 589.442,1301.5 594.818,1302.23 600.194,1302.93 605.57,1303.58 610.946,1304.21 616.322,1304.79 621.698,1305.35 627.074,1305.87 632.45,1306.36 \n",
       "  637.825,1306.82 643.201,1307.25 648.577,1307.66 653.953,1308.03 659.329,1308.38 664.705,1308.7 670.081,1309 675.457,1309.27 680.833,1309.51 686.209,1309.74 \n",
       "  691.585,1309.94 696.961,1310.11 702.337,1310.27 707.713,1310.4 713.089,1310.51 718.465,1310.6 723.841,1310.67 729.217,1310.72 734.593,1310.74 739.969,1310.75 \n",
       "  745.345,1310.74 750.721,1310.72 756.097,1310.67 761.472,1310.6 766.848,1310.52 772.224,1310.42 777.6,1310.3 782.976,1310.17 788.352,1310.01 793.728,1309.84 \n",
       "  799.104,1309.66 804.48,1309.45 809.856,1309.24 815.232,1309 820.608,1308.75 825.984,1308.48 831.36,1308.2 836.736,1307.9 842.112,1307.59 847.488,1307.26 \n",
       "  852.864,1306.91 858.24,1306.55 863.616,1306.18 868.992,1305.79 874.368,1305.38 879.744,1304.96 885.12,1304.53 890.495,1304.08 895.871,1303.62 901.247,1303.14 \n",
       "  906.623,1302.64 911.999,1302.14 917.375,1301.61 922.751,1301.08 928.127,1300.53 933.503,1299.96 938.879,1299.38 944.255,1298.79 949.631,1298.18 955.007,1297.55 \n",
       "  960.383,1296.92 965.759,1296.26 971.135,1295.6 976.511,1294.91 981.887,1294.22 987.263,1293.51 992.639,1292.78 998.015,1292.04 1003.39,1291.29 1008.77,1290.52 \n",
       "  1014.14,1289.73 1019.52,1288.94 1024.89,1288.12 1030.27,1287.29 1035.65,1286.45 1041.02,1285.59 1046.4,1284.72 1051.77,1283.83 1057.15,1282.93 1062.53,1282.01 \n",
       "  1067.9,1281.08 1073.28,1280.13 1078.65,1279.16 1084.03,1278.18 1089.41,1277.19 1094.78,1276.18 1100.16,1275.15 1105.53,1274.11 1110.91,1273.05 1116.29,1271.98 \n",
       "  1121.66,1270.88 1127.04,1269.78 1132.41,1268.65 1137.79,1267.52 1143.17,1266.36 1148.54,1265.19 1153.92,1264 1159.29,1262.79 1164.67,1261.57 1170.05,1260.33 \n",
       "  1175.42,1259.07 1180.8,1257.8 1186.17,1256.51 1191.55,1255.2 1196.93,1253.87 1202.3,1252.53 1207.68,1251.17 1213.05,1249.79 1218.43,1248.39 1223.8,1246.97 \n",
       "  1229.18,1245.54 1234.56,1244.09 1239.93,1242.62 1245.31,1241.13 1250.68,1239.62 1256.06,1238.09 1261.44,1236.54 1266.81,1234.98 1272.19,1233.39 1277.56,1231.78 \n",
       "  1282.94,1230.16 1288.32,1228.51 1293.69,1226.85 1299.07,1225.16 1304.44,1223.46 1309.82,1221.73 1315.2,1219.99 1320.57,1218.22 1325.95,1216.43 1331.32,1214.62 \n",
       "  1336.7,1212.79 1342.08,1210.93 1347.45,1209.06 1352.83,1207.16 1358.2,1205.25 1363.58,1203.31 1368.96,1201.34 1374.33,1199.36 1379.71,1197.35 1385.08,1195.32 \n",
       "  1390.46,1193.26 1395.84,1191.19 1401.21,1189.09 1406.59,1186.96 1411.96,1184.81 1417.34,1182.64 1422.72,1180.44 1428.09,1178.22 1433.47,1175.98 1438.84,1173.71 \n",
       "  1444.22,1171.41 1449.6,1169.09 1454.97,1166.74 1460.35,1164.37 1465.72,1161.97 1471.1,1159.55 1476.47,1157.1 1481.85,1154.62 1487.23,1152.12 1492.6,1149.59 \n",
       "  1497.98,1147.03 1503.35,1144.45 1508.73,1141.83 1514.11,1139.19 1519.48,1136.52 1524.86,1133.83 1530.23,1131.1 1535.61,1128.35 1540.99,1125.57 1546.36,1122.75 \n",
       "  1551.74,1119.91 1557.11,1117.04 1562.49,1114.14 1567.87,1111.21 1573.24,1108.25 1578.62,1105.25 1583.99,1102.23 1589.37,1099.18 1594.75,1096.09 1600.12,1092.97 \n",
       "  1605.5,1089.82 1610.87,1086.64 1616.25,1083.43 1621.63,1080.18 1627,1076.9 1632.38,1073.59 1637.75,1070.24 1643.13,1066.87 1648.51,1063.45 1653.88,1060 \n",
       "  1659.26,1056.52 1664.63,1053 1670.01,1049.45 1675.39,1045.86 1680.76,1042.24 1686.14,1038.58 1691.51,1034.89 1696.89,1031.15 1702.27,1027.38 1707.64,1023.58 \n",
       "  1713.02,1019.74 1718.39,1015.85 1723.77,1011.94 1729.14,1007.98 1734.52,1003.98 1739.9,999.949 1745.27,995.875 1750.65,991.762 1756.02,987.61 1761.4,983.417 \n",
       "  1766.78,979.184 1772.15,974.91 1777.53,970.595 1782.9,966.239 1788.28,961.841 1793.66,957.401 1799.03,952.92 1804.41,948.395 1809.78,943.828 1815.16,939.217 \n",
       "  1820.54,934.563 1825.91,929.865 1831.29,925.122 1836.66,920.335 1842.04,915.503 1847.42,910.626 1852.79,905.704 1858.17,900.735 1863.54,895.72 1868.92,890.659 \n",
       "  1874.3,885.55 1879.67,880.395 1885.05,875.191 1890.42,869.94 1895.8,864.64 1901.18,859.291 1906.55,853.894 1911.93,848.446 1917.3,842.949 1922.68,837.402 \n",
       "  1928.06,831.804 1933.43,826.156 1938.81,820.456 1944.18,814.704 1949.56,808.9 1954.94,803.044 1960.31,797.135 1965.69,791.172 1971.06,785.157 1976.44,779.087 \n",
       "  1981.81,772.962 1987.19,766.783 1992.57,760.549 1997.94,754.259 2003.32,747.913 2008.69,741.511 2014.07,735.052 2019.45,728.536 2024.82,721.963 2030.2,715.331 \n",
       "  2035.57,708.641 2040.95,701.892 2046.33,695.084 2051.7,688.216 2057.08,681.288 2062.45,674.299 2067.83,667.25 2073.21,660.139 2078.58,652.967 2083.96,645.732 \n",
       "  2089.33,638.435 2094.71,631.074 2100.09,623.65 2105.46,616.162 2110.84,608.609 2116.21,600.992 2121.59,593.309 2126.97,585.561 2132.34,577.746 2137.72,569.865 \n",
       "  2143.09,561.917 2148.47,553.9 2153.85,545.816 2159.22,537.664 2164.6,529.442 2169.97,521.151 2175.35,512.79 2180.73,504.359 2186.1,495.856 2191.48,487.283 \n",
       "  2196.85,478.637 2202.23,469.919 2207.61,461.128 2212.98,452.265 2218.36,443.327 2223.73,434.315 2229.11,425.228 2234.48,416.066 2239.86,406.828 2245.24,397.514 \n",
       "  2250.61,388.123 2255.99,378.655 2261.36,369.108 2266.74,359.484 2272.12,349.781 2277.49,339.998 2282.87,330.136 2288.24,320.193 2293.62,310.169 2299,300.064 \n",
       "  2304.37,289.877 2309.75,279.607 2315.12,269.254 2320.5,258.818 2325.88,248.298 2331.25,237.692 2336.63,227.002 2342,216.226 2347.38,205.364 2352.76,194.414 \n",
       "  2358.13,183.378 2363.51,172.253 2368.88,161.04 2374.26,149.737 2379.64,138.345 2385.01,126.863 2390.39,115.29 2395.76,103.626 2401.14,91.8694 2406.52,80.0205 \n",
       "  2411.89,68.0785 2417.27,56.0427 2422.64,43.9127 2428.02,31.6878 2433.4,19.3675 2438.77,6.95105 2444.15,-5.56203 2449.52,-18.1724 2454.9,-30.8806 2460.28,-43.6873 \n",
       "  2465.65,-56.593 2471.03,-69.5985 2476.4,-82.7042 2481.78,-95.9109 2487.15,-109.219 2492.53,-122.629 2497.91,-136.143 2503.28,-149.759 2508.66,-163.48 2514.03,-177.305 \n",
       "  2519.41,-191.236 2524.79,-205.272 2530.16,-219.415 2535.54,-233.666 2540.91,-248.024 2546.29,-262.491 2551.67,-277.066 2557.04,-291.752 2562.42,-306.548 2567.79,-321.456 \n",
       "  2573.17,-336.475 2578.55,-351.607 2583.92,-366.852 2589.3,-382.21 2594.67,-397.683 2600.05,-413.272 2605.43,-428.976 2610.8,-444.797 2616.18,-460.734 2621.55,-476.79 \n",
       "  2626.93,-492.965 2632.31,-509.258 2637.68,-525.672 2643.06,-542.207 2648.43,-558.862 2653.81,-575.64 2659.19,-592.541 2664.56,-609.565 2669.94,-626.714 2675.31,-643.987 \n",
       "  2680.69,-661.386 2686.07,-678.912 2691.44,-696.564 2696.82,-714.345 2702.19,-732.254 2707.57,-750.292 2712.95,-768.461 2718.32,-786.76 2723.7,-805.191 2729.07,-823.754 \n",
       "  2734.45,-842.45 2739.82,-861.28 2745.2,-880.245 2750.58,-899.344 2755.95,-918.58 2761.33,-937.953 2766.7,-957.463 2772.08,-977.112 2777.46,-996.9 2782.83,-1016.83 \n",
       "  2788.21,-1036.9 2793.58,-1057.11 2798.96,-1077.46 2804.34,-1097.95 2809.71,-1118.59 2815.09,-1139.38 2820.46,-1160.31 2825.84,-1181.38 2831.22,-1202.6 2836.59,-1223.98 \n",
       "  2841.97,-1245.49 2847.34,-1267.16 2852.72,-1288.98 2858.1,-1310.95 2863.47,-1333.08 2868.85,-1355.35 2874.22,-1377.78 2879.6,-1400.36 2884.98,-1423.1 2890.35,-1445.99 \n",
       "  2895.73,-1469.05 2901.1,-1492.26 2906.48,-1515.62 2911.86,-1539.15 2917.23,-1562.84 2922.61,-1586.69 2927.98,-1610.7 2933.36,-1634.87 2938.74,-1659.21 2944.11,-1683.72 \n",
       "  2949.49,-1708.38 2954.86,-1733.22 2960.24,-1758.22 2965.62,-1783.39 2970.99,-1808.73 2976.37,-1834.24 2981.74,-1859.92 2987.12,-1885.77 2992.49,-1911.8 2997.87,-1938 \n",
       "  3003.25,-1964.37 3008.62,-1990.92 3014,-2017.64 3019.37,-2044.55 3024.75,-2071.63 3030.13,-2098.89 3035.5,-2126.33 3040.88,-2153.95 3046.25,-2181.75 3051.63,-2209.74 \n",
       "  3057.01,-2237.9 3062.38,-2266.26 3067.76,-2294.8 3073.13,-2323.52 3078.51,-2352.44 3083.89,-2381.54 3089.26,-2410.83 3094.64,-2440.31 3100.01,-2469.99 3105.39,-2499.86 \n",
       "  3110.77,-2529.91 3116.14,-2560.17 3121.52,-2590.62 3126.89,-2621.26 3132.27,-2652.11 3137.65,-2683.15 3143.02,-2714.39 3148.4,-2745.83 3153.77,-2777.47 3159.15,-2809.32 \n",
       "  3164.53,-2841.37 3169.9,-2873.62 3175.28,-2906.08 3180.65,-2938.74 3186.03,-2971.61 3191.41,-3004.69 3196.78,-3037.98 3202.16,-3071.48 3207.53,-3105.19 3212.91,-3139.12 \n",
       "  3218.29,-3173.26 3223.66,-3207.61 3229.04,-3242.18 3234.41,-3276.96 3239.79,-3311.97 3245.16,-3347.19 3250.54,-3382.63 3255.92,-3418.29 3261.29,-3454.18 3266.67,-3490.29 \n",
       "  3272.04,-3526.62 3277.42,-3563.18 3282.8,-3599.97 3288.17,-3636.98 3293.55,-3674.22 3298.92,-3711.69 3304.3,-3749.39 3309.68,-3787.33 3315.05,-3825.49 3320.43,-3863.89 \n",
       "  3325.8,-3902.53 3331.18,-3941.4 3336.56,-3980.51 3341.93,-4019.86 3347.31,-4059.45 3352.68,-4099.28 3358.06,-4139.35 3363.44,-4179.67 3368.81,-4220.23 3374.19,-4261.03 \n",
       "  3379.56,-4302.09 3384.94,-4343.39 3390.32,-4384.94 3395.69,-4426.74 3401.07,-4468.79 3406.44,-4511.09 3411.82,-4553.65 3417.2,-4596.46 3422.57,-4639.53 3427.95,-4682.85 \n",
       "  \n",
       "  \"/>\n",
       "<circle clip-path=\"url(#clip7402)\" style=\"fill:#000000; stroke:none; fill-opacity:1\" cx=\"739.969\" cy=\"1310.75\" r=\"18\"/>\n",
       "<circle clip-path=\"url(#clip7402)\" style=\"fill:#e26f46; stroke:none; fill-opacity:1\" cx=\"739.969\" cy=\"1310.75\" r=\"14\"/>\n",
       "</svg>\n"
      ]
     },
     "execution_count": 54,
     "metadata": {},
     "output_type": "execute_result"
    }
   ],
   "source": [
    "plot(Mrange,Aratio,xlim=(0,4),ylim=(0,12),xlabel=\"Mach number\",ylabel=\"Area ratio\",legend=false)\n",
    "scatter!([1],[1])"
   ]
  },
  {
   "cell_type": "markdown",
   "metadata": {},
   "source": [
    "This shows the possible Mach numbers that can be reached isentropically in a given nozzle"
   ]
  },
  {
   "cell_type": "markdown",
   "metadata": {},
   "source": [
    "### Using normal shock relations\n",
    "We can make calculations across normal shocks. These relations require the argument `NormalShock`.\n",
    "\n",
    "For example, let's look at the ratio of stagnation pressures across a normal shock with the Mach number entering the shock equal to 2:"
   ]
  },
  {
   "cell_type": "code",
   "execution_count": 55,
   "metadata": {},
   "outputs": [
    {
     "data": {
      "text/plain": [
       "StagnationPressureRatio = 0.720874 "
      ]
     },
     "execution_count": 55,
     "metadata": {},
     "output_type": "execute_result"
    }
   ],
   "source": [
    "StagnationPressureRatio(MachNumber(2),NormalShock)"
   ]
  },
  {
   "cell_type": "markdown",
   "metadata": {},
   "source": [
    "and the density increases by the factor:"
   ]
  },
  {
   "cell_type": "code",
   "execution_count": 64,
   "metadata": {},
   "outputs": [
    {
     "data": {
      "text/plain": [
       "DensityRatio = 2.66667 "
      ]
     },
     "execution_count": 64,
     "metadata": {},
     "output_type": "execute_result"
    }
   ],
   "source": [
    "DensityRatio(MachNumber(2),NormalShock)"
   ]
  },
  {
   "cell_type": "markdown",
   "metadata": {},
   "source": [
    "What is the entropy change across this shock?"
   ]
  },
  {
   "cell_type": "code",
   "execution_count": 59,
   "metadata": {},
   "outputs": [
    {
     "data": {
      "text/plain": [
       "Entropy = 93.9325 JPerKGK"
      ]
     },
     "execution_count": 59,
     "metadata": {},
     "output_type": "execute_result"
    }
   ],
   "source": [
    "Entropy(Entropy(0),MachNumber(2),NormalShock)"
   ]
  },
  {
   "cell_type": "markdown",
   "metadata": {},
   "source": [
    "Let's plot the entropy increase as a function of Mach number:"
   ]
  },
  {
   "cell_type": "code",
   "execution_count": 63,
   "metadata": {},
   "outputs": [],
   "source": [
    "M1 = range(1,3,length=101)\n",
    "s2 = []\n",
    "pratio = []\n",
    "for M in M1\n",
    "    push!(s2,value(Entropy(Entropy(0),MachNumber(M),NormalShock)))\n",
    "    push!(pratio,value(PressureRatio(MachNumber(M),NormalShock)))\n",
    "end"
   ]
  },
  {
   "cell_type": "code",
   "execution_count": 66,
   "metadata": {},
   "outputs": [
    {
     "data": {
      "image/svg+xml": [
       "<?xml version=\"1.0\" encoding=\"utf-8\"?>\n",
       "<svg xmlns=\"http://www.w3.org/2000/svg\" xmlns:xlink=\"http://www.w3.org/1999/xlink\" width=\"600\" height=\"400\" viewBox=\"0 0 2400 1600\">\n",
       "<defs>\n",
       "  <clipPath id=\"clip9400\">\n",
       "    <rect x=\"0\" y=\"0\" width=\"2400\" height=\"1600\"/>\n",
       "  </clipPath>\n",
       "</defs>\n",
       "<path clip-path=\"url(#clip9400)\" d=\"\n",
       "M0 1600 L2400 1600 L2400 0 L0 0  Z\n",
       "  \" fill=\"#ffffff\" fill-rule=\"evenodd\" fill-opacity=\"1\"/>\n",
       "<defs>\n",
       "  <clipPath id=\"clip9401\">\n",
       "    <rect x=\"480\" y=\"0\" width=\"1681\" height=\"1600\"/>\n",
       "  </clipPath>\n",
       "</defs>\n",
       "<path clip-path=\"url(#clip9400)\" d=\"\n",
       "M202.373 1425.62 L2352.76 1425.62 L2352.76 47.2441 L202.373 47.2441  Z\n",
       "  \" fill=\"#ffffff\" fill-rule=\"evenodd\" fill-opacity=\"1\"/>\n",
       "<defs>\n",
       "  <clipPath id=\"clip9402\">\n",
       "    <rect x=\"202\" y=\"47\" width=\"2151\" height=\"1379\"/>\n",
       "  </clipPath>\n",
       "</defs>\n",
       "<polyline clip-path=\"url(#clip9402)\" style=\"stroke:#000000; stroke-width:2; stroke-opacity:0.1; fill:none\" points=\"\n",
       "  202.373,1425.62 202.373,47.2441 \n",
       "  \"/>\n",
       "<polyline clip-path=\"url(#clip9402)\" style=\"stroke:#000000; stroke-width:2; stroke-opacity:0.1; fill:none\" points=\"\n",
       "  739.969,1425.62 739.969,47.2441 \n",
       "  \"/>\n",
       "<polyline clip-path=\"url(#clip9402)\" style=\"stroke:#000000; stroke-width:2; stroke-opacity:0.1; fill:none\" points=\"\n",
       "  1277.56,1425.62 1277.56,47.2441 \n",
       "  \"/>\n",
       "<polyline clip-path=\"url(#clip9402)\" style=\"stroke:#000000; stroke-width:2; stroke-opacity:0.1; fill:none\" points=\"\n",
       "  1815.16,1425.62 1815.16,47.2441 \n",
       "  \"/>\n",
       "<polyline clip-path=\"url(#clip9402)\" style=\"stroke:#000000; stroke-width:2; stroke-opacity:0.1; fill:none\" points=\"\n",
       "  2352.76,1425.62 2352.76,47.2441 \n",
       "  \"/>\n",
       "<polyline clip-path=\"url(#clip9402)\" style=\"stroke:#000000; stroke-width:2; stroke-opacity:0.1; fill:none\" points=\"\n",
       "  202.373,1425.62 2352.76,1425.62 \n",
       "  \"/>\n",
       "<polyline clip-path=\"url(#clip9402)\" style=\"stroke:#000000; stroke-width:2; stroke-opacity:0.1; fill:none\" points=\"\n",
       "  202.373,1195.89 2352.76,1195.89 \n",
       "  \"/>\n",
       "<polyline clip-path=\"url(#clip9402)\" style=\"stroke:#000000; stroke-width:2; stroke-opacity:0.1; fill:none\" points=\"\n",
       "  202.373,966.16 2352.76,966.16 \n",
       "  \"/>\n",
       "<polyline clip-path=\"url(#clip9402)\" style=\"stroke:#000000; stroke-width:2; stroke-opacity:0.1; fill:none\" points=\"\n",
       "  202.373,736.431 2352.76,736.431 \n",
       "  \"/>\n",
       "<polyline clip-path=\"url(#clip9402)\" style=\"stroke:#000000; stroke-width:2; stroke-opacity:0.1; fill:none\" points=\"\n",
       "  202.373,506.702 2352.76,506.702 \n",
       "  \"/>\n",
       "<polyline clip-path=\"url(#clip9402)\" style=\"stroke:#000000; stroke-width:2; stroke-opacity:0.1; fill:none\" points=\"\n",
       "  202.373,276.973 2352.76,276.973 \n",
       "  \"/>\n",
       "<polyline clip-path=\"url(#clip9402)\" style=\"stroke:#000000; stroke-width:2; stroke-opacity:0.1; fill:none\" points=\"\n",
       "  202.373,47.2441 2352.76,47.2441 \n",
       "  \"/>\n",
       "<polyline clip-path=\"url(#clip9400)\" style=\"stroke:#000000; stroke-width:4; stroke-opacity:1; fill:none\" points=\"\n",
       "  202.373,1425.62 2352.76,1425.62 \n",
       "  \"/>\n",
       "<polyline clip-path=\"url(#clip9400)\" style=\"stroke:#000000; stroke-width:4; stroke-opacity:1; fill:none\" points=\"\n",
       "  202.373,1425.62 202.373,47.2441 \n",
       "  \"/>\n",
       "<polyline clip-path=\"url(#clip9400)\" style=\"stroke:#000000; stroke-width:4; stroke-opacity:1; fill:none\" points=\"\n",
       "  202.373,1425.62 202.373,1409.08 \n",
       "  \"/>\n",
       "<polyline clip-path=\"url(#clip9400)\" style=\"stroke:#000000; stroke-width:4; stroke-opacity:1; fill:none\" points=\"\n",
       "  739.969,1425.62 739.969,1409.08 \n",
       "  \"/>\n",
       "<polyline clip-path=\"url(#clip9400)\" style=\"stroke:#000000; stroke-width:4; stroke-opacity:1; fill:none\" points=\"\n",
       "  1277.56,1425.62 1277.56,1409.08 \n",
       "  \"/>\n",
       "<polyline clip-path=\"url(#clip9400)\" style=\"stroke:#000000; stroke-width:4; stroke-opacity:1; fill:none\" points=\"\n",
       "  1815.16,1425.62 1815.16,1409.08 \n",
       "  \"/>\n",
       "<polyline clip-path=\"url(#clip9400)\" style=\"stroke:#000000; stroke-width:4; stroke-opacity:1; fill:none\" points=\"\n",
       "  2352.76,1425.62 2352.76,1409.08 \n",
       "  \"/>\n",
       "<polyline clip-path=\"url(#clip9400)\" style=\"stroke:#000000; stroke-width:4; stroke-opacity:1; fill:none\" points=\"\n",
       "  202.373,1425.62 228.178,1425.62 \n",
       "  \"/>\n",
       "<polyline clip-path=\"url(#clip9400)\" style=\"stroke:#000000; stroke-width:4; stroke-opacity:1; fill:none\" points=\"\n",
       "  202.373,1195.89 228.178,1195.89 \n",
       "  \"/>\n",
       "<polyline clip-path=\"url(#clip9400)\" style=\"stroke:#000000; stroke-width:4; stroke-opacity:1; fill:none\" points=\"\n",
       "  202.373,966.16 228.178,966.16 \n",
       "  \"/>\n",
       "<polyline clip-path=\"url(#clip9400)\" style=\"stroke:#000000; stroke-width:4; stroke-opacity:1; fill:none\" points=\"\n",
       "  202.373,736.431 228.178,736.431 \n",
       "  \"/>\n",
       "<polyline clip-path=\"url(#clip9400)\" style=\"stroke:#000000; stroke-width:4; stroke-opacity:1; fill:none\" points=\"\n",
       "  202.373,506.702 228.178,506.702 \n",
       "  \"/>\n",
       "<polyline clip-path=\"url(#clip9400)\" style=\"stroke:#000000; stroke-width:4; stroke-opacity:1; fill:none\" points=\"\n",
       "  202.373,276.973 228.178,276.973 \n",
       "  \"/>\n",
       "<polyline clip-path=\"url(#clip9400)\" style=\"stroke:#000000; stroke-width:4; stroke-opacity:1; fill:none\" points=\"\n",
       "  202.373,47.2441 228.178,47.2441 \n",
       "  \"/>\n",
       "<g clip-path=\"url(#clip9400)\">\n",
       "<text style=\"fill:#000000; fill-opacity:1; font-family:Arial,Helvetica Neue,Helvetica,sans-serif; font-size:48px; text-anchor:middle;\" transform=\"rotate(0, 202.373, 1479.62)\" x=\"202.373\" y=\"1479.62\">1.0</text>\n",
       "</g>\n",
       "<g clip-path=\"url(#clip9400)\">\n",
       "<text style=\"fill:#000000; fill-opacity:1; font-family:Arial,Helvetica Neue,Helvetica,sans-serif; font-size:48px; text-anchor:middle;\" transform=\"rotate(0, 739.969, 1479.62)\" x=\"739.969\" y=\"1479.62\">1.5</text>\n",
       "</g>\n",
       "<g clip-path=\"url(#clip9400)\">\n",
       "<text style=\"fill:#000000; fill-opacity:1; font-family:Arial,Helvetica Neue,Helvetica,sans-serif; font-size:48px; text-anchor:middle;\" transform=\"rotate(0, 1277.56, 1479.62)\" x=\"1277.56\" y=\"1479.62\">2.0</text>\n",
       "</g>\n",
       "<g clip-path=\"url(#clip9400)\">\n",
       "<text style=\"fill:#000000; fill-opacity:1; font-family:Arial,Helvetica Neue,Helvetica,sans-serif; font-size:48px; text-anchor:middle;\" transform=\"rotate(0, 1815.16, 1479.62)\" x=\"1815.16\" y=\"1479.62\">2.5</text>\n",
       "</g>\n",
       "<g clip-path=\"url(#clip9400)\">\n",
       "<text style=\"fill:#000000; fill-opacity:1; font-family:Arial,Helvetica Neue,Helvetica,sans-serif; font-size:48px; text-anchor:middle;\" transform=\"rotate(0, 2352.76, 1479.62)\" x=\"2352.76\" y=\"1479.62\">3.0</text>\n",
       "</g>\n",
       "<g clip-path=\"url(#clip9400)\">\n",
       "<text style=\"fill:#000000; fill-opacity:1; font-family:Arial,Helvetica Neue,Helvetica,sans-serif; font-size:48px; text-anchor:end;\" transform=\"rotate(0, 178.373, 1443.12)\" x=\"178.373\" y=\"1443.12\">0</text>\n",
       "</g>\n",
       "<g clip-path=\"url(#clip9400)\">\n",
       "<text style=\"fill:#000000; fill-opacity:1; font-family:Arial,Helvetica Neue,Helvetica,sans-serif; font-size:48px; text-anchor:end;\" transform=\"rotate(0, 178.373, 1213.39)\" x=\"178.373\" y=\"1213.39\">2</text>\n",
       "</g>\n",
       "<g clip-path=\"url(#clip9400)\">\n",
       "<text style=\"fill:#000000; fill-opacity:1; font-family:Arial,Helvetica Neue,Helvetica,sans-serif; font-size:48px; text-anchor:end;\" transform=\"rotate(0, 178.373, 983.66)\" x=\"178.373\" y=\"983.66\">4</text>\n",
       "</g>\n",
       "<g clip-path=\"url(#clip9400)\">\n",
       "<text style=\"fill:#000000; fill-opacity:1; font-family:Arial,Helvetica Neue,Helvetica,sans-serif; font-size:48px; text-anchor:end;\" transform=\"rotate(0, 178.373, 753.931)\" x=\"178.373\" y=\"753.931\">6</text>\n",
       "</g>\n",
       "<g clip-path=\"url(#clip9400)\">\n",
       "<text style=\"fill:#000000; fill-opacity:1; font-family:Arial,Helvetica Neue,Helvetica,sans-serif; font-size:48px; text-anchor:end;\" transform=\"rotate(0, 178.373, 524.202)\" x=\"178.373\" y=\"524.202\">8</text>\n",
       "</g>\n",
       "<g clip-path=\"url(#clip9400)\">\n",
       "<text style=\"fill:#000000; fill-opacity:1; font-family:Arial,Helvetica Neue,Helvetica,sans-serif; font-size:48px; text-anchor:end;\" transform=\"rotate(0, 178.373, 294.473)\" x=\"178.373\" y=\"294.473\">10</text>\n",
       "</g>\n",
       "<g clip-path=\"url(#clip9400)\">\n",
       "<text style=\"fill:#000000; fill-opacity:1; font-family:Arial,Helvetica Neue,Helvetica,sans-serif; font-size:48px; text-anchor:end;\" transform=\"rotate(0, 178.373, 64.7441)\" x=\"178.373\" y=\"64.7441\">12</text>\n",
       "</g>\n",
       "<g clip-path=\"url(#clip9400)\">\n",
       "<text style=\"fill:#000000; fill-opacity:1; font-family:Arial,Helvetica Neue,Helvetica,sans-serif; font-size:66px; text-anchor:middle;\" transform=\"rotate(0, 1277.56, 1559.48)\" x=\"1277.56\" y=\"1559.48\">Mach number</text>\n",
       "</g>\n",
       "<g clip-path=\"url(#clip9400)\">\n",
       "<text style=\"fill:#000000; fill-opacity:1; font-family:Arial,Helvetica Neue,Helvetica,sans-serif; font-size:66px; text-anchor:middle;\" transform=\"rotate(-90, 89.2861, 736.431)\" x=\"89.2861\" y=\"736.431\">Entropy increase (J/kgK)</text>\n",
       "</g>\n",
       "<polyline clip-path=\"url(#clip9402)\" style=\"stroke:#009af9; stroke-width:4; stroke-opacity:1; fill:none\" points=\"\n",
       "  202.373,1425.62 223.877,1425.29 245.381,1423.09 266.884,1417.4 288.388,1406.85 309.892,1390.26 331.396,1366.66 352.9,1335.2 374.404,1295.21 395.907,1246.08 \n",
       "  417.411,1187.35 438.915,1118.63 460.419,1039.6 481.923,950.026 503.427,849.715 524.93,738.537 546.434,616.403 567.938,483.263 589.442,339.103 610.946,183.94 \n",
       "  632.45,17.814 653.953,-159.209 675.457,-347.044 696.961,-545.588 718.465,-754.725 739.969,-974.324 761.472,-1204.24 782.976,-1444.33 804.48,-1694.43 825.984,-1954.37 \n",
       "  847.488,-2223.99 868.992,-2503.1 890.495,-2791.53 911.999,-3089.09 933.503,-3395.59 955.007,-3710.86 976.511,-4034.7 998.015,-4366.92 1019.52,-4707.33 1041.02,-5055.75 \n",
       "  1062.53,-5411.99 1084.03,-5775.86 1105.53,-6147.17 1127.04,-6525.74 1148.54,-6911.39 1170.05,-7303.93 1191.55,-7703.19 1213.05,-8108.99 1234.56,-8521.16 1256.06,-8939.52 \n",
       "  1277.56,-9363.9 1299.07,-9794.14 1320.57,-10230.1 1342.08,-10671.5 1363.58,-11118.4 1385.08,-11570.4 1406.59,-12027.5 1428.09,-12489.5 1449.6,-12956.3 1471.1,-13427.7 \n",
       "  1492.6,-13903.6 1514.11,-14383.8 1535.61,-14868.2 1557.11,-15356.6 1578.62,-15849 1600.12,-16345.2 1621.63,-16845.1 1643.13,-17348.5 1664.63,-17855.3 1686.14,-18365.5 \n",
       "  1707.64,-18878.9 1729.14,-19395.3 1750.65,-19914.7 1772.15,-20437 1793.66,-20962.1 1815.16,-21489.8 1836.66,-22020 1858.17,-22552.8 1879.67,-23087.8 1901.18,-23625.2 \n",
       "  1922.68,-24164.7 1944.18,-24706.3 1965.69,-25249.9 1987.19,-25795.5 2008.69,-26342.8 2030.2,-26891.9 2051.7,-27442.7 2073.21,-27995 2094.71,-28548.9 2116.21,-29104.2 \n",
       "  2137.72,-29660.9 2159.22,-30218.9 2180.73,-30778.1 2202.23,-31338.5 2223.73,-31900 2245.24,-32462.5 2266.74,-33026 2288.24,-33590.4 2309.75,-34155.7 2331.25,-34721.7 \n",
       "  2352.76,-35288.5 \n",
       "  \"/>\n",
       "<path clip-path=\"url(#clip9400)\" d=\"\n",
       "M1989.93 251.724 L2280.76 251.724 L2280.76 130.764 L1989.93 130.764  Z\n",
       "  \" fill=\"#ffffff\" fill-rule=\"evenodd\" fill-opacity=\"1\"/>\n",
       "<polyline clip-path=\"url(#clip9400)\" style=\"stroke:#000000; stroke-width:4; stroke-opacity:1; fill:none\" points=\"\n",
       "  1989.93,251.724 2280.76,251.724 2280.76,130.764 1989.93,130.764 1989.93,251.724 \n",
       "  \"/>\n",
       "<polyline clip-path=\"url(#clip9400)\" style=\"stroke:#009af9; stroke-width:4; stroke-opacity:1; fill:none\" points=\"\n",
       "  2013.93,191.244 2157.93,191.244 \n",
       "  \"/>\n",
       "<g clip-path=\"url(#clip9400)\">\n",
       "<text style=\"fill:#000000; fill-opacity:1; font-family:Arial,Helvetica Neue,Helvetica,sans-serif; font-size:48px; text-anchor:start;\" transform=\"rotate(0, 2181.93, 208.744)\" x=\"2181.93\" y=\"208.744\">y1</text>\n",
       "</g>\n",
       "</svg>\n"
      ]
     },
     "execution_count": 66,
     "metadata": {},
     "output_type": "execute_result"
    }
   ],
   "source": [
    "plot(M1,s2,xlim=(1,3),ylim=(0,12),xlabel=\"Mach number\",ylabel=\"Entropy increase (J/kgK)\")"
   ]
  },
  {
   "cell_type": "markdown",
   "metadata": {},
   "source": [
    "### Example 8.6 in Wilcox\n",
    "For air entering a shock at Mach number 3, 1 atm, and 50 degrees F, what is the Mach number, pressure, and temperature on the other side of the shock?"
   ]
  },
  {
   "cell_type": "code",
   "execution_count": 67,
   "metadata": {},
   "outputs": [
    {
     "data": {
      "text/plain": [
       "Temperature = 283.15 Kelvin"
      ]
     },
     "execution_count": 67,
     "metadata": {},
     "output_type": "execute_result"
    }
   ],
   "source": [
    "p1 = Pressure(1,units=atm)\n",
    "M1 = MachNumber(3)\n",
    "T1 = Temperature(50,units=F)"
   ]
  },
  {
   "cell_type": "markdown",
   "metadata": {},
   "source": [
    "Mach number exiting the shock is"
   ]
  },
  {
   "cell_type": "code",
   "execution_count": 68,
   "metadata": {},
   "outputs": [
    {
     "data": {
      "text/plain": [
       "MachNumber = 0.475191 "
      ]
     },
     "execution_count": 68,
     "metadata": {},
     "output_type": "execute_result"
    }
   ],
   "source": [
    "MachNumber(M1,NormalShock)"
   ]
  },
  {
   "cell_type": "markdown",
   "metadata": {},
   "source": [
    "Pressure exiting the shock (in atm) is"
   ]
  },
  {
   "cell_type": "code",
   "execution_count": 69,
   "metadata": {},
   "outputs": [
    {
     "data": {
      "text/plain": [
       "10.333333333333334"
      ]
     },
     "execution_count": 69,
     "metadata": {},
     "output_type": "execute_result"
    }
   ],
   "source": [
    "p2 = Pressure(p1*PressureRatio(M1,NormalShock))\n",
    "value(p2,atm)"
   ]
  },
  {
   "cell_type": "markdown",
   "metadata": {},
   "source": [
    "and the temperature exiting the shock (in F) is"
   ]
  },
  {
   "cell_type": "code",
   "execution_count": 70,
   "metadata": {},
   "outputs": [
    {
     "data": {
      "text/plain": [
       "905.7422222222218"
      ]
     },
     "execution_count": 70,
     "metadata": {},
     "output_type": "execute_result"
    }
   ],
   "source": [
    "T2 = Temperature(T1*TemperatureRatio(M1,NormalShock))\n",
    "value(T2,F)"
   ]
  },
  {
   "cell_type": "markdown",
   "metadata": {},
   "source": [
    "### Example 8.9 in Wilcox\n",
    "A blow-down supersonic windtunnel is supplied with air from a large reservoir. A Pitot tube is placed at the exit plane of a converging-diverging nozzle. The test section lies at the end of the diverging section. The Mach number in the test section (M2) is 2 and the pressure is below atmospheric, so a shock is formed at the exit. The pressure just after the shock (p3) is 14.7 psi. Find the pressure in the reservoir (p01), the pressure in the throat (pth), the Mach number just after the shock (M3), the pressure at the Pitot tube (p4), and the temperature at the Pitot tube (T4)."
   ]
  },
  {
   "cell_type": "code",
   "execution_count": 71,
   "metadata": {},
   "outputs": [
    {
     "data": {
      "text/plain": [
       "Pressure = 101353.0 Pascals"
      ]
     },
     "execution_count": 71,
     "metadata": {},
     "output_type": "execute_result"
    }
   ],
   "source": [
    "M2 = MachNumber(2)\n",
    "p3 = Pressure(14.7,units=psi)"
   ]
  },
  {
   "cell_type": "markdown",
   "metadata": {},
   "source": [
    "First, let's find the pressure just before the shock and the Mach number just after the shock"
   ]
  },
  {
   "cell_type": "code",
   "execution_count": 72,
   "metadata": {},
   "outputs": [
    {
     "data": {
      "text/plain": [
       "MachNumber = 0.57735 "
      ]
     },
     "execution_count": 72,
     "metadata": {},
     "output_type": "execute_result"
    }
   ],
   "source": [
    "# p3/p2\n",
    "pratio = PressureRatio(M2,NormalShock)\n",
    "\n",
    "# p03/p02\n",
    "p0ratio = StagnationPressureRatio(M2,NormalShock)\n",
    "\n",
    "# M3\n",
    "M3 = MachNumber(M2,NormalShock)"
   ]
  },
  {
   "cell_type": "markdown",
   "metadata": {},
   "source": [
    "We can now calculate the pressure just before the shock"
   ]
  },
  {
   "cell_type": "code",
   "execution_count": 73,
   "metadata": {},
   "outputs": [
    {
     "data": {
      "text/plain": [
       "Pressure = 22522.9 Pascals"
      ]
     },
     "execution_count": 73,
     "metadata": {},
     "output_type": "execute_result"
    }
   ],
   "source": [
    "p2 = Pressure(p3/pratio)"
   ]
  },
  {
   "cell_type": "markdown",
   "metadata": {},
   "source": [
    "Now, let's find the conditions in the throat and reservoir, based on what we have been given here. We can immediately find the stagnation pressure upstream of the shock. This is the same as the reservoir pressure. "
   ]
  },
  {
   "cell_type": "code",
   "execution_count": 74,
   "metadata": {},
   "outputs": [
    {
     "data": {
      "text/plain": [
       "StagnationPressure = 176229.0 Pascals"
      ]
     },
     "execution_count": 74,
     "metadata": {},
     "output_type": "execute_result"
    }
   ],
   "source": [
    "p02 = StagnationPressure(p2,M2)\n",
    "p01 = p02"
   ]
  },
  {
   "cell_type": "markdown",
   "metadata": {},
   "source": [
    "We know that the throat is choked. It must be, because the flow is subsonic before and supersonic after the throat. Therefore, Mth is 1, and we can get the local pressure (pth) from knowing the stagnation pressure and Mach number there:"
   ]
  },
  {
   "cell_type": "code",
   "execution_count": 75,
   "metadata": {},
   "outputs": [
    {
     "data": {
      "text/plain": [
       "Pressure = 93098.6 Pascals"
      ]
     },
     "execution_count": 75,
     "metadata": {},
     "output_type": "execute_result"
    }
   ],
   "source": [
    "Mth = MachNumber(1)\n",
    "p0th = p02\n",
    "pth = Pressure(p0th,Mth)"
   ]
  },
  {
   "cell_type": "markdown",
   "metadata": {},
   "source": [
    "Now we can calculate the conditions at the Pitot tube at the exit. At the nose of the Pitot tube, the flow stagnates. Thus, the pressure and temperature are equal to the stagnation values. The stagnation pressure at the exit is the same as the stagnation pressure at point 3 (just after the shock):"
   ]
  },
  {
   "cell_type": "code",
   "execution_count": 76,
   "metadata": {},
   "outputs": [
    {
     "data": {
      "text/plain": [
       "Pressure = 127039.0 Pascals"
      ]
     },
     "execution_count": 76,
     "metadata": {},
     "output_type": "execute_result"
    }
   ],
   "source": [
    "p03 = Pressure(p0ratio*p02)"
   ]
  },
  {
   "cell_type": "code",
   "execution_count": 77,
   "metadata": {},
   "outputs": [
    {
     "data": {
      "text/plain": [
       "18.425439988556167"
      ]
     },
     "execution_count": 77,
     "metadata": {},
     "output_type": "execute_result"
    }
   ],
   "source": [
    "value(p03,psi)"
   ]
  },
  {
   "cell_type": "code",
   "execution_count": null,
   "metadata": {},
   "outputs": [],
   "source": []
  }
 ],
 "metadata": {
  "kernelspec": {
   "display_name": "Julia 1.2.0",
   "language": "julia",
   "name": "julia-1.2"
  },
  "language_info": {
   "file_extension": ".jl",
   "mimetype": "application/julia",
   "name": "julia",
   "version": "1.2.0"
  }
 },
 "nbformat": 4,
 "nbformat_minor": 2
}
