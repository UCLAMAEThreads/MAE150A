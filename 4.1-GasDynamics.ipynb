{
 "cells": [
  {
   "cell_type": "markdown",
   "metadata": {},
   "source": [
    "<img src=\"logo_UCLA_blue_boxed.svg\" alt=\"ucla logo\" width=\"150\" align=\"left\"/>"
   ]
  },
  {
   "cell_type": "markdown",
   "metadata": {},
   "source": [
    "### **MAE 150A - Intermediate Fluid Mechanics**\n",
    "\n",
    "<hr />"
   ]
  },
  {
   "cell_type": "markdown",
   "metadata": {},
   "source": [
    "# Quasi-1D Steady Compressible Flow\n",
    "This notebook demonstrates the use of some tools for computing states and processes in quasi-1d steady compressible flow."
   ]
  },
  {
   "cell_type": "code",
   "execution_count": 1,
   "metadata": {},
   "outputs": [],
   "source": [
    "include(\"src/gasdynamics.jl\")"
   ]
  },
  {
   "cell_type": "code",
   "execution_count": 2,
   "metadata": {},
   "outputs": [],
   "source": [
    "using Plots"
   ]
  },
  {
   "cell_type": "markdown",
   "metadata": {},
   "source": [
    "### Setting basic properties and states"
   ]
  },
  {
   "cell_type": "markdown",
   "metadata": {},
   "source": [
    "We can set thermodynamic properties and states in a straightforward manner."
   ]
  },
  {
   "cell_type": "markdown",
   "metadata": {},
   "source": [
    "#### Units\n",
    "When we set a thermodynamic quantity, we also need to set its units. For every quantity, we have a few units to choose from. For example:"
   ]
  },
  {
   "cell_type": "code",
   "execution_count": 3,
   "metadata": {},
   "outputs": [
    {
     "data": {
      "text/plain": [
       "Union{KPa, Pa, Pascals, atm, psi}"
      ]
     },
     "execution_count": 3,
     "metadata": {},
     "output_type": "execute_result"
    }
   ],
   "source": [
    "PressureUnits"
   ]
  },
  {
   "cell_type": "markdown",
   "metadata": {},
   "source": [
    "Among these, one is designated the default unit. All quantities are converted to this unit for calculation purposes. For example, for pressure:"
   ]
  },
  {
   "cell_type": "code",
   "execution_count": 4,
   "metadata": {},
   "outputs": [
    {
     "data": {
      "text/plain": [
       "Pascals"
      ]
     },
     "execution_count": 4,
     "metadata": {},
     "output_type": "execute_result"
    }
   ],
   "source": [
    "default_unit(PressureUnits)"
   ]
  },
  {
   "cell_type": "markdown",
   "metadata": {},
   "source": [
    "If we do not specify the unit, it is automatically set to the default:"
   ]
  },
  {
   "cell_type": "code",
   "execution_count": 5,
   "metadata": {},
   "outputs": [
    {
     "data": {
      "text/plain": [
       "Pressure = 10000.0 Pascals"
      ]
     },
     "execution_count": 5,
     "metadata": {},
     "output_type": "execute_result"
    }
   ],
   "source": [
    "Pressure(10000)"
   ]
  },
  {
   "cell_type": "markdown",
   "metadata": {},
   "source": [
    "and if we set the pressure in another unit:"
   ]
  },
  {
   "cell_type": "code",
   "execution_count": 6,
   "metadata": {},
   "outputs": [
    {
     "data": {
      "text/plain": [
       "Pressure = 101325.0 Pascals"
      ]
     },
     "execution_count": 6,
     "metadata": {},
     "output_type": "execute_result"
    }
   ],
   "source": [
    "p = Pressure(1,units=atm)"
   ]
  },
  {
   "cell_type": "markdown",
   "metadata": {},
   "source": [
    "However, we can always convert the quantity to some desired units with the `value` function:"
   ]
  },
  {
   "cell_type": "code",
   "execution_count": 7,
   "metadata": {},
   "outputs": [
    {
     "data": {
      "text/plain": [
       "1.0"
      ]
     },
     "execution_count": 7,
     "metadata": {},
     "output_type": "execute_result"
    }
   ],
   "source": [
    "value(p,atm)"
   ]
  },
  {
   "cell_type": "code",
   "execution_count": 8,
   "metadata": {},
   "outputs": [
    {
     "data": {
      "text/plain": [
       "14.695943005992957"
      ]
     },
     "execution_count": 8,
     "metadata": {},
     "output_type": "execute_result"
    }
   ],
   "source": [
    "value(p,psi)"
   ]
  },
  {
   "cell_type": "code",
   "execution_count": 9,
   "metadata": {},
   "outputs": [
    {
     "data": {
      "text/plain": [
       "101.325"
      ]
     },
     "execution_count": 9,
     "metadata": {},
     "output_type": "execute_result"
    }
   ],
   "source": [
    "value(p,KPa)"
   ]
  },
  {
   "cell_type": "markdown",
   "metadata": {},
   "source": [
    "#### Other thermodynamic quantities\n",
    "We can set most any other thermodynamic quantity in similar fashion:"
   ]
  },
  {
   "cell_type": "code",
   "execution_count": 10,
   "metadata": {},
   "outputs": [
    {
     "data": {
      "text/plain": [
       "Temperature = 293.15 Kelvin"
      ]
     },
     "execution_count": 10,
     "metadata": {},
     "output_type": "execute_result"
    }
   ],
   "source": [
    "T = Temperature(20,units=Celsius)"
   ]
  },
  {
   "cell_type": "code",
   "execution_count": 11,
   "metadata": {},
   "outputs": [
    {
     "data": {
      "text/plain": [
       "StagnationTemperature = 20.0 Kelvin"
      ]
     },
     "execution_count": 11,
     "metadata": {},
     "output_type": "execute_result"
    }
   ],
   "source": [
    "T0 = StagnationTemperature(20)"
   ]
  },
  {
   "cell_type": "code",
   "execution_count": 12,
   "metadata": {},
   "outputs": [
    {
     "data": {
      "text/plain": [
       "MachNumber = 2.0 "
      ]
     },
     "execution_count": 12,
     "metadata": {},
     "output_type": "execute_result"
    }
   ],
   "source": [
    "MachNumber(2.0)"
   ]
  },
  {
   "cell_type": "code",
   "execution_count": 13,
   "metadata": {},
   "outputs": [
    {
     "data": {
      "text/plain": [
       "Enthalpy = 50.0 JPerKG"
      ]
     },
     "execution_count": 13,
     "metadata": {},
     "output_type": "execute_result"
    }
   ],
   "source": [
    "Enthalpy(50)"
   ]
  },
  {
   "cell_type": "code",
   "execution_count": 14,
   "metadata": {},
   "outputs": [
    {
     "data": {
      "text/plain": [
       "Entropy = 10.0 JPerKGK"
      ]
     },
     "execution_count": 14,
     "metadata": {},
     "output_type": "execute_result"
    }
   ],
   "source": [
    "Entropy(10)"
   ]
  },
  {
   "cell_type": "markdown",
   "metadata": {},
   "source": [
    "and others..."
   ]
  },
  {
   "cell_type": "markdown",
   "metadata": {},
   "source": [
    "#### Gas properties\n",
    "We can set the properties of the gas. (It is assumed that the gas is perfect.)"
   ]
  },
  {
   "cell_type": "code",
   "execution_count": 15,
   "metadata": {},
   "outputs": [
    {
     "data": {
      "text/plain": [
       "SpecificHeatRatio = 1.3 "
      ]
     },
     "execution_count": 15,
     "metadata": {},
     "output_type": "execute_result"
    }
   ],
   "source": [
    "SpecificHeatRatio(1.3)"
   ]
  },
  {
   "cell_type": "code",
   "execution_count": 16,
   "metadata": {},
   "outputs": [
    {
     "data": {
      "text/plain": [
       "GasConstant = 320.0 JPerKGK"
      ]
     },
     "execution_count": 16,
     "metadata": {},
     "output_type": "execute_result"
    }
   ],
   "source": [
    "GasConstant(320)"
   ]
  },
  {
   "cell_type": "markdown",
   "metadata": {},
   "source": [
    "and define a gas with these values:"
   ]
  },
  {
   "cell_type": "code",
   "execution_count": 17,
   "metadata": {},
   "outputs": [
    {
     "data": {
      "text/plain": [
       "Perfect gas with\n",
       "   Specific heat ratio = 1.3\n",
       "   Gas constant = 320.0\n",
       "   cp = 1386.67\n",
       "   cv = 1066.67\n"
      ]
     },
     "execution_count": 17,
     "metadata": {},
     "output_type": "execute_result"
    }
   ],
   "source": [
    "gas = PerfectGas(γ=SpecificHeatRatio(1.3),R=GasConstant(320))"
   ]
  },
  {
   "cell_type": "markdown",
   "metadata": {},
   "source": [
    "We have **pre-defined gases** (at standard conditions), as well:"
   ]
  },
  {
   "cell_type": "code",
   "execution_count": 18,
   "metadata": {},
   "outputs": [
    {
     "data": {
      "text/plain": [
       "Perfect gas with\n",
       "   Specific heat ratio = 1.4\n",
       "   Gas constant = 287.0\n",
       "   cp = 1004.5\n",
       "   cv = 717.5\n"
      ]
     },
     "execution_count": 18,
     "metadata": {},
     "output_type": "execute_result"
    }
   ],
   "source": [
    "Air"
   ]
  },
  {
   "cell_type": "code",
   "execution_count": 19,
   "metadata": {},
   "outputs": [
    {
     "data": {
      "text/plain": [
       "Perfect gas with\n",
       "   Specific heat ratio = 1.66667\n",
       "   Gas constant = 2077.0\n",
       "   cp = 5192.5\n",
       "   cv = 3115.5\n"
      ]
     },
     "execution_count": 19,
     "metadata": {},
     "output_type": "execute_result"
    }
   ],
   "source": [
    "He"
   ]
  },
  {
   "cell_type": "markdown",
   "metadata": {},
   "source": [
    "#### Equations of state\n",
    "We can apply the equation of state for a perfect gas to determine other quantities. For example, suppose we have carbon dioxide at 1.2 kg/m^3 and 80 KPa. What is the temperature?"
   ]
  },
  {
   "cell_type": "code",
   "execution_count": 20,
   "metadata": {},
   "outputs": [
    {
     "data": {
      "text/plain": [
       "Temperature = 352.734 Kelvin"
      ]
     },
     "execution_count": 20,
     "metadata": {},
     "output_type": "execute_result"
    }
   ],
   "source": [
    "T = Temperature(Density(1.2),Pressure(80,units=KPa),gas=CO2)"
   ]
  },
  {
   "cell_type": "code",
   "execution_count": 21,
   "metadata": {},
   "outputs": [
    {
     "data": {
      "text/plain": [
       "Enthalpy = 354321.0 JPerKG"
      ]
     },
     "execution_count": 21,
     "metadata": {},
     "output_type": "execute_result"
    }
   ],
   "source": [
    "Enthalpy(T)"
   ]
  },
  {
   "cell_type": "markdown",
   "metadata": {},
   "source": [
    "What is the speed of sound of air at 20 degrees Celsius?"
   ]
  },
  {
   "cell_type": "code",
   "execution_count": 22,
   "metadata": {},
   "outputs": [
    {
     "data": {
      "text/plain": [
       "SoundSpeed = 343.202 MPerSec"
      ]
     },
     "execution_count": 22,
     "metadata": {},
     "output_type": "execute_result"
    }
   ],
   "source": [
    "SoundSpeed(Temperature(20,units=C),gas=Air)"
   ]
  },
  {
   "cell_type": "markdown",
   "metadata": {},
   "source": [
    "**Note: the default gas is air. So if you do not put the `gas=` argument in, it will assume air at standard conditions.**"
   ]
  },
  {
   "cell_type": "markdown",
   "metadata": {},
   "source": [
    "### Using isentropic relations\n",
    "Let us apply some basic isentropic relations. For example, let's find the temperature ratio in Helium that results from a pressure ratio of 1.2. Note that we specify the argument `Isentropic`:"
   ]
  },
  {
   "cell_type": "code",
   "execution_count": 23,
   "metadata": {},
   "outputs": [
    {
     "data": {
      "text/plain": [
       "TemperatureRatio = 1.07565 "
      ]
     },
     "execution_count": 23,
     "metadata": {},
     "output_type": "execute_result"
    }
   ],
   "source": [
    "TemperatureRatio(PressureRatio(1.2),Isentropic,gas=He)"
   ]
  },
  {
   "cell_type": "markdown",
   "metadata": {},
   "source": [
    "What are the subsonic and supersonic Mach numbers associated with an area ratio $A/A_*$ of 2?"
   ]
  },
  {
   "cell_type": "code",
   "execution_count": 24,
   "metadata": {},
   "outputs": [],
   "source": [
    "M1, M2 = MachNumber(AreaRatio(2));"
   ]
  },
  {
   "cell_type": "code",
   "execution_count": 25,
   "metadata": {},
   "outputs": [
    {
     "data": {
      "text/plain": [
       "MachNumber = 0.305904 "
      ]
     },
     "execution_count": 25,
     "metadata": {},
     "output_type": "execute_result"
    }
   ],
   "source": [
    "M1"
   ]
  },
  {
   "cell_type": "code",
   "execution_count": 26,
   "metadata": {},
   "outputs": [
    {
     "data": {
      "text/plain": [
       "MachNumber = 2.1972 "
      ]
     },
     "execution_count": 26,
     "metadata": {},
     "output_type": "execute_result"
    }
   ],
   "source": [
    "M2"
   ]
  },
  {
   "cell_type": "markdown",
   "metadata": {},
   "source": [
    "From another perspective: What is the local sonic reference area $A_*$ when the Mach number is 7.1 and the local area is 50 sq cm?"
   ]
  },
  {
   "cell_type": "code",
   "execution_count": 7,
   "metadata": {},
   "outputs": [
    {
     "data": {
      "text/plain": [
       "Area = 4.507e-5 SqM"
      ]
     },
     "execution_count": 7,
     "metadata": {},
     "output_type": "execute_result"
    }
   ],
   "source": [
    "AStar(Area(50,units=SqCM),MachNumber(7.1))"
   ]
  },
  {
   "cell_type": "markdown",
   "metadata": {},
   "source": [
    "If the temperature ratio $T/T_0$ is 0.2381, what is the Mach number?"
   ]
  },
  {
   "cell_type": "code",
   "execution_count": 27,
   "metadata": {},
   "outputs": [
    {
     "data": {
      "text/plain": [
       "MachNumber = 3.99995 "
      ]
     },
     "execution_count": 27,
     "metadata": {},
     "output_type": "execute_result"
    }
   ],
   "source": [
    "MachNumber(TemperatureRatio(0.2381))"
   ]
  },
  {
   "cell_type": "markdown",
   "metadata": {},
   "source": [
    "If the Mach number is 4.4 and stagnation pressure is 800 KPa, what is the pressure?"
   ]
  },
  {
   "cell_type": "code",
   "execution_count": 28,
   "metadata": {},
   "outputs": [
    {
     "data": {
      "text/plain": [
       "Pressure = 3134.11 Pascals"
      ]
     },
     "execution_count": 28,
     "metadata": {},
     "output_type": "execute_result"
    }
   ],
   "source": [
    "Pressure(StagnationPressure(800,units=KPa),MachNumber(4.4))"
   ]
  },
  {
   "cell_type": "markdown",
   "metadata": {},
   "source": [
    "If the Mach number and area at location 1 are 0.4 and 50 sq cm, respectively, then what are the possible Mach numbers (in choked isentropic conditions) where the area is 60 sq cm?"
   ]
  },
  {
   "cell_type": "code",
   "execution_count": 48,
   "metadata": {},
   "outputs": [],
   "source": [
    "M2sub, M2sup = MachNumber(MachNumber(0.4),Area(50,units=SqCM),Area(60,units=SqCM),gas=Air);"
   ]
  },
  {
   "cell_type": "code",
   "execution_count": 49,
   "metadata": {},
   "outputs": [
    {
     "data": {
      "text/plain": [
       "MachNumber = 0.322613 "
      ]
     },
     "execution_count": 49,
     "metadata": {},
     "output_type": "execute_result"
    }
   ],
   "source": [
    "M2sub"
   ]
  },
  {
   "cell_type": "code",
   "execution_count": 50,
   "metadata": {},
   "outputs": [
    {
     "data": {
      "text/plain": [
       "MachNumber = 2.1438 "
      ]
     },
     "execution_count": 50,
     "metadata": {},
     "output_type": "execute_result"
    }
   ],
   "source": [
    "M2sup"
   ]
  },
  {
   "cell_type": "markdown",
   "metadata": {},
   "source": [
    "Let's plot the area ratio $A/A_*$ for all possible Mach numbers:"
   ]
  },
  {
   "cell_type": "code",
   "execution_count": 52,
   "metadata": {},
   "outputs": [],
   "source": [
    "Mrange = range(0,6,length=601)\n",
    "Aratio = []\n",
    "for M in Mrange\n",
    "    push!(Aratio,value(AOverAStar(MachNumber(M))))\n",
    "end"
   ]
  },
  {
   "cell_type": "code",
   "execution_count": 54,
   "metadata": {},
   "outputs": [
    {
     "data": {
      "image/svg+xml": [
       "<?xml version=\"1.0\" encoding=\"utf-8\"?>\n",
       "<svg xmlns=\"http://www.w3.org/2000/svg\" xmlns:xlink=\"http://www.w3.org/1999/xlink\" width=\"600\" height=\"400\" viewBox=\"0 0 2400 1600\">\n",
       "<defs>\n",
       "  <clipPath id=\"clip7400\">\n",
       "    <rect x=\"0\" y=\"0\" width=\"2400\" height=\"1600\"/>\n",
       "  </clipPath>\n",
       "</defs>\n",
       "<path clip-path=\"url(#clip7400)\" d=\"\n",
       "M0 1600 L2400 1600 L2400 0 L0 0  Z\n",
       "  \" fill=\"#ffffff\" fill-rule=\"evenodd\" fill-opacity=\"1\"/>\n",
       "<defs>\n",
       "  <clipPath id=\"clip7401\">\n",
       "    <rect x=\"480\" y=\"0\" width=\"1681\" height=\"1600\"/>\n",
       "  </clipPath>\n",
       "</defs>\n",
       "<path clip-path=\"url(#clip7400)\" d=\"\n",
       "M202.373 1425.62 L2352.76 1425.62 L2352.76 47.2441 L202.373 47.2441  Z\n",
       "  \" fill=\"#ffffff\" fill-rule=\"evenodd\" fill-opacity=\"1\"/>\n",
       "<defs>\n",
       "  <clipPath id=\"clip7402\">\n",
       "    <rect x=\"202\" y=\"47\" width=\"2151\" height=\"1379\"/>\n",
       "  </clipPath>\n",
       "</defs>\n",
       "<polyline clip-path=\"url(#clip7402)\" style=\"stroke:#000000; stroke-width:2; stroke-opacity:0.1; fill:none\" points=\"\n",
       "  202.373,1425.62 202.373,47.2441 \n",
       "  \"/>\n",
       "<polyline clip-path=\"url(#clip7402)\" style=\"stroke:#000000; stroke-width:2; stroke-opacity:0.1; fill:none\" points=\"\n",
       "  739.969,1425.62 739.969,47.2441 \n",
       "  \"/>\n",
       "<polyline clip-path=\"url(#clip7402)\" style=\"stroke:#000000; stroke-width:2; stroke-opacity:0.1; fill:none\" points=\"\n",
       "  1277.56,1425.62 1277.56,47.2441 \n",
       "  \"/>\n",
       "<polyline clip-path=\"url(#clip7402)\" style=\"stroke:#000000; stroke-width:2; stroke-opacity:0.1; fill:none\" points=\"\n",
       "  1815.16,1425.62 1815.16,47.2441 \n",
       "  \"/>\n",
       "<polyline clip-path=\"url(#clip7402)\" style=\"stroke:#000000; stroke-width:2; stroke-opacity:0.1; fill:none\" points=\"\n",
       "  2352.76,1425.62 2352.76,47.2441 \n",
       "  \"/>\n",
       "<polyline clip-path=\"url(#clip7402)\" style=\"stroke:#000000; stroke-width:2; stroke-opacity:0.1; fill:none\" points=\"\n",
       "  202.373,1425.62 2352.76,1425.62 \n",
       "  \"/>\n",
       "<polyline clip-path=\"url(#clip7402)\" style=\"stroke:#000000; stroke-width:2; stroke-opacity:0.1; fill:none\" points=\"\n",
       "  202.373,1195.89 2352.76,1195.89 \n",
       "  \"/>\n",
       "<polyline clip-path=\"url(#clip7402)\" style=\"stroke:#000000; stroke-width:2; stroke-opacity:0.1; fill:none\" points=\"\n",
       "  202.373,966.16 2352.76,966.16 \n",
       "  \"/>\n",
       "<polyline clip-path=\"url(#clip7402)\" style=\"stroke:#000000; stroke-width:2; stroke-opacity:0.1; fill:none\" points=\"\n",
       "  202.373,736.431 2352.76,736.431 \n",
       "  \"/>\n",
       "<polyline clip-path=\"url(#clip7402)\" style=\"stroke:#000000; stroke-width:2; stroke-opacity:0.1; fill:none\" points=\"\n",
       "  202.373,506.702 2352.76,506.702 \n",
       "  \"/>\n",
       "<polyline clip-path=\"url(#clip7402)\" style=\"stroke:#000000; stroke-width:2; stroke-opacity:0.1; fill:none\" points=\"\n",
       "  202.373,276.973 2352.76,276.973 \n",
       "  \"/>\n",
       "<polyline clip-path=\"url(#clip7402)\" style=\"stroke:#000000; stroke-width:2; stroke-opacity:0.1; fill:none\" points=\"\n",
       "  202.373,47.2441 2352.76,47.2441 \n",
       "  \"/>\n",
       "<polyline clip-path=\"url(#clip7400)\" style=\"stroke:#000000; stroke-width:4; stroke-opacity:1; fill:none\" points=\"\n",
       "  202.373,1425.62 2352.76,1425.62 \n",
       "  \"/>\n",
       "<polyline clip-path=\"url(#clip7400)\" style=\"stroke:#000000; stroke-width:4; stroke-opacity:1; fill:none\" points=\"\n",
       "  202.373,1425.62 202.373,47.2441 \n",
       "  \"/>\n",
       "<polyline clip-path=\"url(#clip7400)\" style=\"stroke:#000000; stroke-width:4; stroke-opacity:1; fill:none\" points=\"\n",
       "  202.373,1425.62 202.373,1409.08 \n",
       "  \"/>\n",
       "<polyline clip-path=\"url(#clip7400)\" style=\"stroke:#000000; stroke-width:4; stroke-opacity:1; fill:none\" points=\"\n",
       "  739.969,1425.62 739.969,1409.08 \n",
       "  \"/>\n",
       "<polyline clip-path=\"url(#clip7400)\" style=\"stroke:#000000; stroke-width:4; stroke-opacity:1; fill:none\" points=\"\n",
       "  1277.56,1425.62 1277.56,1409.08 \n",
       "  \"/>\n",
       "<polyline clip-path=\"url(#clip7400)\" style=\"stroke:#000000; stroke-width:4; stroke-opacity:1; fill:none\" points=\"\n",
       "  1815.16,1425.62 1815.16,1409.08 \n",
       "  \"/>\n",
       "<polyline clip-path=\"url(#clip7400)\" style=\"stroke:#000000; stroke-width:4; stroke-opacity:1; fill:none\" points=\"\n",
       "  2352.76,1425.62 2352.76,1409.08 \n",
       "  \"/>\n",
       "<polyline clip-path=\"url(#clip7400)\" style=\"stroke:#000000; stroke-width:4; stroke-opacity:1; fill:none\" points=\"\n",
       "  202.373,1425.62 228.178,1425.62 \n",
       "  \"/>\n",
       "<polyline clip-path=\"url(#clip7400)\" style=\"stroke:#000000; stroke-width:4; stroke-opacity:1; fill:none\" points=\"\n",
       "  202.373,1195.89 228.178,1195.89 \n",
       "  \"/>\n",
       "<polyline clip-path=\"url(#clip7400)\" style=\"stroke:#000000; stroke-width:4; stroke-opacity:1; fill:none\" points=\"\n",
       "  202.373,966.16 228.178,966.16 \n",
       "  \"/>\n",
       "<polyline clip-path=\"url(#clip7400)\" style=\"stroke:#000000; stroke-width:4; stroke-opacity:1; fill:none\" points=\"\n",
       "  202.373,736.431 228.178,736.431 \n",
       "  \"/>\n",
       "<polyline clip-path=\"url(#clip7400)\" style=\"stroke:#000000; stroke-width:4; stroke-opacity:1; fill:none\" points=\"\n",
       "  202.373,506.702 228.178,506.702 \n",
       "  \"/>\n",
       "<polyline clip-path=\"url(#clip7400)\" style=\"stroke:#000000; stroke-width:4; stroke-opacity:1; fill:none\" points=\"\n",
       "  202.373,276.973 228.178,276.973 \n",
       "  \"/>\n",
       "<polyline clip-path=\"url(#clip7400)\" style=\"stroke:#000000; stroke-width:4; stroke-opacity:1; fill:none\" points=\"\n",
       "  202.373,47.2441 228.178,47.2441 \n",
       "  \"/>\n",
       "<g clip-path=\"url(#clip7400)\">\n",
       "<text style=\"fill:#000000; fill-opacity:1; font-family:Arial,Helvetica Neue,Helvetica,sans-serif; font-size:48px; text-anchor:middle;\" transform=\"rotate(0, 202.373, 1479.62)\" x=\"202.373\" y=\"1479.62\">0</text>\n",
       "</g>\n",
       "<g clip-path=\"url(#clip7400)\">\n",
       "<text style=\"fill:#000000; fill-opacity:1; font-family:Arial,Helvetica Neue,Helvetica,sans-serif; font-size:48px; text-anchor:middle;\" transform=\"rotate(0, 739.969, 1479.62)\" x=\"739.969\" y=\"1479.62\">1</text>\n",
       "</g>\n",
       "<g clip-path=\"url(#clip7400)\">\n",
       "<text style=\"fill:#000000; fill-opacity:1; font-family:Arial,Helvetica Neue,Helvetica,sans-serif; font-size:48px; text-anchor:middle;\" transform=\"rotate(0, 1277.56, 1479.62)\" x=\"1277.56\" y=\"1479.62\">2</text>\n",
       "</g>\n",
       "<g clip-path=\"url(#clip7400)\">\n",
       "<text style=\"fill:#000000; fill-opacity:1; font-family:Arial,Helvetica Neue,Helvetica,sans-serif; font-size:48px; text-anchor:middle;\" transform=\"rotate(0, 1815.16, 1479.62)\" x=\"1815.16\" y=\"1479.62\">3</text>\n",
       "</g>\n",
       "<g clip-path=\"url(#clip7400)\">\n",
       "<text style=\"fill:#000000; fill-opacity:1; font-family:Arial,Helvetica Neue,Helvetica,sans-serif; font-size:48px; text-anchor:middle;\" transform=\"rotate(0, 2352.76, 1479.62)\" x=\"2352.76\" y=\"1479.62\">4</text>\n",
       "</g>\n",
       "<g clip-path=\"url(#clip7400)\">\n",
       "<text style=\"fill:#000000; fill-opacity:1; font-family:Arial,Helvetica Neue,Helvetica,sans-serif; font-size:48px; text-anchor:end;\" transform=\"rotate(0, 178.373, 1443.12)\" x=\"178.373\" y=\"1443.12\">0</text>\n",
       "</g>\n",
       "<g clip-path=\"url(#clip7400)\">\n",
       "<text style=\"fill:#000000; fill-opacity:1; font-family:Arial,Helvetica Neue,Helvetica,sans-serif; font-size:48px; text-anchor:end;\" transform=\"rotate(0, 178.373, 1213.39)\" x=\"178.373\" y=\"1213.39\">2</text>\n",
       "</g>\n",
       "<g clip-path=\"url(#clip7400)\">\n",
       "<text style=\"fill:#000000; fill-opacity:1; font-family:Arial,Helvetica Neue,Helvetica,sans-serif; font-size:48px; text-anchor:end;\" transform=\"rotate(0, 178.373, 983.66)\" x=\"178.373\" y=\"983.66\">4</text>\n",
       "</g>\n",
       "<g clip-path=\"url(#clip7400)\">\n",
       "<text style=\"fill:#000000; fill-opacity:1; font-family:Arial,Helvetica Neue,Helvetica,sans-serif; font-size:48px; text-anchor:end;\" transform=\"rotate(0, 178.373, 753.931)\" x=\"178.373\" y=\"753.931\">6</text>\n",
       "</g>\n",
       "<g clip-path=\"url(#clip7400)\">\n",
       "<text style=\"fill:#000000; fill-opacity:1; font-family:Arial,Helvetica Neue,Helvetica,sans-serif; font-size:48px; text-anchor:end;\" transform=\"rotate(0, 178.373, 524.202)\" x=\"178.373\" y=\"524.202\">8</text>\n",
       "</g>\n",
       "<g clip-path=\"url(#clip7400)\">\n",
       "<text style=\"fill:#000000; fill-opacity:1; font-family:Arial,Helvetica Neue,Helvetica,sans-serif; font-size:48px; text-anchor:end;\" transform=\"rotate(0, 178.373, 294.473)\" x=\"178.373\" y=\"294.473\">10</text>\n",
       "</g>\n",
       "<g clip-path=\"url(#clip7400)\">\n",
       "<text style=\"fill:#000000; fill-opacity:1; font-family:Arial,Helvetica Neue,Helvetica,sans-serif; font-size:48px; text-anchor:end;\" transform=\"rotate(0, 178.373, 64.7441)\" x=\"178.373\" y=\"64.7441\">12</text>\n",
       "</g>\n",
       "<g clip-path=\"url(#clip7400)\">\n",
       "<text style=\"fill:#000000; fill-opacity:1; font-family:Arial,Helvetica Neue,Helvetica,sans-serif; font-size:66px; text-anchor:middle;\" transform=\"rotate(0, 1277.56, 1559.48)\" x=\"1277.56\" y=\"1559.48\">Mach number</text>\n",
       "</g>\n",
       "<g clip-path=\"url(#clip7400)\">\n",
       "<text style=\"fill:#000000; fill-opacity:1; font-family:Arial,Helvetica Neue,Helvetica,sans-serif; font-size:66px; text-anchor:middle;\" transform=\"rotate(-90, 89.2861, 736.431)\" x=\"89.2861\" y=\"736.431\">Area ratio</text>\n",
       "</g>\n",
       "<polyline clip-path=\"url(#clip7402)\" style=\"stroke:#009af9; stroke-width:4; stroke-opacity:1; fill:none\" points=\"\n",
       "  207.749,-5222.03 213.125,-1898.81 218.501,-791.329 223.877,-237.791 229.253,94.1727 234.629,315.348 240.005,473.216 245.381,591.517 250.757,683.44 256.132,756.897 \n",
       "  261.508,816.925 266.884,866.881 272.26,909.089 277.636,945.209 283.012,976.459 288.388,1003.75 293.764,1027.78 299.14,1049.1 304.516,1068.13 309.892,1085.22 \n",
       "  315.268,1100.63 320.644,1114.61 326.02,1127.34 331.396,1138.97 336.772,1149.63 342.148,1159.44 347.524,1168.5 352.9,1176.87 358.276,1184.64 363.652,1191.86 \n",
       "  369.028,1198.59 374.404,1204.87 379.78,1210.74 385.155,1216.23 390.531,1221.39 395.907,1226.24 401.283,1230.8 406.659,1235.09 412.035,1239.14 417.411,1242.97 \n",
       "  422.787,1246.58 428.163,1250 433.539,1253.24 438.915,1256.31 444.291,1259.22 449.667,1261.98 455.043,1264.6 460.419,1267.09 465.795,1269.46 471.171,1271.72 \n",
       "  476.547,1273.86 481.923,1275.91 487.299,1277.85 492.675,1279.7 498.051,1281.47 503.427,1283.15 508.802,1284.76 514.178,1286.29 519.554,1287.75 524.93,1289.14 \n",
       "  530.306,1290.46 535.682,1291.73 541.058,1292.93 546.434,1294.08 551.81,1295.18 557.186,1296.22 562.562,1297.21 567.938,1298.16 573.314,1299.06 578.69,1299.91 \n",
       "  584.066,1300.73 589.442,1301.5 594.818,1302.23 600.194,1302.93 605.57,1303.58 610.946,1304.21 616.322,1304.79 621.698,1305.35 627.074,1305.87 632.45,1306.36 \n",
       "  637.825,1306.82 643.201,1307.25 648.577,1307.66 653.953,1308.03 659.329,1308.38 664.705,1308.7 670.081,1309 675.457,1309.27 680.833,1309.51 686.209,1309.74 \n",
       "  691.585,1309.94 696.961,1310.11 702.337,1310.27 707.713,1310.4 713.089,1310.51 718.465,1310.6 723.841,1310.67 729.217,1310.72 734.593,1310.74 739.969,1310.75 \n",
       "  745.345,1310.74 750.721,1310.72 756.097,1310.67 761.472,1310.6 766.848,1310.52 772.224,1310.42 777.6,1310.3 782.976,1310.17 788.352,1310.01 793.728,1309.84 \n",
       "  799.104,1309.66 804.48,1309.45 809.856,1309.24 815.232,1309 820.608,1308.75 825.984,1308.48 831.36,1308.2 836.736,1307.9 842.112,1307.59 847.488,1307.26 \n",
       "  852.864,1306.91 858.24,1306.55 863.616,1306.18 868.992,1305.79 874.368,1305.38 879.744,1304.96 885.12,1304.53 890.495,1304.08 895.871,1303.62 901.247,1303.14 \n",
       "  906.623,1302.64 911.999,1302.14 917.375,1301.61 922.751,1301.08 928.127,1300.53 933.503,1299.96 938.879,1299.38 944.255,1298.79 949.631,1298.18 955.007,1297.55 \n",
       "  960.383,1296.92 965.759,1296.26 971.135,1295.6 976.511,1294.91 981.887,1294.22 987.263,1293.51 992.639,1292.78 998.015,1292.04 1003.39,1291.29 1008.77,1290.52 \n",
       "  1014.14,1289.73 1019.52,1288.94 1024.89,1288.12 1030.27,1287.29 1035.65,1286.45 1041.02,1285.59 1046.4,1284.72 1051.77,1283.83 1057.15,1282.93 1062.53,1282.01 \n",
       "  1067.9,1281.08 1073.28,1280.13 1078.65,1279.16 1084.03,1278.18 1089.41,1277.19 1094.78,1276.18 1100.16,1275.15 1105.53,1274.11 1110.91,1273.05 1116.29,1271.98 \n",
       "  1121.66,1270.88 1127.04,1269.78 1132.41,1268.65 1137.79,1267.52 1143.17,1266.36 1148.54,1265.19 1153.92,1264 1159.29,1262.79 1164.67,1261.57 1170.05,1260.33 \n",
       "  1175.42,1259.07 1180.8,1257.8 1186.17,1256.51 1191.55,1255.2 1196.93,1253.87 1202.3,1252.53 1207.68,1251.17 1213.05,1249.79 1218.43,1248.39 1223.8,1246.97 \n",
       "  1229.18,1245.54 1234.56,1244.09 1239.93,1242.62 1245.31,1241.13 1250.68,1239.62 1256.06,1238.09 1261.44,1236.54 1266.81,1234.98 1272.19,1233.39 1277.56,1231.78 \n",
       "  1282.94,1230.16 1288.32,1228.51 1293.69,1226.85 1299.07,1225.16 1304.44,1223.46 1309.82,1221.73 1315.2,1219.99 1320.57,1218.22 1325.95,1216.43 1331.32,1214.62 \n",
       "  1336.7,1212.79 1342.08,1210.93 1347.45,1209.06 1352.83,1207.16 1358.2,1205.25 1363.58,1203.31 1368.96,1201.34 1374.33,1199.36 1379.71,1197.35 1385.08,1195.32 \n",
       "  1390.46,1193.26 1395.84,1191.19 1401.21,1189.09 1406.59,1186.96 1411.96,1184.81 1417.34,1182.64 1422.72,1180.44 1428.09,1178.22 1433.47,1175.98 1438.84,1173.71 \n",
       "  1444.22,1171.41 1449.6,1169.09 1454.97,1166.74 1460.35,1164.37 1465.72,1161.97 1471.1,1159.55 1476.47,1157.1 1481.85,1154.62 1487.23,1152.12 1492.6,1149.59 \n",
       "  1497.98,1147.03 1503.35,1144.45 1508.73,1141.83 1514.11,1139.19 1519.48,1136.52 1524.86,1133.83 1530.23,1131.1 1535.61,1128.35 1540.99,1125.57 1546.36,1122.75 \n",
       "  1551.74,1119.91 1557.11,1117.04 1562.49,1114.14 1567.87,1111.21 1573.24,1108.25 1578.62,1105.25 1583.99,1102.23 1589.37,1099.18 1594.75,1096.09 1600.12,1092.97 \n",
       "  1605.5,1089.82 1610.87,1086.64 1616.25,1083.43 1621.63,1080.18 1627,1076.9 1632.38,1073.59 1637.75,1070.24 1643.13,1066.87 1648.51,1063.45 1653.88,1060 \n",
       "  1659.26,1056.52 1664.63,1053 1670.01,1049.45 1675.39,1045.86 1680.76,1042.24 1686.14,1038.58 1691.51,1034.89 1696.89,1031.15 1702.27,1027.38 1707.64,1023.58 \n",
       "  1713.02,1019.74 1718.39,1015.85 1723.77,1011.94 1729.14,1007.98 1734.52,1003.98 1739.9,999.949 1745.27,995.875 1750.65,991.762 1756.02,987.61 1761.4,983.417 \n",
       "  1766.78,979.184 1772.15,974.91 1777.53,970.595 1782.9,966.239 1788.28,961.841 1793.66,957.401 1799.03,952.92 1804.41,948.395 1809.78,943.828 1815.16,939.217 \n",
       "  1820.54,934.563 1825.91,929.865 1831.29,925.122 1836.66,920.335 1842.04,915.503 1847.42,910.626 1852.79,905.704 1858.17,900.735 1863.54,895.72 1868.92,890.659 \n",
       "  1874.3,885.55 1879.67,880.395 1885.05,875.191 1890.42,869.94 1895.8,864.64 1901.18,859.291 1906.55,853.894 1911.93,848.446 1917.3,842.949 1922.68,837.402 \n",
       "  1928.06,831.804 1933.43,826.156 1938.81,820.456 1944.18,814.704 1949.56,808.9 1954.94,803.044 1960.31,797.135 1965.69,791.172 1971.06,785.157 1976.44,779.087 \n",
       "  1981.81,772.962 1987.19,766.783 1992.57,760.549 1997.94,754.259 2003.32,747.913 2008.69,741.511 2014.07,735.052 2019.45,728.536 2024.82,721.963 2030.2,715.331 \n",
       "  2035.57,708.641 2040.95,701.892 2046.33,695.084 2051.7,688.216 2057.08,681.288 2062.45,674.299 2067.83,667.25 2073.21,660.139 2078.58,652.967 2083.96,645.732 \n",
       "  2089.33,638.435 2094.71,631.074 2100.09,623.65 2105.46,616.162 2110.84,608.609 2116.21,600.992 2121.59,593.309 2126.97,585.561 2132.34,577.746 2137.72,569.865 \n",
       "  2143.09,561.917 2148.47,553.9 2153.85,545.816 2159.22,537.664 2164.6,529.442 2169.97,521.151 2175.35,512.79 2180.73,504.359 2186.1,495.856 2191.48,487.283 \n",
       "  2196.85,478.637 2202.23,469.919 2207.61,461.128 2212.98,452.265 2218.36,443.327 2223.73,434.315 2229.11,425.228 2234.48,416.066 2239.86,406.828 2245.24,397.514 \n",
       "  2250.61,388.123 2255.99,378.655 2261.36,369.108 2266.74,359.484 2272.12,349.781 2277.49,339.998 2282.87,330.136 2288.24,320.193 2293.62,310.169 2299,300.064 \n",
       "  2304.37,289.877 2309.75,279.607 2315.12,269.254 2320.5,258.818 2325.88,248.298 2331.25,237.692 2336.63,227.002 2342,216.226 2347.38,205.364 2352.76,194.414 \n",
       "  2358.13,183.378 2363.51,172.253 2368.88,161.04 2374.26,149.737 2379.64,138.345 2385.01,126.863 2390.39,115.29 2395.76,103.626 2401.14,91.8694 2406.52,80.0205 \n",
       "  2411.89,68.0785 2417.27,56.0427 2422.64,43.9127 2428.02,31.6878 2433.4,19.3675 2438.77,6.95105 2444.15,-5.56203 2449.52,-18.1724 2454.9,-30.8806 2460.28,-43.6873 \n",
       "  2465.65,-56.593 2471.03,-69.5985 2476.4,-82.7042 2481.78,-95.9109 2487.15,-109.219 2492.53,-122.629 2497.91,-136.143 2503.28,-149.759 2508.66,-163.48 2514.03,-177.305 \n",
       "  2519.41,-191.236 2524.79,-205.272 2530.16,-219.415 2535.54,-233.666 2540.91,-248.024 2546.29,-262.491 2551.67,-277.066 2557.04,-291.752 2562.42,-306.548 2567.79,-321.456 \n",
       "  2573.17,-336.475 2578.55,-351.607 2583.92,-366.852 2589.3,-382.21 2594.67,-397.683 2600.05,-413.272 2605.43,-428.976 2610.8,-444.797 2616.18,-460.734 2621.55,-476.79 \n",
       "  2626.93,-492.965 2632.31,-509.258 2637.68,-525.672 2643.06,-542.207 2648.43,-558.862 2653.81,-575.64 2659.19,-592.541 2664.56,-609.565 2669.94,-626.714 2675.31,-643.987 \n",
       "  2680.69,-661.386 2686.07,-678.912 2691.44,-696.564 2696.82,-714.345 2702.19,-732.254 2707.57,-750.292 2712.95,-768.461 2718.32,-786.76 2723.7,-805.191 2729.07,-823.754 \n",
       "  2734.45,-842.45 2739.82,-861.28 2745.2,-880.245 2750.58,-899.344 2755.95,-918.58 2761.33,-937.953 2766.7,-957.463 2772.08,-977.112 2777.46,-996.9 2782.83,-1016.83 \n",
       "  2788.21,-1036.9 2793.58,-1057.11 2798.96,-1077.46 2804.34,-1097.95 2809.71,-1118.59 2815.09,-1139.38 2820.46,-1160.31 2825.84,-1181.38 2831.22,-1202.6 2836.59,-1223.98 \n",
       "  2841.97,-1245.49 2847.34,-1267.16 2852.72,-1288.98 2858.1,-1310.95 2863.47,-1333.08 2868.85,-1355.35 2874.22,-1377.78 2879.6,-1400.36 2884.98,-1423.1 2890.35,-1445.99 \n",
       "  2895.73,-1469.05 2901.1,-1492.26 2906.48,-1515.62 2911.86,-1539.15 2917.23,-1562.84 2922.61,-1586.69 2927.98,-1610.7 2933.36,-1634.87 2938.74,-1659.21 2944.11,-1683.72 \n",
       "  2949.49,-1708.38 2954.86,-1733.22 2960.24,-1758.22 2965.62,-1783.39 2970.99,-1808.73 2976.37,-1834.24 2981.74,-1859.92 2987.12,-1885.77 2992.49,-1911.8 2997.87,-1938 \n",
       "  3003.25,-1964.37 3008.62,-1990.92 3014,-2017.64 3019.37,-2044.55 3024.75,-2071.63 3030.13,-2098.89 3035.5,-2126.33 3040.88,-2153.95 3046.25,-2181.75 3051.63,-2209.74 \n",
       "  3057.01,-2237.9 3062.38,-2266.26 3067.76,-2294.8 3073.13,-2323.52 3078.51,-2352.44 3083.89,-2381.54 3089.26,-2410.83 3094.64,-2440.31 3100.01,-2469.99 3105.39,-2499.86 \n",
       "  3110.77,-2529.91 3116.14,-2560.17 3121.52,-2590.62 3126.89,-2621.26 3132.27,-2652.11 3137.65,-2683.15 3143.02,-2714.39 3148.4,-2745.83 3153.77,-2777.47 3159.15,-2809.32 \n",
       "  3164.53,-2841.37 3169.9,-2873.62 3175.28,-2906.08 3180.65,-2938.74 3186.03,-2971.61 3191.41,-3004.69 3196.78,-3037.98 3202.16,-3071.48 3207.53,-3105.19 3212.91,-3139.12 \n",
       "  3218.29,-3173.26 3223.66,-3207.61 3229.04,-3242.18 3234.41,-3276.96 3239.79,-3311.97 3245.16,-3347.19 3250.54,-3382.63 3255.92,-3418.29 3261.29,-3454.18 3266.67,-3490.29 \n",
       "  3272.04,-3526.62 3277.42,-3563.18 3282.8,-3599.97 3288.17,-3636.98 3293.55,-3674.22 3298.92,-3711.69 3304.3,-3749.39 3309.68,-3787.33 3315.05,-3825.49 3320.43,-3863.89 \n",
       "  3325.8,-3902.53 3331.18,-3941.4 3336.56,-3980.51 3341.93,-4019.86 3347.31,-4059.45 3352.68,-4099.28 3358.06,-4139.35 3363.44,-4179.67 3368.81,-4220.23 3374.19,-4261.03 \n",
       "  3379.56,-4302.09 3384.94,-4343.39 3390.32,-4384.94 3395.69,-4426.74 3401.07,-4468.79 3406.44,-4511.09 3411.82,-4553.65 3417.2,-4596.46 3422.57,-4639.53 3427.95,-4682.85 \n",
       "  \n",
       "  \"/>\n",
       "<circle clip-path=\"url(#clip7402)\" style=\"fill:#000000; stroke:none; fill-opacity:1\" cx=\"739.969\" cy=\"1310.75\" r=\"18\"/>\n",
       "<circle clip-path=\"url(#clip7402)\" style=\"fill:#e26f46; stroke:none; fill-opacity:1\" cx=\"739.969\" cy=\"1310.75\" r=\"14\"/>\n",
       "</svg>\n"
      ]
     },
     "execution_count": 54,
     "metadata": {},
     "output_type": "execute_result"
    }
   ],
   "source": [
    "plot(Mrange,Aratio,xlim=(0,4),ylim=(0,12),xlabel=\"Mach number\",ylabel=\"Area ratio\",legend=false)\n",
    "scatter!([1],[1])"
   ]
  },
  {
   "cell_type": "markdown",
   "metadata": {},
   "source": [
    "This shows the possible Mach numbers that can be reached isentropically in a given nozzle"
   ]
  },
  {
   "cell_type": "markdown",
   "metadata": {},
   "source": [
    "### Using normal shock relations\n",
    "We can make calculations across normal shocks. These relations require the argument `NormalShock`.\n",
    "\n",
    "For example, let's look at the ratio of stagnation pressures across a normal shock with the Mach number entering the shock equal to 2:"
   ]
  },
  {
   "cell_type": "code",
   "execution_count": 55,
   "metadata": {},
   "outputs": [
    {
     "data": {
      "text/plain": [
       "StagnationPressureRatio = 0.720874 "
      ]
     },
     "execution_count": 55,
     "metadata": {},
     "output_type": "execute_result"
    }
   ],
   "source": [
    "StagnationPressureRatio(MachNumber(2),NormalShock)"
   ]
  },
  {
   "cell_type": "markdown",
   "metadata": {},
   "source": [
    "and the density increases by the factor:"
   ]
  },
  {
   "cell_type": "code",
   "execution_count": 64,
   "metadata": {},
   "outputs": [
    {
     "data": {
      "text/plain": [
       "DensityRatio = 2.66667 "
      ]
     },
     "execution_count": 64,
     "metadata": {},
     "output_type": "execute_result"
    }
   ],
   "source": [
    "DensityRatio(MachNumber(2),NormalShock)"
   ]
  },
  {
   "cell_type": "markdown",
   "metadata": {},
   "source": [
    "What is the entropy change across this shock?"
   ]
  },
  {
   "cell_type": "code",
   "execution_count": 59,
   "metadata": {},
   "outputs": [
    {
     "data": {
      "text/plain": [
       "Entropy = 93.9325 JPerKGK"
      ]
     },
     "execution_count": 59,
     "metadata": {},
     "output_type": "execute_result"
    }
   ],
   "source": [
    "Entropy(Entropy(0),MachNumber(2),NormalShock)"
   ]
  },
  {
   "cell_type": "markdown",
   "metadata": {},
   "source": [
    "Let's plot the entropy increase as a function of Mach number:"
   ]
  },
  {
   "cell_type": "code",
   "execution_count": 63,
   "metadata": {},
   "outputs": [],
   "source": [
    "M1 = range(1,3,length=101)\n",
    "s2 = []\n",
    "pratio = []\n",
    "for M in M1\n",
    "    push!(s2,value(Entropy(Entropy(0),MachNumber(M),NormalShock)))\n",
    "    push!(pratio,value(PressureRatio(MachNumber(M),NormalShock)))\n",
    "end"
   ]
  },
  {
   "cell_type": "code",
   "execution_count": 66,
   "metadata": {},
   "outputs": [
    {
     "data": {
      "image/svg+xml": [
       "<?xml version=\"1.0\" encoding=\"utf-8\"?>\n",
       "<svg xmlns=\"http://www.w3.org/2000/svg\" xmlns:xlink=\"http://www.w3.org/1999/xlink\" width=\"600\" height=\"400\" viewBox=\"0 0 2400 1600\">\n",
       "<defs>\n",
       "  <clipPath id=\"clip9400\">\n",
       "    <rect x=\"0\" y=\"0\" width=\"2400\" height=\"1600\"/>\n",
       "  </clipPath>\n",
       "</defs>\n",
       "<path clip-path=\"url(#clip9400)\" d=\"\n",
       "M0 1600 L2400 1600 L2400 0 L0 0  Z\n",
       "  \" fill=\"#ffffff\" fill-rule=\"evenodd\" fill-opacity=\"1\"/>\n",
       "<defs>\n",
       "  <clipPath id=\"clip9401\">\n",
       "    <rect x=\"480\" y=\"0\" width=\"1681\" height=\"1600\"/>\n",
       "  </clipPath>\n",
       "</defs>\n",
       "<path clip-path=\"url(#clip9400)\" d=\"\n",
       "M202.373 1425.62 L2352.76 1425.62 L2352.76 47.2441 L202.373 47.2441  Z\n",
       "  \" fill=\"#ffffff\" fill-rule=\"evenodd\" fill-opacity=\"1\"/>\n",
       "<defs>\n",
       "  <clipPath id=\"clip9402\">\n",
       "    <rect x=\"202\" y=\"47\" width=\"2151\" height=\"1379\"/>\n",
       "  </clipPath>\n",
       "</defs>\n",
       "<polyline clip-path=\"url(#clip9402)\" style=\"stroke:#000000; stroke-width:2; stroke-opacity:0.1; fill:none\" points=\"\n",
       "  202.373,1425.62 202.373,47.2441 \n",
       "  \"/>\n",
       "<polyline clip-path=\"url(#clip9402)\" style=\"stroke:#000000; stroke-width:2; stroke-opacity:0.1; fill:none\" points=\"\n",
       "  739.969,1425.62 739.969,47.2441 \n",
       "  \"/>\n",
       "<polyline clip-path=\"url(#clip9402)\" style=\"stroke:#000000; stroke-width:2; stroke-opacity:0.1; fill:none\" points=\"\n",
       "  1277.56,1425.62 1277.56,47.2441 \n",
       "  \"/>\n",
       "<polyline clip-path=\"url(#clip9402)\" style=\"stroke:#000000; stroke-width:2; stroke-opacity:0.1; fill:none\" points=\"\n",
       "  1815.16,1425.62 1815.16,47.2441 \n",
       "  \"/>\n",
       "<polyline clip-path=\"url(#clip9402)\" style=\"stroke:#000000; stroke-width:2; stroke-opacity:0.1; fill:none\" points=\"\n",
       "  2352.76,1425.62 2352.76,47.2441 \n",
       "  \"/>\n",
       "<polyline clip-path=\"url(#clip9402)\" style=\"stroke:#000000; stroke-width:2; stroke-opacity:0.1; fill:none\" points=\"\n",
       "  202.373,1425.62 2352.76,1425.62 \n",
       "  \"/>\n",
       "<polyline clip-path=\"url(#clip9402)\" style=\"stroke:#000000; stroke-width:2; stroke-opacity:0.1; fill:none\" points=\"\n",
       "  202.373,1195.89 2352.76,1195.89 \n",
       "  \"/>\n",
       "<polyline clip-path=\"url(#clip9402)\" style=\"stroke:#000000; stroke-width:2; stroke-opacity:0.1; fill:none\" points=\"\n",
       "  202.373,966.16 2352.76,966.16 \n",
       "  \"/>\n",
       "<polyline clip-path=\"url(#clip9402)\" style=\"stroke:#000000; stroke-width:2; stroke-opacity:0.1; fill:none\" points=\"\n",
       "  202.373,736.431 2352.76,736.431 \n",
       "  \"/>\n",
       "<polyline clip-path=\"url(#clip9402)\" style=\"stroke:#000000; stroke-width:2; stroke-opacity:0.1; fill:none\" points=\"\n",
       "  202.373,506.702 2352.76,506.702 \n",
       "  \"/>\n",
       "<polyline clip-path=\"url(#clip9402)\" style=\"stroke:#000000; stroke-width:2; stroke-opacity:0.1; fill:none\" points=\"\n",
       "  202.373,276.973 2352.76,276.973 \n",
       "  \"/>\n",
       "<polyline clip-path=\"url(#clip9402)\" style=\"stroke:#000000; stroke-width:2; stroke-opacity:0.1; fill:none\" points=\"\n",
       "  202.373,47.2441 2352.76,47.2441 \n",
       "  \"/>\n",
       "<polyline clip-path=\"url(#clip9400)\" style=\"stroke:#000000; stroke-width:4; stroke-opacity:1; fill:none\" points=\"\n",
       "  202.373,1425.62 2352.76,1425.62 \n",
       "  \"/>\n",
       "<polyline clip-path=\"url(#clip9400)\" style=\"stroke:#000000; stroke-width:4; stroke-opacity:1; fill:none\" points=\"\n",
       "  202.373,1425.62 202.373,47.2441 \n",
       "  \"/>\n",
       "<polyline clip-path=\"url(#clip9400)\" style=\"stroke:#000000; stroke-width:4; stroke-opacity:1; fill:none\" points=\"\n",
       "  202.373,1425.62 202.373,1409.08 \n",
       "  \"/>\n",
       "<polyline clip-path=\"url(#clip9400)\" style=\"stroke:#000000; stroke-width:4; stroke-opacity:1; fill:none\" points=\"\n",
       "  739.969,1425.62 739.969,1409.08 \n",
       "  \"/>\n",
       "<polyline clip-path=\"url(#clip9400)\" style=\"stroke:#000000; stroke-width:4; stroke-opacity:1; fill:none\" points=\"\n",
       "  1277.56,1425.62 1277.56,1409.08 \n",
       "  \"/>\n",
       "<polyline clip-path=\"url(#clip9400)\" style=\"stroke:#000000; stroke-width:4; stroke-opacity:1; fill:none\" points=\"\n",
       "  1815.16,1425.62 1815.16,1409.08 \n",
       "  \"/>\n",
       "<polyline clip-path=\"url(#clip9400)\" style=\"stroke:#000000; stroke-width:4; stroke-opacity:1; fill:none\" points=\"\n",
       "  2352.76,1425.62 2352.76,1409.08 \n",
       "  \"/>\n",
       "<polyline clip-path=\"url(#clip9400)\" style=\"stroke:#000000; stroke-width:4; stroke-opacity:1; fill:none\" points=\"\n",
       "  202.373,1425.62 228.178,1425.62 \n",
       "  \"/>\n",
       "<polyline clip-path=\"url(#clip9400)\" style=\"stroke:#000000; stroke-width:4; stroke-opacity:1; fill:none\" points=\"\n",
       "  202.373,1195.89 228.178,1195.89 \n",
       "  \"/>\n",
       "<polyline clip-path=\"url(#clip9400)\" style=\"stroke:#000000; stroke-width:4; stroke-opacity:1; fill:none\" points=\"\n",
       "  202.373,966.16 228.178,966.16 \n",
       "  \"/>\n",
       "<polyline clip-path=\"url(#clip9400)\" style=\"stroke:#000000; stroke-width:4; stroke-opacity:1; fill:none\" points=\"\n",
       "  202.373,736.431 228.178,736.431 \n",
       "  \"/>\n",
       "<polyline clip-path=\"url(#clip9400)\" style=\"stroke:#000000; stroke-width:4; stroke-opacity:1; fill:none\" points=\"\n",
       "  202.373,506.702 228.178,506.702 \n",
       "  \"/>\n",
       "<polyline clip-path=\"url(#clip9400)\" style=\"stroke:#000000; stroke-width:4; stroke-opacity:1; fill:none\" points=\"\n",
       "  202.373,276.973 228.178,276.973 \n",
       "  \"/>\n",
       "<polyline clip-path=\"url(#clip9400)\" style=\"stroke:#000000; stroke-width:4; stroke-opacity:1; fill:none\" points=\"\n",
       "  202.373,47.2441 228.178,47.2441 \n",
       "  \"/>\n",
       "<g clip-path=\"url(#clip9400)\">\n",
       "<text style=\"fill:#000000; fill-opacity:1; font-family:Arial,Helvetica Neue,Helvetica,sans-serif; font-size:48px; text-anchor:middle;\" transform=\"rotate(0, 202.373, 1479.62)\" x=\"202.373\" y=\"1479.62\">1.0</text>\n",
       "</g>\n",
       "<g clip-path=\"url(#clip9400)\">\n",
       "<text style=\"fill:#000000; fill-opacity:1; font-family:Arial,Helvetica Neue,Helvetica,sans-serif; font-size:48px; text-anchor:middle;\" transform=\"rotate(0, 739.969, 1479.62)\" x=\"739.969\" y=\"1479.62\">1.5</text>\n",
       "</g>\n",
       "<g clip-path=\"url(#clip9400)\">\n",
       "<text style=\"fill:#000000; fill-opacity:1; font-family:Arial,Helvetica Neue,Helvetica,sans-serif; font-size:48px; text-anchor:middle;\" transform=\"rotate(0, 1277.56, 1479.62)\" x=\"1277.56\" y=\"1479.62\">2.0</text>\n",
       "</g>\n",
       "<g clip-path=\"url(#clip9400)\">\n",
       "<text style=\"fill:#000000; fill-opacity:1; font-family:Arial,Helvetica Neue,Helvetica,sans-serif; font-size:48px; text-anchor:middle;\" transform=\"rotate(0, 1815.16, 1479.62)\" x=\"1815.16\" y=\"1479.62\">2.5</text>\n",
       "</g>\n",
       "<g clip-path=\"url(#clip9400)\">\n",
       "<text style=\"fill:#000000; fill-opacity:1; font-family:Arial,Helvetica Neue,Helvetica,sans-serif; font-size:48px; text-anchor:middle;\" transform=\"rotate(0, 2352.76, 1479.62)\" x=\"2352.76\" y=\"1479.62\">3.0</text>\n",
       "</g>\n",
       "<g clip-path=\"url(#clip9400)\">\n",
       "<text style=\"fill:#000000; fill-opacity:1; font-family:Arial,Helvetica Neue,Helvetica,sans-serif; font-size:48px; text-anchor:end;\" transform=\"rotate(0, 178.373, 1443.12)\" x=\"178.373\" y=\"1443.12\">0</text>\n",
       "</g>\n",
       "<g clip-path=\"url(#clip9400)\">\n",
       "<text style=\"fill:#000000; fill-opacity:1; font-family:Arial,Helvetica Neue,Helvetica,sans-serif; font-size:48px; text-anchor:end;\" transform=\"rotate(0, 178.373, 1213.39)\" x=\"178.373\" y=\"1213.39\">2</text>\n",
       "</g>\n",
       "<g clip-path=\"url(#clip9400)\">\n",
       "<text style=\"fill:#000000; fill-opacity:1; font-family:Arial,Helvetica Neue,Helvetica,sans-serif; font-size:48px; text-anchor:end;\" transform=\"rotate(0, 178.373, 983.66)\" x=\"178.373\" y=\"983.66\">4</text>\n",
       "</g>\n",
       "<g clip-path=\"url(#clip9400)\">\n",
       "<text style=\"fill:#000000; fill-opacity:1; font-family:Arial,Helvetica Neue,Helvetica,sans-serif; font-size:48px; text-anchor:end;\" transform=\"rotate(0, 178.373, 753.931)\" x=\"178.373\" y=\"753.931\">6</text>\n",
       "</g>\n",
       "<g clip-path=\"url(#clip9400)\">\n",
       "<text style=\"fill:#000000; fill-opacity:1; font-family:Arial,Helvetica Neue,Helvetica,sans-serif; font-size:48px; text-anchor:end;\" transform=\"rotate(0, 178.373, 524.202)\" x=\"178.373\" y=\"524.202\">8</text>\n",
       "</g>\n",
       "<g clip-path=\"url(#clip9400)\">\n",
       "<text style=\"fill:#000000; fill-opacity:1; font-family:Arial,Helvetica Neue,Helvetica,sans-serif; font-size:48px; text-anchor:end;\" transform=\"rotate(0, 178.373, 294.473)\" x=\"178.373\" y=\"294.473\">10</text>\n",
       "</g>\n",
       "<g clip-path=\"url(#clip9400)\">\n",
       "<text style=\"fill:#000000; fill-opacity:1; font-family:Arial,Helvetica Neue,Helvetica,sans-serif; font-size:48px; text-anchor:end;\" transform=\"rotate(0, 178.373, 64.7441)\" x=\"178.373\" y=\"64.7441\">12</text>\n",
       "</g>\n",
       "<g clip-path=\"url(#clip9400)\">\n",
       "<text style=\"fill:#000000; fill-opacity:1; font-family:Arial,Helvetica Neue,Helvetica,sans-serif; font-size:66px; text-anchor:middle;\" transform=\"rotate(0, 1277.56, 1559.48)\" x=\"1277.56\" y=\"1559.48\">Mach number</text>\n",
       "</g>\n",
       "<g clip-path=\"url(#clip9400)\">\n",
       "<text style=\"fill:#000000; fill-opacity:1; font-family:Arial,Helvetica Neue,Helvetica,sans-serif; font-size:66px; text-anchor:middle;\" transform=\"rotate(-90, 89.2861, 736.431)\" x=\"89.2861\" y=\"736.431\">Entropy increase (J/kgK)</text>\n",
       "</g>\n",
       "<polyline clip-path=\"url(#clip9402)\" style=\"stroke:#009af9; stroke-width:4; stroke-opacity:1; fill:none\" points=\"\n",
       "  202.373,1425.62 223.877,1425.29 245.381,1423.09 266.884,1417.4 288.388,1406.85 309.892,1390.26 331.396,1366.66 352.9,1335.2 374.404,1295.21 395.907,1246.08 \n",
       "  417.411,1187.35 438.915,1118.63 460.419,1039.6 481.923,950.026 503.427,849.715 524.93,738.537 546.434,616.403 567.938,483.263 589.442,339.103 610.946,183.94 \n",
       "  632.45,17.814 653.953,-159.209 675.457,-347.044 696.961,-545.588 718.465,-754.725 739.969,-974.324 761.472,-1204.24 782.976,-1444.33 804.48,-1694.43 825.984,-1954.37 \n",
       "  847.488,-2223.99 868.992,-2503.1 890.495,-2791.53 911.999,-3089.09 933.503,-3395.59 955.007,-3710.86 976.511,-4034.7 998.015,-4366.92 1019.52,-4707.33 1041.02,-5055.75 \n",
       "  1062.53,-5411.99 1084.03,-5775.86 1105.53,-6147.17 1127.04,-6525.74 1148.54,-6911.39 1170.05,-7303.93 1191.55,-7703.19 1213.05,-8108.99 1234.56,-8521.16 1256.06,-8939.52 \n",
       "  1277.56,-9363.9 1299.07,-9794.14 1320.57,-10230.1 1342.08,-10671.5 1363.58,-11118.4 1385.08,-11570.4 1406.59,-12027.5 1428.09,-12489.5 1449.6,-12956.3 1471.1,-13427.7 \n",
       "  1492.6,-13903.6 1514.11,-14383.8 1535.61,-14868.2 1557.11,-15356.6 1578.62,-15849 1600.12,-16345.2 1621.63,-16845.1 1643.13,-17348.5 1664.63,-17855.3 1686.14,-18365.5 \n",
       "  1707.64,-18878.9 1729.14,-19395.3 1750.65,-19914.7 1772.15,-20437 1793.66,-20962.1 1815.16,-21489.8 1836.66,-22020 1858.17,-22552.8 1879.67,-23087.8 1901.18,-23625.2 \n",
       "  1922.68,-24164.7 1944.18,-24706.3 1965.69,-25249.9 1987.19,-25795.5 2008.69,-26342.8 2030.2,-26891.9 2051.7,-27442.7 2073.21,-27995 2094.71,-28548.9 2116.21,-29104.2 \n",
       "  2137.72,-29660.9 2159.22,-30218.9 2180.73,-30778.1 2202.23,-31338.5 2223.73,-31900 2245.24,-32462.5 2266.74,-33026 2288.24,-33590.4 2309.75,-34155.7 2331.25,-34721.7 \n",
       "  2352.76,-35288.5 \n",
       "  \"/>\n",
       "<path clip-path=\"url(#clip9400)\" d=\"\n",
       "M1989.93 251.724 L2280.76 251.724 L2280.76 130.764 L1989.93 130.764  Z\n",
       "  \" fill=\"#ffffff\" fill-rule=\"evenodd\" fill-opacity=\"1\"/>\n",
       "<polyline clip-path=\"url(#clip9400)\" style=\"stroke:#000000; stroke-width:4; stroke-opacity:1; fill:none\" points=\"\n",
       "  1989.93,251.724 2280.76,251.724 2280.76,130.764 1989.93,130.764 1989.93,251.724 \n",
       "  \"/>\n",
       "<polyline clip-path=\"url(#clip9400)\" style=\"stroke:#009af9; stroke-width:4; stroke-opacity:1; fill:none\" points=\"\n",
       "  2013.93,191.244 2157.93,191.244 \n",
       "  \"/>\n",
       "<g clip-path=\"url(#clip9400)\">\n",
       "<text style=\"fill:#000000; fill-opacity:1; font-family:Arial,Helvetica Neue,Helvetica,sans-serif; font-size:48px; text-anchor:start;\" transform=\"rotate(0, 2181.93, 208.744)\" x=\"2181.93\" y=\"208.744\">y1</text>\n",
       "</g>\n",
       "</svg>\n"
      ]
     },
     "execution_count": 66,
     "metadata": {},
     "output_type": "execute_result"
    }
   ],
   "source": [
    "plot(M1,s2,xlim=(1,3),ylim=(0,12),xlabel=\"Mach number\",ylabel=\"Entropy increase (J/kgK)\")"
   ]
  },
  {
   "cell_type": "markdown",
   "metadata": {},
   "source": [
    "### Example 8.6 in Wilcox\n",
    "For air entering a shock at Mach number 3, 1 atm, and 50 degrees F, what is the Mach number, pressure, and temperature on the other side of the shock?"
   ]
  },
  {
   "cell_type": "code",
   "execution_count": 67,
   "metadata": {},
   "outputs": [
    {
     "data": {
      "text/plain": [
       "Temperature = 283.15 Kelvin"
      ]
     },
     "execution_count": 67,
     "metadata": {},
     "output_type": "execute_result"
    }
   ],
   "source": [
    "p1 = Pressure(1,units=atm)\n",
    "M1 = MachNumber(3)\n",
    "T1 = Temperature(50,units=F)"
   ]
  },
  {
   "cell_type": "markdown",
   "metadata": {},
   "source": [
    "Mach number exiting the shock is"
   ]
  },
  {
   "cell_type": "code",
   "execution_count": 68,
   "metadata": {},
   "outputs": [
    {
     "data": {
      "text/plain": [
       "MachNumber = 0.475191 "
      ]
     },
     "execution_count": 68,
     "metadata": {},
     "output_type": "execute_result"
    }
   ],
   "source": [
    "MachNumber(M1,NormalShock)"
   ]
  },
  {
   "cell_type": "markdown",
   "metadata": {},
   "source": [
    "Pressure exiting the shock (in atm) is"
   ]
  },
  {
   "cell_type": "code",
   "execution_count": 69,
   "metadata": {},
   "outputs": [
    {
     "data": {
      "text/plain": [
       "10.333333333333334"
      ]
     },
     "execution_count": 69,
     "metadata": {},
     "output_type": "execute_result"
    }
   ],
   "source": [
    "p2 = Pressure(p1*PressureRatio(M1,NormalShock))\n",
    "value(p2,atm)"
   ]
  },
  {
   "cell_type": "markdown",
   "metadata": {},
   "source": [
    "and the temperature exiting the shock (in F) is"
   ]
  },
  {
   "cell_type": "code",
   "execution_count": 70,
   "metadata": {},
   "outputs": [
    {
     "data": {
      "text/plain": [
       "905.7422222222218"
      ]
     },
     "execution_count": 70,
     "metadata": {},
     "output_type": "execute_result"
    }
   ],
   "source": [
    "T2 = Temperature(T1*TemperatureRatio(M1,NormalShock))\n",
    "value(T2,F)"
   ]
  },
  {
   "cell_type": "markdown",
   "metadata": {},
   "source": [
    "### Example 8.9 in Wilcox\n",
    "A blow-down supersonic windtunnel is supplied with air from a large reservoir. A Pitot tube is placed at the exit plane of a converging-diverging nozzle. The test section lies at the end of the diverging section. The Mach number in the test section (M2) is 2 and the pressure is below atmospheric, so a shock is formed at the exit. The pressure just after the shock (p3) is 14.7 psi. Find the pressure in the reservoir (p01), the pressure in the throat (pth), the Mach number just after the shock (M3), the pressure at the Pitot tube (p4), and the temperature at the Pitot tube (T4)."
   ]
  },
  {
   "cell_type": "code",
   "execution_count": 71,
   "metadata": {},
   "outputs": [
    {
     "data": {
      "text/plain": [
       "Pressure = 101353.0 Pascals"
      ]
     },
     "execution_count": 71,
     "metadata": {},
     "output_type": "execute_result"
    }
   ],
   "source": [
    "M2 = MachNumber(2)\n",
    "p3 = Pressure(14.7,units=psi)"
   ]
  },
  {
   "cell_type": "markdown",
   "metadata": {},
   "source": [
    "First, let's find the pressure just before the shock and the Mach number just after the shock"
   ]
  },
  {
   "cell_type": "code",
   "execution_count": 72,
   "metadata": {},
   "outputs": [
    {
     "data": {
      "text/plain": [
       "MachNumber = 0.57735 "
      ]
     },
     "execution_count": 72,
     "metadata": {},
     "output_type": "execute_result"
    }
   ],
   "source": [
    "# p3/p2\n",
    "pratio = PressureRatio(M2,NormalShock)\n",
    "\n",
    "# p03/p02\n",
    "p0ratio = StagnationPressureRatio(M2,NormalShock)\n",
    "\n",
    "# M3\n",
    "M3 = MachNumber(M2,NormalShock)"
   ]
  },
  {
   "cell_type": "markdown",
   "metadata": {},
   "source": [
    "We can now calculate the pressure just before the shock"
   ]
  },
  {
   "cell_type": "code",
   "execution_count": 73,
   "metadata": {},
   "outputs": [
    {
     "data": {
      "text/plain": [
       "Pressure = 22522.9 Pascals"
      ]
     },
     "execution_count": 73,
     "metadata": {},
     "output_type": "execute_result"
    }
   ],
   "source": [
    "p2 = Pressure(p3/pratio)"
   ]
  },
  {
   "cell_type": "markdown",
   "metadata": {},
   "source": [
    "Now, let's find the conditions in the throat and reservoir, based on what we have been given here. We can immediately find the stagnation pressure upstream of the shock. This is the same as the reservoir pressure. "
   ]
  },
  {
   "cell_type": "code",
   "execution_count": 74,
   "metadata": {},
   "outputs": [
    {
     "data": {
      "text/plain": [
       "StagnationPressure = 176229.0 Pascals"
      ]
     },
     "execution_count": 74,
     "metadata": {},
     "output_type": "execute_result"
    }
   ],
   "source": [
    "p02 = StagnationPressure(p2,M2)\n",
    "p01 = p02"
   ]
  },
  {
   "cell_type": "markdown",
   "metadata": {},
   "source": [
    "We know that the throat is choked. It must be, because the flow is subsonic before and supersonic after the throat. Therefore, Mth is 1, and we can get the local pressure (pth) from knowing the stagnation pressure and Mach number there:"
   ]
  },
  {
   "cell_type": "code",
   "execution_count": 75,
   "metadata": {},
   "outputs": [
    {
     "data": {
      "text/plain": [
       "Pressure = 93098.6 Pascals"
      ]
     },
     "execution_count": 75,
     "metadata": {},
     "output_type": "execute_result"
    }
   ],
   "source": [
    "Mth = MachNumber(1)\n",
    "p0th = p02\n",
    "pth = Pressure(p0th,Mth)"
   ]
  },
  {
   "cell_type": "markdown",
   "metadata": {},
   "source": [
    "Now we can calculate the conditions at the Pitot tube at the exit. At the nose of the Pitot tube, the flow stagnates. Thus, the pressure and temperature are equal to the stagnation values. The stagnation pressure at the exit is the same as the stagnation pressure at point 3 (just after the shock):"
   ]
  },
  {
   "cell_type": "code",
   "execution_count": 76,
   "metadata": {},
   "outputs": [
    {
     "data": {
      "text/plain": [
       "Pressure = 127039.0 Pascals"
      ]
     },
     "execution_count": 76,
     "metadata": {},
     "output_type": "execute_result"
    }
   ],
   "source": [
    "p03 = Pressure(p0ratio*p02)"
   ]
  },
  {
   "cell_type": "code",
   "execution_count": 77,
   "metadata": {},
   "outputs": [
    {
     "data": {
      "text/plain": [
       "18.425439988556167"
      ]
     },
     "execution_count": 77,
     "metadata": {},
     "output_type": "execute_result"
    }
   ],
   "source": [
    "value(p03,psi)"
   ]
  },
  {
   "cell_type": "markdown",
   "metadata": {},
   "source": [
    "### Fanno flow"
   ]
  },
  {
   "cell_type": "code",
   "execution_count": 8,
   "metadata": {},
   "outputs": [
    {
     "data": {
      "text/plain": [
       "StagnationPressureRatio = 5.82183 "
      ]
     },
     "execution_count": 8,
     "metadata": {},
     "output_type": "execute_result"
    }
   ],
   "source": [
    "M1 = MachNumber(0.1)\n",
    "fL1starD = FLStarOverD(M1,FannoFlow)\n",
    "p1_over_pstar = POverPStar(M1,FannoFlow)\n",
    "T1_over_Tstar = TOverTStar(M1,FannoFlow)\n",
    "ρ1_over_ρstar = ρOverρStar(M1,FannoFlow)\n",
    "u1_over_ustar = 1/ρ1_over_ρstar\n",
    "p01_over_p0star = P0OverP0Star(M1,FannoFlow)"
   ]
  },
  {
   "cell_type": "code",
   "execution_count": null,
   "metadata": {},
   "outputs": [],
   "source": [
    "M2 = MachNumber(0.5)\n",
    "fL2starD = FLStarOverD(M2,FannoFlow)"
   ]
  },
  {
   "cell_type": "code",
   "execution_count": 7,
   "metadata": {},
   "outputs": [
    {
     "data": {
      "text/plain": [
       "Length = 54.8771 Meters"
      ]
     },
     "execution_count": 7,
     "metadata": {},
     "output_type": "execute_result"
    }
   ],
   "source": [
    "f = FrictionFactor(0.024)\n",
    "D = Diameter(2,units=CM)\n",
    "L1star = Length(fL1starD,D,f)\n",
    "L2star = Length(fL2starD,D,f)\n",
    "L = Length(L1star-L2star)"
   ]
  },
  {
   "cell_type": "code",
   "execution_count": 8,
   "metadata": {},
   "outputs": [
    {
     "data": {
      "text/plain": [
       "Length = 0.890884 Meters"
      ]
     },
     "execution_count": 8,
     "metadata": {},
     "output_type": "execute_result"
    }
   ],
   "source": [
    "L2star"
   ]
  },
  {
   "cell_type": "markdown",
   "metadata": {},
   "source": [
    "Another example"
   ]
  },
  {
   "cell_type": "code",
   "execution_count": 59,
   "metadata": {},
   "outputs": [
    {
     "data": {
      "text/plain": [
       "FrictionFactor = 0.02 "
      ]
     },
     "execution_count": 59,
     "metadata": {},
     "output_type": "execute_result"
    }
   ],
   "source": [
    "D = Diameter(3,units=CM)\n",
    "p01 = StagnationPressure(200,units=KPa)\n",
    "T01 = StagnationTemperature(500)\n",
    "u1 = Velocity(100)\n",
    "f = FrictionFactor(0.02)"
   ]
  },
  {
   "cell_type": "code",
   "execution_count": 60,
   "metadata": {},
   "outputs": [
    {
     "data": {
      "text/plain": [
       "Length = 15.0 Meters"
      ]
     },
     "execution_count": 60,
     "metadata": {},
     "output_type": "execute_result"
    }
   ],
   "source": [
    "h01 = StagnationEnthalpy(T01)\n",
    "h1 = Enthalpy(h01,u1)\n",
    "T1 = Temperature(h1)\n",
    "c1 = SoundSpeed(T1)\n",
    "M1 = MachNumber(u1,c1)\n",
    "L = Length(15)"
   ]
  },
  {
   "cell_type": "code",
   "execution_count": 61,
   "metadata": {},
   "outputs": [
    {
     "data": {
      "text/plain": [
       "Length = 16.6163 Meters"
      ]
     },
     "execution_count": 61,
     "metadata": {},
     "output_type": "execute_result"
    }
   ],
   "source": [
    "fL1starD = FLStarOverD(M1,FannoFlow)\n",
    "L1star = Length(fL1starD,D,f)"
   ]
  },
  {
   "cell_type": "code",
   "execution_count": 62,
   "metadata": {},
   "outputs": [
    {
     "data": {
      "text/plain": [
       "Density = 1.3593 KGPerCuM"
      ]
     },
     "execution_count": 62,
     "metadata": {},
     "output_type": "execute_result"
    }
   ],
   "source": [
    "A = Area(D)\n",
    "ρ01 = StagnationDensity(p01,T01)\n",
    "ρ1 = Density(ρ01,M1)"
   ]
  },
  {
   "cell_type": "code",
   "execution_count": 63,
   "metadata": {},
   "outputs": [
    {
     "data": {
      "text/plain": [
       "MassFlowRate = 0.0960832 KGPerSec"
      ]
     },
     "execution_count": 63,
     "metadata": {},
     "output_type": "execute_result"
    }
   ],
   "source": [
    "ṁ = MassFlowRate(ρ1*u1*A)"
   ]
  },
  {
   "cell_type": "code",
   "execution_count": 72,
   "metadata": {},
   "outputs": [
    {
     "data": {
      "text/plain": [
       "MachNumber = 0.174121 "
      ]
     },
     "execution_count": 72,
     "metadata": {},
     "output_type": "execute_result"
    }
   ],
   "source": [
    "Lstar = L = Length(30)\n",
    "fLstar_over_D = FLOverD(f,Lstar,D)\n",
    "M1 = MachNumber(fLstar_over_D)"
   ]
  },
  {
   "cell_type": "code",
   "execution_count": 73,
   "metadata": {},
   "outputs": [
    {
     "data": {
      "text/plain": [
       "MassFlowRate = 0.0755048 KGPerSec"
      ]
     },
     "execution_count": 73,
     "metadata": {},
     "output_type": "execute_result"
    }
   ],
   "source": [
    "T1 = Temperature(T01,M1)\n",
    "ρ1 = Density(ρ01,M1)\n",
    "c1 = SoundSpeed(T1)\n",
    "u1 = Velocity(c1,M1)\n",
    "ṁ = MassFlowRate(ρ1*u1*A)"
   ]
  },
  {
   "cell_type": "code",
   "execution_count": 31,
   "metadata": {},
   "outputs": [],
   "source": [
    "Mrange = range(0.1,8,length=801)\n",
    "fLDarray = []\n",
    "for M in Mrange\n",
    "    push!(fLDarray,value(FLStarOverD(MachNumber(M),FannoFlow)))\n",
    "end"
   ]
  },
  {
   "cell_type": "code",
   "execution_count": 33,
   "metadata": {},
   "outputs": [
    {
     "data": {
      "image/svg+xml": [
       "<?xml version=\"1.0\" encoding=\"utf-8\"?>\n",
       "<svg xmlns=\"http://www.w3.org/2000/svg\" xmlns:xlink=\"http://www.w3.org/1999/xlink\" width=\"600\" height=\"400\" viewBox=\"0 0 2400 1600\">\n",
       "<defs>\n",
       "  <clipPath id=\"clip0900\">\n",
       "    <rect x=\"0\" y=\"0\" width=\"2400\" height=\"1600\"/>\n",
       "  </clipPath>\n",
       "</defs>\n",
       "<path clip-path=\"url(#clip0900)\" d=\"\n",
       "M0 1600 L2400 1600 L2400 0 L0 0  Z\n",
       "  \" fill=\"#ffffff\" fill-rule=\"evenodd\" fill-opacity=\"1\"/>\n",
       "<defs>\n",
       "  <clipPath id=\"clip0901\">\n",
       "    <rect x=\"480\" y=\"0\" width=\"1681\" height=\"1600\"/>\n",
       "  </clipPath>\n",
       "</defs>\n",
       "<path clip-path=\"url(#clip0900)\" d=\"\n",
       "M140.517 1487.47 L2352.76 1487.47 L2352.76 47.2441 L140.517 47.2441  Z\n",
       "  \" fill=\"#ffffff\" fill-rule=\"evenodd\" fill-opacity=\"1\"/>\n",
       "<defs>\n",
       "  <clipPath id=\"clip0902\">\n",
       "    <rect x=\"140\" y=\"47\" width=\"2213\" height=\"1441\"/>\n",
       "  </clipPath>\n",
       "</defs>\n",
       "<polyline clip-path=\"url(#clip0902)\" style=\"stroke:#000000; stroke-width:2; stroke-opacity:0.1; fill:none\" points=\"\n",
       "  140.517,1487.47 140.517,47.2441 \n",
       "  \"/>\n",
       "<polyline clip-path=\"url(#clip0902)\" style=\"stroke:#000000; stroke-width:2; stroke-opacity:0.1; fill:none\" points=\"\n",
       "  693.577,1487.47 693.577,47.2441 \n",
       "  \"/>\n",
       "<polyline clip-path=\"url(#clip0902)\" style=\"stroke:#000000; stroke-width:2; stroke-opacity:0.1; fill:none\" points=\"\n",
       "  1246.64,1487.47 1246.64,47.2441 \n",
       "  \"/>\n",
       "<polyline clip-path=\"url(#clip0902)\" style=\"stroke:#000000; stroke-width:2; stroke-opacity:0.1; fill:none\" points=\"\n",
       "  1799.7,1487.47 1799.7,47.2441 \n",
       "  \"/>\n",
       "<polyline clip-path=\"url(#clip0902)\" style=\"stroke:#000000; stroke-width:2; stroke-opacity:0.1; fill:none\" points=\"\n",
       "  2352.76,1487.47 2352.76,47.2441 \n",
       "  \"/>\n",
       "<polyline clip-path=\"url(#clip0902)\" style=\"stroke:#000000; stroke-width:2; stroke-opacity:0.1; fill:none\" points=\"\n",
       "  140.517,1487.47 2352.76,1487.47 \n",
       "  \"/>\n",
       "<polyline clip-path=\"url(#clip0902)\" style=\"stroke:#000000; stroke-width:2; stroke-opacity:0.1; fill:none\" points=\"\n",
       "  140.517,1199.43 2352.76,1199.43 \n",
       "  \"/>\n",
       "<polyline clip-path=\"url(#clip0902)\" style=\"stroke:#000000; stroke-width:2; stroke-opacity:0.1; fill:none\" points=\"\n",
       "  140.517,911.382 2352.76,911.382 \n",
       "  \"/>\n",
       "<polyline clip-path=\"url(#clip0902)\" style=\"stroke:#000000; stroke-width:2; stroke-opacity:0.1; fill:none\" points=\"\n",
       "  140.517,623.336 2352.76,623.336 \n",
       "  \"/>\n",
       "<polyline clip-path=\"url(#clip0902)\" style=\"stroke:#000000; stroke-width:2; stroke-opacity:0.1; fill:none\" points=\"\n",
       "  140.517,335.29 2352.76,335.29 \n",
       "  \"/>\n",
       "<polyline clip-path=\"url(#clip0902)\" style=\"stroke:#000000; stroke-width:2; stroke-opacity:0.1; fill:none\" points=\"\n",
       "  140.517,47.2441 2352.76,47.2441 \n",
       "  \"/>\n",
       "<polyline clip-path=\"url(#clip0900)\" style=\"stroke:#000000; stroke-width:4; stroke-opacity:1; fill:none\" points=\"\n",
       "  140.517,1487.47 2352.76,1487.47 \n",
       "  \"/>\n",
       "<polyline clip-path=\"url(#clip0900)\" style=\"stroke:#000000; stroke-width:4; stroke-opacity:1; fill:none\" points=\"\n",
       "  140.517,1487.47 140.517,47.2441 \n",
       "  \"/>\n",
       "<polyline clip-path=\"url(#clip0900)\" style=\"stroke:#000000; stroke-width:4; stroke-opacity:1; fill:none\" points=\"\n",
       "  140.517,1487.47 140.517,1470.19 \n",
       "  \"/>\n",
       "<polyline clip-path=\"url(#clip0900)\" style=\"stroke:#000000; stroke-width:4; stroke-opacity:1; fill:none\" points=\"\n",
       "  693.577,1487.47 693.577,1470.19 \n",
       "  \"/>\n",
       "<polyline clip-path=\"url(#clip0900)\" style=\"stroke:#000000; stroke-width:4; stroke-opacity:1; fill:none\" points=\"\n",
       "  1246.64,1487.47 1246.64,1470.19 \n",
       "  \"/>\n",
       "<polyline clip-path=\"url(#clip0900)\" style=\"stroke:#000000; stroke-width:4; stroke-opacity:1; fill:none\" points=\"\n",
       "  1799.7,1487.47 1799.7,1470.19 \n",
       "  \"/>\n",
       "<polyline clip-path=\"url(#clip0900)\" style=\"stroke:#000000; stroke-width:4; stroke-opacity:1; fill:none\" points=\"\n",
       "  2352.76,1487.47 2352.76,1470.19 \n",
       "  \"/>\n",
       "<polyline clip-path=\"url(#clip0900)\" style=\"stroke:#000000; stroke-width:4; stroke-opacity:1; fill:none\" points=\"\n",
       "  140.517,1487.47 167.064,1487.47 \n",
       "  \"/>\n",
       "<polyline clip-path=\"url(#clip0900)\" style=\"stroke:#000000; stroke-width:4; stroke-opacity:1; fill:none\" points=\"\n",
       "  140.517,1199.43 167.064,1199.43 \n",
       "  \"/>\n",
       "<polyline clip-path=\"url(#clip0900)\" style=\"stroke:#000000; stroke-width:4; stroke-opacity:1; fill:none\" points=\"\n",
       "  140.517,911.382 167.064,911.382 \n",
       "  \"/>\n",
       "<polyline clip-path=\"url(#clip0900)\" style=\"stroke:#000000; stroke-width:4; stroke-opacity:1; fill:none\" points=\"\n",
       "  140.517,623.336 167.064,623.336 \n",
       "  \"/>\n",
       "<polyline clip-path=\"url(#clip0900)\" style=\"stroke:#000000; stroke-width:4; stroke-opacity:1; fill:none\" points=\"\n",
       "  140.517,335.29 167.064,335.29 \n",
       "  \"/>\n",
       "<polyline clip-path=\"url(#clip0900)\" style=\"stroke:#000000; stroke-width:4; stroke-opacity:1; fill:none\" points=\"\n",
       "  140.517,47.2441 167.064,47.2441 \n",
       "  \"/>\n",
       "<g clip-path=\"url(#clip0900)\">\n",
       "<text style=\"fill:#000000; fill-opacity:1; font-family:Arial,Helvetica Neue,Helvetica,sans-serif; font-size:48px; text-anchor:middle;\" transform=\"rotate(0, 140.517, 1541.47)\" x=\"140.517\" y=\"1541.47\">0</text>\n",
       "</g>\n",
       "<g clip-path=\"url(#clip0900)\">\n",
       "<text style=\"fill:#000000; fill-opacity:1; font-family:Arial,Helvetica Neue,Helvetica,sans-serif; font-size:48px; text-anchor:middle;\" transform=\"rotate(0, 693.577, 1541.47)\" x=\"693.577\" y=\"1541.47\">2</text>\n",
       "</g>\n",
       "<g clip-path=\"url(#clip0900)\">\n",
       "<text style=\"fill:#000000; fill-opacity:1; font-family:Arial,Helvetica Neue,Helvetica,sans-serif; font-size:48px; text-anchor:middle;\" transform=\"rotate(0, 1246.64, 1541.47)\" x=\"1246.64\" y=\"1541.47\">4</text>\n",
       "</g>\n",
       "<g clip-path=\"url(#clip0900)\">\n",
       "<text style=\"fill:#000000; fill-opacity:1; font-family:Arial,Helvetica Neue,Helvetica,sans-serif; font-size:48px; text-anchor:middle;\" transform=\"rotate(0, 1799.7, 1541.47)\" x=\"1799.7\" y=\"1541.47\">6</text>\n",
       "</g>\n",
       "<g clip-path=\"url(#clip0900)\">\n",
       "<text style=\"fill:#000000; fill-opacity:1; font-family:Arial,Helvetica Neue,Helvetica,sans-serif; font-size:48px; text-anchor:middle;\" transform=\"rotate(0, 2352.76, 1541.47)\" x=\"2352.76\" y=\"1541.47\">8</text>\n",
       "</g>\n",
       "<g clip-path=\"url(#clip0900)\">\n",
       "<text style=\"fill:#000000; fill-opacity:1; font-family:Arial,Helvetica Neue,Helvetica,sans-serif; font-size:48px; text-anchor:end;\" transform=\"rotate(0, 116.517, 1504.97)\" x=\"116.517\" y=\"1504.97\">0</text>\n",
       "</g>\n",
       "<g clip-path=\"url(#clip0900)\">\n",
       "<text style=\"fill:#000000; fill-opacity:1; font-family:Arial,Helvetica Neue,Helvetica,sans-serif; font-size:48px; text-anchor:end;\" transform=\"rotate(0, 116.517, 1216.93)\" x=\"116.517\" y=\"1216.93\">2</text>\n",
       "</g>\n",
       "<g clip-path=\"url(#clip0900)\">\n",
       "<text style=\"fill:#000000; fill-opacity:1; font-family:Arial,Helvetica Neue,Helvetica,sans-serif; font-size:48px; text-anchor:end;\" transform=\"rotate(0, 116.517, 928.882)\" x=\"116.517\" y=\"928.882\">4</text>\n",
       "</g>\n",
       "<g clip-path=\"url(#clip0900)\">\n",
       "<text style=\"fill:#000000; fill-opacity:1; font-family:Arial,Helvetica Neue,Helvetica,sans-serif; font-size:48px; text-anchor:end;\" transform=\"rotate(0, 116.517, 640.836)\" x=\"116.517\" y=\"640.836\">6</text>\n",
       "</g>\n",
       "<g clip-path=\"url(#clip0900)\">\n",
       "<text style=\"fill:#000000; fill-opacity:1; font-family:Arial,Helvetica Neue,Helvetica,sans-serif; font-size:48px; text-anchor:end;\" transform=\"rotate(0, 116.517, 352.79)\" x=\"116.517\" y=\"352.79\">8</text>\n",
       "</g>\n",
       "<g clip-path=\"url(#clip0900)\">\n",
       "<text style=\"fill:#000000; fill-opacity:1; font-family:Arial,Helvetica Neue,Helvetica,sans-serif; font-size:48px; text-anchor:end;\" transform=\"rotate(0, 116.517, 64.7441)\" x=\"116.517\" y=\"64.7441\">10</text>\n",
       "</g>\n",
       "<polyline clip-path=\"url(#clip0902)\" style=\"stroke:#009af9; stroke-width:4; stroke-opacity:1; fill:none\" points=\"\n",
       "  168.17,-8150.77 170.901,-6407.92 173.631,-5081.67 176.362,-4049.78 179.093,-3231.72 181.823,-2572.69 184.554,-2034.36 187.285,-1589.26 190.016,-1217.3 192.746,-903.519 \n",
       "  195.477,-636.567 198.208,-407.734 200.939,-210.235 203.669,-38.7233 206.4,111.058 209.131,242.534 211.862,358.484 214.592,461.183 217.323,552.505 220.054,634.01 \n",
       "  222.784,706.998 225.515,772.566 228.246,831.637 230.977,885.002 233.707,933.332 236.438,977.204 239.169,1017.12 241.9,1053.51 244.63,1086.74 247.361,1117.15 \n",
       "  250.092,1145.03 252.823,1170.61 255.553,1194.13 258.284,1215.79 261.015,1235.75 263.745,1254.17 266.476,1271.19 269.207,1286.93 271.938,1301.5 274.668,1315 \n",
       "  277.399,1327.51 280.13,1339.13 282.861,1349.92 285.591,1359.95 288.322,1369.27 291.053,1377.95 293.783,1386.02 296.514,1393.54 299.245,1400.54 301.976,1407.07 \n",
       "  304.706,1413.15 307.437,1418.82 310.168,1424.11 312.899,1429.03 315.629,1433.63 318.36,1437.92 321.091,1441.91 323.822,1445.63 326.552,1449.11 329.283,1452.34 \n",
       "  332.014,1455.35 334.744,1458.15 337.475,1460.76 340.206,1463.19 342.937,1465.44 345.667,1467.54 348.398,1469.48 351.129,1471.28 353.86,1472.94 356.59,1474.48 \n",
       "  359.321,1475.9 362.052,1477.21 364.783,1478.41 367.513,1479.51 370.244,1480.52 372.975,1481.44 375.705,1482.28 378.436,1483.04 381.167,1483.73 383.898,1484.34 \n",
       "  386.628,1484.89 389.359,1485.38 392.09,1485.81 394.821,1486.18 397.551,1486.5 400.282,1486.77 403.013,1486.99 405.744,1487.16 408.474,1487.3 411.205,1487.4 \n",
       "  413.936,1487.45 416.666,1487.47 419.397,1487.46 422.128,1487.42 424.859,1487.34 427.589,1487.24 430.32,1487.11 433.051,1486.96 435.782,1486.78 438.512,1486.58 \n",
       "  441.243,1486.36 443.974,1486.11 446.705,1485.85 449.435,1485.57 452.166,1485.27 454.897,1484.96 457.627,1484.63 460.358,1484.29 463.089,1483.93 465.82,1483.56 \n",
       "  468.55,1483.18 471.281,1482.79 474.012,1482.38 476.743,1481.97 479.473,1481.55 482.204,1481.12 484.935,1480.68 487.666,1480.23 490.396,1479.78 493.127,1479.32 \n",
       "  495.858,1478.86 498.588,1478.38 501.319,1477.91 504.05,1477.43 506.781,1476.94 509.511,1476.45 512.242,1475.96 514.973,1475.46 517.704,1474.96 520.434,1474.45 \n",
       "  523.165,1473.95 525.896,1473.44 528.627,1472.93 531.357,1472.42 534.088,1471.9 536.819,1471.39 539.549,1470.87 542.28,1470.35 545.011,1469.84 547.742,1469.32 \n",
       "  550.472,1468.8 553.203,1468.28 555.934,1467.76 558.665,1467.24 561.395,1466.72 564.126,1466.21 566.857,1465.69 569.587,1465.17 572.318,1464.66 575.049,1464.14 \n",
       "  577.78,1463.63 580.51,1463.11 583.241,1462.6 585.972,1462.09 588.703,1461.58 591.433,1461.07 594.164,1460.56 596.895,1460.06 599.626,1459.56 602.356,1459.05 \n",
       "  605.087,1458.55 607.818,1458.06 610.548,1457.56 613.279,1457.06 616.01,1456.57 618.741,1456.08 621.471,1455.59 624.202,1455.11 626.933,1454.62 629.664,1454.14 \n",
       "  632.394,1453.66 635.125,1453.18 637.856,1452.71 640.587,1452.24 643.317,1451.77 646.048,1451.3 648.779,1450.83 651.509,1450.37 654.24,1449.91 656.971,1449.45 \n",
       "  659.702,1448.99 662.432,1448.54 665.163,1448.09 667.894,1447.64 670.625,1447.2 673.355,1446.75 676.086,1446.31 678.817,1445.87 681.548,1445.44 684.278,1445 \n",
       "  687.009,1444.57 689.74,1444.15 692.47,1443.72 695.201,1443.3 697.932,1442.88 700.663,1442.46 703.393,1442.04 706.124,1441.63 708.855,1441.22 711.586,1440.81 \n",
       "  714.316,1440.41 717.047,1440 719.778,1439.6 722.509,1439.21 725.239,1438.81 727.97,1438.42 730.701,1438.03 733.431,1437.64 736.162,1437.26 738.893,1436.87 \n",
       "  741.624,1436.49 744.354,1436.12 747.085,1435.74 749.816,1435.37 752.547,1435 755.277,1434.63 758.008,1434.26 760.739,1433.9 763.47,1433.54 766.2,1433.18 \n",
       "  768.931,1432.83 771.662,1432.47 774.392,1432.12 777.123,1431.77 779.854,1431.43 782.585,1431.08 785.315,1430.74 788.046,1430.4 790.777,1430.06 793.508,1429.73 \n",
       "  796.238,1429.4 798.969,1429.07 801.7,1428.74 804.43,1428.41 807.161,1428.09 809.892,1427.77 812.623,1427.45 815.353,1427.13 818.084,1426.82 820.815,1426.5 \n",
       "  823.546,1426.19 826.276,1425.88 829.007,1425.58 831.738,1425.27 834.469,1424.97 837.199,1424.67 839.93,1424.37 842.661,1424.07 845.391,1423.78 848.122,1423.49 \n",
       "  850.853,1423.2 853.584,1422.91 856.314,1422.62 859.045,1422.34 861.776,1422.06 864.507,1421.78 867.237,1421.5 869.968,1421.22 872.699,1420.95 875.43,1420.67 \n",
       "  878.16,1420.4 880.891,1420.13 883.622,1419.86 886.352,1419.6 889.083,1419.34 891.814,1419.07 894.545,1418.81 897.275,1418.55 900.006,1418.3 902.737,1418.04 \n",
       "  905.468,1417.79 908.198,1417.54 910.929,1417.29 913.66,1417.04 916.391,1416.79 919.121,1416.55 921.852,1416.31 924.583,1416.06 927.313,1415.83 930.044,1415.59 \n",
       "  932.775,1415.35 935.506,1415.12 938.236,1414.88 940.967,1414.65 943.698,1414.42 946.429,1414.19 949.159,1413.96 951.89,1413.74 954.621,1413.51 957.352,1413.29 \n",
       "  960.082,1413.07 962.813,1412.85 965.544,1412.63 968.274,1412.42 971.005,1412.2 973.736,1411.99 976.467,1411.77 979.197,1411.56 981.928,1411.35 984.659,1411.15 \n",
       "  987.39,1410.94 990.12,1410.73 992.851,1410.53 995.582,1410.33 998.313,1410.13 1001.04,1409.93 1003.77,1409.73 1006.5,1409.53 1009.24,1409.33 1011.97,1409.14 \n",
       "  1014.7,1408.95 1017.43,1408.75 1020.16,1408.56 1022.89,1408.37 1025.62,1408.18 1028.35,1408 1031.08,1407.81 1033.81,1407.63 1036.54,1407.44 1039.27,1407.26 \n",
       "  1042,1407.08 1044.73,1406.9 1047.47,1406.72 1050.2,1406.54 1052.93,1406.37 1055.66,1406.19 1058.39,1406.02 1061.12,1405.84 1063.85,1405.67 1066.58,1405.5 \n",
       "  1069.31,1405.33 1072.04,1405.16 1074.77,1404.99 1077.5,1404.83 1080.23,1404.66 1082.97,1404.5 1085.7,1404.33 1088.43,1404.17 1091.16,1404.01 1093.89,1403.85 \n",
       "  1096.62,1403.69 1099.35,1403.53 1102.08,1403.37 1104.81,1403.22 1107.54,1403.06 1110.27,1402.91 1113,1402.75 1115.73,1402.6 1118.46,1402.45 1121.2,1402.3 \n",
       "  1123.93,1402.15 1126.66,1402 1129.39,1401.85 1132.12,1401.71 1134.85,1401.56 1137.58,1401.42 1140.31,1401.27 1143.04,1401.13 1145.77,1400.99 1148.5,1400.85 \n",
       "  1151.23,1400.71 1153.96,1400.57 1156.7,1400.43 1159.43,1400.29 1162.16,1400.15 1164.89,1400.02 1167.62,1399.88 1170.35,1399.75 1173.08,1399.61 1175.81,1399.48 \n",
       "  1178.54,1399.35 1181.27,1399.22 1184,1399.09 1186.73,1398.96 1189.46,1398.83 1192.19,1398.7 1194.93,1398.57 1197.66,1398.44 1200.39,1398.32 1203.12,1398.19 \n",
       "  1205.85,1398.07 1208.58,1397.95 1211.31,1397.82 1214.04,1397.7 1216.77,1397.58 1219.5,1397.46 1222.23,1397.34 1224.96,1397.22 1227.69,1397.1 1230.42,1396.98 \n",
       "  1233.16,1396.87 1235.89,1396.75 1238.62,1396.63 1241.35,1396.52 1244.08,1396.41 1246.81,1396.29 1249.54,1396.18 1252.27,1396.07 1255,1395.95 1257.73,1395.84 \n",
       "  1260.46,1395.73 1263.19,1395.62 1265.92,1395.51 1268.66,1395.41 1271.39,1395.3 1274.12,1395.19 1276.85,1395.08 1279.58,1394.98 1282.31,1394.87 1285.04,1394.77 \n",
       "  1287.77,1394.66 1290.5,1394.56 1293.23,1394.46 1295.96,1394.36 1298.69,1394.25 1301.42,1394.15 1304.15,1394.05 1306.89,1393.95 1309.62,1393.85 1312.35,1393.75 \n",
       "  1315.08,1393.66 1317.81,1393.56 1320.54,1393.46 1323.27,1393.36 1326,1393.27 1328.73,1393.17 1331.46,1393.08 1334.19,1392.98 1336.92,1392.89 1339.65,1392.79 \n",
       "  1342.38,1392.7 1345.12,1392.61 1347.85,1392.52 1350.58,1392.43 1353.31,1392.34 1356.04,1392.24 1358.77,1392.16 1361.5,1392.07 1364.23,1391.98 1366.96,1391.89 \n",
       "  1369.69,1391.8 1372.42,1391.71 1375.15,1391.63 1377.88,1391.54 1380.62,1391.45 1383.35,1391.37 1386.08,1391.28 1388.81,1391.2 1391.54,1391.11 1394.27,1391.03 \n",
       "  1397,1390.95 1399.73,1390.87 1402.46,1390.78 1405.19,1390.7 1407.92,1390.62 1410.65,1390.54 1413.38,1390.46 1416.11,1390.38 1418.85,1390.3 1421.58,1390.22 \n",
       "  1424.31,1390.14 1427.04,1390.06 1429.77,1389.98 1432.5,1389.91 1435.23,1389.83 1437.96,1389.75 1440.69,1389.68 1443.42,1389.6 1446.15,1389.53 1448.88,1389.45 \n",
       "  1451.61,1389.38 1454.34,1389.3 1457.08,1389.23 1459.81,1389.15 1462.54,1389.08 1465.27,1389.01 1468,1388.94 1470.73,1388.86 1473.46,1388.79 1476.19,1388.72 \n",
       "  1478.92,1388.65 1481.65,1388.58 1484.38,1388.51 1487.11,1388.44 1489.84,1388.37 1492.58,1388.3 1495.31,1388.23 1498.04,1388.16 1500.77,1388.1 1503.5,1388.03 \n",
       "  1506.23,1387.96 1508.96,1387.89 1511.69,1387.83 1514.42,1387.76 1517.15,1387.69 1519.88,1387.63 1522.61,1387.56 1525.34,1387.5 1528.07,1387.43 1530.81,1387.37 \n",
       "  1533.54,1387.31 1536.27,1387.24 1539,1387.18 1541.73,1387.12 1544.46,1387.05 1547.19,1386.99 1549.92,1386.93 1552.65,1386.87 1555.38,1386.81 1558.11,1386.75 \n",
       "  1560.84,1386.68 1563.57,1386.62 1566.3,1386.56 1569.04,1386.5 1571.77,1386.44 1574.5,1386.39 1577.23,1386.33 1579.96,1386.27 1582.69,1386.21 1585.42,1386.15 \n",
       "  1588.15,1386.09 1590.88,1386.04 1593.61,1385.98 1596.34,1385.92 1599.07,1385.86 1601.8,1385.81 1604.54,1385.75 1607.27,1385.7 1610,1385.64 1612.73,1385.59 \n",
       "  1615.46,1385.53 1618.19,1385.48 1620.92,1385.42 1623.65,1385.37 1626.38,1385.31 1629.11,1385.26 1631.84,1385.21 1634.57,1385.15 1637.3,1385.1 1640.03,1385.05 \n",
       "  1642.77,1384.99 1645.5,1384.94 1648.23,1384.89 1650.96,1384.84 1653.69,1384.79 1656.42,1384.74 1659.15,1384.68 1661.88,1384.63 1664.61,1384.58 1667.34,1384.53 \n",
       "  1670.07,1384.48 1672.8,1384.43 1675.53,1384.38 1678.26,1384.33 1681,1384.28 1683.73,1384.24 1686.46,1384.19 1689.19,1384.14 1691.92,1384.09 1694.65,1384.04 \n",
       "  1697.38,1383.99 1700.11,1383.95 1702.84,1383.9 1705.57,1383.85 1708.3,1383.81 1711.03,1383.76 1713.76,1383.71 1716.5,1383.67 1719.23,1383.62 1721.96,1383.58 \n",
       "  1724.69,1383.53 1727.42,1383.48 1730.15,1383.44 1732.88,1383.39 1735.61,1383.35 1738.34,1383.3 1741.07,1383.26 1743.8,1383.22 1746.53,1383.17 1749.26,1383.13 \n",
       "  1751.99,1383.09 1754.73,1383.04 1757.46,1383 1760.19,1382.96 1762.92,1382.91 1765.65,1382.87 1768.38,1382.83 1771.11,1382.79 1773.84,1382.74 1776.57,1382.7 \n",
       "  1779.3,1382.66 1782.03,1382.62 1784.76,1382.58 1787.49,1382.54 1790.22,1382.5 1792.96,1382.46 1795.69,1382.41 1798.42,1382.37 1801.15,1382.33 1803.88,1382.29 \n",
       "  1806.61,1382.25 1809.34,1382.22 1812.07,1382.18 1814.8,1382.14 1817.53,1382.1 1820.26,1382.06 1822.99,1382.02 1825.72,1381.98 1828.46,1381.94 1831.19,1381.9 \n",
       "  1833.92,1381.87 1836.65,1381.83 1839.38,1381.79 1842.11,1381.75 1844.84,1381.72 1847.57,1381.68 1850.3,1381.64 1853.03,1381.6 1855.76,1381.57 1858.49,1381.53 \n",
       "  1861.22,1381.49 1863.95,1381.46 1866.69,1381.42 1869.42,1381.39 1872.15,1381.35 1874.88,1381.31 1877.61,1381.28 1880.34,1381.24 1883.07,1381.21 1885.8,1381.17 \n",
       "  1888.53,1381.14 1891.26,1381.1 1893.99,1381.07 1896.72,1381.03 1899.45,1381 1902.19,1380.97 1904.92,1380.93 1907.65,1380.9 1910.38,1380.86 1913.11,1380.83 \n",
       "  1915.84,1380.8 1918.57,1380.76 1921.3,1380.73 1924.03,1380.7 1926.76,1380.66 1929.49,1380.63 1932.22,1380.6 1934.95,1380.57 1937.68,1380.53 1940.42,1380.5 \n",
       "  1943.15,1380.47 1945.88,1380.44 1948.61,1380.41 1951.34,1380.37 1954.07,1380.34 1956.8,1380.31 1959.53,1380.28 1962.26,1380.25 1964.99,1380.22 1967.72,1380.19 \n",
       "  1970.45,1380.16 1973.18,1380.13 1975.91,1380.1 1978.65,1380.06 1981.38,1380.03 1984.11,1380 1986.84,1379.97 1989.57,1379.94 1992.3,1379.91 1995.03,1379.88 \n",
       "  1997.76,1379.86 2000.49,1379.83 2003.22,1379.8 2005.95,1379.77 2008.68,1379.74 2011.41,1379.71 2014.15,1379.68 2016.88,1379.65 2019.61,1379.62 2022.34,1379.59 \n",
       "  2025.07,1379.57 2027.8,1379.54 2030.53,1379.51 2033.26,1379.48 2035.99,1379.45 2038.72,1379.43 2041.45,1379.4 2044.18,1379.37 2046.91,1379.34 2049.64,1379.32 \n",
       "  2052.38,1379.29 2055.11,1379.26 2057.84,1379.23 2060.57,1379.21 2063.3,1379.18 2066.03,1379.15 2068.76,1379.13 2071.49,1379.1 2074.22,1379.07 2076.95,1379.05 \n",
       "  2079.68,1379.02 2082.41,1378.99 2085.14,1378.97 2087.87,1378.94 2090.61,1378.92 2093.34,1378.89 2096.07,1378.87 2098.8,1378.84 2101.53,1378.81 2104.26,1378.79 \n",
       "  2106.99,1378.76 2109.72,1378.74 2112.45,1378.71 2115.18,1378.69 2117.91,1378.66 2120.64,1378.64 2123.37,1378.61 2126.11,1378.59 2128.84,1378.57 2131.57,1378.54 \n",
       "  2134.3,1378.52 2137.03,1378.49 2139.76,1378.47 2142.49,1378.44 2145.22,1378.42 2147.95,1378.4 2150.68,1378.37 2153.41,1378.35 2156.14,1378.33 2158.87,1378.3 \n",
       "  2161.6,1378.28 2164.34,1378.26 2167.07,1378.23 2169.8,1378.21 2172.53,1378.19 2175.26,1378.16 2177.99,1378.14 2180.72,1378.12 2183.45,1378.09 2186.18,1378.07 \n",
       "  2188.91,1378.05 2191.64,1378.03 2194.37,1378 2197.1,1377.98 2199.83,1377.96 2202.57,1377.94 2205.3,1377.92 2208.03,1377.89 2210.76,1377.87 2213.49,1377.85 \n",
       "  2216.22,1377.83 2218.95,1377.81 2221.68,1377.79 2224.41,1377.76 2227.14,1377.74 2229.87,1377.72 2232.6,1377.7 2235.33,1377.68 2238.07,1377.66 2240.8,1377.64 \n",
       "  2243.53,1377.62 2246.26,1377.59 2248.99,1377.57 2251.72,1377.55 2254.45,1377.53 2257.18,1377.51 2259.91,1377.49 2262.64,1377.47 2265.37,1377.45 2268.1,1377.43 \n",
       "  2270.83,1377.41 2273.56,1377.39 2276.3,1377.37 2279.03,1377.35 2281.76,1377.33 2284.49,1377.31 2287.22,1377.29 2289.95,1377.27 2292.68,1377.25 2295.41,1377.23 \n",
       "  2298.14,1377.21 2300.87,1377.19 2303.6,1377.17 2306.33,1377.15 2309.06,1377.14 2311.79,1377.12 2314.53,1377.1 2317.26,1377.08 2319.99,1377.06 2322.72,1377.04 \n",
       "  2325.45,1377.02 2328.18,1377 2330.91,1376.98 2333.64,1376.97 2336.37,1376.95 2339.1,1376.93 2341.83,1376.91 2344.56,1376.89 2347.29,1376.87 2350.03,1376.86 \n",
       "  2352.76,1376.84 \n",
       "  \"/>\n",
       "<path clip-path=\"url(#clip0900)\" d=\"\n",
       "M1989.93 251.724 L2280.76 251.724 L2280.76 130.764 L1989.93 130.764  Z\n",
       "  \" fill=\"#ffffff\" fill-rule=\"evenodd\" fill-opacity=\"1\"/>\n",
       "<polyline clip-path=\"url(#clip0900)\" style=\"stroke:#000000; stroke-width:4; stroke-opacity:1; fill:none\" points=\"\n",
       "  1989.93,251.724 2280.76,251.724 2280.76,130.764 1989.93,130.764 1989.93,251.724 \n",
       "  \"/>\n",
       "<polyline clip-path=\"url(#clip0900)\" style=\"stroke:#009af9; stroke-width:4; stroke-opacity:1; fill:none\" points=\"\n",
       "  2013.93,191.244 2157.93,191.244 \n",
       "  \"/>\n",
       "<g clip-path=\"url(#clip0900)\">\n",
       "<text style=\"fill:#000000; fill-opacity:1; font-family:Arial,Helvetica Neue,Helvetica,sans-serif; font-size:48px; text-anchor:start;\" transform=\"rotate(0, 2181.93, 208.744)\" x=\"2181.93\" y=\"208.744\">y1</text>\n",
       "</g>\n",
       "</svg>\n"
      ]
     },
     "execution_count": 33,
     "metadata": {},
     "output_type": "execute_result"
    }
   ],
   "source": [
    "plot(Mrange,fLDarray,xlim=(0,8),ylim=(0,10))"
   ]
  },
  {
   "cell_type": "code",
   "execution_count": 40,
   "metadata": {},
   "outputs": [
    {
     "data": {
      "text/plain": [
       "FLOverD = 0.821508 "
      ]
     },
     "execution_count": 40,
     "metadata": {},
     "output_type": "execute_result"
    }
   ],
   "source": [
    "FLStarOverD(MachNumber(1e10),FannoFlow)"
   ]
  },
  {
   "cell_type": "markdown",
   "metadata": {},
   "source": [
    "### Rayleigh flow"
   ]
  },
  {
   "cell_type": "code",
   "execution_count": 18,
   "metadata": {},
   "outputs": [
    {
     "data": {
      "text/plain": [
       "HeatFlux = 900000.0 JPerKG"
      ]
     },
     "execution_count": 18,
     "metadata": {},
     "output_type": "execute_result"
    }
   ],
   "source": [
    "u1 = Velocity(75)\n",
    "p1 = Pressure(150,units=KPa)\n",
    "T1 = Temperature(300)\n",
    "q = HeatFlux(900,units=KJPerKG)"
   ]
  },
  {
   "cell_type": "code",
   "execution_count": 19,
   "metadata": {},
   "outputs": [
    {
     "data": {
      "text/plain": [
       "StagnationTemperature = 302.8 Kelvin"
      ]
     },
     "execution_count": 19,
     "metadata": {},
     "output_type": "execute_result"
    }
   ],
   "source": [
    "h1 = Enthalpy(T1,gas=Air)\n",
    "h01 = StagnationEnthalpy(h1,u1)\n",
    "T01 = StagnationTemperature(h01,gas=Air)"
   ]
  },
  {
   "cell_type": "code",
   "execution_count": 20,
   "metadata": {},
   "outputs": [
    {
     "data": {
      "text/plain": [
       "StagnationTemperature = 1198.77 Kelvin"
      ]
     },
     "execution_count": 20,
     "metadata": {},
     "output_type": "execute_result"
    }
   ],
   "source": [
    "h02 = StagnationEnthalpy(h01+q)\n",
    "T02 = StagnationTemperature(h02,gas=Air)"
   ]
  },
  {
   "cell_type": "code",
   "execution_count": 21,
   "metadata": {},
   "outputs": [
    {
     "data": {
      "text/plain": [
       "SoundSpeed = 347.189 MPerSec"
      ]
     },
     "execution_count": 21,
     "metadata": {},
     "output_type": "execute_result"
    }
   ],
   "source": [
    "c1 = SoundSpeed(T1,gas=Air)"
   ]
  },
  {
   "cell_type": "code",
   "execution_count": 22,
   "metadata": {},
   "outputs": [
    {
     "data": {
      "text/plain": [
       "MachNumber = 0.216021 "
      ]
     },
     "execution_count": 22,
     "metadata": {},
     "output_type": "execute_result"
    }
   ],
   "source": [
    "M1 = MachNumber(u1/c1)"
   ]
  },
  {
   "cell_type": "code",
   "execution_count": 23,
   "metadata": {},
   "outputs": [
    {
     "data": {
      "text/plain": [
       "StagnationTemperature = 1520.05 Kelvin"
      ]
     },
     "execution_count": 23,
     "metadata": {},
     "output_type": "execute_result"
    }
   ],
   "source": [
    "T0star = StagnationTemperature(T01/T0OverT0Star(M1,RayleighFlow,gas=Air))"
   ]
  },
  {
   "cell_type": "code",
   "execution_count": 24,
   "metadata": {},
   "outputs": [
    {
     "data": {
      "text/plain": [
       "Temperature = 1266.71 Kelvin"
      ]
     },
     "execution_count": 24,
     "metadata": {},
     "output_type": "execute_result"
    }
   ],
   "source": [
    "ustar = Velocity(u1/VOverVStar(M1,RayleighFlow,gas=Air))\n",
    "pstar = Pressure(p1/POverPStar(M1,RayleighFlow,gas=Air))\n",
    "Tstar = Temperature(T1/TOverTStar(M1,RayleighFlow,gas=Air))"
   ]
  },
  {
   "cell_type": "code",
   "execution_count": 25,
   "metadata": {},
   "outputs": [
    {
     "data": {
      "text/plain": [
       "TemperatureRatio = 0.788637 "
      ]
     },
     "execution_count": 25,
     "metadata": {},
     "output_type": "execute_result"
    }
   ],
   "source": [
    "T02_over_T0star = TemperatureRatio(T02/T0star)"
   ]
  },
  {
   "cell_type": "code",
   "execution_count": 26,
   "metadata": {},
   "outputs": [
    {
     "data": {
      "text/plain": [
       "MachNumber = 0.57332 "
      ]
     },
     "execution_count": 26,
     "metadata": {},
     "output_type": "execute_result"
    }
   ],
   "source": [
    "M2 = MachNumber(T02_over_T0star,RayleighFlow,gas=Air)"
   ]
  },
  {
   "cell_type": "code",
   "execution_count": 29,
   "metadata": {},
   "outputs": [
    {
     "data": {
      "text/plain": [
       "Temperature = 1124.82 Kelvin"
      ]
     },
     "execution_count": 29,
     "metadata": {},
     "output_type": "execute_result"
    }
   ],
   "source": [
    "u2 = Velocity(ustar*VOverVStar(M2,RayleighFlow,gas=Air))\n",
    "p2 = Pressure(pstar*POverPStar(M2,RayleighFlow,gas=Air))\n",
    "T2 = Temperature(Tstar*TOverTStar(M2,RayleighFlow,gas=Air))"
   ]
  },
  {
   "cell_type": "code",
   "execution_count": 30,
   "metadata": {},
   "outputs": [
    {
     "data": {
      "text/plain": [
       "HeatFlux = 1.22273e6 JPerKG"
      ]
     },
     "execution_count": 30,
     "metadata": {},
     "output_type": "execute_result"
    }
   ],
   "source": [
    "qmax = HeatFlux(T01,T0star,gas=Air)"
   ]
  },
  {
   "cell_type": "code",
   "execution_count": null,
   "metadata": {},
   "outputs": [],
   "source": []
  }
 ],
 "metadata": {
  "kernelspec": {
   "display_name": "Julia 1.2.0",
   "language": "julia",
   "name": "julia-1.2"
  },
  "language_info": {
   "file_extension": ".jl",
   "mimetype": "application/julia",
   "name": "julia",
   "version": "1.2.0"
  }
 },
 "nbformat": 4,
 "nbformat_minor": 2
}
