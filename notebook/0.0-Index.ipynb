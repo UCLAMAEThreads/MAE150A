{
 "cells": [
  {
   "cell_type": "markdown",
   "metadata": {},
   "source": [
    "<img src=\"logo_UCLA_blue_boxed.svg\" alt=\"ucla logo\" width=\"150\" align=\"left\"/>"
   ]
  },
  {
   "cell_type": "markdown",
   "metadata": {},
   "source": [
    "### **MAE 150A - Intermediate Fluid Mechanics**"
   ]
  },
  {
   "cell_type": "markdown",
   "metadata": {},
   "source": [
    "These Jupyter notebooks and associated code serve as a companion to the course.\n",
    "\n",
    "These are not static notebooks. **You are encouraged to play with them: run with different parameter values, create other plots, etc.!** The whole point is to enable an understanding of fluid mechanics through interactiveness. \n",
    "\n",
    "*The code is released under the [MIT license](https://opensource.org/licenses/MIT).*\n",
    "<hr />"
   ]
  },
  {
   "cell_type": "markdown",
   "metadata": {},
   "source": [
    "## Table of Notebooks\n",
    "\n",
    "- [Introduction](0.1-WelcomeToJulia.ipynb)\n",
    "\n",
    "#### Chapter 1 - Kinematics and plotting\n",
    "\n",
    "- [1.1 Flow lines in a steady flow field](1.1-FlowLines1.ipynb)\n",
    "- [1.2 Plotting a flow field](1.2-PlottingFlowFields.ipynb)\n",
    "- [1.3 Vorticity, streamfunction, and velocity](1.3-VorticityAndStreamfunction.ipynb)\n",
    "\n",
    "#### Chapter 2 - Potential flow\n",
    "\n",
    "- [2.0 Notes on complex variables](2.0-ComplexVariablesNotes.ipynb)\n",
    "- [2.1 Basic potential flows](2.1-BasicPotentialFlows.ipynb)\n",
    "- [2.2 Combination of potential flows](2.2-PotentialFlowCombinations.ipynb)\n",
    "- [2.3 Potential flow past bodies](2.3-PotentialFlowBodies.ipynb)\n",
    "\n",
    "\n",
    "#### Chapter 3 - Viscous flow\n",
    "\n",
    "- [3.0 The Rayleigh problem](3.0-RayleighProblem.ipynb)\n",
    "- [3.1 Boundary layer in the Navier-Stokes solution](3.1-FlatPlateFlow.ipynb)\n",
    "- [3.2 Laminar boundary layer flow](3.2-BlasiusAndFalknerSkan.ipynb)\n",
    "- [3.3 Computational solution of a fluid flow](3.3-ComputationalSolution.ipynb)\n",
    "\n",
    "#### Chapter 4 - Compressible flow\n",
    "\n",
    "- [4.0 Basics of compressible flow tools](4.0-BasicGasDynamics.ipynb)\n",
    "- [4.1 Isentropic quasi 1D gas dynamics](4.1-IsentropicGasDynamics.ipynb)\n",
    "- [4.2 Quasi 1D flow in a converging-diverging nozzle](4.2-ConvergingDivergingNozzle.ipynb)\n",
    "- [4.3 Quasi 1D gas dynamics with normal shocks](4.3-NormalShocks.ipynb)\n",
    "- [4.4 Frictional duct flow](4.4-FannoFlow.ipynb)\n",
    "- [4.5 Duct flow with heat transfer](4.5-RayleighFlow.ipynb)"
   ]
  },
  {
   "cell_type": "code",
   "execution_count": null,
   "metadata": {},
   "outputs": [],
   "source": []
  }
 ],
 "metadata": {
  "@webio": {
   "lastCommId": null,
   "lastKernelId": null
  },
  "kernelspec": {
   "display_name": "Julia 1.8.1",
   "language": "julia",
   "name": "julia-1.8"
  },
  "language_info": {
   "file_extension": ".jl",
   "mimetype": "application/julia",
   "name": "julia",
   "version": "1.8.1"
  }
 },
 "nbformat": 4,
 "nbformat_minor": 4
}
