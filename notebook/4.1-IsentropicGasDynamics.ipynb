{
 "cells": [
  {
   "cell_type": "markdown",
   "source": [
    "<img src=\"https://raw.githubusercontent.com/UCLAMAEThreads/MAE150A/master/notebook/logo_UCLA_blue_boxed.svg\" alt=\"ucla logo\" width=\"150\" align=\"left\"/>"
   ],
   "metadata": {}
  },
  {
   "cell_type": "markdown",
   "source": [
    "### **MAE 150A - Intermediate Fluid Mechanics**\n",
    "<hr />"
   ],
   "metadata": {}
  },
  {
   "cell_type": "markdown",
   "source": [
    "# Isentropic quasi-1D steady compressible flow\n",
    "This notebook demonstrates the use of the compressible flow tools for computing\n",
    "states and processes in isentropic quasi-1d steady compressible flow."
   ],
   "metadata": {}
  },
  {
   "cell_type": "markdown",
   "source": [
    "### Set up the module"
   ],
   "metadata": {}
  },
  {
   "outputs": [],
   "cell_type": "code",
   "source": [
    "using MAE150A\n",
    "using Gasdynamics1D"
   ],
   "metadata": {},
   "execution_count": 1
  },
  {
   "outputs": [],
   "cell_type": "code",
   "source": [
    "using Plots"
   ],
   "metadata": {},
   "execution_count": 2
  },
  {
   "cell_type": "markdown",
   "source": [
    "### Using isentropic relations\n",
    "Let us apply some basic isentropic relations."
   ],
   "metadata": {}
  },
  {
   "cell_type": "markdown",
   "source": [
    "#### Example 1\n",
    "Let's suppose two states of the flow in air, 1 and 2, are connected with each\n",
    "other by an isentropic process. We know the pressure p1 is 101 kPa, the temperature\n",
    "T1 is 20 degrees C, and the pressure p2 is 80 kPa. What is temperature T2?\n",
    "\n",
    "To answer this, we will use the relationship\n",
    "\n",
    "$$\\dfrac{T_2}{T_1} = \\left( \\dfrac{p_2}{p_1}\\right)^{(\\gamma-1)/\\gamma}$$"
   ],
   "metadata": {}
  },
  {
   "outputs": [
    {
     "output_type": "execute_result",
     "data": {
      "text/plain": "Pressure = 80000.0 Pa"
     },
     "metadata": {},
     "execution_count": 3
    }
   ],
   "cell_type": "code",
   "source": [
    "p1 = Pressure(101u\"kPa\")\n",
    "T1 = Temperature(20u\"°C\")\n",
    "p2 = Pressure(80u\"kPa\")"
   ],
   "metadata": {},
   "execution_count": 3
  },
  {
   "cell_type": "markdown",
   "source": [
    "First, let's set the pressure ratio:"
   ],
   "metadata": {}
  },
  {
   "outputs": [
    {
     "output_type": "execute_result",
     "data": {
      "text/plain": "PressureRatio = 0.7920792079207921"
     },
     "metadata": {},
     "execution_count": 4
    }
   ],
   "cell_type": "code",
   "source": [
    "p2_over_p1 = PressureRatio(p2/p1)"
   ],
   "metadata": {},
   "execution_count": 4
  },
  {
   "cell_type": "markdown",
   "source": [
    "Now find the temperature ratio. Note below that we specify the argument\n",
    "`Isentropic` to make sure it is clear that we are using the isentropic relation.\n",
    "We only need this argument when it is needed for clarity."
   ],
   "metadata": {}
  },
  {
   "outputs": [
    {
     "output_type": "execute_result",
     "data": {
      "text/plain": "TemperatureRatio = 0.9355709895748232"
     },
     "metadata": {},
     "execution_count": 5
    }
   ],
   "cell_type": "code",
   "source": [
    "T2_over_T1 = TemperatureRatio(p2_over_p1,Isentropic)"
   ],
   "metadata": {},
   "execution_count": 5
  },
  {
   "cell_type": "markdown",
   "source": [
    "It is important to understand that the tools \"know\" what formula you want to use\n",
    "(the one listed above), based on the fact that (a) you supplied it with a pressure\n",
    "ratio (the purpose of the `PressureRatio` line above), and (b) you told it that\n",
    "the process is `Isentropic`. It figures out the rest.\n",
    "Finally, calculate $T_2 = T_1 (T_2/T_1)$:"
   ],
   "metadata": {}
  },
  {
   "outputs": [
    {
     "output_type": "execute_result",
     "data": {
      "text/plain": "Temperature = 274.2626355938594 K"
     },
     "metadata": {},
     "execution_count": 6
    }
   ],
   "cell_type": "code",
   "source": [
    "T2 = Temperature(T1*T2_over_T1)"
   ],
   "metadata": {},
   "execution_count": 6
  },
  {
   "cell_type": "markdown",
   "source": [
    "or, in Celsius, if desired"
   ],
   "metadata": {}
  },
  {
   "outputs": [
    {
     "output_type": "execute_result",
     "data": {
      "text/plain": "1.1126355938594088 °C"
     },
     "metadata": {},
     "execution_count": 7
    }
   ],
   "cell_type": "code",
   "source": [
    "value(T2,u\"°C\")"
   ],
   "metadata": {},
   "execution_count": 7
  },
  {
   "cell_type": "markdown",
   "source": [
    "We could also do all of this in one line, though it is a bit harder to debug\n",
    "if something goes wrong:"
   ],
   "metadata": {}
  },
  {
   "outputs": [
    {
     "output_type": "execute_result",
     "data": {
      "text/plain": "Temperature = 274.2626355938594 K"
     },
     "metadata": {},
     "execution_count": 8
    }
   ],
   "cell_type": "code",
   "source": [
    "T2 = Temperature(T1*TemperatureRatio(PressureRatio(p2/p1),Isentropic))"
   ],
   "metadata": {},
   "execution_count": 8
  },
  {
   "cell_type": "markdown",
   "source": [
    "#### Example 2\n",
    "If the temperature ratio $T/T_0$ is 0.2381, what is the Mach number?"
   ],
   "metadata": {}
  },
  {
   "outputs": [
    {
     "output_type": "execute_result",
     "data": {
      "text/plain": "MachNumber = 3.9999475007054572"
     },
     "metadata": {},
     "execution_count": 9
    }
   ],
   "cell_type": "code",
   "source": [
    "MachNumber(TemperatureRatio(0.2381),Isentropic)"
   ],
   "metadata": {},
   "execution_count": 9
  },
  {
   "cell_type": "markdown",
   "source": [
    "#### Example 3\n",
    "If the Mach number is 4.4 and stagnation pressure is 800 kPa, what is the pressure?"
   ],
   "metadata": {}
  },
  {
   "outputs": [
    {
     "output_type": "execute_result",
     "data": {
      "text/plain": "Pressure = 3134.1119713819485 Pa"
     },
     "metadata": {},
     "execution_count": 10
    }
   ],
   "cell_type": "code",
   "source": [
    "Pressure(StagnationPressure(800u\"kPa\"),MachNumber(4.4),Isentropic)"
   ],
   "metadata": {},
   "execution_count": 10
  },
  {
   "cell_type": "markdown",
   "source": [
    "### Mach - area relations\n",
    "A big part of isentropic quasi-1D flow deals with changes of the flow in variable-area\n",
    "ducts. For these calculations, we make use of the *sonic area* $A_*$ as a reference area.\n",
    "Remember that, for any ratio of $A/A_*$, there are two possible Mach numbers,\n",
    "corresponding to a **subsonic flow** and a **supersonic flow**. Let us see that by\n",
    "plotting $A/A_*$ versus Mach number $M$. If, for example, $A/A_* = 2$, then\n",
    "note where the dashed line crosses the plot:"
   ],
   "metadata": {}
  },
  {
   "outputs": [
    {
     "output_type": "execute_result",
     "data": {
      "text/plain": "Plot{Plots.GRBackend() n=3}",
      "image/png": "[encoded data removed]",
      "text/html": [
       "<?xml version=\"1.0\" encoding=\"utf-8\"?>\n",
       "<svg xmlns=\"http://www.w3.org/2000/svg\" xmlns:xlink=\"http://www.w3.org/1999/xlink\" width=\"400\" height=\"300\" viewBox=\"0 0 1600 1200\">\n",
       "<defs>\n",
       "  <clipPath id=\"clip820\">\n",
       "    <rect x=\"0\" y=\"0\" width=\"1600\" height=\"1200\"/>\n",
       "  </clipPath>\n",
       "</defs>\n",
       "<path clip-path=\"url(#clip820)\" d=\"\n",
       "M0 1200 L1600 1200 L1600 0 L0 0  Z\n",
       "  \" fill=\"#ffffff\" fill-rule=\"evenodd\" fill-opacity=\"1\"/>\n",
       "<defs>\n",
       "  <clipPath id=\"clip821\">\n",
       "    <rect x=\"320\" y=\"0\" width=\"1121\" height=\"1121\"/>\n",
       "  </clipPath>\n",
       "</defs>\n",
       "<defs>\n",
       "  <clipPath id=\"clip822\">\n",
       "    <rect x=\"202\" y=\"47\" width=\"1351\" height=\"971\"/>\n",
       "  </clipPath>\n",
       "</defs>\n",
       "<path clip-path=\"url(#clip820)\" d=\"\n",
       "M202.336 1016.92 L1552.76 1016.92 L1552.76 47.2441 L202.336 47.2441  Z\n",
       "  \" fill=\"#ffffff\" fill-rule=\"evenodd\" fill-opacity=\"1\"/>\n",
       "<polyline clip-path=\"url(#clip820)\" style=\"stroke:#000000; stroke-linecap:round; stroke-linejoin:round; stroke-width:4; stroke-opacity:1; fill:none\" points=\"\n",
       "  202.336,1016.92 1552.76,1016.92 \n",
       "  \"/>\n",
       "<polyline clip-path=\"url(#clip820)\" style=\"stroke:#000000; stroke-linecap:round; stroke-linejoin:round; stroke-width:4; stroke-opacity:1; fill:none\" points=\"\n",
       "  202.336,1016.92 202.336,998.022 \n",
       "  \"/>\n",
       "<polyline clip-path=\"url(#clip820)\" style=\"stroke:#000000; stroke-linecap:round; stroke-linejoin:round; stroke-width:4; stroke-opacity:1; fill:none\" points=\"\n",
       "  539.941,1016.92 539.941,998.022 \n",
       "  \"/>\n",
       "<polyline clip-path=\"url(#clip820)\" style=\"stroke:#000000; stroke-linecap:round; stroke-linejoin:round; stroke-width:4; stroke-opacity:1; fill:none\" points=\"\n",
       "  877.546,1016.92 877.546,998.022 \n",
       "  \"/>\n",
       "<polyline clip-path=\"url(#clip820)\" style=\"stroke:#000000; stroke-linecap:round; stroke-linejoin:round; stroke-width:4; stroke-opacity:1; fill:none\" points=\"\n",
       "  1215.15,1016.92 1215.15,998.022 \n",
       "  \"/>\n",
       "<polyline clip-path=\"url(#clip820)\" style=\"stroke:#000000; stroke-linecap:round; stroke-linejoin:round; stroke-width:4; stroke-opacity:1; fill:none\" points=\"\n",
       "  1552.76,1016.92 1552.76,998.022 \n",
       "  \"/>\n",
       "<path clip-path=\"url(#clip820)\" d=\"M202.336 1041.44 Q198.725 1041.44 196.896 1045 Q195.09 1048.54 195.09 1055.67 Q195.09 1062.78 196.896 1066.35 Q198.725 1069.89 202.336 1069.89 Q205.97 1069.89 207.776 1066.35 Q209.604 1062.78 209.604 1055.67 Q209.604 1048.54 207.776 1045 Q205.97 1041.44 202.336 1041.44 M202.336 1037.73 Q208.146 1037.73 211.201 1042.34 Q214.28 1046.92 214.28 1055.67 Q214.28 1064.4 211.201 1069.01 Q208.146 1073.59 202.336 1073.59 Q196.526 1073.59 193.447 1069.01 Q190.391 1064.4 190.391 1055.67 Q190.391 1046.92 193.447 1042.34 Q196.526 1037.73 202.336 1037.73 Z\" fill=\"#000000\" fill-rule=\"evenodd\" fill-opacity=\"1\" /><path clip-path=\"url(#clip820)\" d=\"M530.323 1068.98 L537.962 1068.98 L537.962 1042.62 L529.652 1044.29 L529.652 1040.03 L537.915 1038.36 L542.591 1038.36 L542.591 1068.98 L550.23 1068.98 L550.23 1072.92 L530.323 1072.92 L530.323 1068.98 Z\" fill=\"#000000\" fill-rule=\"evenodd\" fill-opacity=\"1\" /><path clip-path=\"url(#clip820)\" d=\"M872.199 1068.98 L888.518 1068.98 L888.518 1072.92 L866.574 1072.92 L866.574 1068.98 Q869.236 1066.23 873.819 1061.6 Q878.425 1056.95 879.606 1055.61 Q881.851 1053.08 882.731 1051.35 Q883.634 1049.59 883.634 1047.9 Q883.634 1045.14 881.689 1043.41 Q879.768 1041.67 876.666 1041.67 Q874.467 1041.67 872.013 1042.43 Q869.583 1043.2 866.805 1044.75 L866.805 1040.03 Q869.629 1038.89 872.083 1038.31 Q874.537 1037.73 876.574 1037.73 Q881.944 1037.73 885.138 1040.42 Q888.333 1043.11 888.333 1047.6 Q888.333 1049.73 887.523 1051.65 Q886.736 1053.54 884.629 1056.14 Q884.05 1056.81 880.949 1060.03 Q877.847 1063.22 872.199 1068.98 Z\" fill=\"#000000\" fill-rule=\"evenodd\" fill-opacity=\"1\" /><path clip-path=\"url(#clip820)\" d=\"M1219.4 1054.29 Q1222.76 1055 1224.63 1057.27 Q1226.53 1059.54 1226.53 1062.87 Q1226.53 1067.99 1223.01 1070.79 Q1219.49 1073.59 1213.01 1073.59 Q1210.83 1073.59 1208.52 1073.15 Q1206.23 1072.73 1203.77 1071.88 L1203.77 1067.36 Q1205.72 1068.5 1208.03 1069.08 Q1210.35 1069.66 1212.87 1069.66 Q1217.27 1069.66 1219.56 1067.92 Q1221.88 1066.18 1221.88 1062.87 Q1221.88 1059.82 1219.72 1058.11 Q1217.59 1056.37 1213.77 1056.37 L1209.75 1056.37 L1209.75 1052.53 L1213.96 1052.53 Q1217.41 1052.53 1219.24 1051.16 Q1221.07 1049.77 1221.07 1047.18 Q1221.07 1044.52 1219.17 1043.11 Q1217.29 1041.67 1213.77 1041.67 Q1211.85 1041.67 1209.65 1042.09 Q1207.45 1042.5 1204.82 1043.38 L1204.82 1039.22 Q1207.48 1038.48 1209.79 1038.11 Q1212.13 1037.73 1214.19 1037.73 Q1219.51 1037.73 1222.62 1040.17 Q1225.72 1042.57 1225.72 1046.69 Q1225.72 1049.56 1224.07 1051.55 Q1222.43 1053.52 1219.4 1054.29 Z\" fill=\"#000000\" fill-rule=\"evenodd\" fill-opacity=\"1\" /><path clip-path=\"url(#clip820)\" d=\"M1555.77 1042.43 L1543.96 1060.88 L1555.77 1060.88 L1555.77 1042.43 M1554.54 1038.36 L1560.42 1038.36 L1560.42 1060.88 L1565.35 1060.88 L1565.35 1064.77 L1560.42 1064.77 L1560.42 1072.92 L1555.77 1072.92 L1555.77 1064.77 L1540.16 1064.77 L1540.16 1060.26 L1554.54 1038.36 Z\" fill=\"#000000\" fill-rule=\"evenodd\" fill-opacity=\"1\" /><path clip-path=\"url(#clip820)\" d=\"M656.513 1102.26 L666.093 1102.26 L678.22 1134.6 L690.41 1102.26 L699.99 1102.26 L699.99 1149.78 L693.72 1149.78 L693.72 1108.06 L681.466 1140.65 L675.005 1140.65 L662.751 1108.06 L662.751 1149.78 L656.513 1149.78 L656.513 1102.26 Z\" fill=\"#000000\" fill-rule=\"evenodd\" fill-opacity=\"1\" /><path clip-path=\"url(#clip820)\" d=\"M728.7 1131.86 Q721.602 1131.86 718.865 1133.49 Q716.127 1135.11 716.127 1139.03 Q716.127 1142.14 718.164 1143.99 Q720.233 1145.81 723.766 1145.81 Q728.636 1145.81 731.564 1142.37 Q734.524 1138.9 734.524 1133.17 L734.524 1131.86 L728.7 1131.86 M740.381 1129.45 L740.381 1149.78 L734.524 1149.78 L734.524 1144.37 Q732.519 1147.62 729.527 1149.18 Q726.535 1150.71 722.207 1150.71 Q716.732 1150.71 713.486 1147.65 Q710.271 1144.56 710.271 1139.41 Q710.271 1133.39 714.281 1130.34 Q718.324 1127.28 726.313 1127.28 L734.524 1127.28 L734.524 1126.71 Q734.524 1122.67 731.851 1120.47 Q729.209 1118.24 724.403 1118.24 Q721.347 1118.24 718.451 1118.97 Q715.555 1119.71 712.881 1121.17 L712.881 1115.76 Q716.096 1114.52 719.119 1113.91 Q722.143 1113.28 725.008 1113.28 Q732.742 1113.28 736.561 1117.29 Q740.381 1121.3 740.381 1129.45 Z\" fill=\"#000000\" fill-rule=\"evenodd\" fill-opacity=\"1\" /><path clip-path=\"url(#clip820)\" d=\"M778.098 1115.5 L778.098 1120.98 Q775.615 1119.61 773.101 1118.94 Q770.618 1118.24 768.072 1118.24 Q762.374 1118.24 759.223 1121.87 Q756.072 1125.47 756.072 1131.99 Q756.072 1138.52 759.223 1142.14 Q762.374 1145.74 768.072 1145.74 Q770.618 1145.74 773.101 1145.07 Q775.615 1144.37 778.098 1143 L778.098 1148.42 Q775.647 1149.56 773.005 1150.13 Q770.395 1150.71 767.435 1150.71 Q759.382 1150.71 754.64 1145.65 Q749.898 1140.59 749.898 1131.99 Q749.898 1123.27 754.672 1118.27 Q759.478 1113.28 767.817 1113.28 Q770.522 1113.28 773.101 1113.85 Q775.679 1114.39 778.098 1115.5 Z\" fill=\"#000000\" fill-rule=\"evenodd\" fill-opacity=\"1\" /><path clip-path=\"url(#clip820)\" d=\"M817.915 1128.27 L817.915 1149.78 L812.059 1149.78 L812.059 1128.46 Q812.059 1123.4 810.085 1120.88 Q808.112 1118.37 804.165 1118.37 Q799.423 1118.37 796.685 1121.39 Q793.948 1124.42 793.948 1129.64 L793.948 1149.78 L788.06 1149.78 L788.06 1100.26 L793.948 1100.26 L793.948 1119.67 Q796.049 1116.46 798.882 1114.87 Q801.746 1113.28 805.47 1113.28 Q811.613 1113.28 814.764 1117.1 Q817.915 1120.88 817.915 1128.27 Z\" fill=\"#000000\" fill-rule=\"evenodd\" fill-opacity=\"1\" /><path clip-path=\"url(#clip820)\" d=\"M879.949 1128.27 L879.949 1149.78 L874.092 1149.78 L874.092 1128.46 Q874.092 1123.4 872.119 1120.88 Q870.146 1118.37 866.199 1118.37 Q861.457 1118.37 858.719 1121.39 Q855.982 1124.42 855.982 1129.64 L855.982 1149.78 L850.094 1149.78 L850.094 1114.14 L855.982 1114.14 L855.982 1119.67 Q858.083 1116.46 860.915 1114.87 Q863.78 1113.28 867.504 1113.28 Q873.647 1113.28 876.798 1117.1 Q879.949 1120.88 879.949 1128.27 Z\" fill=\"#000000\" fill-rule=\"evenodd\" fill-opacity=\"1\" /><path clip-path=\"url(#clip820)\" d=\"M891.025 1135.72 L891.025 1114.14 L896.882 1114.14 L896.882 1135.49 Q896.882 1140.55 898.855 1143.1 Q900.828 1145.61 904.775 1145.61 Q909.518 1145.61 912.255 1142.59 Q915.024 1139.57 915.024 1134.35 L915.024 1114.14 L920.88 1114.14 L920.88 1149.78 L915.024 1149.78 L915.024 1144.31 Q912.891 1147.56 910.059 1149.15 Q907.258 1150.71 903.534 1150.71 Q897.391 1150.71 894.208 1146.89 Q891.025 1143.07 891.025 1135.72 M905.762 1113.28 L905.762 1113.28 Z\" fill=\"#000000\" fill-rule=\"evenodd\" fill-opacity=\"1\" /><path clip-path=\"url(#clip820)\" d=\"M960.698 1120.98 Q962.894 1117.03 965.95 1115.15 Q969.005 1113.28 973.143 1113.28 Q978.713 1113.28 981.737 1117.19 Q984.76 1121.07 984.76 1128.27 L984.76 1149.78 L978.872 1149.78 L978.872 1128.46 Q978.872 1123.33 977.058 1120.85 Q975.244 1118.37 971.52 1118.37 Q966.968 1118.37 964.326 1121.39 Q961.685 1124.42 961.685 1129.64 L961.685 1149.78 L955.796 1149.78 L955.796 1128.46 Q955.796 1123.3 953.982 1120.85 Q952.168 1118.37 948.38 1118.37 Q943.892 1118.37 941.251 1121.42 Q938.609 1124.45 938.609 1129.64 L938.609 1149.78 L932.721 1149.78 L932.721 1114.14 L938.609 1114.14 L938.609 1119.67 Q940.614 1116.4 943.415 1114.84 Q946.216 1113.28 950.067 1113.28 Q953.95 1113.28 956.656 1115.25 Q959.393 1117.22 960.698 1120.98 Z\" fill=\"#000000\" fill-rule=\"evenodd\" fill-opacity=\"1\" /><path clip-path=\"url(#clip820)\" d=\"M1022.03 1131.99 Q1022.03 1125.53 1019.36 1121.87 Q1016.72 1118.18 1012.07 1118.18 Q1007.42 1118.18 1004.75 1121.87 Q1002.11 1125.53 1002.11 1131.99 Q1002.11 1138.45 1004.75 1142.14 Q1007.42 1145.81 1012.07 1145.81 Q1016.72 1145.81 1019.36 1142.14 Q1022.03 1138.45 1022.03 1131.99 M1002.11 1119.55 Q1003.95 1116.36 1006.75 1114.84 Q1009.59 1113.28 1013.5 1113.28 Q1019.99 1113.28 1024.04 1118.43 Q1028.11 1123.59 1028.11 1131.99 Q1028.11 1140.39 1024.04 1145.55 Q1019.99 1150.71 1013.5 1150.71 Q1009.59 1150.71 1006.75 1149.18 Q1003.95 1147.62 1002.11 1144.44 L1002.11 1149.78 L996.219 1149.78 L996.219 1100.26 L1002.11 1100.26 L1002.11 1119.55 Z\" fill=\"#000000\" fill-rule=\"evenodd\" fill-opacity=\"1\" /><path clip-path=\"url(#clip820)\" d=\"M1068.31 1130.5 L1068.31 1133.36 L1041.38 1133.36 Q1041.77 1139.41 1045.01 1142.59 Q1048.29 1145.74 1054.11 1145.74 Q1057.49 1145.74 1060.64 1144.91 Q1063.82 1144.09 1066.94 1142.43 L1066.94 1147.97 Q1063.79 1149.31 1060.48 1150.01 Q1057.17 1150.71 1053.76 1150.71 Q1045.23 1150.71 1040.24 1145.74 Q1035.27 1140.78 1035.27 1132.31 Q1035.27 1123.56 1039.98 1118.43 Q1044.73 1113.28 1052.75 1113.28 Q1059.94 1113.28 1064.11 1117.92 Q1068.31 1122.54 1068.31 1130.5 M1062.45 1128.78 Q1062.39 1123.97 1059.75 1121.11 Q1057.14 1118.24 1052.81 1118.24 Q1047.91 1118.24 1044.95 1121.01 Q1042.02 1123.78 1041.57 1128.81 L1062.45 1128.78 Z\" fill=\"#000000\" fill-rule=\"evenodd\" fill-opacity=\"1\" /><path clip-path=\"url(#clip820)\" d=\"M1098.58 1119.61 Q1097.59 1119.04 1096.41 1118.78 Q1095.27 1118.5 1093.87 1118.5 Q1088.9 1118.5 1086.23 1121.74 Q1083.59 1124.96 1083.59 1131.01 L1083.59 1149.78 L1077.7 1149.78 L1077.7 1114.14 L1083.59 1114.14 L1083.59 1119.67 Q1085.43 1116.43 1088.39 1114.87 Q1091.35 1113.28 1095.59 1113.28 Q1096.19 1113.28 1096.92 1113.37 Q1097.66 1113.44 1098.55 1113.59 L1098.58 1119.61 Z\" fill=\"#000000\" fill-rule=\"evenodd\" fill-opacity=\"1\" /><polyline clip-path=\"url(#clip820)\" style=\"stroke:#000000; stroke-linecap:round; stroke-linejoin:round; stroke-width:4; stroke-opacity:1; fill:none\" points=\"\n",
       "  202.336,1016.92 202.336,47.2441 \n",
       "  \"/>\n",
       "<polyline clip-path=\"url(#clip820)\" style=\"stroke:#000000; stroke-linecap:round; stroke-linejoin:round; stroke-width:4; stroke-opacity:1; fill:none\" points=\"\n",
       "  202.336,1016.92 221.233,1016.92 \n",
       "  \"/>\n",
       "<polyline clip-path=\"url(#clip820)\" style=\"stroke:#000000; stroke-linecap:round; stroke-linejoin:round; stroke-width:4; stroke-opacity:1; fill:none\" points=\"\n",
       "  202.336,936.114 221.233,936.114 \n",
       "  \"/>\n",
       "<polyline clip-path=\"url(#clip820)\" style=\"stroke:#000000; stroke-linecap:round; stroke-linejoin:round; stroke-width:4; stroke-opacity:1; fill:none\" points=\"\n",
       "  202.336,855.307 221.233,855.307 \n",
       "  \"/>\n",
       "<polyline clip-path=\"url(#clip820)\" style=\"stroke:#000000; stroke-linecap:round; stroke-linejoin:round; stroke-width:4; stroke-opacity:1; fill:none\" points=\"\n",
       "  202.336,774.501 221.233,774.501 \n",
       "  \"/>\n",
       "<polyline clip-path=\"url(#clip820)\" style=\"stroke:#000000; stroke-linecap:round; stroke-linejoin:round; stroke-width:4; stroke-opacity:1; fill:none\" points=\"\n",
       "  202.336,693.695 221.233,693.695 \n",
       "  \"/>\n",
       "<polyline clip-path=\"url(#clip820)\" style=\"stroke:#000000; stroke-linecap:round; stroke-linejoin:round; stroke-width:4; stroke-opacity:1; fill:none\" points=\"\n",
       "  202.336,612.888 221.233,612.888 \n",
       "  \"/>\n",
       "<polyline clip-path=\"url(#clip820)\" style=\"stroke:#000000; stroke-linecap:round; stroke-linejoin:round; stroke-width:4; stroke-opacity:1; fill:none\" points=\"\n",
       "  202.336,532.082 221.233,532.082 \n",
       "  \"/>\n",
       "<polyline clip-path=\"url(#clip820)\" style=\"stroke:#000000; stroke-linecap:round; stroke-linejoin:round; stroke-width:4; stroke-opacity:1; fill:none\" points=\"\n",
       "  202.336,451.276 221.233,451.276 \n",
       "  \"/>\n",
       "<polyline clip-path=\"url(#clip820)\" style=\"stroke:#000000; stroke-linecap:round; stroke-linejoin:round; stroke-width:4; stroke-opacity:1; fill:none\" points=\"\n",
       "  202.336,370.469 221.233,370.469 \n",
       "  \"/>\n",
       "<polyline clip-path=\"url(#clip820)\" style=\"stroke:#000000; stroke-linecap:round; stroke-linejoin:round; stroke-width:4; stroke-opacity:1; fill:none\" points=\"\n",
       "  202.336,289.663 221.233,289.663 \n",
       "  \"/>\n",
       "<polyline clip-path=\"url(#clip820)\" style=\"stroke:#000000; stroke-linecap:round; stroke-linejoin:round; stroke-width:4; stroke-opacity:1; fill:none\" points=\"\n",
       "  202.336,208.857 221.233,208.857 \n",
       "  \"/>\n",
       "<polyline clip-path=\"url(#clip820)\" style=\"stroke:#000000; stroke-linecap:round; stroke-linejoin:round; stroke-width:4; stroke-opacity:1; fill:none\" points=\"\n",
       "  202.336,128.05 221.233,128.05 \n",
       "  \"/>\n",
       "<polyline clip-path=\"url(#clip820)\" style=\"stroke:#000000; stroke-linecap:round; stroke-linejoin:round; stroke-width:4; stroke-opacity:1; fill:none\" points=\"\n",
       "  202.336,47.2441 221.233,47.2441 \n",
       "  \"/>\n",
       "<path clip-path=\"url(#clip820)\" d=\"M166.391 1002.72 Q162.78 1002.72 160.952 1006.28 Q159.146 1009.82 159.146 1016.95 Q159.146 1024.06 160.952 1027.63 Q162.78 1031.17 166.391 1031.17 Q170.026 1031.17 171.831 1027.63 Q173.66 1024.06 173.66 1016.95 Q173.66 1009.82 171.831 1006.28 Q170.026 1002.72 166.391 1002.72 M166.391 999.015 Q172.202 999.015 175.257 1003.62 Q178.336 1008.2 178.336 1016.95 Q178.336 1025.68 175.257 1030.29 Q172.202 1034.87 166.391 1034.87 Q160.581 1034.87 157.503 1030.29 Q154.447 1025.68 154.447 1016.95 Q154.447 1008.2 157.503 1003.62 Q160.581 999.015 166.391 999.015 Z\" fill=\"#000000\" fill-rule=\"evenodd\" fill-opacity=\"1\" /><path clip-path=\"url(#clip820)\" d=\"M158.428 949.458 L166.067 949.458 L166.067 923.093 L157.757 924.759 L157.757 920.5 L166.021 918.834 L170.697 918.834 L170.697 949.458 L178.336 949.458 L178.336 953.394 L158.428 953.394 L158.428 949.458 Z\" fill=\"#000000\" fill-rule=\"evenodd\" fill-opacity=\"1\" /><path clip-path=\"url(#clip820)\" d=\"M162.016 868.652 L178.336 868.652 L178.336 872.587 L156.391 872.587 L156.391 868.652 Q159.053 865.897 163.637 861.268 Q168.243 856.615 169.424 855.272 Q171.669 852.749 172.549 851.013 Q173.452 849.254 173.452 847.564 Q173.452 844.81 171.507 843.073 Q169.586 841.337 166.484 841.337 Q164.285 841.337 161.831 842.101 Q159.401 842.865 156.623 844.416 L156.623 839.694 Q159.447 838.56 161.901 837.981 Q164.354 837.402 166.391 837.402 Q171.762 837.402 174.956 840.087 Q178.151 842.773 178.151 847.263 Q178.151 849.393 177.34 851.314 Q176.553 853.212 174.447 855.805 Q173.868 856.476 170.766 859.694 Q167.665 862.888 162.016 868.652 Z\" fill=\"#000000\" fill-rule=\"evenodd\" fill-opacity=\"1\" /><path clip-path=\"url(#clip820)\" d=\"M171.206 773.147 Q174.563 773.864 176.438 776.133 Q178.336 778.401 178.336 781.735 Q178.336 786.85 174.817 789.651 Q171.299 792.452 164.817 792.452 Q162.641 792.452 160.327 792.012 Q158.035 791.596 155.581 790.739 L155.581 786.225 Q157.526 787.36 159.841 787.938 Q162.155 788.517 164.678 788.517 Q169.077 788.517 171.368 786.781 Q173.683 785.045 173.683 781.735 Q173.683 778.679 171.53 776.966 Q169.401 775.23 165.581 775.23 L161.553 775.23 L161.553 771.387 L165.766 771.387 Q169.215 771.387 171.044 770.022 Q172.873 768.633 172.873 766.04 Q172.873 763.378 170.975 761.966 Q169.1 760.531 165.581 760.531 Q163.66 760.531 161.461 760.948 Q159.262 761.364 156.623 762.244 L156.623 758.077 Q159.285 757.337 161.6 756.966 Q163.938 756.596 165.998 756.596 Q171.322 756.596 174.424 759.026 Q177.526 761.434 177.526 765.554 Q177.526 768.425 175.882 770.415 Q174.239 772.383 171.206 773.147 Z\" fill=\"#000000\" fill-rule=\"evenodd\" fill-opacity=\"1\" /><path clip-path=\"url(#clip820)\" d=\"M168.753 680.489 L156.947 698.938 L168.753 698.938 L168.753 680.489 M167.526 676.415 L173.405 676.415 L173.405 698.938 L178.336 698.938 L178.336 702.826 L173.405 702.826 L173.405 710.975 L168.753 710.975 L168.753 702.826 L153.151 702.826 L153.151 698.313 L167.526 676.415 Z\" fill=\"#000000\" fill-rule=\"evenodd\" fill-opacity=\"1\" /><path clip-path=\"url(#clip820)\" d=\"M157.433 595.608 L175.79 595.608 L175.79 599.543 L161.716 599.543 L161.716 608.016 Q162.734 607.668 163.753 607.506 Q164.771 607.321 165.79 607.321 Q171.577 607.321 174.956 610.492 Q178.336 613.664 178.336 619.08 Q178.336 624.659 174.864 627.761 Q171.391 630.84 165.072 630.84 Q162.896 630.84 160.628 630.469 Q158.382 630.099 155.975 629.358 L155.975 624.659 Q158.058 625.793 160.28 626.349 Q162.503 626.904 164.979 626.904 Q168.984 626.904 171.322 624.798 Q173.66 622.691 173.66 619.08 Q173.66 615.469 171.322 613.363 Q168.984 611.256 164.979 611.256 Q163.104 611.256 161.229 611.673 Q159.378 612.09 157.433 612.969 L157.433 595.608 Z\" fill=\"#000000\" fill-rule=\"evenodd\" fill-opacity=\"1\" /><path clip-path=\"url(#clip820)\" d=\"M166.808 530.219 Q163.66 530.219 161.808 532.371 Q159.979 534.524 159.979 538.274 Q159.979 542.001 161.808 544.177 Q163.66 546.33 166.808 546.33 Q169.956 546.33 171.785 544.177 Q173.637 542.001 173.637 538.274 Q173.637 534.524 171.785 532.371 Q169.956 530.219 166.808 530.219 M176.09 515.566 L176.09 519.825 Q174.331 518.992 172.526 518.552 Q170.743 518.112 168.984 518.112 Q164.354 518.112 161.901 521.237 Q159.47 524.362 159.123 530.682 Q160.489 528.668 162.549 527.603 Q164.609 526.515 167.086 526.515 Q172.294 526.515 175.303 529.686 Q178.336 532.834 178.336 538.274 Q178.336 543.598 175.188 546.816 Q172.04 550.033 166.808 550.033 Q160.813 550.033 157.641 545.45 Q154.47 540.843 154.47 532.117 Q154.47 523.922 158.359 519.061 Q162.248 514.177 168.799 514.177 Q170.558 514.177 172.34 514.524 Q174.146 514.871 176.09 515.566 Z\" fill=\"#000000\" fill-rule=\"evenodd\" fill-opacity=\"1\" /><path clip-path=\"url(#clip820)\" d=\"M156.114 433.996 L178.336 433.996 L178.336 435.986 L165.79 468.556 L160.905 468.556 L172.711 437.931 L156.114 437.931 L156.114 433.996 Z\" fill=\"#000000\" fill-rule=\"evenodd\" fill-opacity=\"1\" /><path clip-path=\"url(#clip820)\" d=\"M166.484 371.337 Q163.151 371.337 161.229 373.12 Q159.331 374.902 159.331 378.027 Q159.331 381.152 161.229 382.935 Q163.151 384.717 166.484 384.717 Q169.817 384.717 171.739 382.935 Q173.66 381.129 173.66 378.027 Q173.66 374.902 171.739 373.12 Q169.84 371.337 166.484 371.337 M161.808 369.347 Q158.799 368.606 157.109 366.546 Q155.442 364.486 155.442 361.523 Q155.442 357.379 158.382 354.972 Q161.345 352.564 166.484 352.564 Q171.646 352.564 174.586 354.972 Q177.526 357.379 177.526 361.523 Q177.526 364.486 175.836 366.546 Q174.169 368.606 171.183 369.347 Q174.563 370.134 176.438 372.425 Q178.336 374.717 178.336 378.027 Q178.336 383.05 175.257 385.735 Q172.202 388.421 166.484 388.421 Q160.766 388.421 157.688 385.735 Q154.632 383.05 154.632 378.027 Q154.632 374.717 156.53 372.425 Q158.428 370.134 161.808 369.347 M160.095 361.962 Q160.095 364.648 161.762 366.152 Q163.452 367.657 166.484 367.657 Q169.493 367.657 171.183 366.152 Q172.896 364.648 172.896 361.962 Q172.896 359.277 171.183 357.773 Q169.493 356.268 166.484 356.268 Q163.452 356.268 161.762 357.773 Q160.095 359.277 160.095 361.962 Z\" fill=\"#000000\" fill-rule=\"evenodd\" fill-opacity=\"1\" /><path clip-path=\"url(#clip820)\" d=\"M156.716 306.225 L156.716 301.966 Q158.475 302.8 160.28 303.239 Q162.086 303.679 163.822 303.679 Q168.452 303.679 170.882 300.577 Q173.336 297.452 173.683 291.11 Q172.34 293.101 170.28 294.165 Q168.22 295.23 165.72 295.23 Q160.535 295.23 157.503 292.105 Q154.493 288.957 154.493 283.517 Q154.493 278.193 157.641 274.976 Q160.79 271.758 166.021 271.758 Q172.016 271.758 175.165 276.364 Q178.336 280.948 178.336 289.698 Q178.336 297.869 174.447 302.753 Q170.581 307.614 164.03 307.614 Q162.271 307.614 160.466 307.267 Q158.66 306.92 156.716 306.225 M166.021 291.573 Q169.169 291.573 170.998 289.42 Q172.85 287.267 172.85 283.517 Q172.85 279.79 170.998 277.638 Q169.169 275.462 166.021 275.462 Q162.873 275.462 161.021 277.638 Q159.192 279.79 159.192 283.517 Q159.192 287.267 161.021 289.42 Q162.873 291.573 166.021 291.573 Z\" fill=\"#000000\" fill-rule=\"evenodd\" fill-opacity=\"1\" /><path clip-path=\"url(#clip820)\" d=\"M127.04 222.202 L134.679 222.202 L134.679 195.836 L126.368 197.503 L126.368 193.243 L134.632 191.577 L139.308 191.577 L139.308 222.202 L146.947 222.202 L146.947 226.137 L127.04 226.137 L127.04 222.202 Z\" fill=\"#000000\" fill-rule=\"evenodd\" fill-opacity=\"1\" /><path clip-path=\"url(#clip820)\" d=\"M166.391 194.655 Q162.78 194.655 160.952 198.22 Q159.146 201.762 159.146 208.891 Q159.146 215.998 160.952 219.563 Q162.78 223.104 166.391 223.104 Q170.026 223.104 171.831 219.563 Q173.66 215.998 173.66 208.891 Q173.66 201.762 171.831 198.22 Q170.026 194.655 166.391 194.655 M166.391 190.952 Q172.202 190.952 175.257 195.558 Q178.336 200.141 178.336 208.891 Q178.336 217.618 175.257 222.225 Q172.202 226.808 166.391 226.808 Q160.581 226.808 157.503 222.225 Q154.447 217.618 154.447 208.891 Q154.447 200.141 157.503 195.558 Q160.581 190.952 166.391 190.952 Z\" fill=\"#000000\" fill-rule=\"evenodd\" fill-opacity=\"1\" /><path clip-path=\"url(#clip820)\" d=\"M128.267 141.395 L135.905 141.395 L135.905 115.03 L127.595 116.696 L127.595 112.437 L135.859 110.77 L140.535 110.77 L140.535 141.395 L148.174 141.395 L148.174 145.33 L128.267 145.33 L128.267 141.395 Z\" fill=\"#000000\" fill-rule=\"evenodd\" fill-opacity=\"1\" /><path clip-path=\"url(#clip820)\" d=\"M158.428 141.395 L166.067 141.395 L166.067 115.03 L157.757 116.696 L157.757 112.437 L166.021 110.77 L170.697 110.77 L170.697 141.395 L178.336 141.395 L178.336 145.33 L158.428 145.33 L158.428 141.395 Z\" fill=\"#000000\" fill-rule=\"evenodd\" fill-opacity=\"1\" /><path clip-path=\"url(#clip820)\" d=\"M128.637 60.5889 L136.276 60.5889 L136.276 34.2233 L127.966 35.89 L127.966 31.6308 L136.23 29.9641 L140.905 29.9641 L140.905 60.5889 L148.544 60.5889 L148.544 64.5241 L128.637 64.5241 L128.637 60.5889 Z\" fill=\"#000000\" fill-rule=\"evenodd\" fill-opacity=\"1\" /><path clip-path=\"url(#clip820)\" d=\"M162.016 60.5889 L178.336 60.5889 L178.336 64.5241 L156.391 64.5241 L156.391 60.5889 Q159.053 57.8343 163.637 53.2047 Q168.243 48.552 169.424 47.2094 Q171.669 44.6862 172.549 42.9501 Q173.452 41.1909 173.452 39.5011 Q173.452 36.7465 171.507 35.0104 Q169.586 33.2743 166.484 33.2743 Q164.285 33.2743 161.831 34.0381 Q159.401 34.802 156.623 36.3529 L156.623 31.6308 Q159.447 30.4965 161.901 29.9178 Q164.354 29.3391 166.391 29.3391 Q171.762 29.3391 174.956 32.0243 Q178.151 34.7094 178.151 39.2002 Q178.151 41.3298 177.34 43.2511 Q176.553 45.1492 174.447 47.7418 Q173.868 48.4131 170.766 51.6306 Q167.665 54.8251 162.016 60.5889 Z\" fill=\"#000000\" fill-rule=\"evenodd\" fill-opacity=\"1\" /><path clip-path=\"url(#clip820)\" d=\"M83.1586 581.346 Q83.7705 581.346 84.0926 581.603 Q84.3825 581.829 84.4469 582.054 Q84.4791 582.247 84.4791 582.537 Q84.4791 583.375 84.3825 586.273 Q84.2858 589.172 84.2858 590.009 Q84.2858 591.362 84.3825 594.131 Q84.4791 596.901 84.4791 598.254 Q84.4791 599.155 83.7383 599.155 Q83.2553 599.155 82.9976 599.059 Q82.7078 598.962 82.6111 598.704 Q82.4823 598.415 82.4823 598.254 Q82.4501 598.06 82.4501 597.577 Q82.4501 596.933 82.3857 596.257 Q82.2891 595.581 82.0958 594.743 Q81.9026 593.906 81.4195 593.391 Q80.9364 592.843 80.2601 592.843 Q79.9703 592.843 77.587 593.068 Q75.2038 593.294 72.4341 593.584 Q69.6322 593.874 69.2457 593.906 L69.2457 610.46 Q71.8544 611.973 73.6579 613.036 Q75.4614 614.099 76.0733 614.485 Q76.6853 614.872 77.0717 615.097 Q77.4582 615.323 77.6836 615.452 Q79.3906 616.386 80.1313 616.386 Q82.1925 616.386 82.4501 613.294 Q82.4501 612.231 83.223 612.231 Q83.8028 612.231 84.1248 612.489 Q84.4147 612.746 84.4469 612.972 Q84.4791 613.165 84.4791 613.487 Q84.4791 614.55 84.3825 616.772 Q84.2858 618.994 84.2858 620.089 Q84.2858 621.023 84.3825 622.956 Q84.4791 624.888 84.4791 625.757 Q84.4791 626.144 84.2536 626.369 Q84.0282 626.595 83.7383 626.595 Q83.2875 626.595 83.0298 626.53 Q82.7722 626.434 82.6433 626.176 Q82.5145 625.918 82.5145 625.79 Q82.4823 625.661 82.4501 625.21 Q82.2891 622.762 81.1297 620.862 Q79.9381 618.93 76.8785 617.094 L38.3603 594.163 Q37.9738 593.938 37.7806 593.777 Q37.5873 593.616 37.4263 593.294 Q37.2653 592.94 37.2653 592.424 Q37.2653 591.619 37.5229 591.458 Q37.7484 591.297 38.8434 591.201 L80.0669 587.175 Q80.9364 587.078 81.2907 587.014 Q81.6128 586.917 81.967 586.498 Q82.2891 586.048 82.3857 585.242 Q82.4501 584.405 82.4501 582.859 Q82.4501 582.28 82.4823 582.054 Q82.4823 581.829 82.6433 581.603 Q82.8044 581.346 83.1586 581.346 M67.1845 594.099 L45.4456 596.192 L67.1845 609.204 L67.1845 594.099 Z\" fill=\"#000000\" fill-rule=\"evenodd\" fill-opacity=\"1\" /><path clip-path=\"url(#clip820)\" d=\"M100.035 577.603 Q99.7124 577.603 99.0039 577.345 L36.7822 554.06 Q36.7178 554.06 36.3635 553.899 Q36.0093 553.738 35.7838 553.641 Q35.5262 553.545 35.3329 553.352 Q35.1397 553.126 35.1397 552.868 Q35.1397 552.224 35.9448 552.224 Q36.0093 552.224 36.7822 552.418 L99.0683 575.767 Q100.196 576.153 100.518 576.411 Q100.84 576.636 100.84 577.023 Q100.84 577.603 100.035 577.603 Z\" fill=\"#000000\" fill-rule=\"evenodd\" fill-opacity=\"1\" /><path clip-path=\"url(#clip820)\" d=\"M83.1586 499.692 Q83.7705 499.692 84.0926 499.95 Q84.3825 500.175 84.4469 500.4 Q84.4791 500.594 84.4791 500.884 Q84.4791 501.721 84.3825 504.619 Q84.2858 507.518 84.2858 508.355 Q84.2858 509.708 84.3825 512.478 Q84.4791 515.247 84.4791 516.6 Q84.4791 517.502 83.7383 517.502 Q83.2553 517.502 82.9976 517.405 Q82.7078 517.308 82.6111 517.051 Q82.4823 516.761 82.4823 516.6 Q82.4501 516.407 82.4501 515.924 Q82.4501 515.28 82.3857 514.603 Q82.2891 513.927 82.0958 513.09 Q81.9026 512.252 81.4195 511.737 Q80.9364 511.189 80.2601 511.189 Q79.9703 511.189 77.587 511.415 Q75.2038 511.64 72.4341 511.93 Q69.6322 512.22 69.2457 512.252 L69.2457 528.806 Q71.8544 530.32 73.6579 531.382 Q75.4614 532.445 76.0733 532.832 Q76.6853 533.218 77.0717 533.444 Q77.4582 533.669 77.6836 533.798 Q79.3906 534.732 80.1313 534.732 Q82.1925 534.732 82.4501 531.64 Q82.4501 530.577 83.223 530.577 Q83.8028 530.577 84.1248 530.835 Q84.4147 531.093 84.4469 531.318 Q84.4791 531.511 84.4791 531.833 Q84.4791 532.896 84.3825 535.118 Q84.2858 537.341 84.2858 538.436 Q84.2858 539.37 84.3825 541.302 Q84.4791 543.234 84.4791 544.104 Q84.4791 544.49 84.2536 544.716 Q84.0282 544.941 83.7383 544.941 Q83.2875 544.941 83.0298 544.877 Q82.7722 544.78 82.6433 544.522 Q82.5145 544.265 82.5145 544.136 Q82.4823 544.007 82.4501 543.556 Q82.2891 541.109 81.1297 539.208 Q79.9381 537.276 76.8785 535.44 L38.3603 512.51 Q37.9738 512.284 37.7806 512.123 Q37.5873 511.962 37.4263 511.64 Q37.2653 511.286 37.2653 510.771 Q37.2653 509.966 37.5229 509.805 Q37.7484 509.643 38.8434 509.547 L80.0669 505.521 Q80.9364 505.425 81.2907 505.36 Q81.6128 505.264 81.967 504.845 Q82.2891 504.394 82.3857 503.589 Q82.4501 502.751 82.4501 501.206 Q82.4501 500.626 82.4823 500.4 Q82.4823 500.175 82.6433 499.95 Q82.8044 499.692 83.1586 499.692 M67.1845 512.445 L45.4456 514.539 L67.1845 527.55 L67.1845 512.445 Z\" fill=\"#000000\" fill-rule=\"evenodd\" fill-opacity=\"1\" /><path clip-path=\"url(#clip820)\" d=\"M89.4283 480.28 Q88.6392 480.28 88.1207 479.221 L85.0772 472.796 L82.0338 479.311 Q81.5829 480.28 80.7939 480.28 Q80.343 480.28 79.9372 479.92 Q79.5089 479.536 79.5089 479.04 Q79.5089 478.68 80.0048 478.026 L84.1529 472.3 Q76.533 472.999 76.3076 472.976 Q75.8567 472.976 75.5185 472.638 Q75.1578 472.3 75.1578 471.736 Q75.1578 471.285 75.496 470.925 Q75.8116 470.541 76.3076 470.541 L84.1529 471.218 L80.3655 466.1 Q79.4863 464.905 79.5089 464.477 Q79.5089 463.958 79.9146 463.598 Q80.3204 463.237 80.7939 463.237 Q81.5829 463.237 82.0789 464.297 L85.1223 470.722 L88.1883 464.206 Q88.6392 463.237 89.4283 463.237 Q89.8791 463.237 90.3075 463.62 Q90.7133 463.981 90.7133 464.477 Q90.7133 464.748 90.4427 465.221 Q90.3977 465.311 89.6762 466.281 Q88.9548 467.25 87.8502 468.76 Q86.7455 470.248 86.0466 471.218 Q93.6665 470.519 93.892 470.541 Q94.3429 470.541 94.7036 470.88 Q95.0643 471.218 95.0643 471.781 Q95.0643 472.232 94.7487 472.615 Q94.4105 472.976 93.892 472.976 L86.0466 472.3 L90.7133 478.747 Q90.7133 479.446 90.3751 479.83 Q90.0144 480.19 89.8115 480.235 Q89.6086 480.28 89.4283 480.28 Z\" fill=\"#000000\" fill-rule=\"evenodd\" fill-opacity=\"1\" /><polyline clip-path=\"url(#clip822)\" style=\"stroke:#009af9; stroke-linecap:round; stroke-linejoin:round; stroke-width:4; stroke-opacity:1; fill:none\" points=\"\n",
       "  205.712,-3659.65 209.088,-1321.79 212.464,-542.686 215.84,-153.276 219.216,80.258 222.592,235.853 225.968,346.912 229.344,430.136 232.72,494.803 236.096,546.479 \n",
       "  239.472,588.709 242.848,623.852 246.224,653.545 249.6,678.956 252.977,700.939 256.353,720.139 259.729,737.046 263.105,752.043 266.481,765.43 269.857,777.449 \n",
       "  273.233,788.295 276.609,798.129 279.985,807.081 283.361,815.263 286.737,822.766 290.113,829.668 293.489,836.037 296.865,841.929 300.241,847.394 303.617,852.474 \n",
       "  306.993,857.206 310.369,861.622 313.745,865.752 317.121,869.62 320.498,873.249 323.874,876.658 327.25,879.865 330.626,882.887 334.002,885.736 337.378,888.426 \n",
       "  340.754,890.969 344.13,893.375 347.506,895.652 350.882,897.811 354.258,899.858 357.634,901.801 361.01,903.646 364.386,905.399 367.762,907.066 371.138,908.652 \n",
       "  374.514,910.161 377.89,911.598 381.266,912.966 384.643,914.27 388.019,915.512 391.395,916.696 394.771,917.825 398.147,918.901 401.523,919.927 404.899,920.906 \n",
       "  408.275,921.839 411.651,922.728 415.027,923.576 418.403,924.385 421.779,925.155 425.155,925.889 428.531,926.588 431.907,927.253 435.283,927.886 438.659,928.488 \n",
       "  442.035,929.06 445.411,929.603 448.787,930.118 452.164,930.607 455.54,931.07 458.916,931.508 462.292,931.921 465.668,932.311 469.044,932.679 472.42,933.024 \n",
       "  475.796,933.348 479.172,933.652 482.548,933.935 485.924,934.199 489.3,934.443 492.676,934.669 496.052,934.877 499.428,935.068 502.804,935.241 506.18,935.397 \n",
       "  509.556,935.537 512.932,935.661 516.308,935.769 519.685,935.862 523.061,935.94 526.437,936.003 529.813,936.052 533.189,936.086 536.565,936.107 539.941,936.114 \n",
       "  543.317,936.107 546.693,936.087 550.069,936.054 553.445,936.008 556.821,935.95 560.197,935.879 563.573,935.795 566.949,935.7 570.325,935.592 573.701,935.473 \n",
       "  577.077,935.342 580.453,935.199 583.829,935.045 587.206,934.88 590.582,934.703 593.958,934.515 597.334,934.316 600.71,934.106 604.086,933.885 607.462,933.654 \n",
       "  610.838,933.411 614.214,933.158 617.59,932.895 620.966,932.62 624.342,932.336 627.718,932.04 631.094,931.735 634.47,931.419 637.846,931.092 641.222,930.756 \n",
       "  644.598,930.409 647.974,930.052 651.35,929.684 654.727,929.307 658.103,928.919 661.479,928.521 664.855,928.112 668.231,927.694 671.607,927.266 674.983,926.827 \n",
       "  678.359,926.378 681.735,925.919 685.111,925.45 688.487,924.97 691.863,924.48 695.239,923.98 698.615,923.47 701.991,922.95 705.367,922.419 708.743,921.878 \n",
       "  712.119,921.327 715.495,920.765 718.871,920.193 722.248,919.61 725.624,919.017 729,918.413 732.376,917.799 735.752,917.174 739.128,916.539 742.504,915.893 \n",
       "  745.88,915.236 749.256,914.569 752.632,913.89 756.008,913.201 759.384,912.5 762.76,911.789 766.136,911.067 769.512,910.333 772.888,909.589 776.264,908.833 \n",
       "  779.64,908.066 783.016,907.287 786.392,906.497 789.769,905.696 793.145,904.883 796.521,904.058 799.897,903.221 803.273,902.373 806.649,901.513 810.025,900.641 \n",
       "  813.401,899.757 816.777,898.861 820.153,897.952 823.529,897.032 826.905,896.099 830.281,895.153 833.657,894.195 837.033,893.225 840.409,892.241 843.785,891.245 \n",
       "  847.161,890.236 850.537,889.214 853.913,888.179 857.29,887.131 860.666,886.069 864.042,884.995 867.418,883.906 870.794,882.804 874.17,881.689 877.546,880.559 \n",
       "  880.922,879.416 884.298,878.259 887.674,877.087 891.05,875.902 894.426,874.702 897.802,873.487 901.178,872.258 904.554,871.015 907.93,869.756 911.306,868.483 \n",
       "  914.682,867.195 918.058,865.892 921.435,864.573 924.811,863.239 928.187,861.889 931.563,860.524 934.939,859.143 938.315,857.747 941.691,856.334 945.067,854.905 \n",
       "  948.443,853.46 951.819,851.999 955.195,850.521 958.571,849.026 961.947,847.515 965.323,845.986 968.699,844.441 972.075,842.878 975.451,841.298 978.827,839.701 \n",
       "  982.203,838.086 985.579,836.453 988.956,834.803 992.332,833.134 995.708,831.447 999.084,829.742 1002.46,828.018 1005.84,826.276 1009.21,824.514 1012.59,822.734 \n",
       "  1015.96,820.935 1019.34,819.116 1022.72,817.279 1026.09,815.421 1029.47,813.544 1032.84,811.647 1036.22,809.73 1039.6,807.792 1042.97,805.835 1046.35,803.856 \n",
       "  1049.72,801.857 1053.1,799.838 1056.48,797.797 1059.85,795.735 1063.23,793.651 1066.6,791.546 1069.98,789.419 1073.36,787.271 1076.73,785.1 1080.11,782.907 \n",
       "  1083.48,780.691 1086.86,778.453 1090.24,776.192 1093.61,773.909 1096.99,771.602 1100.37,769.271 1103.74,766.917 1107.12,764.54 1110.49,762.138 1113.87,759.712 \n",
       "  1117.25,757.263 1120.62,754.788 1124,752.289 1127.37,749.765 1130.75,747.216 1134.13,744.642 1137.5,742.042 1140.88,739.417 1144.25,736.765 1147.63,734.088 \n",
       "  1151.01,731.384 1154.38,728.654 1157.76,725.897 1161.13,723.113 1164.51,720.303 1167.89,717.464 1171.26,714.599 1174.64,711.705 1178.01,708.784 1181.39,705.834 \n",
       "  1184.77,702.856 1188.14,699.85 1191.52,696.814 1194.89,693.75 1198.27,690.656 1201.65,687.533 1205.02,684.38 1208.4,681.197 1211.77,677.984 1215.15,674.74 \n",
       "  1218.53,671.466 1221.9,668.161 1225.28,664.824 1228.66,661.457 1232.03,658.058 1235.41,654.627 1238.78,651.164 1242.16,647.668 1245.54,644.14 1248.91,640.58 \n",
       "  1252.29,636.986 1255.66,633.359 1259.04,629.698 1262.42,626.004 1265.79,622.276 1269.17,618.513 1272.54,614.716 1275.92,610.884 1279.3,607.017 1282.67,603.114 \n",
       "  1286.05,599.176 1289.42,595.202 1292.8,591.192 1296.18,587.146 1299.55,583.063 1302.93,578.943 1306.3,574.786 1309.68,570.592 1313.06,566.36 1316.43,562.09 \n",
       "  1319.81,557.781 1323.18,553.434 1326.56,549.049 1329.94,544.624 1333.31,540.16 1336.69,535.656 1340.06,531.112 1343.44,526.528 1346.82,521.903 1350.19,517.238 \n",
       "  1353.57,512.531 1356.94,507.784 1360.32,502.994 1363.7,498.163 1367.07,493.289 1370.45,488.373 1373.83,483.413 1377.2,478.411 1380.58,473.365 1383.95,468.276 \n",
       "  1387.33,463.142 1390.71,457.964 1394.08,452.741 1397.46,447.473 1400.83,442.16 1404.21,436.801 1407.59,431.397 1410.96,425.946 1414.34,420.448 1417.71,414.904 \n",
       "  1421.09,409.312 1424.47,403.673 1427.84,397.986 1431.22,392.25 1434.59,386.467 1437.97,380.634 1441.35,374.752 1444.72,368.821 1448.1,362.839 1451.47,356.808 \n",
       "  1454.85,350.726 1458.23,344.593 1461.6,338.409 1464.98,332.173 1468.35,325.885 1471.73,319.545 1475.11,313.153 1478.48,306.707 1481.86,300.209 1485.23,293.656 \n",
       "  1488.61,287.05 1491.99,280.389 1495.36,273.673 1498.74,266.902 1502.12,260.076 1505.49,253.194 1508.87,246.256 1512.24,239.262 1515.62,232.21 1519,225.101 \n",
       "  1522.37,217.934 1525.75,210.71 1529.12,203.427 1532.5,196.085 1535.88,188.684 1539.25,181.223 1542.63,173.702 1546,166.122 1549.38,158.48 1552.76,150.777 \n",
       "  1556.13,143.013 1559.51,135.187 1562.88,127.298 1566.26,119.347 1569.64,111.333 1573.01,103.255 1576.39,95.114 1579.76,86.9081 1583.14,78.6376 1586.52,70.302 \n",
       "  1589.89,61.9009 1593.27,53.4339 1596.64,44.9005 1600.02,36.3004 1603.4,27.6331 1606.77,18.8983 1610.15,10.0954 1613.52,1.22412 1616.9,-7.71601 1620.28,-16.7254 \n",
       "  1623.65,-25.8045 1627.03,-34.9537 1630.41,-44.1735 1633.78,-53.4643 1637.16,-62.8265 1640.53,-72.2606 1643.91,-81.767 1647.29,-91.3462 1650.66,-100.998 1654.04,-110.724 \n",
       "  1657.41,-120.525 1660.79,-130.399 1664.17,-140.349 1667.54,-150.374 1670.92,-160.475 1674.29,-170.652 1677.67,-180.906 1681.05,-191.237 1684.42,-201.646 1687.8,-212.133 \n",
       "  1691.17,-222.699 1694.55,-233.344 1697.93,-244.069 1701.3,-254.874 1704.68,-265.759 1708.05,-276.725 1711.43,-287.773 1714.81,-298.903 1718.18,-310.115 1721.56,-321.41 \n",
       "  1724.93,-332.789 1728.31,-344.251 1731.69,-355.798 1735.06,-367.43 1738.44,-379.147 1741.81,-390.95 1745.19,-402.84 1748.57,-414.816 1751.94,-426.88 1755.32,-439.032 \n",
       "  1758.69,-451.272 1762.07,-463.601 1765.45,-476.019 1768.82,-488.528 1772.2,-501.127 1775.58,-513.817 1778.95,-526.598 1782.33,-539.471 1785.7,-552.437 1789.08,-565.496 \n",
       "  1792.46,-578.649 1795.83,-591.896 1799.21,-605.237 1802.58,-618.674 1805.96,-632.206 1809.34,-645.834 1812.71,-659.56 1816.09,-673.382 1819.46,-687.303 1822.84,-701.322 \n",
       "  1826.22,-715.44 1829.59,-729.658 1832.97,-743.975 1836.34,-758.394 1839.72,-772.913 1843.1,-787.535 1846.47,-802.258 1849.85,-817.085 1853.22,-832.015 1856.6,-847.049 \n",
       "  1859.98,-862.188 1863.35,-877.431 1866.73,-892.781 1870.1,-908.237 1873.48,-923.8 1876.86,-939.47 1880.23,-955.248 1883.61,-971.136 1886.98,-987.132 1890.36,-1003.24 \n",
       "  1893.74,-1019.45 1897.11,-1035.78 1900.49,-1052.22 1903.87,-1068.77 1907.24,-1085.44 1910.62,-1102.21 1913.99,-1119.11 1917.37,-1136.11 1920.75,-1153.23 1924.12,-1170.47 \n",
       "  1927.5,-1187.83 1930.87,-1205.3 1934.25,-1222.89 1937.63,-1240.59 1941,-1258.42 1944.38,-1276.37 1947.75,-1294.43 1951.13,-1312.62 1954.51,-1330.93 1957.88,-1349.36 \n",
       "  1961.26,-1367.91 1964.63,-1386.59 1968.01,-1405.39 1971.39,-1424.31 1974.76,-1443.37 1978.14,-1462.54 1981.51,-1481.85 1984.89,-1501.28 1988.27,-1520.84 1991.64,-1540.52 \n",
       "  1995.02,-1560.34 1998.39,-1580.29 2001.77,-1600.36 2005.15,-1620.57 2008.52,-1640.91 2011.9,-1661.39 2015.27,-1681.99 2018.65,-1702.73 2022.03,-1723.61 2025.4,-1744.62 \n",
       "  2028.78,-1765.77 2032.16,-1787.05 2035.53,-1808.47 2038.91,-1830.03 2042.28,-1851.73 2045.66,-1873.57 2049.04,-1895.54 2052.41,-1917.66 2055.79,-1939.92 2059.16,-1962.33 \n",
       "  2062.54,-1984.87 2065.92,-2007.56 2069.29,-2030.39 2072.67,-2053.37 2076.04,-2076.5 2079.42,-2099.77 2082.8,-2123.19 2086.17,-2146.76 2089.55,-2170.47 2092.92,-2194.34 \n",
       "  2096.3,-2218.35 2099.68,-2242.52 2103.05,-2266.84 2106.43,-2291.31 2109.8,-2315.93 2113.18,-2340.71 2116.56,-2365.65 2119.93,-2390.74 2123.31,-2415.98 2126.68,-2441.38 \n",
       "  2130.06,-2466.94 2133.44,-2492.66 2136.81,-2518.54 2140.19,-2544.58 2143.56,-2570.78 2146.94,-2597.14 2150.32,-2623.66 2153.69,-2650.35 2157.07,-2677.2 2160.44,-2704.21 \n",
       "  2163.82,-2731.39 2167.2,-2758.74 2170.57,-2786.25 2173.95,-2813.93 2177.33,-2841.78 2180.7,-2869.8 2184.08,-2897.99 2187.45,-2926.36 2190.83,-2954.89 2194.21,-2983.6 \n",
       "  2197.58,-3012.48 2200.96,-3041.53 2204.33,-3070.76 2207.71,-3100.17 2211.09,-3129.75 2214.46,-3159.51 2217.84,-3189.45 2221.21,-3219.57 2224.59,-3249.86 2227.97,-3280.34 \n",
       "  \n",
       "  \"/>\n",
       "<circle clip-path=\"url(#clip822)\" cx=\"539.941\" cy=\"936.114\" r=\"14.4\" fill=\"#e26f46\" fill-rule=\"evenodd\" fill-opacity=\"1\" stroke=\"#000000\" stroke-opacity=\"1\" stroke-width=\"2.4\"/>\n",
       "<polyline clip-path=\"url(#clip822)\" style=\"stroke:#3da44d; stroke-linecap:round; stroke-linejoin:round; stroke-width:4; stroke-opacity:1; fill:none\" stroke-dasharray=\"16, 10\" points=\"\n",
       "  202.336,855.307 205.712,855.307 209.088,855.307 212.464,855.307 215.84,855.307 219.216,855.307 222.592,855.307 225.968,855.307 229.344,855.307 232.72,855.307 \n",
       "  236.096,855.307 239.472,855.307 242.848,855.307 246.224,855.307 249.6,855.307 252.977,855.307 256.353,855.307 259.729,855.307 263.105,855.307 266.481,855.307 \n",
       "  269.857,855.307 273.233,855.307 276.609,855.307 279.985,855.307 283.361,855.307 286.737,855.307 290.113,855.307 293.489,855.307 296.865,855.307 300.241,855.307 \n",
       "  303.617,855.307 306.993,855.307 310.369,855.307 313.745,855.307 317.121,855.307 320.498,855.307 323.874,855.307 327.25,855.307 330.626,855.307 334.002,855.307 \n",
       "  337.378,855.307 340.754,855.307 344.13,855.307 347.506,855.307 350.882,855.307 354.258,855.307 357.634,855.307 361.01,855.307 364.386,855.307 367.762,855.307 \n",
       "  371.138,855.307 374.514,855.307 377.89,855.307 381.266,855.307 384.643,855.307 388.019,855.307 391.395,855.307 394.771,855.307 398.147,855.307 401.523,855.307 \n",
       "  404.899,855.307 408.275,855.307 411.651,855.307 415.027,855.307 418.403,855.307 421.779,855.307 425.155,855.307 428.531,855.307 431.907,855.307 435.283,855.307 \n",
       "  438.659,855.307 442.035,855.307 445.411,855.307 448.787,855.307 452.164,855.307 455.54,855.307 458.916,855.307 462.292,855.307 465.668,855.307 469.044,855.307 \n",
       "  472.42,855.307 475.796,855.307 479.172,855.307 482.548,855.307 485.924,855.307 489.3,855.307 492.676,855.307 496.052,855.307 499.428,855.307 502.804,855.307 \n",
       "  506.18,855.307 509.556,855.307 512.932,855.307 516.308,855.307 519.685,855.307 523.061,855.307 526.437,855.307 529.813,855.307 533.189,855.307 536.565,855.307 \n",
       "  539.941,855.307 543.317,855.307 546.693,855.307 550.069,855.307 553.445,855.307 556.821,855.307 560.197,855.307 563.573,855.307 566.949,855.307 570.325,855.307 \n",
       "  573.701,855.307 577.077,855.307 580.453,855.307 583.829,855.307 587.206,855.307 590.582,855.307 593.958,855.307 597.334,855.307 600.71,855.307 604.086,855.307 \n",
       "  607.462,855.307 610.838,855.307 614.214,855.307 617.59,855.307 620.966,855.307 624.342,855.307 627.718,855.307 631.094,855.307 634.47,855.307 637.846,855.307 \n",
       "  641.222,855.307 644.598,855.307 647.974,855.307 651.35,855.307 654.727,855.307 658.103,855.307 661.479,855.307 664.855,855.307 668.231,855.307 671.607,855.307 \n",
       "  674.983,855.307 678.359,855.307 681.735,855.307 685.111,855.307 688.487,855.307 691.863,855.307 695.239,855.307 698.615,855.307 701.991,855.307 705.367,855.307 \n",
       "  708.743,855.307 712.119,855.307 715.495,855.307 718.871,855.307 722.248,855.307 725.624,855.307 729,855.307 732.376,855.307 735.752,855.307 739.128,855.307 \n",
       "  742.504,855.307 745.88,855.307 749.256,855.307 752.632,855.307 756.008,855.307 759.384,855.307 762.76,855.307 766.136,855.307 769.512,855.307 772.888,855.307 \n",
       "  776.264,855.307 779.64,855.307 783.016,855.307 786.392,855.307 789.769,855.307 793.145,855.307 796.521,855.307 799.897,855.307 803.273,855.307 806.649,855.307 \n",
       "  810.025,855.307 813.401,855.307 816.777,855.307 820.153,855.307 823.529,855.307 826.905,855.307 830.281,855.307 833.657,855.307 837.033,855.307 840.409,855.307 \n",
       "  843.785,855.307 847.161,855.307 850.537,855.307 853.913,855.307 857.29,855.307 860.666,855.307 864.042,855.307 867.418,855.307 870.794,855.307 874.17,855.307 \n",
       "  877.546,855.307 880.922,855.307 884.298,855.307 887.674,855.307 891.05,855.307 894.426,855.307 897.802,855.307 901.178,855.307 904.554,855.307 907.93,855.307 \n",
       "  911.306,855.307 914.682,855.307 918.058,855.307 921.435,855.307 924.811,855.307 928.187,855.307 931.563,855.307 934.939,855.307 938.315,855.307 941.691,855.307 \n",
       "  945.067,855.307 948.443,855.307 951.819,855.307 955.195,855.307 958.571,855.307 961.947,855.307 965.323,855.307 968.699,855.307 972.075,855.307 975.451,855.307 \n",
       "  978.827,855.307 982.203,855.307 985.579,855.307 988.956,855.307 992.332,855.307 995.708,855.307 999.084,855.307 1002.46,855.307 1005.84,855.307 1009.21,855.307 \n",
       "  1012.59,855.307 1015.96,855.307 1019.34,855.307 1022.72,855.307 1026.09,855.307 1029.47,855.307 1032.84,855.307 1036.22,855.307 1039.6,855.307 1042.97,855.307 \n",
       "  1046.35,855.307 1049.72,855.307 1053.1,855.307 1056.48,855.307 1059.85,855.307 1063.23,855.307 1066.6,855.307 1069.98,855.307 1073.36,855.307 1076.73,855.307 \n",
       "  1080.11,855.307 1083.48,855.307 1086.86,855.307 1090.24,855.307 1093.61,855.307 1096.99,855.307 1100.37,855.307 1103.74,855.307 1107.12,855.307 1110.49,855.307 \n",
       "  1113.87,855.307 1117.25,855.307 1120.62,855.307 1124,855.307 1127.37,855.307 1130.75,855.307 1134.13,855.307 1137.5,855.307 1140.88,855.307 1144.25,855.307 \n",
       "  1147.63,855.307 1151.01,855.307 1154.38,855.307 1157.76,855.307 1161.13,855.307 1164.51,855.307 1167.89,855.307 1171.26,855.307 1174.64,855.307 1178.01,855.307 \n",
       "  1181.39,855.307 1184.77,855.307 1188.14,855.307 1191.52,855.307 1194.89,855.307 1198.27,855.307 1201.65,855.307 1205.02,855.307 1208.4,855.307 1211.77,855.307 \n",
       "  1215.15,855.307 1218.53,855.307 1221.9,855.307 1225.28,855.307 1228.66,855.307 1232.03,855.307 1235.41,855.307 1238.78,855.307 1242.16,855.307 1245.54,855.307 \n",
       "  1248.91,855.307 1252.29,855.307 1255.66,855.307 1259.04,855.307 1262.42,855.307 1265.79,855.307 1269.17,855.307 1272.54,855.307 1275.92,855.307 1279.3,855.307 \n",
       "  1282.67,855.307 1286.05,855.307 1289.42,855.307 1292.8,855.307 1296.18,855.307 1299.55,855.307 1302.93,855.307 1306.3,855.307 1309.68,855.307 1313.06,855.307 \n",
       "  1316.43,855.307 1319.81,855.307 1323.18,855.307 1326.56,855.307 1329.94,855.307 1333.31,855.307 1336.69,855.307 1340.06,855.307 1343.44,855.307 1346.82,855.307 \n",
       "  1350.19,855.307 1353.57,855.307 1356.94,855.307 1360.32,855.307 1363.7,855.307 1367.07,855.307 1370.45,855.307 1373.83,855.307 1377.2,855.307 1380.58,855.307 \n",
       "  1383.95,855.307 1387.33,855.307 1390.71,855.307 1394.08,855.307 1397.46,855.307 1400.83,855.307 1404.21,855.307 1407.59,855.307 1410.96,855.307 1414.34,855.307 \n",
       "  1417.71,855.307 1421.09,855.307 1424.47,855.307 1427.84,855.307 1431.22,855.307 1434.59,855.307 1437.97,855.307 1441.35,855.307 1444.72,855.307 1448.1,855.307 \n",
       "  1451.47,855.307 1454.85,855.307 1458.23,855.307 1461.6,855.307 1464.98,855.307 1468.35,855.307 1471.73,855.307 1475.11,855.307 1478.48,855.307 1481.86,855.307 \n",
       "  1485.23,855.307 1488.61,855.307 1491.99,855.307 1495.36,855.307 1498.74,855.307 1502.12,855.307 1505.49,855.307 1508.87,855.307 1512.24,855.307 1515.62,855.307 \n",
       "  1519,855.307 1522.37,855.307 1525.75,855.307 1529.12,855.307 1532.5,855.307 1535.88,855.307 1539.25,855.307 1542.63,855.307 1546,855.307 1549.38,855.307 \n",
       "  1552.76,855.307 1556.13,855.307 1559.51,855.307 1562.88,855.307 1566.26,855.307 1569.64,855.307 1573.01,855.307 1576.39,855.307 1579.76,855.307 1583.14,855.307 \n",
       "  1586.52,855.307 1589.89,855.307 1593.27,855.307 1596.64,855.307 1600.02,855.307 1603.4,855.307 1606.77,855.307 1610.15,855.307 1613.52,855.307 1616.9,855.307 \n",
       "  1620.28,855.307 1623.65,855.307 1627.03,855.307 1630.41,855.307 1633.78,855.307 1637.16,855.307 1640.53,855.307 1643.91,855.307 1647.29,855.307 1650.66,855.307 \n",
       "  1654.04,855.307 1657.41,855.307 1660.79,855.307 1664.17,855.307 1667.54,855.307 1670.92,855.307 1674.29,855.307 1677.67,855.307 1681.05,855.307 1684.42,855.307 \n",
       "  1687.8,855.307 1691.17,855.307 1694.55,855.307 1697.93,855.307 1701.3,855.307 1704.68,855.307 1708.05,855.307 1711.43,855.307 1714.81,855.307 1718.18,855.307 \n",
       "  1721.56,855.307 1724.93,855.307 1728.31,855.307 1731.69,855.307 1735.06,855.307 1738.44,855.307 1741.81,855.307 1745.19,855.307 1748.57,855.307 1751.94,855.307 \n",
       "  1755.32,855.307 1758.69,855.307 1762.07,855.307 1765.45,855.307 1768.82,855.307 1772.2,855.307 1775.58,855.307 1778.95,855.307 1782.33,855.307 1785.7,855.307 \n",
       "  1789.08,855.307 1792.46,855.307 1795.83,855.307 1799.21,855.307 1802.58,855.307 1805.96,855.307 1809.34,855.307 1812.71,855.307 1816.09,855.307 1819.46,855.307 \n",
       "  1822.84,855.307 1826.22,855.307 1829.59,855.307 1832.97,855.307 1836.34,855.307 1839.72,855.307 1843.1,855.307 1846.47,855.307 1849.85,855.307 1853.22,855.307 \n",
       "  1856.6,855.307 1859.98,855.307 1863.35,855.307 1866.73,855.307 1870.1,855.307 1873.48,855.307 1876.86,855.307 1880.23,855.307 1883.61,855.307 1886.98,855.307 \n",
       "  1890.36,855.307 1893.74,855.307 1897.11,855.307 1900.49,855.307 1903.87,855.307 1907.24,855.307 1910.62,855.307 1913.99,855.307 1917.37,855.307 1920.75,855.307 \n",
       "  1924.12,855.307 1927.5,855.307 1930.87,855.307 1934.25,855.307 1937.63,855.307 1941,855.307 1944.38,855.307 1947.75,855.307 1951.13,855.307 1954.51,855.307 \n",
       "  1957.88,855.307 1961.26,855.307 1964.63,855.307 1968.01,855.307 1971.39,855.307 1974.76,855.307 1978.14,855.307 1981.51,855.307 1984.89,855.307 1988.27,855.307 \n",
       "  1991.64,855.307 1995.02,855.307 1998.39,855.307 2001.77,855.307 2005.15,855.307 2008.52,855.307 2011.9,855.307 2015.27,855.307 2018.65,855.307 2022.03,855.307 \n",
       "  2025.4,855.307 2028.78,855.307 2032.16,855.307 2035.53,855.307 2038.91,855.307 2042.28,855.307 2045.66,855.307 2049.04,855.307 2052.41,855.307 2055.79,855.307 \n",
       "  2059.16,855.307 2062.54,855.307 2065.92,855.307 2069.29,855.307 2072.67,855.307 2076.04,855.307 2079.42,855.307 2082.8,855.307 2086.17,855.307 2089.55,855.307 \n",
       "  2092.92,855.307 2096.3,855.307 2099.68,855.307 2103.05,855.307 2106.43,855.307 2109.8,855.307 2113.18,855.307 2116.56,855.307 2119.93,855.307 2123.31,855.307 \n",
       "  2126.68,855.307 2130.06,855.307 2133.44,855.307 2136.81,855.307 2140.19,855.307 2143.56,855.307 2146.94,855.307 2150.32,855.307 2153.69,855.307 2157.07,855.307 \n",
       "  2160.44,855.307 2163.82,855.307 2167.2,855.307 2170.57,855.307 2173.95,855.307 2177.33,855.307 2180.7,855.307 2184.08,855.307 2187.45,855.307 2190.83,855.307 \n",
       "  2194.21,855.307 2197.58,855.307 2200.96,855.307 2204.33,855.307 2207.71,855.307 2211.09,855.307 2214.46,855.307 2217.84,855.307 2221.21,855.307 2224.59,855.307 \n",
       "  2227.97,855.307 \n",
       "  \"/>\n",
       "</svg>\n"
      ],
      "image/svg+xml": [
       "<?xml version=\"1.0\" encoding=\"utf-8\"?>\n",
       "<svg xmlns=\"http://www.w3.org/2000/svg\" xmlns:xlink=\"http://www.w3.org/1999/xlink\" width=\"400\" height=\"300\" viewBox=\"0 0 1600 1200\">\n",
       "<defs>\n",
       "  <clipPath id=\"clip790\">\n",
       "    <rect x=\"0\" y=\"0\" width=\"1600\" height=\"1200\"/>\n",
       "  </clipPath>\n",
       "</defs>\n",
       "<path clip-path=\"url(#clip790)\" d=\"\n",
       "M0 1200 L1600 1200 L1600 0 L0 0  Z\n",
       "  \" fill=\"#ffffff\" fill-rule=\"evenodd\" fill-opacity=\"1\"/>\n",
       "<defs>\n",
       "  <clipPath id=\"clip791\">\n",
       "    <rect x=\"320\" y=\"0\" width=\"1121\" height=\"1121\"/>\n",
       "  </clipPath>\n",
       "</defs>\n",
       "<path clip-path=\"url(#clip790)\" d=\"\n",
       "M202.336 1016.92 L1552.76 1016.92 L1552.76 47.2441 L202.336 47.2441  Z\n",
       "  \" fill=\"#ffffff\" fill-rule=\"evenodd\" fill-opacity=\"1\"/>\n",
       "<defs>\n",
       "  <clipPath id=\"clip792\">\n",
       "    <rect x=\"202\" y=\"47\" width=\"1351\" height=\"971\"/>\n",
       "  </clipPath>\n",
       "</defs>\n",
       "<polyline clip-path=\"url(#clip790)\" style=\"stroke:#000000; stroke-linecap:round; stroke-linejoin:round; stroke-width:4; stroke-opacity:1; fill:none\" points=\"\n",
       "  202.336,1016.92 1552.76,1016.92 \n",
       "  \"/>\n",
       "<polyline clip-path=\"url(#clip790)\" style=\"stroke:#000000; stroke-linecap:round; stroke-linejoin:round; stroke-width:4; stroke-opacity:1; fill:none\" points=\"\n",
       "  202.336,1016.92 202.336,998.022 \n",
       "  \"/>\n",
       "<polyline clip-path=\"url(#clip790)\" style=\"stroke:#000000; stroke-linecap:round; stroke-linejoin:round; stroke-width:4; stroke-opacity:1; fill:none\" points=\"\n",
       "  539.941,1016.92 539.941,998.022 \n",
       "  \"/>\n",
       "<polyline clip-path=\"url(#clip790)\" style=\"stroke:#000000; stroke-linecap:round; stroke-linejoin:round; stroke-width:4; stroke-opacity:1; fill:none\" points=\"\n",
       "  877.546,1016.92 877.546,998.022 \n",
       "  \"/>\n",
       "<polyline clip-path=\"url(#clip790)\" style=\"stroke:#000000; stroke-linecap:round; stroke-linejoin:round; stroke-width:4; stroke-opacity:1; fill:none\" points=\"\n",
       "  1215.15,1016.92 1215.15,998.022 \n",
       "  \"/>\n",
       "<polyline clip-path=\"url(#clip790)\" style=\"stroke:#000000; stroke-linecap:round; stroke-linejoin:round; stroke-width:4; stroke-opacity:1; fill:none\" points=\"\n",
       "  1552.76,1016.92 1552.76,998.022 \n",
       "  \"/>\n",
       "<path clip-path=\"url(#clip790)\" d=\"M202.336 1041.44 Q198.725 1041.44 196.896 1045 Q195.09 1048.54 195.09 1055.67 Q195.09 1062.78 196.896 1066.35 Q198.725 1069.89 202.336 1069.89 Q205.97 1069.89 207.776 1066.35 Q209.604 1062.78 209.604 1055.67 Q209.604 1048.54 207.776 1045 Q205.97 1041.44 202.336 1041.44 M202.336 1037.73 Q208.146 1037.73 211.201 1042.34 Q214.28 1046.92 214.28 1055.67 Q214.28 1064.4 211.201 1069.01 Q208.146 1073.59 202.336 1073.59 Q196.526 1073.59 193.447 1069.01 Q190.391 1064.4 190.391 1055.67 Q190.391 1046.92 193.447 1042.34 Q196.526 1037.73 202.336 1037.73 Z\" fill=\"#000000\" fill-rule=\"evenodd\" fill-opacity=\"1\" /><path clip-path=\"url(#clip790)\" d=\"M530.323 1068.98 L537.962 1068.98 L537.962 1042.62 L529.652 1044.29 L529.652 1040.03 L537.915 1038.36 L542.591 1038.36 L542.591 1068.98 L550.23 1068.98 L550.23 1072.92 L530.323 1072.92 L530.323 1068.98 Z\" fill=\"#000000\" fill-rule=\"evenodd\" fill-opacity=\"1\" /><path clip-path=\"url(#clip790)\" d=\"M872.199 1068.98 L888.518 1068.98 L888.518 1072.92 L866.574 1072.92 L866.574 1068.98 Q869.236 1066.23 873.819 1061.6 Q878.425 1056.95 879.606 1055.61 Q881.851 1053.08 882.731 1051.35 Q883.634 1049.59 883.634 1047.9 Q883.634 1045.14 881.689 1043.41 Q879.768 1041.67 876.666 1041.67 Q874.467 1041.67 872.013 1042.43 Q869.583 1043.2 866.805 1044.75 L866.805 1040.03 Q869.629 1038.89 872.083 1038.31 Q874.537 1037.73 876.574 1037.73 Q881.944 1037.73 885.138 1040.42 Q888.333 1043.11 888.333 1047.6 Q888.333 1049.73 887.523 1051.65 Q886.736 1053.54 884.629 1056.14 Q884.05 1056.81 880.949 1060.03 Q877.847 1063.22 872.199 1068.98 Z\" fill=\"#000000\" fill-rule=\"evenodd\" fill-opacity=\"1\" /><path clip-path=\"url(#clip790)\" d=\"M1219.4 1054.29 Q1222.76 1055 1224.63 1057.27 Q1226.53 1059.54 1226.53 1062.87 Q1226.53 1067.99 1223.01 1070.79 Q1219.49 1073.59 1213.01 1073.59 Q1210.83 1073.59 1208.52 1073.15 Q1206.23 1072.73 1203.77 1071.88 L1203.77 1067.36 Q1205.72 1068.5 1208.03 1069.08 Q1210.35 1069.66 1212.87 1069.66 Q1217.27 1069.66 1219.56 1067.92 Q1221.88 1066.18 1221.88 1062.87 Q1221.88 1059.82 1219.72 1058.11 Q1217.59 1056.37 1213.77 1056.37 L1209.75 1056.37 L1209.75 1052.53 L1213.96 1052.53 Q1217.41 1052.53 1219.24 1051.16 Q1221.07 1049.77 1221.07 1047.18 Q1221.07 1044.52 1219.17 1043.11 Q1217.29 1041.67 1213.77 1041.67 Q1211.85 1041.67 1209.65 1042.09 Q1207.45 1042.5 1204.82 1043.38 L1204.82 1039.22 Q1207.48 1038.48 1209.79 1038.11 Q1212.13 1037.73 1214.19 1037.73 Q1219.51 1037.73 1222.62 1040.17 Q1225.72 1042.57 1225.72 1046.69 Q1225.72 1049.56 1224.07 1051.55 Q1222.43 1053.52 1219.4 1054.29 Z\" fill=\"#000000\" fill-rule=\"evenodd\" fill-opacity=\"1\" /><path clip-path=\"url(#clip790)\" d=\"M1555.77 1042.43 L1543.96 1060.88 L1555.77 1060.88 L1555.77 1042.43 M1554.54 1038.36 L1560.42 1038.36 L1560.42 1060.88 L1565.35 1060.88 L1565.35 1064.77 L1560.42 1064.77 L1560.42 1072.92 L1555.77 1072.92 L1555.77 1064.77 L1540.16 1064.77 L1540.16 1060.26 L1554.54 1038.36 Z\" fill=\"#000000\" fill-rule=\"evenodd\" fill-opacity=\"1\" /><path clip-path=\"url(#clip790)\" d=\"M656.513 1102.26 L666.093 1102.26 L678.22 1134.6 L690.41 1102.26 L699.99 1102.26 L699.99 1149.78 L693.72 1149.78 L693.72 1108.06 L681.466 1140.65 L675.005 1140.65 L662.751 1108.06 L662.751 1149.78 L656.513 1149.78 L656.513 1102.26 Z\" fill=\"#000000\" fill-rule=\"evenodd\" fill-opacity=\"1\" /><path clip-path=\"url(#clip790)\" d=\"M728.7 1131.86 Q721.602 1131.86 718.865 1133.49 Q716.127 1135.11 716.127 1139.03 Q716.127 1142.14 718.164 1143.99 Q720.233 1145.81 723.766 1145.81 Q728.636 1145.81 731.564 1142.37 Q734.524 1138.9 734.524 1133.17 L734.524 1131.86 L728.7 1131.86 M740.381 1129.45 L740.381 1149.78 L734.524 1149.78 L734.524 1144.37 Q732.519 1147.62 729.527 1149.18 Q726.535 1150.71 722.207 1150.71 Q716.732 1150.71 713.486 1147.65 Q710.271 1144.56 710.271 1139.41 Q710.271 1133.39 714.281 1130.34 Q718.324 1127.28 726.313 1127.28 L734.524 1127.28 L734.524 1126.71 Q734.524 1122.67 731.851 1120.47 Q729.209 1118.24 724.403 1118.24 Q721.347 1118.24 718.451 1118.97 Q715.555 1119.71 712.881 1121.17 L712.881 1115.76 Q716.096 1114.52 719.119 1113.91 Q722.143 1113.28 725.008 1113.28 Q732.742 1113.28 736.561 1117.29 Q740.381 1121.3 740.381 1129.45 Z\" fill=\"#000000\" fill-rule=\"evenodd\" fill-opacity=\"1\" /><path clip-path=\"url(#clip790)\" d=\"M778.098 1115.5 L778.098 1120.98 Q775.615 1119.61 773.101 1118.94 Q770.618 1118.24 768.072 1118.24 Q762.374 1118.24 759.223 1121.87 Q756.072 1125.47 756.072 1131.99 Q756.072 1138.52 759.223 1142.14 Q762.374 1145.74 768.072 1145.74 Q770.618 1145.74 773.101 1145.07 Q775.615 1144.37 778.098 1143 L778.098 1148.42 Q775.647 1149.56 773.005 1150.13 Q770.395 1150.71 767.435 1150.71 Q759.382 1150.71 754.64 1145.65 Q749.898 1140.59 749.898 1131.99 Q749.898 1123.27 754.672 1118.27 Q759.478 1113.28 767.817 1113.28 Q770.522 1113.28 773.101 1113.85 Q775.679 1114.39 778.098 1115.5 Z\" fill=\"#000000\" fill-rule=\"evenodd\" fill-opacity=\"1\" /><path clip-path=\"url(#clip790)\" d=\"M817.915 1128.27 L817.915 1149.78 L812.059 1149.78 L812.059 1128.46 Q812.059 1123.4 810.085 1120.88 Q808.112 1118.37 804.165 1118.37 Q799.423 1118.37 796.685 1121.39 Q793.948 1124.42 793.948 1129.64 L793.948 1149.78 L788.06 1149.78 L788.06 1100.26 L793.948 1100.26 L793.948 1119.67 Q796.049 1116.46 798.882 1114.87 Q801.746 1113.28 805.47 1113.28 Q811.613 1113.28 814.764 1117.1 Q817.915 1120.88 817.915 1128.27 Z\" fill=\"#000000\" fill-rule=\"evenodd\" fill-opacity=\"1\" /><path clip-path=\"url(#clip790)\" d=\"M879.949 1128.27 L879.949 1149.78 L874.092 1149.78 L874.092 1128.46 Q874.092 1123.4 872.119 1120.88 Q870.146 1118.37 866.199 1118.37 Q861.457 1118.37 858.719 1121.39 Q855.982 1124.42 855.982 1129.64 L855.982 1149.78 L850.094 1149.78 L850.094 1114.14 L855.982 1114.14 L855.982 1119.67 Q858.083 1116.46 860.915 1114.87 Q863.78 1113.28 867.504 1113.28 Q873.647 1113.28 876.798 1117.1 Q879.949 1120.88 879.949 1128.27 Z\" fill=\"#000000\" fill-rule=\"evenodd\" fill-opacity=\"1\" /><path clip-path=\"url(#clip790)\" d=\"M891.025 1135.72 L891.025 1114.14 L896.882 1114.14 L896.882 1135.49 Q896.882 1140.55 898.855 1143.1 Q900.828 1145.61 904.775 1145.61 Q909.518 1145.61 912.255 1142.59 Q915.024 1139.57 915.024 1134.35 L915.024 1114.14 L920.88 1114.14 L920.88 1149.78 L915.024 1149.78 L915.024 1144.31 Q912.891 1147.56 910.059 1149.15 Q907.258 1150.71 903.534 1150.71 Q897.391 1150.71 894.208 1146.89 Q891.025 1143.07 891.025 1135.72 M905.762 1113.28 L905.762 1113.28 Z\" fill=\"#000000\" fill-rule=\"evenodd\" fill-opacity=\"1\" /><path clip-path=\"url(#clip790)\" d=\"M960.698 1120.98 Q962.894 1117.03 965.95 1115.15 Q969.005 1113.28 973.143 1113.28 Q978.713 1113.28 981.737 1117.19 Q984.76 1121.07 984.76 1128.27 L984.76 1149.78 L978.872 1149.78 L978.872 1128.46 Q978.872 1123.33 977.058 1120.85 Q975.244 1118.37 971.52 1118.37 Q966.968 1118.37 964.326 1121.39 Q961.685 1124.42 961.685 1129.64 L961.685 1149.78 L955.796 1149.78 L955.796 1128.46 Q955.796 1123.3 953.982 1120.85 Q952.168 1118.37 948.38 1118.37 Q943.892 1118.37 941.251 1121.42 Q938.609 1124.45 938.609 1129.64 L938.609 1149.78 L932.721 1149.78 L932.721 1114.14 L938.609 1114.14 L938.609 1119.67 Q940.614 1116.4 943.415 1114.84 Q946.216 1113.28 950.067 1113.28 Q953.95 1113.28 956.656 1115.25 Q959.393 1117.22 960.698 1120.98 Z\" fill=\"#000000\" fill-rule=\"evenodd\" fill-opacity=\"1\" /><path clip-path=\"url(#clip790)\" d=\"M1022.03 1131.99 Q1022.03 1125.53 1019.36 1121.87 Q1016.72 1118.18 1012.07 1118.18 Q1007.42 1118.18 1004.75 1121.87 Q1002.11 1125.53 1002.11 1131.99 Q1002.11 1138.45 1004.75 1142.14 Q1007.42 1145.81 1012.07 1145.81 Q1016.72 1145.81 1019.36 1142.14 Q1022.03 1138.45 1022.03 1131.99 M1002.11 1119.55 Q1003.95 1116.36 1006.75 1114.84 Q1009.59 1113.28 1013.5 1113.28 Q1019.99 1113.28 1024.04 1118.43 Q1028.11 1123.59 1028.11 1131.99 Q1028.11 1140.39 1024.04 1145.55 Q1019.99 1150.71 1013.5 1150.71 Q1009.59 1150.71 1006.75 1149.18 Q1003.95 1147.62 1002.11 1144.44 L1002.11 1149.78 L996.219 1149.78 L996.219 1100.26 L1002.11 1100.26 L1002.11 1119.55 Z\" fill=\"#000000\" fill-rule=\"evenodd\" fill-opacity=\"1\" /><path clip-path=\"url(#clip790)\" d=\"M1068.31 1130.5 L1068.31 1133.36 L1041.38 1133.36 Q1041.77 1139.41 1045.01 1142.59 Q1048.29 1145.74 1054.11 1145.74 Q1057.49 1145.74 1060.64 1144.91 Q1063.82 1144.09 1066.94 1142.43 L1066.94 1147.97 Q1063.79 1149.31 1060.48 1150.01 Q1057.17 1150.71 1053.76 1150.71 Q1045.23 1150.71 1040.24 1145.74 Q1035.27 1140.78 1035.27 1132.31 Q1035.27 1123.56 1039.98 1118.43 Q1044.73 1113.28 1052.75 1113.28 Q1059.94 1113.28 1064.11 1117.92 Q1068.31 1122.54 1068.31 1130.5 M1062.45 1128.78 Q1062.39 1123.97 1059.75 1121.11 Q1057.14 1118.24 1052.81 1118.24 Q1047.91 1118.24 1044.95 1121.01 Q1042.02 1123.78 1041.57 1128.81 L1062.45 1128.78 Z\" fill=\"#000000\" fill-rule=\"evenodd\" fill-opacity=\"1\" /><path clip-path=\"url(#clip790)\" d=\"M1098.58 1119.61 Q1097.59 1119.04 1096.41 1118.78 Q1095.27 1118.5 1093.87 1118.5 Q1088.9 1118.5 1086.23 1121.74 Q1083.59 1124.96 1083.59 1131.01 L1083.59 1149.78 L1077.7 1149.78 L1077.7 1114.14 L1083.59 1114.14 L1083.59 1119.67 Q1085.43 1116.43 1088.39 1114.87 Q1091.35 1113.28 1095.59 1113.28 Q1096.19 1113.28 1096.92 1113.37 Q1097.66 1113.44 1098.55 1113.59 L1098.58 1119.61 Z\" fill=\"#000000\" fill-rule=\"evenodd\" fill-opacity=\"1\" /><polyline clip-path=\"url(#clip790)\" style=\"stroke:#000000; stroke-linecap:round; stroke-linejoin:round; stroke-width:4; stroke-opacity:1; fill:none\" points=\"\n",
       "  202.336,1016.92 202.336,47.2441 \n",
       "  \"/>\n",
       "<polyline clip-path=\"url(#clip790)\" style=\"stroke:#000000; stroke-linecap:round; stroke-linejoin:round; stroke-width:4; stroke-opacity:1; fill:none\" points=\"\n",
       "  202.336,1016.92 221.233,1016.92 \n",
       "  \"/>\n",
       "<polyline clip-path=\"url(#clip790)\" style=\"stroke:#000000; stroke-linecap:round; stroke-linejoin:round; stroke-width:4; stroke-opacity:1; fill:none\" points=\"\n",
       "  202.336,936.114 221.233,936.114 \n",
       "  \"/>\n",
       "<polyline clip-path=\"url(#clip790)\" style=\"stroke:#000000; stroke-linecap:round; stroke-linejoin:round; stroke-width:4; stroke-opacity:1; fill:none\" points=\"\n",
       "  202.336,855.307 221.233,855.307 \n",
       "  \"/>\n",
       "<polyline clip-path=\"url(#clip790)\" style=\"stroke:#000000; stroke-linecap:round; stroke-linejoin:round; stroke-width:4; stroke-opacity:1; fill:none\" points=\"\n",
       "  202.336,774.501 221.233,774.501 \n",
       "  \"/>\n",
       "<polyline clip-path=\"url(#clip790)\" style=\"stroke:#000000; stroke-linecap:round; stroke-linejoin:round; stroke-width:4; stroke-opacity:1; fill:none\" points=\"\n",
       "  202.336,693.695 221.233,693.695 \n",
       "  \"/>\n",
       "<polyline clip-path=\"url(#clip790)\" style=\"stroke:#000000; stroke-linecap:round; stroke-linejoin:round; stroke-width:4; stroke-opacity:1; fill:none\" points=\"\n",
       "  202.336,612.888 221.233,612.888 \n",
       "  \"/>\n",
       "<polyline clip-path=\"url(#clip790)\" style=\"stroke:#000000; stroke-linecap:round; stroke-linejoin:round; stroke-width:4; stroke-opacity:1; fill:none\" points=\"\n",
       "  202.336,532.082 221.233,532.082 \n",
       "  \"/>\n",
       "<polyline clip-path=\"url(#clip790)\" style=\"stroke:#000000; stroke-linecap:round; stroke-linejoin:round; stroke-width:4; stroke-opacity:1; fill:none\" points=\"\n",
       "  202.336,451.276 221.233,451.276 \n",
       "  \"/>\n",
       "<polyline clip-path=\"url(#clip790)\" style=\"stroke:#000000; stroke-linecap:round; stroke-linejoin:round; stroke-width:4; stroke-opacity:1; fill:none\" points=\"\n",
       "  202.336,370.469 221.233,370.469 \n",
       "  \"/>\n",
       "<polyline clip-path=\"url(#clip790)\" style=\"stroke:#000000; stroke-linecap:round; stroke-linejoin:round; stroke-width:4; stroke-opacity:1; fill:none\" points=\"\n",
       "  202.336,289.663 221.233,289.663 \n",
       "  \"/>\n",
       "<polyline clip-path=\"url(#clip790)\" style=\"stroke:#000000; stroke-linecap:round; stroke-linejoin:round; stroke-width:4; stroke-opacity:1; fill:none\" points=\"\n",
       "  202.336,208.857 221.233,208.857 \n",
       "  \"/>\n",
       "<polyline clip-path=\"url(#clip790)\" style=\"stroke:#000000; stroke-linecap:round; stroke-linejoin:round; stroke-width:4; stroke-opacity:1; fill:none\" points=\"\n",
       "  202.336,128.05 221.233,128.05 \n",
       "  \"/>\n",
       "<polyline clip-path=\"url(#clip790)\" style=\"stroke:#000000; stroke-linecap:round; stroke-linejoin:round; stroke-width:4; stroke-opacity:1; fill:none\" points=\"\n",
       "  202.336,47.2441 221.233,47.2441 \n",
       "  \"/>\n",
       "<path clip-path=\"url(#clip790)\" d=\"M166.391 1002.72 Q162.78 1002.72 160.952 1006.28 Q159.146 1009.82 159.146 1016.95 Q159.146 1024.06 160.952 1027.63 Q162.78 1031.17 166.391 1031.17 Q170.026 1031.17 171.831 1027.63 Q173.66 1024.06 173.66 1016.95 Q173.66 1009.82 171.831 1006.28 Q170.026 1002.72 166.391 1002.72 M166.391 999.015 Q172.202 999.015 175.257 1003.62 Q178.336 1008.2 178.336 1016.95 Q178.336 1025.68 175.257 1030.29 Q172.202 1034.87 166.391 1034.87 Q160.581 1034.87 157.503 1030.29 Q154.447 1025.68 154.447 1016.95 Q154.447 1008.2 157.503 1003.62 Q160.581 999.015 166.391 999.015 Z\" fill=\"#000000\" fill-rule=\"evenodd\" fill-opacity=\"1\" /><path clip-path=\"url(#clip790)\" d=\"M158.428 949.458 L166.067 949.458 L166.067 923.093 L157.757 924.759 L157.757 920.5 L166.021 918.834 L170.697 918.834 L170.697 949.458 L178.336 949.458 L178.336 953.394 L158.428 953.394 L158.428 949.458 Z\" fill=\"#000000\" fill-rule=\"evenodd\" fill-opacity=\"1\" /><path clip-path=\"url(#clip790)\" d=\"M162.016 868.652 L178.336 868.652 L178.336 872.587 L156.391 872.587 L156.391 868.652 Q159.053 865.897 163.637 861.268 Q168.243 856.615 169.424 855.272 Q171.669 852.749 172.549 851.013 Q173.452 849.254 173.452 847.564 Q173.452 844.81 171.507 843.073 Q169.586 841.337 166.484 841.337 Q164.285 841.337 161.831 842.101 Q159.401 842.865 156.623 844.416 L156.623 839.694 Q159.447 838.56 161.901 837.981 Q164.354 837.402 166.391 837.402 Q171.762 837.402 174.956 840.087 Q178.151 842.773 178.151 847.263 Q178.151 849.393 177.34 851.314 Q176.553 853.212 174.447 855.805 Q173.868 856.476 170.766 859.694 Q167.665 862.888 162.016 868.652 Z\" fill=\"#000000\" fill-rule=\"evenodd\" fill-opacity=\"1\" /><path clip-path=\"url(#clip790)\" d=\"M171.206 773.147 Q174.563 773.864 176.438 776.133 Q178.336 778.401 178.336 781.735 Q178.336 786.85 174.817 789.651 Q171.299 792.452 164.817 792.452 Q162.641 792.452 160.327 792.012 Q158.035 791.596 155.581 790.739 L155.581 786.225 Q157.526 787.36 159.841 787.938 Q162.155 788.517 164.678 788.517 Q169.077 788.517 171.368 786.781 Q173.683 785.045 173.683 781.735 Q173.683 778.679 171.53 776.966 Q169.401 775.23 165.581 775.23 L161.553 775.23 L161.553 771.387 L165.766 771.387 Q169.215 771.387 171.044 770.022 Q172.873 768.633 172.873 766.04 Q172.873 763.378 170.975 761.966 Q169.1 760.531 165.581 760.531 Q163.66 760.531 161.461 760.948 Q159.262 761.364 156.623 762.244 L156.623 758.077 Q159.285 757.337 161.6 756.966 Q163.938 756.596 165.998 756.596 Q171.322 756.596 174.424 759.026 Q177.526 761.434 177.526 765.554 Q177.526 768.425 175.882 770.415 Q174.239 772.383 171.206 773.147 Z\" fill=\"#000000\" fill-rule=\"evenodd\" fill-opacity=\"1\" /><path clip-path=\"url(#clip790)\" d=\"M168.753 680.489 L156.947 698.938 L168.753 698.938 L168.753 680.489 M167.526 676.415 L173.405 676.415 L173.405 698.938 L178.336 698.938 L178.336 702.826 L173.405 702.826 L173.405 710.975 L168.753 710.975 L168.753 702.826 L153.151 702.826 L153.151 698.313 L167.526 676.415 Z\" fill=\"#000000\" fill-rule=\"evenodd\" fill-opacity=\"1\" /><path clip-path=\"url(#clip790)\" d=\"M157.433 595.608 L175.79 595.608 L175.79 599.543 L161.716 599.543 L161.716 608.016 Q162.734 607.668 163.753 607.506 Q164.771 607.321 165.79 607.321 Q171.577 607.321 174.956 610.492 Q178.336 613.664 178.336 619.08 Q178.336 624.659 174.864 627.761 Q171.391 630.84 165.072 630.84 Q162.896 630.84 160.628 630.469 Q158.382 630.099 155.975 629.358 L155.975 624.659 Q158.058 625.793 160.28 626.349 Q162.503 626.904 164.979 626.904 Q168.984 626.904 171.322 624.798 Q173.66 622.691 173.66 619.08 Q173.66 615.469 171.322 613.363 Q168.984 611.256 164.979 611.256 Q163.104 611.256 161.229 611.673 Q159.378 612.09 157.433 612.969 L157.433 595.608 Z\" fill=\"#000000\" fill-rule=\"evenodd\" fill-opacity=\"1\" /><path clip-path=\"url(#clip790)\" d=\"M166.808 530.219 Q163.66 530.219 161.808 532.371 Q159.979 534.524 159.979 538.274 Q159.979 542.001 161.808 544.177 Q163.66 546.33 166.808 546.33 Q169.956 546.33 171.785 544.177 Q173.637 542.001 173.637 538.274 Q173.637 534.524 171.785 532.371 Q169.956 530.219 166.808 530.219 M176.09 515.566 L176.09 519.825 Q174.331 518.992 172.526 518.552 Q170.743 518.112 168.984 518.112 Q164.354 518.112 161.901 521.237 Q159.47 524.362 159.123 530.682 Q160.489 528.668 162.549 527.603 Q164.609 526.515 167.086 526.515 Q172.294 526.515 175.303 529.686 Q178.336 532.834 178.336 538.274 Q178.336 543.598 175.188 546.816 Q172.04 550.033 166.808 550.033 Q160.813 550.033 157.641 545.45 Q154.47 540.843 154.47 532.117 Q154.47 523.922 158.359 519.061 Q162.248 514.177 168.799 514.177 Q170.558 514.177 172.34 514.524 Q174.146 514.871 176.09 515.566 Z\" fill=\"#000000\" fill-rule=\"evenodd\" fill-opacity=\"1\" /><path clip-path=\"url(#clip790)\" d=\"M156.114 433.996 L178.336 433.996 L178.336 435.986 L165.79 468.556 L160.905 468.556 L172.711 437.931 L156.114 437.931 L156.114 433.996 Z\" fill=\"#000000\" fill-rule=\"evenodd\" fill-opacity=\"1\" /><path clip-path=\"url(#clip790)\" d=\"M166.484 371.337 Q163.151 371.337 161.229 373.12 Q159.331 374.902 159.331 378.027 Q159.331 381.152 161.229 382.935 Q163.151 384.717 166.484 384.717 Q169.817 384.717 171.739 382.935 Q173.66 381.129 173.66 378.027 Q173.66 374.902 171.739 373.12 Q169.84 371.337 166.484 371.337 M161.808 369.347 Q158.799 368.606 157.109 366.546 Q155.442 364.486 155.442 361.523 Q155.442 357.379 158.382 354.972 Q161.345 352.564 166.484 352.564 Q171.646 352.564 174.586 354.972 Q177.526 357.379 177.526 361.523 Q177.526 364.486 175.836 366.546 Q174.169 368.606 171.183 369.347 Q174.563 370.134 176.438 372.425 Q178.336 374.717 178.336 378.027 Q178.336 383.05 175.257 385.735 Q172.202 388.421 166.484 388.421 Q160.766 388.421 157.688 385.735 Q154.632 383.05 154.632 378.027 Q154.632 374.717 156.53 372.425 Q158.428 370.134 161.808 369.347 M160.095 361.962 Q160.095 364.648 161.762 366.152 Q163.452 367.657 166.484 367.657 Q169.493 367.657 171.183 366.152 Q172.896 364.648 172.896 361.962 Q172.896 359.277 171.183 357.773 Q169.493 356.268 166.484 356.268 Q163.452 356.268 161.762 357.773 Q160.095 359.277 160.095 361.962 Z\" fill=\"#000000\" fill-rule=\"evenodd\" fill-opacity=\"1\" /><path clip-path=\"url(#clip790)\" d=\"M156.716 306.225 L156.716 301.966 Q158.475 302.8 160.28 303.239 Q162.086 303.679 163.822 303.679 Q168.452 303.679 170.882 300.577 Q173.336 297.452 173.683 291.11 Q172.34 293.101 170.28 294.165 Q168.22 295.23 165.72 295.23 Q160.535 295.23 157.503 292.105 Q154.493 288.957 154.493 283.517 Q154.493 278.193 157.641 274.976 Q160.79 271.758 166.021 271.758 Q172.016 271.758 175.165 276.364 Q178.336 280.948 178.336 289.698 Q178.336 297.869 174.447 302.753 Q170.581 307.614 164.03 307.614 Q162.271 307.614 160.466 307.267 Q158.66 306.92 156.716 306.225 M166.021 291.573 Q169.169 291.573 170.998 289.42 Q172.85 287.267 172.85 283.517 Q172.85 279.79 170.998 277.638 Q169.169 275.462 166.021 275.462 Q162.873 275.462 161.021 277.638 Q159.192 279.79 159.192 283.517 Q159.192 287.267 161.021 289.42 Q162.873 291.573 166.021 291.573 Z\" fill=\"#000000\" fill-rule=\"evenodd\" fill-opacity=\"1\" /><path clip-path=\"url(#clip790)\" d=\"M127.04 222.202 L134.679 222.202 L134.679 195.836 L126.368 197.503 L126.368 193.243 L134.632 191.577 L139.308 191.577 L139.308 222.202 L146.947 222.202 L146.947 226.137 L127.04 226.137 L127.04 222.202 Z\" fill=\"#000000\" fill-rule=\"evenodd\" fill-opacity=\"1\" /><path clip-path=\"url(#clip790)\" d=\"M166.391 194.655 Q162.78 194.655 160.952 198.22 Q159.146 201.762 159.146 208.891 Q159.146 215.998 160.952 219.563 Q162.78 223.104 166.391 223.104 Q170.026 223.104 171.831 219.563 Q173.66 215.998 173.66 208.891 Q173.66 201.762 171.831 198.22 Q170.026 194.655 166.391 194.655 M166.391 190.952 Q172.202 190.952 175.257 195.558 Q178.336 200.141 178.336 208.891 Q178.336 217.618 175.257 222.225 Q172.202 226.808 166.391 226.808 Q160.581 226.808 157.503 222.225 Q154.447 217.618 154.447 208.891 Q154.447 200.141 157.503 195.558 Q160.581 190.952 166.391 190.952 Z\" fill=\"#000000\" fill-rule=\"evenodd\" fill-opacity=\"1\" /><path clip-path=\"url(#clip790)\" d=\"M128.267 141.395 L135.905 141.395 L135.905 115.03 L127.595 116.696 L127.595 112.437 L135.859 110.77 L140.535 110.77 L140.535 141.395 L148.174 141.395 L148.174 145.33 L128.267 145.33 L128.267 141.395 Z\" fill=\"#000000\" fill-rule=\"evenodd\" fill-opacity=\"1\" /><path clip-path=\"url(#clip790)\" d=\"M158.428 141.395 L166.067 141.395 L166.067 115.03 L157.757 116.696 L157.757 112.437 L166.021 110.77 L170.697 110.77 L170.697 141.395 L178.336 141.395 L178.336 145.33 L158.428 145.33 L158.428 141.395 Z\" fill=\"#000000\" fill-rule=\"evenodd\" fill-opacity=\"1\" /><path clip-path=\"url(#clip790)\" d=\"M128.637 60.5889 L136.276 60.5889 L136.276 34.2233 L127.966 35.89 L127.966 31.6308 L136.23 29.9641 L140.905 29.9641 L140.905 60.5889 L148.544 60.5889 L148.544 64.5241 L128.637 64.5241 L128.637 60.5889 Z\" fill=\"#000000\" fill-rule=\"evenodd\" fill-opacity=\"1\" /><path clip-path=\"url(#clip790)\" d=\"M162.016 60.5889 L178.336 60.5889 L178.336 64.5241 L156.391 64.5241 L156.391 60.5889 Q159.053 57.8343 163.637 53.2047 Q168.243 48.552 169.424 47.2094 Q171.669 44.6862 172.549 42.9501 Q173.452 41.1909 173.452 39.5011 Q173.452 36.7465 171.507 35.0104 Q169.586 33.2743 166.484 33.2743 Q164.285 33.2743 161.831 34.0381 Q159.401 34.802 156.623 36.3529 L156.623 31.6308 Q159.447 30.4965 161.901 29.9178 Q164.354 29.3391 166.391 29.3391 Q171.762 29.3391 174.956 32.0243 Q178.151 34.7094 178.151 39.2002 Q178.151 41.3298 177.34 43.2511 Q176.553 45.1492 174.447 47.7418 Q173.868 48.4131 170.766 51.6306 Q167.665 54.8251 162.016 60.5889 Z\" fill=\"#000000\" fill-rule=\"evenodd\" fill-opacity=\"1\" /><path clip-path=\"url(#clip790)\" d=\"M83.1586 581.346 Q83.7705 581.346 84.0926 581.603 Q84.3825 581.829 84.4469 582.054 Q84.4791 582.247 84.4791 582.537 Q84.4791 583.375 84.3825 586.273 Q84.2858 589.172 84.2858 590.009 Q84.2858 591.362 84.3825 594.131 Q84.4791 596.901 84.4791 598.254 Q84.4791 599.155 83.7383 599.155 Q83.2553 599.155 82.9976 599.059 Q82.7078 598.962 82.6111 598.704 Q82.4823 598.415 82.4823 598.254 Q82.4501 598.06 82.4501 597.577 Q82.4501 596.933 82.3857 596.257 Q82.2891 595.581 82.0958 594.743 Q81.9026 593.906 81.4195 593.391 Q80.9364 592.843 80.2601 592.843 Q79.9703 592.843 77.587 593.068 Q75.2038 593.294 72.4341 593.584 Q69.6322 593.874 69.2457 593.906 L69.2457 610.46 Q71.8544 611.973 73.6579 613.036 Q75.4614 614.099 76.0733 614.485 Q76.6853 614.872 77.0717 615.097 Q77.4582 615.323 77.6836 615.452 Q79.3906 616.386 80.1313 616.386 Q82.1925 616.386 82.4501 613.294 Q82.4501 612.231 83.223 612.231 Q83.8028 612.231 84.1248 612.489 Q84.4147 612.746 84.4469 612.972 Q84.4791 613.165 84.4791 613.487 Q84.4791 614.55 84.3825 616.772 Q84.2858 618.994 84.2858 620.089 Q84.2858 621.023 84.3825 622.956 Q84.4791 624.888 84.4791 625.757 Q84.4791 626.144 84.2536 626.369 Q84.0282 626.595 83.7383 626.595 Q83.2875 626.595 83.0298 626.53 Q82.7722 626.434 82.6433 626.176 Q82.5145 625.918 82.5145 625.79 Q82.4823 625.661 82.4501 625.21 Q82.2891 622.762 81.1297 620.862 Q79.9381 618.93 76.8785 617.094 L38.3603 594.163 Q37.9738 593.938 37.7806 593.777 Q37.5873 593.616 37.4263 593.294 Q37.2653 592.94 37.2653 592.424 Q37.2653 591.619 37.5229 591.458 Q37.7484 591.297 38.8434 591.201 L80.0669 587.175 Q80.9364 587.078 81.2907 587.014 Q81.6128 586.917 81.967 586.498 Q82.2891 586.048 82.3857 585.242 Q82.4501 584.405 82.4501 582.859 Q82.4501 582.28 82.4823 582.054 Q82.4823 581.829 82.6433 581.603 Q82.8044 581.346 83.1586 581.346 M67.1845 594.099 L45.4456 596.192 L67.1845 609.204 L67.1845 594.099 Z\" fill=\"#000000\" fill-rule=\"evenodd\" fill-opacity=\"1\" /><path clip-path=\"url(#clip790)\" d=\"M100.035 577.603 Q99.7124 577.603 99.0039 577.345 L36.7822 554.06 Q36.7178 554.06 36.3635 553.899 Q36.0093 553.738 35.7838 553.641 Q35.5262 553.545 35.3329 553.352 Q35.1397 553.126 35.1397 552.868 Q35.1397 552.224 35.9448 552.224 Q36.0093 552.224 36.7822 552.418 L99.0683 575.767 Q100.196 576.153 100.518 576.411 Q100.84 576.636 100.84 577.023 Q100.84 577.603 100.035 577.603 Z\" fill=\"#000000\" fill-rule=\"evenodd\" fill-opacity=\"1\" /><path clip-path=\"url(#clip790)\" d=\"M83.1586 499.692 Q83.7705 499.692 84.0926 499.95 Q84.3825 500.175 84.4469 500.4 Q84.4791 500.594 84.4791 500.884 Q84.4791 501.721 84.3825 504.619 Q84.2858 507.518 84.2858 508.355 Q84.2858 509.708 84.3825 512.478 Q84.4791 515.247 84.4791 516.6 Q84.4791 517.502 83.7383 517.502 Q83.2553 517.502 82.9976 517.405 Q82.7078 517.308 82.6111 517.051 Q82.4823 516.761 82.4823 516.6 Q82.4501 516.407 82.4501 515.924 Q82.4501 515.28 82.3857 514.603 Q82.2891 513.927 82.0958 513.09 Q81.9026 512.252 81.4195 511.737 Q80.9364 511.189 80.2601 511.189 Q79.9703 511.189 77.587 511.415 Q75.2038 511.64 72.4341 511.93 Q69.6322 512.22 69.2457 512.252 L69.2457 528.806 Q71.8544 530.32 73.6579 531.382 Q75.4614 532.445 76.0733 532.832 Q76.6853 533.218 77.0717 533.444 Q77.4582 533.669 77.6836 533.798 Q79.3906 534.732 80.1313 534.732 Q82.1925 534.732 82.4501 531.64 Q82.4501 530.577 83.223 530.577 Q83.8028 530.577 84.1248 530.835 Q84.4147 531.093 84.4469 531.318 Q84.4791 531.511 84.4791 531.833 Q84.4791 532.896 84.3825 535.118 Q84.2858 537.341 84.2858 538.436 Q84.2858 539.37 84.3825 541.302 Q84.4791 543.234 84.4791 544.104 Q84.4791 544.49 84.2536 544.716 Q84.0282 544.941 83.7383 544.941 Q83.2875 544.941 83.0298 544.877 Q82.7722 544.78 82.6433 544.522 Q82.5145 544.265 82.5145 544.136 Q82.4823 544.007 82.4501 543.556 Q82.2891 541.109 81.1297 539.208 Q79.9381 537.276 76.8785 535.44 L38.3603 512.51 Q37.9738 512.284 37.7806 512.123 Q37.5873 511.962 37.4263 511.64 Q37.2653 511.286 37.2653 510.771 Q37.2653 509.966 37.5229 509.805 Q37.7484 509.643 38.8434 509.547 L80.0669 505.521 Q80.9364 505.425 81.2907 505.36 Q81.6128 505.264 81.967 504.845 Q82.2891 504.394 82.3857 503.589 Q82.4501 502.751 82.4501 501.206 Q82.4501 500.626 82.4823 500.4 Q82.4823 500.175 82.6433 499.95 Q82.8044 499.692 83.1586 499.692 M67.1845 512.445 L45.4456 514.539 L67.1845 527.55 L67.1845 512.445 Z\" fill=\"#000000\" fill-rule=\"evenodd\" fill-opacity=\"1\" /><path clip-path=\"url(#clip790)\" d=\"M89.4283 480.28 Q88.6392 480.28 88.1207 479.221 L85.0772 472.796 L82.0338 479.311 Q81.5829 480.28 80.7939 480.28 Q80.343 480.28 79.9372 479.92 Q79.5089 479.536 79.5089 479.04 Q79.5089 478.68 80.0048 478.026 L84.1529 472.3 Q76.533 472.999 76.3076 472.976 Q75.8567 472.976 75.5185 472.638 Q75.1578 472.3 75.1578 471.736 Q75.1578 471.285 75.496 470.925 Q75.8116 470.541 76.3076 470.541 L84.1529 471.218 L80.3655 466.1 Q79.4863 464.905 79.5089 464.477 Q79.5089 463.958 79.9146 463.598 Q80.3204 463.237 80.7939 463.237 Q81.5829 463.237 82.0789 464.297 L85.1223 470.722 L88.1883 464.206 Q88.6392 463.237 89.4283 463.237 Q89.8791 463.237 90.3075 463.62 Q90.7133 463.981 90.7133 464.477 Q90.7133 464.748 90.4427 465.221 Q90.3977 465.311 89.6762 466.281 Q88.9548 467.25 87.8502 468.76 Q86.7455 470.248 86.0466 471.218 Q93.6665 470.519 93.892 470.541 Q94.3429 470.541 94.7036 470.88 Q95.0643 471.218 95.0643 471.781 Q95.0643 472.232 94.7487 472.615 Q94.4105 472.976 93.892 472.976 L86.0466 472.3 L90.7133 478.747 Q90.7133 479.446 90.3751 479.83 Q90.0144 480.19 89.8115 480.235 Q89.6086 480.28 89.4283 480.28 Z\" fill=\"#000000\" fill-rule=\"evenodd\" fill-opacity=\"1\" /><polyline clip-path=\"url(#clip792)\" style=\"stroke:#009af9; stroke-linecap:round; stroke-linejoin:round; stroke-width:4; stroke-opacity:1; fill:none\" points=\"\n",
       "  205.712,-3659.65 209.088,-1321.79 212.464,-542.686 215.84,-153.276 219.216,80.258 222.592,235.853 225.968,346.912 229.344,430.136 232.72,494.803 236.096,546.479 \n",
       "  239.472,588.709 242.848,623.852 246.224,653.545 249.6,678.956 252.977,700.939 256.353,720.139 259.729,737.046 263.105,752.043 266.481,765.43 269.857,777.449 \n",
       "  273.233,788.295 276.609,798.129 279.985,807.081 283.361,815.263 286.737,822.766 290.113,829.668 293.489,836.037 296.865,841.929 300.241,847.394 303.617,852.474 \n",
       "  306.993,857.206 310.369,861.622 313.745,865.752 317.121,869.62 320.498,873.249 323.874,876.658 327.25,879.865 330.626,882.887 334.002,885.736 337.378,888.426 \n",
       "  340.754,890.969 344.13,893.375 347.506,895.652 350.882,897.811 354.258,899.858 357.634,901.801 361.01,903.646 364.386,905.399 367.762,907.066 371.138,908.652 \n",
       "  374.514,910.161 377.89,911.598 381.266,912.966 384.643,914.27 388.019,915.512 391.395,916.696 394.771,917.825 398.147,918.901 401.523,919.927 404.899,920.906 \n",
       "  408.275,921.839 411.651,922.728 415.027,923.576 418.403,924.385 421.779,925.155 425.155,925.889 428.531,926.588 431.907,927.253 435.283,927.886 438.659,928.488 \n",
       "  442.035,929.06 445.411,929.603 448.787,930.118 452.164,930.607 455.54,931.07 458.916,931.508 462.292,931.921 465.668,932.311 469.044,932.679 472.42,933.024 \n",
       "  475.796,933.348 479.172,933.652 482.548,933.935 485.924,934.199 489.3,934.443 492.676,934.669 496.052,934.877 499.428,935.068 502.804,935.241 506.18,935.397 \n",
       "  509.556,935.537 512.932,935.661 516.308,935.769 519.685,935.862 523.061,935.94 526.437,936.003 529.813,936.052 533.189,936.086 536.565,936.107 539.941,936.114 \n",
       "  543.317,936.107 546.693,936.087 550.069,936.054 553.445,936.008 556.821,935.95 560.197,935.879 563.573,935.795 566.949,935.7 570.325,935.592 573.701,935.473 \n",
       "  577.077,935.342 580.453,935.199 583.829,935.045 587.206,934.88 590.582,934.703 593.958,934.515 597.334,934.316 600.71,934.106 604.086,933.885 607.462,933.654 \n",
       "  610.838,933.411 614.214,933.158 617.59,932.895 620.966,932.62 624.342,932.336 627.718,932.04 631.094,931.735 634.47,931.419 637.846,931.092 641.222,930.756 \n",
       "  644.598,930.409 647.974,930.052 651.35,929.684 654.727,929.307 658.103,928.919 661.479,928.521 664.855,928.112 668.231,927.694 671.607,927.266 674.983,926.827 \n",
       "  678.359,926.378 681.735,925.919 685.111,925.45 688.487,924.97 691.863,924.48 695.239,923.98 698.615,923.47 701.991,922.95 705.367,922.419 708.743,921.878 \n",
       "  712.119,921.327 715.495,920.765 718.871,920.193 722.248,919.61 725.624,919.017 729,918.413 732.376,917.799 735.752,917.174 739.128,916.539 742.504,915.893 \n",
       "  745.88,915.236 749.256,914.569 752.632,913.89 756.008,913.201 759.384,912.5 762.76,911.789 766.136,911.067 769.512,910.333 772.888,909.589 776.264,908.833 \n",
       "  779.64,908.066 783.016,907.287 786.392,906.497 789.769,905.696 793.145,904.883 796.521,904.058 799.897,903.221 803.273,902.373 806.649,901.513 810.025,900.641 \n",
       "  813.401,899.757 816.777,898.861 820.153,897.952 823.529,897.032 826.905,896.099 830.281,895.153 833.657,894.195 837.033,893.225 840.409,892.241 843.785,891.245 \n",
       "  847.161,890.236 850.537,889.214 853.913,888.179 857.29,887.131 860.666,886.069 864.042,884.995 867.418,883.906 870.794,882.804 874.17,881.689 877.546,880.559 \n",
       "  880.922,879.416 884.298,878.259 887.674,877.087 891.05,875.902 894.426,874.702 897.802,873.487 901.178,872.258 904.554,871.015 907.93,869.756 911.306,868.483 \n",
       "  914.682,867.195 918.058,865.892 921.435,864.573 924.811,863.239 928.187,861.889 931.563,860.524 934.939,859.143 938.315,857.747 941.691,856.334 945.067,854.905 \n",
       "  948.443,853.46 951.819,851.999 955.195,850.521 958.571,849.026 961.947,847.515 965.323,845.986 968.699,844.441 972.075,842.878 975.451,841.298 978.827,839.701 \n",
       "  982.203,838.086 985.579,836.453 988.956,834.803 992.332,833.134 995.708,831.447 999.084,829.742 1002.46,828.018 1005.84,826.276 1009.21,824.514 1012.59,822.734 \n",
       "  1015.96,820.935 1019.34,819.116 1022.72,817.279 1026.09,815.421 1029.47,813.544 1032.84,811.647 1036.22,809.73 1039.6,807.792 1042.97,805.835 1046.35,803.856 \n",
       "  1049.72,801.857 1053.1,799.838 1056.48,797.797 1059.85,795.735 1063.23,793.651 1066.6,791.546 1069.98,789.419 1073.36,787.271 1076.73,785.1 1080.11,782.907 \n",
       "  1083.48,780.691 1086.86,778.453 1090.24,776.192 1093.61,773.909 1096.99,771.602 1100.37,769.271 1103.74,766.917 1107.12,764.54 1110.49,762.138 1113.87,759.712 \n",
       "  1117.25,757.263 1120.62,754.788 1124,752.289 1127.37,749.765 1130.75,747.216 1134.13,744.642 1137.5,742.042 1140.88,739.417 1144.25,736.765 1147.63,734.088 \n",
       "  1151.01,731.384 1154.38,728.654 1157.76,725.897 1161.13,723.113 1164.51,720.303 1167.89,717.464 1171.26,714.599 1174.64,711.705 1178.01,708.784 1181.39,705.834 \n",
       "  1184.77,702.856 1188.14,699.85 1191.52,696.814 1194.89,693.75 1198.27,690.656 1201.65,687.533 1205.02,684.38 1208.4,681.197 1211.77,677.984 1215.15,674.74 \n",
       "  1218.53,671.466 1221.9,668.161 1225.28,664.824 1228.66,661.457 1232.03,658.058 1235.41,654.627 1238.78,651.164 1242.16,647.668 1245.54,644.14 1248.91,640.58 \n",
       "  1252.29,636.986 1255.66,633.359 1259.04,629.698 1262.42,626.004 1265.79,622.276 1269.17,618.513 1272.54,614.716 1275.92,610.884 1279.3,607.017 1282.67,603.114 \n",
       "  1286.05,599.176 1289.42,595.202 1292.8,591.192 1296.18,587.146 1299.55,583.063 1302.93,578.943 1306.3,574.786 1309.68,570.592 1313.06,566.36 1316.43,562.09 \n",
       "  1319.81,557.781 1323.18,553.434 1326.56,549.049 1329.94,544.624 1333.31,540.16 1336.69,535.656 1340.06,531.112 1343.44,526.528 1346.82,521.903 1350.19,517.238 \n",
       "  1353.57,512.531 1356.94,507.784 1360.32,502.994 1363.7,498.163 1367.07,493.289 1370.45,488.373 1373.83,483.413 1377.2,478.411 1380.58,473.365 1383.95,468.276 \n",
       "  1387.33,463.142 1390.71,457.964 1394.08,452.741 1397.46,447.473 1400.83,442.16 1404.21,436.801 1407.59,431.397 1410.96,425.946 1414.34,420.448 1417.71,414.904 \n",
       "  1421.09,409.312 1424.47,403.673 1427.84,397.986 1431.22,392.25 1434.59,386.467 1437.97,380.634 1441.35,374.752 1444.72,368.821 1448.1,362.839 1451.47,356.808 \n",
       "  1454.85,350.726 1458.23,344.593 1461.6,338.409 1464.98,332.173 1468.35,325.885 1471.73,319.545 1475.11,313.153 1478.48,306.707 1481.86,300.209 1485.23,293.656 \n",
       "  1488.61,287.05 1491.99,280.389 1495.36,273.673 1498.74,266.902 1502.12,260.076 1505.49,253.194 1508.87,246.256 1512.24,239.262 1515.62,232.21 1519,225.101 \n",
       "  1522.37,217.934 1525.75,210.71 1529.12,203.427 1532.5,196.085 1535.88,188.684 1539.25,181.223 1542.63,173.702 1546,166.122 1549.38,158.48 1552.76,150.777 \n",
       "  1556.13,143.013 1559.51,135.187 1562.88,127.298 1566.26,119.347 1569.64,111.333 1573.01,103.255 1576.39,95.114 1579.76,86.9081 1583.14,78.6376 1586.52,70.302 \n",
       "  1589.89,61.9009 1593.27,53.4339 1596.64,44.9005 1600.02,36.3004 1603.4,27.6331 1606.77,18.8983 1610.15,10.0954 1613.52,1.22412 1616.9,-7.71601 1620.28,-16.7254 \n",
       "  1623.65,-25.8045 1627.03,-34.9537 1630.41,-44.1735 1633.78,-53.4643 1637.16,-62.8265 1640.53,-72.2606 1643.91,-81.767 1647.29,-91.3462 1650.66,-100.998 1654.04,-110.724 \n",
       "  1657.41,-120.525 1660.79,-130.399 1664.17,-140.349 1667.54,-150.374 1670.92,-160.475 1674.29,-170.652 1677.67,-180.906 1681.05,-191.237 1684.42,-201.646 1687.8,-212.133 \n",
       "  1691.17,-222.699 1694.55,-233.344 1697.93,-244.069 1701.3,-254.874 1704.68,-265.759 1708.05,-276.725 1711.43,-287.773 1714.81,-298.903 1718.18,-310.115 1721.56,-321.41 \n",
       "  1724.93,-332.789 1728.31,-344.251 1731.69,-355.798 1735.06,-367.43 1738.44,-379.147 1741.81,-390.95 1745.19,-402.84 1748.57,-414.816 1751.94,-426.88 1755.32,-439.032 \n",
       "  1758.69,-451.272 1762.07,-463.601 1765.45,-476.019 1768.82,-488.528 1772.2,-501.127 1775.58,-513.817 1778.95,-526.598 1782.33,-539.471 1785.7,-552.437 1789.08,-565.496 \n",
       "  1792.46,-578.649 1795.83,-591.896 1799.21,-605.237 1802.58,-618.674 1805.96,-632.206 1809.34,-645.834 1812.71,-659.56 1816.09,-673.382 1819.46,-687.303 1822.84,-701.322 \n",
       "  1826.22,-715.44 1829.59,-729.658 1832.97,-743.975 1836.34,-758.394 1839.72,-772.913 1843.1,-787.535 1846.47,-802.258 1849.85,-817.085 1853.22,-832.015 1856.6,-847.049 \n",
       "  1859.98,-862.188 1863.35,-877.431 1866.73,-892.781 1870.1,-908.237 1873.48,-923.8 1876.86,-939.47 1880.23,-955.248 1883.61,-971.136 1886.98,-987.132 1890.36,-1003.24 \n",
       "  1893.74,-1019.45 1897.11,-1035.78 1900.49,-1052.22 1903.87,-1068.77 1907.24,-1085.44 1910.62,-1102.21 1913.99,-1119.11 1917.37,-1136.11 1920.75,-1153.23 1924.12,-1170.47 \n",
       "  1927.5,-1187.83 1930.87,-1205.3 1934.25,-1222.89 1937.63,-1240.59 1941,-1258.42 1944.38,-1276.37 1947.75,-1294.43 1951.13,-1312.62 1954.51,-1330.93 1957.88,-1349.36 \n",
       "  1961.26,-1367.91 1964.63,-1386.59 1968.01,-1405.39 1971.39,-1424.31 1974.76,-1443.37 1978.14,-1462.54 1981.51,-1481.85 1984.89,-1501.28 1988.27,-1520.84 1991.64,-1540.52 \n",
       "  1995.02,-1560.34 1998.39,-1580.29 2001.77,-1600.36 2005.15,-1620.57 2008.52,-1640.91 2011.9,-1661.39 2015.27,-1681.99 2018.65,-1702.73 2022.03,-1723.61 2025.4,-1744.62 \n",
       "  2028.78,-1765.77 2032.16,-1787.05 2035.53,-1808.47 2038.91,-1830.03 2042.28,-1851.73 2045.66,-1873.57 2049.04,-1895.54 2052.41,-1917.66 2055.79,-1939.92 2059.16,-1962.33 \n",
       "  2062.54,-1984.87 2065.92,-2007.56 2069.29,-2030.39 2072.67,-2053.37 2076.04,-2076.5 2079.42,-2099.77 2082.8,-2123.19 2086.17,-2146.76 2089.55,-2170.47 2092.92,-2194.34 \n",
       "  2096.3,-2218.35 2099.68,-2242.52 2103.05,-2266.84 2106.43,-2291.31 2109.8,-2315.93 2113.18,-2340.71 2116.56,-2365.65 2119.93,-2390.74 2123.31,-2415.98 2126.68,-2441.38 \n",
       "  2130.06,-2466.94 2133.44,-2492.66 2136.81,-2518.54 2140.19,-2544.58 2143.56,-2570.78 2146.94,-2597.14 2150.32,-2623.66 2153.69,-2650.35 2157.07,-2677.2 2160.44,-2704.21 \n",
       "  2163.82,-2731.39 2167.2,-2758.74 2170.57,-2786.25 2173.95,-2813.93 2177.33,-2841.78 2180.7,-2869.8 2184.08,-2897.99 2187.45,-2926.36 2190.83,-2954.89 2194.21,-2983.6 \n",
       "  2197.58,-3012.48 2200.96,-3041.53 2204.33,-3070.76 2207.71,-3100.17 2211.09,-3129.75 2214.46,-3159.51 2217.84,-3189.45 2221.21,-3219.57 2224.59,-3249.86 2227.97,-3280.34 \n",
       "  \n",
       "  \"/>\n",
       "<circle clip-path=\"url(#clip792)\" cx=\"539.941\" cy=\"936.114\" r=\"14.4\" fill=\"#e26f46\" fill-rule=\"evenodd\" fill-opacity=\"1\" stroke=\"#000000\" stroke-opacity=\"1\" stroke-width=\"2.4\"/>\n",
       "<polyline clip-path=\"url(#clip792)\" style=\"stroke:#3da44d; stroke-linecap:round; stroke-linejoin:round; stroke-width:4; stroke-opacity:1; fill:none\" stroke-dasharray=\"16, 10\" points=\"\n",
       "  202.336,855.307 205.712,855.307 209.088,855.307 212.464,855.307 215.84,855.307 219.216,855.307 222.592,855.307 225.968,855.307 229.344,855.307 232.72,855.307 \n",
       "  236.096,855.307 239.472,855.307 242.848,855.307 246.224,855.307 249.6,855.307 252.977,855.307 256.353,855.307 259.729,855.307 263.105,855.307 266.481,855.307 \n",
       "  269.857,855.307 273.233,855.307 276.609,855.307 279.985,855.307 283.361,855.307 286.737,855.307 290.113,855.307 293.489,855.307 296.865,855.307 300.241,855.307 \n",
       "  303.617,855.307 306.993,855.307 310.369,855.307 313.745,855.307 317.121,855.307 320.498,855.307 323.874,855.307 327.25,855.307 330.626,855.307 334.002,855.307 \n",
       "  337.378,855.307 340.754,855.307 344.13,855.307 347.506,855.307 350.882,855.307 354.258,855.307 357.634,855.307 361.01,855.307 364.386,855.307 367.762,855.307 \n",
       "  371.138,855.307 374.514,855.307 377.89,855.307 381.266,855.307 384.643,855.307 388.019,855.307 391.395,855.307 394.771,855.307 398.147,855.307 401.523,855.307 \n",
       "  404.899,855.307 408.275,855.307 411.651,855.307 415.027,855.307 418.403,855.307 421.779,855.307 425.155,855.307 428.531,855.307 431.907,855.307 435.283,855.307 \n",
       "  438.659,855.307 442.035,855.307 445.411,855.307 448.787,855.307 452.164,855.307 455.54,855.307 458.916,855.307 462.292,855.307 465.668,855.307 469.044,855.307 \n",
       "  472.42,855.307 475.796,855.307 479.172,855.307 482.548,855.307 485.924,855.307 489.3,855.307 492.676,855.307 496.052,855.307 499.428,855.307 502.804,855.307 \n",
       "  506.18,855.307 509.556,855.307 512.932,855.307 516.308,855.307 519.685,855.307 523.061,855.307 526.437,855.307 529.813,855.307 533.189,855.307 536.565,855.307 \n",
       "  539.941,855.307 543.317,855.307 546.693,855.307 550.069,855.307 553.445,855.307 556.821,855.307 560.197,855.307 563.573,855.307 566.949,855.307 570.325,855.307 \n",
       "  573.701,855.307 577.077,855.307 580.453,855.307 583.829,855.307 587.206,855.307 590.582,855.307 593.958,855.307 597.334,855.307 600.71,855.307 604.086,855.307 \n",
       "  607.462,855.307 610.838,855.307 614.214,855.307 617.59,855.307 620.966,855.307 624.342,855.307 627.718,855.307 631.094,855.307 634.47,855.307 637.846,855.307 \n",
       "  641.222,855.307 644.598,855.307 647.974,855.307 651.35,855.307 654.727,855.307 658.103,855.307 661.479,855.307 664.855,855.307 668.231,855.307 671.607,855.307 \n",
       "  674.983,855.307 678.359,855.307 681.735,855.307 685.111,855.307 688.487,855.307 691.863,855.307 695.239,855.307 698.615,855.307 701.991,855.307 705.367,855.307 \n",
       "  708.743,855.307 712.119,855.307 715.495,855.307 718.871,855.307 722.248,855.307 725.624,855.307 729,855.307 732.376,855.307 735.752,855.307 739.128,855.307 \n",
       "  742.504,855.307 745.88,855.307 749.256,855.307 752.632,855.307 756.008,855.307 759.384,855.307 762.76,855.307 766.136,855.307 769.512,855.307 772.888,855.307 \n",
       "  776.264,855.307 779.64,855.307 783.016,855.307 786.392,855.307 789.769,855.307 793.145,855.307 796.521,855.307 799.897,855.307 803.273,855.307 806.649,855.307 \n",
       "  810.025,855.307 813.401,855.307 816.777,855.307 820.153,855.307 823.529,855.307 826.905,855.307 830.281,855.307 833.657,855.307 837.033,855.307 840.409,855.307 \n",
       "  843.785,855.307 847.161,855.307 850.537,855.307 853.913,855.307 857.29,855.307 860.666,855.307 864.042,855.307 867.418,855.307 870.794,855.307 874.17,855.307 \n",
       "  877.546,855.307 880.922,855.307 884.298,855.307 887.674,855.307 891.05,855.307 894.426,855.307 897.802,855.307 901.178,855.307 904.554,855.307 907.93,855.307 \n",
       "  911.306,855.307 914.682,855.307 918.058,855.307 921.435,855.307 924.811,855.307 928.187,855.307 931.563,855.307 934.939,855.307 938.315,855.307 941.691,855.307 \n",
       "  945.067,855.307 948.443,855.307 951.819,855.307 955.195,855.307 958.571,855.307 961.947,855.307 965.323,855.307 968.699,855.307 972.075,855.307 975.451,855.307 \n",
       "  978.827,855.307 982.203,855.307 985.579,855.307 988.956,855.307 992.332,855.307 995.708,855.307 999.084,855.307 1002.46,855.307 1005.84,855.307 1009.21,855.307 \n",
       "  1012.59,855.307 1015.96,855.307 1019.34,855.307 1022.72,855.307 1026.09,855.307 1029.47,855.307 1032.84,855.307 1036.22,855.307 1039.6,855.307 1042.97,855.307 \n",
       "  1046.35,855.307 1049.72,855.307 1053.1,855.307 1056.48,855.307 1059.85,855.307 1063.23,855.307 1066.6,855.307 1069.98,855.307 1073.36,855.307 1076.73,855.307 \n",
       "  1080.11,855.307 1083.48,855.307 1086.86,855.307 1090.24,855.307 1093.61,855.307 1096.99,855.307 1100.37,855.307 1103.74,855.307 1107.12,855.307 1110.49,855.307 \n",
       "  1113.87,855.307 1117.25,855.307 1120.62,855.307 1124,855.307 1127.37,855.307 1130.75,855.307 1134.13,855.307 1137.5,855.307 1140.88,855.307 1144.25,855.307 \n",
       "  1147.63,855.307 1151.01,855.307 1154.38,855.307 1157.76,855.307 1161.13,855.307 1164.51,855.307 1167.89,855.307 1171.26,855.307 1174.64,855.307 1178.01,855.307 \n",
       "  1181.39,855.307 1184.77,855.307 1188.14,855.307 1191.52,855.307 1194.89,855.307 1198.27,855.307 1201.65,855.307 1205.02,855.307 1208.4,855.307 1211.77,855.307 \n",
       "  1215.15,855.307 1218.53,855.307 1221.9,855.307 1225.28,855.307 1228.66,855.307 1232.03,855.307 1235.41,855.307 1238.78,855.307 1242.16,855.307 1245.54,855.307 \n",
       "  1248.91,855.307 1252.29,855.307 1255.66,855.307 1259.04,855.307 1262.42,855.307 1265.79,855.307 1269.17,855.307 1272.54,855.307 1275.92,855.307 1279.3,855.307 \n",
       "  1282.67,855.307 1286.05,855.307 1289.42,855.307 1292.8,855.307 1296.18,855.307 1299.55,855.307 1302.93,855.307 1306.3,855.307 1309.68,855.307 1313.06,855.307 \n",
       "  1316.43,855.307 1319.81,855.307 1323.18,855.307 1326.56,855.307 1329.94,855.307 1333.31,855.307 1336.69,855.307 1340.06,855.307 1343.44,855.307 1346.82,855.307 \n",
       "  1350.19,855.307 1353.57,855.307 1356.94,855.307 1360.32,855.307 1363.7,855.307 1367.07,855.307 1370.45,855.307 1373.83,855.307 1377.2,855.307 1380.58,855.307 \n",
       "  1383.95,855.307 1387.33,855.307 1390.71,855.307 1394.08,855.307 1397.46,855.307 1400.83,855.307 1404.21,855.307 1407.59,855.307 1410.96,855.307 1414.34,855.307 \n",
       "  1417.71,855.307 1421.09,855.307 1424.47,855.307 1427.84,855.307 1431.22,855.307 1434.59,855.307 1437.97,855.307 1441.35,855.307 1444.72,855.307 1448.1,855.307 \n",
       "  1451.47,855.307 1454.85,855.307 1458.23,855.307 1461.6,855.307 1464.98,855.307 1468.35,855.307 1471.73,855.307 1475.11,855.307 1478.48,855.307 1481.86,855.307 \n",
       "  1485.23,855.307 1488.61,855.307 1491.99,855.307 1495.36,855.307 1498.74,855.307 1502.12,855.307 1505.49,855.307 1508.87,855.307 1512.24,855.307 1515.62,855.307 \n",
       "  1519,855.307 1522.37,855.307 1525.75,855.307 1529.12,855.307 1532.5,855.307 1535.88,855.307 1539.25,855.307 1542.63,855.307 1546,855.307 1549.38,855.307 \n",
       "  1552.76,855.307 1556.13,855.307 1559.51,855.307 1562.88,855.307 1566.26,855.307 1569.64,855.307 1573.01,855.307 1576.39,855.307 1579.76,855.307 1583.14,855.307 \n",
       "  1586.52,855.307 1589.89,855.307 1593.27,855.307 1596.64,855.307 1600.02,855.307 1603.4,855.307 1606.77,855.307 1610.15,855.307 1613.52,855.307 1616.9,855.307 \n",
       "  1620.28,855.307 1623.65,855.307 1627.03,855.307 1630.41,855.307 1633.78,855.307 1637.16,855.307 1640.53,855.307 1643.91,855.307 1647.29,855.307 1650.66,855.307 \n",
       "  1654.04,855.307 1657.41,855.307 1660.79,855.307 1664.17,855.307 1667.54,855.307 1670.92,855.307 1674.29,855.307 1677.67,855.307 1681.05,855.307 1684.42,855.307 \n",
       "  1687.8,855.307 1691.17,855.307 1694.55,855.307 1697.93,855.307 1701.3,855.307 1704.68,855.307 1708.05,855.307 1711.43,855.307 1714.81,855.307 1718.18,855.307 \n",
       "  1721.56,855.307 1724.93,855.307 1728.31,855.307 1731.69,855.307 1735.06,855.307 1738.44,855.307 1741.81,855.307 1745.19,855.307 1748.57,855.307 1751.94,855.307 \n",
       "  1755.32,855.307 1758.69,855.307 1762.07,855.307 1765.45,855.307 1768.82,855.307 1772.2,855.307 1775.58,855.307 1778.95,855.307 1782.33,855.307 1785.7,855.307 \n",
       "  1789.08,855.307 1792.46,855.307 1795.83,855.307 1799.21,855.307 1802.58,855.307 1805.96,855.307 1809.34,855.307 1812.71,855.307 1816.09,855.307 1819.46,855.307 \n",
       "  1822.84,855.307 1826.22,855.307 1829.59,855.307 1832.97,855.307 1836.34,855.307 1839.72,855.307 1843.1,855.307 1846.47,855.307 1849.85,855.307 1853.22,855.307 \n",
       "  1856.6,855.307 1859.98,855.307 1863.35,855.307 1866.73,855.307 1870.1,855.307 1873.48,855.307 1876.86,855.307 1880.23,855.307 1883.61,855.307 1886.98,855.307 \n",
       "  1890.36,855.307 1893.74,855.307 1897.11,855.307 1900.49,855.307 1903.87,855.307 1907.24,855.307 1910.62,855.307 1913.99,855.307 1917.37,855.307 1920.75,855.307 \n",
       "  1924.12,855.307 1927.5,855.307 1930.87,855.307 1934.25,855.307 1937.63,855.307 1941,855.307 1944.38,855.307 1947.75,855.307 1951.13,855.307 1954.51,855.307 \n",
       "  1957.88,855.307 1961.26,855.307 1964.63,855.307 1968.01,855.307 1971.39,855.307 1974.76,855.307 1978.14,855.307 1981.51,855.307 1984.89,855.307 1988.27,855.307 \n",
       "  1991.64,855.307 1995.02,855.307 1998.39,855.307 2001.77,855.307 2005.15,855.307 2008.52,855.307 2011.9,855.307 2015.27,855.307 2018.65,855.307 2022.03,855.307 \n",
       "  2025.4,855.307 2028.78,855.307 2032.16,855.307 2035.53,855.307 2038.91,855.307 2042.28,855.307 2045.66,855.307 2049.04,855.307 2052.41,855.307 2055.79,855.307 \n",
       "  2059.16,855.307 2062.54,855.307 2065.92,855.307 2069.29,855.307 2072.67,855.307 2076.04,855.307 2079.42,855.307 2082.8,855.307 2086.17,855.307 2089.55,855.307 \n",
       "  2092.92,855.307 2096.3,855.307 2099.68,855.307 2103.05,855.307 2106.43,855.307 2109.8,855.307 2113.18,855.307 2116.56,855.307 2119.93,855.307 2123.31,855.307 \n",
       "  2126.68,855.307 2130.06,855.307 2133.44,855.307 2136.81,855.307 2140.19,855.307 2143.56,855.307 2146.94,855.307 2150.32,855.307 2153.69,855.307 2157.07,855.307 \n",
       "  2160.44,855.307 2163.82,855.307 2167.2,855.307 2170.57,855.307 2173.95,855.307 2177.33,855.307 2180.7,855.307 2184.08,855.307 2187.45,855.307 2190.83,855.307 \n",
       "  2194.21,855.307 2197.58,855.307 2200.96,855.307 2204.33,855.307 2207.71,855.307 2211.09,855.307 2214.46,855.307 2217.84,855.307 2221.21,855.307 2224.59,855.307 \n",
       "  2227.97,855.307 \n",
       "  \"/>\n",
       "</svg>\n"
      ]
     },
     "metadata": {},
     "execution_count": 11
    }
   ],
   "cell_type": "code",
   "source": [
    "Mrange = range(0,6,length=601)\n",
    "Aratio = []\n",
    "for M in Mrange\n",
    "    push!(Aratio,value(AOverAStar(MachNumber(M),Isentropic)))\n",
    "end\n",
    "\n",
    "plot(Mrange,Aratio,xlim=(0,4),ylim=(0,12),yticks=0:1:12,xlabel=\"Mach number\",ylabel=L\"A/A_*\",legend=false)\n",
    "scatter!([1],[1])\n",
    "plot!(Mrange,2*ones(length(Mrange)),style=:dash)"
   ],
   "metadata": {},
   "execution_count": 11
  },
  {
   "cell_type": "markdown",
   "source": [
    "#### Example 4\n",
    "What are the subsonic and supersonic Mach numbers associated with, for example,\n",
    "an area ratio $A/A_*$ of 2 (the dashed line in the plot above)? We simply input\n",
    "the desired area ratio and find the two solutions:"
   ],
   "metadata": {}
  },
  {
   "outputs": [
    {
     "name": "stdout",
     "output_type": "stream",
     "text": [
      "┌ Warning: The special case of bisection over BigFloat with zero tolerance using `A42` is deprecated. Now bisection is used with non-zero tolerances.\n",
      "│   caller = ip:0x0\n",
      "└ @ Core :-1\n",
      "┌ Warning: BisectionExact is deprecated; use Bisection\n",
      "│   caller = #find_zero#27 at bisection.jl:191 [inlined]\n",
      "└ @ Core ~/.julia/packages/Roots/6PvI4/src/Bracketing/bisection.jl:191\n",
      "┌ Warning: BisectionExact is deprecated; use Bisection\n",
      "│   caller = #find_zero#27 at bisection.jl:191 [inlined]\n",
      "└ @ Core ~/.julia/packages/Roots/6PvI4/src/Bracketing/bisection.jl:191\n"
     ]
    }
   ],
   "cell_type": "code",
   "source": [
    "M1, M2 = MachNumber(AreaRatio(2),Isentropic);"
   ],
   "metadata": {},
   "execution_count": 12
  },
  {
   "outputs": [
    {
     "output_type": "execute_result",
     "data": {
      "text/plain": "MachNumber = 0.3059038341891081"
     },
     "metadata": {},
     "execution_count": 13
    }
   ],
   "cell_type": "code",
   "source": [
    "M1"
   ],
   "metadata": {},
   "execution_count": 13
  },
  {
   "outputs": [
    {
     "output_type": "execute_result",
     "data": {
      "text/plain": "MachNumber = 2.1971981216521868"
     },
     "metadata": {},
     "execution_count": 14
    }
   ],
   "cell_type": "code",
   "source": [
    "M2"
   ],
   "metadata": {},
   "execution_count": 14
  },
  {
   "cell_type": "markdown",
   "source": [
    "A related question: What is the local sonic reference area $A_*$ when the Mach\n",
    "number is 7.1 and the local area is 50 sq cm?\n",
    "\n",
    "We first compute $A/A_*$ from $M = 7.1$, then compute $A_* = A/(A/A_*)$:"
   ],
   "metadata": {}
  },
  {
   "outputs": [
    {
     "output_type": "execute_result",
     "data": {
      "text/plain": "0.4507312336039658 cm²"
     },
     "metadata": {},
     "execution_count": 15
    }
   ],
   "cell_type": "code",
   "source": [
    "A = Area(50u\"cm^2\")\n",
    "M = MachNumber(7.1)\n",
    "A_over_Astar = AOverAStar(M,Isentropic)\n",
    "Astar = Area(A/A_over_Astar)\n",
    "value(Astar,u\"cm^2\")"
   ],
   "metadata": {},
   "execution_count": 15
  },
  {
   "cell_type": "markdown",
   "source": [
    "So the throat would have to be 0.45 sq cm, much smaller than 50 sq cm!\n",
    "Note that there is a convenience function to do those steps all in one:"
   ],
   "metadata": {}
  },
  {
   "outputs": [
    {
     "output_type": "execute_result",
     "data": {
      "text/plain": "0.4507312336039658 cm²"
     },
     "metadata": {},
     "execution_count": 16
    }
   ],
   "cell_type": "code",
   "source": [
    "value(AStar(A,M),u\"cm^2\")"
   ],
   "metadata": {},
   "execution_count": 16
  },
  {
   "cell_type": "markdown",
   "source": [
    "#### Example 5\n",
    "Consider the flow of air through a converging-diverging nozzle, leaving a stagnant\n",
    "reservoir at pressure $p_0$ = 700 kPa and temperature $T_0 = 30$ degrees C. The Mach\n",
    "number at a location (1) in the converging section with area 50 sq cm is equal to 0.4.\n",
    "The exit of the nozzle has area 60 sq cm.\n",
    "\n",
    "(a) What are the possible Mach numbers at the exit in choked isentropic conditions?\n",
    "What are the exit (i.e., \"back\") pressures $p_2$ associated with these two Mach numbers?\n",
    "\n",
    "(b) What is the mass flow rate through the nozzle in these conditions?"
   ],
   "metadata": {}
  },
  {
   "cell_type": "markdown",
   "source": [
    "First, we set the known values"
   ],
   "metadata": {}
  },
  {
   "outputs": [
    {
     "output_type": "execute_result",
     "data": {
      "text/plain": "MachNumber = 0.4"
     },
     "metadata": {},
     "execution_count": 17
    }
   ],
   "cell_type": "code",
   "source": [
    "p0 = StagnationPressure(700u\"kPa\")\n",
    "T0 = StagnationTemperature(30u\"°C\")\n",
    "A1 = Area(50u\"cm^2\")\n",
    "A2 = Area(60u\"cm^2\")\n",
    "M1 = MachNumber(0.4)"
   ],
   "metadata": {},
   "execution_count": 17
  },
  {
   "cell_type": "markdown",
   "source": [
    "Now, we compute $A_1/A_*$ from $M_1$. Use this to calculate $A_*$ from $A_1/(A_1/A_*)$.\n",
    "Then calculate $A_2/A_*$:"
   ],
   "metadata": {}
  },
  {
   "outputs": [
    {
     "output_type": "execute_result",
     "data": {
      "text/plain": "AreaRatio = 1.9081680000000003"
     },
     "metadata": {},
     "execution_count": 18
    }
   ],
   "cell_type": "code",
   "source": [
    "A1_over_Astar = AOverAStar(M1,Isentropic,gas=Air)\n",
    "Astar = Area(A1/A1_over_Astar)\n",
    "A2_over_Astar = AreaRatio(A2/Astar)"
   ],
   "metadata": {},
   "execution_count": 18
  },
  {
   "cell_type": "markdown",
   "source": [
    "Now calculate the Mach numbers at location 2 (the nozzle exit):"
   ],
   "metadata": {}
  },
  {
   "outputs": [
    {
     "name": "stdout",
     "output_type": "stream",
     "text": [
      "┌ Warning: The special case of bisection over BigFloat with zero tolerance using `A42` is deprecated. Now bisection is used with non-zero tolerances.\n",
      "│   caller = ip:0x0\n",
      "└ @ Core :-1\n",
      "┌ Warning: BisectionExact is deprecated; use Bisection\n",
      "│   caller = #find_zero#27 at bisection.jl:191 [inlined]\n",
      "└ @ Core ~/.julia/packages/Roots/6PvI4/src/Bracketing/bisection.jl:191\n"
     ]
    }
   ],
   "cell_type": "code",
   "source": [
    "M2sub = SubsonicMachNumber(A2_over_Astar,Isentropic,gas=Air);"
   ],
   "metadata": {},
   "execution_count": 19
  },
  {
   "outputs": [
    {
     "name": "stdout",
     "output_type": "stream",
     "text": [
      "┌ Warning: The special case of bisection over BigFloat with zero tolerance using `A42` is deprecated. Now bisection is used with non-zero tolerances.\n",
      "│   caller = ip:0x0\n",
      "└ @ Core :-1\n",
      "┌ Warning: BisectionExact is deprecated; use Bisection\n",
      "│   caller = #find_zero#27 at bisection.jl:191 [inlined]\n",
      "└ @ Core ~/.julia/packages/Roots/6PvI4/src/Bracketing/bisection.jl:191\n"
     ]
    }
   ],
   "cell_type": "code",
   "source": [
    "M2sup = SupersonicMachNumber(A2_over_Astar,Isentropic,gas=Air);"
   ],
   "metadata": {},
   "execution_count": 20
  },
  {
   "cell_type": "markdown",
   "source": [
    "Actually, all of the last few steps can be done in *one step* with a different\n",
    "version of the function `MachNumber`:"
   ],
   "metadata": {}
  },
  {
   "outputs": [
    {
     "name": "stdout",
     "output_type": "stream",
     "text": [
      "┌ Warning: The special case of bisection over BigFloat with zero tolerance using `A42` is deprecated. Now bisection is used with non-zero tolerances.\n",
      "│   caller = ip:0x0\n",
      "└ @ Core :-1\n",
      "┌ Warning: BisectionExact is deprecated; use Bisection\n",
      "│   caller = #find_zero#27 at bisection.jl:191 [inlined]\n",
      "└ @ Core ~/.julia/packages/Roots/6PvI4/src/Bracketing/bisection.jl:191\n",
      "┌ Warning: BisectionExact is deprecated; use Bisection\n",
      "│   caller = #find_zero#27 at bisection.jl:191 [inlined]\n",
      "└ @ Core ~/.julia/packages/Roots/6PvI4/src/Bracketing/bisection.jl:191\n"
     ]
    }
   ],
   "cell_type": "code",
   "source": [
    "M2sub, M2sup = MachNumber(M1,A1,A2,Isentropic,gas=Air);"
   ],
   "metadata": {},
   "execution_count": 21
  },
  {
   "cell_type": "markdown",
   "source": [
    "Now let's determine the exit pressures (location 2) corresponding to these two Mach numbers:"
   ],
   "metadata": {}
  },
  {
   "outputs": [
    {
     "output_type": "execute_result",
     "data": {
      "text/plain": "651.301619254323 kPa"
     },
     "metadata": {},
     "execution_count": 22
    }
   ],
   "cell_type": "code",
   "source": [
    "p0_over_p2sub = P0OverP(M2sub,Isentropic,gas=Air)\n",
    "p2sub = Pressure(p0/p0_over_p2sub)\n",
    "value(p2sub,u\"kPa\")"
   ],
   "metadata": {},
   "execution_count": 22
  },
  {
   "outputs": [
    {
     "output_type": "execute_result",
     "data": {
      "text/plain": "71.48184181875564 kPa"
     },
     "metadata": {},
     "execution_count": 23
    }
   ],
   "cell_type": "code",
   "source": [
    "p0_over_p2sup = P0OverP(M2sup,Isentropic,gas=Air)\n",
    "p2sup = Pressure(p0/p0_over_p2sup)\n",
    "value(p2sup,u\"kPa\")"
   ],
   "metadata": {},
   "execution_count": 23
  },
  {
   "cell_type": "markdown",
   "source": [
    "So if the exit pressure is 651 kPa, then the flow will remain choked and **subsonic**\n",
    "throughout, and if the exit pressure is 71.5 kPa, then the flow will remain choked\n",
    "and **supersonic** throughout.\n",
    "\n",
    "Note that, because the flow is choked, the mass flow rate is the same for both of\n",
    "these cases. Let's calculate that mass flow rate (using $\\rho_1 u_1 A_1$). We need\n",
    "$\\rho_1$ and $u_1$. First, calculate the stagnation density in this nozzle:"
   ],
   "metadata": {}
  },
  {
   "outputs": [
    {
     "output_type": "execute_result",
     "data": {
      "text/plain": "StagnationDensity = 8.045602474827321 kg m⁻³"
     },
     "metadata": {},
     "execution_count": 24
    }
   ],
   "cell_type": "code",
   "source": [
    "ρ0 = StagnationDensity(p0,T0,gas=Air) # this uses the perfect gas law"
   ],
   "metadata": {},
   "execution_count": 24
  },
  {
   "cell_type": "markdown",
   "source": [
    "Using $M_1$, find $\\rho_0/\\rho_1$:"
   ],
   "metadata": {}
  },
  {
   "outputs": [
    {
     "output_type": "execute_result",
     "data": {
      "text/plain": "DensityRatio = 1.0819301994280557"
     },
     "metadata": {},
     "execution_count": 25
    }
   ],
   "cell_type": "code",
   "source": [
    "ρ0_over_ρ1 = ρ0Overρ(M1,Isentropic,gas=Air)"
   ],
   "metadata": {},
   "execution_count": 25
  },
  {
   "cell_type": "markdown",
   "source": [
    "So we can get $\\rho_1$ from $\\rho_0/(\\rho_0/\\rho_1)$:"
   ],
   "metadata": {}
  },
  {
   "outputs": [
    {
     "output_type": "execute_result",
     "data": {
      "text/plain": "Density = 7.436341530239654 kg m⁻³"
     },
     "metadata": {},
     "execution_count": 26
    }
   ],
   "cell_type": "code",
   "source": [
    "ρ1 = Density(ρ0/ρ0_over_ρ1)"
   ],
   "metadata": {},
   "execution_count": 26
  },
  {
   "cell_type": "markdown",
   "source": [
    "Now get $u_1$ from $M_1 c_1$, where $c_1$ is the speed of sound. For that, we need $T_1$:"
   ],
   "metadata": {}
  },
  {
   "outputs": [
    {
     "output_type": "execute_result",
     "data": {
      "text/plain": "SoundSpeed = 343.55312544059313 m s⁻¹"
     },
     "metadata": {},
     "execution_count": 27
    }
   ],
   "cell_type": "code",
   "source": [
    "T0_over_T1 = T0OverT(M1,Isentropic,gas=Air)\n",
    "T1 = Temperature(T0/T0_over_T1)\n",
    "c1 = SoundSpeed(T1)"
   ],
   "metadata": {},
   "execution_count": 27
  },
  {
   "outputs": [
    {
     "output_type": "execute_result",
     "data": {
      "text/plain": "Velocity = 137.42125017623727 m s⁻¹"
     },
     "metadata": {},
     "execution_count": 28
    }
   ],
   "cell_type": "code",
   "source": [
    "u1 = Velocity(M1*c1)"
   ],
   "metadata": {},
   "execution_count": 28
  },
  {
   "cell_type": "markdown",
   "source": [
    "And now we can put it all together:"
   ],
   "metadata": {}
  },
  {
   "outputs": [
    {
     "output_type": "execute_result",
     "data": {
      "text/plain": "MassFlowRate = 5.109556749115033 kg s⁻¹"
     },
     "metadata": {},
     "execution_count": 29
    }
   ],
   "cell_type": "code",
   "source": [
    "mdot = MassFlowRate(ρ1*u1*A1)"
   ],
   "metadata": {},
   "execution_count": 29
  },
  {
   "cell_type": "markdown",
   "source": [
    "So the mass flow rate is stuck at 5.1 kg/s"
   ],
   "metadata": {}
  },
  {
   "cell_type": "markdown",
   "source": [
    "---\n",
    "\n",
    "*This notebook was generated using [Literate.jl](https://github.com/fredrikekre/Literate.jl).*"
   ],
   "metadata": {}
  }
 ],
 "nbformat_minor": 3,
 "metadata": {
  "language_info": {
   "file_extension": ".jl",
   "mimetype": "application/julia",
   "name": "julia",
   "version": "1.8.2"
  },
  "kernelspec": {
   "name": "julia-1.8",
   "display_name": "Julia 1.8.2",
   "language": "julia"
  }
 },
 "nbformat": 4
}
