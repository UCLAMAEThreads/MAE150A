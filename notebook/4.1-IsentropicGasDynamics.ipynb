{
 "cells": [
  {
   "cell_type": "markdown",
   "metadata": {},
   "source": [
    "<img src=\"logo_UCLA_blue_boxed.svg\" alt=\"ucla logo\" width=\"150\" align=\"left\"/>"
   ]
  },
  {
   "cell_type": "markdown",
   "metadata": {},
   "source": [
    "### **MAE 150A - Intermediate Fluid Mechanics**\n",
    "\n",
    "<hr />"
   ]
  },
  {
   "cell_type": "markdown",
   "metadata": {},
   "source": [
    "# Isentropic quasi-1D steady compressible flow\n",
    "This notebook demonstrates the use of the compressible flow tools for computing states and processes in isentropic quasi-1d steady compressible flow."
   ]
  },
  {
   "cell_type": "code",
   "execution_count": 1,
   "metadata": {},
   "outputs": [],
   "source": [
    "include(\"src/gasdynamics.jl\")"
   ]
  },
  {
   "cell_type": "code",
   "execution_count": 2,
   "metadata": {},
   "outputs": [],
   "source": [
    "using Plots\n",
    "using LaTeXStrings"
   ]
  },
  {
   "cell_type": "markdown",
   "metadata": {},
   "source": [
    "### Using isentropic relations\n",
    "Let us apply some basic isentropic relations."
   ]
  },
  {
   "cell_type": "markdown",
   "metadata": {},
   "source": [
    "#### Example 1\n",
    "Let's suppose two states of the flow in air, 1 and 2, are connected with each other by an isentropic process. We know the pressure p1 is 101 kPa, the temperature T1 is 20 degrees C, and the pressure p2 is 80 kPa. What is temperature T2?\n",
    "\n",
    "To answer this, we will use the relationship\n",
    "\n",
    "$$ \\dfrac{T_2}{T_1} = \\left( \\dfrac{p_2}{p_1}\\right)^{(\\gamma-1)/\\gamma} $$"
   ]
  },
  {
   "cell_type": "code",
   "execution_count": 3,
   "metadata": {},
   "outputs": [
    {
     "data": {
      "text/plain": [
       "Pressure = 80000.0 Pascals"
      ]
     },
     "execution_count": 3,
     "metadata": {},
     "output_type": "execute_result"
    }
   ],
   "source": [
    "p1 = Pressure(101,units=KPa)\n",
    "T1 = Temperature(20,units=C)\n",
    "p2 = Pressure(80,units=KPa)"
   ]
  },
  {
   "cell_type": "markdown",
   "metadata": {},
   "source": [
    "First, let's set the pressure ratio:"
   ]
  },
  {
   "cell_type": "code",
   "execution_count": 4,
   "metadata": {},
   "outputs": [
    {
     "data": {
      "text/plain": [
       "PressureRatio = 0.792079 "
      ]
     },
     "execution_count": 4,
     "metadata": {},
     "output_type": "execute_result"
    }
   ],
   "source": [
    "p2_over_p1 = PressureRatio(p2/p1)"
   ]
  },
  {
   "cell_type": "markdown",
   "metadata": {},
   "source": [
    "Now find the temperature ratio. Note below that we specify the argument `Isentropic` to make sure it is clear that we are using the isentropic relation. We only need this argument when it is needed for clarity."
   ]
  },
  {
   "cell_type": "code",
   "execution_count": 5,
   "metadata": {},
   "outputs": [
    {
     "data": {
      "text/plain": [
       "TemperatureRatio = 0.935571 "
      ]
     },
     "execution_count": 5,
     "metadata": {},
     "output_type": "execute_result"
    }
   ],
   "source": [
    "T2_over_T1 = TemperatureRatio(p2_over_p1,Isentropic)"
   ]
  },
  {
   "cell_type": "markdown",
   "metadata": {},
   "source": [
    "It is important to understand that the tools \"know\" what formula you want to use (the one listed above), based on the fact that (a) you supplied it with a pressure ratio (the purpose of the `PressureRatio` line above), and (b) you told it that the process is `Isentropic`. It figures out the rest."
   ]
  },
  {
   "cell_type": "markdown",
   "metadata": {},
   "source": [
    "Finally, calculate T2:"
   ]
  },
  {
   "cell_type": "code",
   "execution_count": 6,
   "metadata": {},
   "outputs": [
    {
     "data": {
      "text/plain": [
       "Temperature = 274.263 Kelvin"
      ]
     },
     "execution_count": 6,
     "metadata": {},
     "output_type": "execute_result"
    }
   ],
   "source": [
    "T2 = Temperature(T1*T2_over_T1)"
   ]
  },
  {
   "cell_type": "markdown",
   "metadata": {},
   "source": [
    "or, in Celsius, if desired"
   ]
  },
  {
   "cell_type": "code",
   "execution_count": 7,
   "metadata": {},
   "outputs": [
    {
     "data": {
      "text/plain": [
       "1.1126355938594088"
      ]
     },
     "execution_count": 7,
     "metadata": {},
     "output_type": "execute_result"
    }
   ],
   "source": [
    "value(T2,Celsius)"
   ]
  },
  {
   "cell_type": "markdown",
   "metadata": {},
   "source": [
    "We could also do all of this in one line, though it is a bit harder to debug if something goes wrong:"
   ]
  },
  {
   "cell_type": "code",
   "execution_count": 8,
   "metadata": {},
   "outputs": [
    {
     "data": {
      "text/plain": [
       "Temperature = 274.263 Kelvin"
      ]
     },
     "execution_count": 8,
     "metadata": {},
     "output_type": "execute_result"
    }
   ],
   "source": [
    "T2 = Temperature(T1*TemperatureRatio(PressureRatio(p2/p1),Isentropic))"
   ]
  },
  {
   "cell_type": "markdown",
   "metadata": {},
   "source": [
    "#### Example 2\n",
    "If the temperature ratio $T/T_0$ is 0.2381, what is the Mach number?"
   ]
  },
  {
   "cell_type": "code",
   "execution_count": 9,
   "metadata": {},
   "outputs": [
    {
     "data": {
      "text/plain": [
       "MachNumber = 3.99995 "
      ]
     },
     "execution_count": 9,
     "metadata": {},
     "output_type": "execute_result"
    }
   ],
   "source": [
    "MachNumber(TemperatureRatio(0.2381),Isentropic)"
   ]
  },
  {
   "cell_type": "markdown",
   "metadata": {},
   "source": [
    "#### Example 3\n",
    "If the Mach number is 4.4 and stagnation pressure is 800 KPa, what is the pressure?"
   ]
  },
  {
   "cell_type": "code",
   "execution_count": 10,
   "metadata": {},
   "outputs": [
    {
     "data": {
      "text/plain": [
       "Pressure = 3134.11 Pascals"
      ]
     },
     "execution_count": 10,
     "metadata": {},
     "output_type": "execute_result"
    }
   ],
   "source": [
    "Pressure(StagnationPressure(800,units=KPa),MachNumber(4.4),Isentropic)"
   ]
  },
  {
   "cell_type": "markdown",
   "metadata": {},
   "source": [
    "### Mach - area relations\n",
    "A big part of isentropic quasi-1D flow deals with changes of the flow in variable-area ducts. For these calculations, we make use of the *sonic area* $A_*$ as a reference area. Remember that, for any ratio of $A/A_*$, there are two possible Mach number, corresponding to a **subsonic flow** and a **supersonic flow**. Let us see that by plotting $A/A_*$ versus Mach number $M$:"
   ]
  },
  {
   "cell_type": "code",
   "execution_count": 11,
   "metadata": {},
   "outputs": [
    {
     "data": {
      "image/svg+xml": [
       "<?xml version=\"1.0\" encoding=\"utf-8\"?>\n",
       "<svg xmlns=\"http://www.w3.org/2000/svg\" xmlns:xlink=\"http://www.w3.org/1999/xlink\" width=\"600\" height=\"400\" viewBox=\"0 0 2400 1600\">\n",
       "<defs>\n",
       "  <clipPath id=\"clip7300\">\n",
       "    <rect x=\"0\" y=\"0\" width=\"2400\" height=\"1600\"/>\n",
       "  </clipPath>\n",
       "</defs>\n",
       "<path clip-path=\"url(#clip7300)\" d=\"\n",
       "M0 1600 L2400 1600 L2400 0 L0 0  Z\n",
       "  \" fill=\"#ffffff\" fill-rule=\"evenodd\" fill-opacity=\"1\"/>\n",
       "<defs>\n",
       "  <clipPath id=\"clip7301\">\n",
       "    <rect x=\"480\" y=\"0\" width=\"1681\" height=\"1600\"/>\n",
       "  </clipPath>\n",
       "</defs>\n",
       "<path clip-path=\"url(#clip7300)\" d=\"\n",
       "M201.065 1425.62 L2352.76 1425.62 L2352.76 47.2441 L201.065 47.2441  Z\n",
       "  \" fill=\"#ffffff\" fill-rule=\"evenodd\" fill-opacity=\"1\"/>\n",
       "<defs>\n",
       "  <clipPath id=\"clip7302\">\n",
       "    <rect x=\"201\" y=\"47\" width=\"2153\" height=\"1379\"/>\n",
       "  </clipPath>\n",
       "</defs>\n",
       "<polyline clip-path=\"url(#clip7302)\" style=\"stroke:#000000; stroke-width:2; stroke-opacity:0.1; fill:none\" points=\"\n",
       "  201.065,1425.62 201.065,47.2441 \n",
       "  \"/>\n",
       "<polyline clip-path=\"url(#clip7302)\" style=\"stroke:#000000; stroke-width:2; stroke-opacity:0.1; fill:none\" points=\"\n",
       "  738.988,1425.62 738.988,47.2441 \n",
       "  \"/>\n",
       "<polyline clip-path=\"url(#clip7302)\" style=\"stroke:#000000; stroke-width:2; stroke-opacity:0.1; fill:none\" points=\"\n",
       "  1276.91,1425.62 1276.91,47.2441 \n",
       "  \"/>\n",
       "<polyline clip-path=\"url(#clip7302)\" style=\"stroke:#000000; stroke-width:2; stroke-opacity:0.1; fill:none\" points=\"\n",
       "  1814.83,1425.62 1814.83,47.2441 \n",
       "  \"/>\n",
       "<polyline clip-path=\"url(#clip7302)\" style=\"stroke:#000000; stroke-width:2; stroke-opacity:0.1; fill:none\" points=\"\n",
       "  2352.76,1425.62 2352.76,47.2441 \n",
       "  \"/>\n",
       "<polyline clip-path=\"url(#clip7302)\" style=\"stroke:#000000; stroke-width:2; stroke-opacity:0.1; fill:none\" points=\"\n",
       "  201.065,1425.62 2352.76,1425.62 \n",
       "  \"/>\n",
       "<polyline clip-path=\"url(#clip7302)\" style=\"stroke:#000000; stroke-width:2; stroke-opacity:0.1; fill:none\" points=\"\n",
       "  201.065,1310.75 2352.76,1310.75 \n",
       "  \"/>\n",
       "<polyline clip-path=\"url(#clip7302)\" style=\"stroke:#000000; stroke-width:2; stroke-opacity:0.1; fill:none\" points=\"\n",
       "  201.065,1195.89 2352.76,1195.89 \n",
       "  \"/>\n",
       "<polyline clip-path=\"url(#clip7302)\" style=\"stroke:#000000; stroke-width:2; stroke-opacity:0.1; fill:none\" points=\"\n",
       "  201.065,1081.02 2352.76,1081.02 \n",
       "  \"/>\n",
       "<polyline clip-path=\"url(#clip7302)\" style=\"stroke:#000000; stroke-width:2; stroke-opacity:0.1; fill:none\" points=\"\n",
       "  201.065,966.16 2352.76,966.16 \n",
       "  \"/>\n",
       "<polyline clip-path=\"url(#clip7302)\" style=\"stroke:#000000; stroke-width:2; stroke-opacity:0.1; fill:none\" points=\"\n",
       "  201.065,851.296 2352.76,851.296 \n",
       "  \"/>\n",
       "<polyline clip-path=\"url(#clip7302)\" style=\"stroke:#000000; stroke-width:2; stroke-opacity:0.1; fill:none\" points=\"\n",
       "  201.065,736.431 2352.76,736.431 \n",
       "  \"/>\n",
       "<polyline clip-path=\"url(#clip7302)\" style=\"stroke:#000000; stroke-width:2; stroke-opacity:0.1; fill:none\" points=\"\n",
       "  201.065,621.567 2352.76,621.567 \n",
       "  \"/>\n",
       "<polyline clip-path=\"url(#clip7302)\" style=\"stroke:#000000; stroke-width:2; stroke-opacity:0.1; fill:none\" points=\"\n",
       "  201.065,506.702 2352.76,506.702 \n",
       "  \"/>\n",
       "<polyline clip-path=\"url(#clip7302)\" style=\"stroke:#000000; stroke-width:2; stroke-opacity:0.1; fill:none\" points=\"\n",
       "  201.065,391.838 2352.76,391.838 \n",
       "  \"/>\n",
       "<polyline clip-path=\"url(#clip7302)\" style=\"stroke:#000000; stroke-width:2; stroke-opacity:0.1; fill:none\" points=\"\n",
       "  201.065,276.973 2352.76,276.973 \n",
       "  \"/>\n",
       "<polyline clip-path=\"url(#clip7302)\" style=\"stroke:#000000; stroke-width:2; stroke-opacity:0.1; fill:none\" points=\"\n",
       "  201.065,162.109 2352.76,162.109 \n",
       "  \"/>\n",
       "<polyline clip-path=\"url(#clip7302)\" style=\"stroke:#000000; stroke-width:2; stroke-opacity:0.1; fill:none\" points=\"\n",
       "  201.065,47.2441 2352.76,47.2441 \n",
       "  \"/>\n",
       "<polyline clip-path=\"url(#clip7300)\" style=\"stroke:#000000; stroke-width:4; stroke-opacity:1; fill:none\" points=\"\n",
       "  201.065,1425.62 2352.76,1425.62 \n",
       "  \"/>\n",
       "<polyline clip-path=\"url(#clip7300)\" style=\"stroke:#000000; stroke-width:4; stroke-opacity:1; fill:none\" points=\"\n",
       "  201.065,1425.62 201.065,47.2441 \n",
       "  \"/>\n",
       "<polyline clip-path=\"url(#clip7300)\" style=\"stroke:#000000; stroke-width:4; stroke-opacity:1; fill:none\" points=\"\n",
       "  201.065,1425.62 201.065,1409.08 \n",
       "  \"/>\n",
       "<polyline clip-path=\"url(#clip7300)\" style=\"stroke:#000000; stroke-width:4; stroke-opacity:1; fill:none\" points=\"\n",
       "  738.988,1425.62 738.988,1409.08 \n",
       "  \"/>\n",
       "<polyline clip-path=\"url(#clip7300)\" style=\"stroke:#000000; stroke-width:4; stroke-opacity:1; fill:none\" points=\"\n",
       "  1276.91,1425.62 1276.91,1409.08 \n",
       "  \"/>\n",
       "<polyline clip-path=\"url(#clip7300)\" style=\"stroke:#000000; stroke-width:4; stroke-opacity:1; fill:none\" points=\"\n",
       "  1814.83,1425.62 1814.83,1409.08 \n",
       "  \"/>\n",
       "<polyline clip-path=\"url(#clip7300)\" style=\"stroke:#000000; stroke-width:4; stroke-opacity:1; fill:none\" points=\"\n",
       "  2352.76,1425.62 2352.76,1409.08 \n",
       "  \"/>\n",
       "<polyline clip-path=\"url(#clip7300)\" style=\"stroke:#000000; stroke-width:4; stroke-opacity:1; fill:none\" points=\"\n",
       "  201.065,1425.62 226.885,1425.62 \n",
       "  \"/>\n",
       "<polyline clip-path=\"url(#clip7300)\" style=\"stroke:#000000; stroke-width:4; stroke-opacity:1; fill:none\" points=\"\n",
       "  201.065,1310.75 226.885,1310.75 \n",
       "  \"/>\n",
       "<polyline clip-path=\"url(#clip7300)\" style=\"stroke:#000000; stroke-width:4; stroke-opacity:1; fill:none\" points=\"\n",
       "  201.065,1195.89 226.885,1195.89 \n",
       "  \"/>\n",
       "<polyline clip-path=\"url(#clip7300)\" style=\"stroke:#000000; stroke-width:4; stroke-opacity:1; fill:none\" points=\"\n",
       "  201.065,1081.02 226.885,1081.02 \n",
       "  \"/>\n",
       "<polyline clip-path=\"url(#clip7300)\" style=\"stroke:#000000; stroke-width:4; stroke-opacity:1; fill:none\" points=\"\n",
       "  201.065,966.16 226.885,966.16 \n",
       "  \"/>\n",
       "<polyline clip-path=\"url(#clip7300)\" style=\"stroke:#000000; stroke-width:4; stroke-opacity:1; fill:none\" points=\"\n",
       "  201.065,851.296 226.885,851.296 \n",
       "  \"/>\n",
       "<polyline clip-path=\"url(#clip7300)\" style=\"stroke:#000000; stroke-width:4; stroke-opacity:1; fill:none\" points=\"\n",
       "  201.065,736.431 226.885,736.431 \n",
       "  \"/>\n",
       "<polyline clip-path=\"url(#clip7300)\" style=\"stroke:#000000; stroke-width:4; stroke-opacity:1; fill:none\" points=\"\n",
       "  201.065,621.567 226.885,621.567 \n",
       "  \"/>\n",
       "<polyline clip-path=\"url(#clip7300)\" style=\"stroke:#000000; stroke-width:4; stroke-opacity:1; fill:none\" points=\"\n",
       "  201.065,506.702 226.885,506.702 \n",
       "  \"/>\n",
       "<polyline clip-path=\"url(#clip7300)\" style=\"stroke:#000000; stroke-width:4; stroke-opacity:1; fill:none\" points=\"\n",
       "  201.065,391.838 226.885,391.838 \n",
       "  \"/>\n",
       "<polyline clip-path=\"url(#clip7300)\" style=\"stroke:#000000; stroke-width:4; stroke-opacity:1; fill:none\" points=\"\n",
       "  201.065,276.973 226.885,276.973 \n",
       "  \"/>\n",
       "<polyline clip-path=\"url(#clip7300)\" style=\"stroke:#000000; stroke-width:4; stroke-opacity:1; fill:none\" points=\"\n",
       "  201.065,162.109 226.885,162.109 \n",
       "  \"/>\n",
       "<polyline clip-path=\"url(#clip7300)\" style=\"stroke:#000000; stroke-width:4; stroke-opacity:1; fill:none\" points=\"\n",
       "  201.065,47.2441 226.885,47.2441 \n",
       "  \"/>\n",
       "<g clip-path=\"url(#clip7300)\">\n",
       "<text style=\"fill:#000000; fill-opacity:1; font-family:Arial,Helvetica Neue,Helvetica,sans-serif; font-size:48px; text-anchor:middle;\" transform=\"rotate(0, 201.065, 1479.62)\" x=\"201.065\" y=\"1479.62\">0</text>\n",
       "</g>\n",
       "<g clip-path=\"url(#clip7300)\">\n",
       "<text style=\"fill:#000000; fill-opacity:1; font-family:Arial,Helvetica Neue,Helvetica,sans-serif; font-size:48px; text-anchor:middle;\" transform=\"rotate(0, 738.988, 1479.62)\" x=\"738.988\" y=\"1479.62\">1</text>\n",
       "</g>\n",
       "<g clip-path=\"url(#clip7300)\">\n",
       "<text style=\"fill:#000000; fill-opacity:1; font-family:Arial,Helvetica Neue,Helvetica,sans-serif; font-size:48px; text-anchor:middle;\" transform=\"rotate(0, 1276.91, 1479.62)\" x=\"1276.91\" y=\"1479.62\">2</text>\n",
       "</g>\n",
       "<g clip-path=\"url(#clip7300)\">\n",
       "<text style=\"fill:#000000; fill-opacity:1; font-family:Arial,Helvetica Neue,Helvetica,sans-serif; font-size:48px; text-anchor:middle;\" transform=\"rotate(0, 1814.83, 1479.62)\" x=\"1814.83\" y=\"1479.62\">3</text>\n",
       "</g>\n",
       "<g clip-path=\"url(#clip7300)\">\n",
       "<text style=\"fill:#000000; fill-opacity:1; font-family:Arial,Helvetica Neue,Helvetica,sans-serif; font-size:48px; text-anchor:middle;\" transform=\"rotate(0, 2352.76, 1479.62)\" x=\"2352.76\" y=\"1479.62\">4</text>\n",
       "</g>\n",
       "<g clip-path=\"url(#clip7300)\">\n",
       "<text style=\"fill:#000000; fill-opacity:1; font-family:Arial,Helvetica Neue,Helvetica,sans-serif; font-size:48px; text-anchor:end;\" transform=\"rotate(0, 177.065, 1443.12)\" x=\"177.065\" y=\"1443.12\">0</text>\n",
       "</g>\n",
       "<g clip-path=\"url(#clip7300)\">\n",
       "<text style=\"fill:#000000; fill-opacity:1; font-family:Arial,Helvetica Neue,Helvetica,sans-serif; font-size:48px; text-anchor:end;\" transform=\"rotate(0, 177.065, 1328.25)\" x=\"177.065\" y=\"1328.25\">1</text>\n",
       "</g>\n",
       "<g clip-path=\"url(#clip7300)\">\n",
       "<text style=\"fill:#000000; fill-opacity:1; font-family:Arial,Helvetica Neue,Helvetica,sans-serif; font-size:48px; text-anchor:end;\" transform=\"rotate(0, 177.065, 1213.39)\" x=\"177.065\" y=\"1213.39\">2</text>\n",
       "</g>\n",
       "<g clip-path=\"url(#clip7300)\">\n",
       "<text style=\"fill:#000000; fill-opacity:1; font-family:Arial,Helvetica Neue,Helvetica,sans-serif; font-size:48px; text-anchor:end;\" transform=\"rotate(0, 177.065, 1098.52)\" x=\"177.065\" y=\"1098.52\">3</text>\n",
       "</g>\n",
       "<g clip-path=\"url(#clip7300)\">\n",
       "<text style=\"fill:#000000; fill-opacity:1; font-family:Arial,Helvetica Neue,Helvetica,sans-serif; font-size:48px; text-anchor:end;\" transform=\"rotate(0, 177.065, 983.66)\" x=\"177.065\" y=\"983.66\">4</text>\n",
       "</g>\n",
       "<g clip-path=\"url(#clip7300)\">\n",
       "<text style=\"fill:#000000; fill-opacity:1; font-family:Arial,Helvetica Neue,Helvetica,sans-serif; font-size:48px; text-anchor:end;\" transform=\"rotate(0, 177.065, 868.796)\" x=\"177.065\" y=\"868.796\">5</text>\n",
       "</g>\n",
       "<g clip-path=\"url(#clip7300)\">\n",
       "<text style=\"fill:#000000; fill-opacity:1; font-family:Arial,Helvetica Neue,Helvetica,sans-serif; font-size:48px; text-anchor:end;\" transform=\"rotate(0, 177.065, 753.931)\" x=\"177.065\" y=\"753.931\">6</text>\n",
       "</g>\n",
       "<g clip-path=\"url(#clip7300)\">\n",
       "<text style=\"fill:#000000; fill-opacity:1; font-family:Arial,Helvetica Neue,Helvetica,sans-serif; font-size:48px; text-anchor:end;\" transform=\"rotate(0, 177.065, 639.067)\" x=\"177.065\" y=\"639.067\">7</text>\n",
       "</g>\n",
       "<g clip-path=\"url(#clip7300)\">\n",
       "<text style=\"fill:#000000; fill-opacity:1; font-family:Arial,Helvetica Neue,Helvetica,sans-serif; font-size:48px; text-anchor:end;\" transform=\"rotate(0, 177.065, 524.202)\" x=\"177.065\" y=\"524.202\">8</text>\n",
       "</g>\n",
       "<g clip-path=\"url(#clip7300)\">\n",
       "<text style=\"fill:#000000; fill-opacity:1; font-family:Arial,Helvetica Neue,Helvetica,sans-serif; font-size:48px; text-anchor:end;\" transform=\"rotate(0, 177.065, 409.338)\" x=\"177.065\" y=\"409.338\">9</text>\n",
       "</g>\n",
       "<g clip-path=\"url(#clip7300)\">\n",
       "<text style=\"fill:#000000; fill-opacity:1; font-family:Arial,Helvetica Neue,Helvetica,sans-serif; font-size:48px; text-anchor:end;\" transform=\"rotate(0, 177.065, 294.473)\" x=\"177.065\" y=\"294.473\">10</text>\n",
       "</g>\n",
       "<g clip-path=\"url(#clip7300)\">\n",
       "<text style=\"fill:#000000; fill-opacity:1; font-family:Arial,Helvetica Neue,Helvetica,sans-serif; font-size:48px; text-anchor:end;\" transform=\"rotate(0, 177.065, 179.609)\" x=\"177.065\" y=\"179.609\">11</text>\n",
       "</g>\n",
       "<g clip-path=\"url(#clip7300)\">\n",
       "<text style=\"fill:#000000; fill-opacity:1; font-family:Arial,Helvetica Neue,Helvetica,sans-serif; font-size:48px; text-anchor:end;\" transform=\"rotate(0, 177.065, 64.7441)\" x=\"177.065\" y=\"64.7441\">12</text>\n",
       "</g>\n",
       "<g clip-path=\"url(#clip7300)\">\n",
       "<text style=\"fill:#000000; fill-opacity:1; font-family:Arial,Helvetica Neue,Helvetica,sans-serif; font-size:66px; text-anchor:middle;\" transform=\"rotate(0, 1276.91, 1559.48)\" x=\"1276.91\" y=\"1559.48\">Mach number</text>\n",
       "</g>\n",
       "<g clip-path=\"url(#clip7300)\">\n",
       "<image width=\"66\" height=\"148\" xlink:href=\"data:image/png;base64,\n",
       "iVBORw0KGgoAAAANSUhEUgAAAEIAAACUCAYAAAAnM//aAAAGJklEQVR4nO1c4XGyTBBe33kLAEu4\n",
       "dEBSAm8HxBJIB4wlUAKmBEwFjCWQVICUAHaw34+wfscJKHh6Hu7OPDNJVGSf21v27jYPICLYgqIo\n",
       "MEkSrKoK+96TJAlmWdb7eh+MOzcGQggEAPR9v9PROI4RABAAsCiKUWQYd24MfN8/Oprn+YmjjuM8\n",
       "BxFFURwdDcOw5WiWZcfX4jgeRYJ1RCC2w1/OFRQtnueNJsFKIhARPM9rjbwcKWOnhNVEkOOO4yAi\n",
       "QhRFk6eE1UQg/j9FkiRBx3EmTwnCAhHhUW2z2eDPzw8AAAghQAgBjuOAEAKWyyX4vg/0ep7n4DgO\n",
       "HA4HKMsSqqqCsiyhLEtYLpew2WwWg19memT7UFXVcd7rQJqmgxHzV+8Y6jPXdRdCCCzLEgCgFQkU\n",
       "Gbvd7hgRURTB4XA4RgJFBpnnecNfaHrkL4mMrr/neY4AgEEQIABgFEWd7xsqx2UYd3QqqNyuqgrp\n",
       "cdpVbV4K4w5NAT0ugyBARIQ0TREAUAjxPETQlFAjgNYZfVNkdkTQlFBHXy69p0wR446NAU0JaAop\n",
       "+TX5cTtlihh3bgzkZXbX62EYTo4K486NQRzHKIQ4iQY5KoQQvRs3Q3joEvue9sf0DTyKMRGNMRGN\n",
       "MRGNMRGNWU/E6+srfnx8XP3os/rxWdc1LpdLAABAxOEdqDNmdURUVaXtWlYTodOsJoK26XTYw+5Z\n",
       "Dtl+v8eyLGG9Xmu75kMRQQ6qW/Ly74fD4SbffXMi6rpG+Yyhz0nTNpmIuq6RnOsaOfrdFjshYr/f\n",
       "Izl07/A0avLmBO0H2ohrN31aEaGzQNFpXadcZVnC19eXvi+RWcmyDOV9wVtDCHE8nIHmWD9NU8yy\n",
       "DIuiGGwaQ2y3El0bESdrjbqucb1ew+fn5yRiu0ZP/f3l5aW1LlgsFtgMyqj1wna7xdVqBVM+q1rv\n",
       "omu/3+NqtWpVb0II8Dzv6JTqqOu6k25mKhHf39/49vYGUz57YudCJk3T1nS5piulDzAxvOWWoavv\n",
       "4dI3yocrQohJTZ26ibj2s5OIoBGQE1QQBJObt3Q5E0XRSavhzYkgZFmGcs0x9eBV96jenQiCfPDq\n",
       "OM7Z9pzZEoH4e8xGXSsAv33So9t/50AEIc/zVnEUhuHZgmiWRBCo75GmS9+B7eyJQPydLvIRved5\n",
       "g8f0syWCUBRFa7oEQdA5XWZPBOFcdfo0RBD6qtOnIwLxtDrVuZS2igiCWp0+LREEuTrVvZizigjE\n",
       "66rTLMuuaj1+KCIIanV6bjFHvZX0nzyzIYKgVqd9izm5HXmWRNBon6tO5cfxbIkgdG0GJUmCMglP\n",
       "QQRBrU5VPA0RiL/TRU6mT0sEQc4dT00EYvuUSwcR1nbVyR11ANcf8FjbQ+W67iIMQ23Xs5YIAIAg\n",
       "CLRdy2oihBDarmU1EXKOuNYeqqturLmuu2gqzKvN2qeGbrN6aui0P3Vd479///D9/R232+3zhkeS\n",
       "JCflahiGxrbMTAGqqkK1XCU4joNRFGnpgXh0HH+oqgqTJOld3Xmeh3EcX3ywaxs6/1gUBUZR1Lv+\n",
       "931/ci/Eo+LsG/I8xzAMe0kJgmAW+WTUm9M0nW0+mfShc/lECGFdPrn6AkVRIP0Xf18+uaRZxDS0\n",
       "XszmfHKzC2dZ1jrGU/NJGIZajuoenggZSZL0JlnKJ6aT7F2/rKqqwXzied5ZTdtZECEjz/PBoi0I\n",
       "grsWbcaIkPEI+cQ4CSqGijYhxM2KNuOO94HyydAiUGc+Me7wJbjHItC4k2NBRVsXIbSpNHuJNhU6\n",
       "F4HGndEBHZtKxp3QDconQ4vArnxi/MZviTGLQOM3ey8MFW1BEJi/wXujK58IIfCpj/zqusbdbge+\n",
       "7/PZJxmffTbGRDTGRDTGRDRmPRGsXgisXng0Vi+8gVlNBKsXsnohqxfe3Fi9sDFWLySTNy1YvbAx\n",
       "Vi+U9vVYvbAxVi9UjNULFbB6oQJWL1RGgNULJbB6oQJWL5TA6oUKWL1QAasXSmD1QgWsXqiA1QsV\n",
       "sHqhBFYvVMDqhQpYvVACqxcqYPVCBaxeqIw2qxdKYPVCBaxeKIHVCxWweqEEVi9sjNULG2P1QslY\n",
       "vbAxVi9sjNULG9OpXvgfkHPlSFyCZ4YAAAAASUVORK5CYII=\n",
       "\" transform=\"translate(32, 662)\"/>\n",
       "</g>\n",
       "<polyline clip-path=\"url(#clip7302)\" style=\"stroke:#009af9; stroke-width:4; stroke-opacity:1; fill:none\" points=\"\n",
       "  206.444,-5222.03 211.823,-1898.81 217.203,-791.329 222.582,-237.791 227.961,94.1727 233.34,315.348 238.719,473.216 244.099,591.517 249.478,683.44 254.857,756.897 \n",
       "  260.236,816.925 265.616,866.881 270.995,909.089 276.374,945.209 281.753,976.459 287.132,1003.75 292.512,1027.78 297.891,1049.1 303.27,1068.13 308.649,1085.22 \n",
       "  314.029,1100.63 319.408,1114.61 324.787,1127.34 330.166,1138.97 335.546,1149.63 340.925,1159.44 346.304,1168.5 351.683,1176.87 357.062,1184.64 362.442,1191.86 \n",
       "  367.821,1198.59 373.2,1204.87 378.579,1210.74 383.959,1216.23 389.338,1221.39 394.717,1226.24 400.096,1230.8 405.475,1235.09 410.855,1239.14 416.234,1242.97 \n",
       "  421.613,1246.58 426.992,1250 432.372,1253.24 437.751,1256.31 443.13,1259.22 448.509,1261.98 453.889,1264.6 459.268,1267.09 464.647,1269.46 470.026,1271.72 \n",
       "  475.405,1273.86 480.785,1275.91 486.164,1277.85 491.543,1279.7 496.922,1281.47 502.302,1283.15 507.681,1284.76 513.06,1286.29 518.439,1287.75 523.818,1289.14 \n",
       "  529.198,1290.46 534.577,1291.73 539.956,1292.93 545.335,1294.08 550.715,1295.18 556.094,1296.22 561.473,1297.21 566.852,1298.16 572.232,1299.06 577.611,1299.91 \n",
       "  582.99,1300.73 588.369,1301.5 593.748,1302.23 599.128,1302.93 604.507,1303.58 609.886,1304.21 615.265,1304.79 620.645,1305.35 626.024,1305.87 631.403,1306.36 \n",
       "  636.782,1306.82 642.162,1307.25 647.541,1307.66 652.92,1308.03 658.299,1308.38 663.678,1308.7 669.058,1309 674.437,1309.27 679.816,1309.51 685.195,1309.74 \n",
       "  690.575,1309.94 695.954,1310.11 701.333,1310.27 706.712,1310.4 712.091,1310.51 717.471,1310.6 722.85,1310.67 728.229,1310.72 733.608,1310.74 738.988,1310.75 \n",
       "  744.367,1310.74 749.746,1310.72 755.125,1310.67 760.505,1310.6 765.884,1310.52 771.263,1310.42 776.642,1310.3 782.021,1310.17 787.401,1310.01 792.78,1309.84 \n",
       "  798.159,1309.66 803.538,1309.45 808.918,1309.24 814.297,1309 819.676,1308.75 825.055,1308.48 830.434,1308.2 835.814,1307.9 841.193,1307.59 846.572,1307.26 \n",
       "  851.951,1306.91 857.331,1306.55 862.71,1306.18 868.089,1305.79 873.468,1305.38 878.848,1304.96 884.227,1304.53 889.606,1304.08 894.985,1303.62 900.364,1303.14 \n",
       "  905.744,1302.64 911.123,1302.14 916.502,1301.61 921.881,1301.08 927.261,1300.53 932.64,1299.96 938.019,1299.38 943.398,1298.79 948.777,1298.18 954.157,1297.55 \n",
       "  959.536,1296.92 964.915,1296.26 970.294,1295.6 975.674,1294.91 981.053,1294.22 986.432,1293.51 991.811,1292.78 997.191,1292.04 1002.57,1291.29 1007.95,1290.52 \n",
       "  1013.33,1289.73 1018.71,1288.94 1024.09,1288.12 1029.47,1287.29 1034.85,1286.45 1040.22,1285.59 1045.6,1284.72 1050.98,1283.83 1056.36,1282.93 1061.74,1282.01 \n",
       "  1067.12,1281.08 1072.5,1280.13 1077.88,1279.16 1083.26,1278.18 1088.64,1277.19 1094.02,1276.18 1099.4,1275.15 1104.78,1274.11 1110.15,1273.05 1115.53,1271.98 \n",
       "  1120.91,1270.88 1126.29,1269.78 1131.67,1268.65 1137.05,1267.52 1142.43,1266.36 1147.81,1265.19 1153.19,1264 1158.57,1262.79 1163.95,1261.57 1169.33,1260.33 \n",
       "  1174.71,1259.07 1180.08,1257.8 1185.46,1256.51 1190.84,1255.2 1196.22,1253.87 1201.6,1252.53 1206.98,1251.17 1212.36,1249.79 1217.74,1248.39 1223.12,1246.97 \n",
       "  1228.5,1245.54 1233.88,1244.09 1239.26,1242.62 1244.64,1241.13 1250.01,1239.62 1255.39,1238.09 1260.77,1236.54 1266.15,1234.98 1271.53,1233.39 1276.91,1231.78 \n",
       "  1282.29,1230.16 1287.67,1228.51 1293.05,1226.85 1298.43,1225.16 1303.81,1223.46 1309.19,1221.73 1314.56,1219.99 1319.94,1218.22 1325.32,1216.43 1330.7,1214.62 \n",
       "  1336.08,1212.79 1341.46,1210.93 1346.84,1209.06 1352.22,1207.16 1357.6,1205.25 1362.98,1203.31 1368.36,1201.34 1373.74,1199.36 1379.12,1197.35 1384.49,1195.32 \n",
       "  1389.87,1193.26 1395.25,1191.19 1400.63,1189.09 1406.01,1186.96 1411.39,1184.81 1416.77,1182.64 1422.15,1180.44 1427.53,1178.22 1432.91,1175.98 1438.29,1173.71 \n",
       "  1443.67,1171.41 1449.05,1169.09 1454.42,1166.74 1459.8,1164.37 1465.18,1161.97 1470.56,1159.55 1475.94,1157.1 1481.32,1154.62 1486.7,1152.12 1492.08,1149.59 \n",
       "  1497.46,1147.03 1502.84,1144.45 1508.22,1141.83 1513.6,1139.19 1518.98,1136.52 1524.35,1133.83 1529.73,1131.1 1535.11,1128.35 1540.49,1125.57 1545.87,1122.75 \n",
       "  1551.25,1119.91 1556.63,1117.04 1562.01,1114.14 1567.39,1111.21 1572.77,1108.25 1578.15,1105.25 1583.53,1102.23 1588.91,1099.18 1594.28,1096.09 1599.66,1092.97 \n",
       "  1605.04,1089.82 1610.42,1086.64 1615.8,1083.43 1621.18,1080.18 1626.56,1076.9 1631.94,1073.59 1637.32,1070.24 1642.7,1066.87 1648.08,1063.45 1653.46,1060 \n",
       "  1658.84,1056.52 1664.21,1053 1669.59,1049.45 1674.97,1045.86 1680.35,1042.24 1685.73,1038.58 1691.11,1034.89 1696.49,1031.15 1701.87,1027.38 1707.25,1023.58 \n",
       "  1712.63,1019.74 1718.01,1015.85 1723.39,1011.94 1728.77,1007.98 1734.14,1003.98 1739.52,999.949 1744.9,995.875 1750.28,991.762 1755.66,987.61 1761.04,983.417 \n",
       "  1766.42,979.184 1771.8,974.91 1777.18,970.595 1782.56,966.239 1787.94,961.841 1793.32,957.401 1798.7,952.92 1804.07,948.395 1809.45,943.828 1814.83,939.217 \n",
       "  1820.21,934.563 1825.59,929.865 1830.97,925.122 1836.35,920.335 1841.73,915.503 1847.11,910.626 1852.49,905.704 1857.87,900.735 1863.25,895.72 1868.63,890.659 \n",
       "  1874,885.55 1879.38,880.395 1884.76,875.191 1890.14,869.94 1895.52,864.64 1900.9,859.291 1906.28,853.894 1911.66,848.446 1917.04,842.949 1922.42,837.402 \n",
       "  1927.8,831.804 1933.18,826.156 1938.56,820.456 1943.93,814.704 1949.31,808.9 1954.69,803.044 1960.07,797.135 1965.45,791.172 1970.83,785.157 1976.21,779.087 \n",
       "  1981.59,772.962 1986.97,766.783 1992.35,760.549 1997.73,754.259 2003.11,747.913 2008.49,741.511 2013.86,735.052 2019.24,728.536 2024.62,721.963 2030,715.331 \n",
       "  2035.38,708.641 2040.76,701.892 2046.14,695.084 2051.52,688.216 2056.9,681.288 2062.28,674.299 2067.66,667.25 2073.04,660.139 2078.42,652.967 2083.79,645.732 \n",
       "  2089.17,638.435 2094.55,631.074 2099.93,623.65 2105.31,616.162 2110.69,608.609 2116.07,600.992 2121.45,593.309 2126.83,585.561 2132.21,577.746 2137.59,569.865 \n",
       "  2142.97,561.917 2148.35,553.9 2153.72,545.816 2159.1,537.664 2164.48,529.442 2169.86,521.151 2175.24,512.79 2180.62,504.359 2186,495.856 2191.38,487.283 \n",
       "  2196.76,478.637 2202.14,469.919 2207.52,461.128 2212.9,452.265 2218.28,443.327 2223.65,434.315 2229.03,425.228 2234.41,416.066 2239.79,406.828 2245.17,397.514 \n",
       "  2250.55,388.123 2255.93,378.655 2261.31,369.108 2266.69,359.484 2272.07,349.781 2277.45,339.998 2282.83,330.136 2288.21,320.193 2293.58,310.169 2298.96,300.064 \n",
       "  2304.34,289.877 2309.72,279.607 2315.1,269.254 2320.48,258.818 2325.86,248.298 2331.24,237.692 2336.62,227.002 2342,216.226 2347.38,205.364 2352.76,194.414 \n",
       "  2358.14,183.378 2363.51,172.253 2368.89,161.04 2374.27,149.737 2379.65,138.345 2385.03,126.863 2390.41,115.29 2395.79,103.626 2401.17,91.8694 2406.55,80.0205 \n",
       "  2411.93,68.0785 2417.31,56.0427 2422.69,43.9127 2428.07,31.6878 2433.44,19.3675 2438.82,6.95105 2444.2,-5.56203 2449.58,-18.1724 2454.96,-30.8806 2460.34,-43.6873 \n",
       "  2465.72,-56.593 2471.1,-69.5985 2476.48,-82.7042 2481.86,-95.9109 2487.24,-109.219 2492.62,-122.629 2498,-136.143 2503.37,-149.759 2508.75,-163.48 2514.13,-177.305 \n",
       "  2519.51,-191.236 2524.89,-205.272 2530.27,-219.415 2535.65,-233.666 2541.03,-248.024 2546.41,-262.491 2551.79,-277.066 2557.17,-291.752 2562.55,-306.548 2567.93,-321.456 \n",
       "  2573.3,-336.475 2578.68,-351.607 2584.06,-366.852 2589.44,-382.21 2594.82,-397.683 2600.2,-413.272 2605.58,-428.976 2610.96,-444.797 2616.34,-460.734 2621.72,-476.79 \n",
       "  2627.1,-492.965 2632.48,-509.258 2637.85,-525.672 2643.23,-542.207 2648.61,-558.862 2653.99,-575.64 2659.37,-592.541 2664.75,-609.565 2670.13,-626.714 2675.51,-643.987 \n",
       "  2680.89,-661.386 2686.27,-678.912 2691.65,-696.564 2697.03,-714.345 2702.41,-732.254 2707.78,-750.292 2713.16,-768.461 2718.54,-786.76 2723.92,-805.191 2729.3,-823.754 \n",
       "  2734.68,-842.45 2740.06,-861.28 2745.44,-880.245 2750.82,-899.344 2756.2,-918.58 2761.58,-937.953 2766.96,-957.463 2772.34,-977.112 2777.71,-996.9 2783.09,-1016.83 \n",
       "  2788.47,-1036.9 2793.85,-1057.11 2799.23,-1077.46 2804.61,-1097.95 2809.99,-1118.59 2815.37,-1139.38 2820.75,-1160.31 2826.13,-1181.38 2831.51,-1202.6 2836.89,-1223.98 \n",
       "  2842.27,-1245.49 2847.64,-1267.16 2853.02,-1288.98 2858.4,-1310.95 2863.78,-1333.08 2869.16,-1355.35 2874.54,-1377.78 2879.92,-1400.36 2885.3,-1423.1 2890.68,-1445.99 \n",
       "  2896.06,-1469.05 2901.44,-1492.26 2906.82,-1515.62 2912.2,-1539.15 2917.57,-1562.84 2922.95,-1586.69 2928.33,-1610.7 2933.71,-1634.87 2939.09,-1659.21 2944.47,-1683.72 \n",
       "  2949.85,-1708.38 2955.23,-1733.22 2960.61,-1758.22 2965.99,-1783.39 2971.37,-1808.73 2976.75,-1834.24 2982.13,-1859.92 2987.5,-1885.77 2992.88,-1911.8 2998.26,-1938 \n",
       "  3003.64,-1964.37 3009.02,-1990.92 3014.4,-2017.64 3019.78,-2044.55 3025.16,-2071.63 3030.54,-2098.89 3035.92,-2126.33 3041.3,-2153.95 3046.68,-2181.75 3052.06,-2209.74 \n",
       "  3057.43,-2237.9 3062.81,-2266.26 3068.19,-2294.8 3073.57,-2323.52 3078.95,-2352.44 3084.33,-2381.54 3089.71,-2410.83 3095.09,-2440.31 3100.47,-2469.99 3105.85,-2499.86 \n",
       "  3111.23,-2529.91 3116.61,-2560.17 3121.99,-2590.62 3127.36,-2621.26 3132.74,-2652.11 3138.12,-2683.15 3143.5,-2714.39 3148.88,-2745.83 3154.26,-2777.47 3159.64,-2809.32 \n",
       "  3165.02,-2841.37 3170.4,-2873.62 3175.78,-2906.08 3181.16,-2938.74 3186.54,-2971.61 3191.92,-3004.69 3197.29,-3037.98 3202.67,-3071.48 3208.05,-3105.19 3213.43,-3139.12 \n",
       "  3218.81,-3173.26 3224.19,-3207.61 3229.57,-3242.18 3234.95,-3276.96 3240.33,-3311.97 3245.71,-3347.19 3251.09,-3382.63 3256.47,-3418.29 3261.85,-3454.18 3267.22,-3490.29 \n",
       "  3272.6,-3526.62 3277.98,-3563.18 3283.36,-3599.97 3288.74,-3636.98 3294.12,-3674.22 3299.5,-3711.69 3304.88,-3749.39 3310.26,-3787.33 3315.64,-3825.49 3321.02,-3863.89 \n",
       "  3326.4,-3902.53 3331.78,-3941.4 3337.15,-3980.51 3342.53,-4019.86 3347.91,-4059.45 3353.29,-4099.28 3358.67,-4139.35 3364.05,-4179.67 3369.43,-4220.23 3374.81,-4261.03 \n",
       "  3380.19,-4302.09 3385.57,-4343.39 3390.95,-4384.94 3396.33,-4426.74 3401.71,-4468.79 3407.08,-4511.09 3412.46,-4553.65 3417.84,-4596.46 3423.22,-4639.53 3428.6,-4682.85 \n",
       "  \n",
       "  \"/>\n",
       "<circle clip-path=\"url(#clip7302)\" style=\"fill:#000000; stroke:none; fill-opacity:1\" cx=\"738.988\" cy=\"1310.75\" r=\"18\"/>\n",
       "<circle clip-path=\"url(#clip7302)\" style=\"fill:#e26f46; stroke:none; fill-opacity:1\" cx=\"738.988\" cy=\"1310.75\" r=\"14\"/>\n",
       "<polyline clip-path=\"url(#clip7302)\" style=\"stroke:#3da44d; stroke-width:4; stroke-opacity:1; fill:none\" stroke-dasharray=\"16, 10\" points=\"\n",
       "  201.065,1195.89 206.444,1195.89 211.823,1195.89 217.203,1195.89 222.582,1195.89 227.961,1195.89 233.34,1195.89 238.719,1195.89 244.099,1195.89 249.478,1195.89 \n",
       "  254.857,1195.89 260.236,1195.89 265.616,1195.89 270.995,1195.89 276.374,1195.89 281.753,1195.89 287.132,1195.89 292.512,1195.89 297.891,1195.89 303.27,1195.89 \n",
       "  308.649,1195.89 314.029,1195.89 319.408,1195.89 324.787,1195.89 330.166,1195.89 335.546,1195.89 340.925,1195.89 346.304,1195.89 351.683,1195.89 357.062,1195.89 \n",
       "  362.442,1195.89 367.821,1195.89 373.2,1195.89 378.579,1195.89 383.959,1195.89 389.338,1195.89 394.717,1195.89 400.096,1195.89 405.475,1195.89 410.855,1195.89 \n",
       "  416.234,1195.89 421.613,1195.89 426.992,1195.89 432.372,1195.89 437.751,1195.89 443.13,1195.89 448.509,1195.89 453.889,1195.89 459.268,1195.89 464.647,1195.89 \n",
       "  470.026,1195.89 475.405,1195.89 480.785,1195.89 486.164,1195.89 491.543,1195.89 496.922,1195.89 502.302,1195.89 507.681,1195.89 513.06,1195.89 518.439,1195.89 \n",
       "  523.818,1195.89 529.198,1195.89 534.577,1195.89 539.956,1195.89 545.335,1195.89 550.715,1195.89 556.094,1195.89 561.473,1195.89 566.852,1195.89 572.232,1195.89 \n",
       "  577.611,1195.89 582.99,1195.89 588.369,1195.89 593.748,1195.89 599.128,1195.89 604.507,1195.89 609.886,1195.89 615.265,1195.89 620.645,1195.89 626.024,1195.89 \n",
       "  631.403,1195.89 636.782,1195.89 642.162,1195.89 647.541,1195.89 652.92,1195.89 658.299,1195.89 663.678,1195.89 669.058,1195.89 674.437,1195.89 679.816,1195.89 \n",
       "  685.195,1195.89 690.575,1195.89 695.954,1195.89 701.333,1195.89 706.712,1195.89 712.091,1195.89 717.471,1195.89 722.85,1195.89 728.229,1195.89 733.608,1195.89 \n",
       "  738.988,1195.89 744.367,1195.89 749.746,1195.89 755.125,1195.89 760.505,1195.89 765.884,1195.89 771.263,1195.89 776.642,1195.89 782.021,1195.89 787.401,1195.89 \n",
       "  792.78,1195.89 798.159,1195.89 803.538,1195.89 808.918,1195.89 814.297,1195.89 819.676,1195.89 825.055,1195.89 830.434,1195.89 835.814,1195.89 841.193,1195.89 \n",
       "  846.572,1195.89 851.951,1195.89 857.331,1195.89 862.71,1195.89 868.089,1195.89 873.468,1195.89 878.848,1195.89 884.227,1195.89 889.606,1195.89 894.985,1195.89 \n",
       "  900.364,1195.89 905.744,1195.89 911.123,1195.89 916.502,1195.89 921.881,1195.89 927.261,1195.89 932.64,1195.89 938.019,1195.89 943.398,1195.89 948.777,1195.89 \n",
       "  954.157,1195.89 959.536,1195.89 964.915,1195.89 970.294,1195.89 975.674,1195.89 981.053,1195.89 986.432,1195.89 991.811,1195.89 997.191,1195.89 1002.57,1195.89 \n",
       "  1007.95,1195.89 1013.33,1195.89 1018.71,1195.89 1024.09,1195.89 1029.47,1195.89 1034.85,1195.89 1040.22,1195.89 1045.6,1195.89 1050.98,1195.89 1056.36,1195.89 \n",
       "  1061.74,1195.89 1067.12,1195.89 1072.5,1195.89 1077.88,1195.89 1083.26,1195.89 1088.64,1195.89 1094.02,1195.89 1099.4,1195.89 1104.78,1195.89 1110.15,1195.89 \n",
       "  1115.53,1195.89 1120.91,1195.89 1126.29,1195.89 1131.67,1195.89 1137.05,1195.89 1142.43,1195.89 1147.81,1195.89 1153.19,1195.89 1158.57,1195.89 1163.95,1195.89 \n",
       "  1169.33,1195.89 1174.71,1195.89 1180.08,1195.89 1185.46,1195.89 1190.84,1195.89 1196.22,1195.89 1201.6,1195.89 1206.98,1195.89 1212.36,1195.89 1217.74,1195.89 \n",
       "  1223.12,1195.89 1228.5,1195.89 1233.88,1195.89 1239.26,1195.89 1244.64,1195.89 1250.01,1195.89 1255.39,1195.89 1260.77,1195.89 1266.15,1195.89 1271.53,1195.89 \n",
       "  1276.91,1195.89 1282.29,1195.89 1287.67,1195.89 1293.05,1195.89 1298.43,1195.89 1303.81,1195.89 1309.19,1195.89 1314.56,1195.89 1319.94,1195.89 1325.32,1195.89 \n",
       "  1330.7,1195.89 1336.08,1195.89 1341.46,1195.89 1346.84,1195.89 1352.22,1195.89 1357.6,1195.89 1362.98,1195.89 1368.36,1195.89 1373.74,1195.89 1379.12,1195.89 \n",
       "  1384.49,1195.89 1389.87,1195.89 1395.25,1195.89 1400.63,1195.89 1406.01,1195.89 1411.39,1195.89 1416.77,1195.89 1422.15,1195.89 1427.53,1195.89 1432.91,1195.89 \n",
       "  1438.29,1195.89 1443.67,1195.89 1449.05,1195.89 1454.42,1195.89 1459.8,1195.89 1465.18,1195.89 1470.56,1195.89 1475.94,1195.89 1481.32,1195.89 1486.7,1195.89 \n",
       "  1492.08,1195.89 1497.46,1195.89 1502.84,1195.89 1508.22,1195.89 1513.6,1195.89 1518.98,1195.89 1524.35,1195.89 1529.73,1195.89 1535.11,1195.89 1540.49,1195.89 \n",
       "  1545.87,1195.89 1551.25,1195.89 1556.63,1195.89 1562.01,1195.89 1567.39,1195.89 1572.77,1195.89 1578.15,1195.89 1583.53,1195.89 1588.91,1195.89 1594.28,1195.89 \n",
       "  1599.66,1195.89 1605.04,1195.89 1610.42,1195.89 1615.8,1195.89 1621.18,1195.89 1626.56,1195.89 1631.94,1195.89 1637.32,1195.89 1642.7,1195.89 1648.08,1195.89 \n",
       "  1653.46,1195.89 1658.84,1195.89 1664.21,1195.89 1669.59,1195.89 1674.97,1195.89 1680.35,1195.89 1685.73,1195.89 1691.11,1195.89 1696.49,1195.89 1701.87,1195.89 \n",
       "  1707.25,1195.89 1712.63,1195.89 1718.01,1195.89 1723.39,1195.89 1728.77,1195.89 1734.14,1195.89 1739.52,1195.89 1744.9,1195.89 1750.28,1195.89 1755.66,1195.89 \n",
       "  1761.04,1195.89 1766.42,1195.89 1771.8,1195.89 1777.18,1195.89 1782.56,1195.89 1787.94,1195.89 1793.32,1195.89 1798.7,1195.89 1804.07,1195.89 1809.45,1195.89 \n",
       "  1814.83,1195.89 1820.21,1195.89 1825.59,1195.89 1830.97,1195.89 1836.35,1195.89 1841.73,1195.89 1847.11,1195.89 1852.49,1195.89 1857.87,1195.89 1863.25,1195.89 \n",
       "  1868.63,1195.89 1874,1195.89 1879.38,1195.89 1884.76,1195.89 1890.14,1195.89 1895.52,1195.89 1900.9,1195.89 1906.28,1195.89 1911.66,1195.89 1917.04,1195.89 \n",
       "  1922.42,1195.89 1927.8,1195.89 1933.18,1195.89 1938.56,1195.89 1943.93,1195.89 1949.31,1195.89 1954.69,1195.89 1960.07,1195.89 1965.45,1195.89 1970.83,1195.89 \n",
       "  1976.21,1195.89 1981.59,1195.89 1986.97,1195.89 1992.35,1195.89 1997.73,1195.89 2003.11,1195.89 2008.49,1195.89 2013.86,1195.89 2019.24,1195.89 2024.62,1195.89 \n",
       "  2030,1195.89 2035.38,1195.89 2040.76,1195.89 2046.14,1195.89 2051.52,1195.89 2056.9,1195.89 2062.28,1195.89 2067.66,1195.89 2073.04,1195.89 2078.42,1195.89 \n",
       "  2083.79,1195.89 2089.17,1195.89 2094.55,1195.89 2099.93,1195.89 2105.31,1195.89 2110.69,1195.89 2116.07,1195.89 2121.45,1195.89 2126.83,1195.89 2132.21,1195.89 \n",
       "  2137.59,1195.89 2142.97,1195.89 2148.35,1195.89 2153.72,1195.89 2159.1,1195.89 2164.48,1195.89 2169.86,1195.89 2175.24,1195.89 2180.62,1195.89 2186,1195.89 \n",
       "  2191.38,1195.89 2196.76,1195.89 2202.14,1195.89 2207.52,1195.89 2212.9,1195.89 2218.28,1195.89 2223.65,1195.89 2229.03,1195.89 2234.41,1195.89 2239.79,1195.89 \n",
       "  2245.17,1195.89 2250.55,1195.89 2255.93,1195.89 2261.31,1195.89 2266.69,1195.89 2272.07,1195.89 2277.45,1195.89 2282.83,1195.89 2288.21,1195.89 2293.58,1195.89 \n",
       "  2298.96,1195.89 2304.34,1195.89 2309.72,1195.89 2315.1,1195.89 2320.48,1195.89 2325.86,1195.89 2331.24,1195.89 2336.62,1195.89 2342,1195.89 2347.38,1195.89 \n",
       "  2352.76,1195.89 2358.14,1195.89 2363.51,1195.89 2368.89,1195.89 2374.27,1195.89 2379.65,1195.89 2385.03,1195.89 2390.41,1195.89 2395.79,1195.89 2401.17,1195.89 \n",
       "  2406.55,1195.89 2411.93,1195.89 2417.31,1195.89 2422.69,1195.89 2428.07,1195.89 2433.44,1195.89 2438.82,1195.89 2444.2,1195.89 2449.58,1195.89 2454.96,1195.89 \n",
       "  2460.34,1195.89 2465.72,1195.89 2471.1,1195.89 2476.48,1195.89 2481.86,1195.89 2487.24,1195.89 2492.62,1195.89 2498,1195.89 2503.37,1195.89 2508.75,1195.89 \n",
       "  2514.13,1195.89 2519.51,1195.89 2524.89,1195.89 2530.27,1195.89 2535.65,1195.89 2541.03,1195.89 2546.41,1195.89 2551.79,1195.89 2557.17,1195.89 2562.55,1195.89 \n",
       "  2567.93,1195.89 2573.3,1195.89 2578.68,1195.89 2584.06,1195.89 2589.44,1195.89 2594.82,1195.89 2600.2,1195.89 2605.58,1195.89 2610.96,1195.89 2616.34,1195.89 \n",
       "  2621.72,1195.89 2627.1,1195.89 2632.48,1195.89 2637.85,1195.89 2643.23,1195.89 2648.61,1195.89 2653.99,1195.89 2659.37,1195.89 2664.75,1195.89 2670.13,1195.89 \n",
       "  2675.51,1195.89 2680.89,1195.89 2686.27,1195.89 2691.65,1195.89 2697.03,1195.89 2702.41,1195.89 2707.78,1195.89 2713.16,1195.89 2718.54,1195.89 2723.92,1195.89 \n",
       "  2729.3,1195.89 2734.68,1195.89 2740.06,1195.89 2745.44,1195.89 2750.82,1195.89 2756.2,1195.89 2761.58,1195.89 2766.96,1195.89 2772.34,1195.89 2777.71,1195.89 \n",
       "  2783.09,1195.89 2788.47,1195.89 2793.85,1195.89 2799.23,1195.89 2804.61,1195.89 2809.99,1195.89 2815.37,1195.89 2820.75,1195.89 2826.13,1195.89 2831.51,1195.89 \n",
       "  2836.89,1195.89 2842.27,1195.89 2847.64,1195.89 2853.02,1195.89 2858.4,1195.89 2863.78,1195.89 2869.16,1195.89 2874.54,1195.89 2879.92,1195.89 2885.3,1195.89 \n",
       "  2890.68,1195.89 2896.06,1195.89 2901.44,1195.89 2906.82,1195.89 2912.2,1195.89 2917.57,1195.89 2922.95,1195.89 2928.33,1195.89 2933.71,1195.89 2939.09,1195.89 \n",
       "  2944.47,1195.89 2949.85,1195.89 2955.23,1195.89 2960.61,1195.89 2965.99,1195.89 2971.37,1195.89 2976.75,1195.89 2982.13,1195.89 2987.5,1195.89 2992.88,1195.89 \n",
       "  2998.26,1195.89 3003.64,1195.89 3009.02,1195.89 3014.4,1195.89 3019.78,1195.89 3025.16,1195.89 3030.54,1195.89 3035.92,1195.89 3041.3,1195.89 3046.68,1195.89 \n",
       "  3052.06,1195.89 3057.43,1195.89 3062.81,1195.89 3068.19,1195.89 3073.57,1195.89 3078.95,1195.89 3084.33,1195.89 3089.71,1195.89 3095.09,1195.89 3100.47,1195.89 \n",
       "  3105.85,1195.89 3111.23,1195.89 3116.61,1195.89 3121.99,1195.89 3127.36,1195.89 3132.74,1195.89 3138.12,1195.89 3143.5,1195.89 3148.88,1195.89 3154.26,1195.89 \n",
       "  3159.64,1195.89 3165.02,1195.89 3170.4,1195.89 3175.78,1195.89 3181.16,1195.89 3186.54,1195.89 3191.92,1195.89 3197.29,1195.89 3202.67,1195.89 3208.05,1195.89 \n",
       "  3213.43,1195.89 3218.81,1195.89 3224.19,1195.89 3229.57,1195.89 3234.95,1195.89 3240.33,1195.89 3245.71,1195.89 3251.09,1195.89 3256.47,1195.89 3261.85,1195.89 \n",
       "  3267.22,1195.89 3272.6,1195.89 3277.98,1195.89 3283.36,1195.89 3288.74,1195.89 3294.12,1195.89 3299.5,1195.89 3304.88,1195.89 3310.26,1195.89 3315.64,1195.89 \n",
       "  3321.02,1195.89 3326.4,1195.89 3331.78,1195.89 3337.15,1195.89 3342.53,1195.89 3347.91,1195.89 3353.29,1195.89 3358.67,1195.89 3364.05,1195.89 3369.43,1195.89 \n",
       "  3374.81,1195.89 3380.19,1195.89 3385.57,1195.89 3390.95,1195.89 3396.33,1195.89 3401.71,1195.89 3407.08,1195.89 3412.46,1195.89 3417.84,1195.89 3423.22,1195.89 \n",
       "  3428.6,1195.89 \n",
       "  \"/>\n",
       "</svg>\n"
      ]
     },
     "execution_count": 11,
     "metadata": {},
     "output_type": "execute_result"
    }
   ],
   "source": [
    "Mrange = range(0,6,length=601)\n",
    "Aratio = []\n",
    "for M in Mrange\n",
    "    push!(Aratio,value(AOverAStar(MachNumber(M),Isentropic)))\n",
    "end\n",
    "\n",
    "plot(Mrange,Aratio,xlim=(0,4),ylim=(0,12),yticks=0:1:12,xlabel=\"Mach number\",ylabel=L\"A/A_*\",legend=false)\n",
    "scatter!([1],[1])\n",
    "plot!(Mrange,2*ones(length(Mrange)),style=:dash)"
   ]
  },
  {
   "cell_type": "markdown",
   "metadata": {},
   "source": [
    "#### Example 4\n",
    "What are the subsonic and supersonic Mach numbers associated with, for example, an area ratio $A/A_*$ of 2 (the dashed line in the plot above)? We simply input the desired area ratio and find the two solutions:"
   ]
  },
  {
   "cell_type": "code",
   "execution_count": 12,
   "metadata": {},
   "outputs": [],
   "source": [
    "M1, M2 = MachNumber(AreaRatio(2),Isentropic);"
   ]
  },
  {
   "cell_type": "code",
   "execution_count": 13,
   "metadata": {},
   "outputs": [
    {
     "data": {
      "text/plain": [
       "MachNumber = 0.305904 "
      ]
     },
     "execution_count": 13,
     "metadata": {},
     "output_type": "execute_result"
    }
   ],
   "source": [
    "M1"
   ]
  },
  {
   "cell_type": "code",
   "execution_count": 14,
   "metadata": {},
   "outputs": [
    {
     "data": {
      "text/plain": [
       "MachNumber = 2.1972 "
      ]
     },
     "execution_count": 14,
     "metadata": {},
     "output_type": "execute_result"
    }
   ],
   "source": [
    "M2"
   ]
  },
  {
   "cell_type": "markdown",
   "metadata": {},
   "source": [
    "A related question: What is the local sonic reference area $A_*$ when the Mach number is 7.1 and the local area is 50 sq cm?\n",
    "\n",
    "We first compute $A/A_*$ from $M = 7.1$, then compute $A_* = A/(A/A_*)$:"
   ]
  },
  {
   "cell_type": "code",
   "execution_count": 15,
   "metadata": {},
   "outputs": [
    {
     "data": {
      "text/plain": [
       "0.4507312336039658"
      ]
     },
     "execution_count": 15,
     "metadata": {},
     "output_type": "execute_result"
    }
   ],
   "source": [
    "A = Area(50,units=SqCM)\n",
    "M = MachNumber(7.1)\n",
    "A_over_Astar = AOverAStar(M,Isentropic)\n",
    "Astar = Area(A/A_over_Astar)\n",
    "value(Astar,SqCM)"
   ]
  },
  {
   "cell_type": "markdown",
   "metadata": {},
   "source": [
    "So the throat would have to be 0.45 sq cm, much smaller than 50 sq cm!"
   ]
  },
  {
   "cell_type": "markdown",
   "metadata": {},
   "source": [
    "Note that there is a convenience function to do those steps all in one:"
   ]
  },
  {
   "cell_type": "code",
   "execution_count": 16,
   "metadata": {},
   "outputs": [
    {
     "data": {
      "text/plain": [
       "0.4507312336039658"
      ]
     },
     "execution_count": 16,
     "metadata": {},
     "output_type": "execute_result"
    }
   ],
   "source": [
    "value(AStar(A,M),SqCM)"
   ]
  },
  {
   "cell_type": "markdown",
   "metadata": {},
   "source": [
    "#### Example 5\n",
    "Consider the flow of air through a converging-diverging nozzle, leaving a stagnant reservoir at pressure $p_0$ = 700 kPa and temperature $T_0 = 30$ degrees C. The Mach number at a location (1) in the converging section with area 50 sq cm is equal to 0.4. The exit of the nozzle has area 60 sq cm.\n",
    "\n",
    "(a) What are the possible Mach numbers at the exit in choked isentropic conditions? What are the exit (i.e., \"back\") pressures $p_2$ associated with these two Mach numbers?\n",
    "\n",
    "(b) What is the mass flow rate through the nozzle in these conditions?"
   ]
  },
  {
   "cell_type": "markdown",
   "metadata": {},
   "source": [
    "First, we set the known values"
   ]
  },
  {
   "cell_type": "code",
   "execution_count": 17,
   "metadata": {},
   "outputs": [
    {
     "data": {
      "text/plain": [
       "MachNumber = 0.4 "
      ]
     },
     "execution_count": 17,
     "metadata": {},
     "output_type": "execute_result"
    }
   ],
   "source": [
    "p0 = StagnationPressure(700,units=KPa)\n",
    "T0 = StagnationTemperature(30,units=C)\n",
    "A1 = Area(50,units=SqCM)\n",
    "A2 = Area(60,units=SqCM)\n",
    "M1 = MachNumber(0.4)"
   ]
  },
  {
   "cell_type": "markdown",
   "metadata": {},
   "source": [
    "Now, we compute $A_1/A_*$ from $M_1$. Use this to calculate $A_*$ from $A_1/(A_1/A_*)$. Then calculate $A_2/A_*$:"
   ]
  },
  {
   "cell_type": "code",
   "execution_count": 18,
   "metadata": {},
   "outputs": [
    {
     "data": {
      "text/plain": [
       "AreaRatio = 1.90817 "
      ]
     },
     "execution_count": 18,
     "metadata": {},
     "output_type": "execute_result"
    }
   ],
   "source": [
    "A1_over_Astar = AOverAStar(M1,Isentropic,gas=Air)\n",
    "Astar = Area(A1/A1_over_Astar)\n",
    "A2_over_Astar = AreaRatio(A2/Astar)"
   ]
  },
  {
   "cell_type": "markdown",
   "metadata": {},
   "source": [
    "Now calculate the Mach numbers at location 2 (the nozzle exit):"
   ]
  },
  {
   "cell_type": "code",
   "execution_count": 19,
   "metadata": {},
   "outputs": [],
   "source": [
    "M2sub, M2sup = MachNumber(A2_over_Astar,Isentropic,gas=Air);"
   ]
  },
  {
   "cell_type": "code",
   "execution_count": 20,
   "metadata": {},
   "outputs": [
    {
     "data": {
      "text/plain": [
       "MachNumber = 0.322613 "
      ]
     },
     "execution_count": 20,
     "metadata": {},
     "output_type": "execute_result"
    }
   ],
   "source": [
    "M2sub"
   ]
  },
  {
   "cell_type": "code",
   "execution_count": 21,
   "metadata": {},
   "outputs": [
    {
     "data": {
      "text/plain": [
       "MachNumber = 2.1438 "
      ]
     },
     "execution_count": 21,
     "metadata": {},
     "output_type": "execute_result"
    }
   ],
   "source": [
    "M2sup"
   ]
  },
  {
   "cell_type": "markdown",
   "metadata": {},
   "source": [
    "Actually, all of the last few steps can be done in *one step* with a different version of the function `MachNumber`:"
   ]
  },
  {
   "cell_type": "code",
   "execution_count": 22,
   "metadata": {},
   "outputs": [],
   "source": [
    "M2sub, M2sup = MachNumber(M1,A1,A2,Isentropic,gas=Air);"
   ]
  },
  {
   "cell_type": "code",
   "execution_count": 23,
   "metadata": {},
   "outputs": [
    {
     "data": {
      "text/plain": [
       "MachNumber = 0.322613 "
      ]
     },
     "execution_count": 23,
     "metadata": {},
     "output_type": "execute_result"
    }
   ],
   "source": [
    "M2sub"
   ]
  },
  {
   "cell_type": "code",
   "execution_count": 24,
   "metadata": {},
   "outputs": [
    {
     "data": {
      "text/plain": [
       "MachNumber = 2.1438 "
      ]
     },
     "execution_count": 24,
     "metadata": {},
     "output_type": "execute_result"
    }
   ],
   "source": [
    "M2sup"
   ]
  },
  {
   "cell_type": "markdown",
   "metadata": {},
   "source": [
    "Now let's determine the exit pressures (location 2) corresponding to these two Mach numbers:"
   ]
  },
  {
   "cell_type": "code",
   "execution_count": 25,
   "metadata": {},
   "outputs": [
    {
     "data": {
      "text/plain": [
       "651.301619254323"
      ]
     },
     "execution_count": 25,
     "metadata": {},
     "output_type": "execute_result"
    }
   ],
   "source": [
    "p0_over_p2sub = P0OverP(M2sub,Isentropic,gas=Air)\n",
    "p2sub = Pressure(p0/p0_over_p2sub)\n",
    "value(p2sub,KPa)"
   ]
  },
  {
   "cell_type": "code",
   "execution_count": 26,
   "metadata": {},
   "outputs": [
    {
     "data": {
      "text/plain": [
       "71.48184181875564"
      ]
     },
     "execution_count": 26,
     "metadata": {},
     "output_type": "execute_result"
    }
   ],
   "source": [
    "p0_over_p2sup = P0OverP(M2sup,Isentropic,gas=Air)\n",
    "p2sup = Pressure(p0/p0_over_p2sup)\n",
    "value(p2sup,KPa)"
   ]
  },
  {
   "cell_type": "markdown",
   "metadata": {},
   "source": [
    "So if the exit pressure is 651 kPa, then the flow will remain choked and **subsonic** throughout, and if the exit pressure is 71.5 kPa, then the flow will remain choked and **supersonic** throughout.\n",
    "\n",
    "Note that, because the flow is choked, the mass flow rate is the same for both of these cases. Let's calculate that mass flow rate (using $\\rho_1 u_1 A_1$). We need $\\rho_1$ and $u_1$. First, calculate the stagnation density in this nozzle:"
   ]
  },
  {
   "cell_type": "code",
   "execution_count": 27,
   "metadata": {},
   "outputs": [
    {
     "data": {
      "text/plain": [
       "StagnationDensity = 8.0456 KGPerCuM"
      ]
     },
     "execution_count": 27,
     "metadata": {},
     "output_type": "execute_result"
    }
   ],
   "source": [
    "ρ0 = StagnationDensity(p0,T0,gas=Air) # this uses the perfect gas law"
   ]
  },
  {
   "cell_type": "markdown",
   "metadata": {},
   "source": [
    "Using $M_1$, find $\\rho_0/\\rho_1$:"
   ]
  },
  {
   "cell_type": "code",
   "execution_count": 28,
   "metadata": {},
   "outputs": [
    {
     "data": {
      "text/plain": [
       "DensityRatio = 1.08193 "
      ]
     },
     "execution_count": 28,
     "metadata": {},
     "output_type": "execute_result"
    }
   ],
   "source": [
    "ρ0_over_ρ1 = ρ0Overρ(M1,Isentropic,gas=Air)"
   ]
  },
  {
   "cell_type": "markdown",
   "metadata": {},
   "source": [
    "So we can get $\\rho_1$ from $\\rho_0/(\\rho_0/\\rho_1)$:"
   ]
  },
  {
   "cell_type": "code",
   "execution_count": 29,
   "metadata": {},
   "outputs": [
    {
     "data": {
      "text/plain": [
       "Density = 7.43634 KGPerCuM"
      ]
     },
     "execution_count": 29,
     "metadata": {},
     "output_type": "execute_result"
    }
   ],
   "source": [
    "ρ1 = Density(ρ0/ρ0_over_ρ1)"
   ]
  },
  {
   "cell_type": "markdown",
   "metadata": {},
   "source": [
    "Now get $u_1$ from $M_1 c_1$, where $c_1$ is the speed of sound. For that, we need $T_1$:"
   ]
  },
  {
   "cell_type": "code",
   "execution_count": 30,
   "metadata": {},
   "outputs": [
    {
     "data": {
      "text/plain": [
       "SoundSpeed = 343.553 MPerSec"
      ]
     },
     "execution_count": 30,
     "metadata": {},
     "output_type": "execute_result"
    }
   ],
   "source": [
    "T0_over_T1 = T0OverT(M1,Isentropic,gas=Air)\n",
    "T1 = Temperature(T0/T0_over_T1)\n",
    "c1 = SoundSpeed(T1)"
   ]
  },
  {
   "cell_type": "code",
   "execution_count": 31,
   "metadata": {},
   "outputs": [
    {
     "data": {
      "text/plain": [
       "Velocity = 137.421 MPerSec"
      ]
     },
     "execution_count": 31,
     "metadata": {},
     "output_type": "execute_result"
    }
   ],
   "source": [
    "u1 = Velocity(M1*c1)"
   ]
  },
  {
   "cell_type": "markdown",
   "metadata": {},
   "source": [
    "And now we can put it all together:"
   ]
  },
  {
   "cell_type": "code",
   "execution_count": 32,
   "metadata": {},
   "outputs": [
    {
     "data": {
      "text/plain": [
       "MassFlowRate = 5.10956 KGPerSec"
      ]
     },
     "execution_count": 32,
     "metadata": {},
     "output_type": "execute_result"
    }
   ],
   "source": [
    "mdot = MassFlowRate(ρ1*u1*A1)"
   ]
  },
  {
   "cell_type": "markdown",
   "metadata": {},
   "source": [
    "So the mass flow rate is stuck at 5.1 kg/s"
   ]
  },
  {
   "cell_type": "code",
   "execution_count": null,
   "metadata": {},
   "outputs": [],
   "source": []
  }
 ],
 "metadata": {
  "kernelspec": {
   "display_name": "Julia 1.4.2",
   "language": "julia",
   "name": "julia-1.4"
  },
  "language_info": {
   "file_extension": ".jl",
   "mimetype": "application/julia",
   "name": "julia",
   "version": "1.4.2"
  }
 },
 "nbformat": 4,
 "nbformat_minor": 2
}
