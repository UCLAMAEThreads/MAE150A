{
 "cells": [
  {
   "cell_type": "markdown",
   "source": [
    "<img src=\"https://raw.githubusercontent.com/UCLAMAEThreads/MAE150A/master/notebook/logo_UCLA_blue_boxed.svg\" alt=\"ucla logo\" width=\"150\" align=\"left\"/>"
   ],
   "metadata": {}
  },
  {
   "cell_type": "markdown",
   "source": [
    "### **MAE 150A - Intermediate Fluid Mechanics**\n",
    "<hr />"
   ],
   "metadata": {}
  },
  {
   "cell_type": "markdown",
   "source": [
    "# Isentropic quasi-1D steady compressible flow\n",
    "This notebook demonstrates the use of the compressible flow tools for computing\n",
    "states and processes in isentropic quasi-1d steady compressible flow."
   ],
   "metadata": {}
  },
  {
   "cell_type": "markdown",
   "source": [
    "### Set up the module"
   ],
   "metadata": {}
  },
  {
   "outputs": [],
   "cell_type": "code",
   "source": [
    "using MAE150A\n",
    "using Gasdynamics1D"
   ],
   "metadata": {},
   "execution_count": 1
  },
  {
   "outputs": [
    {
     "name": "stdout",
     "output_type": "stream",
     "text": [
      "   Building Conda ─→ `~/.julia/packages/Conda/tJJuN/deps/build.log`\n",
      "   Building PyCall → `~/.julia/packages/PyCall/tqyST/deps/build.log`\n"
     ]
    }
   ],
   "cell_type": "code",
   "source": [
    "using Plots"
   ],
   "metadata": {},
   "execution_count": 2
  },
  {
   "cell_type": "markdown",
   "source": [
    "### Using isentropic relations\n",
    "Let us apply some basic isentropic relations."
   ],
   "metadata": {}
  },
  {
   "cell_type": "markdown",
   "source": [
    "#### Example 1\n",
    "Let's suppose two states of the flow in air, 1 and 2, are connected with each\n",
    "other by an isentropic process. We know the pressure p1 is 101 kPa, the temperature\n",
    "T1 is 20 degrees C, and the pressure p2 is 80 kPa. What is temperature T2?\n",
    "\n",
    "To answer this, we will use the relationship\n",
    "\n",
    "$$\\dfrac{T_2}{T_1} = \\left( \\dfrac{p_2}{p_1}\\right)^{(\\gamma-1)/\\gamma}$$"
   ],
   "metadata": {}
  },
  {
   "outputs": [
    {
     "output_type": "execute_result",
     "data": {
      "text/plain": "Gasdynamics1D.Pressure = 80000.0 Pa"
     },
     "metadata": {},
     "execution_count": 3
    }
   ],
   "cell_type": "code",
   "source": [
    "p1 = Pressure(101u\"kPa\")\n",
    "T1 = Temperature(20u\"°C\")\n",
    "p2 = Pressure(80u\"kPa\")"
   ],
   "metadata": {},
   "execution_count": 3
  },
  {
   "cell_type": "markdown",
   "source": [
    "First, let's set the pressure ratio:"
   ],
   "metadata": {}
  },
  {
   "outputs": [
    {
     "output_type": "execute_result",
     "data": {
      "text/plain": "Gasdynamics1D.PressureRatio = 0.7920792079207921"
     },
     "metadata": {},
     "execution_count": 4
    }
   ],
   "cell_type": "code",
   "source": [
    "p2_over_p1 = PressureRatio(p2/p1)"
   ],
   "metadata": {},
   "execution_count": 4
  },
  {
   "cell_type": "markdown",
   "source": [
    "Now find the temperature ratio. Note below that we specify the argument\n",
    "`Isentropic` to make sure it is clear that we are using the isentropic relation.\n",
    "We only need this argument when it is needed for clarity."
   ],
   "metadata": {}
  },
  {
   "outputs": [
    {
     "output_type": "execute_result",
     "data": {
      "text/plain": "Gasdynamics1D.TemperatureRatio = 0.9355709895748232"
     },
     "metadata": {},
     "execution_count": 5
    }
   ],
   "cell_type": "code",
   "source": [
    "T2_over_T1 = TemperatureRatio(p2_over_p1,Isentropic)"
   ],
   "metadata": {},
   "execution_count": 5
  },
  {
   "cell_type": "markdown",
   "source": [
    "It is important to understand that the tools \"know\" what formula you want to use\n",
    "(the one listed above), based on the fact that (a) you supplied it with a pressure\n",
    "ratio (the purpose of the `PressureRatio` line above), and (b) you told it that\n",
    "the process is `Isentropic`. It figures out the rest.\n",
    "Finally, calculate $T_2 = T_1 (T_2/T_1)$:"
   ],
   "metadata": {}
  },
  {
   "outputs": [
    {
     "output_type": "execute_result",
     "data": {
      "text/plain": "Gasdynamics1D.Temperature = 274.2626355938594 K"
     },
     "metadata": {},
     "execution_count": 6
    }
   ],
   "cell_type": "code",
   "source": [
    "T2 = Temperature(T1*T2_over_T1)"
   ],
   "metadata": {},
   "execution_count": 6
  },
  {
   "cell_type": "markdown",
   "source": [
    "or, in Celsius, if desired"
   ],
   "metadata": {}
  },
  {
   "outputs": [
    {
     "output_type": "execute_result",
     "data": {
      "text/plain": "1.1126355938594088 °C"
     },
     "metadata": {},
     "execution_count": 7
    }
   ],
   "cell_type": "code",
   "source": [
    "value(T2,u\"°C\")"
   ],
   "metadata": {},
   "execution_count": 7
  },
  {
   "cell_type": "markdown",
   "source": [
    "We could also do all of this in one line, though it is a bit harder to debug\n",
    "if something goes wrong:"
   ],
   "metadata": {}
  },
  {
   "outputs": [
    {
     "output_type": "execute_result",
     "data": {
      "text/plain": "Gasdynamics1D.Temperature = 274.2626355938594 K"
     },
     "metadata": {},
     "execution_count": 8
    }
   ],
   "cell_type": "code",
   "source": [
    "T2 = Temperature(T1*TemperatureRatio(PressureRatio(p2/p1),Isentropic))"
   ],
   "metadata": {},
   "execution_count": 8
  },
  {
   "cell_type": "markdown",
   "source": [
    "#### Example 2\n",
    "If the temperature ratio $T/T_0$ is 0.2381, what is the Mach number?"
   ],
   "metadata": {}
  },
  {
   "outputs": [
    {
     "output_type": "execute_result",
     "data": {
      "text/plain": "Gasdynamics1D.MachNumber = 3.9999475007054572"
     },
     "metadata": {},
     "execution_count": 9
    }
   ],
   "cell_type": "code",
   "source": [
    "MachNumber(TemperatureRatio(0.2381),Isentropic)"
   ],
   "metadata": {},
   "execution_count": 9
  },
  {
   "cell_type": "markdown",
   "source": [
    "#### Example 3\n",
    "If the Mach number is 4.4 and stagnation pressure is 800 kPa, what is the pressure?"
   ],
   "metadata": {}
  },
  {
   "outputs": [
    {
     "output_type": "execute_result",
     "data": {
      "text/plain": "Gasdynamics1D.Pressure = 3134.1119713819485 Pa"
     },
     "metadata": {},
     "execution_count": 10
    }
   ],
   "cell_type": "code",
   "source": [
    "Pressure(StagnationPressure(800u\"kPa\"),MachNumber(4.4),Isentropic)"
   ],
   "metadata": {},
   "execution_count": 10
  },
  {
   "cell_type": "markdown",
   "source": [
    "### Mach - area relations\n",
    "A big part of isentropic quasi-1D flow deals with changes of the flow in variable-area\n",
    "ducts. For these calculations, we make use of the *sonic area* $A_*$ as a reference area.\n",
    "Remember that, for any ratio of $A/A_*$, there are two possible Mach numbers,\n",
    "corresponding to a **subsonic flow** and a **supersonic flow**. Let us see that by\n",
    "plotting $A/A_*$ versus Mach number $M$. If, for example, $A/A_* = 2$, then\n",
    "note where the dashed line crosses the plot:"
   ],
   "metadata": {}
  },
  {
   "outputs": [
    {
     "output_type": "execute_result",
     "data": {
      "text/plain": "Plot{Plots.PyPlotBackend() n=3}",
      "image/png": "[encoded data removed]",
      "text/html": [
       "<img src=\"data:image/png;base64,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\" />"
      ],
      "image/svg+xml": [
       "<?xml version=\"1.0\" encoding=\"utf-8\" standalone=\"no\"?>\n",
       "<!DOCTYPE svg PUBLIC \"-//W3C//DTD SVG 1.1//EN\"\n",
       "  \"http://www.w3.org/Graphics/SVG/1.1/DTD/svg11.dtd\">\n",
       "<!-- Created with matplotlib (https://matplotlib.org/) -->\n",
       "<svg height=\"216pt\" version=\"1.1\" viewBox=\"0 0 288 216\" width=\"288pt\" xmlns=\"http://www.w3.org/2000/svg\" xmlns:xlink=\"http://www.w3.org/1999/xlink\">\n",
       " <metadata>\n",
       "  <rdf:RDF xmlns:cc=\"http://creativecommons.org/ns#\" xmlns:dc=\"http://purl.org/dc/elements/1.1/\" xmlns:rdf=\"http://www.w3.org/1999/02/22-rdf-syntax-ns#\">\n",
       "   <cc:Work>\n",
       "    <dc:type rdf:resource=\"http://purl.org/dc/dcmitype/StillImage\"/>\n",
       "    <dc:date>2021-03-28T07:42:13.683178</dc:date>\n",
       "    <dc:format>image/svg+xml</dc:format>\n",
       "    <dc:creator>\n",
       "     <cc:Agent>\n",
       "      <dc:title>Matplotlib v3.3.2, https://matplotlib.org/</dc:title>\n",
       "     </cc:Agent>\n",
       "    </dc:creator>\n",
       "   </cc:Work>\n",
       "  </rdf:RDF>\n",
       " </metadata>\n",
       " <defs>\n",
       "  <style type=\"text/css\">*{stroke-linecap:butt;stroke-linejoin:round;}</style>\n",
       " </defs>\n",
       " <g id=\"figure_1\">\n",
       "  <g id=\"patch_1\">\n",
       "   <path d=\"M 0 216 \n",
       "L 288 216 \n",
       "L 288 0 \n",
       "L 0 0 \n",
       "z\n",
       "\" style=\"fill:#ffffff;\"/>\n",
       "  </g>\n",
       "  <g id=\"axes_1\">\n",
       "   <g id=\"patch_2\">\n",
       "    <path d=\"M 35.79834 186.225354 \n",
       "L 282.167229 186.225354 \n",
       "L 282.167229 6.434646 \n",
       "L 35.79834 6.434646 \n",
       "z\n",
       "\" style=\"fill:#ffffff;\"/>\n",
       "   </g>\n",
       "   <g id=\"line2d_1\">\n",
       "    <path clip-path=\"url(#pc46ed3bfa6)\" d=\"M 38.685126 -1 \n",
       "L 38.877951 12.555862 \n",
       "L 39.493873 41.405286 \n",
       "L 40.109795 61.997089 \n",
       "L 40.725717 77.427859 \n",
       "L 41.34164 89.417919 \n",
       "L 41.957562 98.999461 \n",
       "L 43.189406 113.345428 \n",
       "L 44.421251 123.562302 \n",
       "L 45.653095 131.198331 \n",
       "L 46.88494 137.113628 \n",
       "L 48.116784 141.824241 \n",
       "L 49.348628 145.658546 \n",
       "L 50.580473 148.835443 \n",
       "L 51.812317 151.50646 \n",
       "L 53.044162 153.77982 \n",
       "L 54.891928 156.61222 \n",
       "L 56.739695 158.914011 \n",
       "L 58.587462 160.813646 \n",
       "L 60.435228 162.400988 \n",
       "L 62.282995 163.740766 \n",
       "L 64.746684 165.222878 \n",
       "L 67.210373 166.430875 \n",
       "L 70.289984 167.64257 \n",
       "L 73.369595 168.59607 \n",
       "L 77.065129 169.476544 \n",
       "L 80.760662 170.131212 \n",
       "L 85.072117 170.670012 \n",
       "L 89.999495 171.048905 \n",
       "L 95.542795 171.231364 \n",
       "L 101.086095 171.199235 \n",
       "L 107.245318 170.946446 \n",
       "L 114.020462 170.430909 \n",
       "L 120.795607 169.681717 \n",
       "L 127.570751 168.703679 \n",
       "L 134.345895 167.493635 \n",
       "L 141.12104 166.042342 \n",
       "L 147.280262 164.501801 \n",
       "L 153.439484 162.736546 \n",
       "L 159.598707 160.730303 \n",
       "L 165.142007 158.703238 \n",
       "L 170.685307 156.450629 \n",
       "L 176.228607 153.955759 \n",
       "L 181.771907 151.20044 \n",
       "L 186.699285 148.516764 \n",
       "L 191.626662 145.597009 \n",
       "L 196.55404 142.425458 \n",
       "L 201.481418 138.985449 \n",
       "L 206.408796 135.25936 \n",
       "L 211.336174 131.228591 \n",
       "L 216.263551 126.873545 \n",
       "L 220.575007 122.780691 \n",
       "L 224.886462 118.409333 \n",
       "L 229.197918 113.744391 \n",
       "L 233.509374 108.770151 \n",
       "L 237.820829 103.470255 \n",
       "L 242.132285 97.82769 \n",
       "L 246.44374 91.824774 \n",
       "L 250.755196 85.443143 \n",
       "L 255.066651 78.66374 \n",
       "L 259.378107 71.466798 \n",
       "L 263.689563 63.831834 \n",
       "L 268.001018 55.737628 \n",
       "L 272.312474 47.162216 \n",
       "L 276.623929 38.082871 \n",
       "L 280.935385 28.476096 \n",
       "L 285.24684 18.317605 \n",
       "L 289 9.005331 \n",
       "L 289 9.005331 \n",
       "\" style=\"fill:none;stroke:#009afa;\"/>\n",
       "   </g>\n",
       "   <g id=\"matplotlib.axis_1\">\n",
       "    <g id=\"xtick_1\">\n",
       "     <g id=\"line2d_2\">\n",
       "      <defs>\n",
       "       <path d=\"M 0 0 \n",
       "L 0 -2.5 \n",
       "\" id=\"m55e933f87a\" style=\"stroke:#000000;stroke-width:0.5;\"/>\n",
       "      </defs>\n",
       "      <g>\n",
       "       <use style=\"stroke:#000000;stroke-width:0.5;\" x=\"35.79834\" xlink:href=\"#m55e933f87a\" y=\"186.225354\"/>\n",
       "      </g>\n",
       "     </g>\n",
       "     <g id=\"text_1\">\n",
       "      <!-- $\\mathregular{0}$ -->\n",
       "      <g transform=\"translate(33.23834 195.804104)scale(0.08 -0.08)\">\n",
       "       <defs>\n",
       "        <path d=\"M 31.78125 66.40625 \n",
       "Q 24.171875 66.40625 20.328125 58.90625 \n",
       "Q 16.5 51.421875 16.5 36.375 \n",
       "Q 16.5 21.390625 20.328125 13.890625 \n",
       "Q 24.171875 6.390625 31.78125 6.390625 \n",
       "Q 39.453125 6.390625 43.28125 13.890625 \n",
       "Q 47.125 21.390625 47.125 36.375 \n",
       "Q 47.125 51.421875 43.28125 58.90625 \n",
       "Q 39.453125 66.40625 31.78125 66.40625 \n",
       "z\n",
       "M 31.78125 74.21875 \n",
       "Q 44.046875 74.21875 50.515625 64.515625 \n",
       "Q 56.984375 54.828125 56.984375 36.375 \n",
       "Q 56.984375 17.96875 50.515625 8.265625 \n",
       "Q 44.046875 -1.421875 31.78125 -1.421875 \n",
       "Q 19.53125 -1.421875 13.0625 8.265625 \n",
       "Q 6.59375 17.96875 6.59375 36.375 \n",
       "Q 6.59375 54.828125 13.0625 64.515625 \n",
       "Q 19.53125 74.21875 31.78125 74.21875 \n",
       "z\n",
       "\" id=\"DejaVuSans-48\"/>\n",
       "       </defs>\n",
       "       <use transform=\"translate(0 0.78125)\" xlink:href=\"#DejaVuSans-48\"/>\n",
       "      </g>\n",
       "     </g>\n",
       "    </g>\n",
       "    <g id=\"xtick_2\">\n",
       "     <g id=\"line2d_3\">\n",
       "      <g>\n",
       "       <use style=\"stroke:#000000;stroke-width:0.5;\" x=\"97.390562\" xlink:href=\"#m55e933f87a\" y=\"186.225354\"/>\n",
       "      </g>\n",
       "     </g>\n",
       "     <g id=\"text_2\">\n",
       "      <!-- $\\mathregular{1}$ -->\n",
       "      <g transform=\"translate(94.830562 195.804104)scale(0.08 -0.08)\">\n",
       "       <defs>\n",
       "        <path d=\"M 12.40625 8.296875 \n",
       "L 28.515625 8.296875 \n",
       "L 28.515625 63.921875 \n",
       "L 10.984375 60.40625 \n",
       "L 10.984375 69.390625 \n",
       "L 28.421875 72.90625 \n",
       "L 38.28125 72.90625 \n",
       "L 38.28125 8.296875 \n",
       "L 54.390625 8.296875 \n",
       "L 54.390625 0 \n",
       "L 12.40625 0 \n",
       "z\n",
       "\" id=\"DejaVuSans-49\"/>\n",
       "       </defs>\n",
       "       <use transform=\"translate(0 0.09375)\" xlink:href=\"#DejaVuSans-49\"/>\n",
       "      </g>\n",
       "     </g>\n",
       "    </g>\n",
       "    <g id=\"xtick_3\">\n",
       "     <g id=\"line2d_4\">\n",
       "      <g>\n",
       "       <use style=\"stroke:#000000;stroke-width:0.5;\" x=\"158.982784\" xlink:href=\"#m55e933f87a\" y=\"186.225354\"/>\n",
       "      </g>\n",
       "     </g>\n",
       "     <g id=\"text_3\">\n",
       "      <!-- $\\mathregular{2}$ -->\n",
       "      <g transform=\"translate(156.422784 195.804104)scale(0.08 -0.08)\">\n",
       "       <defs>\n",
       "        <path d=\"M 19.1875 8.296875 \n",
       "L 53.609375 8.296875 \n",
       "L 53.609375 0 \n",
       "L 7.328125 0 \n",
       "L 7.328125 8.296875 \n",
       "Q 12.9375 14.109375 22.625 23.890625 \n",
       "Q 32.328125 33.6875 34.8125 36.53125 \n",
       "Q 39.546875 41.84375 41.421875 45.53125 \n",
       "Q 43.3125 49.21875 43.3125 52.78125 \n",
       "Q 43.3125 58.59375 39.234375 62.25 \n",
       "Q 35.15625 65.921875 28.609375 65.921875 \n",
       "Q 23.96875 65.921875 18.8125 64.3125 \n",
       "Q 13.671875 62.703125 7.8125 59.421875 \n",
       "L 7.8125 69.390625 \n",
       "Q 13.765625 71.78125 18.9375 73 \n",
       "Q 24.125 74.21875 28.421875 74.21875 \n",
       "Q 39.75 74.21875 46.484375 68.546875 \n",
       "Q 53.21875 62.890625 53.21875 53.421875 \n",
       "Q 53.21875 48.921875 51.53125 44.890625 \n",
       "Q 49.859375 40.875 45.40625 35.40625 \n",
       "Q 44.1875 33.984375 37.640625 27.21875 \n",
       "Q 31.109375 20.453125 19.1875 8.296875 \n",
       "z\n",
       "\" id=\"DejaVuSans-50\"/>\n",
       "       </defs>\n",
       "       <use transform=\"translate(0 0.78125)\" xlink:href=\"#DejaVuSans-50\"/>\n",
       "      </g>\n",
       "     </g>\n",
       "    </g>\n",
       "    <g id=\"xtick_4\">\n",
       "     <g id=\"line2d_5\">\n",
       "      <g>\n",
       "       <use style=\"stroke:#000000;stroke-width:0.5;\" x=\"220.575007\" xlink:href=\"#m55e933f87a\" y=\"186.225354\"/>\n",
       "      </g>\n",
       "     </g>\n",
       "     <g id=\"text_4\">\n",
       "      <!-- $\\mathregular{3}$ -->\n",
       "      <g transform=\"translate(218.015007 195.804104)scale(0.08 -0.08)\">\n",
       "       <defs>\n",
       "        <path d=\"M 40.578125 39.3125 \n",
       "Q 47.65625 37.796875 51.625 33 \n",
       "Q 55.609375 28.21875 55.609375 21.1875 \n",
       "Q 55.609375 10.40625 48.1875 4.484375 \n",
       "Q 40.765625 -1.421875 27.09375 -1.421875 \n",
       "Q 22.515625 -1.421875 17.65625 -0.515625 \n",
       "Q 12.796875 0.390625 7.625 2.203125 \n",
       "L 7.625 11.71875 \n",
       "Q 11.71875 9.328125 16.59375 8.109375 \n",
       "Q 21.484375 6.890625 26.8125 6.890625 \n",
       "Q 36.078125 6.890625 40.9375 10.546875 \n",
       "Q 45.796875 14.203125 45.796875 21.1875 \n",
       "Q 45.796875 27.640625 41.28125 31.265625 \n",
       "Q 36.765625 34.90625 28.71875 34.90625 \n",
       "L 20.21875 34.90625 \n",
       "L 20.21875 43.015625 \n",
       "L 29.109375 43.015625 \n",
       "Q 36.375 43.015625 40.234375 45.921875 \n",
       "Q 44.09375 48.828125 44.09375 54.296875 \n",
       "Q 44.09375 59.90625 40.109375 62.90625 \n",
       "Q 36.140625 65.921875 28.71875 65.921875 \n",
       "Q 24.65625 65.921875 20.015625 65.03125 \n",
       "Q 15.375 64.15625 9.8125 62.3125 \n",
       "L 9.8125 71.09375 \n",
       "Q 15.4375 72.65625 20.34375 73.4375 \n",
       "Q 25.25 74.21875 29.59375 74.21875 \n",
       "Q 40.828125 74.21875 47.359375 69.109375 \n",
       "Q 53.90625 64.015625 53.90625 55.328125 \n",
       "Q 53.90625 49.265625 50.4375 45.09375 \n",
       "Q 46.96875 40.921875 40.578125 39.3125 \n",
       "z\n",
       "\" id=\"DejaVuSans-51\"/>\n",
       "       </defs>\n",
       "       <use transform=\"translate(0 0.78125)\" xlink:href=\"#DejaVuSans-51\"/>\n",
       "      </g>\n",
       "     </g>\n",
       "    </g>\n",
       "    <g id=\"xtick_5\">\n",
       "     <g id=\"line2d_6\">\n",
       "      <g>\n",
       "       <use style=\"stroke:#000000;stroke-width:0.5;\" x=\"282.167229\" xlink:href=\"#m55e933f87a\" y=\"186.225354\"/>\n",
       "      </g>\n",
       "     </g>\n",
       "     <g id=\"text_5\">\n",
       "      <!-- $\\mathregular{4}$ -->\n",
       "      <g transform=\"translate(279.607229 195.804104)scale(0.08 -0.08)\">\n",
       "       <defs>\n",
       "        <path d=\"M 37.796875 64.3125 \n",
       "L 12.890625 25.390625 \n",
       "L 37.796875 25.390625 \n",
       "z\n",
       "M 35.203125 72.90625 \n",
       "L 47.609375 72.90625 \n",
       "L 47.609375 25.390625 \n",
       "L 58.015625 25.390625 \n",
       "L 58.015625 17.1875 \n",
       "L 47.609375 17.1875 \n",
       "L 47.609375 0 \n",
       "L 37.796875 0 \n",
       "L 37.796875 17.1875 \n",
       "L 4.890625 17.1875 \n",
       "L 4.890625 26.703125 \n",
       "z\n",
       "\" id=\"DejaVuSans-52\"/>\n",
       "       </defs>\n",
       "       <use transform=\"translate(0 0.09375)\" xlink:href=\"#DejaVuSans-52\"/>\n",
       "      </g>\n",
       "     </g>\n",
       "    </g>\n",
       "    <g id=\"text_6\">\n",
       "     <!-- Mach number -->\n",
       "     <g transform=\"translate(121.143644 209.826136)scale(0.11 -0.11)\">\n",
       "      <defs>\n",
       "       <path d=\"M 9.8125 72.90625 \n",
       "L 24.515625 72.90625 \n",
       "L 43.109375 23.296875 \n",
       "L 61.8125 72.90625 \n",
       "L 76.515625 72.90625 \n",
       "L 76.515625 0 \n",
       "L 66.890625 0 \n",
       "L 66.890625 64.015625 \n",
       "L 48.09375 14.015625 \n",
       "L 38.1875 14.015625 \n",
       "L 19.390625 64.015625 \n",
       "L 19.390625 0 \n",
       "L 9.8125 0 \n",
       "z\n",
       "\" id=\"DejaVuSans-77\"/>\n",
       "       <path d=\"M 34.28125 27.484375 \n",
       "Q 23.390625 27.484375 19.1875 25 \n",
       "Q 14.984375 22.515625 14.984375 16.5 \n",
       "Q 14.984375 11.71875 18.140625 8.90625 \n",
       "Q 21.296875 6.109375 26.703125 6.109375 \n",
       "Q 34.1875 6.109375 38.703125 11.40625 \n",
       "Q 43.21875 16.703125 43.21875 25.484375 \n",
       "L 43.21875 27.484375 \n",
       "z\n",
       "M 52.203125 31.203125 \n",
       "L 52.203125 0 \n",
       "L 43.21875 0 \n",
       "L 43.21875 8.296875 \n",
       "Q 40.140625 3.328125 35.546875 0.953125 \n",
       "Q 30.953125 -1.421875 24.3125 -1.421875 \n",
       "Q 15.921875 -1.421875 10.953125 3.296875 \n",
       "Q 6 8.015625 6 15.921875 \n",
       "Q 6 25.140625 12.171875 29.828125 \n",
       "Q 18.359375 34.515625 30.609375 34.515625 \n",
       "L 43.21875 34.515625 \n",
       "L 43.21875 35.40625 \n",
       "Q 43.21875 41.609375 39.140625 45 \n",
       "Q 35.0625 48.390625 27.6875 48.390625 \n",
       "Q 23 48.390625 18.546875 47.265625 \n",
       "Q 14.109375 46.140625 10.015625 43.890625 \n",
       "L 10.015625 52.203125 \n",
       "Q 14.9375 54.109375 19.578125 55.046875 \n",
       "Q 24.21875 56 28.609375 56 \n",
       "Q 40.484375 56 46.34375 49.84375 \n",
       "Q 52.203125 43.703125 52.203125 31.203125 \n",
       "z\n",
       "\" id=\"DejaVuSans-97\"/>\n",
       "       <path d=\"M 48.78125 52.59375 \n",
       "L 48.78125 44.1875 \n",
       "Q 44.96875 46.296875 41.140625 47.34375 \n",
       "Q 37.3125 48.390625 33.40625 48.390625 \n",
       "Q 24.65625 48.390625 19.8125 42.84375 \n",
       "Q 14.984375 37.3125 14.984375 27.296875 \n",
       "Q 14.984375 17.28125 19.8125 11.734375 \n",
       "Q 24.65625 6.203125 33.40625 6.203125 \n",
       "Q 37.3125 6.203125 41.140625 7.25 \n",
       "Q 44.96875 8.296875 48.78125 10.40625 \n",
       "L 48.78125 2.09375 \n",
       "Q 45.015625 0.34375 40.984375 -0.53125 \n",
       "Q 36.96875 -1.421875 32.421875 -1.421875 \n",
       "Q 20.0625 -1.421875 12.78125 6.34375 \n",
       "Q 5.515625 14.109375 5.515625 27.296875 \n",
       "Q 5.515625 40.671875 12.859375 48.328125 \n",
       "Q 20.21875 56 33.015625 56 \n",
       "Q 37.15625 56 41.109375 55.140625 \n",
       "Q 45.0625 54.296875 48.78125 52.59375 \n",
       "z\n",
       "\" id=\"DejaVuSans-99\"/>\n",
       "       <path d=\"M 54.890625 33.015625 \n",
       "L 54.890625 0 \n",
       "L 45.90625 0 \n",
       "L 45.90625 32.71875 \n",
       "Q 45.90625 40.484375 42.875 44.328125 \n",
       "Q 39.84375 48.1875 33.796875 48.1875 \n",
       "Q 26.515625 48.1875 22.3125 43.546875 \n",
       "Q 18.109375 38.921875 18.109375 30.90625 \n",
       "L 18.109375 0 \n",
       "L 9.078125 0 \n",
       "L 9.078125 75.984375 \n",
       "L 18.109375 75.984375 \n",
       "L 18.109375 46.1875 \n",
       "Q 21.34375 51.125 25.703125 53.5625 \n",
       "Q 30.078125 56 35.796875 56 \n",
       "Q 45.21875 56 50.046875 50.171875 \n",
       "Q 54.890625 44.34375 54.890625 33.015625 \n",
       "z\n",
       "\" id=\"DejaVuSans-104\"/>\n",
       "       <path id=\"DejaVuSans-32\"/>\n",
       "       <path d=\"M 54.890625 33.015625 \n",
       "L 54.890625 0 \n",
       "L 45.90625 0 \n",
       "L 45.90625 32.71875 \n",
       "Q 45.90625 40.484375 42.875 44.328125 \n",
       "Q 39.84375 48.1875 33.796875 48.1875 \n",
       "Q 26.515625 48.1875 22.3125 43.546875 \n",
       "Q 18.109375 38.921875 18.109375 30.90625 \n",
       "L 18.109375 0 \n",
       "L 9.078125 0 \n",
       "L 9.078125 54.6875 \n",
       "L 18.109375 54.6875 \n",
       "L 18.109375 46.1875 \n",
       "Q 21.34375 51.125 25.703125 53.5625 \n",
       "Q 30.078125 56 35.796875 56 \n",
       "Q 45.21875 56 50.046875 50.171875 \n",
       "Q 54.890625 44.34375 54.890625 33.015625 \n",
       "z\n",
       "\" id=\"DejaVuSans-110\"/>\n",
       "       <path d=\"M 8.5 21.578125 \n",
       "L 8.5 54.6875 \n",
       "L 17.484375 54.6875 \n",
       "L 17.484375 21.921875 \n",
       "Q 17.484375 14.15625 20.5 10.265625 \n",
       "Q 23.53125 6.390625 29.59375 6.390625 \n",
       "Q 36.859375 6.390625 41.078125 11.03125 \n",
       "Q 45.3125 15.671875 45.3125 23.6875 \n",
       "L 45.3125 54.6875 \n",
       "L 54.296875 54.6875 \n",
       "L 54.296875 0 \n",
       "L 45.3125 0 \n",
       "L 45.3125 8.40625 \n",
       "Q 42.046875 3.421875 37.71875 1 \n",
       "Q 33.40625 -1.421875 27.6875 -1.421875 \n",
       "Q 18.265625 -1.421875 13.375 4.4375 \n",
       "Q 8.5 10.296875 8.5 21.578125 \n",
       "z\n",
       "M 31.109375 56 \n",
       "z\n",
       "\" id=\"DejaVuSans-117\"/>\n",
       "       <path d=\"M 52 44.1875 \n",
       "Q 55.375 50.25 60.0625 53.125 \n",
       "Q 64.75 56 71.09375 56 \n",
       "Q 79.640625 56 84.28125 50.015625 \n",
       "Q 88.921875 44.046875 88.921875 33.015625 \n",
       "L 88.921875 0 \n",
       "L 79.890625 0 \n",
       "L 79.890625 32.71875 \n",
       "Q 79.890625 40.578125 77.09375 44.375 \n",
       "Q 74.3125 48.1875 68.609375 48.1875 \n",
       "Q 61.625 48.1875 57.5625 43.546875 \n",
       "Q 53.515625 38.921875 53.515625 30.90625 \n",
       "L 53.515625 0 \n",
       "L 44.484375 0 \n",
       "L 44.484375 32.71875 \n",
       "Q 44.484375 40.625 41.703125 44.40625 \n",
       "Q 38.921875 48.1875 33.109375 48.1875 \n",
       "Q 26.21875 48.1875 22.15625 43.53125 \n",
       "Q 18.109375 38.875 18.109375 30.90625 \n",
       "L 18.109375 0 \n",
       "L 9.078125 0 \n",
       "L 9.078125 54.6875 \n",
       "L 18.109375 54.6875 \n",
       "L 18.109375 46.1875 \n",
       "Q 21.1875 51.21875 25.484375 53.609375 \n",
       "Q 29.78125 56 35.6875 56 \n",
       "Q 41.65625 56 45.828125 52.96875 \n",
       "Q 50 49.953125 52 44.1875 \n",
       "z\n",
       "\" id=\"DejaVuSans-109\"/>\n",
       "       <path d=\"M 48.6875 27.296875 \n",
       "Q 48.6875 37.203125 44.609375 42.84375 \n",
       "Q 40.53125 48.484375 33.40625 48.484375 \n",
       "Q 26.265625 48.484375 22.1875 42.84375 \n",
       "Q 18.109375 37.203125 18.109375 27.296875 \n",
       "Q 18.109375 17.390625 22.1875 11.75 \n",
       "Q 26.265625 6.109375 33.40625 6.109375 \n",
       "Q 40.53125 6.109375 44.609375 11.75 \n",
       "Q 48.6875 17.390625 48.6875 27.296875 \n",
       "z\n",
       "M 18.109375 46.390625 \n",
       "Q 20.953125 51.265625 25.265625 53.625 \n",
       "Q 29.59375 56 35.59375 56 \n",
       "Q 45.5625 56 51.78125 48.09375 \n",
       "Q 58.015625 40.1875 58.015625 27.296875 \n",
       "Q 58.015625 14.40625 51.78125 6.484375 \n",
       "Q 45.5625 -1.421875 35.59375 -1.421875 \n",
       "Q 29.59375 -1.421875 25.265625 0.953125 \n",
       "Q 20.953125 3.328125 18.109375 8.203125 \n",
       "L 18.109375 0 \n",
       "L 9.078125 0 \n",
       "L 9.078125 75.984375 \n",
       "L 18.109375 75.984375 \n",
       "z\n",
       "\" id=\"DejaVuSans-98\"/>\n",
       "       <path d=\"M 56.203125 29.59375 \n",
       "L 56.203125 25.203125 \n",
       "L 14.890625 25.203125 \n",
       "Q 15.484375 15.921875 20.484375 11.0625 \n",
       "Q 25.484375 6.203125 34.421875 6.203125 \n",
       "Q 39.59375 6.203125 44.453125 7.46875 \n",
       "Q 49.3125 8.734375 54.109375 11.28125 \n",
       "L 54.109375 2.78125 \n",
       "Q 49.265625 0.734375 44.1875 -0.34375 \n",
       "Q 39.109375 -1.421875 33.890625 -1.421875 \n",
       "Q 20.796875 -1.421875 13.15625 6.1875 \n",
       "Q 5.515625 13.8125 5.515625 26.8125 \n",
       "Q 5.515625 40.234375 12.765625 48.109375 \n",
       "Q 20.015625 56 32.328125 56 \n",
       "Q 43.359375 56 49.78125 48.890625 \n",
       "Q 56.203125 41.796875 56.203125 29.59375 \n",
       "z\n",
       "M 47.21875 32.234375 \n",
       "Q 47.125 39.59375 43.09375 43.984375 \n",
       "Q 39.0625 48.390625 32.421875 48.390625 \n",
       "Q 24.90625 48.390625 20.390625 44.140625 \n",
       "Q 15.875 39.890625 15.1875 32.171875 \n",
       "z\n",
       "\" id=\"DejaVuSans-101\"/>\n",
       "       <path d=\"M 41.109375 46.296875 \n",
       "Q 39.59375 47.171875 37.8125 47.578125 \n",
       "Q 36.03125 48 33.890625 48 \n",
       "Q 26.265625 48 22.1875 43.046875 \n",
       "Q 18.109375 38.09375 18.109375 28.8125 \n",
       "L 18.109375 0 \n",
       "L 9.078125 0 \n",
       "L 9.078125 54.6875 \n",
       "L 18.109375 54.6875 \n",
       "L 18.109375 46.1875 \n",
       "Q 20.953125 51.171875 25.484375 53.578125 \n",
       "Q 30.03125 56 36.53125 56 \n",
       "Q 37.453125 56 38.578125 55.875 \n",
       "Q 39.703125 55.765625 41.0625 55.515625 \n",
       "z\n",
       "\" id=\"DejaVuSans-114\"/>\n",
       "      </defs>\n",
       "      <use xlink:href=\"#DejaVuSans-77\"/>\n",
       "      <use x=\"86.279297\" xlink:href=\"#DejaVuSans-97\"/>\n",
       "      <use x=\"147.558594\" xlink:href=\"#DejaVuSans-99\"/>\n",
       "      <use x=\"202.539062\" xlink:href=\"#DejaVuSans-104\"/>\n",
       "      <use x=\"265.917969\" xlink:href=\"#DejaVuSans-32\"/>\n",
       "      <use x=\"297.705078\" xlink:href=\"#DejaVuSans-110\"/>\n",
       "      <use x=\"361.083984\" xlink:href=\"#DejaVuSans-117\"/>\n",
       "      <use x=\"424.462891\" xlink:href=\"#DejaVuSans-109\"/>\n",
       "      <use x=\"521.875\" xlink:href=\"#DejaVuSans-98\"/>\n",
       "      <use x=\"585.351562\" xlink:href=\"#DejaVuSans-101\"/>\n",
       "      <use x=\"646.875\" xlink:href=\"#DejaVuSans-114\"/>\n",
       "     </g>\n",
       "    </g>\n",
       "   </g>\n",
       "   <g id=\"matplotlib.axis_2\">\n",
       "    <g id=\"ytick_1\">\n",
       "     <g id=\"line2d_7\">\n",
       "      <defs>\n",
       "       <path d=\"M 0 0 \n",
       "L 2.5 0 \n",
       "\" id=\"mf11abf9dca\" style=\"stroke:#000000;stroke-width:0.5;\"/>\n",
       "      </defs>\n",
       "      <g>\n",
       "       <use style=\"stroke:#000000;stroke-width:0.5;\" x=\"35.79834\" xlink:href=\"#mf11abf9dca\" y=\"186.225354\"/>\n",
       "      </g>\n",
       "     </g>\n",
       "     <g id=\"text_7\">\n",
       "      <!-- $\\mathregular{0}$ -->\n",
       "      <g transform=\"translate(27.17834 189.264729)scale(0.08 -0.08)\">\n",
       "       <use transform=\"translate(0 0.78125)\" xlink:href=\"#DejaVuSans-48\"/>\n",
       "      </g>\n",
       "     </g>\n",
       "    </g>\n",
       "    <g id=\"ytick_2\">\n",
       "     <g id=\"line2d_8\">\n",
       "      <g>\n",
       "       <use style=\"stroke:#000000;stroke-width:0.5;\" x=\"35.79834\" xlink:href=\"#mf11abf9dca\" y=\"171.242795\"/>\n",
       "      </g>\n",
       "     </g>\n",
       "     <g id=\"text_8\">\n",
       "      <!-- $\\mathregular{1}$ -->\n",
       "      <g transform=\"translate(27.17834 174.28217)scale(0.08 -0.08)\">\n",
       "       <use transform=\"translate(0 0.09375)\" xlink:href=\"#DejaVuSans-49\"/>\n",
       "      </g>\n",
       "     </g>\n",
       "    </g>\n",
       "    <g id=\"ytick_3\">\n",
       "     <g id=\"line2d_9\">\n",
       "      <g>\n",
       "       <use style=\"stroke:#000000;stroke-width:0.5;\" x=\"35.79834\" xlink:href=\"#mf11abf9dca\" y=\"156.260236\"/>\n",
       "      </g>\n",
       "     </g>\n",
       "     <g id=\"text_9\">\n",
       "      <!-- $\\mathregular{2}$ -->\n",
       "      <g transform=\"translate(27.17834 159.299611)scale(0.08 -0.08)\">\n",
       "       <use transform=\"translate(0 0.78125)\" xlink:href=\"#DejaVuSans-50\"/>\n",
       "      </g>\n",
       "     </g>\n",
       "    </g>\n",
       "    <g id=\"ytick_4\">\n",
       "     <g id=\"line2d_10\">\n",
       "      <g>\n",
       "       <use style=\"stroke:#000000;stroke-width:0.5;\" x=\"35.79834\" xlink:href=\"#mf11abf9dca\" y=\"141.277677\"/>\n",
       "      </g>\n",
       "     </g>\n",
       "     <g id=\"text_10\">\n",
       "      <!-- $\\mathregular{3}$ -->\n",
       "      <g transform=\"translate(27.17834 144.317052)scale(0.08 -0.08)\">\n",
       "       <use transform=\"translate(0 0.78125)\" xlink:href=\"#DejaVuSans-51\"/>\n",
       "      </g>\n",
       "     </g>\n",
       "    </g>\n",
       "    <g id=\"ytick_5\">\n",
       "     <g id=\"line2d_11\">\n",
       "      <g>\n",
       "       <use style=\"stroke:#000000;stroke-width:0.5;\" x=\"35.79834\" xlink:href=\"#mf11abf9dca\" y=\"126.295118\"/>\n",
       "      </g>\n",
       "     </g>\n",
       "     <g id=\"text_11\">\n",
       "      <!-- $\\mathregular{4}$ -->\n",
       "      <g transform=\"translate(27.17834 129.334493)scale(0.08 -0.08)\">\n",
       "       <use transform=\"translate(0 0.09375)\" xlink:href=\"#DejaVuSans-52\"/>\n",
       "      </g>\n",
       "     </g>\n",
       "    </g>\n",
       "    <g id=\"ytick_6\">\n",
       "     <g id=\"line2d_12\">\n",
       "      <g>\n",
       "       <use style=\"stroke:#000000;stroke-width:0.5;\" x=\"35.79834\" xlink:href=\"#mf11abf9dca\" y=\"111.312559\"/>\n",
       "      </g>\n",
       "     </g>\n",
       "     <g id=\"text_12\">\n",
       "      <!-- $\\mathregular{5}$ -->\n",
       "      <g transform=\"translate(27.17834 114.351934)scale(0.08 -0.08)\">\n",
       "       <defs>\n",
       "        <path d=\"M 10.796875 72.90625 \n",
       "L 49.515625 72.90625 \n",
       "L 49.515625 64.59375 \n",
       "L 19.828125 64.59375 \n",
       "L 19.828125 46.734375 \n",
       "Q 21.96875 47.46875 24.109375 47.828125 \n",
       "Q 26.265625 48.1875 28.421875 48.1875 \n",
       "Q 40.625 48.1875 47.75 41.5 \n",
       "Q 54.890625 34.8125 54.890625 23.390625 \n",
       "Q 54.890625 11.625 47.5625 5.09375 \n",
       "Q 40.234375 -1.421875 26.90625 -1.421875 \n",
       "Q 22.3125 -1.421875 17.546875 -0.640625 \n",
       "Q 12.796875 0.140625 7.71875 1.703125 \n",
       "L 7.71875 11.625 \n",
       "Q 12.109375 9.234375 16.796875 8.0625 \n",
       "Q 21.484375 6.890625 26.703125 6.890625 \n",
       "Q 35.15625 6.890625 40.078125 11.328125 \n",
       "Q 45.015625 15.765625 45.015625 23.390625 \n",
       "Q 45.015625 31 40.078125 35.4375 \n",
       "Q 35.15625 39.890625 26.703125 39.890625 \n",
       "Q 22.75 39.890625 18.8125 39.015625 \n",
       "Q 14.890625 38.140625 10.796875 36.28125 \n",
       "z\n",
       "\" id=\"DejaVuSans-53\"/>\n",
       "       </defs>\n",
       "       <use transform=\"translate(0 0.09375)\" xlink:href=\"#DejaVuSans-53\"/>\n",
       "      </g>\n",
       "     </g>\n",
       "    </g>\n",
       "    <g id=\"ytick_7\">\n",
       "     <g id=\"line2d_13\">\n",
       "      <g>\n",
       "       <use style=\"stroke:#000000;stroke-width:0.5;\" x=\"35.79834\" xlink:href=\"#mf11abf9dca\" y=\"96.33\"/>\n",
       "      </g>\n",
       "     </g>\n",
       "     <g id=\"text_13\">\n",
       "      <!-- $\\mathregular{6}$ -->\n",
       "      <g transform=\"translate(27.17834 99.369375)scale(0.08 -0.08)\">\n",
       "       <defs>\n",
       "        <path d=\"M 33.015625 40.375 \n",
       "Q 26.375 40.375 22.484375 35.828125 \n",
       "Q 18.609375 31.296875 18.609375 23.390625 \n",
       "Q 18.609375 15.53125 22.484375 10.953125 \n",
       "Q 26.375 6.390625 33.015625 6.390625 \n",
       "Q 39.65625 6.390625 43.53125 10.953125 \n",
       "Q 47.40625 15.53125 47.40625 23.390625 \n",
       "Q 47.40625 31.296875 43.53125 35.828125 \n",
       "Q 39.65625 40.375 33.015625 40.375 \n",
       "z\n",
       "M 52.59375 71.296875 \n",
       "L 52.59375 62.3125 \n",
       "Q 48.875 64.0625 45.09375 64.984375 \n",
       "Q 41.3125 65.921875 37.59375 65.921875 \n",
       "Q 27.828125 65.921875 22.671875 59.328125 \n",
       "Q 17.53125 52.734375 16.796875 39.40625 \n",
       "Q 19.671875 43.65625 24.015625 45.921875 \n",
       "Q 28.375 48.1875 33.59375 48.1875 \n",
       "Q 44.578125 48.1875 50.953125 41.515625 \n",
       "Q 57.328125 34.859375 57.328125 23.390625 \n",
       "Q 57.328125 12.15625 50.6875 5.359375 \n",
       "Q 44.046875 -1.421875 33.015625 -1.421875 \n",
       "Q 20.359375 -1.421875 13.671875 8.265625 \n",
       "Q 6.984375 17.96875 6.984375 36.375 \n",
       "Q 6.984375 53.65625 15.1875 63.9375 \n",
       "Q 23.390625 74.21875 37.203125 74.21875 \n",
       "Q 40.921875 74.21875 44.703125 73.484375 \n",
       "Q 48.484375 72.75 52.59375 71.296875 \n",
       "z\n",
       "\" id=\"DejaVuSans-54\"/>\n",
       "       </defs>\n",
       "       <use transform=\"translate(0 0.78125)\" xlink:href=\"#DejaVuSans-54\"/>\n",
       "      </g>\n",
       "     </g>\n",
       "    </g>\n",
       "    <g id=\"ytick_8\">\n",
       "     <g id=\"line2d_14\">\n",
       "      <g>\n",
       "       <use style=\"stroke:#000000;stroke-width:0.5;\" x=\"35.79834\" xlink:href=\"#mf11abf9dca\" y=\"81.347441\"/>\n",
       "      </g>\n",
       "     </g>\n",
       "     <g id=\"text_14\">\n",
       "      <!-- $\\mathregular{7}$ -->\n",
       "      <g transform=\"translate(27.17834 84.386816)scale(0.08 -0.08)\">\n",
       "       <defs>\n",
       "        <path d=\"M 8.203125 72.90625 \n",
       "L 55.078125 72.90625 \n",
       "L 55.078125 68.703125 \n",
       "L 28.609375 0 \n",
       "L 18.3125 0 \n",
       "L 43.21875 64.59375 \n",
       "L 8.203125 64.59375 \n",
       "z\n",
       "\" id=\"DejaVuSans-55\"/>\n",
       "       </defs>\n",
       "       <use transform=\"translate(0 0.09375)\" xlink:href=\"#DejaVuSans-55\"/>\n",
       "      </g>\n",
       "     </g>\n",
       "    </g>\n",
       "    <g id=\"ytick_9\">\n",
       "     <g id=\"line2d_15\">\n",
       "      <g>\n",
       "       <use style=\"stroke:#000000;stroke-width:0.5;\" x=\"35.79834\" xlink:href=\"#mf11abf9dca\" y=\"66.364882\"/>\n",
       "      </g>\n",
       "     </g>\n",
       "     <g id=\"text_15\">\n",
       "      <!-- $\\mathregular{8}$ -->\n",
       "      <g transform=\"translate(27.17834 69.404257)scale(0.08 -0.08)\">\n",
       "       <defs>\n",
       "        <path d=\"M 31.78125 34.625 \n",
       "Q 24.75 34.625 20.71875 30.859375 \n",
       "Q 16.703125 27.09375 16.703125 20.515625 \n",
       "Q 16.703125 13.921875 20.71875 10.15625 \n",
       "Q 24.75 6.390625 31.78125 6.390625 \n",
       "Q 38.8125 6.390625 42.859375 10.171875 \n",
       "Q 46.921875 13.96875 46.921875 20.515625 \n",
       "Q 46.921875 27.09375 42.890625 30.859375 \n",
       "Q 38.875 34.625 31.78125 34.625 \n",
       "z\n",
       "M 21.921875 38.8125 \n",
       "Q 15.578125 40.375 12.03125 44.71875 \n",
       "Q 8.5 49.078125 8.5 55.328125 \n",
       "Q 8.5 64.0625 14.71875 69.140625 \n",
       "Q 20.953125 74.21875 31.78125 74.21875 \n",
       "Q 42.671875 74.21875 48.875 69.140625 \n",
       "Q 55.078125 64.0625 55.078125 55.328125 \n",
       "Q 55.078125 49.078125 51.53125 44.71875 \n",
       "Q 48 40.375 41.703125 38.8125 \n",
       "Q 48.828125 37.15625 52.796875 32.3125 \n",
       "Q 56.78125 27.484375 56.78125 20.515625 \n",
       "Q 56.78125 9.90625 50.3125 4.234375 \n",
       "Q 43.84375 -1.421875 31.78125 -1.421875 \n",
       "Q 19.734375 -1.421875 13.25 4.234375 \n",
       "Q 6.78125 9.90625 6.78125 20.515625 \n",
       "Q 6.78125 27.484375 10.78125 32.3125 \n",
       "Q 14.796875 37.15625 21.921875 38.8125 \n",
       "z\n",
       "M 18.3125 54.390625 \n",
       "Q 18.3125 48.734375 21.84375 45.5625 \n",
       "Q 25.390625 42.390625 31.78125 42.390625 \n",
       "Q 38.140625 42.390625 41.71875 45.5625 \n",
       "Q 45.3125 48.734375 45.3125 54.390625 \n",
       "Q 45.3125 60.0625 41.71875 63.234375 \n",
       "Q 38.140625 66.40625 31.78125 66.40625 \n",
       "Q 25.390625 66.40625 21.84375 63.234375 \n",
       "Q 18.3125 60.0625 18.3125 54.390625 \n",
       "z\n",
       "\" id=\"DejaVuSans-56\"/>\n",
       "       </defs>\n",
       "       <use transform=\"translate(0 0.78125)\" xlink:href=\"#DejaVuSans-56\"/>\n",
       "      </g>\n",
       "     </g>\n",
       "    </g>\n",
       "    <g id=\"ytick_10\">\n",
       "     <g id=\"line2d_16\">\n",
       "      <g>\n",
       "       <use style=\"stroke:#000000;stroke-width:0.5;\" x=\"35.79834\" xlink:href=\"#mf11abf9dca\" y=\"51.382323\"/>\n",
       "      </g>\n",
       "     </g>\n",
       "     <g id=\"text_16\">\n",
       "      <!-- $\\mathregular{9}$ -->\n",
       "      <g transform=\"translate(27.17834 54.421698)scale(0.08 -0.08)\">\n",
       "       <defs>\n",
       "        <path d=\"M 10.984375 1.515625 \n",
       "L 10.984375 10.5 \n",
       "Q 14.703125 8.734375 18.5 7.8125 \n",
       "Q 22.3125 6.890625 25.984375 6.890625 \n",
       "Q 35.75 6.890625 40.890625 13.453125 \n",
       "Q 46.046875 20.015625 46.78125 33.40625 \n",
       "Q 43.953125 29.203125 39.59375 26.953125 \n",
       "Q 35.25 24.703125 29.984375 24.703125 \n",
       "Q 19.046875 24.703125 12.671875 31.3125 \n",
       "Q 6.296875 37.9375 6.296875 49.421875 \n",
       "Q 6.296875 60.640625 12.9375 67.421875 \n",
       "Q 19.578125 74.21875 30.609375 74.21875 \n",
       "Q 43.265625 74.21875 49.921875 64.515625 \n",
       "Q 56.59375 54.828125 56.59375 36.375 \n",
       "Q 56.59375 19.140625 48.40625 8.859375 \n",
       "Q 40.234375 -1.421875 26.421875 -1.421875 \n",
       "Q 22.703125 -1.421875 18.890625 -0.6875 \n",
       "Q 15.09375 0.046875 10.984375 1.515625 \n",
       "z\n",
       "M 30.609375 32.421875 \n",
       "Q 37.25 32.421875 41.125 36.953125 \n",
       "Q 45.015625 41.5 45.015625 49.421875 \n",
       "Q 45.015625 57.28125 41.125 61.84375 \n",
       "Q 37.25 66.40625 30.609375 66.40625 \n",
       "Q 23.96875 66.40625 20.09375 61.84375 \n",
       "Q 16.21875 57.28125 16.21875 49.421875 \n",
       "Q 16.21875 41.5 20.09375 36.953125 \n",
       "Q 23.96875 32.421875 30.609375 32.421875 \n",
       "z\n",
       "\" id=\"DejaVuSans-57\"/>\n",
       "       </defs>\n",
       "       <use transform=\"translate(0 0.78125)\" xlink:href=\"#DejaVuSans-57\"/>\n",
       "      </g>\n",
       "     </g>\n",
       "    </g>\n",
       "    <g id=\"ytick_11\">\n",
       "     <g id=\"line2d_17\">\n",
       "      <g>\n",
       "       <use style=\"stroke:#000000;stroke-width:0.5;\" x=\"35.79834\" xlink:href=\"#mf11abf9dca\" y=\"36.399764\"/>\n",
       "      </g>\n",
       "     </g>\n",
       "     <g id=\"text_17\">\n",
       "      <!-- $\\mathregular{10}$ -->\n",
       "      <g transform=\"translate(22.05834 39.439139)scale(0.08 -0.08)\">\n",
       "       <use transform=\"translate(0 0.78125)\" xlink:href=\"#DejaVuSans-49\"/>\n",
       "       <use transform=\"translate(63.623047 0.78125)\" xlink:href=\"#DejaVuSans-48\"/>\n",
       "      </g>\n",
       "     </g>\n",
       "    </g>\n",
       "    <g id=\"ytick_12\">\n",
       "     <g id=\"line2d_18\">\n",
       "      <g>\n",
       "       <use style=\"stroke:#000000;stroke-width:0.5;\" x=\"35.79834\" xlink:href=\"#mf11abf9dca\" y=\"21.417205\"/>\n",
       "      </g>\n",
       "     </g>\n",
       "     <g id=\"text_18\">\n",
       "      <!-- $\\mathregular{11}$ -->\n",
       "      <g transform=\"translate(22.05834 24.45658)scale(0.08 -0.08)\">\n",
       "       <use transform=\"translate(0 0.09375)\" xlink:href=\"#DejaVuSans-49\"/>\n",
       "       <use transform=\"translate(63.623047 0.09375)\" xlink:href=\"#DejaVuSans-49\"/>\n",
       "      </g>\n",
       "     </g>\n",
       "    </g>\n",
       "    <g id=\"ytick_13\">\n",
       "     <g id=\"line2d_19\">\n",
       "      <g>\n",
       "       <use style=\"stroke:#000000;stroke-width:0.5;\" x=\"35.79834\" xlink:href=\"#mf11abf9dca\" y=\"6.434646\"/>\n",
       "      </g>\n",
       "     </g>\n",
       "     <g id=\"text_19\">\n",
       "      <!-- $\\mathregular{12}$ -->\n",
       "      <g transform=\"translate(22.05834 9.474021)scale(0.08 -0.08)\">\n",
       "       <use transform=\"translate(0 0.78125)\" xlink:href=\"#DejaVuSans-49\"/>\n",
       "       <use transform=\"translate(63.623047 0.78125)\" xlink:href=\"#DejaVuSans-50\"/>\n",
       "      </g>\n",
       "     </g>\n",
       "    </g>\n",
       "    <g id=\"text_20\">\n",
       "     <!-- $A/A_*$ -->\n",
       "     <g transform=\"translate(15.30834 110.96)rotate(-90)scale(0.11 -0.11)\">\n",
       "      <defs>\n",
       "       <path d=\"M 4.5 0 \n",
       "Q 3.515625 0 3.515625 1.3125 \n",
       "Q 3.90625 3.515625 4.78125 3.515625 \n",
       "Q 8.84375 3.515625 11.796875 5.125 \n",
       "Q 14.75 6.734375 16.890625 10.109375 \n",
       "Q 17.09375 10.296875 17.09375 10.296875 \n",
       "L 52.78125 70.515625 \n",
       "Q 53.5625 71.578125 54.6875 71.578125 \n",
       "L 56 71.578125 \n",
       "Q 56.296875 71.578125 56.59375 71.453125 \n",
       "Q 56.890625 71.34375 57.109375 71.0625 \n",
       "Q 57.328125 70.796875 57.328125 70.515625 \n",
       "L 63.375 5.90625 \n",
       "Q 63.375 5.46875 63.8125 4.59375 \n",
       "Q 64.796875 3.515625 71.296875 3.515625 \n",
       "Q 72.3125 3.515625 72.3125 2.203125 \n",
       "Q 71.96875 0.875 71.75 0.4375 \n",
       "Q 71.53125 0 70.609375 0 \n",
       "L 45.609375 0 \n",
       "Q 44.671875 0 44.671875 1.3125 \n",
       "Q 45.21875 3.515625 46 3.515625 \n",
       "Q 53.90625 3.515625 54.390625 6.203125 \n",
       "L 52.875 22.703125 \n",
       "L 28.21875 22.703125 \n",
       "L 20.21875 9.28125 \n",
       "Q 19.484375 8.203125 19.484375 6.78125 \n",
       "Q 19.484375 5.03125 21.171875 4.265625 \n",
       "Q 22.859375 3.515625 24.90625 3.515625 \n",
       "Q 25.875 3.515625 25.875 2.203125 \n",
       "Q 25.53125 0.78125 25.328125 0.390625 \n",
       "Q 25.140625 0 24.21875 0 \n",
       "z\n",
       "M 30.171875 26.21875 \n",
       "L 52.484375 26.21875 \n",
       "L 49.515625 58.59375 \n",
       "z\n",
       "\" id=\"Cmmi10-65\"/>\n",
       "       <path d=\"M 5.609375 -23 \n",
       "Q 5.609375 -22.703125 5.71875 -22.609375 \n",
       "L 40.484375 73.78125 \n",
       "Q 40.671875 74.359375 41.15625 74.671875 \n",
       "Q 41.65625 75 42.28125 75 \n",
       "Q 43.171875 75 43.71875 74.453125 \n",
       "Q 44.28125 73.921875 44.28125 73 \n",
       "L 44.28125 72.609375 \n",
       "L 9.515625 -23.78125 \n",
       "Q 8.9375 -25 7.625 -25 \n",
       "Q 6.78125 -25 6.1875 -24.40625 \n",
       "Q 5.609375 -23.828125 5.609375 -23 \n",
       "z\n",
       "\" id=\"Cmmi10-61\"/>\n",
       "       <path d=\"M 9.421875 12.703125 \n",
       "Q 8.296875 12.703125 7.390625 13.640625 \n",
       "Q 6.5 14.59375 6.5 15.71875 \n",
       "Q 6.5 17.4375 7.90625 18.109375 \n",
       "L 22.3125 25 \n",
       "L 7.90625 31.78125 \n",
       "Q 6.5 32.375 6.5 34.1875 \n",
       "Q 6.5 35.296875 7.390625 36.25 \n",
       "Q 8.296875 37.203125 9.421875 37.203125 \n",
       "Q 10.15625 37.203125 10.796875 36.71875 \n",
       "L 23.578125 27.390625 \n",
       "L 22.125 43.703125 \n",
       "Q 22.125 44.921875 22.953125 45.703125 \n",
       "Q 23.78125 46.484375 25 46.484375 \n",
       "Q 26.171875 46.484375 26.96875 45.75 \n",
       "Q 27.78125 45.015625 27.78125 43.890625 \n",
       "L 27.78125 43.703125 \n",
       "L 26.3125 27.390625 \n",
       "L 39.109375 36.71875 \n",
       "Q 39.75 37.203125 40.484375 37.203125 \n",
       "Q 41.703125 37.203125 42.546875 36.25 \n",
       "Q 43.40625 35.296875 43.40625 34.1875 \n",
       "Q 43.40625 32.375 42 31.78125 \n",
       "L 27.59375 25 \n",
       "L 42 18.109375 \n",
       "Q 43.40625 17.4375 43.40625 15.71875 \n",
       "Q 43.40625 14.59375 42.546875 13.640625 \n",
       "Q 41.703125 12.703125 40.484375 12.703125 \n",
       "Q 39.75 12.703125 39.109375 13.1875 \n",
       "L 26.3125 22.515625 \n",
       "L 27.78125 6.296875 \n",
       "L 27.78125 6 \n",
       "Q 27.78125 4.890625 26.921875 4.15625 \n",
       "Q 26.078125 3.421875 25 3.421875 \n",
       "Q 23.828125 3.421875 22.96875 4.21875 \n",
       "Q 22.125 5.03125 22.125 6.203125 \n",
       "L 23.578125 22.515625 \n",
       "L 10.796875 13.1875 \n",
       "Q 10.15625 12.703125 9.421875 12.703125 \n",
       "z\n",
       "\" id=\"Cmsy10-164\"/>\n",
       "      </defs>\n",
       "      <use xlink:href=\"#Cmmi10-65\"/>\n",
       "      <use transform=\"translate(75 0)\" xlink:href=\"#Cmmi10-61\"/>\n",
       "      <use transform=\"translate(125 0)\" xlink:href=\"#Cmmi10-65\"/>\n",
       "      <use transform=\"translate(212.291016 -17.00625)scale(0.7)\" xlink:href=\"#Cmsy10-164\"/>\n",
       "     </g>\n",
       "    </g>\n",
       "   </g>\n",
       "   <g id=\"PathCollection_1\">\n",
       "    <defs>\n",
       "     <path d=\"M 0 2 \n",
       "C 0.530406 2 1.03916 1.789267 1.414214 1.414214 \n",
       "C 1.789267 1.03916 2 0.530406 2 0 \n",
       "C 2 -0.530406 1.789267 -1.03916 1.414214 -1.414214 \n",
       "C 1.03916 -1.789267 0.530406 -2 0 -2 \n",
       "C -0.530406 -2 -1.03916 -1.789267 -1.414214 -1.414214 \n",
       "C -1.789267 -1.03916 -2 -0.530406 -2 0 \n",
       "C -2 0.530406 -1.789267 1.03916 -1.414214 1.414214 \n",
       "C -1.03916 1.789267 -0.530406 2 0 2 \n",
       "z\n",
       "\" id=\"ma7cc4f7b4e\" style=\"stroke:#000000;stroke-opacity:0;\"/>\n",
       "    </defs>\n",
       "    <g clip-path=\"url(#pc46ed3bfa6)\">\n",
       "     <use style=\"fill:#e36f47;stroke:#000000;stroke-opacity:0;\" x=\"97.390562\" xlink:href=\"#ma7cc4f7b4e\" y=\"171.242795\"/>\n",
       "    </g>\n",
       "   </g>\n",
       "   <g id=\"patch_3\">\n",
       "    <path d=\"M 35.79834 186.225354 \n",
       "L 35.79834 6.434646 \n",
       "\" style=\"fill:none;stroke:#000000;stroke-linecap:square;stroke-linejoin:miter;\"/>\n",
       "   </g>\n",
       "   <g id=\"patch_4\">\n",
       "    <path d=\"M 35.79834 186.225354 \n",
       "L 282.167229 186.225354 \n",
       "\" style=\"fill:none;stroke:#000000;stroke-linecap:square;stroke-linejoin:miter;\"/>\n",
       "   </g>\n",
       "   <g id=\"line2d_20\">\n",
       "    <path clip-path=\"url(#pc46ed3bfa6)\" d=\"M 35.79834 156.260236 \n",
       "L 289 156.260236 \n",
       "L 289 156.260236 \n",
       "\" style=\"fill:none;stroke:#3ea44e;stroke-dasharray:3.7,1.6;stroke-dashoffset:0;\"/>\n",
       "   </g>\n",
       "  </g>\n",
       " </g>\n",
       " <defs>\n",
       "  <clipPath id=\"pc46ed3bfa6\">\n",
       "   <rect height=\"179.790709\" width=\"246.36889\" x=\"35.79834\" y=\"6.434646\"/>\n",
       "  </clipPath>\n",
       " </defs>\n",
       "</svg>\n"
      ]
     },
     "metadata": {},
     "execution_count": 11
    }
   ],
   "cell_type": "code",
   "source": [
    "Mrange = range(0,6,length=601)\n",
    "Aratio = []\n",
    "for M in Mrange\n",
    "    push!(Aratio,value(AOverAStar(MachNumber(M),Isentropic)))\n",
    "end\n",
    "\n",
    "plot(Mrange,Aratio,xlim=(0,4),ylim=(0,12),yticks=0:1:12,xlabel=\"Mach number\",ylabel=L\"A/A_*\",legend=false)\n",
    "scatter!([1],[1])\n",
    "plot!(Mrange,2*ones(length(Mrange)),style=:dash)"
   ],
   "metadata": {},
   "execution_count": 11
  },
  {
   "cell_type": "markdown",
   "source": [
    "#### Example 4\n",
    "What are the subsonic and supersonic Mach numbers associated with, for example,\n",
    "an area ratio $A/A_*$ of 2 (the dashed line in the plot above)? We simply input\n",
    "the desired area ratio and find the two solutions:"
   ],
   "metadata": {}
  },
  {
   "outputs": [],
   "cell_type": "code",
   "source": [
    "M1, M2 = MachNumber(AreaRatio(2),Isentropic);"
   ],
   "metadata": {},
   "execution_count": 12
  },
  {
   "outputs": [
    {
     "output_type": "execute_result",
     "data": {
      "text/plain": "Gasdynamics1D.MachNumber = 0.3059038341891081"
     },
     "metadata": {},
     "execution_count": 13
    }
   ],
   "cell_type": "code",
   "source": [
    "M1"
   ],
   "metadata": {},
   "execution_count": 13
  },
  {
   "outputs": [
    {
     "output_type": "execute_result",
     "data": {
      "text/plain": "Gasdynamics1D.MachNumber = 2.1971981216521868"
     },
     "metadata": {},
     "execution_count": 14
    }
   ],
   "cell_type": "code",
   "source": [
    "M2"
   ],
   "metadata": {},
   "execution_count": 14
  },
  {
   "cell_type": "markdown",
   "source": [
    "A related question: What is the local sonic reference area $A_*$ when the Mach\n",
    "number is 7.1 and the local area is 50 sq cm?\n",
    "\n",
    "We first compute $A/A_*$ from $M = 7.1$, then compute $A_* = A/(A/A_*)$:"
   ],
   "metadata": {}
  },
  {
   "outputs": [
    {
     "output_type": "execute_result",
     "data": {
      "text/plain": "0.4507312336039658 cm²"
     },
     "metadata": {},
     "execution_count": 15
    }
   ],
   "cell_type": "code",
   "source": [
    "A = Area(50u\"cm^2\")\n",
    "M = MachNumber(7.1)\n",
    "A_over_Astar = AOverAStar(M,Isentropic)\n",
    "Astar = Area(A/A_over_Astar)\n",
    "value(Astar,u\"cm^2\")"
   ],
   "metadata": {},
   "execution_count": 15
  },
  {
   "cell_type": "markdown",
   "source": [
    "So the throat would have to be 0.45 sq cm, much smaller than 50 sq cm!\n",
    "Note that there is a convenience function to do those steps all in one:"
   ],
   "metadata": {}
  },
  {
   "outputs": [
    {
     "output_type": "execute_result",
     "data": {
      "text/plain": "0.4507312336039658 cm²"
     },
     "metadata": {},
     "execution_count": 16
    }
   ],
   "cell_type": "code",
   "source": [
    "value(AStar(A,M),u\"cm^2\")"
   ],
   "metadata": {},
   "execution_count": 16
  },
  {
   "cell_type": "markdown",
   "source": [
    "#### Example 5\n",
    "Consider the flow of air through a converging-diverging nozzle, leaving a stagnant\n",
    "reservoir at pressure $p_0$ = 700 kPa and temperature $T_0 = 30$ degrees C. The Mach\n",
    "number at a location (1) in the converging section with area 50 sq cm is equal to 0.4.\n",
    "The exit of the nozzle has area 60 sq cm.\n",
    "\n",
    "(a) What are the possible Mach numbers at the exit in choked isentropic conditions?\n",
    "What are the exit (i.e., \"back\") pressures $p_2$ associated with these two Mach numbers?\n",
    "\n",
    "(b) What is the mass flow rate through the nozzle in these conditions?"
   ],
   "metadata": {}
  },
  {
   "cell_type": "markdown",
   "source": [
    "First, we set the known values"
   ],
   "metadata": {}
  },
  {
   "outputs": [
    {
     "output_type": "execute_result",
     "data": {
      "text/plain": "Gasdynamics1D.MachNumber = 0.4"
     },
     "metadata": {},
     "execution_count": 17
    }
   ],
   "cell_type": "code",
   "source": [
    "p0 = StagnationPressure(700u\"kPa\")\n",
    "T0 = StagnationTemperature(30u\"°C\")\n",
    "A1 = Area(50u\"cm^2\")\n",
    "A2 = Area(60u\"cm^2\")\n",
    "M1 = MachNumber(0.4)"
   ],
   "metadata": {},
   "execution_count": 17
  },
  {
   "cell_type": "markdown",
   "source": [
    "Now, we compute $A_1/A_*$ from $M_1$. Use this to calculate $A_*$ from $A_1/(A_1/A_*)$.\n",
    "Then calculate $A_2/A_*$:"
   ],
   "metadata": {}
  },
  {
   "outputs": [
    {
     "output_type": "execute_result",
     "data": {
      "text/plain": "Gasdynamics1D.AreaRatio = 1.9081680000000003"
     },
     "metadata": {},
     "execution_count": 18
    }
   ],
   "cell_type": "code",
   "source": [
    "A1_over_Astar = AOverAStar(M1,Isentropic,gas=Air)\n",
    "Astar = Area(A1/A1_over_Astar)\n",
    "A2_over_Astar = AreaRatio(A2/Astar)"
   ],
   "metadata": {},
   "execution_count": 18
  },
  {
   "cell_type": "markdown",
   "source": [
    "Now calculate the Mach numbers at location 2 (the nozzle exit):"
   ],
   "metadata": {}
  },
  {
   "outputs": [],
   "cell_type": "code",
   "source": [
    "M2sub = SubsonicMachNumber(A2_over_Astar,Isentropic,gas=Air);"
   ],
   "metadata": {},
   "execution_count": 19
  },
  {
   "outputs": [],
   "cell_type": "code",
   "source": [
    "M2sup = SupersonicMachNumber(A2_over_Astar,Isentropic,gas=Air);"
   ],
   "metadata": {},
   "execution_count": 20
  },
  {
   "cell_type": "markdown",
   "source": [
    "Actually, all of the last few steps can be done in *one step* with a different\n",
    "version of the function `MachNumber`:"
   ],
   "metadata": {}
  },
  {
   "outputs": [],
   "cell_type": "code",
   "source": [
    "M2sub, M2sup = MachNumber(M1,A1,A2,Isentropic,gas=Air);"
   ],
   "metadata": {},
   "execution_count": 21
  },
  {
   "cell_type": "markdown",
   "source": [
    "Now let's determine the exit pressures (location 2) corresponding to these two Mach numbers:"
   ],
   "metadata": {}
  },
  {
   "outputs": [
    {
     "output_type": "execute_result",
     "data": {
      "text/plain": "651.301619254323 kPa"
     },
     "metadata": {},
     "execution_count": 22
    }
   ],
   "cell_type": "code",
   "source": [
    "p0_over_p2sub = P0OverP(M2sub,Isentropic,gas=Air)\n",
    "p2sub = Pressure(p0/p0_over_p2sub)\n",
    "value(p2sub,u\"kPa\")"
   ],
   "metadata": {},
   "execution_count": 22
  },
  {
   "outputs": [
    {
     "output_type": "execute_result",
     "data": {
      "text/plain": "71.48184181875564 kPa"
     },
     "metadata": {},
     "execution_count": 23
    }
   ],
   "cell_type": "code",
   "source": [
    "p0_over_p2sup = P0OverP(M2sup,Isentropic,gas=Air)\n",
    "p2sup = Pressure(p0/p0_over_p2sup)\n",
    "value(p2sup,u\"kPa\")"
   ],
   "metadata": {},
   "execution_count": 23
  },
  {
   "cell_type": "markdown",
   "source": [
    "So if the exit pressure is 651 kPa, then the flow will remain choked and **subsonic**\n",
    "throughout, and if the exit pressure is 71.5 kPa, then the flow will remain choked\n",
    "and **supersonic** throughout.\n",
    "\n",
    "Note that, because the flow is choked, the mass flow rate is the same for both of\n",
    "these cases. Let's calculate that mass flow rate (using $\\rho_1 u_1 A_1$). We need\n",
    "$\\rho_1$ and $u_1$. First, calculate the stagnation density in this nozzle:"
   ],
   "metadata": {}
  },
  {
   "outputs": [
    {
     "output_type": "execute_result",
     "data": {
      "text/plain": "Gasdynamics1D.StagnationDensity = 8.045602474827321 kg m⁻³"
     },
     "metadata": {},
     "execution_count": 24
    }
   ],
   "cell_type": "code",
   "source": [
    "ρ0 = StagnationDensity(p0,T0,gas=Air) # this uses the perfect gas law"
   ],
   "metadata": {},
   "execution_count": 24
  },
  {
   "cell_type": "markdown",
   "source": [
    "Using $M_1$, find $\\rho_0/\\rho_1$:"
   ],
   "metadata": {}
  },
  {
   "outputs": [
    {
     "output_type": "execute_result",
     "data": {
      "text/plain": "Gasdynamics1D.DensityRatio = 1.0819301994280557"
     },
     "metadata": {},
     "execution_count": 25
    }
   ],
   "cell_type": "code",
   "source": [
    "ρ0_over_ρ1 = ρ0Overρ(M1,Isentropic,gas=Air)"
   ],
   "metadata": {},
   "execution_count": 25
  },
  {
   "cell_type": "markdown",
   "source": [
    "So we can get $\\rho_1$ from $\\rho_0/(\\rho_0/\\rho_1)$:"
   ],
   "metadata": {}
  },
  {
   "outputs": [
    {
     "output_type": "execute_result",
     "data": {
      "text/plain": "Gasdynamics1D.Density = 7.436341530239654 kg m⁻³"
     },
     "metadata": {},
     "execution_count": 26
    }
   ],
   "cell_type": "code",
   "source": [
    "ρ1 = Density(ρ0/ρ0_over_ρ1)"
   ],
   "metadata": {},
   "execution_count": 26
  },
  {
   "cell_type": "markdown",
   "source": [
    "Now get $u_1$ from $M_1 c_1$, where $c_1$ is the speed of sound. For that, we need $T_1$:"
   ],
   "metadata": {}
  },
  {
   "outputs": [
    {
     "output_type": "execute_result",
     "data": {
      "text/plain": "Gasdynamics1D.SoundSpeed = 343.55312544059313 m s⁻¹"
     },
     "metadata": {},
     "execution_count": 27
    }
   ],
   "cell_type": "code",
   "source": [
    "T0_over_T1 = T0OverT(M1,Isentropic,gas=Air)\n",
    "T1 = Temperature(T0/T0_over_T1)\n",
    "c1 = SoundSpeed(T1)"
   ],
   "metadata": {},
   "execution_count": 27
  },
  {
   "outputs": [
    {
     "output_type": "execute_result",
     "data": {
      "text/plain": "Gasdynamics1D.Velocity = 137.42125017623727 m s⁻¹"
     },
     "metadata": {},
     "execution_count": 28
    }
   ],
   "cell_type": "code",
   "source": [
    "u1 = Velocity(M1*c1)"
   ],
   "metadata": {},
   "execution_count": 28
  },
  {
   "cell_type": "markdown",
   "source": [
    "And now we can put it all together:"
   ],
   "metadata": {}
  },
  {
   "outputs": [
    {
     "output_type": "execute_result",
     "data": {
      "text/plain": "Gasdynamics1D.MassFlowRate = 5.109556749115033 kg s⁻¹"
     },
     "metadata": {},
     "execution_count": 29
    }
   ],
   "cell_type": "code",
   "source": [
    "mdot = MassFlowRate(ρ1*u1*A1)"
   ],
   "metadata": {},
   "execution_count": 29
  },
  {
   "cell_type": "markdown",
   "source": [
    "So the mass flow rate is stuck at 5.1 kg/s"
   ],
   "metadata": {}
  },
  {
   "cell_type": "markdown",
   "source": [
    "---\n",
    "\n",
    "*This notebook was generated using [Literate.jl](https://github.com/fredrikekre/Literate.jl).*"
   ],
   "metadata": {}
  }
 ],
 "nbformat_minor": 3,
 "metadata": {
  "language_info": {
   "file_extension": ".jl",
   "mimetype": "application/julia",
   "name": "julia",
   "version": "1.5.3"
  },
  "kernelspec": {
   "name": "julia-1.5",
   "display_name": "Julia 1.5.3",
   "language": "julia"
  }
 },
 "nbformat": 4
}
