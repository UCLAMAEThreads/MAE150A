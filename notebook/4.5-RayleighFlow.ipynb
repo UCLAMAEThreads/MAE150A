{
 "cells": [
  {
   "cell_type": "markdown",
   "source": [
    "<img src=\"https://raw.githubusercontent.com/UCLAMAEThreads/MAE150A/master/notebook/logo_UCLA_blue_boxed.svg\" alt=\"ucla logo\" width=\"150\" align=\"left\"/>"
   ],
   "metadata": {}
  },
  {
   "cell_type": "markdown",
   "source": [
    "### **MAE 150A - Intermediate Fluid Mechanics**\n",
    "<hr />"
   ],
   "metadata": {}
  },
  {
   "cell_type": "markdown",
   "source": [
    "# Steady flow through a duct with heat transfer\n",
    "This notebook demonstrates the use of tools for computing steady compressible flow\n",
    "through a constant-area duct with heat transfer, commonly known as **Rayleigh flow**."
   ],
   "metadata": {}
  },
  {
   "cell_type": "markdown",
   "source": [
    "### Set up the module"
   ],
   "metadata": {}
  },
  {
   "outputs": [],
   "cell_type": "code",
   "source": [
    "using MAE150A\n",
    "using Gasdynamics1D"
   ],
   "metadata": {},
   "execution_count": 1
  },
  {
   "outputs": [],
   "cell_type": "code",
   "source": [
    "using Plots"
   ],
   "metadata": {},
   "execution_count": 2
  },
  {
   "cell_type": "markdown",
   "source": [
    "#### Simple example\n",
    "In a duct with helium, if the flow enters with stagnation temperature of 20 degrees C,\n",
    "how much does the stagnation temperature change if we add heat 400 kJ/kg?"
   ],
   "metadata": {}
  },
  {
   "outputs": [
    {
     "output_type": "execute_result",
     "data": {
      "text/plain": "Gasdynamics1D.StagnationTemperature = 293.15 K"
     },
     "metadata": {},
     "execution_count": 3
    }
   ],
   "cell_type": "code",
   "source": [
    "q = HeatFlux(400u\"kJ/kg\")\n",
    "T01 = StagnationTemperature(20u\"°C\")"
   ],
   "metadata": {},
   "execution_count": 3
  },
  {
   "cell_type": "markdown",
   "source": [
    "starting stagnation enthalpy"
   ],
   "metadata": {}
  },
  {
   "outputs": [
    {
     "output_type": "execute_result",
     "data": {
      "text/plain": "Gasdynamics1D.StagnationEnthalpy = 1.5223751427893795e6 J kg⁻¹"
     },
     "metadata": {},
     "execution_count": 4
    }
   ],
   "cell_type": "code",
   "source": [
    "h01 = StagnationEnthalpy(T01,gas=He) # h01 = cp*T01"
   ],
   "metadata": {},
   "execution_count": 4
  },
  {
   "cell_type": "markdown",
   "source": [
    "add the heat"
   ],
   "metadata": {}
  },
  {
   "outputs": [
    {
     "output_type": "execute_result",
     "data": {
      "text/plain": "Gasdynamics1D.StagnationEnthalpy = 1.9223751427893795e6 J kg⁻¹"
     },
     "metadata": {},
     "execution_count": 5
    }
   ],
   "cell_type": "code",
   "source": [
    "h02 = StagnationEnthalpy(h01 + q)"
   ],
   "metadata": {},
   "execution_count": 5
  },
  {
   "cell_type": "markdown",
   "source": [
    "calculate the final stagnation temperature"
   ],
   "metadata": {}
  },
  {
   "outputs": [
    {
     "output_type": "execute_result",
     "data": {
      "text/plain": "Gasdynamics1D.StagnationTemperature = 370.17437901419606 K"
     },
     "metadata": {},
     "execution_count": 6
    }
   ],
   "cell_type": "code",
   "source": [
    "T02 = StagnationTemperature(h02,gas=He)  # T02 = h02/cp"
   ],
   "metadata": {},
   "execution_count": 6
  },
  {
   "cell_type": "markdown",
   "source": [
    "Report the final value in Celsius:"
   ],
   "metadata": {}
  },
  {
   "outputs": [
    {
     "output_type": "execute_result",
     "data": {
      "text/plain": "97.02437901419609 °C"
     },
     "metadata": {},
     "execution_count": 7
    }
   ],
   "cell_type": "code",
   "source": [
    "value(T02,u\"°C\")"
   ],
   "metadata": {},
   "execution_count": 7
  },
  {
   "cell_type": "markdown",
   "source": [
    "so the flow exiting the duct has stagnation temperature 97 C."
   ],
   "metadata": {}
  },
  {
   "cell_type": "markdown",
   "source": [
    "The sonic state is used as a reference, similar to Fanno flow and isentropic flow.\n",
    "All states share the same $T_{0}^*$, $p^*$, $u^*$, etc, so we can relate two points\n",
    "via this reference. We have functions that allow us to do this. For example, to\n",
    "find the ratio of the local stagnation temperature to its sonic reference value\n",
    "at Mach number 0.5 in air:"
   ],
   "metadata": {}
  },
  {
   "outputs": [
    {
     "output_type": "execute_result",
     "data": {
      "text/plain": "Gasdynamics1D.TemperatureRatio = 0.691358024691358"
     },
     "metadata": {},
     "execution_count": 8
    }
   ],
   "cell_type": "code",
   "source": [
    "T0OverT0Star(MachNumber(0.5),RayleighFlow,gas=Air)"
   ],
   "metadata": {},
   "execution_count": 8
  },
  {
   "cell_type": "markdown",
   "source": [
    "Note that the argument `RayleighFlow` was used to designate this function's use.\n",
    "If the Mach number is 1, then..."
   ],
   "metadata": {}
  },
  {
   "outputs": [
    {
     "output_type": "execute_result",
     "data": {
      "text/plain": "Gasdynamics1D.TemperatureRatio = 1.0"
     },
     "metadata": {},
     "execution_count": 9
    }
   ],
   "cell_type": "code",
   "source": [
    "T0OverT0Star(MachNumber(1),RayleighFlow,gas=Air)"
   ],
   "metadata": {},
   "execution_count": 9
  },
  {
   "cell_type": "markdown",
   "source": [
    "That is, $T_{0}$ is equal to $T_{0}^*$ when Mach number is 1, as it should be,\n",
    "by definition.\n",
    "Alternatively, if we know $T_0/T_0^*$, we can determine $M$. However, there are\n",
    "sometimes two possible values of Mach number, as with Fanno flow and isentropic flow."
   ],
   "metadata": {}
  },
  {
   "outputs": [],
   "cell_type": "code",
   "source": [
    "Mrange = range(0.001,8,length=801)\n",
    "T0_over_T0star = []\n",
    "for M in Mrange\n",
    "    push!(T0_over_T0star,value(T0OverT0Star(MachNumber(M),RayleighFlow,gas=Air)))\n",
    "end"
   ],
   "metadata": {},
   "execution_count": 10
  },
  {
   "outputs": [
    {
     "output_type": "execute_result",
     "data": {
      "text/plain": "Plot{Plots.PyPlotBackend() n=2}",
      "image/png": "[encoded data removed]",
      "text/html": [
       "<img src=\"data:image/png;base64,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\" />"
      ],
      "image/svg+xml": [
       "<?xml version=\"1.0\" encoding=\"utf-8\" standalone=\"no\"?>\n",
       "<!DOCTYPE svg PUBLIC \"-//W3C//DTD SVG 1.1//EN\"\n",
       "  \"http://www.w3.org/Graphics/SVG/1.1/DTD/svg11.dtd\">\n",
       "<!-- Created with matplotlib (https://matplotlib.org/) -->\n",
       "<svg height=\"216pt\" version=\"1.1\" viewBox=\"0 0 288 216\" width=\"288pt\" xmlns=\"http://www.w3.org/2000/svg\" xmlns:xlink=\"http://www.w3.org/1999/xlink\">\n",
       " <metadata>\n",
       "  <rdf:RDF xmlns:cc=\"http://creativecommons.org/ns#\" xmlns:dc=\"http://purl.org/dc/elements/1.1/\" xmlns:rdf=\"http://www.w3.org/1999/02/22-rdf-syntax-ns#\">\n",
       "   <cc:Work>\n",
       "    <dc:type rdf:resource=\"http://purl.org/dc/dcmitype/StillImage\"/>\n",
       "    <dc:date>2021-03-28T07:42:39.377816</dc:date>\n",
       "    <dc:format>image/svg+xml</dc:format>\n",
       "    <dc:creator>\n",
       "     <cc:Agent>\n",
       "      <dc:title>Matplotlib v3.3.2, https://matplotlib.org/</dc:title>\n",
       "     </cc:Agent>\n",
       "    </dc:creator>\n",
       "   </cc:Work>\n",
       "  </rdf:RDF>\n",
       " </metadata>\n",
       " <defs>\n",
       "  <style type=\"text/css\">*{stroke-linecap:butt;stroke-linejoin:round;}</style>\n",
       " </defs>\n",
       " <g id=\"figure_1\">\n",
       "  <g id=\"patch_1\">\n",
       "   <path d=\"M 0 216 \n",
       "L 288 216 \n",
       "L 288 0 \n",
       "L 0 0 \n",
       "z\n",
       "\" style=\"fill:#ffffff;\"/>\n",
       "  </g>\n",
       "  <g id=\"axes_1\">\n",
       "   <g id=\"patch_2\">\n",
       "    <path d=\"M 38.341356 186.225354 \n",
       "L 282.178479 186.225354 \n",
       "L 282.178479 6.434646 \n",
       "L 38.341356 6.434646 \n",
       "z\n",
       "\" style=\"fill:#ffffff;\"/>\n",
       "   </g>\n",
       "   <g id=\"line2d_1\">\n",
       "    <path clip-path=\"url(#p56cf535a83)\" d=\"M 38.371836 186.224923 \n",
       "L 38.981352 186.035327 \n",
       "L 39.590869 185.503341 \n",
       "L 40.200385 184.635555 \n",
       "L 40.809902 183.442627 \n",
       "L 41.724177 181.07622 \n",
       "L 42.638452 178.074704 \n",
       "L 43.857485 173.220032 \n",
       "L 45.381277 166.081634 \n",
       "L 47.514585 154.885342 \n",
       "L 51.476443 133.874732 \n",
       "L 53.304992 125.280451 \n",
       "L 55.133542 117.806213 \n",
       "L 56.657334 112.518064 \n",
       "L 58.181125 108.092934 \n",
       "L 59.400159 105.152422 \n",
       "L 60.619192 102.713257 \n",
       "L 61.838225 100.73867 \n",
       "L 63.057258 99.187918 \n",
       "L 64.276291 98.018625 \n",
       "L 65.495325 97.188554 \n",
       "L 66.714358 96.656876 \n",
       "L 67.933391 96.385034 \n",
       "L 69.152424 96.337275 \n",
       "L 70.676216 96.543229 \n",
       "L 72.200007 96.991682 \n",
       "L 74.028557 97.781117 \n",
       "L 76.161865 98.959536 \n",
       "L 78.90469 100.744986 \n",
       "L 83.171306 103.825633 \n",
       "L 91.704539 110.024515 \n",
       "L 96.275913 113.053048 \n",
       "L 100.54253 115.626627 \n",
       "L 104.809146 117.951277 \n",
       "L 109.380521 120.178787 \n",
       "L 113.951895 122.156517 \n",
       "L 118.828028 124.020107 \n",
       "L 124.008919 125.756219 \n",
       "L 129.494569 127.358198 \n",
       "L 135.589735 128.896274 \n",
       "L 141.989659 130.281695 \n",
       "L 148.9991 131.576088 \n",
       "L 156.922816 132.810494 \n",
       "L 165.760807 133.957698 \n",
       "L 175.817831 135.031504 \n",
       "L 187.093888 136.009012 \n",
       "L 200.198495 136.917605 \n",
       "L 215.436411 137.746888 \n",
       "L 233.721909 138.510551 \n",
       "L 255.664507 139.195392 \n",
       "L 282.178479 139.797229 \n",
       "L 282.178479 139.797229 \n",
       "\" style=\"fill:none;stroke:#009afa;\"/>\n",
       "   </g>\n",
       "   <g id=\"matplotlib.axis_1\">\n",
       "    <g id=\"xtick_1\">\n",
       "     <g id=\"line2d_2\">\n",
       "      <defs>\n",
       "       <path d=\"M 0 0 \n",
       "L 0 -2.5 \n",
       "\" id=\"m06961f7ef7\" style=\"stroke:#000000;stroke-width:0.5;\"/>\n",
       "      </defs>\n",
       "      <g>\n",
       "       <use style=\"stroke:#000000;stroke-width:0.5;\" x=\"38.341356\" xlink:href=\"#m06961f7ef7\" y=\"186.225354\"/>\n",
       "      </g>\n",
       "     </g>\n",
       "     <g id=\"text_1\">\n",
       "      <!-- $\\mathregular{0}$ -->\n",
       "      <g transform=\"translate(35.781356 195.804104)scale(0.08 -0.08)\">\n",
       "       <defs>\n",
       "        <path d=\"M 31.78125 66.40625 \n",
       "Q 24.171875 66.40625 20.328125 58.90625 \n",
       "Q 16.5 51.421875 16.5 36.375 \n",
       "Q 16.5 21.390625 20.328125 13.890625 \n",
       "Q 24.171875 6.390625 31.78125 6.390625 \n",
       "Q 39.453125 6.390625 43.28125 13.890625 \n",
       "Q 47.125 21.390625 47.125 36.375 \n",
       "Q 47.125 51.421875 43.28125 58.90625 \n",
       "Q 39.453125 66.40625 31.78125 66.40625 \n",
       "z\n",
       "M 31.78125 74.21875 \n",
       "Q 44.046875 74.21875 50.515625 64.515625 \n",
       "Q 56.984375 54.828125 56.984375 36.375 \n",
       "Q 56.984375 17.96875 50.515625 8.265625 \n",
       "Q 44.046875 -1.421875 31.78125 -1.421875 \n",
       "Q 19.53125 -1.421875 13.0625 8.265625 \n",
       "Q 6.59375 17.96875 6.59375 36.375 \n",
       "Q 6.59375 54.828125 13.0625 64.515625 \n",
       "Q 19.53125 74.21875 31.78125 74.21875 \n",
       "z\n",
       "\" id=\"DejaVuSans-48\"/>\n",
       "       </defs>\n",
       "       <use transform=\"translate(0 0.78125)\" xlink:href=\"#DejaVuSans-48\"/>\n",
       "      </g>\n",
       "     </g>\n",
       "    </g>\n",
       "    <g id=\"xtick_2\">\n",
       "     <g id=\"line2d_3\">\n",
       "      <g>\n",
       "       <use style=\"stroke:#000000;stroke-width:0.5;\" x=\"68.820996\" xlink:href=\"#m06961f7ef7\" y=\"186.225354\"/>\n",
       "      </g>\n",
       "     </g>\n",
       "     <g id=\"text_2\">\n",
       "      <!-- $\\mathregular{1}$ -->\n",
       "      <g transform=\"translate(66.260996 195.804104)scale(0.08 -0.08)\">\n",
       "       <defs>\n",
       "        <path d=\"M 12.40625 8.296875 \n",
       "L 28.515625 8.296875 \n",
       "L 28.515625 63.921875 \n",
       "L 10.984375 60.40625 \n",
       "L 10.984375 69.390625 \n",
       "L 28.421875 72.90625 \n",
       "L 38.28125 72.90625 \n",
       "L 38.28125 8.296875 \n",
       "L 54.390625 8.296875 \n",
       "L 54.390625 0 \n",
       "L 12.40625 0 \n",
       "z\n",
       "\" id=\"DejaVuSans-49\"/>\n",
       "       </defs>\n",
       "       <use transform=\"translate(0 0.09375)\" xlink:href=\"#DejaVuSans-49\"/>\n",
       "      </g>\n",
       "     </g>\n",
       "    </g>\n",
       "    <g id=\"xtick_3\">\n",
       "     <g id=\"line2d_4\">\n",
       "      <g>\n",
       "       <use style=\"stroke:#000000;stroke-width:0.5;\" x=\"99.300637\" xlink:href=\"#m06961f7ef7\" y=\"186.225354\"/>\n",
       "      </g>\n",
       "     </g>\n",
       "     <g id=\"text_3\">\n",
       "      <!-- $\\mathregular{2}$ -->\n",
       "      <g transform=\"translate(96.740637 195.804104)scale(0.08 -0.08)\">\n",
       "       <defs>\n",
       "        <path d=\"M 19.1875 8.296875 \n",
       "L 53.609375 8.296875 \n",
       "L 53.609375 0 \n",
       "L 7.328125 0 \n",
       "L 7.328125 8.296875 \n",
       "Q 12.9375 14.109375 22.625 23.890625 \n",
       "Q 32.328125 33.6875 34.8125 36.53125 \n",
       "Q 39.546875 41.84375 41.421875 45.53125 \n",
       "Q 43.3125 49.21875 43.3125 52.78125 \n",
       "Q 43.3125 58.59375 39.234375 62.25 \n",
       "Q 35.15625 65.921875 28.609375 65.921875 \n",
       "Q 23.96875 65.921875 18.8125 64.3125 \n",
       "Q 13.671875 62.703125 7.8125 59.421875 \n",
       "L 7.8125 69.390625 \n",
       "Q 13.765625 71.78125 18.9375 73 \n",
       "Q 24.125 74.21875 28.421875 74.21875 \n",
       "Q 39.75 74.21875 46.484375 68.546875 \n",
       "Q 53.21875 62.890625 53.21875 53.421875 \n",
       "Q 53.21875 48.921875 51.53125 44.890625 \n",
       "Q 49.859375 40.875 45.40625 35.40625 \n",
       "Q 44.1875 33.984375 37.640625 27.21875 \n",
       "Q 31.109375 20.453125 19.1875 8.296875 \n",
       "z\n",
       "\" id=\"DejaVuSans-50\"/>\n",
       "       </defs>\n",
       "       <use transform=\"translate(0 0.78125)\" xlink:href=\"#DejaVuSans-50\"/>\n",
       "      </g>\n",
       "     </g>\n",
       "    </g>\n",
       "    <g id=\"xtick_4\">\n",
       "     <g id=\"line2d_5\">\n",
       "      <g>\n",
       "       <use style=\"stroke:#000000;stroke-width:0.5;\" x=\"129.780277\" xlink:href=\"#m06961f7ef7\" y=\"186.225354\"/>\n",
       "      </g>\n",
       "     </g>\n",
       "     <g id=\"text_4\">\n",
       "      <!-- $\\mathregular{3}$ -->\n",
       "      <g transform=\"translate(127.220277 195.804104)scale(0.08 -0.08)\">\n",
       "       <defs>\n",
       "        <path d=\"M 40.578125 39.3125 \n",
       "Q 47.65625 37.796875 51.625 33 \n",
       "Q 55.609375 28.21875 55.609375 21.1875 \n",
       "Q 55.609375 10.40625 48.1875 4.484375 \n",
       "Q 40.765625 -1.421875 27.09375 -1.421875 \n",
       "Q 22.515625 -1.421875 17.65625 -0.515625 \n",
       "Q 12.796875 0.390625 7.625 2.203125 \n",
       "L 7.625 11.71875 \n",
       "Q 11.71875 9.328125 16.59375 8.109375 \n",
       "Q 21.484375 6.890625 26.8125 6.890625 \n",
       "Q 36.078125 6.890625 40.9375 10.546875 \n",
       "Q 45.796875 14.203125 45.796875 21.1875 \n",
       "Q 45.796875 27.640625 41.28125 31.265625 \n",
       "Q 36.765625 34.90625 28.71875 34.90625 \n",
       "L 20.21875 34.90625 \n",
       "L 20.21875 43.015625 \n",
       "L 29.109375 43.015625 \n",
       "Q 36.375 43.015625 40.234375 45.921875 \n",
       "Q 44.09375 48.828125 44.09375 54.296875 \n",
       "Q 44.09375 59.90625 40.109375 62.90625 \n",
       "Q 36.140625 65.921875 28.71875 65.921875 \n",
       "Q 24.65625 65.921875 20.015625 65.03125 \n",
       "Q 15.375 64.15625 9.8125 62.3125 \n",
       "L 9.8125 71.09375 \n",
       "Q 15.4375 72.65625 20.34375 73.4375 \n",
       "Q 25.25 74.21875 29.59375 74.21875 \n",
       "Q 40.828125 74.21875 47.359375 69.109375 \n",
       "Q 53.90625 64.015625 53.90625 55.328125 \n",
       "Q 53.90625 49.265625 50.4375 45.09375 \n",
       "Q 46.96875 40.921875 40.578125 39.3125 \n",
       "z\n",
       "\" id=\"DejaVuSans-51\"/>\n",
       "       </defs>\n",
       "       <use transform=\"translate(0 0.78125)\" xlink:href=\"#DejaVuSans-51\"/>\n",
       "      </g>\n",
       "     </g>\n",
       "    </g>\n",
       "    <g id=\"xtick_5\">\n",
       "     <g id=\"line2d_6\">\n",
       "      <g>\n",
       "       <use style=\"stroke:#000000;stroke-width:0.5;\" x=\"160.259918\" xlink:href=\"#m06961f7ef7\" y=\"186.225354\"/>\n",
       "      </g>\n",
       "     </g>\n",
       "     <g id=\"text_5\">\n",
       "      <!-- $\\mathregular{4}$ -->\n",
       "      <g transform=\"translate(157.699918 195.804104)scale(0.08 -0.08)\">\n",
       "       <defs>\n",
       "        <path d=\"M 37.796875 64.3125 \n",
       "L 12.890625 25.390625 \n",
       "L 37.796875 25.390625 \n",
       "z\n",
       "M 35.203125 72.90625 \n",
       "L 47.609375 72.90625 \n",
       "L 47.609375 25.390625 \n",
       "L 58.015625 25.390625 \n",
       "L 58.015625 17.1875 \n",
       "L 47.609375 17.1875 \n",
       "L 47.609375 0 \n",
       "L 37.796875 0 \n",
       "L 37.796875 17.1875 \n",
       "L 4.890625 17.1875 \n",
       "L 4.890625 26.703125 \n",
       "z\n",
       "\" id=\"DejaVuSans-52\"/>\n",
       "       </defs>\n",
       "       <use transform=\"translate(0 0.09375)\" xlink:href=\"#DejaVuSans-52\"/>\n",
       "      </g>\n",
       "     </g>\n",
       "    </g>\n",
       "    <g id=\"xtick_6\">\n",
       "     <g id=\"line2d_7\">\n",
       "      <g>\n",
       "       <use style=\"stroke:#000000;stroke-width:0.5;\" x=\"190.739558\" xlink:href=\"#m06961f7ef7\" y=\"186.225354\"/>\n",
       "      </g>\n",
       "     </g>\n",
       "     <g id=\"text_6\">\n",
       "      <!-- $\\mathregular{5}$ -->\n",
       "      <g transform=\"translate(188.179558 195.804104)scale(0.08 -0.08)\">\n",
       "       <defs>\n",
       "        <path d=\"M 10.796875 72.90625 \n",
       "L 49.515625 72.90625 \n",
       "L 49.515625 64.59375 \n",
       "L 19.828125 64.59375 \n",
       "L 19.828125 46.734375 \n",
       "Q 21.96875 47.46875 24.109375 47.828125 \n",
       "Q 26.265625 48.1875 28.421875 48.1875 \n",
       "Q 40.625 48.1875 47.75 41.5 \n",
       "Q 54.890625 34.8125 54.890625 23.390625 \n",
       "Q 54.890625 11.625 47.5625 5.09375 \n",
       "Q 40.234375 -1.421875 26.90625 -1.421875 \n",
       "Q 22.3125 -1.421875 17.546875 -0.640625 \n",
       "Q 12.796875 0.140625 7.71875 1.703125 \n",
       "L 7.71875 11.625 \n",
       "Q 12.109375 9.234375 16.796875 8.0625 \n",
       "Q 21.484375 6.890625 26.703125 6.890625 \n",
       "Q 35.15625 6.890625 40.078125 11.328125 \n",
       "Q 45.015625 15.765625 45.015625 23.390625 \n",
       "Q 45.015625 31 40.078125 35.4375 \n",
       "Q 35.15625 39.890625 26.703125 39.890625 \n",
       "Q 22.75 39.890625 18.8125 39.015625 \n",
       "Q 14.890625 38.140625 10.796875 36.28125 \n",
       "z\n",
       "\" id=\"DejaVuSans-53\"/>\n",
       "       </defs>\n",
       "       <use transform=\"translate(0 0.09375)\" xlink:href=\"#DejaVuSans-53\"/>\n",
       "      </g>\n",
       "     </g>\n",
       "    </g>\n",
       "    <g id=\"xtick_7\">\n",
       "     <g id=\"line2d_8\">\n",
       "      <g>\n",
       "       <use style=\"stroke:#000000;stroke-width:0.5;\" x=\"221.219198\" xlink:href=\"#m06961f7ef7\" y=\"186.225354\"/>\n",
       "      </g>\n",
       "     </g>\n",
       "     <g id=\"text_7\">\n",
       "      <!-- $\\mathregular{6}$ -->\n",
       "      <g transform=\"translate(218.659198 195.804104)scale(0.08 -0.08)\">\n",
       "       <defs>\n",
       "        <path d=\"M 33.015625 40.375 \n",
       "Q 26.375 40.375 22.484375 35.828125 \n",
       "Q 18.609375 31.296875 18.609375 23.390625 \n",
       "Q 18.609375 15.53125 22.484375 10.953125 \n",
       "Q 26.375 6.390625 33.015625 6.390625 \n",
       "Q 39.65625 6.390625 43.53125 10.953125 \n",
       "Q 47.40625 15.53125 47.40625 23.390625 \n",
       "Q 47.40625 31.296875 43.53125 35.828125 \n",
       "Q 39.65625 40.375 33.015625 40.375 \n",
       "z\n",
       "M 52.59375 71.296875 \n",
       "L 52.59375 62.3125 \n",
       "Q 48.875 64.0625 45.09375 64.984375 \n",
       "Q 41.3125 65.921875 37.59375 65.921875 \n",
       "Q 27.828125 65.921875 22.671875 59.328125 \n",
       "Q 17.53125 52.734375 16.796875 39.40625 \n",
       "Q 19.671875 43.65625 24.015625 45.921875 \n",
       "Q 28.375 48.1875 33.59375 48.1875 \n",
       "Q 44.578125 48.1875 50.953125 41.515625 \n",
       "Q 57.328125 34.859375 57.328125 23.390625 \n",
       "Q 57.328125 12.15625 50.6875 5.359375 \n",
       "Q 44.046875 -1.421875 33.015625 -1.421875 \n",
       "Q 20.359375 -1.421875 13.671875 8.265625 \n",
       "Q 6.984375 17.96875 6.984375 36.375 \n",
       "Q 6.984375 53.65625 15.1875 63.9375 \n",
       "Q 23.390625 74.21875 37.203125 74.21875 \n",
       "Q 40.921875 74.21875 44.703125 73.484375 \n",
       "Q 48.484375 72.75 52.59375 71.296875 \n",
       "z\n",
       "\" id=\"DejaVuSans-54\"/>\n",
       "       </defs>\n",
       "       <use transform=\"translate(0 0.78125)\" xlink:href=\"#DejaVuSans-54\"/>\n",
       "      </g>\n",
       "     </g>\n",
       "    </g>\n",
       "    <g id=\"xtick_8\">\n",
       "     <g id=\"line2d_9\">\n",
       "      <g>\n",
       "       <use style=\"stroke:#000000;stroke-width:0.5;\" x=\"251.698839\" xlink:href=\"#m06961f7ef7\" y=\"186.225354\"/>\n",
       "      </g>\n",
       "     </g>\n",
       "     <g id=\"text_8\">\n",
       "      <!-- $\\mathregular{7}$ -->\n",
       "      <g transform=\"translate(249.138839 195.804104)scale(0.08 -0.08)\">\n",
       "       <defs>\n",
       "        <path d=\"M 8.203125 72.90625 \n",
       "L 55.078125 72.90625 \n",
       "L 55.078125 68.703125 \n",
       "L 28.609375 0 \n",
       "L 18.3125 0 \n",
       "L 43.21875 64.59375 \n",
       "L 8.203125 64.59375 \n",
       "z\n",
       "\" id=\"DejaVuSans-55\"/>\n",
       "       </defs>\n",
       "       <use transform=\"translate(0 0.09375)\" xlink:href=\"#DejaVuSans-55\"/>\n",
       "      </g>\n",
       "     </g>\n",
       "    </g>\n",
       "    <g id=\"xtick_9\">\n",
       "     <g id=\"line2d_10\">\n",
       "      <g>\n",
       "       <use style=\"stroke:#000000;stroke-width:0.5;\" x=\"282.178479\" xlink:href=\"#m06961f7ef7\" y=\"186.225354\"/>\n",
       "      </g>\n",
       "     </g>\n",
       "     <g id=\"text_9\">\n",
       "      <!-- $\\mathregular{8}$ -->\n",
       "      <g transform=\"translate(279.618479 195.804104)scale(0.08 -0.08)\">\n",
       "       <defs>\n",
       "        <path d=\"M 31.78125 34.625 \n",
       "Q 24.75 34.625 20.71875 30.859375 \n",
       "Q 16.703125 27.09375 16.703125 20.515625 \n",
       "Q 16.703125 13.921875 20.71875 10.15625 \n",
       "Q 24.75 6.390625 31.78125 6.390625 \n",
       "Q 38.8125 6.390625 42.859375 10.171875 \n",
       "Q 46.921875 13.96875 46.921875 20.515625 \n",
       "Q 46.921875 27.09375 42.890625 30.859375 \n",
       "Q 38.875 34.625 31.78125 34.625 \n",
       "z\n",
       "M 21.921875 38.8125 \n",
       "Q 15.578125 40.375 12.03125 44.71875 \n",
       "Q 8.5 49.078125 8.5 55.328125 \n",
       "Q 8.5 64.0625 14.71875 69.140625 \n",
       "Q 20.953125 74.21875 31.78125 74.21875 \n",
       "Q 42.671875 74.21875 48.875 69.140625 \n",
       "Q 55.078125 64.0625 55.078125 55.328125 \n",
       "Q 55.078125 49.078125 51.53125 44.71875 \n",
       "Q 48 40.375 41.703125 38.8125 \n",
       "Q 48.828125 37.15625 52.796875 32.3125 \n",
       "Q 56.78125 27.484375 56.78125 20.515625 \n",
       "Q 56.78125 9.90625 50.3125 4.234375 \n",
       "Q 43.84375 -1.421875 31.78125 -1.421875 \n",
       "Q 19.734375 -1.421875 13.25 4.234375 \n",
       "Q 6.78125 9.90625 6.78125 20.515625 \n",
       "Q 6.78125 27.484375 10.78125 32.3125 \n",
       "Q 14.796875 37.15625 21.921875 38.8125 \n",
       "z\n",
       "M 18.3125 54.390625 \n",
       "Q 18.3125 48.734375 21.84375 45.5625 \n",
       "Q 25.390625 42.390625 31.78125 42.390625 \n",
       "Q 38.140625 42.390625 41.71875 45.5625 \n",
       "Q 45.3125 48.734375 45.3125 54.390625 \n",
       "Q 45.3125 60.0625 41.71875 63.234375 \n",
       "Q 38.140625 66.40625 31.78125 66.40625 \n",
       "Q 25.390625 66.40625 21.84375 63.234375 \n",
       "Q 18.3125 60.0625 18.3125 54.390625 \n",
       "z\n",
       "\" id=\"DejaVuSans-56\"/>\n",
       "       </defs>\n",
       "       <use transform=\"translate(0 0.78125)\" xlink:href=\"#DejaVuSans-56\"/>\n",
       "      </g>\n",
       "     </g>\n",
       "    </g>\n",
       "    <g id=\"text_10\">\n",
       "     <!-- Mach number -->\n",
       "     <g transform=\"translate(122.420777 209.826136)scale(0.11 -0.11)\">\n",
       "      <defs>\n",
       "       <path d=\"M 9.8125 72.90625 \n",
       "L 24.515625 72.90625 \n",
       "L 43.109375 23.296875 \n",
       "L 61.8125 72.90625 \n",
       "L 76.515625 72.90625 \n",
       "L 76.515625 0 \n",
       "L 66.890625 0 \n",
       "L 66.890625 64.015625 \n",
       "L 48.09375 14.015625 \n",
       "L 38.1875 14.015625 \n",
       "L 19.390625 64.015625 \n",
       "L 19.390625 0 \n",
       "L 9.8125 0 \n",
       "z\n",
       "\" id=\"DejaVuSans-77\"/>\n",
       "       <path d=\"M 34.28125 27.484375 \n",
       "Q 23.390625 27.484375 19.1875 25 \n",
       "Q 14.984375 22.515625 14.984375 16.5 \n",
       "Q 14.984375 11.71875 18.140625 8.90625 \n",
       "Q 21.296875 6.109375 26.703125 6.109375 \n",
       "Q 34.1875 6.109375 38.703125 11.40625 \n",
       "Q 43.21875 16.703125 43.21875 25.484375 \n",
       "L 43.21875 27.484375 \n",
       "z\n",
       "M 52.203125 31.203125 \n",
       "L 52.203125 0 \n",
       "L 43.21875 0 \n",
       "L 43.21875 8.296875 \n",
       "Q 40.140625 3.328125 35.546875 0.953125 \n",
       "Q 30.953125 -1.421875 24.3125 -1.421875 \n",
       "Q 15.921875 -1.421875 10.953125 3.296875 \n",
       "Q 6 8.015625 6 15.921875 \n",
       "Q 6 25.140625 12.171875 29.828125 \n",
       "Q 18.359375 34.515625 30.609375 34.515625 \n",
       "L 43.21875 34.515625 \n",
       "L 43.21875 35.40625 \n",
       "Q 43.21875 41.609375 39.140625 45 \n",
       "Q 35.0625 48.390625 27.6875 48.390625 \n",
       "Q 23 48.390625 18.546875 47.265625 \n",
       "Q 14.109375 46.140625 10.015625 43.890625 \n",
       "L 10.015625 52.203125 \n",
       "Q 14.9375 54.109375 19.578125 55.046875 \n",
       "Q 24.21875 56 28.609375 56 \n",
       "Q 40.484375 56 46.34375 49.84375 \n",
       "Q 52.203125 43.703125 52.203125 31.203125 \n",
       "z\n",
       "\" id=\"DejaVuSans-97\"/>\n",
       "       <path d=\"M 48.78125 52.59375 \n",
       "L 48.78125 44.1875 \n",
       "Q 44.96875 46.296875 41.140625 47.34375 \n",
       "Q 37.3125 48.390625 33.40625 48.390625 \n",
       "Q 24.65625 48.390625 19.8125 42.84375 \n",
       "Q 14.984375 37.3125 14.984375 27.296875 \n",
       "Q 14.984375 17.28125 19.8125 11.734375 \n",
       "Q 24.65625 6.203125 33.40625 6.203125 \n",
       "Q 37.3125 6.203125 41.140625 7.25 \n",
       "Q 44.96875 8.296875 48.78125 10.40625 \n",
       "L 48.78125 2.09375 \n",
       "Q 45.015625 0.34375 40.984375 -0.53125 \n",
       "Q 36.96875 -1.421875 32.421875 -1.421875 \n",
       "Q 20.0625 -1.421875 12.78125 6.34375 \n",
       "Q 5.515625 14.109375 5.515625 27.296875 \n",
       "Q 5.515625 40.671875 12.859375 48.328125 \n",
       "Q 20.21875 56 33.015625 56 \n",
       "Q 37.15625 56 41.109375 55.140625 \n",
       "Q 45.0625 54.296875 48.78125 52.59375 \n",
       "z\n",
       "\" id=\"DejaVuSans-99\"/>\n",
       "       <path d=\"M 54.890625 33.015625 \n",
       "L 54.890625 0 \n",
       "L 45.90625 0 \n",
       "L 45.90625 32.71875 \n",
       "Q 45.90625 40.484375 42.875 44.328125 \n",
       "Q 39.84375 48.1875 33.796875 48.1875 \n",
       "Q 26.515625 48.1875 22.3125 43.546875 \n",
       "Q 18.109375 38.921875 18.109375 30.90625 \n",
       "L 18.109375 0 \n",
       "L 9.078125 0 \n",
       "L 9.078125 75.984375 \n",
       "L 18.109375 75.984375 \n",
       "L 18.109375 46.1875 \n",
       "Q 21.34375 51.125 25.703125 53.5625 \n",
       "Q 30.078125 56 35.796875 56 \n",
       "Q 45.21875 56 50.046875 50.171875 \n",
       "Q 54.890625 44.34375 54.890625 33.015625 \n",
       "z\n",
       "\" id=\"DejaVuSans-104\"/>\n",
       "       <path id=\"DejaVuSans-32\"/>\n",
       "       <path d=\"M 54.890625 33.015625 \n",
       "L 54.890625 0 \n",
       "L 45.90625 0 \n",
       "L 45.90625 32.71875 \n",
       "Q 45.90625 40.484375 42.875 44.328125 \n",
       "Q 39.84375 48.1875 33.796875 48.1875 \n",
       "Q 26.515625 48.1875 22.3125 43.546875 \n",
       "Q 18.109375 38.921875 18.109375 30.90625 \n",
       "L 18.109375 0 \n",
       "L 9.078125 0 \n",
       "L 9.078125 54.6875 \n",
       "L 18.109375 54.6875 \n",
       "L 18.109375 46.1875 \n",
       "Q 21.34375 51.125 25.703125 53.5625 \n",
       "Q 30.078125 56 35.796875 56 \n",
       "Q 45.21875 56 50.046875 50.171875 \n",
       "Q 54.890625 44.34375 54.890625 33.015625 \n",
       "z\n",
       "\" id=\"DejaVuSans-110\"/>\n",
       "       <path d=\"M 8.5 21.578125 \n",
       "L 8.5 54.6875 \n",
       "L 17.484375 54.6875 \n",
       "L 17.484375 21.921875 \n",
       "Q 17.484375 14.15625 20.5 10.265625 \n",
       "Q 23.53125 6.390625 29.59375 6.390625 \n",
       "Q 36.859375 6.390625 41.078125 11.03125 \n",
       "Q 45.3125 15.671875 45.3125 23.6875 \n",
       "L 45.3125 54.6875 \n",
       "L 54.296875 54.6875 \n",
       "L 54.296875 0 \n",
       "L 45.3125 0 \n",
       "L 45.3125 8.40625 \n",
       "Q 42.046875 3.421875 37.71875 1 \n",
       "Q 33.40625 -1.421875 27.6875 -1.421875 \n",
       "Q 18.265625 -1.421875 13.375 4.4375 \n",
       "Q 8.5 10.296875 8.5 21.578125 \n",
       "z\n",
       "M 31.109375 56 \n",
       "z\n",
       "\" id=\"DejaVuSans-117\"/>\n",
       "       <path d=\"M 52 44.1875 \n",
       "Q 55.375 50.25 60.0625 53.125 \n",
       "Q 64.75 56 71.09375 56 \n",
       "Q 79.640625 56 84.28125 50.015625 \n",
       "Q 88.921875 44.046875 88.921875 33.015625 \n",
       "L 88.921875 0 \n",
       "L 79.890625 0 \n",
       "L 79.890625 32.71875 \n",
       "Q 79.890625 40.578125 77.09375 44.375 \n",
       "Q 74.3125 48.1875 68.609375 48.1875 \n",
       "Q 61.625 48.1875 57.5625 43.546875 \n",
       "Q 53.515625 38.921875 53.515625 30.90625 \n",
       "L 53.515625 0 \n",
       "L 44.484375 0 \n",
       "L 44.484375 32.71875 \n",
       "Q 44.484375 40.625 41.703125 44.40625 \n",
       "Q 38.921875 48.1875 33.109375 48.1875 \n",
       "Q 26.21875 48.1875 22.15625 43.53125 \n",
       "Q 18.109375 38.875 18.109375 30.90625 \n",
       "L 18.109375 0 \n",
       "L 9.078125 0 \n",
       "L 9.078125 54.6875 \n",
       "L 18.109375 54.6875 \n",
       "L 18.109375 46.1875 \n",
       "Q 21.1875 51.21875 25.484375 53.609375 \n",
       "Q 29.78125 56 35.6875 56 \n",
       "Q 41.65625 56 45.828125 52.96875 \n",
       "Q 50 49.953125 52 44.1875 \n",
       "z\n",
       "\" id=\"DejaVuSans-109\"/>\n",
       "       <path d=\"M 48.6875 27.296875 \n",
       "Q 48.6875 37.203125 44.609375 42.84375 \n",
       "Q 40.53125 48.484375 33.40625 48.484375 \n",
       "Q 26.265625 48.484375 22.1875 42.84375 \n",
       "Q 18.109375 37.203125 18.109375 27.296875 \n",
       "Q 18.109375 17.390625 22.1875 11.75 \n",
       "Q 26.265625 6.109375 33.40625 6.109375 \n",
       "Q 40.53125 6.109375 44.609375 11.75 \n",
       "Q 48.6875 17.390625 48.6875 27.296875 \n",
       "z\n",
       "M 18.109375 46.390625 \n",
       "Q 20.953125 51.265625 25.265625 53.625 \n",
       "Q 29.59375 56 35.59375 56 \n",
       "Q 45.5625 56 51.78125 48.09375 \n",
       "Q 58.015625 40.1875 58.015625 27.296875 \n",
       "Q 58.015625 14.40625 51.78125 6.484375 \n",
       "Q 45.5625 -1.421875 35.59375 -1.421875 \n",
       "Q 29.59375 -1.421875 25.265625 0.953125 \n",
       "Q 20.953125 3.328125 18.109375 8.203125 \n",
       "L 18.109375 0 \n",
       "L 9.078125 0 \n",
       "L 9.078125 75.984375 \n",
       "L 18.109375 75.984375 \n",
       "z\n",
       "\" id=\"DejaVuSans-98\"/>\n",
       "       <path d=\"M 56.203125 29.59375 \n",
       "L 56.203125 25.203125 \n",
       "L 14.890625 25.203125 \n",
       "Q 15.484375 15.921875 20.484375 11.0625 \n",
       "Q 25.484375 6.203125 34.421875 6.203125 \n",
       "Q 39.59375 6.203125 44.453125 7.46875 \n",
       "Q 49.3125 8.734375 54.109375 11.28125 \n",
       "L 54.109375 2.78125 \n",
       "Q 49.265625 0.734375 44.1875 -0.34375 \n",
       "Q 39.109375 -1.421875 33.890625 -1.421875 \n",
       "Q 20.796875 -1.421875 13.15625 6.1875 \n",
       "Q 5.515625 13.8125 5.515625 26.8125 \n",
       "Q 5.515625 40.234375 12.765625 48.109375 \n",
       "Q 20.015625 56 32.328125 56 \n",
       "Q 43.359375 56 49.78125 48.890625 \n",
       "Q 56.203125 41.796875 56.203125 29.59375 \n",
       "z\n",
       "M 47.21875 32.234375 \n",
       "Q 47.125 39.59375 43.09375 43.984375 \n",
       "Q 39.0625 48.390625 32.421875 48.390625 \n",
       "Q 24.90625 48.390625 20.390625 44.140625 \n",
       "Q 15.875 39.890625 15.1875 32.171875 \n",
       "z\n",
       "\" id=\"DejaVuSans-101\"/>\n",
       "       <path d=\"M 41.109375 46.296875 \n",
       "Q 39.59375 47.171875 37.8125 47.578125 \n",
       "Q 36.03125 48 33.890625 48 \n",
       "Q 26.265625 48 22.1875 43.046875 \n",
       "Q 18.109375 38.09375 18.109375 28.8125 \n",
       "L 18.109375 0 \n",
       "L 9.078125 0 \n",
       "L 9.078125 54.6875 \n",
       "L 18.109375 54.6875 \n",
       "L 18.109375 46.1875 \n",
       "Q 20.953125 51.171875 25.484375 53.578125 \n",
       "Q 30.03125 56 36.53125 56 \n",
       "Q 37.453125 56 38.578125 55.875 \n",
       "Q 39.703125 55.765625 41.0625 55.515625 \n",
       "z\n",
       "\" id=\"DejaVuSans-114\"/>\n",
       "      </defs>\n",
       "      <use xlink:href=\"#DejaVuSans-77\"/>\n",
       "      <use x=\"86.279297\" xlink:href=\"#DejaVuSans-97\"/>\n",
       "      <use x=\"147.558594\" xlink:href=\"#DejaVuSans-99\"/>\n",
       "      <use x=\"202.539062\" xlink:href=\"#DejaVuSans-104\"/>\n",
       "      <use x=\"265.917969\" xlink:href=\"#DejaVuSans-32\"/>\n",
       "      <use x=\"297.705078\" xlink:href=\"#DejaVuSans-110\"/>\n",
       "      <use x=\"361.083984\" xlink:href=\"#DejaVuSans-117\"/>\n",
       "      <use x=\"424.462891\" xlink:href=\"#DejaVuSans-109\"/>\n",
       "      <use x=\"521.875\" xlink:href=\"#DejaVuSans-98\"/>\n",
       "      <use x=\"585.351562\" xlink:href=\"#DejaVuSans-101\"/>\n",
       "      <use x=\"646.875\" xlink:href=\"#DejaVuSans-114\"/>\n",
       "     </g>\n",
       "    </g>\n",
       "   </g>\n",
       "   <g id=\"matplotlib.axis_2\">\n",
       "    <g id=\"ytick_1\">\n",
       "     <g id=\"line2d_11\">\n",
       "      <defs>\n",
       "       <path d=\"M 0 0 \n",
       "L 2.5 0 \n",
       "\" id=\"mf150d51e76\" style=\"stroke:#000000;stroke-width:0.5;\"/>\n",
       "      </defs>\n",
       "      <g>\n",
       "       <use style=\"stroke:#000000;stroke-width:0.5;\" x=\"38.341356\" xlink:href=\"#mf150d51e76\" y=\"186.225354\"/>\n",
       "      </g>\n",
       "     </g>\n",
       "     <g id=\"text_11\">\n",
       "      <!-- $\\mathregular{0.0}$ -->\n",
       "      <g transform=\"translate(22.041356 189.264729)scale(0.08 -0.08)\">\n",
       "       <defs>\n",
       "        <path d=\"M 10.6875 12.40625 \n",
       "L 21 12.40625 \n",
       "L 21 0 \n",
       "L 10.6875 0 \n",
       "z\n",
       "\" id=\"DejaVuSans-46\"/>\n",
       "       </defs>\n",
       "       <use transform=\"translate(0 0.78125)\" xlink:href=\"#DejaVuSans-48\"/>\n",
       "       <use transform=\"translate(63.623047 0.78125)\" xlink:href=\"#DejaVuSans-46\"/>\n",
       "       <use transform=\"translate(95.410156 0.78125)\" xlink:href=\"#DejaVuSans-48\"/>\n",
       "      </g>\n",
       "     </g>\n",
       "    </g>\n",
       "    <g id=\"ytick_2\">\n",
       "     <g id=\"line2d_12\">\n",
       "      <g>\n",
       "       <use style=\"stroke:#000000;stroke-width:0.5;\" x=\"38.341356\" xlink:href=\"#mf150d51e76\" y=\"141.277677\"/>\n",
       "      </g>\n",
       "     </g>\n",
       "     <g id=\"text_12\">\n",
       "      <!-- $\\mathregular{0.5}$ -->\n",
       "      <g transform=\"translate(22.041356 144.317052)scale(0.08 -0.08)\">\n",
       "       <use transform=\"translate(0 0.78125)\" xlink:href=\"#DejaVuSans-48\"/>\n",
       "       <use transform=\"translate(63.623047 0.78125)\" xlink:href=\"#DejaVuSans-46\"/>\n",
       "       <use transform=\"translate(95.410156 0.78125)\" xlink:href=\"#DejaVuSans-53\"/>\n",
       "      </g>\n",
       "     </g>\n",
       "    </g>\n",
       "    <g id=\"ytick_3\">\n",
       "     <g id=\"line2d_13\">\n",
       "      <g>\n",
       "       <use style=\"stroke:#000000;stroke-width:0.5;\" x=\"38.341356\" xlink:href=\"#mf150d51e76\" y=\"96.33\"/>\n",
       "      </g>\n",
       "     </g>\n",
       "     <g id=\"text_13\">\n",
       "      <!-- $\\mathregular{1.0}$ -->\n",
       "      <g transform=\"translate(22.041356 99.369375)scale(0.08 -0.08)\">\n",
       "       <use transform=\"translate(0 0.78125)\" xlink:href=\"#DejaVuSans-49\"/>\n",
       "       <use transform=\"translate(63.623047 0.78125)\" xlink:href=\"#DejaVuSans-46\"/>\n",
       "       <use transform=\"translate(95.410156 0.78125)\" xlink:href=\"#DejaVuSans-48\"/>\n",
       "      </g>\n",
       "     </g>\n",
       "    </g>\n",
       "    <g id=\"ytick_4\">\n",
       "     <g id=\"line2d_14\">\n",
       "      <g>\n",
       "       <use style=\"stroke:#000000;stroke-width:0.5;\" x=\"38.341356\" xlink:href=\"#mf150d51e76\" y=\"51.382323\"/>\n",
       "      </g>\n",
       "     </g>\n",
       "     <g id=\"text_14\">\n",
       "      <!-- $\\mathregular{1.5}$ -->\n",
       "      <g transform=\"translate(22.041356 54.421698)scale(0.08 -0.08)\">\n",
       "       <use transform=\"translate(0 0.09375)\" xlink:href=\"#DejaVuSans-49\"/>\n",
       "       <use transform=\"translate(63.623047 0.09375)\" xlink:href=\"#DejaVuSans-46\"/>\n",
       "       <use transform=\"translate(95.410156 0.09375)\" xlink:href=\"#DejaVuSans-53\"/>\n",
       "      </g>\n",
       "     </g>\n",
       "    </g>\n",
       "    <g id=\"ytick_5\">\n",
       "     <g id=\"line2d_15\">\n",
       "      <g>\n",
       "       <use style=\"stroke:#000000;stroke-width:0.5;\" x=\"38.341356\" xlink:href=\"#mf150d51e76\" y=\"6.434646\"/>\n",
       "      </g>\n",
       "     </g>\n",
       "     <g id=\"text_15\">\n",
       "      <!-- $\\mathregular{2.0}$ -->\n",
       "      <g transform=\"translate(22.041356 9.474021)scale(0.08 -0.08)\">\n",
       "       <use transform=\"translate(0 0.78125)\" xlink:href=\"#DejaVuSans-50\"/>\n",
       "       <use transform=\"translate(63.623047 0.78125)\" xlink:href=\"#DejaVuSans-46\"/>\n",
       "       <use transform=\"translate(95.410156 0.78125)\" xlink:href=\"#DejaVuSans-48\"/>\n",
       "      </g>\n",
       "     </g>\n",
       "    </g>\n",
       "    <g id=\"text_16\">\n",
       "     <!-- $T_0/T_0^*$ -->\n",
       "     <g transform=\"translate(14.961356 112.06)rotate(-90)scale(0.11 -0.11)\">\n",
       "      <defs>\n",
       "       <path d=\"M 4.59375 1.3125 \n",
       "Q 4.640625 1.5625 4.8125 2.1875 \n",
       "Q 4.984375 2.828125 5.25 3.171875 \n",
       "Q 5.515625 3.515625 6 3.515625 \n",
       "Q 14.59375 3.515625 17.390625 4 \n",
       "Q 20.0625 4.6875 20.609375 6.890625 \n",
       "L 34.28125 61.8125 \n",
       "Q 34.71875 63.03125 34.71875 64.015625 \n",
       "Q 34.71875 64.796875 31.203125 64.796875 \n",
       "L 25.390625 64.796875 \n",
       "Q 18.703125 64.796875 15.0625 62.734375 \n",
       "Q 11.421875 60.6875 9.71875 57.3125 \n",
       "Q 8.015625 53.953125 5.328125 46.296875 \n",
       "Q 4.984375 45.40625 4.296875 45.40625 \n",
       "L 3.421875 45.40625 \n",
       "Q 2.390625 45.40625 2.390625 46.6875 \n",
       "L 9.515625 67.390625 \n",
       "Q 9.71875 68.3125 10.5 68.3125 \n",
       "L 69.578125 68.3125 \n",
       "Q 70.609375 68.3125 70.609375 67 \n",
       "L 67.28125 46.296875 \n",
       "Q 67.28125 46 66.9375 45.703125 \n",
       "Q 66.609375 45.40625 66.3125 45.40625 \n",
       "L 65.375 45.40625 \n",
       "Q 64.40625 45.40625 64.40625 46.6875 \n",
       "Q 65.484375 53.765625 65.484375 56.6875 \n",
       "Q 65.484375 60.203125 64.015625 62 \n",
       "Q 62.546875 63.8125 60.203125 64.296875 \n",
       "Q 57.859375 64.796875 54.109375 64.796875 \n",
       "L 48.1875 64.796875 \n",
       "Q 45.515625 64.796875 44.578125 64.296875 \n",
       "Q 43.65625 63.8125 43.015625 61.375 \n",
       "L 29.296875 6.5 \n",
       "Q 29.25 6.296875 29.21875 6.09375 \n",
       "Q 29.203125 5.90625 29.109375 5.609375 \n",
       "Q 29.109375 4.34375 30.609375 4 \n",
       "Q 33.203125 3.515625 41.703125 3.515625 \n",
       "Q 42.671875 3.515625 42.671875 2.203125 \n",
       "Q 42.328125 0.78125 42.125 0.390625 \n",
       "Q 41.9375 0 41.015625 0 \n",
       "L 5.609375 0 \n",
       "Q 4.59375 0 4.59375 1.3125 \n",
       "z\n",
       "\" id=\"Cmmi10-84\"/>\n",
       "       <path d=\"M 25 -2.203125 \n",
       "Q 12.75 -2.203125 8.328125 7.875 \n",
       "Q 3.90625 17.96875 3.90625 31.890625 \n",
       "Q 3.90625 40.578125 5.484375 48.234375 \n",
       "Q 7.078125 55.90625 11.78125 61.25 \n",
       "Q 16.5 66.609375 25 66.609375 \n",
       "Q 31.59375 66.609375 35.78125 63.375 \n",
       "Q 39.984375 60.15625 42.1875 55.046875 \n",
       "Q 44.390625 49.953125 45.1875 44.109375 \n",
       "Q 46 38.28125 46 31.890625 \n",
       "Q 46 23.296875 44.40625 15.796875 \n",
       "Q 42.828125 8.296875 38.1875 3.046875 \n",
       "Q 33.546875 -2.203125 25 -2.203125 \n",
       "z\n",
       "M 25 0.390625 \n",
       "Q 30.5625 0.390625 33.296875 6.09375 \n",
       "Q 36.03125 11.8125 36.671875 18.75 \n",
       "Q 37.3125 25.6875 37.3125 33.5 \n",
       "Q 37.3125 41.015625 36.671875 47.359375 \n",
       "Q 36.03125 53.71875 33.3125 58.859375 \n",
       "Q 30.609375 64.015625 25 64.015625 \n",
       "Q 19.34375 64.015625 16.609375 58.828125 \n",
       "Q 13.875 53.65625 13.234375 47.328125 \n",
       "Q 12.59375 41.015625 12.59375 33.5 \n",
       "Q 12.59375 27.9375 12.859375 23 \n",
       "Q 13.140625 18.0625 14.3125 12.8125 \n",
       "Q 15.484375 7.5625 18.09375 3.96875 \n",
       "Q 20.703125 0.390625 25 0.390625 \n",
       "z\n",
       "\" id=\"Cmr10-48\"/>\n",
       "       <path d=\"M 5.609375 -23 \n",
       "Q 5.609375 -22.703125 5.71875 -22.609375 \n",
       "L 40.484375 73.78125 \n",
       "Q 40.671875 74.359375 41.15625 74.671875 \n",
       "Q 41.65625 75 42.28125 75 \n",
       "Q 43.171875 75 43.71875 74.453125 \n",
       "Q 44.28125 73.921875 44.28125 73 \n",
       "L 44.28125 72.609375 \n",
       "L 9.515625 -23.78125 \n",
       "Q 8.9375 -25 7.625 -25 \n",
       "Q 6.78125 -25 6.1875 -24.40625 \n",
       "Q 5.609375 -23.828125 5.609375 -23 \n",
       "z\n",
       "\" id=\"Cmmi10-61\"/>\n",
       "       <path d=\"M 9.421875 12.703125 \n",
       "Q 8.296875 12.703125 7.390625 13.640625 \n",
       "Q 6.5 14.59375 6.5 15.71875 \n",
       "Q 6.5 17.4375 7.90625 18.109375 \n",
       "L 22.3125 25 \n",
       "L 7.90625 31.78125 \n",
       "Q 6.5 32.375 6.5 34.1875 \n",
       "Q 6.5 35.296875 7.390625 36.25 \n",
       "Q 8.296875 37.203125 9.421875 37.203125 \n",
       "Q 10.15625 37.203125 10.796875 36.71875 \n",
       "L 23.578125 27.390625 \n",
       "L 22.125 43.703125 \n",
       "Q 22.125 44.921875 22.953125 45.703125 \n",
       "Q 23.78125 46.484375 25 46.484375 \n",
       "Q 26.171875 46.484375 26.96875 45.75 \n",
       "Q 27.78125 45.015625 27.78125 43.890625 \n",
       "L 27.78125 43.703125 \n",
       "L 26.3125 27.390625 \n",
       "L 39.109375 36.71875 \n",
       "Q 39.75 37.203125 40.484375 37.203125 \n",
       "Q 41.703125 37.203125 42.546875 36.25 \n",
       "Q 43.40625 35.296875 43.40625 34.1875 \n",
       "Q 43.40625 32.375 42 31.78125 \n",
       "L 27.59375 25 \n",
       "L 42 18.109375 \n",
       "Q 43.40625 17.4375 43.40625 15.71875 \n",
       "Q 43.40625 14.59375 42.546875 13.640625 \n",
       "Q 41.703125 12.703125 40.484375 12.703125 \n",
       "Q 39.75 12.703125 39.109375 13.1875 \n",
       "L 26.3125 22.515625 \n",
       "L 27.78125 6.296875 \n",
       "L 27.78125 6 \n",
       "Q 27.78125 4.890625 26.921875 4.15625 \n",
       "Q 26.078125 3.421875 25 3.421875 \n",
       "Q 23.828125 3.421875 22.96875 4.21875 \n",
       "Q 22.125 5.03125 22.125 6.203125 \n",
       "L 23.578125 22.515625 \n",
       "L 10.796875 13.1875 \n",
       "Q 10.15625 12.703125 9.421875 12.703125 \n",
       "z\n",
       "\" id=\"Cmsy10-164\"/>\n",
       "      </defs>\n",
       "      <use xlink:href=\"#Cmmi10-84\"/>\n",
       "      <use transform=\"translate(58.398438 -17.00625)scale(0.7)\" xlink:href=\"#Cmr10-48\"/>\n",
       "      <use transform=\"translate(99.775781 0)\" xlink:href=\"#Cmmi10-61\"/>\n",
       "      <use transform=\"translate(149.775781 0)\" xlink:href=\"#Cmmi10-84\"/>\n",
       "      <use transform=\"translate(231.834766 38.264062)scale(0.7)\" xlink:href=\"#Cmsy10-164\"/>\n",
       "      <use transform=\"translate(208.174219 -25.509375)scale(0.7)\" xlink:href=\"#Cmr10-48\"/>\n",
       "     </g>\n",
       "    </g>\n",
       "   </g>\n",
       "   <g id=\"line2d_16\">\n",
       "    <path clip-path=\"url(#p56cf535a83)\" d=\"M 38.371836 118.803839 \n",
       "L 282.178479 118.803839 \n",
       "L 282.178479 118.803839 \n",
       "\" style=\"fill:none;stroke:#e36f47;stroke-dasharray:3.7,1.6;stroke-dashoffset:0;\"/>\n",
       "   </g>\n",
       "   <g id=\"patch_3\">\n",
       "    <path d=\"M 38.341356 186.225354 \n",
       "L 38.341356 6.434646 \n",
       "\" style=\"fill:none;stroke:#000000;stroke-linecap:square;stroke-linejoin:miter;\"/>\n",
       "   </g>\n",
       "   <g id=\"patch_4\">\n",
       "    <path d=\"M 38.341356 186.225354 \n",
       "L 282.178479 186.225354 \n",
       "\" style=\"fill:none;stroke:#000000;stroke-linecap:square;stroke-linejoin:miter;\"/>\n",
       "   </g>\n",
       "  </g>\n",
       " </g>\n",
       " <defs>\n",
       "  <clipPath id=\"p56cf535a83\">\n",
       "   <rect height=\"179.790709\" width=\"243.837123\" x=\"38.341356\" y=\"6.434646\"/>\n",
       "  </clipPath>\n",
       " </defs>\n",
       "</svg>\n"
      ]
     },
     "metadata": {},
     "execution_count": 11
    }
   ],
   "cell_type": "code",
   "source": [
    "plot(Mrange,T0_over_T0star,xlim=(0,8),ylim=(0,2),xticks=0:1:8,xlabel=\"Mach number\",ylabel=L\"T_0/T_0^*\",legend=false)\n",
    "plot!(Mrange,0.75*ones(length(Mrange)),style=:dash)"
   ],
   "metadata": {},
   "execution_count": 11
  },
  {
   "cell_type": "markdown",
   "source": [
    "For example, if $T_0/T_0^* = 0.75$, there are two possible Mach numbers, one subsonic\n",
    "and one supersonic. The correct one depends on the circumstances."
   ],
   "metadata": {}
  },
  {
   "outputs": [
    {
     "output_type": "execute_result",
     "data": {
      "text/plain": "(Gasdynamics1D.MachNumber{Float64}(0.5423261445466405, \"Gasdynamics1D.MachNumber\"), Gasdynamics1D.MachNumber{Float64}(2.2360679774997907, \"Gasdynamics1D.MachNumber\"))"
     },
     "metadata": {},
     "execution_count": 12
    }
   ],
   "cell_type": "code",
   "source": [
    "Msub, Msup = MachNumber(TemperatureRatio(0.75),RayleighFlow,gas=Air)"
   ],
   "metadata": {},
   "execution_count": 12
  },
  {
   "outputs": [
    {
     "output_type": "execute_result",
     "data": {
      "text/plain": "Gasdynamics1D.MachNumber = 0.5423261445466405"
     },
     "metadata": {},
     "execution_count": 13
    }
   ],
   "cell_type": "code",
   "source": [
    "Msub"
   ],
   "metadata": {},
   "execution_count": 13
  },
  {
   "outputs": [
    {
     "output_type": "execute_result",
     "data": {
      "text/plain": "Gasdynamics1D.MachNumber = 2.2360679774997907"
     },
     "metadata": {},
     "execution_count": 14
    }
   ],
   "cell_type": "code",
   "source": [
    "Msup"
   ],
   "metadata": {},
   "execution_count": 14
  },
  {
   "cell_type": "markdown",
   "source": [
    "### Example\n",
    "Suppose the flow of air in a duct enters with velocity 75 m/s at a pressure of\n",
    "150 kPa and temperature 300 K. We add heat 900 kJ/kg. Find\n",
    "\n",
    "(a) The value of the Mach number at the entrance and exit\n",
    "\n",
    "(b) The velocity, pressure, and temperature at the exit\n",
    "\n",
    "(c) The maximum amount of heat we can add so that the flow is just choked"
   ],
   "metadata": {}
  },
  {
   "cell_type": "markdown",
   "source": [
    "Set the given values"
   ],
   "metadata": {}
  },
  {
   "outputs": [
    {
     "output_type": "execute_result",
     "data": {
      "text/plain": "Gasdynamics1D.HeatFlux = 900000.0 J kg⁻¹"
     },
     "metadata": {},
     "execution_count": 15
    }
   ],
   "cell_type": "code",
   "source": [
    "u1 = Velocity(75u\"m/s\")\n",
    "p1 = Pressure(150u\"kPa\")\n",
    "T1 = Temperature(300)\n",
    "q = HeatFlux(900u\"kJ/kg\")"
   ],
   "metadata": {},
   "execution_count": 15
  },
  {
   "cell_type": "markdown",
   "source": [
    "We can immediately find the Mach number at the location 1, by finding $c_1$:"
   ],
   "metadata": {}
  },
  {
   "outputs": [
    {
     "output_type": "execute_result",
     "data": {
      "text/plain": "Gasdynamics1D.MachNumber = 0.216020849610405"
     },
     "metadata": {},
     "execution_count": 16
    }
   ],
   "cell_type": "code",
   "source": [
    "c1 = SoundSpeed(T1,gas=Air)\n",
    "M1 = MachNumber(u1/c1)"
   ],
   "metadata": {},
   "execution_count": 16
  },
  {
   "cell_type": "markdown",
   "source": [
    "Now, use $M_1$ and $T_1$ to find $T_{01}$."
   ],
   "metadata": {}
  },
  {
   "outputs": [
    {
     "output_type": "execute_result",
     "data": {
      "text/plain": "Gasdynamics1D.StagnationTemperature = 302.79990044798404 K"
     },
     "metadata": {},
     "execution_count": 17
    }
   ],
   "cell_type": "code",
   "source": [
    "T01 = StagnationTemperature(T1,M1,Isentropic,gas=Air)"
   ],
   "metadata": {},
   "execution_count": 17
  },
  {
   "cell_type": "markdown",
   "source": [
    "Now let's focus on state 2. We will use the basic relation $h_{02} = h_{01} + q$\n",
    "to determine $T_{02}$."
   ],
   "metadata": {}
  },
  {
   "outputs": [
    {
     "output_type": "execute_result",
     "data": {
      "text/plain": "Gasdynamics1D.StagnationTemperature = 1198.768043802887 K"
     },
     "metadata": {},
     "execution_count": 18
    }
   ],
   "cell_type": "code",
   "source": [
    "h01 = StagnationEnthalpy(T01,gas=Air)\n",
    "h02 = StagnationEnthalpy(h01+q)\n",
    "T02 = StagnationTemperature(h02,gas=Air)"
   ],
   "metadata": {},
   "execution_count": 18
  },
  {
   "cell_type": "markdown",
   "source": [
    "To get the other states at location 2, we need the sonic reference conditions.\n",
    "For example, we will find\n",
    "\n",
    "$$T_{02}/T_{0}^*$$\n",
    "to determine $M_2$. We get this by calculating\n",
    "\n",
    "$$T_{0}^* = T_{01}/(T_{01}/T_{0}^*)$$"
   ],
   "metadata": {}
  },
  {
   "outputs": [
    {
     "output_type": "execute_result",
     "data": {
      "text/plain": "Gasdynamics1D.StagnationTemperature = 1520.0497967479669 K"
     },
     "metadata": {},
     "execution_count": 19
    }
   ],
   "cell_type": "code",
   "source": [
    "T0star = StagnationTemperature(T01/T0OverT0Star(M1,RayleighFlow,gas=Air))"
   ],
   "metadata": {},
   "execution_count": 19
  },
  {
   "outputs": [
    {
     "output_type": "execute_result",
     "data": {
      "text/plain": "Gasdynamics1D.TemperatureRatio = 0.788637350149687"
     },
     "metadata": {},
     "execution_count": 20
    }
   ],
   "cell_type": "code",
   "source": [
    "T02_over_T0star = TemperatureRatio(T02/T0star)"
   ],
   "metadata": {},
   "execution_count": 20
  },
  {
   "outputs": [
    {
     "output_type": "execute_result",
     "data": {
      "text/plain": "(Gasdynamics1D.MachNumber{Float64}(0.5733204685023365, \"Gasdynamics1D.MachNumber\"), Gasdynamics1D.MachNumber{Float64}(2.0239173983089973, \"Gasdynamics1D.MachNumber\"))"
     },
     "metadata": {},
     "execution_count": 21
    }
   ],
   "cell_type": "code",
   "source": [
    "M2sub, M2sup = MachNumber(T02_over_T0star,RayleighFlow,gas=Air)"
   ],
   "metadata": {},
   "execution_count": 21
  },
  {
   "cell_type": "markdown",
   "source": [
    "The subsonic one is the only possible candidate, because the flow came in at\n",
    "subsonic speed and can't have passed through Mach number 1. Thus"
   ],
   "metadata": {}
  },
  {
   "outputs": [
    {
     "output_type": "execute_result",
     "data": {
      "text/plain": "Gasdynamics1D.MachNumber = 0.5733204685023365"
     },
     "metadata": {},
     "execution_count": 22
    }
   ],
   "cell_type": "code",
   "source": [
    "M2 = M2sub"
   ],
   "metadata": {},
   "execution_count": 22
  },
  {
   "cell_type": "markdown",
   "source": [
    "We have increased the Mach number from 0.216 to 0.573 by adding heat."
   ],
   "metadata": {}
  },
  {
   "cell_type": "markdown",
   "source": [
    "Now find the other reference states that we will use:"
   ],
   "metadata": {}
  },
  {
   "outputs": [
    {
     "output_type": "execute_result",
     "data": {
      "text/plain": "Gasdynamics1D.Temperature = 1266.708163956639 K"
     },
     "metadata": {},
     "execution_count": 23
    }
   ],
   "cell_type": "code",
   "source": [
    "pstar = Pressure(p1/POverPStar(M1,RayleighFlow,gas=Air))\n",
    "ustar = Velocity(u1/VOverVStar(M1,RayleighFlow,gas=Air))\n",
    "Tstar = Temperature(T1/TOverTStar(M1,RayleighFlow,gas=Air))"
   ],
   "metadata": {},
   "execution_count": 23
  },
  {
   "cell_type": "markdown",
   "source": [
    "and now the values themselves. For example, we use $M_2$ to calculate $p_2/p^*$\n",
    "and then calculate $p_2 = p^*(p_2/p^*)$."
   ],
   "metadata": {}
  },
  {
   "outputs": [
    {
     "output_type": "execute_result",
     "data": {
      "text/plain": "Gasdynamics1D.Pressure = 109438.70572689772 Pa"
     },
     "metadata": {},
     "execution_count": 24
    }
   ],
   "cell_type": "code",
   "source": [
    "p2 = Pressure(pstar*POverPStar(M2,RayleighFlow,gas=Air))"
   ],
   "metadata": {},
   "execution_count": 24
  },
  {
   "outputs": [
    {
     "output_type": "execute_result",
     "data": {
      "text/plain": "Gasdynamics1D.Velocity = 385.4291055034761 m s⁻¹"
     },
     "metadata": {},
     "execution_count": 25
    }
   ],
   "cell_type": "code",
   "source": [
    "u2 = Velocity(ustar*VOverVStar(M2,RayleighFlow,gas=Air))"
   ],
   "metadata": {},
   "execution_count": 25
  },
  {
   "outputs": [
    {
     "output_type": "execute_result",
     "data": {
      "text/plain": "Gasdynamics1D.Temperature = 1124.822998820702 K"
     },
     "metadata": {},
     "execution_count": 26
    }
   ],
   "cell_type": "code",
   "source": [
    "T2 = Temperature(Tstar*TOverTStar(M2,RayleighFlow,gas=Air))"
   ],
   "metadata": {},
   "execution_count": 26
  },
  {
   "cell_type": "markdown",
   "source": [
    "Finally, let us calculate the maximum heat flux -- the heat flux that brings the\n",
    "flow just to sonic conditions when starting at the given conditions at location 1.\n",
    "This comes from\n",
    "\n",
    "$$q_{max} = h_{0}^* - h_{01} = c_p (T_0^* - T_{01})$$\n",
    "\n",
    "We have a convenience function for that, based on stagnation temperature:"
   ],
   "metadata": {}
  },
  {
   "outputs": [
    {
     "output_type": "execute_result",
     "data": {
      "text/plain": "Gasdynamics1D.HeatFlux = 1.2227275208333328e6 J kg⁻¹"
     },
     "metadata": {},
     "execution_count": 27
    }
   ],
   "cell_type": "code",
   "source": [
    "qmax = HeatFlux(T01,T0star,gas=Air)"
   ],
   "metadata": {},
   "execution_count": 27
  },
  {
   "outputs": [
    {
     "output_type": "execute_result",
     "data": {
      "text/plain": "1222.7275208333328 kJ kg⁻¹"
     },
     "metadata": {},
     "execution_count": 28
    }
   ],
   "cell_type": "code",
   "source": [
    "value(qmax,u\"kJ/kg\")"
   ],
   "metadata": {},
   "execution_count": 28
  },
  {
   "cell_type": "markdown",
   "source": [
    "Thus, we can add up to 1223 kJ/kg before the flow gets choked. Any more than that\n",
    "will cause the entrance conditions to change."
   ],
   "metadata": {}
  },
  {
   "cell_type": "markdown",
   "source": [
    "---\n",
    "\n",
    "*This notebook was generated using [Literate.jl](https://github.com/fredrikekre/Literate.jl).*"
   ],
   "metadata": {}
  }
 ],
 "nbformat_minor": 3,
 "metadata": {
  "language_info": {
   "file_extension": ".jl",
   "mimetype": "application/julia",
   "name": "julia",
   "version": "1.5.3"
  },
  "kernelspec": {
   "name": "julia-1.5",
   "display_name": "Julia 1.5.3",
   "language": "julia"
  }
 },
 "nbformat": 4
}
