{
 "cells": [
  {
   "cell_type": "markdown",
   "source": [
    "<img src=\"https://raw.githubusercontent.com/UCLAMAEThreads/MAE150A/master/notebook/logo_UCLA_blue_boxed.svg\" alt=\"ucla logo\" width=\"150\" align=\"left\"/>"
   ],
   "metadata": {}
  },
  {
   "cell_type": "markdown",
   "source": [
    "### **MAE 150A - Intermediate Fluid Mechanics**\n",
    "<hr />"
   ],
   "metadata": {}
  },
  {
   "cell_type": "markdown",
   "source": [
    "# Steady flow through a duct with heat transfer\n",
    "This notebook demonstrates the use of tools for computing steady compressible flow\n",
    "through a constant-area duct with heat transfer, commonly known as **Rayleigh flow**."
   ],
   "metadata": {}
  },
  {
   "cell_type": "markdown",
   "source": [
    "### Set up the module"
   ],
   "metadata": {}
  },
  {
   "outputs": [],
   "cell_type": "code",
   "source": [
    "using MAE150A\n",
    "using Gasdynamics1D"
   ],
   "metadata": {},
   "execution_count": 1
  },
  {
   "outputs": [],
   "cell_type": "code",
   "source": [
    "using Plots"
   ],
   "metadata": {},
   "execution_count": 2
  },
  {
   "cell_type": "markdown",
   "source": [
    "#### Simple example\n",
    "In a duct with helium, if the flow enters with stagnation temperature of 20 degrees C,\n",
    "how much does the stagnation temperature change if we add heat 400 kJ/kg?"
   ],
   "metadata": {}
  },
  {
   "outputs": [
    {
     "output_type": "execute_result",
     "data": {
      "text/plain": "StagnationTemperature = 293.15 K"
     },
     "metadata": {},
     "execution_count": 3
    }
   ],
   "cell_type": "code",
   "source": [
    "q = HeatFlux(400u\"kJ/kg\")\n",
    "T01 = StagnationTemperature(20u\"°C\")"
   ],
   "metadata": {},
   "execution_count": 3
  },
  {
   "cell_type": "markdown",
   "source": [
    "starting stagnation enthalpy"
   ],
   "metadata": {}
  },
  {
   "outputs": [
    {
     "output_type": "execute_result",
     "data": {
      "text/plain": "StagnationEnthalpy = 1.5223751427893795e6 J kg⁻¹"
     },
     "metadata": {},
     "execution_count": 4
    }
   ],
   "cell_type": "code",
   "source": [
    "h01 = StagnationEnthalpy(T01,gas=He) # h01 = cp*T01"
   ],
   "metadata": {},
   "execution_count": 4
  },
  {
   "cell_type": "markdown",
   "source": [
    "add the heat"
   ],
   "metadata": {}
  },
  {
   "outputs": [
    {
     "output_type": "execute_result",
     "data": {
      "text/plain": "StagnationEnthalpy = 1.9223751427893795e6 J kg⁻¹"
     },
     "metadata": {},
     "execution_count": 5
    }
   ],
   "cell_type": "code",
   "source": [
    "h02 = StagnationEnthalpy(h01 + q)"
   ],
   "metadata": {},
   "execution_count": 5
  },
  {
   "cell_type": "markdown",
   "source": [
    "calculate the final stagnation temperature"
   ],
   "metadata": {}
  },
  {
   "outputs": [
    {
     "output_type": "execute_result",
     "data": {
      "text/plain": "StagnationTemperature = 370.17437901419606 K"
     },
     "metadata": {},
     "execution_count": 6
    }
   ],
   "cell_type": "code",
   "source": [
    "T02 = StagnationTemperature(h02,gas=He)  # T02 = h02/cp"
   ],
   "metadata": {},
   "execution_count": 6
  },
  {
   "cell_type": "markdown",
   "source": [
    "Report the final value in Celsius:"
   ],
   "metadata": {}
  },
  {
   "outputs": [
    {
     "output_type": "execute_result",
     "data": {
      "text/plain": "97.02437901419609 °C"
     },
     "metadata": {},
     "execution_count": 7
    }
   ],
   "cell_type": "code",
   "source": [
    "value(T02,u\"°C\")"
   ],
   "metadata": {},
   "execution_count": 7
  },
  {
   "cell_type": "markdown",
   "source": [
    "so the flow exiting the duct has stagnation temperature 97 C."
   ],
   "metadata": {}
  },
  {
   "cell_type": "markdown",
   "source": [
    "The sonic state is used as a reference, similar to Fanno flow and isentropic flow.\n",
    "All states share the same $T_{0}^*$, $p^*$, $u^*$, etc, so we can relate two points\n",
    "via this reference. We have functions that allow us to do this. For example, to\n",
    "find the ratio of the local stagnation temperature to its sonic reference value\n",
    "at Mach number 0.5 in air:"
   ],
   "metadata": {}
  },
  {
   "outputs": [
    {
     "output_type": "execute_result",
     "data": {
      "text/plain": "TemperatureRatio = 0.691358024691358"
     },
     "metadata": {},
     "execution_count": 8
    }
   ],
   "cell_type": "code",
   "source": [
    "T0OverT0Star(MachNumber(0.5),RayleighFlow,gas=Air)"
   ],
   "metadata": {},
   "execution_count": 8
  },
  {
   "cell_type": "markdown",
   "source": [
    "Note that the argument `RayleighFlow` was used to designate this function's use.\n",
    "If the Mach number is 1, then..."
   ],
   "metadata": {}
  },
  {
   "outputs": [
    {
     "output_type": "execute_result",
     "data": {
      "text/plain": "TemperatureRatio = 1.0"
     },
     "metadata": {},
     "execution_count": 9
    }
   ],
   "cell_type": "code",
   "source": [
    "T0OverT0Star(MachNumber(1),RayleighFlow,gas=Air)"
   ],
   "metadata": {},
   "execution_count": 9
  },
  {
   "cell_type": "markdown",
   "source": [
    "That is, $T_{0}$ is equal to $T_{0}^*$ when Mach number is 1, as it should be,\n",
    "by definition.\n",
    "Alternatively, if we know $T_0/T_0^*$, we can determine $M$. However, there are\n",
    "sometimes two possible values of Mach number, as with Fanno flow and isentropic flow."
   ],
   "metadata": {}
  },
  {
   "outputs": [],
   "cell_type": "code",
   "source": [
    "Mrange = range(0.001,8,length=801)\n",
    "T0_over_T0star = []\n",
    "for M in Mrange\n",
    "    push!(T0_over_T0star,value(T0OverT0Star(MachNumber(M),RayleighFlow,gas=Air)))\n",
    "end"
   ],
   "metadata": {},
   "execution_count": 10
  },
  {
   "outputs": [
    {
     "output_type": "execute_result",
     "data": {
      "text/plain": "Plot{Plots.GRBackend() n=2}",
      "image/png": "[encoded data removed]",
      "text/html": [
       "<?xml version=\"1.0\" encoding=\"utf-8\"?>\n",
       "<svg xmlns=\"http://www.w3.org/2000/svg\" xmlns:xlink=\"http://www.w3.org/1999/xlink\" width=\"400\" height=\"300\" viewBox=\"0 0 1600 1200\">\n",
       "<defs>\n",
       "  <clipPath id=\"clip180\">\n",
       "    <rect x=\"0\" y=\"0\" width=\"1600\" height=\"1200\"/>\n",
       "  </clipPath>\n",
       "</defs>\n",
       "<path clip-path=\"url(#clip180)\" d=\"\n",
       "M0 1200 L1600 1200 L1600 0 L0 0  Z\n",
       "  \" fill=\"#ffffff\" fill-rule=\"evenodd\" fill-opacity=\"1\"/>\n",
       "<defs>\n",
       "  <clipPath id=\"clip181\">\n",
       "    <rect x=\"320\" y=\"0\" width=\"1121\" height=\"1121\"/>\n",
       "  </clipPath>\n",
       "</defs>\n",
       "<defs>\n",
       "  <clipPath id=\"clip182\">\n",
       "    <rect x=\"232\" y=\"47\" width=\"1322\" height=\"971\"/>\n",
       "  </clipPath>\n",
       "</defs>\n",
       "<path clip-path=\"url(#clip180)\" d=\"\n",
       "M232.142 1016.92 L1552.76 1016.92 L1552.76 47.2441 L232.142 47.2441  Z\n",
       "  \" fill=\"#ffffff\" fill-rule=\"evenodd\" fill-opacity=\"1\"/>\n",
       "<polyline clip-path=\"url(#clip180)\" style=\"stroke:#000000; stroke-linecap:round; stroke-linejoin:round; stroke-width:4; stroke-opacity:1; fill:none\" points=\"\n",
       "  232.142,1016.92 1552.76,1016.92 \n",
       "  \"/>\n",
       "<polyline clip-path=\"url(#clip180)\" style=\"stroke:#000000; stroke-linecap:round; stroke-linejoin:round; stroke-width:4; stroke-opacity:1; fill:none\" points=\"\n",
       "  232.142,1016.92 232.142,998.022 \n",
       "  \"/>\n",
       "<polyline clip-path=\"url(#clip180)\" style=\"stroke:#000000; stroke-linecap:round; stroke-linejoin:round; stroke-width:4; stroke-opacity:1; fill:none\" points=\"\n",
       "  397.218,1016.92 397.218,998.022 \n",
       "  \"/>\n",
       "<polyline clip-path=\"url(#clip180)\" style=\"stroke:#000000; stroke-linecap:round; stroke-linejoin:round; stroke-width:4; stroke-opacity:1; fill:none\" points=\"\n",
       "  562.295,1016.92 562.295,998.022 \n",
       "  \"/>\n",
       "<polyline clip-path=\"url(#clip180)\" style=\"stroke:#000000; stroke-linecap:round; stroke-linejoin:round; stroke-width:4; stroke-opacity:1; fill:none\" points=\"\n",
       "  727.372,1016.92 727.372,998.022 \n",
       "  \"/>\n",
       "<polyline clip-path=\"url(#clip180)\" style=\"stroke:#000000; stroke-linecap:round; stroke-linejoin:round; stroke-width:4; stroke-opacity:1; fill:none\" points=\"\n",
       "  892.449,1016.92 892.449,998.022 \n",
       "  \"/>\n",
       "<polyline clip-path=\"url(#clip180)\" style=\"stroke:#000000; stroke-linecap:round; stroke-linejoin:round; stroke-width:4; stroke-opacity:1; fill:none\" points=\"\n",
       "  1057.53,1016.92 1057.53,998.022 \n",
       "  \"/>\n",
       "<polyline clip-path=\"url(#clip180)\" style=\"stroke:#000000; stroke-linecap:round; stroke-linejoin:round; stroke-width:4; stroke-opacity:1; fill:none\" points=\"\n",
       "  1222.6,1016.92 1222.6,998.022 \n",
       "  \"/>\n",
       "<polyline clip-path=\"url(#clip180)\" style=\"stroke:#000000; stroke-linecap:round; stroke-linejoin:round; stroke-width:4; stroke-opacity:1; fill:none\" points=\"\n",
       "  1387.68,1016.92 1387.68,998.022 \n",
       "  \"/>\n",
       "<polyline clip-path=\"url(#clip180)\" style=\"stroke:#000000; stroke-linecap:round; stroke-linejoin:round; stroke-width:4; stroke-opacity:1; fill:none\" points=\"\n",
       "  1552.76,1016.92 1552.76,998.022 \n",
       "  \"/>\n",
       "<path clip-path=\"url(#clip180)\" d=\"M232.142 1041.44 Q228.531 1041.44 226.702 1045 Q224.896 1048.54 224.896 1055.67 Q224.896 1062.78 226.702 1066.35 Q228.531 1069.89 232.142 1069.89 Q235.776 1069.89 237.581 1066.35 Q239.41 1062.78 239.41 1055.67 Q239.41 1048.54 237.581 1045 Q235.776 1041.44 232.142 1041.44 M232.142 1037.73 Q237.952 1037.73 241.007 1042.34 Q244.086 1046.92 244.086 1055.67 Q244.086 1064.4 241.007 1069.01 Q237.952 1073.59 232.142 1073.59 Q226.332 1073.59 223.253 1069.01 Q220.197 1064.4 220.197 1055.67 Q220.197 1046.92 223.253 1042.34 Q226.332 1037.73 232.142 1037.73 Z\" fill=\"#000000\" fill-rule=\"evenodd\" fill-opacity=\"1\" /><path clip-path=\"url(#clip180)\" d=\"M387.6 1068.98 L395.239 1068.98 L395.239 1042.62 L386.929 1044.29 L386.929 1040.03 L395.193 1038.36 L399.869 1038.36 L399.869 1068.98 L407.508 1068.98 L407.508 1072.92 L387.6 1072.92 L387.6 1068.98 Z\" fill=\"#000000\" fill-rule=\"evenodd\" fill-opacity=\"1\" /><path clip-path=\"url(#clip180)\" d=\"M556.948 1068.98 L573.267 1068.98 L573.267 1072.92 L551.323 1072.92 L551.323 1068.98 Q553.985 1066.23 558.568 1061.6 Q563.175 1056.95 564.355 1055.61 Q566.601 1053.08 567.48 1051.35 Q568.383 1049.59 568.383 1047.9 Q568.383 1045.14 566.439 1043.41 Q564.517 1041.67 561.416 1041.67 Q559.217 1041.67 556.763 1042.43 Q554.332 1043.2 551.555 1044.75 L551.555 1040.03 Q554.379 1038.89 556.832 1038.31 Q559.286 1037.73 561.323 1037.73 Q566.693 1037.73 569.888 1040.42 Q573.082 1043.11 573.082 1047.6 Q573.082 1049.73 572.272 1051.65 Q571.485 1053.54 569.379 1056.14 Q568.8 1056.81 565.698 1060.03 Q562.596 1063.22 556.948 1068.98 Z\" fill=\"#000000\" fill-rule=\"evenodd\" fill-opacity=\"1\" /><path clip-path=\"url(#clip180)\" d=\"M731.62 1054.29 Q734.976 1055 736.851 1057.27 Q738.749 1059.54 738.749 1062.87 Q738.749 1067.99 735.231 1070.79 Q731.712 1073.59 725.231 1073.59 Q723.055 1073.59 720.74 1073.15 Q718.448 1072.73 715.995 1071.88 L715.995 1067.36 Q717.939 1068.5 720.254 1069.08 Q722.569 1069.66 725.092 1069.66 Q729.49 1069.66 731.782 1067.92 Q734.097 1066.18 734.097 1062.87 Q734.097 1059.82 731.944 1058.11 Q729.814 1056.37 725.995 1056.37 L721.967 1056.37 L721.967 1052.53 L726.18 1052.53 Q729.629 1052.53 731.458 1051.16 Q733.286 1049.77 733.286 1047.18 Q733.286 1044.52 731.388 1043.11 Q729.513 1041.67 725.995 1041.67 Q724.073 1041.67 721.874 1042.09 Q719.675 1042.5 717.036 1043.38 L717.036 1039.22 Q719.698 1038.48 722.013 1038.11 Q724.351 1037.73 726.411 1037.73 Q731.735 1037.73 734.837 1040.17 Q737.939 1042.57 737.939 1046.69 Q737.939 1049.56 736.296 1051.55 Q734.652 1053.52 731.62 1054.29 Z\" fill=\"#000000\" fill-rule=\"evenodd\" fill-opacity=\"1\" /><path clip-path=\"url(#clip180)\" d=\"M895.458 1042.43 L883.653 1060.88 L895.458 1060.88 L895.458 1042.43 M894.231 1038.36 L900.111 1038.36 L900.111 1060.88 L905.041 1060.88 L905.041 1064.77 L900.111 1064.77 L900.111 1072.92 L895.458 1072.92 L895.458 1064.77 L879.856 1064.77 L879.856 1060.26 L894.231 1038.36 Z\" fill=\"#000000\" fill-rule=\"evenodd\" fill-opacity=\"1\" /><path clip-path=\"url(#clip180)\" d=\"M1047.8 1038.36 L1066.16 1038.36 L1066.16 1042.3 L1052.09 1042.3 L1052.09 1050.77 Q1053.1 1050.42 1054.12 1050.26 Q1055.14 1050.07 1056.16 1050.07 Q1061.95 1050.07 1065.33 1053.24 Q1068.71 1056.42 1068.71 1061.83 Q1068.71 1067.41 1065.23 1070.51 Q1061.76 1073.59 1055.44 1073.59 Q1053.27 1073.59 1051 1073.22 Q1048.75 1072.85 1046.35 1072.11 L1046.35 1067.41 Q1048.43 1068.54 1050.65 1069.1 Q1052.87 1069.66 1055.35 1069.66 Q1059.35 1069.66 1061.69 1067.55 Q1064.03 1065.44 1064.03 1061.83 Q1064.03 1058.22 1061.69 1056.11 Q1059.35 1054.01 1055.35 1054.01 Q1053.47 1054.01 1051.6 1054.42 Q1049.75 1054.84 1047.8 1055.72 L1047.8 1038.36 Z\" fill=\"#000000\" fill-rule=\"evenodd\" fill-opacity=\"1\" /><path clip-path=\"url(#clip180)\" d=\"M1223.01 1053.78 Q1219.86 1053.78 1218.01 1055.93 Q1216.18 1058.08 1216.18 1061.83 Q1216.18 1065.56 1218.01 1067.73 Q1219.86 1069.89 1223.01 1069.89 Q1226.16 1069.89 1227.98 1067.73 Q1229.84 1065.56 1229.84 1061.83 Q1229.84 1058.08 1227.98 1055.93 Q1226.16 1053.78 1223.01 1053.78 M1232.29 1039.12 L1232.29 1043.38 Q1230.53 1042.55 1228.72 1042.11 Q1226.94 1041.67 1225.18 1041.67 Q1220.55 1041.67 1218.1 1044.79 Q1215.67 1047.92 1215.32 1054.24 Q1216.69 1052.23 1218.75 1051.16 Q1220.81 1050.07 1223.29 1050.07 Q1228.49 1050.07 1231.5 1053.24 Q1234.54 1056.39 1234.54 1061.83 Q1234.54 1067.16 1231.39 1070.37 Q1228.24 1073.59 1223.01 1073.59 Q1217.01 1073.59 1213.84 1069.01 Q1210.67 1064.4 1210.67 1055.67 Q1210.67 1047.48 1214.56 1042.62 Q1218.45 1037.73 1225 1037.73 Q1226.76 1037.73 1228.54 1038.08 Q1230.35 1038.43 1232.29 1039.12 Z\" fill=\"#000000\" fill-rule=\"evenodd\" fill-opacity=\"1\" /><path clip-path=\"url(#clip180)\" d=\"M1376.57 1038.36 L1398.79 1038.36 L1398.79 1040.35 L1386.24 1072.92 L1381.36 1072.92 L1393.17 1042.3 L1376.57 1042.3 L1376.57 1038.36 Z\" fill=\"#000000\" fill-rule=\"evenodd\" fill-opacity=\"1\" /><path clip-path=\"url(#clip180)\" d=\"M1552.76 1056.51 Q1549.42 1056.51 1547.5 1058.29 Q1545.6 1060.07 1545.6 1063.2 Q1545.6 1066.32 1547.5 1068.11 Q1549.42 1069.89 1552.76 1069.89 Q1556.09 1069.89 1558.01 1068.11 Q1559.93 1066.3 1559.93 1063.2 Q1559.93 1060.07 1558.01 1058.29 Q1556.11 1056.51 1552.76 1056.51 M1548.08 1054.52 Q1545.07 1053.78 1543.38 1051.72 Q1541.71 1049.66 1541.71 1046.69 Q1541.71 1042.55 1544.65 1040.14 Q1547.62 1037.73 1552.76 1037.73 Q1557.92 1037.73 1560.86 1040.14 Q1563.8 1042.55 1563.8 1046.69 Q1563.8 1049.66 1562.11 1051.72 Q1560.44 1053.78 1557.45 1054.52 Q1560.83 1055.3 1562.71 1057.6 Q1564.61 1059.89 1564.61 1063.2 Q1564.61 1068.22 1561.53 1070.91 Q1558.47 1073.59 1552.76 1073.59 Q1547.04 1073.59 1543.96 1070.91 Q1540.9 1068.22 1540.9 1063.2 Q1540.9 1059.89 1542.8 1057.6 Q1544.7 1055.3 1548.08 1054.52 M1546.37 1047.13 Q1546.37 1049.82 1548.03 1051.32 Q1549.72 1052.83 1552.76 1052.83 Q1555.77 1052.83 1557.45 1051.32 Q1559.17 1049.82 1559.17 1047.13 Q1559.17 1044.45 1557.45 1042.94 Q1555.77 1041.44 1552.76 1041.44 Q1549.72 1041.44 1548.03 1042.94 Q1546.37 1044.45 1546.37 1047.13 Z\" fill=\"#000000\" fill-rule=\"evenodd\" fill-opacity=\"1\" /><path clip-path=\"url(#clip180)\" d=\"M671.416 1102.26 L680.996 1102.26 L693.123 1134.6 L705.313 1102.26 L714.893 1102.26 L714.893 1149.78 L708.623 1149.78 L708.623 1108.06 L696.369 1140.65 L689.908 1140.65 L677.654 1108.06 L677.654 1149.78 L671.416 1149.78 L671.416 1102.26 Z\" fill=\"#000000\" fill-rule=\"evenodd\" fill-opacity=\"1\" /><path clip-path=\"url(#clip180)\" d=\"M743.603 1131.86 Q736.505 1131.86 733.768 1133.49 Q731.03 1135.11 731.03 1139.03 Q731.03 1142.14 733.067 1143.99 Q735.136 1145.81 738.669 1145.81 Q743.539 1145.81 746.467 1142.37 Q749.427 1138.9 749.427 1133.17 L749.427 1131.86 L743.603 1131.86 M755.284 1129.45 L755.284 1149.78 L749.427 1149.78 L749.427 1144.37 Q747.422 1147.62 744.43 1149.18 Q741.438 1150.71 737.11 1150.71 Q731.635 1150.71 728.389 1147.65 Q725.174 1144.56 725.174 1139.41 Q725.174 1133.39 729.184 1130.34 Q733.227 1127.28 741.216 1127.28 L749.427 1127.28 L749.427 1126.71 Q749.427 1122.67 746.754 1120.47 Q744.112 1118.24 739.306 1118.24 Q736.25 1118.24 733.354 1118.97 Q730.457 1119.71 727.784 1121.17 L727.784 1115.76 Q730.999 1114.52 734.022 1113.91 Q737.046 1113.28 739.911 1113.28 Q747.645 1113.28 751.464 1117.29 Q755.284 1121.3 755.284 1129.45 Z\" fill=\"#000000\" fill-rule=\"evenodd\" fill-opacity=\"1\" /><path clip-path=\"url(#clip180)\" d=\"M793.001 1115.5 L793.001 1120.98 Q790.518 1119.61 788.003 1118.94 Q785.521 1118.24 782.975 1118.24 Q777.277 1118.24 774.126 1121.87 Q770.975 1125.47 770.975 1131.99 Q770.975 1138.52 774.126 1142.14 Q777.277 1145.74 782.975 1145.74 Q785.521 1145.74 788.003 1145.07 Q790.518 1144.37 793.001 1143 L793.001 1148.42 Q790.55 1149.56 787.908 1150.13 Q785.298 1150.71 782.338 1150.71 Q774.285 1150.71 769.543 1145.65 Q764.8 1140.59 764.8 1131.99 Q764.8 1123.27 769.575 1118.27 Q774.381 1113.28 782.72 1113.28 Q785.425 1113.28 788.003 1113.85 Q790.582 1114.39 793.001 1115.5 Z\" fill=\"#000000\" fill-rule=\"evenodd\" fill-opacity=\"1\" /><path clip-path=\"url(#clip180)\" d=\"M832.818 1128.27 L832.818 1149.78 L826.962 1149.78 L826.962 1128.46 Q826.962 1123.4 824.988 1120.88 Q823.015 1118.37 819.068 1118.37 Q814.326 1118.37 811.588 1121.39 Q808.851 1124.42 808.851 1129.64 L808.851 1149.78 L802.963 1149.78 L802.963 1100.26 L808.851 1100.26 L808.851 1119.67 Q810.952 1116.46 813.785 1114.87 Q816.649 1113.28 820.373 1113.28 Q826.516 1113.28 829.667 1117.1 Q832.818 1120.88 832.818 1128.27 Z\" fill=\"#000000\" fill-rule=\"evenodd\" fill-opacity=\"1\" /><path clip-path=\"url(#clip180)\" d=\"M894.852 1128.27 L894.852 1149.78 L888.995 1149.78 L888.995 1128.46 Q888.995 1123.4 887.022 1120.88 Q885.049 1118.37 881.102 1118.37 Q876.359 1118.37 873.622 1121.39 Q870.885 1124.42 870.885 1129.64 L870.885 1149.78 L864.997 1149.78 L864.997 1114.14 L870.885 1114.14 L870.885 1119.67 Q872.986 1116.46 875.818 1114.87 Q878.683 1113.28 882.407 1113.28 Q888.55 1113.28 891.701 1117.1 Q894.852 1120.88 894.852 1128.27 Z\" fill=\"#000000\" fill-rule=\"evenodd\" fill-opacity=\"1\" /><path clip-path=\"url(#clip180)\" d=\"M905.928 1135.72 L905.928 1114.14 L911.785 1114.14 L911.785 1135.49 Q911.785 1140.55 913.758 1143.1 Q915.731 1145.61 919.678 1145.61 Q924.421 1145.61 927.158 1142.59 Q929.927 1139.57 929.927 1134.35 L929.927 1114.14 L935.783 1114.14 L935.783 1149.78 L929.927 1149.78 L929.927 1144.31 Q927.794 1147.56 924.962 1149.15 Q922.161 1150.71 918.437 1150.71 Q912.294 1150.71 909.111 1146.89 Q905.928 1143.07 905.928 1135.72 M920.665 1113.28 L920.665 1113.28 Z\" fill=\"#000000\" fill-rule=\"evenodd\" fill-opacity=\"1\" /><path clip-path=\"url(#clip180)\" d=\"M975.601 1120.98 Q977.797 1117.03 980.853 1115.15 Q983.908 1113.28 988.046 1113.28 Q993.616 1113.28 996.639 1117.19 Q999.663 1121.07 999.663 1128.27 L999.663 1149.78 L993.775 1149.78 L993.775 1128.46 Q993.775 1123.33 991.961 1120.85 Q990.146 1118.37 986.423 1118.37 Q981.871 1118.37 979.229 1121.39 Q976.588 1124.42 976.588 1129.64 L976.588 1149.78 L970.699 1149.78 L970.699 1128.46 Q970.699 1123.3 968.885 1120.85 Q967.071 1118.37 963.283 1118.37 Q958.795 1118.37 956.154 1121.42 Q953.512 1124.45 953.512 1129.64 L953.512 1149.78 L947.624 1149.78 L947.624 1114.14 L953.512 1114.14 L953.512 1119.67 Q955.517 1116.4 958.318 1114.84 Q961.119 1113.28 964.97 1113.28 Q968.853 1113.28 971.559 1115.25 Q974.296 1117.22 975.601 1120.98 Z\" fill=\"#000000\" fill-rule=\"evenodd\" fill-opacity=\"1\" /><path clip-path=\"url(#clip180)\" d=\"M1036.93 1131.99 Q1036.93 1125.53 1034.26 1121.87 Q1031.62 1118.18 1026.97 1118.18 Q1022.33 1118.18 1019.65 1121.87 Q1017.01 1125.53 1017.01 1131.99 Q1017.01 1138.45 1019.65 1142.14 Q1022.33 1145.81 1026.97 1145.81 Q1031.62 1145.81 1034.26 1142.14 Q1036.93 1138.45 1036.93 1131.99 M1017.01 1119.55 Q1018.86 1116.36 1021.66 1114.84 Q1024.49 1113.28 1028.4 1113.28 Q1034.9 1113.28 1038.94 1118.43 Q1043.01 1123.59 1043.01 1131.99 Q1043.01 1140.39 1038.94 1145.55 Q1034.9 1150.71 1028.4 1150.71 Q1024.49 1150.71 1021.66 1149.18 Q1018.86 1147.62 1017.01 1144.44 L1017.01 1149.78 L1011.12 1149.78 L1011.12 1100.26 L1017.01 1100.26 L1017.01 1119.55 Z\" fill=\"#000000\" fill-rule=\"evenodd\" fill-opacity=\"1\" /><path clip-path=\"url(#clip180)\" d=\"M1083.21 1130.5 L1083.21 1133.36 L1056.29 1133.36 Q1056.67 1139.41 1059.91 1142.59 Q1063.19 1145.74 1069.02 1145.74 Q1072.39 1145.74 1075.54 1144.91 Q1078.73 1144.09 1081.84 1142.43 L1081.84 1147.97 Q1078.69 1149.31 1075.38 1150.01 Q1072.07 1150.71 1068.67 1150.71 Q1060.14 1150.71 1055.14 1145.74 Q1050.18 1140.78 1050.18 1132.31 Q1050.18 1123.56 1054.89 1118.43 Q1059.63 1113.28 1067.65 1113.28 Q1074.84 1113.28 1079.01 1117.92 Q1083.21 1122.54 1083.21 1130.5 M1077.36 1128.78 Q1077.29 1123.97 1074.65 1121.11 Q1072.04 1118.24 1067.71 1118.24 Q1062.81 1118.24 1059.85 1121.01 Q1056.92 1123.78 1056.48 1128.81 L1077.36 1128.78 Z\" fill=\"#000000\" fill-rule=\"evenodd\" fill-opacity=\"1\" /><path clip-path=\"url(#clip180)\" d=\"M1113.48 1119.61 Q1112.5 1119.04 1111.32 1118.78 Q1110.17 1118.5 1108.77 1118.5 Q1103.81 1118.5 1101.13 1121.74 Q1098.49 1124.96 1098.49 1131.01 L1098.49 1149.78 L1092.6 1149.78 L1092.6 1114.14 L1098.49 1114.14 L1098.49 1119.67 Q1100.34 1116.43 1103.3 1114.87 Q1106.26 1113.28 1110.49 1113.28 Q1111.09 1113.28 1111.83 1113.37 Q1112.56 1113.44 1113.45 1113.59 L1113.48 1119.61 Z\" fill=\"#000000\" fill-rule=\"evenodd\" fill-opacity=\"1\" /><polyline clip-path=\"url(#clip180)\" style=\"stroke:#000000; stroke-linecap:round; stroke-linejoin:round; stroke-width:4; stroke-opacity:1; fill:none\" points=\"\n",
       "  232.142,1016.92 232.142,47.2441 \n",
       "  \"/>\n",
       "<polyline clip-path=\"url(#clip180)\" style=\"stroke:#000000; stroke-linecap:round; stroke-linejoin:round; stroke-width:4; stroke-opacity:1; fill:none\" points=\"\n",
       "  232.142,1016.92 251.039,1016.92 \n",
       "  \"/>\n",
       "<polyline clip-path=\"url(#clip180)\" style=\"stroke:#000000; stroke-linecap:round; stroke-linejoin:round; stroke-width:4; stroke-opacity:1; fill:none\" points=\"\n",
       "  232.142,774.501 251.039,774.501 \n",
       "  \"/>\n",
       "<polyline clip-path=\"url(#clip180)\" style=\"stroke:#000000; stroke-linecap:round; stroke-linejoin:round; stroke-width:4; stroke-opacity:1; fill:none\" points=\"\n",
       "  232.142,532.082 251.039,532.082 \n",
       "  \"/>\n",
       "<polyline clip-path=\"url(#clip180)\" style=\"stroke:#000000; stroke-linecap:round; stroke-linejoin:round; stroke-width:4; stroke-opacity:1; fill:none\" points=\"\n",
       "  232.142,289.663 251.039,289.663 \n",
       "  \"/>\n",
       "<polyline clip-path=\"url(#clip180)\" style=\"stroke:#000000; stroke-linecap:round; stroke-linejoin:round; stroke-width:4; stroke-opacity:1; fill:none\" points=\"\n",
       "  232.142,47.2441 251.039,47.2441 \n",
       "  \"/>\n",
       "<path clip-path=\"url(#clip180)\" d=\"M150.966 1002.72 Q147.355 1002.72 145.526 1006.28 Q143.721 1009.82 143.721 1016.95 Q143.721 1024.06 145.526 1027.63 Q147.355 1031.17 150.966 1031.17 Q154.6 1031.17 156.406 1027.63 Q158.235 1024.06 158.235 1016.95 Q158.235 1009.82 156.406 1006.28 Q154.6 1002.72 150.966 1002.72 M150.966 999.015 Q156.776 999.015 159.832 1003.62 Q162.91 1008.2 162.91 1016.95 Q162.91 1025.68 159.832 1030.29 Q156.776 1034.87 150.966 1034.87 Q145.156 1034.87 142.077 1030.29 Q139.022 1025.68 139.022 1016.95 Q139.022 1008.2 142.077 1003.62 Q145.156 999.015 150.966 999.015 Z\" fill=\"#000000\" fill-rule=\"evenodd\" fill-opacity=\"1\" /><path clip-path=\"url(#clip180)\" d=\"M171.128 1028.32 L176.012 1028.32 L176.012 1034.2 L171.128 1034.2 L171.128 1028.32 Z\" fill=\"#000000\" fill-rule=\"evenodd\" fill-opacity=\"1\" /><path clip-path=\"url(#clip180)\" d=\"M196.197 1002.72 Q192.586 1002.72 190.758 1006.28 Q188.952 1009.82 188.952 1016.95 Q188.952 1024.06 190.758 1027.63 Q192.586 1031.17 196.197 1031.17 Q199.832 1031.17 201.637 1027.63 Q203.466 1024.06 203.466 1016.95 Q203.466 1009.82 201.637 1006.28 Q199.832 1002.72 196.197 1002.72 M196.197 999.015 Q202.007 999.015 205.063 1003.62 Q208.142 1008.2 208.142 1016.95 Q208.142 1025.68 205.063 1030.29 Q202.007 1034.87 196.197 1034.87 Q190.387 1034.87 187.308 1030.29 Q184.253 1025.68 184.253 1016.95 Q184.253 1008.2 187.308 1003.62 Q190.387 999.015 196.197 999.015 Z\" fill=\"#000000\" fill-rule=\"evenodd\" fill-opacity=\"1\" /><path clip-path=\"url(#clip180)\" d=\"M151.961 760.3 Q148.35 760.3 146.522 763.864 Q144.716 767.406 144.716 774.536 Q144.716 781.642 146.522 785.207 Q148.35 788.749 151.961 788.749 Q155.596 788.749 157.401 785.207 Q159.23 781.642 159.23 774.536 Q159.23 767.406 157.401 763.864 Q155.596 760.3 151.961 760.3 M151.961 756.596 Q157.772 756.596 160.827 761.202 Q163.906 765.786 163.906 774.536 Q163.906 783.262 160.827 787.869 Q157.772 792.452 151.961 792.452 Q146.151 792.452 143.073 787.869 Q140.017 783.262 140.017 774.536 Q140.017 765.786 143.073 761.202 Q146.151 756.596 151.961 756.596 Z\" fill=\"#000000\" fill-rule=\"evenodd\" fill-opacity=\"1\" /><path clip-path=\"url(#clip180)\" d=\"M172.123 785.901 L177.008 785.901 L177.008 791.781 L172.123 791.781 L172.123 785.901 Z\" fill=\"#000000\" fill-rule=\"evenodd\" fill-opacity=\"1\" /><path clip-path=\"url(#clip180)\" d=\"M187.239 757.221 L205.595 757.221 L205.595 761.156 L191.521 761.156 L191.521 769.628 Q192.54 769.281 193.558 769.119 Q194.577 768.934 195.595 768.934 Q201.382 768.934 204.762 772.105 Q208.142 775.276 208.142 780.693 Q208.142 786.272 204.669 789.374 Q201.197 792.452 194.878 792.452 Q192.702 792.452 190.433 792.082 Q188.188 791.711 185.781 790.971 L185.781 786.272 Q187.864 787.406 190.086 787.961 Q192.308 788.517 194.785 788.517 Q198.79 788.517 201.128 786.411 Q203.466 784.304 203.466 780.693 Q203.466 777.082 201.128 774.975 Q198.79 772.869 194.785 772.869 Q192.91 772.869 191.035 773.286 Q189.183 773.702 187.239 774.582 L187.239 757.221 Z\" fill=\"#000000\" fill-rule=\"evenodd\" fill-opacity=\"1\" /><path clip-path=\"url(#clip180)\" d=\"M141.776 545.427 L149.415 545.427 L149.415 519.061 L141.105 520.728 L141.105 516.469 L149.369 514.802 L154.045 514.802 L154.045 545.427 L161.684 545.427 L161.684 549.362 L141.776 549.362 L141.776 545.427 Z\" fill=\"#000000\" fill-rule=\"evenodd\" fill-opacity=\"1\" /><path clip-path=\"url(#clip180)\" d=\"M171.128 543.482 L176.012 543.482 L176.012 549.362 L171.128 549.362 L171.128 543.482 Z\" fill=\"#000000\" fill-rule=\"evenodd\" fill-opacity=\"1\" /><path clip-path=\"url(#clip180)\" d=\"M196.197 517.881 Q192.586 517.881 190.758 521.445 Q188.952 524.987 188.952 532.117 Q188.952 539.223 190.758 542.788 Q192.586 546.33 196.197 546.33 Q199.832 546.33 201.637 542.788 Q203.466 539.223 203.466 532.117 Q203.466 524.987 201.637 521.445 Q199.832 517.881 196.197 517.881 M196.197 514.177 Q202.007 514.177 205.063 518.783 Q208.142 523.367 208.142 532.117 Q208.142 540.843 205.063 545.45 Q202.007 550.033 196.197 550.033 Q190.387 550.033 187.308 545.45 Q184.253 540.843 184.253 532.117 Q184.253 523.367 187.308 518.783 Q190.387 514.177 196.197 514.177 Z\" fill=\"#000000\" fill-rule=\"evenodd\" fill-opacity=\"1\" /><path clip-path=\"url(#clip180)\" d=\"M142.772 303.008 L150.41 303.008 L150.41 276.642 L142.1 278.309 L142.1 274.05 L150.364 272.383 L155.04 272.383 L155.04 303.008 L162.679 303.008 L162.679 306.943 L142.772 306.943 L142.772 303.008 Z\" fill=\"#000000\" fill-rule=\"evenodd\" fill-opacity=\"1\" /><path clip-path=\"url(#clip180)\" d=\"M172.123 301.063 L177.008 301.063 L177.008 306.943 L172.123 306.943 L172.123 301.063 Z\" fill=\"#000000\" fill-rule=\"evenodd\" fill-opacity=\"1\" /><path clip-path=\"url(#clip180)\" d=\"M187.239 272.383 L205.595 272.383 L205.595 276.318 L191.521 276.318 L191.521 284.79 Q192.54 284.443 193.558 284.281 Q194.577 284.096 195.595 284.096 Q201.382 284.096 204.762 287.267 Q208.142 290.438 208.142 295.855 Q208.142 301.434 204.669 304.536 Q201.197 307.614 194.878 307.614 Q192.702 307.614 190.433 307.244 Q188.188 306.874 185.781 306.133 L185.781 301.434 Q187.864 302.568 190.086 303.124 Q192.308 303.679 194.785 303.679 Q198.79 303.679 201.128 301.573 Q203.466 299.466 203.466 295.855 Q203.466 292.244 201.128 290.138 Q198.79 288.031 194.785 288.031 Q192.91 288.031 191.035 288.448 Q189.183 288.864 187.239 289.744 L187.239 272.383 Z\" fill=\"#000000\" fill-rule=\"evenodd\" fill-opacity=\"1\" /><path clip-path=\"url(#clip180)\" d=\"M144.994 60.5889 L161.313 60.5889 L161.313 64.5241 L139.369 64.5241 L139.369 60.5889 Q142.031 57.8343 146.614 53.2047 Q151.221 48.552 152.401 47.2094 Q154.647 44.6862 155.526 42.9501 Q156.429 41.1909 156.429 39.5011 Q156.429 36.7465 154.485 35.0104 Q152.563 33.2743 149.461 33.2743 Q147.262 33.2743 144.809 34.0381 Q142.378 34.802 139.6 36.3529 L139.6 31.6308 Q142.424 30.4965 144.878 29.9178 Q147.332 29.3391 149.369 29.3391 Q154.739 29.3391 157.934 32.0243 Q161.128 34.7094 161.128 39.2002 Q161.128 41.3298 160.318 43.2511 Q159.531 45.1492 157.424 47.7418 Q156.846 48.4131 153.744 51.6306 Q150.642 54.8251 144.994 60.5889 Z\" fill=\"#000000\" fill-rule=\"evenodd\" fill-opacity=\"1\" /><path clip-path=\"url(#clip180)\" d=\"M171.128 58.6445 L176.012 58.6445 L176.012 64.5241 L171.128 64.5241 L171.128 58.6445 Z\" fill=\"#000000\" fill-rule=\"evenodd\" fill-opacity=\"1\" /><path clip-path=\"url(#clip180)\" d=\"M196.197 33.0428 Q192.586 33.0428 190.758 36.6076 Q188.952 40.1492 188.952 47.2788 Q188.952 54.3853 190.758 57.9501 Q192.586 61.4917 196.197 61.4917 Q199.832 61.4917 201.637 57.9501 Q203.466 54.3853 203.466 47.2788 Q203.466 40.1492 201.637 36.6076 Q199.832 33.0428 196.197 33.0428 M196.197 29.3391 Q202.007 29.3391 205.063 33.9456 Q208.142 38.5289 208.142 47.2788 Q208.142 56.0056 205.063 60.6121 Q202.007 65.1954 196.197 65.1954 Q190.387 65.1954 187.308 60.6121 Q184.253 56.0056 184.253 47.2788 Q184.253 38.5289 187.308 33.9456 Q190.387 29.3391 196.197 29.3391 Z\" fill=\"#000000\" fill-rule=\"evenodd\" fill-opacity=\"1\" /><path clip-path=\"url(#clip180)\" d=\"M60.9164 595.918 Q61.5284 595.918 62.0437 596.047 L73.5089 597.85 Q74.3785 597.947 74.7006 598.14 Q75.0226 598.301 75.0226 598.817 Q75.0226 599.622 74.1853 599.622 Q73.7022 599.622 72.9292 599.429 Q69.29 598.881 67.6475 598.881 Q66.5525 598.881 65.7473 599.106 Q64.91 599.3 64.3303 599.622 Q63.7506 599.912 63.3641 600.588 Q62.9776 601.264 62.7522 601.908 Q62.5267 602.553 62.4301 603.712 Q62.3013 604.871 62.2691 605.87 Q62.2369 606.868 62.2369 608.511 Q62.2369 612.085 62.3657 612.665 Q62.5267 613.277 63.0098 613.599 Q63.4607 613.889 64.8134 614.211 L99.8211 622.971 L101.206 623.229 Q101.979 623.229 102.237 622.746 Q102.494 622.262 102.655 620.781 Q102.816 618.655 102.816 616.562 Q102.816 616.498 102.816 616.369 Q102.816 615.66 102.848 615.37 Q102.848 615.081 102.913 614.791 Q102.977 614.501 103.138 614.436 Q103.267 614.34 103.525 614.34 Q104.137 614.34 104.459 614.597 Q104.749 614.855 104.813 615.113 Q104.845 615.338 104.845 615.789 Q104.845 616.691 104.781 618.623 Q104.716 620.556 104.716 621.522 L104.652 626.997 L104.716 632.601 Q104.716 633.47 104.781 635.306 Q104.845 637.142 104.845 638.011 Q104.845 639.138 104.04 639.138 Q103.138 639.138 102.977 638.72 Q102.816 638.269 102.816 636.369 Q102.816 633.696 102.687 632.246 Q102.559 630.797 102.108 630.024 Q101.657 629.219 101.206 628.994 Q100.723 628.768 99.6279 628.51 L64.4269 619.654 Q63.6539 619.396 63.042 619.396 Q62.72 619.396 62.5912 619.493 Q62.4623 619.557 62.3657 619.976 Q62.2369 620.395 62.2369 621.264 L62.2369 623.841 Q62.2369 626.481 62.3657 628.124 Q62.4623 629.734 62.9454 631.28 Q63.4285 632.794 64.1048 633.696 Q64.7812 634.565 66.166 635.531 Q67.5509 636.497 69.2256 637.206 Q70.9003 637.882 73.6378 638.849 Q74.5395 639.171 74.7972 639.364 Q75.0226 639.525 75.0226 639.976 Q75.0226 640.298 74.8294 640.555 Q74.6039 640.781 74.3141 640.781 Q73.2513 640.459 73.1225 640.394 L61.4962 636.433 Q60.5622 636.111 60.4012 635.821 Q60.2079 635.499 60.2079 634.307 L60.2079 597.722 Q60.2079 597.142 60.2079 596.949 Q60.2079 596.755 60.2723 596.433 Q60.3367 596.111 60.4978 596.015 Q60.6588 595.918 60.9164 595.918 Z\" fill=\"#000000\" fill-rule=\"evenodd\" fill-opacity=\"1\" /><path clip-path=\"url(#clip180)\" d=\"M108.353 589.314 Q101.567 589.314 97.8702 587.6 Q92.3695 585.211 92.3695 579.575 Q92.3695 578.38 92.7076 577.14 Q93.0232 575.877 94.2632 574.299 Q95.5031 572.699 97.5321 571.729 Q101.455 569.881 108.353 569.881 Q115.094 569.881 118.769 571.594 Q124.134 574.097 124.134 579.62 Q124.134 581.694 123.075 583.813 Q122.015 585.91 119.467 587.24 Q115.658 589.314 108.353 589.314 M107.79 585.481 Q114.756 585.481 117.529 584.985 Q120.527 584.422 121.835 582.889 Q123.12 581.333 123.12 579.62 Q123.12 577.771 121.744 576.238 Q120.347 574.683 117.348 574.209 Q114.395 573.691 107.79 573.713 Q101.365 573.713 98.7945 574.164 Q95.7962 574.773 94.6013 576.396 Q93.3839 577.997 93.3839 579.62 Q93.3839 580.229 93.5643 580.882 Q93.7447 581.514 94.2632 582.438 Q94.7817 583.362 96.0667 584.084 Q97.3517 584.782 99.2905 585.121 Q101.793 585.481 107.79 585.481 Z\" fill=\"#000000\" fill-rule=\"evenodd\" fill-opacity=\"1\" /><path clip-path=\"url(#clip180)\" d=\"M120.401 563.031 Q120.079 563.031 119.37 562.773 L57.1484 539.489 Q57.084 539.489 56.7297 539.328 Q56.3754 539.167 56.15 539.07 Q55.8923 538.973 55.6991 538.78 Q55.5059 538.555 55.5059 538.297 Q55.5059 537.653 56.311 537.653 Q56.3754 537.653 57.1484 537.846 L119.434 561.195 Q120.562 561.582 120.884 561.839 Q121.206 562.065 121.206 562.451 Q121.206 563.031 120.401 563.031 Z\" fill=\"#000000\" fill-rule=\"evenodd\" fill-opacity=\"1\" /><path clip-path=\"url(#clip180)\" d=\"M60.9164 485.507 Q61.5284 485.507 62.0437 485.636 L73.5089 487.439 Q74.3785 487.536 74.7006 487.729 Q75.0226 487.89 75.0226 488.405 Q75.0226 489.211 74.1853 489.211 Q73.7022 489.211 72.9292 489.017 Q69.29 488.47 67.6475 488.47 Q66.5525 488.47 65.7473 488.695 Q64.91 488.888 64.3303 489.211 Q63.7506 489.5 63.3641 490.177 Q62.9776 490.853 62.7522 491.497 Q62.5267 492.141 62.4301 493.301 Q62.3013 494.46 62.2691 495.458 Q62.2369 496.457 62.2369 498.099 Q62.2369 501.674 62.3657 502.254 Q62.5267 502.866 63.0098 503.188 Q63.4607 503.478 64.8134 503.8 L99.8211 512.56 L101.206 512.817 Q101.979 512.817 102.237 512.334 Q102.494 511.851 102.655 510.37 Q102.816 508.244 102.816 506.151 Q102.816 506.086 102.816 505.958 Q102.816 505.249 102.848 504.959 Q102.848 504.669 102.913 504.379 Q102.977 504.09 103.138 504.025 Q103.267 503.929 103.525 503.929 Q104.137 503.929 104.459 504.186 Q104.749 504.444 104.813 504.702 Q104.845 504.927 104.845 505.378 Q104.845 506.28 104.781 508.212 Q104.716 510.144 104.716 511.111 L104.652 516.586 L104.716 522.189 Q104.716 523.059 104.781 524.895 Q104.845 526.73 104.845 527.6 Q104.845 528.727 104.04 528.727 Q103.138 528.727 102.977 528.308 Q102.816 527.858 102.816 525.957 Q102.816 523.284 102.687 521.835 Q102.559 520.386 102.108 519.613 Q101.657 518.808 101.206 518.582 Q100.723 518.357 99.6279 518.099 L64.4269 509.243 Q63.6539 508.985 63.042 508.985 Q62.72 508.985 62.5912 509.082 Q62.4623 509.146 62.3657 509.565 Q62.2369 509.983 62.2369 510.853 L62.2369 513.429 Q62.2369 516.07 62.3657 517.713 Q62.4623 519.323 62.9454 520.869 Q63.4285 522.383 64.1048 523.284 Q64.7812 524.154 66.166 525.12 Q67.5509 526.086 69.2256 526.795 Q70.9003 527.471 73.6378 528.437 Q74.5395 528.759 74.7972 528.953 Q75.0226 529.114 75.0226 529.564 Q75.0226 529.887 74.8294 530.144 Q74.6039 530.37 74.3141 530.37 Q73.2513 530.048 73.1225 529.983 L61.4962 526.022 Q60.5622 525.7 60.4012 525.41 Q60.2079 525.088 60.2079 523.896 L60.2079 487.31 Q60.2079 486.731 60.2079 486.537 Q60.2079 486.344 60.2723 486.022 Q60.3367 485.7 60.4978 485.603 Q60.6588 485.507 60.9164 485.507 Z\" fill=\"#000000\" fill-rule=\"evenodd\" fill-opacity=\"1\" /><path clip-path=\"url(#clip180)\" d=\"M108.353 478.903 Q101.567 478.903 97.8702 477.189 Q92.3695 474.8 92.3695 469.163 Q92.3695 467.969 92.7076 466.729 Q93.0232 465.466 94.2632 463.888 Q95.5031 462.288 97.5321 461.318 Q101.455 459.47 108.353 459.47 Q115.094 459.47 118.769 461.183 Q124.134 463.685 124.134 469.209 Q124.134 471.283 123.075 473.402 Q122.015 475.498 119.467 476.828 Q115.658 478.903 108.353 478.903 M107.79 475.07 Q114.756 475.07 117.529 474.574 Q120.527 474.01 121.835 472.477 Q123.12 470.922 123.12 469.209 Q123.12 467.36 121.744 465.827 Q120.347 464.271 117.348 463.798 Q114.395 463.279 107.79 463.302 Q101.365 463.302 98.7945 463.753 Q95.7962 464.362 94.6013 465.985 Q93.3839 467.585 93.3839 469.209 Q93.3839 469.817 93.5643 470.471 Q93.7447 471.102 94.2632 472.027 Q94.7817 472.951 96.0667 473.672 Q97.3517 474.371 99.2905 474.709 Q101.793 475.07 107.79 475.07 Z\" fill=\"#000000\" fill-rule=\"evenodd\" fill-opacity=\"1\" /><path clip-path=\"url(#clip180)\" d=\"M47.0192 466.094 Q46.2302 466.094 45.7117 465.035 L42.6682 458.61 L39.6248 465.125 Q39.1739 466.094 38.3848 466.094 Q37.934 466.094 37.5282 465.734 Q37.0998 465.35 37.0998 464.854 Q37.0998 464.494 37.5958 463.84 L41.7439 458.114 Q34.124 458.813 33.8986 458.79 Q33.4477 458.79 33.1095 458.452 Q32.7488 458.114 32.7488 457.55 Q32.7488 457.099 33.087 456.739 Q33.4026 456.355 33.8986 456.355 L41.7439 457.032 L37.9565 451.914 Q37.0773 450.719 37.0998 450.291 Q37.0998 449.772 37.5056 449.412 Q37.9114 449.051 38.3848 449.051 Q39.1739 449.051 39.6699 450.111 L42.7133 456.536 L45.7793 450.02 Q46.2302 449.051 47.0192 449.051 Q47.4701 449.051 47.8985 449.434 Q48.3043 449.795 48.3043 450.291 Q48.3043 450.561 48.0337 451.035 Q47.9886 451.125 47.2672 452.094 Q46.5458 453.064 45.4412 454.574 Q44.3365 456.062 43.6376 457.032 Q51.2575 456.333 51.483 456.355 Q51.9339 456.355 52.2946 456.693 Q52.6553 457.032 52.6553 457.595 Q52.6553 458.046 52.3396 458.429 Q52.0015 458.79 51.483 458.79 L43.6376 458.114 L48.3043 464.561 Q48.3043 465.26 47.9661 465.643 Q47.6054 466.004 47.4025 466.049 Q47.1996 466.094 47.0192 466.094 Z\" fill=\"#000000\" fill-rule=\"evenodd\" fill-opacity=\"1\" /><polyline clip-path=\"url(#clip182)\" style=\"stroke:#009af9; stroke-linecap:round; stroke-linejoin:round; stroke-width:4; stroke-opacity:1; fill:none\" points=\"\n",
       "  232.307,1016.92 233.957,1016.64 235.608,1015.89 237.258,1014.69 238.909,1013.03 240.56,1010.91 242.21,1008.35 243.861,1005.34 245.511,1001.91 247.162,998.061 \n",
       "  248.812,993.802 250.463,989.149 252.113,984.114 253.764,978.713 255.415,972.96 257.065,966.873 258.716,960.469 260.366,953.764 262.017,946.777 263.667,939.528 \n",
       "  265.318,932.033 266.969,924.314 268.619,916.389 270.27,908.278 271.92,899.999 273.571,891.573 275.221,883.019 276.872,874.355 278.522,865.601 280.173,856.774 \n",
       "  281.824,847.892 283.474,838.973 285.125,830.034 286.775,821.091 288.426,812.16 290.076,803.255 291.727,794.392 293.378,785.584 295.028,776.844 296.679,768.185 \n",
       "  298.329,759.618 299.98,751.153 301.63,742.802 303.281,734.574 304.931,726.477 306.582,718.52 308.233,710.709 309.883,703.052 311.534,695.555 313.184,688.222 \n",
       "  314.835,681.059 316.485,674.07 318.136,667.257 319.787,660.625 321.437,654.176 323.088,647.911 324.738,641.832 326.389,635.94 328.039,630.236 329.69,624.719 \n",
       "  331.34,619.39 332.991,614.248 334.642,609.291 336.292,604.52 337.943,599.931 339.593,595.524 341.244,591.296 342.894,587.245 344.545,583.369 346.195,579.664 \n",
       "  347.846,576.129 349.497,572.761 351.147,569.555 352.798,566.509 354.448,563.62 356.099,560.885 357.749,558.299 359.4,555.86 361.051,553.563 362.701,551.406 \n",
       "  364.352,549.385 366.002,547.496 367.653,545.735 369.303,544.1 370.954,542.586 372.604,541.189 374.255,539.907 375.906,538.736 377.556,537.672 379.207,536.712 \n",
       "  380.857,535.853 382.508,535.091 384.158,534.423 385.809,533.845 387.46,533.355 389.11,532.949 390.761,532.625 392.411,532.379 394.062,532.208 395.712,532.11 \n",
       "  397.363,532.082 399.013,532.121 400.664,532.225 402.315,532.39 403.965,532.615 405.616,532.896 407.266,533.232 408.917,533.62 410.567,534.058 412.218,534.544 \n",
       "  413.869,535.076 415.519,535.651 417.17,536.267 418.82,536.924 420.471,537.618 422.121,538.348 423.772,539.112 425.422,539.908 427.073,540.736 428.724,541.593 \n",
       "  430.374,542.477 432.025,543.388 433.675,544.324 435.326,545.283 436.976,546.264 438.627,547.266 440.277,548.288 441.928,549.328 443.579,550.385 445.229,551.459 \n",
       "  446.88,552.547 448.53,553.65 450.181,554.766 451.831,555.894 453.482,557.033 455.133,558.182 456.783,559.341 458.434,560.509 460.084,561.684 461.735,562.867 \n",
       "  463.385,564.057 465.036,565.252 466.686,566.452 468.337,567.657 469.988,568.865 471.638,570.077 473.289,571.292 474.939,572.509 476.59,573.727 478.24,574.947 \n",
       "  479.891,576.168 481.542,577.389 483.192,578.61 484.843,579.83 486.493,581.05 488.144,582.268 489.794,583.485 491.445,584.7 493.095,585.912 494.746,587.122 \n",
       "  496.397,588.329 498.047,589.533 499.698,590.734 501.348,591.931 502.999,593.125 504.649,594.314 506.3,595.499 507.951,596.679 509.601,597.855 511.252,599.026 \n",
       "  512.902,600.192 514.553,601.353 516.203,602.508 517.854,603.658 519.504,604.803 521.155,605.941 522.806,607.074 524.456,608.201 526.107,609.322 527.757,610.437 \n",
       "  529.408,611.546 531.058,612.648 532.709,613.744 534.359,614.834 536.01,615.917 537.661,616.993 539.311,618.063 540.962,619.126 542.612,620.183 544.263,621.232 \n",
       "  545.913,622.275 547.564,623.312 549.215,624.341 550.865,625.363 552.516,626.379 554.166,627.388 555.817,628.39 557.467,629.385 559.118,630.373 560.768,631.354 \n",
       "  562.419,632.328 564.07,633.295 565.72,634.256 567.371,635.209 569.021,636.156 570.672,637.095 572.322,638.028 573.973,638.954 575.624,639.873 577.274,640.785 \n",
       "  578.925,641.691 580.575,642.59 582.226,643.482 583.876,644.367 585.527,645.246 587.177,646.117 588.828,646.983 590.479,647.841 592.129,648.693 593.78,649.539 \n",
       "  595.43,650.378 597.081,651.21 598.731,652.036 600.382,652.856 602.033,653.669 603.683,654.476 605.334,655.276 606.984,656.071 608.635,656.859 610.285,657.641 \n",
       "  611.936,658.416 613.586,659.186 615.237,659.95 616.888,660.707 618.538,661.459 620.189,662.204 621.839,662.944 623.49,663.677 625.14,664.405 626.791,665.128 \n",
       "  628.441,665.844 630.092,666.555 631.743,667.26 633.393,667.959 635.044,668.653 636.694,669.341 638.345,670.024 639.995,670.702 641.646,671.374 643.297,672.04 \n",
       "  644.947,672.702 646.598,673.358 648.248,674.008 649.899,674.654 651.549,675.294 653.2,675.93 654.85,676.56 656.501,677.185 658.152,677.806 659.802,678.421 \n",
       "  661.453,679.031 663.103,679.637 664.754,680.237 666.404,680.833 668.055,681.425 669.706,682.011 671.356,682.593 673.007,683.17 674.657,683.743 676.308,684.311 \n",
       "  677.958,684.875 679.609,685.434 681.259,685.988 682.91,686.539 684.561,687.085 686.211,687.626 687.862,688.164 689.512,688.697 691.163,689.226 692.813,689.751 \n",
       "  694.464,690.272 696.115,690.788 697.765,691.301 699.416,691.809 701.066,692.314 702.717,692.814 704.367,693.311 706.018,693.804 707.668,694.293 709.319,694.778 \n",
       "  710.97,695.26 712.62,695.737 714.271,696.211 715.921,696.682 717.572,697.148 719.222,697.611 720.873,698.071 722.523,698.527 724.174,698.979 725.825,699.428 \n",
       "  727.475,699.874 729.126,700.316 730.776,700.755 732.427,701.19 734.077,701.622 735.728,702.051 737.379,702.476 739.029,702.898 740.68,703.317 742.33,703.733 \n",
       "  743.981,704.146 745.631,704.556 747.282,704.962 748.932,705.366 750.583,705.766 752.234,706.163 753.884,706.558 755.535,706.949 757.185,707.338 758.836,707.724 \n",
       "  760.486,708.106 762.137,708.486 763.788,708.863 765.438,709.238 767.089,709.609 768.739,709.978 770.39,710.344 772.04,710.707 773.691,711.068 775.341,711.426 \n",
       "  776.992,711.781 778.643,712.134 780.293,712.484 781.944,712.832 783.594,713.177 785.245,713.52 786.895,713.86 788.546,714.197 790.197,714.533 791.847,714.865 \n",
       "  793.498,715.196 795.148,715.524 796.799,715.849 798.449,716.172 800.1,716.493 801.75,716.812 803.401,717.128 805.052,717.443 806.702,717.754 808.353,718.064 \n",
       "  810.003,718.372 811.654,718.677 813.304,718.98 814.955,719.281 816.605,719.58 818.256,719.876 819.907,720.171 821.557,720.464 823.208,720.754 824.858,721.043 \n",
       "  826.509,721.329 828.159,721.614 829.81,721.896 831.461,722.177 833.111,722.455 834.762,722.732 836.412,723.007 838.063,723.28 839.713,723.551 841.364,723.82 \n",
       "  843.014,724.087 844.665,724.352 846.316,724.616 847.966,724.878 849.617,725.138 851.267,725.396 852.918,725.653 854.568,725.907 856.219,726.161 857.87,726.412 \n",
       "  859.52,726.662 861.171,726.909 862.821,727.156 864.472,727.4 866.122,727.643 867.773,727.885 869.423,728.125 871.074,728.363 872.725,728.599 874.375,728.834 \n",
       "  876.026,729.068 877.676,729.3 879.327,729.53 880.977,729.759 882.628,729.986 884.279,730.212 885.929,730.437 887.58,730.659 889.23,730.881 890.881,731.101 \n",
       "  892.531,731.319 894.182,731.537 895.832,731.752 897.483,731.967 899.134,732.18 900.784,732.391 902.435,732.601 904.085,732.81 905.736,733.018 907.386,733.224 \n",
       "  909.037,733.429 910.688,733.632 912.338,733.835 913.989,734.036 915.639,734.235 917.29,734.434 918.94,734.631 920.591,734.827 922.241,735.022 923.892,735.215 \n",
       "  925.543,735.407 927.193,735.598 928.844,735.788 930.494,735.977 932.145,736.164 933.795,736.351 935.446,736.536 937.096,736.72 938.747,736.903 940.398,737.084 \n",
       "  942.048,737.265 943.699,737.444 945.349,737.623 947,737.8 948.65,737.976 950.301,738.151 951.952,738.325 953.602,738.498 955.253,738.67 956.903,738.841 \n",
       "  958.554,739.011 960.204,739.18 961.855,739.348 963.505,739.514 965.156,739.68 966.807,739.845 968.457,740.009 970.108,740.172 971.758,740.333 973.409,740.494 \n",
       "  975.059,740.654 976.71,740.813 978.361,740.971 980.011,741.128 981.662,741.284 983.312,741.439 984.963,741.594 986.613,741.747 988.264,741.9 989.914,742.051 \n",
       "  991.565,742.202 993.216,742.352 994.866,742.5 996.517,742.649 998.167,742.796 999.818,742.942 1001.47,743.088 1003.12,743.232 1004.77,743.376 1006.42,743.519 \n",
       "  1008.07,743.661 1009.72,743.802 1011.37,743.943 1013.02,744.083 1014.67,744.221 1016.32,744.36 1017.97,744.497 1019.62,744.633 1021.28,744.769 1022.93,744.904 \n",
       "  1024.58,745.038 1026.23,745.172 1027.88,745.304 1029.53,745.436 1031.18,745.568 1032.83,745.698 1034.48,745.828 1036.13,745.957 1037.78,746.085 1039.43,746.213 \n",
       "  1041.08,746.34 1042.73,746.466 1044.38,746.591 1046.03,746.716 1047.68,746.84 1049.33,746.963 1050.99,747.086 1052.64,747.208 1054.29,747.329 1055.94,747.45 \n",
       "  1057.59,747.57 1059.24,747.689 1060.89,747.808 1062.54,747.926 1064.19,748.043 1065.84,748.16 1067.49,748.276 1069.14,748.392 1070.79,748.507 1072.44,748.621 \n",
       "  1074.09,748.735 1075.74,748.848 1077.39,748.96 1079.04,749.072 1080.7,749.183 1082.35,749.294 1084,749.404 1085.65,749.513 1087.3,749.622 1088.95,749.73 \n",
       "  1090.6,749.838 1092.25,749.945 1093.9,750.051 1095.55,750.157 1097.2,750.263 1098.85,750.368 1100.5,750.472 1102.15,750.576 1103.8,750.679 1105.45,750.782 \n",
       "  1107.1,750.884 1108.75,750.985 1110.41,751.087 1112.06,751.187 1113.71,751.287 1115.36,751.387 1117.01,751.486 1118.66,751.584 1120.31,751.682 1121.96,751.78 \n",
       "  1123.61,751.877 1125.26,751.973 1126.91,752.069 1128.56,752.164 1130.21,752.259 1131.86,752.354 1133.51,752.448 1135.16,752.541 1136.81,752.635 1138.46,752.727 \n",
       "  1140.12,752.819 1141.77,752.911 1143.42,753.002 1145.07,753.093 1146.72,753.183 1148.37,753.273 1150.02,753.362 1151.67,753.451 1153.32,753.54 1154.97,753.628 \n",
       "  1156.62,753.715 1158.27,753.802 1159.92,753.889 1161.57,753.976 1163.22,754.061 1164.87,754.147 1166.52,754.232 1168.18,754.316 1169.83,754.401 1171.48,754.484 \n",
       "  1173.13,754.568 1174.78,754.651 1176.43,754.733 1178.08,754.815 1179.73,754.897 1181.38,754.978 1183.03,755.059 1184.68,755.14 1186.33,755.22 1187.98,755.3 \n",
       "  1189.63,755.379 1191.28,755.458 1192.93,755.537 1194.58,755.615 1196.23,755.693 1197.89,755.77 1199.54,755.847 1201.19,755.924 1202.84,756 1204.49,756.076 \n",
       "  1206.14,756.152 1207.79,756.227 1209.44,756.302 1211.09,756.377 1212.74,756.451 1214.39,756.525 1216.04,756.598 1217.69,756.672 1219.34,756.744 1220.99,756.817 \n",
       "  1222.64,756.889 1224.29,756.961 1225.94,757.032 1227.6,757.103 1229.25,757.174 1230.9,757.245 1232.55,757.315 1234.2,757.385 1235.85,757.454 1237.5,757.523 \n",
       "  1239.15,757.592 1240.8,757.661 1242.45,757.729 1244.1,757.797 1245.75,757.864 1247.4,757.931 1249.05,757.998 1250.7,758.065 1252.35,758.131 1254,758.197 \n",
       "  1255.65,758.263 1257.31,758.329 1258.96,758.394 1260.61,758.458 1262.26,758.523 1263.91,758.587 1265.56,758.651 1267.21,758.715 1268.86,758.778 1270.51,758.841 \n",
       "  1272.16,758.904 1273.81,758.967 1275.46,759.029 1277.11,759.091 1278.76,759.153 1280.41,759.214 1282.06,759.275 1283.71,759.336 1285.36,759.397 1287.02,759.457 \n",
       "  1288.67,759.517 1290.32,759.577 1291.97,759.636 1293.62,759.696 1295.27,759.755 1296.92,759.813 1298.57,759.872 1300.22,759.93 1301.87,759.988 1303.52,760.046 \n",
       "  1305.17,760.103 1306.82,760.16 1308.47,760.217 1310.12,760.274 1311.77,760.331 1313.42,760.387 1315.08,760.443 1316.73,760.498 1318.38,760.554 1320.03,760.609 \n",
       "  1321.68,760.664 1323.33,760.719 1324.98,760.773 1326.63,760.828 1328.28,760.882 1329.93,760.936 1331.58,760.989 1333.23,761.043 1334.88,761.096 1336.53,761.149 \n",
       "  1338.18,761.201 1339.83,761.254 1341.48,761.306 1343.13,761.358 1344.79,761.41 1346.44,761.462 1348.09,761.513 1349.74,761.564 1351.39,761.615 1353.04,761.666 \n",
       "  1354.69,761.716 1356.34,761.766 1357.99,761.817 1359.64,761.866 1361.29,761.916 1362.94,761.966 1364.59,762.015 1366.24,762.064 1367.89,762.113 1369.54,762.161 \n",
       "  1371.19,762.21 1372.84,762.258 1374.5,762.306 1376.15,762.354 1377.8,762.401 1379.45,762.449 1381.1,762.496 1382.75,762.543 1384.4,762.59 1386.05,762.637 \n",
       "  1387.7,762.683 1389.35,762.729 1391,762.776 1392.65,762.821 1394.3,762.867 1395.95,762.913 1397.6,762.958 1399.25,763.003 1400.9,763.048 1402.55,763.093 \n",
       "  1404.21,763.138 1405.86,763.182 1407.51,763.226 1409.16,763.27 1410.81,763.314 1412.46,763.358 1414.11,763.402 1415.76,763.445 1417.41,763.488 1419.06,763.531 \n",
       "  1420.71,763.574 1422.36,763.617 1424.01,763.659 1425.66,763.702 1427.31,763.744 1428.96,763.786 1430.61,763.828 1432.26,763.869 1433.92,763.911 1435.57,763.952 \n",
       "  1437.22,763.993 1438.87,764.034 1440.52,764.075 1442.17,764.116 1443.82,764.156 1445.47,764.197 1447.12,764.237 1448.77,764.277 1450.42,764.317 1452.07,764.357 \n",
       "  1453.72,764.396 1455.37,764.436 1457.02,764.475 1458.67,764.514 1460.32,764.553 1461.98,764.592 1463.63,764.631 1465.28,764.669 1466.93,764.708 1468.58,764.746 \n",
       "  1470.23,764.784 1471.88,764.822 1473.53,764.86 1475.18,764.897 1476.83,764.935 1478.48,764.972 1480.13,765.01 1481.78,765.047 1483.43,765.084 1485.08,765.12 \n",
       "  1486.73,765.157 1488.38,765.194 1490.03,765.23 1491.69,765.266 1493.34,765.302 1494.99,765.338 1496.64,765.374 1498.29,765.41 1499.94,765.445 1501.59,765.481 \n",
       "  1503.24,765.516 1504.89,765.551 1506.54,765.586 1508.19,765.621 1509.84,765.656 1511.49,765.691 1513.14,765.725 1514.79,765.759 1516.44,765.794 1518.09,765.828 \n",
       "  1519.74,765.862 1521.4,765.896 1523.05,765.93 1524.7,765.963 1526.35,765.997 1528,766.03 1529.65,766.063 1531.3,766.096 1532.95,766.129 1534.6,766.162 \n",
       "  1536.25,766.195 1537.9,766.228 1539.55,766.26 1541.2,766.293 1542.85,766.325 1544.5,766.357 1546.15,766.389 1547.8,766.421 1549.45,766.453 1551.11,766.485 \n",
       "  1552.76,766.516 \n",
       "  \"/>\n",
       "<polyline clip-path=\"url(#clip182)\" style=\"stroke:#e26f46; stroke-linecap:round; stroke-linejoin:round; stroke-width:4; stroke-opacity:1; fill:none\" stroke-dasharray=\"16, 10\" points=\"\n",
       "  232.307,653.291 233.957,653.291 235.608,653.291 237.258,653.291 238.909,653.291 240.56,653.291 242.21,653.291 243.861,653.291 245.511,653.291 247.162,653.291 \n",
       "  248.812,653.291 250.463,653.291 252.113,653.291 253.764,653.291 255.415,653.291 257.065,653.291 258.716,653.291 260.366,653.291 262.017,653.291 263.667,653.291 \n",
       "  265.318,653.291 266.969,653.291 268.619,653.291 270.27,653.291 271.92,653.291 273.571,653.291 275.221,653.291 276.872,653.291 278.522,653.291 280.173,653.291 \n",
       "  281.824,653.291 283.474,653.291 285.125,653.291 286.775,653.291 288.426,653.291 290.076,653.291 291.727,653.291 293.378,653.291 295.028,653.291 296.679,653.291 \n",
       "  298.329,653.291 299.98,653.291 301.63,653.291 303.281,653.291 304.931,653.291 306.582,653.291 308.233,653.291 309.883,653.291 311.534,653.291 313.184,653.291 \n",
       "  314.835,653.291 316.485,653.291 318.136,653.291 319.787,653.291 321.437,653.291 323.088,653.291 324.738,653.291 326.389,653.291 328.039,653.291 329.69,653.291 \n",
       "  331.34,653.291 332.991,653.291 334.642,653.291 336.292,653.291 337.943,653.291 339.593,653.291 341.244,653.291 342.894,653.291 344.545,653.291 346.195,653.291 \n",
       "  347.846,653.291 349.497,653.291 351.147,653.291 352.798,653.291 354.448,653.291 356.099,653.291 357.749,653.291 359.4,653.291 361.051,653.291 362.701,653.291 \n",
       "  364.352,653.291 366.002,653.291 367.653,653.291 369.303,653.291 370.954,653.291 372.604,653.291 374.255,653.291 375.906,653.291 377.556,653.291 379.207,653.291 \n",
       "  380.857,653.291 382.508,653.291 384.158,653.291 385.809,653.291 387.46,653.291 389.11,653.291 390.761,653.291 392.411,653.291 394.062,653.291 395.712,653.291 \n",
       "  397.363,653.291 399.013,653.291 400.664,653.291 402.315,653.291 403.965,653.291 405.616,653.291 407.266,653.291 408.917,653.291 410.567,653.291 412.218,653.291 \n",
       "  413.869,653.291 415.519,653.291 417.17,653.291 418.82,653.291 420.471,653.291 422.121,653.291 423.772,653.291 425.422,653.291 427.073,653.291 428.724,653.291 \n",
       "  430.374,653.291 432.025,653.291 433.675,653.291 435.326,653.291 436.976,653.291 438.627,653.291 440.277,653.291 441.928,653.291 443.579,653.291 445.229,653.291 \n",
       "  446.88,653.291 448.53,653.291 450.181,653.291 451.831,653.291 453.482,653.291 455.133,653.291 456.783,653.291 458.434,653.291 460.084,653.291 461.735,653.291 \n",
       "  463.385,653.291 465.036,653.291 466.686,653.291 468.337,653.291 469.988,653.291 471.638,653.291 473.289,653.291 474.939,653.291 476.59,653.291 478.24,653.291 \n",
       "  479.891,653.291 481.542,653.291 483.192,653.291 484.843,653.291 486.493,653.291 488.144,653.291 489.794,653.291 491.445,653.291 493.095,653.291 494.746,653.291 \n",
       "  496.397,653.291 498.047,653.291 499.698,653.291 501.348,653.291 502.999,653.291 504.649,653.291 506.3,653.291 507.951,653.291 509.601,653.291 511.252,653.291 \n",
       "  512.902,653.291 514.553,653.291 516.203,653.291 517.854,653.291 519.504,653.291 521.155,653.291 522.806,653.291 524.456,653.291 526.107,653.291 527.757,653.291 \n",
       "  529.408,653.291 531.058,653.291 532.709,653.291 534.359,653.291 536.01,653.291 537.661,653.291 539.311,653.291 540.962,653.291 542.612,653.291 544.263,653.291 \n",
       "  545.913,653.291 547.564,653.291 549.215,653.291 550.865,653.291 552.516,653.291 554.166,653.291 555.817,653.291 557.467,653.291 559.118,653.291 560.768,653.291 \n",
       "  562.419,653.291 564.07,653.291 565.72,653.291 567.371,653.291 569.021,653.291 570.672,653.291 572.322,653.291 573.973,653.291 575.624,653.291 577.274,653.291 \n",
       "  578.925,653.291 580.575,653.291 582.226,653.291 583.876,653.291 585.527,653.291 587.177,653.291 588.828,653.291 590.479,653.291 592.129,653.291 593.78,653.291 \n",
       "  595.43,653.291 597.081,653.291 598.731,653.291 600.382,653.291 602.033,653.291 603.683,653.291 605.334,653.291 606.984,653.291 608.635,653.291 610.285,653.291 \n",
       "  611.936,653.291 613.586,653.291 615.237,653.291 616.888,653.291 618.538,653.291 620.189,653.291 621.839,653.291 623.49,653.291 625.14,653.291 626.791,653.291 \n",
       "  628.441,653.291 630.092,653.291 631.743,653.291 633.393,653.291 635.044,653.291 636.694,653.291 638.345,653.291 639.995,653.291 641.646,653.291 643.297,653.291 \n",
       "  644.947,653.291 646.598,653.291 648.248,653.291 649.899,653.291 651.549,653.291 653.2,653.291 654.85,653.291 656.501,653.291 658.152,653.291 659.802,653.291 \n",
       "  661.453,653.291 663.103,653.291 664.754,653.291 666.404,653.291 668.055,653.291 669.706,653.291 671.356,653.291 673.007,653.291 674.657,653.291 676.308,653.291 \n",
       "  677.958,653.291 679.609,653.291 681.259,653.291 682.91,653.291 684.561,653.291 686.211,653.291 687.862,653.291 689.512,653.291 691.163,653.291 692.813,653.291 \n",
       "  694.464,653.291 696.115,653.291 697.765,653.291 699.416,653.291 701.066,653.291 702.717,653.291 704.367,653.291 706.018,653.291 707.668,653.291 709.319,653.291 \n",
       "  710.97,653.291 712.62,653.291 714.271,653.291 715.921,653.291 717.572,653.291 719.222,653.291 720.873,653.291 722.523,653.291 724.174,653.291 725.825,653.291 \n",
       "  727.475,653.291 729.126,653.291 730.776,653.291 732.427,653.291 734.077,653.291 735.728,653.291 737.379,653.291 739.029,653.291 740.68,653.291 742.33,653.291 \n",
       "  743.981,653.291 745.631,653.291 747.282,653.291 748.932,653.291 750.583,653.291 752.234,653.291 753.884,653.291 755.535,653.291 757.185,653.291 758.836,653.291 \n",
       "  760.486,653.291 762.137,653.291 763.788,653.291 765.438,653.291 767.089,653.291 768.739,653.291 770.39,653.291 772.04,653.291 773.691,653.291 775.341,653.291 \n",
       "  776.992,653.291 778.643,653.291 780.293,653.291 781.944,653.291 783.594,653.291 785.245,653.291 786.895,653.291 788.546,653.291 790.197,653.291 791.847,653.291 \n",
       "  793.498,653.291 795.148,653.291 796.799,653.291 798.449,653.291 800.1,653.291 801.75,653.291 803.401,653.291 805.052,653.291 806.702,653.291 808.353,653.291 \n",
       "  810.003,653.291 811.654,653.291 813.304,653.291 814.955,653.291 816.605,653.291 818.256,653.291 819.907,653.291 821.557,653.291 823.208,653.291 824.858,653.291 \n",
       "  826.509,653.291 828.159,653.291 829.81,653.291 831.461,653.291 833.111,653.291 834.762,653.291 836.412,653.291 838.063,653.291 839.713,653.291 841.364,653.291 \n",
       "  843.014,653.291 844.665,653.291 846.316,653.291 847.966,653.291 849.617,653.291 851.267,653.291 852.918,653.291 854.568,653.291 856.219,653.291 857.87,653.291 \n",
       "  859.52,653.291 861.171,653.291 862.821,653.291 864.472,653.291 866.122,653.291 867.773,653.291 869.423,653.291 871.074,653.291 872.725,653.291 874.375,653.291 \n",
       "  876.026,653.291 877.676,653.291 879.327,653.291 880.977,653.291 882.628,653.291 884.279,653.291 885.929,653.291 887.58,653.291 889.23,653.291 890.881,653.291 \n",
       "  892.531,653.291 894.182,653.291 895.832,653.291 897.483,653.291 899.134,653.291 900.784,653.291 902.435,653.291 904.085,653.291 905.736,653.291 907.386,653.291 \n",
       "  909.037,653.291 910.688,653.291 912.338,653.291 913.989,653.291 915.639,653.291 917.29,653.291 918.94,653.291 920.591,653.291 922.241,653.291 923.892,653.291 \n",
       "  925.543,653.291 927.193,653.291 928.844,653.291 930.494,653.291 932.145,653.291 933.795,653.291 935.446,653.291 937.096,653.291 938.747,653.291 940.398,653.291 \n",
       "  942.048,653.291 943.699,653.291 945.349,653.291 947,653.291 948.65,653.291 950.301,653.291 951.952,653.291 953.602,653.291 955.253,653.291 956.903,653.291 \n",
       "  958.554,653.291 960.204,653.291 961.855,653.291 963.505,653.291 965.156,653.291 966.807,653.291 968.457,653.291 970.108,653.291 971.758,653.291 973.409,653.291 \n",
       "  975.059,653.291 976.71,653.291 978.361,653.291 980.011,653.291 981.662,653.291 983.312,653.291 984.963,653.291 986.613,653.291 988.264,653.291 989.914,653.291 \n",
       "  991.565,653.291 993.216,653.291 994.866,653.291 996.517,653.291 998.167,653.291 999.818,653.291 1001.47,653.291 1003.12,653.291 1004.77,653.291 1006.42,653.291 \n",
       "  1008.07,653.291 1009.72,653.291 1011.37,653.291 1013.02,653.291 1014.67,653.291 1016.32,653.291 1017.97,653.291 1019.62,653.291 1021.28,653.291 1022.93,653.291 \n",
       "  1024.58,653.291 1026.23,653.291 1027.88,653.291 1029.53,653.291 1031.18,653.291 1032.83,653.291 1034.48,653.291 1036.13,653.291 1037.78,653.291 1039.43,653.291 \n",
       "  1041.08,653.291 1042.73,653.291 1044.38,653.291 1046.03,653.291 1047.68,653.291 1049.33,653.291 1050.99,653.291 1052.64,653.291 1054.29,653.291 1055.94,653.291 \n",
       "  1057.59,653.291 1059.24,653.291 1060.89,653.291 1062.54,653.291 1064.19,653.291 1065.84,653.291 1067.49,653.291 1069.14,653.291 1070.79,653.291 1072.44,653.291 \n",
       "  1074.09,653.291 1075.74,653.291 1077.39,653.291 1079.04,653.291 1080.7,653.291 1082.35,653.291 1084,653.291 1085.65,653.291 1087.3,653.291 1088.95,653.291 \n",
       "  1090.6,653.291 1092.25,653.291 1093.9,653.291 1095.55,653.291 1097.2,653.291 1098.85,653.291 1100.5,653.291 1102.15,653.291 1103.8,653.291 1105.45,653.291 \n",
       "  1107.1,653.291 1108.75,653.291 1110.41,653.291 1112.06,653.291 1113.71,653.291 1115.36,653.291 1117.01,653.291 1118.66,653.291 1120.31,653.291 1121.96,653.291 \n",
       "  1123.61,653.291 1125.26,653.291 1126.91,653.291 1128.56,653.291 1130.21,653.291 1131.86,653.291 1133.51,653.291 1135.16,653.291 1136.81,653.291 1138.46,653.291 \n",
       "  1140.12,653.291 1141.77,653.291 1143.42,653.291 1145.07,653.291 1146.72,653.291 1148.37,653.291 1150.02,653.291 1151.67,653.291 1153.32,653.291 1154.97,653.291 \n",
       "  1156.62,653.291 1158.27,653.291 1159.92,653.291 1161.57,653.291 1163.22,653.291 1164.87,653.291 1166.52,653.291 1168.18,653.291 1169.83,653.291 1171.48,653.291 \n",
       "  1173.13,653.291 1174.78,653.291 1176.43,653.291 1178.08,653.291 1179.73,653.291 1181.38,653.291 1183.03,653.291 1184.68,653.291 1186.33,653.291 1187.98,653.291 \n",
       "  1189.63,653.291 1191.28,653.291 1192.93,653.291 1194.58,653.291 1196.23,653.291 1197.89,653.291 1199.54,653.291 1201.19,653.291 1202.84,653.291 1204.49,653.291 \n",
       "  1206.14,653.291 1207.79,653.291 1209.44,653.291 1211.09,653.291 1212.74,653.291 1214.39,653.291 1216.04,653.291 1217.69,653.291 1219.34,653.291 1220.99,653.291 \n",
       "  1222.64,653.291 1224.29,653.291 1225.94,653.291 1227.6,653.291 1229.25,653.291 1230.9,653.291 1232.55,653.291 1234.2,653.291 1235.85,653.291 1237.5,653.291 \n",
       "  1239.15,653.291 1240.8,653.291 1242.45,653.291 1244.1,653.291 1245.75,653.291 1247.4,653.291 1249.05,653.291 1250.7,653.291 1252.35,653.291 1254,653.291 \n",
       "  1255.65,653.291 1257.31,653.291 1258.96,653.291 1260.61,653.291 1262.26,653.291 1263.91,653.291 1265.56,653.291 1267.21,653.291 1268.86,653.291 1270.51,653.291 \n",
       "  1272.16,653.291 1273.81,653.291 1275.46,653.291 1277.11,653.291 1278.76,653.291 1280.41,653.291 1282.06,653.291 1283.71,653.291 1285.36,653.291 1287.02,653.291 \n",
       "  1288.67,653.291 1290.32,653.291 1291.97,653.291 1293.62,653.291 1295.27,653.291 1296.92,653.291 1298.57,653.291 1300.22,653.291 1301.87,653.291 1303.52,653.291 \n",
       "  1305.17,653.291 1306.82,653.291 1308.47,653.291 1310.12,653.291 1311.77,653.291 1313.42,653.291 1315.08,653.291 1316.73,653.291 1318.38,653.291 1320.03,653.291 \n",
       "  1321.68,653.291 1323.33,653.291 1324.98,653.291 1326.63,653.291 1328.28,653.291 1329.93,653.291 1331.58,653.291 1333.23,653.291 1334.88,653.291 1336.53,653.291 \n",
       "  1338.18,653.291 1339.83,653.291 1341.48,653.291 1343.13,653.291 1344.79,653.291 1346.44,653.291 1348.09,653.291 1349.74,653.291 1351.39,653.291 1353.04,653.291 \n",
       "  1354.69,653.291 1356.34,653.291 1357.99,653.291 1359.64,653.291 1361.29,653.291 1362.94,653.291 1364.59,653.291 1366.24,653.291 1367.89,653.291 1369.54,653.291 \n",
       "  1371.19,653.291 1372.84,653.291 1374.5,653.291 1376.15,653.291 1377.8,653.291 1379.45,653.291 1381.1,653.291 1382.75,653.291 1384.4,653.291 1386.05,653.291 \n",
       "  1387.7,653.291 1389.35,653.291 1391,653.291 1392.65,653.291 1394.3,653.291 1395.95,653.291 1397.6,653.291 1399.25,653.291 1400.9,653.291 1402.55,653.291 \n",
       "  1404.21,653.291 1405.86,653.291 1407.51,653.291 1409.16,653.291 1410.81,653.291 1412.46,653.291 1414.11,653.291 1415.76,653.291 1417.41,653.291 1419.06,653.291 \n",
       "  1420.71,653.291 1422.36,653.291 1424.01,653.291 1425.66,653.291 1427.31,653.291 1428.96,653.291 1430.61,653.291 1432.26,653.291 1433.92,653.291 1435.57,653.291 \n",
       "  1437.22,653.291 1438.87,653.291 1440.52,653.291 1442.17,653.291 1443.82,653.291 1445.47,653.291 1447.12,653.291 1448.77,653.291 1450.42,653.291 1452.07,653.291 \n",
       "  1453.72,653.291 1455.37,653.291 1457.02,653.291 1458.67,653.291 1460.32,653.291 1461.98,653.291 1463.63,653.291 1465.28,653.291 1466.93,653.291 1468.58,653.291 \n",
       "  1470.23,653.291 1471.88,653.291 1473.53,653.291 1475.18,653.291 1476.83,653.291 1478.48,653.291 1480.13,653.291 1481.78,653.291 1483.43,653.291 1485.08,653.291 \n",
       "  1486.73,653.291 1488.38,653.291 1490.03,653.291 1491.69,653.291 1493.34,653.291 1494.99,653.291 1496.64,653.291 1498.29,653.291 1499.94,653.291 1501.59,653.291 \n",
       "  1503.24,653.291 1504.89,653.291 1506.54,653.291 1508.19,653.291 1509.84,653.291 1511.49,653.291 1513.14,653.291 1514.79,653.291 1516.44,653.291 1518.09,653.291 \n",
       "  1519.74,653.291 1521.4,653.291 1523.05,653.291 1524.7,653.291 1526.35,653.291 1528,653.291 1529.65,653.291 1531.3,653.291 1532.95,653.291 1534.6,653.291 \n",
       "  1536.25,653.291 1537.9,653.291 1539.55,653.291 1541.2,653.291 1542.85,653.291 1544.5,653.291 1546.15,653.291 1547.8,653.291 1549.45,653.291 1551.11,653.291 \n",
       "  1552.76,653.291 \n",
       "  \"/>\n",
       "</svg>\n"
      ],
      "image/svg+xml": [
       "<?xml version=\"1.0\" encoding=\"utf-8\"?>\n",
       "<svg xmlns=\"http://www.w3.org/2000/svg\" xmlns:xlink=\"http://www.w3.org/1999/xlink\" width=\"400\" height=\"300\" viewBox=\"0 0 1600 1200\">\n",
       "<defs>\n",
       "  <clipPath id=\"clip150\">\n",
       "    <rect x=\"0\" y=\"0\" width=\"1600\" height=\"1200\"/>\n",
       "  </clipPath>\n",
       "</defs>\n",
       "<path clip-path=\"url(#clip150)\" d=\"\n",
       "M0 1200 L1600 1200 L1600 0 L0 0  Z\n",
       "  \" fill=\"#ffffff\" fill-rule=\"evenodd\" fill-opacity=\"1\"/>\n",
       "<defs>\n",
       "  <clipPath id=\"clip151\">\n",
       "    <rect x=\"320\" y=\"0\" width=\"1121\" height=\"1121\"/>\n",
       "  </clipPath>\n",
       "</defs>\n",
       "<defs>\n",
       "  <clipPath id=\"clip152\">\n",
       "    <rect x=\"212\" y=\"47\" width=\"1341\" height=\"971\"/>\n",
       "  </clipPath>\n",
       "</defs>\n",
       "<path clip-path=\"url(#clip150)\" d=\"\n",
       "M232.142 1016.92 L1552.76 1016.92 L1552.76 47.2441 L232.142 47.2441  Z\n",
       "  \" fill=\"#ffffff\" fill-rule=\"evenodd\" fill-opacity=\"1\"/>\n",
       "<defs>\n",
       "  <clipPath id=\"clip153\">\n",
       "    <rect x=\"232\" y=\"47\" width=\"1322\" height=\"971\"/>\n",
       "  </clipPath>\n",
       "</defs>\n",
       "<polyline clip-path=\"url(#clip150)\" style=\"stroke:#000000; stroke-linecap:round; stroke-linejoin:round; stroke-width:4; stroke-opacity:1; fill:none\" points=\"\n",
       "  232.142,1016.92 1552.76,1016.92 \n",
       "  \"/>\n",
       "<polyline clip-path=\"url(#clip150)\" style=\"stroke:#000000; stroke-linecap:round; stroke-linejoin:round; stroke-width:4; stroke-opacity:1; fill:none\" points=\"\n",
       "  232.142,1016.92 232.142,998.022 \n",
       "  \"/>\n",
       "<polyline clip-path=\"url(#clip150)\" style=\"stroke:#000000; stroke-linecap:round; stroke-linejoin:round; stroke-width:4; stroke-opacity:1; fill:none\" points=\"\n",
       "  397.218,1016.92 397.218,998.022 \n",
       "  \"/>\n",
       "<polyline clip-path=\"url(#clip150)\" style=\"stroke:#000000; stroke-linecap:round; stroke-linejoin:round; stroke-width:4; stroke-opacity:1; fill:none\" points=\"\n",
       "  562.295,1016.92 562.295,998.022 \n",
       "  \"/>\n",
       "<polyline clip-path=\"url(#clip150)\" style=\"stroke:#000000; stroke-linecap:round; stroke-linejoin:round; stroke-width:4; stroke-opacity:1; fill:none\" points=\"\n",
       "  727.372,1016.92 727.372,998.022 \n",
       "  \"/>\n",
       "<polyline clip-path=\"url(#clip150)\" style=\"stroke:#000000; stroke-linecap:round; stroke-linejoin:round; stroke-width:4; stroke-opacity:1; fill:none\" points=\"\n",
       "  892.449,1016.92 892.449,998.022 \n",
       "  \"/>\n",
       "<polyline clip-path=\"url(#clip150)\" style=\"stroke:#000000; stroke-linecap:round; stroke-linejoin:round; stroke-width:4; stroke-opacity:1; fill:none\" points=\"\n",
       "  1057.53,1016.92 1057.53,998.022 \n",
       "  \"/>\n",
       "<polyline clip-path=\"url(#clip150)\" style=\"stroke:#000000; stroke-linecap:round; stroke-linejoin:round; stroke-width:4; stroke-opacity:1; fill:none\" points=\"\n",
       "  1222.6,1016.92 1222.6,998.022 \n",
       "  \"/>\n",
       "<polyline clip-path=\"url(#clip150)\" style=\"stroke:#000000; stroke-linecap:round; stroke-linejoin:round; stroke-width:4; stroke-opacity:1; fill:none\" points=\"\n",
       "  1387.68,1016.92 1387.68,998.022 \n",
       "  \"/>\n",
       "<polyline clip-path=\"url(#clip150)\" style=\"stroke:#000000; stroke-linecap:round; stroke-linejoin:round; stroke-width:4; stroke-opacity:1; fill:none\" points=\"\n",
       "  1552.76,1016.92 1552.76,998.022 \n",
       "  \"/>\n",
       "<path clip-path=\"url(#clip150)\" d=\"M232.142 1041.44 Q228.531 1041.44 226.702 1045 Q224.896 1048.54 224.896 1055.67 Q224.896 1062.78 226.702 1066.35 Q228.531 1069.89 232.142 1069.89 Q235.776 1069.89 237.581 1066.35 Q239.41 1062.78 239.41 1055.67 Q239.41 1048.54 237.581 1045 Q235.776 1041.44 232.142 1041.44 M232.142 1037.73 Q237.952 1037.73 241.007 1042.34 Q244.086 1046.92 244.086 1055.67 Q244.086 1064.4 241.007 1069.01 Q237.952 1073.59 232.142 1073.59 Q226.332 1073.59 223.253 1069.01 Q220.197 1064.4 220.197 1055.67 Q220.197 1046.92 223.253 1042.34 Q226.332 1037.73 232.142 1037.73 Z\" fill=\"#000000\" fill-rule=\"evenodd\" fill-opacity=\"1\" /><path clip-path=\"url(#clip150)\" d=\"M387.6 1068.98 L395.239 1068.98 L395.239 1042.62 L386.929 1044.29 L386.929 1040.03 L395.193 1038.36 L399.869 1038.36 L399.869 1068.98 L407.508 1068.98 L407.508 1072.92 L387.6 1072.92 L387.6 1068.98 Z\" fill=\"#000000\" fill-rule=\"evenodd\" fill-opacity=\"1\" /><path clip-path=\"url(#clip150)\" d=\"M556.948 1068.98 L573.267 1068.98 L573.267 1072.92 L551.323 1072.92 L551.323 1068.98 Q553.985 1066.23 558.568 1061.6 Q563.175 1056.95 564.355 1055.61 Q566.601 1053.08 567.48 1051.35 Q568.383 1049.59 568.383 1047.9 Q568.383 1045.14 566.439 1043.41 Q564.517 1041.67 561.416 1041.67 Q559.217 1041.67 556.763 1042.43 Q554.332 1043.2 551.555 1044.75 L551.555 1040.03 Q554.379 1038.89 556.832 1038.31 Q559.286 1037.73 561.323 1037.73 Q566.693 1037.73 569.888 1040.42 Q573.082 1043.11 573.082 1047.6 Q573.082 1049.73 572.272 1051.65 Q571.485 1053.54 569.379 1056.14 Q568.8 1056.81 565.698 1060.03 Q562.596 1063.22 556.948 1068.98 Z\" fill=\"#000000\" fill-rule=\"evenodd\" fill-opacity=\"1\" /><path clip-path=\"url(#clip150)\" d=\"M731.62 1054.29 Q734.976 1055 736.851 1057.27 Q738.749 1059.54 738.749 1062.87 Q738.749 1067.99 735.231 1070.79 Q731.712 1073.59 725.231 1073.59 Q723.055 1073.59 720.74 1073.15 Q718.448 1072.73 715.995 1071.88 L715.995 1067.36 Q717.939 1068.5 720.254 1069.08 Q722.569 1069.66 725.092 1069.66 Q729.49 1069.66 731.782 1067.92 Q734.097 1066.18 734.097 1062.87 Q734.097 1059.82 731.944 1058.11 Q729.814 1056.37 725.995 1056.37 L721.967 1056.37 L721.967 1052.53 L726.18 1052.53 Q729.629 1052.53 731.458 1051.16 Q733.286 1049.77 733.286 1047.18 Q733.286 1044.52 731.388 1043.11 Q729.513 1041.67 725.995 1041.67 Q724.073 1041.67 721.874 1042.09 Q719.675 1042.5 717.036 1043.38 L717.036 1039.22 Q719.698 1038.48 722.013 1038.11 Q724.351 1037.73 726.411 1037.73 Q731.735 1037.73 734.837 1040.17 Q737.939 1042.57 737.939 1046.69 Q737.939 1049.56 736.296 1051.55 Q734.652 1053.52 731.62 1054.29 Z\" fill=\"#000000\" fill-rule=\"evenodd\" fill-opacity=\"1\" /><path clip-path=\"url(#clip150)\" d=\"M895.458 1042.43 L883.653 1060.88 L895.458 1060.88 L895.458 1042.43 M894.231 1038.36 L900.111 1038.36 L900.111 1060.88 L905.041 1060.88 L905.041 1064.77 L900.111 1064.77 L900.111 1072.92 L895.458 1072.92 L895.458 1064.77 L879.856 1064.77 L879.856 1060.26 L894.231 1038.36 Z\" fill=\"#000000\" fill-rule=\"evenodd\" fill-opacity=\"1\" /><path clip-path=\"url(#clip150)\" d=\"M1047.8 1038.36 L1066.16 1038.36 L1066.16 1042.3 L1052.09 1042.3 L1052.09 1050.77 Q1053.1 1050.42 1054.12 1050.26 Q1055.14 1050.07 1056.16 1050.07 Q1061.95 1050.07 1065.33 1053.24 Q1068.71 1056.42 1068.71 1061.83 Q1068.71 1067.41 1065.23 1070.51 Q1061.76 1073.59 1055.44 1073.59 Q1053.27 1073.59 1051 1073.22 Q1048.75 1072.85 1046.35 1072.11 L1046.35 1067.41 Q1048.43 1068.54 1050.65 1069.1 Q1052.87 1069.66 1055.35 1069.66 Q1059.35 1069.66 1061.69 1067.55 Q1064.03 1065.44 1064.03 1061.83 Q1064.03 1058.22 1061.69 1056.11 Q1059.35 1054.01 1055.35 1054.01 Q1053.47 1054.01 1051.6 1054.42 Q1049.75 1054.84 1047.8 1055.72 L1047.8 1038.36 Z\" fill=\"#000000\" fill-rule=\"evenodd\" fill-opacity=\"1\" /><path clip-path=\"url(#clip150)\" d=\"M1223.01 1053.78 Q1219.86 1053.78 1218.01 1055.93 Q1216.18 1058.08 1216.18 1061.83 Q1216.18 1065.56 1218.01 1067.73 Q1219.86 1069.89 1223.01 1069.89 Q1226.16 1069.89 1227.98 1067.73 Q1229.84 1065.56 1229.84 1061.83 Q1229.84 1058.08 1227.98 1055.93 Q1226.16 1053.78 1223.01 1053.78 M1232.29 1039.12 L1232.29 1043.38 Q1230.53 1042.55 1228.72 1042.11 Q1226.94 1041.67 1225.18 1041.67 Q1220.55 1041.67 1218.1 1044.79 Q1215.67 1047.92 1215.32 1054.24 Q1216.69 1052.23 1218.75 1051.16 Q1220.81 1050.07 1223.29 1050.07 Q1228.49 1050.07 1231.5 1053.24 Q1234.54 1056.39 1234.54 1061.83 Q1234.54 1067.16 1231.39 1070.37 Q1228.24 1073.59 1223.01 1073.59 Q1217.01 1073.59 1213.84 1069.01 Q1210.67 1064.4 1210.67 1055.67 Q1210.67 1047.48 1214.56 1042.62 Q1218.45 1037.73 1225 1037.73 Q1226.76 1037.73 1228.54 1038.08 Q1230.35 1038.43 1232.29 1039.12 Z\" fill=\"#000000\" fill-rule=\"evenodd\" fill-opacity=\"1\" /><path clip-path=\"url(#clip150)\" d=\"M1376.57 1038.36 L1398.79 1038.36 L1398.79 1040.35 L1386.24 1072.92 L1381.36 1072.92 L1393.17 1042.3 L1376.57 1042.3 L1376.57 1038.36 Z\" fill=\"#000000\" fill-rule=\"evenodd\" fill-opacity=\"1\" /><path clip-path=\"url(#clip150)\" d=\"M1552.76 1056.51 Q1549.42 1056.51 1547.5 1058.29 Q1545.6 1060.07 1545.6 1063.2 Q1545.6 1066.32 1547.5 1068.11 Q1549.42 1069.89 1552.76 1069.89 Q1556.09 1069.89 1558.01 1068.11 Q1559.93 1066.3 1559.93 1063.2 Q1559.93 1060.07 1558.01 1058.29 Q1556.11 1056.51 1552.76 1056.51 M1548.08 1054.52 Q1545.07 1053.78 1543.38 1051.72 Q1541.71 1049.66 1541.71 1046.69 Q1541.71 1042.55 1544.65 1040.14 Q1547.62 1037.73 1552.76 1037.73 Q1557.92 1037.73 1560.86 1040.14 Q1563.8 1042.55 1563.8 1046.69 Q1563.8 1049.66 1562.11 1051.72 Q1560.44 1053.78 1557.45 1054.52 Q1560.83 1055.3 1562.71 1057.6 Q1564.61 1059.89 1564.61 1063.2 Q1564.61 1068.22 1561.53 1070.91 Q1558.47 1073.59 1552.76 1073.59 Q1547.04 1073.59 1543.96 1070.91 Q1540.9 1068.22 1540.9 1063.2 Q1540.9 1059.89 1542.8 1057.6 Q1544.7 1055.3 1548.08 1054.52 M1546.37 1047.13 Q1546.37 1049.82 1548.03 1051.32 Q1549.72 1052.83 1552.76 1052.83 Q1555.77 1052.83 1557.45 1051.32 Q1559.17 1049.82 1559.17 1047.13 Q1559.17 1044.45 1557.45 1042.94 Q1555.77 1041.44 1552.76 1041.44 Q1549.72 1041.44 1548.03 1042.94 Q1546.37 1044.45 1546.37 1047.13 Z\" fill=\"#000000\" fill-rule=\"evenodd\" fill-opacity=\"1\" /><path clip-path=\"url(#clip150)\" d=\"M671.416 1102.26 L680.996 1102.26 L693.123 1134.6 L705.313 1102.26 L714.893 1102.26 L714.893 1149.78 L708.623 1149.78 L708.623 1108.06 L696.369 1140.65 L689.908 1140.65 L677.654 1108.06 L677.654 1149.78 L671.416 1149.78 L671.416 1102.26 Z\" fill=\"#000000\" fill-rule=\"evenodd\" fill-opacity=\"1\" /><path clip-path=\"url(#clip150)\" d=\"M743.603 1131.86 Q736.505 1131.86 733.768 1133.49 Q731.03 1135.11 731.03 1139.03 Q731.03 1142.14 733.067 1143.99 Q735.136 1145.81 738.669 1145.81 Q743.539 1145.81 746.467 1142.37 Q749.427 1138.9 749.427 1133.17 L749.427 1131.86 L743.603 1131.86 M755.284 1129.45 L755.284 1149.78 L749.427 1149.78 L749.427 1144.37 Q747.422 1147.62 744.43 1149.18 Q741.438 1150.71 737.11 1150.71 Q731.635 1150.71 728.389 1147.65 Q725.174 1144.56 725.174 1139.41 Q725.174 1133.39 729.184 1130.34 Q733.227 1127.28 741.216 1127.28 L749.427 1127.28 L749.427 1126.71 Q749.427 1122.67 746.754 1120.47 Q744.112 1118.24 739.306 1118.24 Q736.25 1118.24 733.354 1118.97 Q730.457 1119.71 727.784 1121.17 L727.784 1115.76 Q730.999 1114.52 734.022 1113.91 Q737.046 1113.28 739.911 1113.28 Q747.645 1113.28 751.464 1117.29 Q755.284 1121.3 755.284 1129.45 Z\" fill=\"#000000\" fill-rule=\"evenodd\" fill-opacity=\"1\" /><path clip-path=\"url(#clip150)\" d=\"M793.001 1115.5 L793.001 1120.98 Q790.518 1119.61 788.003 1118.94 Q785.521 1118.24 782.975 1118.24 Q777.277 1118.24 774.126 1121.87 Q770.975 1125.47 770.975 1131.99 Q770.975 1138.52 774.126 1142.14 Q777.277 1145.74 782.975 1145.74 Q785.521 1145.74 788.003 1145.07 Q790.518 1144.37 793.001 1143 L793.001 1148.42 Q790.55 1149.56 787.908 1150.13 Q785.298 1150.71 782.338 1150.71 Q774.285 1150.71 769.543 1145.65 Q764.8 1140.59 764.8 1131.99 Q764.8 1123.27 769.575 1118.27 Q774.381 1113.28 782.72 1113.28 Q785.425 1113.28 788.003 1113.85 Q790.582 1114.39 793.001 1115.5 Z\" fill=\"#000000\" fill-rule=\"evenodd\" fill-opacity=\"1\" /><path clip-path=\"url(#clip150)\" d=\"M832.818 1128.27 L832.818 1149.78 L826.962 1149.78 L826.962 1128.46 Q826.962 1123.4 824.988 1120.88 Q823.015 1118.37 819.068 1118.37 Q814.326 1118.37 811.588 1121.39 Q808.851 1124.42 808.851 1129.64 L808.851 1149.78 L802.963 1149.78 L802.963 1100.26 L808.851 1100.26 L808.851 1119.67 Q810.952 1116.46 813.785 1114.87 Q816.649 1113.28 820.373 1113.28 Q826.516 1113.28 829.667 1117.1 Q832.818 1120.88 832.818 1128.27 Z\" fill=\"#000000\" fill-rule=\"evenodd\" fill-opacity=\"1\" /><path clip-path=\"url(#clip150)\" d=\"M894.852 1128.27 L894.852 1149.78 L888.995 1149.78 L888.995 1128.46 Q888.995 1123.4 887.022 1120.88 Q885.049 1118.37 881.102 1118.37 Q876.359 1118.37 873.622 1121.39 Q870.885 1124.42 870.885 1129.64 L870.885 1149.78 L864.997 1149.78 L864.997 1114.14 L870.885 1114.14 L870.885 1119.67 Q872.986 1116.46 875.818 1114.87 Q878.683 1113.28 882.407 1113.28 Q888.55 1113.28 891.701 1117.1 Q894.852 1120.88 894.852 1128.27 Z\" fill=\"#000000\" fill-rule=\"evenodd\" fill-opacity=\"1\" /><path clip-path=\"url(#clip150)\" d=\"M905.928 1135.72 L905.928 1114.14 L911.785 1114.14 L911.785 1135.49 Q911.785 1140.55 913.758 1143.1 Q915.731 1145.61 919.678 1145.61 Q924.421 1145.61 927.158 1142.59 Q929.927 1139.57 929.927 1134.35 L929.927 1114.14 L935.783 1114.14 L935.783 1149.78 L929.927 1149.78 L929.927 1144.31 Q927.794 1147.56 924.962 1149.15 Q922.161 1150.71 918.437 1150.71 Q912.294 1150.71 909.111 1146.89 Q905.928 1143.07 905.928 1135.72 M920.665 1113.28 L920.665 1113.28 Z\" fill=\"#000000\" fill-rule=\"evenodd\" fill-opacity=\"1\" /><path clip-path=\"url(#clip150)\" d=\"M975.601 1120.98 Q977.797 1117.03 980.853 1115.15 Q983.908 1113.28 988.046 1113.28 Q993.616 1113.28 996.639 1117.19 Q999.663 1121.07 999.663 1128.27 L999.663 1149.78 L993.775 1149.78 L993.775 1128.46 Q993.775 1123.33 991.961 1120.85 Q990.146 1118.37 986.423 1118.37 Q981.871 1118.37 979.229 1121.39 Q976.588 1124.42 976.588 1129.64 L976.588 1149.78 L970.699 1149.78 L970.699 1128.46 Q970.699 1123.3 968.885 1120.85 Q967.071 1118.37 963.283 1118.37 Q958.795 1118.37 956.154 1121.42 Q953.512 1124.45 953.512 1129.64 L953.512 1149.78 L947.624 1149.78 L947.624 1114.14 L953.512 1114.14 L953.512 1119.67 Q955.517 1116.4 958.318 1114.84 Q961.119 1113.28 964.97 1113.28 Q968.853 1113.28 971.559 1115.25 Q974.296 1117.22 975.601 1120.98 Z\" fill=\"#000000\" fill-rule=\"evenodd\" fill-opacity=\"1\" /><path clip-path=\"url(#clip150)\" d=\"M1036.93 1131.99 Q1036.93 1125.53 1034.26 1121.87 Q1031.62 1118.18 1026.97 1118.18 Q1022.33 1118.18 1019.65 1121.87 Q1017.01 1125.53 1017.01 1131.99 Q1017.01 1138.45 1019.65 1142.14 Q1022.33 1145.81 1026.97 1145.81 Q1031.62 1145.81 1034.26 1142.14 Q1036.93 1138.45 1036.93 1131.99 M1017.01 1119.55 Q1018.86 1116.36 1021.66 1114.84 Q1024.49 1113.28 1028.4 1113.28 Q1034.9 1113.28 1038.94 1118.43 Q1043.01 1123.59 1043.01 1131.99 Q1043.01 1140.39 1038.94 1145.55 Q1034.9 1150.71 1028.4 1150.71 Q1024.49 1150.71 1021.66 1149.18 Q1018.86 1147.62 1017.01 1144.44 L1017.01 1149.78 L1011.12 1149.78 L1011.12 1100.26 L1017.01 1100.26 L1017.01 1119.55 Z\" fill=\"#000000\" fill-rule=\"evenodd\" fill-opacity=\"1\" /><path clip-path=\"url(#clip150)\" d=\"M1083.21 1130.5 L1083.21 1133.36 L1056.29 1133.36 Q1056.67 1139.41 1059.91 1142.59 Q1063.19 1145.74 1069.02 1145.74 Q1072.39 1145.74 1075.54 1144.91 Q1078.73 1144.09 1081.84 1142.43 L1081.84 1147.97 Q1078.69 1149.31 1075.38 1150.01 Q1072.07 1150.71 1068.67 1150.71 Q1060.14 1150.71 1055.14 1145.74 Q1050.18 1140.78 1050.18 1132.31 Q1050.18 1123.56 1054.89 1118.43 Q1059.63 1113.28 1067.65 1113.28 Q1074.84 1113.28 1079.01 1117.92 Q1083.21 1122.54 1083.21 1130.5 M1077.36 1128.78 Q1077.29 1123.97 1074.65 1121.11 Q1072.04 1118.24 1067.71 1118.24 Q1062.81 1118.24 1059.85 1121.01 Q1056.92 1123.78 1056.48 1128.81 L1077.36 1128.78 Z\" fill=\"#000000\" fill-rule=\"evenodd\" fill-opacity=\"1\" /><path clip-path=\"url(#clip150)\" d=\"M1113.48 1119.61 Q1112.5 1119.04 1111.32 1118.78 Q1110.17 1118.5 1108.77 1118.5 Q1103.81 1118.5 1101.13 1121.74 Q1098.49 1124.96 1098.49 1131.01 L1098.49 1149.78 L1092.6 1149.78 L1092.6 1114.14 L1098.49 1114.14 L1098.49 1119.67 Q1100.34 1116.43 1103.3 1114.87 Q1106.26 1113.28 1110.49 1113.28 Q1111.09 1113.28 1111.83 1113.37 Q1112.56 1113.44 1113.45 1113.59 L1113.48 1119.61 Z\" fill=\"#000000\" fill-rule=\"evenodd\" fill-opacity=\"1\" /><polyline clip-path=\"url(#clip150)\" style=\"stroke:#000000; stroke-linecap:round; stroke-linejoin:round; stroke-width:4; stroke-opacity:1; fill:none\" points=\"\n",
       "  232.142,1016.92 232.142,47.2441 \n",
       "  \"/>\n",
       "<polyline clip-path=\"url(#clip150)\" style=\"stroke:#000000; stroke-linecap:round; stroke-linejoin:round; stroke-width:4; stroke-opacity:1; fill:none\" points=\"\n",
       "  232.142,1016.92 251.039,1016.92 \n",
       "  \"/>\n",
       "<polyline clip-path=\"url(#clip150)\" style=\"stroke:#000000; stroke-linecap:round; stroke-linejoin:round; stroke-width:4; stroke-opacity:1; fill:none\" points=\"\n",
       "  232.142,774.501 251.039,774.501 \n",
       "  \"/>\n",
       "<polyline clip-path=\"url(#clip150)\" style=\"stroke:#000000; stroke-linecap:round; stroke-linejoin:round; stroke-width:4; stroke-opacity:1; fill:none\" points=\"\n",
       "  232.142,532.082 251.039,532.082 \n",
       "  \"/>\n",
       "<polyline clip-path=\"url(#clip150)\" style=\"stroke:#000000; stroke-linecap:round; stroke-linejoin:round; stroke-width:4; stroke-opacity:1; fill:none\" points=\"\n",
       "  232.142,289.663 251.039,289.663 \n",
       "  \"/>\n",
       "<polyline clip-path=\"url(#clip150)\" style=\"stroke:#000000; stroke-linecap:round; stroke-linejoin:round; stroke-width:4; stroke-opacity:1; fill:none\" points=\"\n",
       "  232.142,47.2441 251.039,47.2441 \n",
       "  \"/>\n",
       "<path clip-path=\"url(#clip150)\" d=\"M150.966 1002.72 Q147.355 1002.72 145.526 1006.28 Q143.721 1009.82 143.721 1016.95 Q143.721 1024.06 145.526 1027.63 Q147.355 1031.17 150.966 1031.17 Q154.6 1031.17 156.406 1027.63 Q158.235 1024.06 158.235 1016.95 Q158.235 1009.82 156.406 1006.28 Q154.6 1002.72 150.966 1002.72 M150.966 999.015 Q156.776 999.015 159.832 1003.62 Q162.91 1008.2 162.91 1016.95 Q162.91 1025.68 159.832 1030.29 Q156.776 1034.87 150.966 1034.87 Q145.156 1034.87 142.077 1030.29 Q139.022 1025.68 139.022 1016.95 Q139.022 1008.2 142.077 1003.62 Q145.156 999.015 150.966 999.015 Z\" fill=\"#000000\" fill-rule=\"evenodd\" fill-opacity=\"1\" /><path clip-path=\"url(#clip150)\" d=\"M171.128 1028.32 L176.012 1028.32 L176.012 1034.2 L171.128 1034.2 L171.128 1028.32 Z\" fill=\"#000000\" fill-rule=\"evenodd\" fill-opacity=\"1\" /><path clip-path=\"url(#clip150)\" d=\"M196.197 1002.72 Q192.586 1002.72 190.758 1006.28 Q188.952 1009.82 188.952 1016.95 Q188.952 1024.06 190.758 1027.63 Q192.586 1031.17 196.197 1031.17 Q199.832 1031.17 201.637 1027.63 Q203.466 1024.06 203.466 1016.95 Q203.466 1009.82 201.637 1006.28 Q199.832 1002.72 196.197 1002.72 M196.197 999.015 Q202.007 999.015 205.063 1003.62 Q208.142 1008.2 208.142 1016.95 Q208.142 1025.68 205.063 1030.29 Q202.007 1034.87 196.197 1034.87 Q190.387 1034.87 187.308 1030.29 Q184.253 1025.68 184.253 1016.95 Q184.253 1008.2 187.308 1003.62 Q190.387 999.015 196.197 999.015 Z\" fill=\"#000000\" fill-rule=\"evenodd\" fill-opacity=\"1\" /><path clip-path=\"url(#clip150)\" d=\"M151.961 760.3 Q148.35 760.3 146.522 763.864 Q144.716 767.406 144.716 774.536 Q144.716 781.642 146.522 785.207 Q148.35 788.749 151.961 788.749 Q155.596 788.749 157.401 785.207 Q159.23 781.642 159.23 774.536 Q159.23 767.406 157.401 763.864 Q155.596 760.3 151.961 760.3 M151.961 756.596 Q157.772 756.596 160.827 761.202 Q163.906 765.786 163.906 774.536 Q163.906 783.262 160.827 787.869 Q157.772 792.452 151.961 792.452 Q146.151 792.452 143.073 787.869 Q140.017 783.262 140.017 774.536 Q140.017 765.786 143.073 761.202 Q146.151 756.596 151.961 756.596 Z\" fill=\"#000000\" fill-rule=\"evenodd\" fill-opacity=\"1\" /><path clip-path=\"url(#clip150)\" d=\"M172.123 785.901 L177.008 785.901 L177.008 791.781 L172.123 791.781 L172.123 785.901 Z\" fill=\"#000000\" fill-rule=\"evenodd\" fill-opacity=\"1\" /><path clip-path=\"url(#clip150)\" d=\"M187.239 757.221 L205.595 757.221 L205.595 761.156 L191.521 761.156 L191.521 769.628 Q192.54 769.281 193.558 769.119 Q194.577 768.934 195.595 768.934 Q201.382 768.934 204.762 772.105 Q208.142 775.276 208.142 780.693 Q208.142 786.272 204.669 789.374 Q201.197 792.452 194.878 792.452 Q192.702 792.452 190.433 792.082 Q188.188 791.711 185.781 790.971 L185.781 786.272 Q187.864 787.406 190.086 787.961 Q192.308 788.517 194.785 788.517 Q198.79 788.517 201.128 786.411 Q203.466 784.304 203.466 780.693 Q203.466 777.082 201.128 774.975 Q198.79 772.869 194.785 772.869 Q192.91 772.869 191.035 773.286 Q189.183 773.702 187.239 774.582 L187.239 757.221 Z\" fill=\"#000000\" fill-rule=\"evenodd\" fill-opacity=\"1\" /><path clip-path=\"url(#clip150)\" d=\"M141.776 545.427 L149.415 545.427 L149.415 519.061 L141.105 520.728 L141.105 516.469 L149.369 514.802 L154.045 514.802 L154.045 545.427 L161.684 545.427 L161.684 549.362 L141.776 549.362 L141.776 545.427 Z\" fill=\"#000000\" fill-rule=\"evenodd\" fill-opacity=\"1\" /><path clip-path=\"url(#clip150)\" d=\"M171.128 543.482 L176.012 543.482 L176.012 549.362 L171.128 549.362 L171.128 543.482 Z\" fill=\"#000000\" fill-rule=\"evenodd\" fill-opacity=\"1\" /><path clip-path=\"url(#clip150)\" d=\"M196.197 517.881 Q192.586 517.881 190.758 521.445 Q188.952 524.987 188.952 532.117 Q188.952 539.223 190.758 542.788 Q192.586 546.33 196.197 546.33 Q199.832 546.33 201.637 542.788 Q203.466 539.223 203.466 532.117 Q203.466 524.987 201.637 521.445 Q199.832 517.881 196.197 517.881 M196.197 514.177 Q202.007 514.177 205.063 518.783 Q208.142 523.367 208.142 532.117 Q208.142 540.843 205.063 545.45 Q202.007 550.033 196.197 550.033 Q190.387 550.033 187.308 545.45 Q184.253 540.843 184.253 532.117 Q184.253 523.367 187.308 518.783 Q190.387 514.177 196.197 514.177 Z\" fill=\"#000000\" fill-rule=\"evenodd\" fill-opacity=\"1\" /><path clip-path=\"url(#clip150)\" d=\"M142.772 303.008 L150.41 303.008 L150.41 276.642 L142.1 278.309 L142.1 274.05 L150.364 272.383 L155.04 272.383 L155.04 303.008 L162.679 303.008 L162.679 306.943 L142.772 306.943 L142.772 303.008 Z\" fill=\"#000000\" fill-rule=\"evenodd\" fill-opacity=\"1\" /><path clip-path=\"url(#clip150)\" d=\"M172.123 301.063 L177.008 301.063 L177.008 306.943 L172.123 306.943 L172.123 301.063 Z\" fill=\"#000000\" fill-rule=\"evenodd\" fill-opacity=\"1\" /><path clip-path=\"url(#clip150)\" d=\"M187.239 272.383 L205.595 272.383 L205.595 276.318 L191.521 276.318 L191.521 284.79 Q192.54 284.443 193.558 284.281 Q194.577 284.096 195.595 284.096 Q201.382 284.096 204.762 287.267 Q208.142 290.438 208.142 295.855 Q208.142 301.434 204.669 304.536 Q201.197 307.614 194.878 307.614 Q192.702 307.614 190.433 307.244 Q188.188 306.874 185.781 306.133 L185.781 301.434 Q187.864 302.568 190.086 303.124 Q192.308 303.679 194.785 303.679 Q198.79 303.679 201.128 301.573 Q203.466 299.466 203.466 295.855 Q203.466 292.244 201.128 290.138 Q198.79 288.031 194.785 288.031 Q192.91 288.031 191.035 288.448 Q189.183 288.864 187.239 289.744 L187.239 272.383 Z\" fill=\"#000000\" fill-rule=\"evenodd\" fill-opacity=\"1\" /><path clip-path=\"url(#clip150)\" d=\"M144.994 60.5889 L161.313 60.5889 L161.313 64.5241 L139.369 64.5241 L139.369 60.5889 Q142.031 57.8343 146.614 53.2047 Q151.221 48.552 152.401 47.2094 Q154.647 44.6862 155.526 42.9501 Q156.429 41.1909 156.429 39.5011 Q156.429 36.7465 154.485 35.0104 Q152.563 33.2743 149.461 33.2743 Q147.262 33.2743 144.809 34.0381 Q142.378 34.802 139.6 36.3529 L139.6 31.6308 Q142.424 30.4965 144.878 29.9178 Q147.332 29.3391 149.369 29.3391 Q154.739 29.3391 157.934 32.0243 Q161.128 34.7094 161.128 39.2002 Q161.128 41.3298 160.318 43.2511 Q159.531 45.1492 157.424 47.7418 Q156.846 48.4131 153.744 51.6306 Q150.642 54.8251 144.994 60.5889 Z\" fill=\"#000000\" fill-rule=\"evenodd\" fill-opacity=\"1\" /><path clip-path=\"url(#clip150)\" d=\"M171.128 58.6445 L176.012 58.6445 L176.012 64.5241 L171.128 64.5241 L171.128 58.6445 Z\" fill=\"#000000\" fill-rule=\"evenodd\" fill-opacity=\"1\" /><path clip-path=\"url(#clip150)\" d=\"M196.197 33.0428 Q192.586 33.0428 190.758 36.6076 Q188.952 40.1492 188.952 47.2788 Q188.952 54.3853 190.758 57.9501 Q192.586 61.4917 196.197 61.4917 Q199.832 61.4917 201.637 57.9501 Q203.466 54.3853 203.466 47.2788 Q203.466 40.1492 201.637 36.6076 Q199.832 33.0428 196.197 33.0428 M196.197 29.3391 Q202.007 29.3391 205.063 33.9456 Q208.142 38.5289 208.142 47.2788 Q208.142 56.0056 205.063 60.6121 Q202.007 65.1954 196.197 65.1954 Q190.387 65.1954 187.308 60.6121 Q184.253 56.0056 184.253 47.2788 Q184.253 38.5289 187.308 33.9456 Q190.387 29.3391 196.197 29.3391 Z\" fill=\"#000000\" fill-rule=\"evenodd\" fill-opacity=\"1\" /><path clip-path=\"url(#clip150)\" d=\"M60.9164 595.918 Q61.5284 595.918 62.0437 596.047 L73.5089 597.85 Q74.3785 597.947 74.7006 598.14 Q75.0226 598.301 75.0226 598.817 Q75.0226 599.622 74.1853 599.622 Q73.7022 599.622 72.9292 599.429 Q69.29 598.881 67.6475 598.881 Q66.5525 598.881 65.7473 599.106 Q64.91 599.3 64.3303 599.622 Q63.7506 599.912 63.3641 600.588 Q62.9776 601.264 62.7522 601.908 Q62.5267 602.553 62.4301 603.712 Q62.3013 604.871 62.2691 605.87 Q62.2369 606.868 62.2369 608.511 Q62.2369 612.085 62.3657 612.665 Q62.5267 613.277 63.0098 613.599 Q63.4607 613.889 64.8134 614.211 L99.8211 622.971 L101.206 623.229 Q101.979 623.229 102.237 622.746 Q102.494 622.262 102.655 620.781 Q102.816 618.655 102.816 616.562 Q102.816 616.498 102.816 616.369 Q102.816 615.66 102.848 615.37 Q102.848 615.081 102.913 614.791 Q102.977 614.501 103.138 614.436 Q103.267 614.34 103.525 614.34 Q104.137 614.34 104.459 614.597 Q104.749 614.855 104.813 615.113 Q104.845 615.338 104.845 615.789 Q104.845 616.691 104.781 618.623 Q104.716 620.556 104.716 621.522 L104.652 626.997 L104.716 632.601 Q104.716 633.47 104.781 635.306 Q104.845 637.142 104.845 638.011 Q104.845 639.138 104.04 639.138 Q103.138 639.138 102.977 638.72 Q102.816 638.269 102.816 636.369 Q102.816 633.696 102.687 632.246 Q102.559 630.797 102.108 630.024 Q101.657 629.219 101.206 628.994 Q100.723 628.768 99.6279 628.51 L64.4269 619.654 Q63.6539 619.396 63.042 619.396 Q62.72 619.396 62.5912 619.493 Q62.4623 619.557 62.3657 619.976 Q62.2369 620.395 62.2369 621.264 L62.2369 623.841 Q62.2369 626.481 62.3657 628.124 Q62.4623 629.734 62.9454 631.28 Q63.4285 632.794 64.1048 633.696 Q64.7812 634.565 66.166 635.531 Q67.5509 636.497 69.2256 637.206 Q70.9003 637.882 73.6378 638.849 Q74.5395 639.171 74.7972 639.364 Q75.0226 639.525 75.0226 639.976 Q75.0226 640.298 74.8294 640.555 Q74.6039 640.781 74.3141 640.781 Q73.2513 640.459 73.1225 640.394 L61.4962 636.433 Q60.5622 636.111 60.4012 635.821 Q60.2079 635.499 60.2079 634.307 L60.2079 597.722 Q60.2079 597.142 60.2079 596.949 Q60.2079 596.755 60.2723 596.433 Q60.3367 596.111 60.4978 596.015 Q60.6588 595.918 60.9164 595.918 Z\" fill=\"#000000\" fill-rule=\"evenodd\" fill-opacity=\"1\" /><path clip-path=\"url(#clip150)\" d=\"M108.353 589.314 Q101.567 589.314 97.8702 587.6 Q92.3695 585.211 92.3695 579.575 Q92.3695 578.38 92.7076 577.14 Q93.0232 575.877 94.2632 574.299 Q95.5031 572.699 97.5321 571.729 Q101.455 569.881 108.353 569.881 Q115.094 569.881 118.769 571.594 Q124.134 574.097 124.134 579.62 Q124.134 581.694 123.075 583.813 Q122.015 585.91 119.467 587.24 Q115.658 589.314 108.353 589.314 M107.79 585.481 Q114.756 585.481 117.529 584.985 Q120.527 584.422 121.835 582.889 Q123.12 581.333 123.12 579.62 Q123.12 577.771 121.744 576.238 Q120.347 574.683 117.348 574.209 Q114.395 573.691 107.79 573.713 Q101.365 573.713 98.7945 574.164 Q95.7962 574.773 94.6013 576.396 Q93.3839 577.997 93.3839 579.62 Q93.3839 580.229 93.5643 580.882 Q93.7447 581.514 94.2632 582.438 Q94.7817 583.362 96.0667 584.084 Q97.3517 584.782 99.2905 585.121 Q101.793 585.481 107.79 585.481 Z\" fill=\"#000000\" fill-rule=\"evenodd\" fill-opacity=\"1\" /><path clip-path=\"url(#clip150)\" d=\"M120.401 563.031 Q120.079 563.031 119.37 562.773 L57.1484 539.489 Q57.084 539.489 56.7297 539.328 Q56.3754 539.167 56.15 539.07 Q55.8923 538.973 55.6991 538.78 Q55.5059 538.555 55.5059 538.297 Q55.5059 537.653 56.311 537.653 Q56.3754 537.653 57.1484 537.846 L119.434 561.195 Q120.562 561.582 120.884 561.839 Q121.206 562.065 121.206 562.451 Q121.206 563.031 120.401 563.031 Z\" fill=\"#000000\" fill-rule=\"evenodd\" fill-opacity=\"1\" /><path clip-path=\"url(#clip150)\" d=\"M60.9164 485.507 Q61.5284 485.507 62.0437 485.636 L73.5089 487.439 Q74.3785 487.536 74.7006 487.729 Q75.0226 487.89 75.0226 488.405 Q75.0226 489.211 74.1853 489.211 Q73.7022 489.211 72.9292 489.017 Q69.29 488.47 67.6475 488.47 Q66.5525 488.47 65.7473 488.695 Q64.91 488.888 64.3303 489.211 Q63.7506 489.5 63.3641 490.177 Q62.9776 490.853 62.7522 491.497 Q62.5267 492.141 62.4301 493.301 Q62.3013 494.46 62.2691 495.458 Q62.2369 496.457 62.2369 498.099 Q62.2369 501.674 62.3657 502.254 Q62.5267 502.866 63.0098 503.188 Q63.4607 503.478 64.8134 503.8 L99.8211 512.56 L101.206 512.817 Q101.979 512.817 102.237 512.334 Q102.494 511.851 102.655 510.37 Q102.816 508.244 102.816 506.151 Q102.816 506.086 102.816 505.958 Q102.816 505.249 102.848 504.959 Q102.848 504.669 102.913 504.379 Q102.977 504.09 103.138 504.025 Q103.267 503.929 103.525 503.929 Q104.137 503.929 104.459 504.186 Q104.749 504.444 104.813 504.702 Q104.845 504.927 104.845 505.378 Q104.845 506.28 104.781 508.212 Q104.716 510.144 104.716 511.111 L104.652 516.586 L104.716 522.189 Q104.716 523.059 104.781 524.895 Q104.845 526.73 104.845 527.6 Q104.845 528.727 104.04 528.727 Q103.138 528.727 102.977 528.308 Q102.816 527.858 102.816 525.957 Q102.816 523.284 102.687 521.835 Q102.559 520.386 102.108 519.613 Q101.657 518.808 101.206 518.582 Q100.723 518.357 99.6279 518.099 L64.4269 509.243 Q63.6539 508.985 63.042 508.985 Q62.72 508.985 62.5912 509.082 Q62.4623 509.146 62.3657 509.565 Q62.2369 509.983 62.2369 510.853 L62.2369 513.429 Q62.2369 516.07 62.3657 517.713 Q62.4623 519.323 62.9454 520.869 Q63.4285 522.383 64.1048 523.284 Q64.7812 524.154 66.166 525.12 Q67.5509 526.086 69.2256 526.795 Q70.9003 527.471 73.6378 528.437 Q74.5395 528.759 74.7972 528.953 Q75.0226 529.114 75.0226 529.564 Q75.0226 529.887 74.8294 530.144 Q74.6039 530.37 74.3141 530.37 Q73.2513 530.048 73.1225 529.983 L61.4962 526.022 Q60.5622 525.7 60.4012 525.41 Q60.2079 525.088 60.2079 523.896 L60.2079 487.31 Q60.2079 486.731 60.2079 486.537 Q60.2079 486.344 60.2723 486.022 Q60.3367 485.7 60.4978 485.603 Q60.6588 485.507 60.9164 485.507 Z\" fill=\"#000000\" fill-rule=\"evenodd\" fill-opacity=\"1\" /><path clip-path=\"url(#clip150)\" d=\"M108.353 478.903 Q101.567 478.903 97.8702 477.189 Q92.3695 474.8 92.3695 469.163 Q92.3695 467.969 92.7076 466.729 Q93.0232 465.466 94.2632 463.888 Q95.5031 462.288 97.5321 461.318 Q101.455 459.47 108.353 459.47 Q115.094 459.47 118.769 461.183 Q124.134 463.685 124.134 469.209 Q124.134 471.283 123.075 473.402 Q122.015 475.498 119.467 476.828 Q115.658 478.903 108.353 478.903 M107.79 475.07 Q114.756 475.07 117.529 474.574 Q120.527 474.01 121.835 472.477 Q123.12 470.922 123.12 469.209 Q123.12 467.36 121.744 465.827 Q120.347 464.271 117.348 463.798 Q114.395 463.279 107.79 463.302 Q101.365 463.302 98.7945 463.753 Q95.7962 464.362 94.6013 465.985 Q93.3839 467.585 93.3839 469.209 Q93.3839 469.817 93.5643 470.471 Q93.7447 471.102 94.2632 472.027 Q94.7817 472.951 96.0667 473.672 Q97.3517 474.371 99.2905 474.709 Q101.793 475.07 107.79 475.07 Z\" fill=\"#000000\" fill-rule=\"evenodd\" fill-opacity=\"1\" /><path clip-path=\"url(#clip150)\" d=\"M47.0192 466.094 Q46.2302 466.094 45.7117 465.035 L42.6682 458.61 L39.6248 465.125 Q39.1739 466.094 38.3848 466.094 Q37.934 466.094 37.5282 465.734 Q37.0998 465.35 37.0998 464.854 Q37.0998 464.494 37.5958 463.84 L41.7439 458.114 Q34.124 458.813 33.8986 458.79 Q33.4477 458.79 33.1095 458.452 Q32.7488 458.114 32.7488 457.55 Q32.7488 457.099 33.087 456.739 Q33.4026 456.355 33.8986 456.355 L41.7439 457.032 L37.9565 451.914 Q37.0773 450.719 37.0998 450.291 Q37.0998 449.772 37.5056 449.412 Q37.9114 449.051 38.3848 449.051 Q39.1739 449.051 39.6699 450.111 L42.7133 456.536 L45.7793 450.02 Q46.2302 449.051 47.0192 449.051 Q47.4701 449.051 47.8985 449.434 Q48.3043 449.795 48.3043 450.291 Q48.3043 450.561 48.0337 451.035 Q47.9886 451.125 47.2672 452.094 Q46.5458 453.064 45.4412 454.574 Q44.3365 456.062 43.6376 457.032 Q51.2575 456.333 51.483 456.355 Q51.9339 456.355 52.2946 456.693 Q52.6553 457.032 52.6553 457.595 Q52.6553 458.046 52.3396 458.429 Q52.0015 458.79 51.483 458.79 L43.6376 458.114 L48.3043 464.561 Q48.3043 465.26 47.9661 465.643 Q47.6054 466.004 47.4025 466.049 Q47.1996 466.094 47.0192 466.094 Z\" fill=\"#000000\" fill-rule=\"evenodd\" fill-opacity=\"1\" /><polyline clip-path=\"url(#clip153)\" style=\"stroke:#009af9; stroke-linecap:round; stroke-linejoin:round; stroke-width:4; stroke-opacity:1; fill:none\" points=\"\n",
       "  232.307,1016.92 233.957,1016.64 235.608,1015.89 237.258,1014.69 238.909,1013.03 240.56,1010.91 242.21,1008.35 243.861,1005.34 245.511,1001.91 247.162,998.061 \n",
       "  248.812,993.802 250.463,989.149 252.113,984.114 253.764,978.713 255.415,972.96 257.065,966.873 258.716,960.469 260.366,953.764 262.017,946.777 263.667,939.528 \n",
       "  265.318,932.033 266.969,924.314 268.619,916.389 270.27,908.278 271.92,899.999 273.571,891.573 275.221,883.019 276.872,874.355 278.522,865.601 280.173,856.774 \n",
       "  281.824,847.892 283.474,838.973 285.125,830.034 286.775,821.091 288.426,812.16 290.076,803.255 291.727,794.392 293.378,785.584 295.028,776.844 296.679,768.185 \n",
       "  298.329,759.618 299.98,751.153 301.63,742.802 303.281,734.574 304.931,726.477 306.582,718.52 308.233,710.709 309.883,703.052 311.534,695.555 313.184,688.222 \n",
       "  314.835,681.059 316.485,674.07 318.136,667.257 319.787,660.625 321.437,654.176 323.088,647.911 324.738,641.832 326.389,635.94 328.039,630.236 329.69,624.719 \n",
       "  331.34,619.39 332.991,614.248 334.642,609.291 336.292,604.52 337.943,599.931 339.593,595.524 341.244,591.296 342.894,587.245 344.545,583.369 346.195,579.664 \n",
       "  347.846,576.129 349.497,572.761 351.147,569.555 352.798,566.509 354.448,563.62 356.099,560.885 357.749,558.299 359.4,555.86 361.051,553.563 362.701,551.406 \n",
       "  364.352,549.385 366.002,547.496 367.653,545.735 369.303,544.1 370.954,542.586 372.604,541.189 374.255,539.907 375.906,538.736 377.556,537.672 379.207,536.712 \n",
       "  380.857,535.853 382.508,535.091 384.158,534.423 385.809,533.845 387.46,533.355 389.11,532.949 390.761,532.625 392.411,532.379 394.062,532.208 395.712,532.11 \n",
       "  397.363,532.082 399.013,532.121 400.664,532.225 402.315,532.39 403.965,532.615 405.616,532.896 407.266,533.232 408.917,533.62 410.567,534.058 412.218,534.544 \n",
       "  413.869,535.076 415.519,535.651 417.17,536.267 418.82,536.924 420.471,537.618 422.121,538.348 423.772,539.112 425.422,539.908 427.073,540.736 428.724,541.593 \n",
       "  430.374,542.477 432.025,543.388 433.675,544.324 435.326,545.283 436.976,546.264 438.627,547.266 440.277,548.288 441.928,549.328 443.579,550.385 445.229,551.459 \n",
       "  446.88,552.547 448.53,553.65 450.181,554.766 451.831,555.894 453.482,557.033 455.133,558.182 456.783,559.341 458.434,560.509 460.084,561.684 461.735,562.867 \n",
       "  463.385,564.057 465.036,565.252 466.686,566.452 468.337,567.657 469.988,568.865 471.638,570.077 473.289,571.292 474.939,572.509 476.59,573.727 478.24,574.947 \n",
       "  479.891,576.168 481.542,577.389 483.192,578.61 484.843,579.83 486.493,581.05 488.144,582.268 489.794,583.485 491.445,584.7 493.095,585.912 494.746,587.122 \n",
       "  496.397,588.329 498.047,589.533 499.698,590.734 501.348,591.931 502.999,593.125 504.649,594.314 506.3,595.499 507.951,596.679 509.601,597.855 511.252,599.026 \n",
       "  512.902,600.192 514.553,601.353 516.203,602.508 517.854,603.658 519.504,604.803 521.155,605.941 522.806,607.074 524.456,608.201 526.107,609.322 527.757,610.437 \n",
       "  529.408,611.546 531.058,612.648 532.709,613.744 534.359,614.834 536.01,615.917 537.661,616.993 539.311,618.063 540.962,619.126 542.612,620.183 544.263,621.232 \n",
       "  545.913,622.275 547.564,623.312 549.215,624.341 550.865,625.363 552.516,626.379 554.166,627.388 555.817,628.39 557.467,629.385 559.118,630.373 560.768,631.354 \n",
       "  562.419,632.328 564.07,633.295 565.72,634.256 567.371,635.209 569.021,636.156 570.672,637.095 572.322,638.028 573.973,638.954 575.624,639.873 577.274,640.785 \n",
       "  578.925,641.691 580.575,642.59 582.226,643.482 583.876,644.367 585.527,645.246 587.177,646.117 588.828,646.983 590.479,647.841 592.129,648.693 593.78,649.539 \n",
       "  595.43,650.378 597.081,651.21 598.731,652.036 600.382,652.856 602.033,653.669 603.683,654.476 605.334,655.276 606.984,656.071 608.635,656.859 610.285,657.641 \n",
       "  611.936,658.416 613.586,659.186 615.237,659.95 616.888,660.707 618.538,661.459 620.189,662.204 621.839,662.944 623.49,663.677 625.14,664.405 626.791,665.128 \n",
       "  628.441,665.844 630.092,666.555 631.743,667.26 633.393,667.959 635.044,668.653 636.694,669.341 638.345,670.024 639.995,670.702 641.646,671.374 643.297,672.04 \n",
       "  644.947,672.702 646.598,673.358 648.248,674.008 649.899,674.654 651.549,675.294 653.2,675.93 654.85,676.56 656.501,677.185 658.152,677.806 659.802,678.421 \n",
       "  661.453,679.031 663.103,679.637 664.754,680.237 666.404,680.833 668.055,681.425 669.706,682.011 671.356,682.593 673.007,683.17 674.657,683.743 676.308,684.311 \n",
       "  677.958,684.875 679.609,685.434 681.259,685.988 682.91,686.539 684.561,687.085 686.211,687.626 687.862,688.164 689.512,688.697 691.163,689.226 692.813,689.751 \n",
       "  694.464,690.272 696.115,690.788 697.765,691.301 699.416,691.809 701.066,692.314 702.717,692.814 704.367,693.311 706.018,693.804 707.668,694.293 709.319,694.778 \n",
       "  710.97,695.26 712.62,695.737 714.271,696.211 715.921,696.682 717.572,697.148 719.222,697.611 720.873,698.071 722.523,698.527 724.174,698.979 725.825,699.428 \n",
       "  727.475,699.874 729.126,700.316 730.776,700.755 732.427,701.19 734.077,701.622 735.728,702.051 737.379,702.476 739.029,702.898 740.68,703.317 742.33,703.733 \n",
       "  743.981,704.146 745.631,704.556 747.282,704.962 748.932,705.366 750.583,705.766 752.234,706.163 753.884,706.558 755.535,706.949 757.185,707.338 758.836,707.724 \n",
       "  760.486,708.106 762.137,708.486 763.788,708.863 765.438,709.238 767.089,709.609 768.739,709.978 770.39,710.344 772.04,710.707 773.691,711.068 775.341,711.426 \n",
       "  776.992,711.781 778.643,712.134 780.293,712.484 781.944,712.832 783.594,713.177 785.245,713.52 786.895,713.86 788.546,714.197 790.197,714.533 791.847,714.865 \n",
       "  793.498,715.196 795.148,715.524 796.799,715.849 798.449,716.172 800.1,716.493 801.75,716.812 803.401,717.128 805.052,717.443 806.702,717.754 808.353,718.064 \n",
       "  810.003,718.372 811.654,718.677 813.304,718.98 814.955,719.281 816.605,719.58 818.256,719.876 819.907,720.171 821.557,720.464 823.208,720.754 824.858,721.043 \n",
       "  826.509,721.329 828.159,721.614 829.81,721.896 831.461,722.177 833.111,722.455 834.762,722.732 836.412,723.007 838.063,723.28 839.713,723.551 841.364,723.82 \n",
       "  843.014,724.087 844.665,724.352 846.316,724.616 847.966,724.878 849.617,725.138 851.267,725.396 852.918,725.653 854.568,725.907 856.219,726.161 857.87,726.412 \n",
       "  859.52,726.662 861.171,726.909 862.821,727.156 864.472,727.4 866.122,727.643 867.773,727.885 869.423,728.125 871.074,728.363 872.725,728.599 874.375,728.834 \n",
       "  876.026,729.068 877.676,729.3 879.327,729.53 880.977,729.759 882.628,729.986 884.279,730.212 885.929,730.437 887.58,730.659 889.23,730.881 890.881,731.101 \n",
       "  892.531,731.319 894.182,731.537 895.832,731.752 897.483,731.967 899.134,732.18 900.784,732.391 902.435,732.601 904.085,732.81 905.736,733.018 907.386,733.224 \n",
       "  909.037,733.429 910.688,733.632 912.338,733.835 913.989,734.036 915.639,734.235 917.29,734.434 918.94,734.631 920.591,734.827 922.241,735.022 923.892,735.215 \n",
       "  925.543,735.407 927.193,735.598 928.844,735.788 930.494,735.977 932.145,736.164 933.795,736.351 935.446,736.536 937.096,736.72 938.747,736.903 940.398,737.084 \n",
       "  942.048,737.265 943.699,737.444 945.349,737.623 947,737.8 948.65,737.976 950.301,738.151 951.952,738.325 953.602,738.498 955.253,738.67 956.903,738.841 \n",
       "  958.554,739.011 960.204,739.18 961.855,739.348 963.505,739.514 965.156,739.68 966.807,739.845 968.457,740.009 970.108,740.172 971.758,740.333 973.409,740.494 \n",
       "  975.059,740.654 976.71,740.813 978.361,740.971 980.011,741.128 981.662,741.284 983.312,741.439 984.963,741.594 986.613,741.747 988.264,741.9 989.914,742.051 \n",
       "  991.565,742.202 993.216,742.352 994.866,742.5 996.517,742.649 998.167,742.796 999.818,742.942 1001.47,743.088 1003.12,743.232 1004.77,743.376 1006.42,743.519 \n",
       "  1008.07,743.661 1009.72,743.802 1011.37,743.943 1013.02,744.083 1014.67,744.221 1016.32,744.36 1017.97,744.497 1019.62,744.633 1021.28,744.769 1022.93,744.904 \n",
       "  1024.58,745.038 1026.23,745.172 1027.88,745.304 1029.53,745.436 1031.18,745.568 1032.83,745.698 1034.48,745.828 1036.13,745.957 1037.78,746.085 1039.43,746.213 \n",
       "  1041.08,746.34 1042.73,746.466 1044.38,746.591 1046.03,746.716 1047.68,746.84 1049.33,746.963 1050.99,747.086 1052.64,747.208 1054.29,747.329 1055.94,747.45 \n",
       "  1057.59,747.57 1059.24,747.689 1060.89,747.808 1062.54,747.926 1064.19,748.043 1065.84,748.16 1067.49,748.276 1069.14,748.392 1070.79,748.507 1072.44,748.621 \n",
       "  1074.09,748.735 1075.74,748.848 1077.39,748.96 1079.04,749.072 1080.7,749.183 1082.35,749.294 1084,749.404 1085.65,749.513 1087.3,749.622 1088.95,749.73 \n",
       "  1090.6,749.838 1092.25,749.945 1093.9,750.051 1095.55,750.157 1097.2,750.263 1098.85,750.368 1100.5,750.472 1102.15,750.576 1103.8,750.679 1105.45,750.782 \n",
       "  1107.1,750.884 1108.75,750.985 1110.41,751.087 1112.06,751.187 1113.71,751.287 1115.36,751.387 1117.01,751.486 1118.66,751.584 1120.31,751.682 1121.96,751.78 \n",
       "  1123.61,751.877 1125.26,751.973 1126.91,752.069 1128.56,752.164 1130.21,752.259 1131.86,752.354 1133.51,752.448 1135.16,752.541 1136.81,752.635 1138.46,752.727 \n",
       "  1140.12,752.819 1141.77,752.911 1143.42,753.002 1145.07,753.093 1146.72,753.183 1148.37,753.273 1150.02,753.362 1151.67,753.451 1153.32,753.54 1154.97,753.628 \n",
       "  1156.62,753.715 1158.27,753.802 1159.92,753.889 1161.57,753.976 1163.22,754.061 1164.87,754.147 1166.52,754.232 1168.18,754.316 1169.83,754.401 1171.48,754.484 \n",
       "  1173.13,754.568 1174.78,754.651 1176.43,754.733 1178.08,754.815 1179.73,754.897 1181.38,754.978 1183.03,755.059 1184.68,755.14 1186.33,755.22 1187.98,755.3 \n",
       "  1189.63,755.379 1191.28,755.458 1192.93,755.537 1194.58,755.615 1196.23,755.693 1197.89,755.77 1199.54,755.847 1201.19,755.924 1202.84,756 1204.49,756.076 \n",
       "  1206.14,756.152 1207.79,756.227 1209.44,756.302 1211.09,756.377 1212.74,756.451 1214.39,756.525 1216.04,756.598 1217.69,756.672 1219.34,756.744 1220.99,756.817 \n",
       "  1222.64,756.889 1224.29,756.961 1225.94,757.032 1227.6,757.103 1229.25,757.174 1230.9,757.245 1232.55,757.315 1234.2,757.385 1235.85,757.454 1237.5,757.523 \n",
       "  1239.15,757.592 1240.8,757.661 1242.45,757.729 1244.1,757.797 1245.75,757.864 1247.4,757.931 1249.05,757.998 1250.7,758.065 1252.35,758.131 1254,758.197 \n",
       "  1255.65,758.263 1257.31,758.329 1258.96,758.394 1260.61,758.458 1262.26,758.523 1263.91,758.587 1265.56,758.651 1267.21,758.715 1268.86,758.778 1270.51,758.841 \n",
       "  1272.16,758.904 1273.81,758.967 1275.46,759.029 1277.11,759.091 1278.76,759.153 1280.41,759.214 1282.06,759.275 1283.71,759.336 1285.36,759.397 1287.02,759.457 \n",
       "  1288.67,759.517 1290.32,759.577 1291.97,759.636 1293.62,759.696 1295.27,759.755 1296.92,759.813 1298.57,759.872 1300.22,759.93 1301.87,759.988 1303.52,760.046 \n",
       "  1305.17,760.103 1306.82,760.16 1308.47,760.217 1310.12,760.274 1311.77,760.331 1313.42,760.387 1315.08,760.443 1316.73,760.498 1318.38,760.554 1320.03,760.609 \n",
       "  1321.68,760.664 1323.33,760.719 1324.98,760.773 1326.63,760.828 1328.28,760.882 1329.93,760.936 1331.58,760.989 1333.23,761.043 1334.88,761.096 1336.53,761.149 \n",
       "  1338.18,761.201 1339.83,761.254 1341.48,761.306 1343.13,761.358 1344.79,761.41 1346.44,761.462 1348.09,761.513 1349.74,761.564 1351.39,761.615 1353.04,761.666 \n",
       "  1354.69,761.716 1356.34,761.766 1357.99,761.817 1359.64,761.866 1361.29,761.916 1362.94,761.966 1364.59,762.015 1366.24,762.064 1367.89,762.113 1369.54,762.161 \n",
       "  1371.19,762.21 1372.84,762.258 1374.5,762.306 1376.15,762.354 1377.8,762.401 1379.45,762.449 1381.1,762.496 1382.75,762.543 1384.4,762.59 1386.05,762.637 \n",
       "  1387.7,762.683 1389.35,762.729 1391,762.776 1392.65,762.821 1394.3,762.867 1395.95,762.913 1397.6,762.958 1399.25,763.003 1400.9,763.048 1402.55,763.093 \n",
       "  1404.21,763.138 1405.86,763.182 1407.51,763.226 1409.16,763.27 1410.81,763.314 1412.46,763.358 1414.11,763.402 1415.76,763.445 1417.41,763.488 1419.06,763.531 \n",
       "  1420.71,763.574 1422.36,763.617 1424.01,763.659 1425.66,763.702 1427.31,763.744 1428.96,763.786 1430.61,763.828 1432.26,763.869 1433.92,763.911 1435.57,763.952 \n",
       "  1437.22,763.993 1438.87,764.034 1440.52,764.075 1442.17,764.116 1443.82,764.156 1445.47,764.197 1447.12,764.237 1448.77,764.277 1450.42,764.317 1452.07,764.357 \n",
       "  1453.72,764.396 1455.37,764.436 1457.02,764.475 1458.67,764.514 1460.32,764.553 1461.98,764.592 1463.63,764.631 1465.28,764.669 1466.93,764.708 1468.58,764.746 \n",
       "  1470.23,764.784 1471.88,764.822 1473.53,764.86 1475.18,764.897 1476.83,764.935 1478.48,764.972 1480.13,765.01 1481.78,765.047 1483.43,765.084 1485.08,765.12 \n",
       "  1486.73,765.157 1488.38,765.194 1490.03,765.23 1491.69,765.266 1493.34,765.302 1494.99,765.338 1496.64,765.374 1498.29,765.41 1499.94,765.445 1501.59,765.481 \n",
       "  1503.24,765.516 1504.89,765.551 1506.54,765.586 1508.19,765.621 1509.84,765.656 1511.49,765.691 1513.14,765.725 1514.79,765.759 1516.44,765.794 1518.09,765.828 \n",
       "  1519.74,765.862 1521.4,765.896 1523.05,765.93 1524.7,765.963 1526.35,765.997 1528,766.03 1529.65,766.063 1531.3,766.096 1532.95,766.129 1534.6,766.162 \n",
       "  1536.25,766.195 1537.9,766.228 1539.55,766.26 1541.2,766.293 1542.85,766.325 1544.5,766.357 1546.15,766.389 1547.8,766.421 1549.45,766.453 1551.11,766.485 \n",
       "  1552.76,766.516 \n",
       "  \"/>\n",
       "<polyline clip-path=\"url(#clip153)\" style=\"stroke:#e26f46; stroke-linecap:round; stroke-linejoin:round; stroke-width:4; stroke-opacity:1; fill:none\" stroke-dasharray=\"16, 10\" points=\"\n",
       "  232.307,653.291 233.957,653.291 235.608,653.291 237.258,653.291 238.909,653.291 240.56,653.291 242.21,653.291 243.861,653.291 245.511,653.291 247.162,653.291 \n",
       "  248.812,653.291 250.463,653.291 252.113,653.291 253.764,653.291 255.415,653.291 257.065,653.291 258.716,653.291 260.366,653.291 262.017,653.291 263.667,653.291 \n",
       "  265.318,653.291 266.969,653.291 268.619,653.291 270.27,653.291 271.92,653.291 273.571,653.291 275.221,653.291 276.872,653.291 278.522,653.291 280.173,653.291 \n",
       "  281.824,653.291 283.474,653.291 285.125,653.291 286.775,653.291 288.426,653.291 290.076,653.291 291.727,653.291 293.378,653.291 295.028,653.291 296.679,653.291 \n",
       "  298.329,653.291 299.98,653.291 301.63,653.291 303.281,653.291 304.931,653.291 306.582,653.291 308.233,653.291 309.883,653.291 311.534,653.291 313.184,653.291 \n",
       "  314.835,653.291 316.485,653.291 318.136,653.291 319.787,653.291 321.437,653.291 323.088,653.291 324.738,653.291 326.389,653.291 328.039,653.291 329.69,653.291 \n",
       "  331.34,653.291 332.991,653.291 334.642,653.291 336.292,653.291 337.943,653.291 339.593,653.291 341.244,653.291 342.894,653.291 344.545,653.291 346.195,653.291 \n",
       "  347.846,653.291 349.497,653.291 351.147,653.291 352.798,653.291 354.448,653.291 356.099,653.291 357.749,653.291 359.4,653.291 361.051,653.291 362.701,653.291 \n",
       "  364.352,653.291 366.002,653.291 367.653,653.291 369.303,653.291 370.954,653.291 372.604,653.291 374.255,653.291 375.906,653.291 377.556,653.291 379.207,653.291 \n",
       "  380.857,653.291 382.508,653.291 384.158,653.291 385.809,653.291 387.46,653.291 389.11,653.291 390.761,653.291 392.411,653.291 394.062,653.291 395.712,653.291 \n",
       "  397.363,653.291 399.013,653.291 400.664,653.291 402.315,653.291 403.965,653.291 405.616,653.291 407.266,653.291 408.917,653.291 410.567,653.291 412.218,653.291 \n",
       "  413.869,653.291 415.519,653.291 417.17,653.291 418.82,653.291 420.471,653.291 422.121,653.291 423.772,653.291 425.422,653.291 427.073,653.291 428.724,653.291 \n",
       "  430.374,653.291 432.025,653.291 433.675,653.291 435.326,653.291 436.976,653.291 438.627,653.291 440.277,653.291 441.928,653.291 443.579,653.291 445.229,653.291 \n",
       "  446.88,653.291 448.53,653.291 450.181,653.291 451.831,653.291 453.482,653.291 455.133,653.291 456.783,653.291 458.434,653.291 460.084,653.291 461.735,653.291 \n",
       "  463.385,653.291 465.036,653.291 466.686,653.291 468.337,653.291 469.988,653.291 471.638,653.291 473.289,653.291 474.939,653.291 476.59,653.291 478.24,653.291 \n",
       "  479.891,653.291 481.542,653.291 483.192,653.291 484.843,653.291 486.493,653.291 488.144,653.291 489.794,653.291 491.445,653.291 493.095,653.291 494.746,653.291 \n",
       "  496.397,653.291 498.047,653.291 499.698,653.291 501.348,653.291 502.999,653.291 504.649,653.291 506.3,653.291 507.951,653.291 509.601,653.291 511.252,653.291 \n",
       "  512.902,653.291 514.553,653.291 516.203,653.291 517.854,653.291 519.504,653.291 521.155,653.291 522.806,653.291 524.456,653.291 526.107,653.291 527.757,653.291 \n",
       "  529.408,653.291 531.058,653.291 532.709,653.291 534.359,653.291 536.01,653.291 537.661,653.291 539.311,653.291 540.962,653.291 542.612,653.291 544.263,653.291 \n",
       "  545.913,653.291 547.564,653.291 549.215,653.291 550.865,653.291 552.516,653.291 554.166,653.291 555.817,653.291 557.467,653.291 559.118,653.291 560.768,653.291 \n",
       "  562.419,653.291 564.07,653.291 565.72,653.291 567.371,653.291 569.021,653.291 570.672,653.291 572.322,653.291 573.973,653.291 575.624,653.291 577.274,653.291 \n",
       "  578.925,653.291 580.575,653.291 582.226,653.291 583.876,653.291 585.527,653.291 587.177,653.291 588.828,653.291 590.479,653.291 592.129,653.291 593.78,653.291 \n",
       "  595.43,653.291 597.081,653.291 598.731,653.291 600.382,653.291 602.033,653.291 603.683,653.291 605.334,653.291 606.984,653.291 608.635,653.291 610.285,653.291 \n",
       "  611.936,653.291 613.586,653.291 615.237,653.291 616.888,653.291 618.538,653.291 620.189,653.291 621.839,653.291 623.49,653.291 625.14,653.291 626.791,653.291 \n",
       "  628.441,653.291 630.092,653.291 631.743,653.291 633.393,653.291 635.044,653.291 636.694,653.291 638.345,653.291 639.995,653.291 641.646,653.291 643.297,653.291 \n",
       "  644.947,653.291 646.598,653.291 648.248,653.291 649.899,653.291 651.549,653.291 653.2,653.291 654.85,653.291 656.501,653.291 658.152,653.291 659.802,653.291 \n",
       "  661.453,653.291 663.103,653.291 664.754,653.291 666.404,653.291 668.055,653.291 669.706,653.291 671.356,653.291 673.007,653.291 674.657,653.291 676.308,653.291 \n",
       "  677.958,653.291 679.609,653.291 681.259,653.291 682.91,653.291 684.561,653.291 686.211,653.291 687.862,653.291 689.512,653.291 691.163,653.291 692.813,653.291 \n",
       "  694.464,653.291 696.115,653.291 697.765,653.291 699.416,653.291 701.066,653.291 702.717,653.291 704.367,653.291 706.018,653.291 707.668,653.291 709.319,653.291 \n",
       "  710.97,653.291 712.62,653.291 714.271,653.291 715.921,653.291 717.572,653.291 719.222,653.291 720.873,653.291 722.523,653.291 724.174,653.291 725.825,653.291 \n",
       "  727.475,653.291 729.126,653.291 730.776,653.291 732.427,653.291 734.077,653.291 735.728,653.291 737.379,653.291 739.029,653.291 740.68,653.291 742.33,653.291 \n",
       "  743.981,653.291 745.631,653.291 747.282,653.291 748.932,653.291 750.583,653.291 752.234,653.291 753.884,653.291 755.535,653.291 757.185,653.291 758.836,653.291 \n",
       "  760.486,653.291 762.137,653.291 763.788,653.291 765.438,653.291 767.089,653.291 768.739,653.291 770.39,653.291 772.04,653.291 773.691,653.291 775.341,653.291 \n",
       "  776.992,653.291 778.643,653.291 780.293,653.291 781.944,653.291 783.594,653.291 785.245,653.291 786.895,653.291 788.546,653.291 790.197,653.291 791.847,653.291 \n",
       "  793.498,653.291 795.148,653.291 796.799,653.291 798.449,653.291 800.1,653.291 801.75,653.291 803.401,653.291 805.052,653.291 806.702,653.291 808.353,653.291 \n",
       "  810.003,653.291 811.654,653.291 813.304,653.291 814.955,653.291 816.605,653.291 818.256,653.291 819.907,653.291 821.557,653.291 823.208,653.291 824.858,653.291 \n",
       "  826.509,653.291 828.159,653.291 829.81,653.291 831.461,653.291 833.111,653.291 834.762,653.291 836.412,653.291 838.063,653.291 839.713,653.291 841.364,653.291 \n",
       "  843.014,653.291 844.665,653.291 846.316,653.291 847.966,653.291 849.617,653.291 851.267,653.291 852.918,653.291 854.568,653.291 856.219,653.291 857.87,653.291 \n",
       "  859.52,653.291 861.171,653.291 862.821,653.291 864.472,653.291 866.122,653.291 867.773,653.291 869.423,653.291 871.074,653.291 872.725,653.291 874.375,653.291 \n",
       "  876.026,653.291 877.676,653.291 879.327,653.291 880.977,653.291 882.628,653.291 884.279,653.291 885.929,653.291 887.58,653.291 889.23,653.291 890.881,653.291 \n",
       "  892.531,653.291 894.182,653.291 895.832,653.291 897.483,653.291 899.134,653.291 900.784,653.291 902.435,653.291 904.085,653.291 905.736,653.291 907.386,653.291 \n",
       "  909.037,653.291 910.688,653.291 912.338,653.291 913.989,653.291 915.639,653.291 917.29,653.291 918.94,653.291 920.591,653.291 922.241,653.291 923.892,653.291 \n",
       "  925.543,653.291 927.193,653.291 928.844,653.291 930.494,653.291 932.145,653.291 933.795,653.291 935.446,653.291 937.096,653.291 938.747,653.291 940.398,653.291 \n",
       "  942.048,653.291 943.699,653.291 945.349,653.291 947,653.291 948.65,653.291 950.301,653.291 951.952,653.291 953.602,653.291 955.253,653.291 956.903,653.291 \n",
       "  958.554,653.291 960.204,653.291 961.855,653.291 963.505,653.291 965.156,653.291 966.807,653.291 968.457,653.291 970.108,653.291 971.758,653.291 973.409,653.291 \n",
       "  975.059,653.291 976.71,653.291 978.361,653.291 980.011,653.291 981.662,653.291 983.312,653.291 984.963,653.291 986.613,653.291 988.264,653.291 989.914,653.291 \n",
       "  991.565,653.291 993.216,653.291 994.866,653.291 996.517,653.291 998.167,653.291 999.818,653.291 1001.47,653.291 1003.12,653.291 1004.77,653.291 1006.42,653.291 \n",
       "  1008.07,653.291 1009.72,653.291 1011.37,653.291 1013.02,653.291 1014.67,653.291 1016.32,653.291 1017.97,653.291 1019.62,653.291 1021.28,653.291 1022.93,653.291 \n",
       "  1024.58,653.291 1026.23,653.291 1027.88,653.291 1029.53,653.291 1031.18,653.291 1032.83,653.291 1034.48,653.291 1036.13,653.291 1037.78,653.291 1039.43,653.291 \n",
       "  1041.08,653.291 1042.73,653.291 1044.38,653.291 1046.03,653.291 1047.68,653.291 1049.33,653.291 1050.99,653.291 1052.64,653.291 1054.29,653.291 1055.94,653.291 \n",
       "  1057.59,653.291 1059.24,653.291 1060.89,653.291 1062.54,653.291 1064.19,653.291 1065.84,653.291 1067.49,653.291 1069.14,653.291 1070.79,653.291 1072.44,653.291 \n",
       "  1074.09,653.291 1075.74,653.291 1077.39,653.291 1079.04,653.291 1080.7,653.291 1082.35,653.291 1084,653.291 1085.65,653.291 1087.3,653.291 1088.95,653.291 \n",
       "  1090.6,653.291 1092.25,653.291 1093.9,653.291 1095.55,653.291 1097.2,653.291 1098.85,653.291 1100.5,653.291 1102.15,653.291 1103.8,653.291 1105.45,653.291 \n",
       "  1107.1,653.291 1108.75,653.291 1110.41,653.291 1112.06,653.291 1113.71,653.291 1115.36,653.291 1117.01,653.291 1118.66,653.291 1120.31,653.291 1121.96,653.291 \n",
       "  1123.61,653.291 1125.26,653.291 1126.91,653.291 1128.56,653.291 1130.21,653.291 1131.86,653.291 1133.51,653.291 1135.16,653.291 1136.81,653.291 1138.46,653.291 \n",
       "  1140.12,653.291 1141.77,653.291 1143.42,653.291 1145.07,653.291 1146.72,653.291 1148.37,653.291 1150.02,653.291 1151.67,653.291 1153.32,653.291 1154.97,653.291 \n",
       "  1156.62,653.291 1158.27,653.291 1159.92,653.291 1161.57,653.291 1163.22,653.291 1164.87,653.291 1166.52,653.291 1168.18,653.291 1169.83,653.291 1171.48,653.291 \n",
       "  1173.13,653.291 1174.78,653.291 1176.43,653.291 1178.08,653.291 1179.73,653.291 1181.38,653.291 1183.03,653.291 1184.68,653.291 1186.33,653.291 1187.98,653.291 \n",
       "  1189.63,653.291 1191.28,653.291 1192.93,653.291 1194.58,653.291 1196.23,653.291 1197.89,653.291 1199.54,653.291 1201.19,653.291 1202.84,653.291 1204.49,653.291 \n",
       "  1206.14,653.291 1207.79,653.291 1209.44,653.291 1211.09,653.291 1212.74,653.291 1214.39,653.291 1216.04,653.291 1217.69,653.291 1219.34,653.291 1220.99,653.291 \n",
       "  1222.64,653.291 1224.29,653.291 1225.94,653.291 1227.6,653.291 1229.25,653.291 1230.9,653.291 1232.55,653.291 1234.2,653.291 1235.85,653.291 1237.5,653.291 \n",
       "  1239.15,653.291 1240.8,653.291 1242.45,653.291 1244.1,653.291 1245.75,653.291 1247.4,653.291 1249.05,653.291 1250.7,653.291 1252.35,653.291 1254,653.291 \n",
       "  1255.65,653.291 1257.31,653.291 1258.96,653.291 1260.61,653.291 1262.26,653.291 1263.91,653.291 1265.56,653.291 1267.21,653.291 1268.86,653.291 1270.51,653.291 \n",
       "  1272.16,653.291 1273.81,653.291 1275.46,653.291 1277.11,653.291 1278.76,653.291 1280.41,653.291 1282.06,653.291 1283.71,653.291 1285.36,653.291 1287.02,653.291 \n",
       "  1288.67,653.291 1290.32,653.291 1291.97,653.291 1293.62,653.291 1295.27,653.291 1296.92,653.291 1298.57,653.291 1300.22,653.291 1301.87,653.291 1303.52,653.291 \n",
       "  1305.17,653.291 1306.82,653.291 1308.47,653.291 1310.12,653.291 1311.77,653.291 1313.42,653.291 1315.08,653.291 1316.73,653.291 1318.38,653.291 1320.03,653.291 \n",
       "  1321.68,653.291 1323.33,653.291 1324.98,653.291 1326.63,653.291 1328.28,653.291 1329.93,653.291 1331.58,653.291 1333.23,653.291 1334.88,653.291 1336.53,653.291 \n",
       "  1338.18,653.291 1339.83,653.291 1341.48,653.291 1343.13,653.291 1344.79,653.291 1346.44,653.291 1348.09,653.291 1349.74,653.291 1351.39,653.291 1353.04,653.291 \n",
       "  1354.69,653.291 1356.34,653.291 1357.99,653.291 1359.64,653.291 1361.29,653.291 1362.94,653.291 1364.59,653.291 1366.24,653.291 1367.89,653.291 1369.54,653.291 \n",
       "  1371.19,653.291 1372.84,653.291 1374.5,653.291 1376.15,653.291 1377.8,653.291 1379.45,653.291 1381.1,653.291 1382.75,653.291 1384.4,653.291 1386.05,653.291 \n",
       "  1387.7,653.291 1389.35,653.291 1391,653.291 1392.65,653.291 1394.3,653.291 1395.95,653.291 1397.6,653.291 1399.25,653.291 1400.9,653.291 1402.55,653.291 \n",
       "  1404.21,653.291 1405.86,653.291 1407.51,653.291 1409.16,653.291 1410.81,653.291 1412.46,653.291 1414.11,653.291 1415.76,653.291 1417.41,653.291 1419.06,653.291 \n",
       "  1420.71,653.291 1422.36,653.291 1424.01,653.291 1425.66,653.291 1427.31,653.291 1428.96,653.291 1430.61,653.291 1432.26,653.291 1433.92,653.291 1435.57,653.291 \n",
       "  1437.22,653.291 1438.87,653.291 1440.52,653.291 1442.17,653.291 1443.82,653.291 1445.47,653.291 1447.12,653.291 1448.77,653.291 1450.42,653.291 1452.07,653.291 \n",
       "  1453.72,653.291 1455.37,653.291 1457.02,653.291 1458.67,653.291 1460.32,653.291 1461.98,653.291 1463.63,653.291 1465.28,653.291 1466.93,653.291 1468.58,653.291 \n",
       "  1470.23,653.291 1471.88,653.291 1473.53,653.291 1475.18,653.291 1476.83,653.291 1478.48,653.291 1480.13,653.291 1481.78,653.291 1483.43,653.291 1485.08,653.291 \n",
       "  1486.73,653.291 1488.38,653.291 1490.03,653.291 1491.69,653.291 1493.34,653.291 1494.99,653.291 1496.64,653.291 1498.29,653.291 1499.94,653.291 1501.59,653.291 \n",
       "  1503.24,653.291 1504.89,653.291 1506.54,653.291 1508.19,653.291 1509.84,653.291 1511.49,653.291 1513.14,653.291 1514.79,653.291 1516.44,653.291 1518.09,653.291 \n",
       "  1519.74,653.291 1521.4,653.291 1523.05,653.291 1524.7,653.291 1526.35,653.291 1528,653.291 1529.65,653.291 1531.3,653.291 1532.95,653.291 1534.6,653.291 \n",
       "  1536.25,653.291 1537.9,653.291 1539.55,653.291 1541.2,653.291 1542.85,653.291 1544.5,653.291 1546.15,653.291 1547.8,653.291 1549.45,653.291 1551.11,653.291 \n",
       "  1552.76,653.291 \n",
       "  \"/>\n",
       "</svg>\n"
      ]
     },
     "metadata": {},
     "execution_count": 11
    }
   ],
   "cell_type": "code",
   "source": [
    "plot(Mrange,T0_over_T0star,xlim=(0,8),ylim=(0,2),xticks=0:1:8,xlabel=\"Mach number\",ylabel=L\"T_0/T_0^*\",legend=false)\n",
    "plot!(Mrange,0.75*ones(length(Mrange)),style=:dash)"
   ],
   "metadata": {},
   "execution_count": 11
  },
  {
   "cell_type": "markdown",
   "source": [
    "For example, if $T_0/T_0^* = 0.75$, there are two possible Mach numbers, one subsonic\n",
    "and one supersonic. The correct one depends on the circumstances."
   ],
   "metadata": {}
  },
  {
   "outputs": [
    {
     "name": "stdout",
     "output_type": "stream",
     "text": [
      "┌ Warning: The special case of bisection over BigFloat with zero tolerance using `A42` is deprecated. Now bisection is used with non-zero tolerances.\n",
      "│   caller = ip:0x0\n",
      "└ @ Core :-1\n",
      "┌ Warning: BisectionExact is deprecated; use Bisection\n",
      "│   caller = #find_zero#27 at bisection.jl:191 [inlined]\n",
      "└ @ Core ~/.julia/packages/Roots/6PvI4/src/Bracketing/bisection.jl:191\n",
      "┌ Warning: BisectionExact is deprecated; use Bisection\n",
      "│   caller = #find_zero#27 at bisection.jl:191 [inlined]\n",
      "└ @ Core ~/.julia/packages/Roots/6PvI4/src/Bracketing/bisection.jl:191\n"
     ]
    },
    {
     "output_type": "execute_result",
     "data": {
      "text/plain": "(ThermofluidQuantities.MachNumber{Float64}(0.5423261445466405, \"MachNumber\"), ThermofluidQuantities.MachNumber{Float64}(2.2360679774997907, \"MachNumber\"))"
     },
     "metadata": {},
     "execution_count": 12
    }
   ],
   "cell_type": "code",
   "source": [
    "Msub, Msup = MachNumber(TemperatureRatio(0.75),RayleighFlow,gas=Air)"
   ],
   "metadata": {},
   "execution_count": 12
  },
  {
   "outputs": [
    {
     "output_type": "execute_result",
     "data": {
      "text/plain": "MachNumber = 0.5423261445466405"
     },
     "metadata": {},
     "execution_count": 13
    }
   ],
   "cell_type": "code",
   "source": [
    "Msub"
   ],
   "metadata": {},
   "execution_count": 13
  },
  {
   "outputs": [
    {
     "output_type": "execute_result",
     "data": {
      "text/plain": "MachNumber = 2.2360679774997907"
     },
     "metadata": {},
     "execution_count": 14
    }
   ],
   "cell_type": "code",
   "source": [
    "Msup"
   ],
   "metadata": {},
   "execution_count": 14
  },
  {
   "cell_type": "markdown",
   "source": [
    "### Example\n",
    "Suppose the flow of air in a duct enters with velocity 75 m/s at a pressure of\n",
    "150 kPa and temperature 300 K. We add heat 900 kJ/kg. Find\n",
    "\n",
    "(a) The value of the Mach number at the entrance and exit\n",
    "\n",
    "(b) The velocity, pressure, and temperature at the exit\n",
    "\n",
    "(c) The maximum amount of heat we can add so that the flow is just choked"
   ],
   "metadata": {}
  },
  {
   "cell_type": "markdown",
   "source": [
    "Set the given values"
   ],
   "metadata": {}
  },
  {
   "outputs": [
    {
     "output_type": "execute_result",
     "data": {
      "text/plain": "HeatFlux = 900000.0 J kg⁻¹"
     },
     "metadata": {},
     "execution_count": 15
    }
   ],
   "cell_type": "code",
   "source": [
    "u1 = Velocity(75u\"m/s\")\n",
    "p1 = Pressure(150u\"kPa\")\n",
    "T1 = Temperature(300)\n",
    "q = HeatFlux(900u\"kJ/kg\")"
   ],
   "metadata": {},
   "execution_count": 15
  },
  {
   "cell_type": "markdown",
   "source": [
    "We can immediately find the Mach number at the location 1, by finding $c_1$:"
   ],
   "metadata": {}
  },
  {
   "outputs": [
    {
     "output_type": "execute_result",
     "data": {
      "text/plain": "MachNumber = 0.216020849610405"
     },
     "metadata": {},
     "execution_count": 16
    }
   ],
   "cell_type": "code",
   "source": [
    "c1 = SoundSpeed(T1,gas=Air)\n",
    "M1 = MachNumber(u1/c1)"
   ],
   "metadata": {},
   "execution_count": 16
  },
  {
   "cell_type": "markdown",
   "source": [
    "Now, use $M_1$ and $T_1$ to find $T_{01}$."
   ],
   "metadata": {}
  },
  {
   "outputs": [
    {
     "output_type": "execute_result",
     "data": {
      "text/plain": "StagnationTemperature = 302.79990044798404 K"
     },
     "metadata": {},
     "execution_count": 17
    }
   ],
   "cell_type": "code",
   "source": [
    "T01 = StagnationTemperature(T1,M1,Isentropic,gas=Air)"
   ],
   "metadata": {},
   "execution_count": 17
  },
  {
   "cell_type": "markdown",
   "source": [
    "Now let's focus on state 2. We will use the basic relation $h_{02} = h_{01} + q$\n",
    "to determine $T_{02}$."
   ],
   "metadata": {}
  },
  {
   "outputs": [
    {
     "output_type": "execute_result",
     "data": {
      "text/plain": "StagnationTemperature = 1198.768043802887 K"
     },
     "metadata": {},
     "execution_count": 18
    }
   ],
   "cell_type": "code",
   "source": [
    "h01 = StagnationEnthalpy(T01,gas=Air)\n",
    "h02 = StagnationEnthalpy(h01+q)\n",
    "T02 = StagnationTemperature(h02,gas=Air)"
   ],
   "metadata": {},
   "execution_count": 18
  },
  {
   "cell_type": "markdown",
   "source": [
    "To get the other states at location 2, we need the sonic reference conditions.\n",
    "For example, we will find\n",
    "\n",
    "$$T_{02}/T_{0}^*$$\n",
    "to determine $M_2$. We get this by calculating\n",
    "\n",
    "$$T_{0}^* = T_{01}/(T_{01}/T_{0}^*)$$"
   ],
   "metadata": {}
  },
  {
   "outputs": [
    {
     "output_type": "execute_result",
     "data": {
      "text/plain": "StagnationTemperature = 1520.0497967479669 K"
     },
     "metadata": {},
     "execution_count": 19
    }
   ],
   "cell_type": "code",
   "source": [
    "T0star = StagnationTemperature(T01/T0OverT0Star(M1,RayleighFlow,gas=Air))"
   ],
   "metadata": {},
   "execution_count": 19
  },
  {
   "outputs": [
    {
     "output_type": "execute_result",
     "data": {
      "text/plain": "TemperatureRatio = 0.788637350149687"
     },
     "metadata": {},
     "execution_count": 20
    }
   ],
   "cell_type": "code",
   "source": [
    "T02_over_T0star = TemperatureRatio(T02/T0star)"
   ],
   "metadata": {},
   "execution_count": 20
  },
  {
   "outputs": [
    {
     "name": "stdout",
     "output_type": "stream",
     "text": [
      "┌ Warning: The special case of bisection over BigFloat with zero tolerance using `A42` is deprecated. Now bisection is used with non-zero tolerances.\n",
      "│   caller = ip:0x0\n",
      "└ @ Core :-1\n",
      "┌ Warning: BisectionExact is deprecated; use Bisection\n",
      "│   caller = #find_zero#27 at bisection.jl:191 [inlined]\n",
      "└ @ Core ~/.julia/packages/Roots/6PvI4/src/Bracketing/bisection.jl:191\n",
      "┌ Warning: BisectionExact is deprecated; use Bisection\n",
      "│   caller = #find_zero#27 at bisection.jl:191 [inlined]\n",
      "└ @ Core ~/.julia/packages/Roots/6PvI4/src/Bracketing/bisection.jl:191\n"
     ]
    },
    {
     "output_type": "execute_result",
     "data": {
      "text/plain": "(ThermofluidQuantities.MachNumber{Float64}(0.5733204685023365, \"MachNumber\"), ThermofluidQuantities.MachNumber{Float64}(2.0239173983089973, \"MachNumber\"))"
     },
     "metadata": {},
     "execution_count": 21
    }
   ],
   "cell_type": "code",
   "source": [
    "M2sub, M2sup = MachNumber(T02_over_T0star,RayleighFlow,gas=Air)"
   ],
   "metadata": {},
   "execution_count": 21
  },
  {
   "cell_type": "markdown",
   "source": [
    "The subsonic one is the only possible candidate, because the flow came in at\n",
    "subsonic speed and can't have passed through Mach number 1. Thus"
   ],
   "metadata": {}
  },
  {
   "outputs": [
    {
     "output_type": "execute_result",
     "data": {
      "text/plain": "MachNumber = 0.5733204685023365"
     },
     "metadata": {},
     "execution_count": 22
    }
   ],
   "cell_type": "code",
   "source": [
    "M2 = M2sub"
   ],
   "metadata": {},
   "execution_count": 22
  },
  {
   "cell_type": "markdown",
   "source": [
    "We have increased the Mach number from 0.216 to 0.573 by adding heat."
   ],
   "metadata": {}
  },
  {
   "cell_type": "markdown",
   "source": [
    "Now find the other reference states that we will use:"
   ],
   "metadata": {}
  },
  {
   "outputs": [
    {
     "output_type": "execute_result",
     "data": {
      "text/plain": "Temperature = 1266.708163956639 K"
     },
     "metadata": {},
     "execution_count": 23
    }
   ],
   "cell_type": "code",
   "source": [
    "pstar = Pressure(p1/POverPStar(M1,RayleighFlow,gas=Air))\n",
    "ustar = Velocity(u1/VOverVStar(M1,RayleighFlow,gas=Air))\n",
    "Tstar = Temperature(T1/TOverTStar(M1,RayleighFlow,gas=Air))"
   ],
   "metadata": {},
   "execution_count": 23
  },
  {
   "cell_type": "markdown",
   "source": [
    "and now the values themselves. For example, we use $M_2$ to calculate $p_2/p^*$\n",
    "and then calculate $p_2 = p^*(p_2/p^*)$."
   ],
   "metadata": {}
  },
  {
   "outputs": [
    {
     "output_type": "execute_result",
     "data": {
      "text/plain": "Pressure = 109438.70572689772 Pa"
     },
     "metadata": {},
     "execution_count": 24
    }
   ],
   "cell_type": "code",
   "source": [
    "p2 = Pressure(pstar*POverPStar(M2,RayleighFlow,gas=Air))"
   ],
   "metadata": {},
   "execution_count": 24
  },
  {
   "outputs": [
    {
     "output_type": "execute_result",
     "data": {
      "text/plain": "Velocity = 385.4291055034761 m s⁻¹"
     },
     "metadata": {},
     "execution_count": 25
    }
   ],
   "cell_type": "code",
   "source": [
    "u2 = Velocity(ustar*VOverVStar(M2,RayleighFlow,gas=Air))"
   ],
   "metadata": {},
   "execution_count": 25
  },
  {
   "outputs": [
    {
     "output_type": "execute_result",
     "data": {
      "text/plain": "Temperature = 1124.822998820702 K"
     },
     "metadata": {},
     "execution_count": 26
    }
   ],
   "cell_type": "code",
   "source": [
    "T2 = Temperature(Tstar*TOverTStar(M2,RayleighFlow,gas=Air))"
   ],
   "metadata": {},
   "execution_count": 26
  },
  {
   "cell_type": "markdown",
   "source": [
    "Finally, let us calculate the maximum heat flux -- the heat flux that brings the\n",
    "flow just to sonic conditions when starting at the given conditions at location 1.\n",
    "This comes from\n",
    "\n",
    "$$q_{max} = h_{0}^* - h_{01} = c_p (T_0^* - T_{01})$$\n",
    "\n",
    "We have a convenience function for that, based on stagnation temperature:"
   ],
   "metadata": {}
  },
  {
   "outputs": [
    {
     "output_type": "execute_result",
     "data": {
      "text/plain": "HeatFlux = 1.2227275208333328e6 J kg⁻¹"
     },
     "metadata": {},
     "execution_count": 27
    }
   ],
   "cell_type": "code",
   "source": [
    "qmax = HeatFlux(T01,T0star,gas=Air)"
   ],
   "metadata": {},
   "execution_count": 27
  },
  {
   "outputs": [
    {
     "output_type": "execute_result",
     "data": {
      "text/plain": "1222.7275208333328 kJ kg⁻¹"
     },
     "metadata": {},
     "execution_count": 28
    }
   ],
   "cell_type": "code",
   "source": [
    "value(qmax,u\"kJ/kg\")"
   ],
   "metadata": {},
   "execution_count": 28
  },
  {
   "cell_type": "markdown",
   "source": [
    "Thus, we can add up to 1223 kJ/kg before the flow gets choked. Any more than that\n",
    "will cause the entrance conditions to change."
   ],
   "metadata": {}
  },
  {
   "cell_type": "markdown",
   "source": [
    "---\n",
    "\n",
    "*This notebook was generated using [Literate.jl](https://github.com/fredrikekre/Literate.jl).*"
   ],
   "metadata": {}
  }
 ],
 "nbformat_minor": 3,
 "metadata": {
  "language_info": {
   "file_extension": ".jl",
   "mimetype": "application/julia",
   "name": "julia",
   "version": "1.8.2"
  },
  "kernelspec": {
   "name": "julia-1.8",
   "display_name": "Julia 1.8.2",
   "language": "julia"
  }
 },
 "nbformat": 4
}
