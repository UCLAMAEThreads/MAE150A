{
 "cells": [
  {
   "cell_type": "markdown",
   "metadata": {},
   "source": [
    "<img src=\"logo_UCLA_blue_boxed.svg\" alt=\"ucla logo\" width=\"150\" align=\"left\"/>"
   ]
  },
  {
   "cell_type": "markdown",
   "metadata": {},
   "source": [
    "### **MAE 150A - Intermediate Fluid Mechanics**\n",
    "\n",
    "<hr />"
   ]
  },
  {
   "cell_type": "markdown",
   "metadata": {},
   "source": [
    "# Plotting a steady flow field"
   ]
  },
  {
   "cell_type": "markdown",
   "metadata": {},
   "source": [
    "In this notebook we will inspect the pre-computed steady flow past an airfoil again. The objectives of this notebook are to plot various fields associated with the flow."
   ]
  },
  {
   "cell_type": "markdown",
   "metadata": {},
   "source": [
    "### Set up the module"
   ]
  },
  {
   "cell_type": "code",
   "execution_count": null,
   "metadata": {},
   "outputs": [],
   "source": [
    "using MAE150A"
   ]
  },
  {
   "cell_type": "code",
   "execution_count": null,
   "metadata": {},
   "outputs": [],
   "source": [
    "using Plots"
   ]
  },
  {
   "cell_type": "markdown",
   "metadata": {},
   "source": [
    "### Load the flow from file"
   ]
  },
  {
   "cell_type": "markdown",
   "metadata": {},
   "source": [
    "We will use the flow from the same pre-computed CFD solution we used in the previous notebook. This is the steady state flow past a NACA 4415 airfoil at 5 degrees angle of attack at Reynolds number 500."
   ]
  },
  {
   "cell_type": "code",
   "execution_count": null,
   "metadata": {},
   "outputs": [],
   "source": [
    "filename = \"NACA4415Re500.jld\"\n",
    "u, t, sys = load_ns_solution(filename);"
   ]
  },
  {
   "cell_type": "markdown",
   "metadata": {},
   "source": [
    "Get the flow fields associated with the flow state: velocity (`vel`), vorticity (`ω`), streamfunction (`ψ`), and pressure (`press`)"
   ]
  },
  {
   "cell_type": "code",
   "execution_count": null,
   "metadata": {},
   "outputs": [],
   "source": [
    "vel = ViscousFlow.velocity(u,sys,t)\n",
    "ω = ViscousFlow.vorticity(u,sys,t)\n",
    "ψ = ViscousFlow.streamfunction(u,sys,t)\n",
    "press = ViscousFlow.pressure(u,sys,t);"
   ]
  },
  {
   "cell_type": "markdown",
   "metadata": {},
   "source": [
    "### Plotting the vorticity field"
   ]
  },
  {
   "cell_type": "code",
   "execution_count": null,
   "metadata": {},
   "outputs": [],
   "source": [
    "# plot it\n",
    "plot(ω,sys,levels=range(-15,15,length=30), color = :RdBu,clim=(-15,15),ylim=(-1,1),xlim=(-1,3),size=(900,300),title=\"Vorticity field\")"
   ]
  },
  {
   "cell_type": "markdown",
   "metadata": {},
   "source": [
    "### Plot the streamfunction field\n",
    "In this case, we also will create a line contour plot, but use the same color for each contour. Why do we do this? Maybe you have a guess once you look at it."
   ]
  },
  {
   "cell_type": "code",
   "execution_count": null,
   "metadata": {},
   "outputs": [],
   "source": [
    "plot(ψ,sys,levels=31, color = :Black, xlim = (-1,3),ylim=(-0.5,0.5),size=(900,400),title=\"Streamfunction field\")"
   ]
  },
  {
   "cell_type": "markdown",
   "metadata": {},
   "source": [
    "### Plot the velocity field components\n",
    "This is a vector field, so we will plot the components separately."
   ]
  },
  {
   "cell_type": "code",
   "execution_count": null,
   "metadata": {},
   "outputs": [],
   "source": [
    "plot(\n",
    "    plot(vel.u,sys,size=(900,300),levels=range(-0.1,1.5,length=31), color = :RdBu,clim=(-0.1,1.5),xlim=(-1,3),ylim=(-0.5,0.5),title=\"x component of velocity\"),\n",
    "    plot(vel.v,sys,size=(900,300),color=:RdBu,levels=range(-0.15,0.15,length=31),clim=(-0.15,0.15),xlim=(-1,3),ylim=(-0.5,0.5),title=\"y component of velocity\"),\n",
    "    layout=(2,1),\n",
    "    size=(800,400)\n",
    "    )\n"
   ]
  },
  {
   "cell_type": "markdown",
   "metadata": {},
   "source": [
    "### Plot the magnitude of the velocity field\n",
    "This field is the speed of the flow."
   ]
  },
  {
   "cell_type": "code",
   "execution_count": null,
   "metadata": {},
   "outputs": [],
   "source": [
    "umag = mag(vel)\n",
    "plot(umag,sys,color = :RdBu, ylim = (-0.5,0.5),xlim = (-1,3),size=(900,400),title=\"Velocity magnitude field\",colorbar=:true)"
   ]
  },
  {
   "cell_type": "markdown",
   "metadata": {},
   "source": [
    "Notice that the wake is clearly shown in this field, distinctly slower than the rest of the flow."
   ]
  },
  {
   "cell_type": "markdown",
   "metadata": {},
   "source": [
    "### Pressure coefficient field\n",
    "Now let's plot the pressure coefficient field. The pressure coefficient $C_p$ is just a normalization of the pressure:\n",
    "\n",
    "$$C_p = \\dfrac{p-p_\\infty}{\\frac{1}{2} \\rho U_\\infty^2}$$\n",
    "\n",
    "In this case, the free stream and density are both equal to 1, so we just divide pressure by 0.5 (i.e., multiply pressure by 2) to get the pressure coefficient."
   ]
  },
  {
   "cell_type": "code",
   "execution_count": null,
   "metadata": {},
   "outputs": [],
   "source": [
    "plot(2*press,sys,levels=range(-1.5,1.5,length=31),color=:RdBu,clim=(-1.5,1.5),xlim=(-1,1),ylim=(-0.5,0.5),\n",
    "        colorbar=:true,size=(900,400),title=\"Pressure coefficient\")"
   ]
  },
  {
   "cell_type": "markdown",
   "metadata": {},
   "source": [
    "There are two notable features in the pressure. Along the upper part of the wing, the pressure is very low. This is the **suction** side of the wing, where it generates most of its lift. Also, there is a region of higher pressure at the front of the wing where the flow stagnates."
   ]
  },
  {
   "cell_type": "code",
   "execution_count": null,
   "metadata": {},
   "outputs": [],
   "source": []
  }
 ],
 "metadata": {
  "@webio": {
   "lastCommId": null,
   "lastKernelId": null
  },
  "kernelspec": {
   "display_name": "Julia 1.5.3",
   "language": "julia",
   "name": "julia-1.5"
  },
  "language_info": {
   "file_extension": ".jl",
   "mimetype": "application/julia",
   "name": "julia",
   "version": "1.5.3"
  }
 },
 "nbformat": 4,
 "nbformat_minor": 2
}
