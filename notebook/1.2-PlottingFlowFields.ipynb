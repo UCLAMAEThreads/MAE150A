{
 "cells": [
  {
   "cell_type": "markdown",
   "metadata": {},
   "source": [
    "<img src=\"logo_UCLA_blue_boxed.svg\" alt=\"ucla logo\" width=\"150\" align=\"left\"/>"
   ]
  },
  {
   "cell_type": "markdown",
   "metadata": {},
   "source": [
    "### **MAE 150A - Intermediate Fluid Mechanics**\n",
    "\n",
    "<hr />"
   ]
  },
  {
   "cell_type": "markdown",
   "metadata": {},
   "source": [
    "# Plotting a steady flow field"
   ]
  },
  {
   "cell_type": "markdown",
   "metadata": {},
   "source": [
    "In this notebook we will discuss ways that we plot a flow field. We will first discuss velocity profiles. Then, we will inspect the pre-computed steady flow past an airfoil again."
   ]
  },
  {
   "cell_type": "markdown",
   "metadata": {},
   "source": [
    "### Set up the module"
   ]
  },
  {
   "cell_type": "code",
   "execution_count": null,
   "metadata": {},
   "outputs": [],
   "source": [
    "using MAE150A"
   ]
  },
  {
   "cell_type": "code",
   "execution_count": null,
   "metadata": {},
   "outputs": [],
   "source": [
    "using Plots"
   ]
  },
  {
   "cell_type": "markdown",
   "metadata": {},
   "source": [
    "### Velocity profiles\n",
    "One of the most basic ways that we plot a flow field is by plotting a **velocity profile**. This gives us a means of seeing how the flow speed varies with position."
   ]
  },
  {
   "cell_type": "markdown",
   "metadata": {},
   "source": [
    "As an example, let us consider the most basic of flowfields: the steady Couette flow. This is the flow generated between two parallel walls, when one of the walls is in motion and the other one is at rest. The velocity field is steady and *unidirectional*: it only moves in one direction (the $x$ direction, parallel to the walls). The velocity field has only one component, in the $x$ direction, and varies only with distance from the lower wall $y = 0$. \n",
    "\n",
    "$$u(y) = U y/H$$\n",
    "\n",
    "where $U$ is the speed of the upper wall and $H$ is the height of the gap between the walls."
   ]
  },
  {
   "cell_type": "markdown",
   "metadata": {},
   "source": [
    "We plot the velocity profile opposite to how we would usually plot a function: with $u$ on the horizontal axis and $y$ on the vertical axis. Also, it is far preferred to plot this **nondimensionally**: plot $u/U$ vs $y/H$. This ensures that the plot can be understood more universally, rather than specific to just one wall speed and one gap height.\n",
    "\n",
    "In Julia, one useful idea is to define a function with *keyword arguments* that take default values if we omit them. Here, we will use this to define the velocity function so that it can behave either dimensionally (by setting $U$ and $H$ explicity) or nondimensionally (by not setting them, so that $U$ and $H$ each default to 1). By doing the latter, then '$y$' actually represents $y/H$ and '$u$' represents $u/U$."
   ]
  },
  {
   "cell_type": "code",
   "execution_count": null,
   "metadata": {},
   "outputs": [],
   "source": [
    "u_couette(y;U=1,H=1) = U*y/H"
   ]
  },
  {
   "cell_type": "markdown",
   "metadata": {},
   "source": [
    "Now generate a set of points in $y$ (between 0 and 1), evaluate $u$, and plot the profile:"
   ]
  },
  {
   "cell_type": "code",
   "execution_count": null,
   "metadata": {},
   "outputs": [],
   "source": [
    "y = 0:0.01:1\n",
    "plot(u_couette.(y),y,xlims=(0,1),ylims=(0,1),xguide=\"u/U\",yguide=\"y/H\",framestyle=:box,title=\"Couette flow profile\")"
   ]
  },
  {
   "cell_type": "markdown",
   "metadata": {},
   "source": [
    "It should be understood that this profile signifies that the flow is going horizontally, remains at rest at the bottom $y=0$, and is fastest at the top $y = H$."
   ]
  },
  {
   "cell_type": "markdown",
   "metadata": {},
   "source": [
    "A channel Poiseuille flow profile would be parabolic:"
   ]
  },
  {
   "cell_type": "code",
   "execution_count": null,
   "metadata": {},
   "outputs": [],
   "source": [
    "u_pois(y;U=1,H=1) = 4*U*y*(H-y)/H^2"
   ]
  },
  {
   "cell_type": "code",
   "execution_count": null,
   "metadata": {},
   "outputs": [],
   "source": [
    "plot(u_pois.(y),y,xlims=(0,1),ylims=(0,1),xguide=\"u/U\",yguide=\"y/H\",framestyle=:box,title=\"Poiseuille flow profile\")"
   ]
  },
  {
   "cell_type": "markdown",
   "metadata": {},
   "source": [
    "### Other ways we visualize a flow\n",
    "The velocity profile is only one way to understand a flow, and it only is helpful in certain circumstances, such as near a wall. For more complex flows, we need some additional tools to visualize a flow."
   ]
  },
  {
   "cell_type": "markdown",
   "metadata": {},
   "source": [
    "We will use the flow from the same pre-computed CFD solution we used in the previous notebook. This is the steady state flow past a NACA 4415 airfoil at 5 degrees angle of attack at Reynolds number 500."
   ]
  },
  {
   "cell_type": "code",
   "execution_count": null,
   "metadata": {},
   "outputs": [],
   "source": [
    "filename = \"NACA4415Re500.jld\"\n",
    "u, t, sys = load_ns_solution(filename);"
   ]
  },
  {
   "cell_type": "markdown",
   "metadata": {},
   "source": [
    "Get the flow fields associated with the flow state: velocity (`vel`), vorticity (`ω`), streamfunction (`ψ`), and pressure (`press`)"
   ]
  },
  {
   "cell_type": "code",
   "execution_count": null,
   "metadata": {},
   "outputs": [],
   "source": [
    "vel = ViscousFlow.velocity(u,sys,t)\n",
    "ω = ViscousFlow.vorticity(u,sys,t)\n",
    "ψ = ViscousFlow.streamfunction(u,sys,t)\n",
    "press = ViscousFlow.pressure(u,sys,t);"
   ]
  },
  {
   "cell_type": "markdown",
   "metadata": {},
   "source": [
    "### Plotting the vorticity field"
   ]
  },
  {
   "cell_type": "code",
   "execution_count": null,
   "metadata": {},
   "outputs": [],
   "source": [
    "# plot it\n",
    "plot(ω,sys,levels=range(-15,15,length=30), color = :RdBu,clim=(-15,15),ylim=(-1,1),xlim=(-1,3),size=(900,300),title=\"Vorticity field\")"
   ]
  },
  {
   "cell_type": "markdown",
   "metadata": {},
   "source": [
    "### Plot the streamfunction field\n",
    "In this case, we also will create a line contour plot, but use the same color for each contour. Why do we do this? Maybe you have a guess once you look at it."
   ]
  },
  {
   "cell_type": "code",
   "execution_count": null,
   "metadata": {},
   "outputs": [],
   "source": [
    "plot(ψ,sys,levels=31, color = :Black, xlim = (-1,3),ylim=(-0.5,0.5),size=(900,400),title=\"Streamfunction field\")"
   ]
  },
  {
   "cell_type": "markdown",
   "metadata": {},
   "source": [
    "### Plot the velocity field components\n",
    "This is a vector field, so we will plot the components separately."
   ]
  },
  {
   "cell_type": "code",
   "execution_count": null,
   "metadata": {},
   "outputs": [],
   "source": [
    "plot(\n",
    "    plot(vel.u,sys,size=(900,300),levels=range(-0.1,1.5,length=31), color = :RdBu,clim=(-0.1,1.5),xlim=(-1,3),ylim=(-0.5,0.5),title=\"x component of velocity\"),\n",
    "    plot(vel.v,sys,size=(900,300),color=:RdBu,levels=range(-0.15,0.15,length=31),clim=(-0.15,0.15),xlim=(-1,3),ylim=(-0.5,0.5),title=\"y component of velocity\"),\n",
    "    layout=(2,1),\n",
    "    size=(800,400)\n",
    "    )\n"
   ]
  },
  {
   "cell_type": "markdown",
   "metadata": {},
   "source": [
    "### Plot the magnitude of the velocity field\n",
    "This field is the speed of the flow."
   ]
  },
  {
   "cell_type": "code",
   "execution_count": null,
   "metadata": {},
   "outputs": [],
   "source": [
    "umag = mag(vel)\n",
    "plot(umag,sys,color = :RdBu, ylim = (-0.5,0.5),xlim = (-1,3),size=(900,400),title=\"Velocity magnitude field\",colorbar=:true)"
   ]
  },
  {
   "cell_type": "markdown",
   "metadata": {},
   "source": [
    "Notice that the wake is clearly shown in this field, distinctly slower than the rest of the flow."
   ]
  },
  {
   "cell_type": "markdown",
   "metadata": {},
   "source": [
    "### Pressure coefficient field\n",
    "Now let's plot the pressure coefficient field. The pressure coefficient $C_p$ is just a normalization of the pressure:\n",
    "\n",
    "$$C_p = \\dfrac{p-p_\\infty}{\\frac{1}{2} \\rho U_\\infty^2}$$\n",
    "\n",
    "In this case, the free stream and density are both equal to 1, so we just divide pressure by 0.5 (i.e., multiply pressure by 2) to get the pressure coefficient."
   ]
  },
  {
   "cell_type": "code",
   "execution_count": null,
   "metadata": {},
   "outputs": [],
   "source": [
    "plot(2*press,sys,levels=range(-1.5,1.5,length=31),color=:RdBu,clim=(-1.5,1.5),xlim=(-1,1),ylim=(-0.5,0.5),\n",
    "        colorbar=:true,size=(900,400),title=\"Pressure coefficient\")"
   ]
  },
  {
   "cell_type": "markdown",
   "metadata": {},
   "source": [
    "There are two notable features in the pressure. Along the upper part of the wing, the pressure is very low. This is the **suction** side of the wing, where it generates most of its lift. Also, there is a region of higher pressure at the front of the wing where the flow stagnates."
   ]
  },
  {
   "cell_type": "code",
   "execution_count": null,
   "metadata": {},
   "outputs": [],
   "source": []
  }
 ],
 "metadata": {
  "@webio": {
   "lastCommId": null,
   "lastKernelId": null
  },
  "kernelspec": {
   "display_name": "Julia 1.5.3",
   "language": "julia",
   "name": "julia-1.5"
  },
  "language_info": {
   "file_extension": ".jl",
   "mimetype": "application/julia",
   "name": "julia",
   "version": "1.5.3"
  }
 },
 "nbformat": 4,
 "nbformat_minor": 2
}
