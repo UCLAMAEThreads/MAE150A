{
 "cells": [
  {
   "cell_type": "markdown",
   "source": [
    "<img src=\"https://raw.githubusercontent.com/UCLAMAEThreads/MAE150A/master/notebook/logo_UCLA_blue_boxed.svg\" alt=\"ucla logo\" width=\"150\" align=\"left\"/>"
   ],
   "metadata": {}
  },
  {
   "cell_type": "markdown",
   "source": [
    "### **MAE 150A - Intermediate Fluid Mechanics**\n",
    "<hr />"
   ],
   "metadata": {}
  },
  {
   "cell_type": "markdown",
   "source": [
    "# Basic notes on complex variables\n",
    "This notebook reviews some aspects of complex variables and demonstrates how to use\n",
    "them in Julia."
   ],
   "metadata": {}
  },
  {
   "cell_type": "markdown",
   "source": [
    "### Set up the module"
   ],
   "metadata": {}
  },
  {
   "outputs": [],
   "cell_type": "code",
   "source": [
    "using MAE150A"
   ],
   "metadata": {},
   "execution_count": 1
  },
  {
   "outputs": [],
   "cell_type": "code",
   "source": [
    "using Plots"
   ],
   "metadata": {},
   "execution_count": 2
  },
  {
   "cell_type": "markdown",
   "source": [
    "Potential flows make common use of **complex variables**. For example, rather than\n",
    "write the position of a point in Cartesian coordinates as $(x,y)$, it is typical\n",
    "to write it instead as\n",
    "\n",
    "$$ z = x + \\mathrm{i} y $$\n",
    "\n",
    "where $\\mathrm{i} = \\sqrt{-1}$ is the imaginary unit. It is also common for us to use\n",
    "cylindrical (or polar) coordinates. These also have a complex form. If a point is at\n",
    "$(r,\\theta)$, then we write this as\n",
    "\n",
    "$$ z = r \\mathrm{e}^{\\mathrm{i}\\theta} $$\n",
    "\n",
    "Remember Euler's formula, $\\mathrm{e}^{\\mathrm{i}\\theta} = \\cos\\theta + \\mathrm{i}\\sin\\theta$.\n",
    "This ensures that $x = r \\cos\\theta$ and $y = r \\sin\\theta$, as we should expect."
   ],
   "metadata": {}
  },
  {
   "cell_type": "markdown",
   "source": [
    "#### Complex variables in Julia\n",
    "Julia allows us to write complex variables very easily. The imaginary unit is `im`.\n",
    "So, for example, the point $(1.0,2.0)$ can be written in complex form as"
   ],
   "metadata": {}
  },
  {
   "outputs": [
    {
     "output_type": "execute_result",
     "data": {
      "text/plain": "1.0 + 2.0im"
     },
     "metadata": {},
     "execution_count": 3
    }
   ],
   "cell_type": "code",
   "source": [
    "z = 1.0+im*2.0"
   ],
   "metadata": {},
   "execution_count": 3
  },
  {
   "cell_type": "markdown",
   "source": [
    "(The reason we used 1.0 instead of 1 was to ensure that this is treated as a floating-point\n",
    "number, rather than an integer.)\n",
    "\n",
    "We can always recover the real or imaginary part of a variable with `real` and `imag`:"
   ],
   "metadata": {}
  },
  {
   "outputs": [
    {
     "output_type": "execute_result",
     "data": {
      "text/plain": "1.0"
     },
     "metadata": {},
     "execution_count": 4
    }
   ],
   "cell_type": "code",
   "source": [
    "real(z)"
   ],
   "metadata": {},
   "execution_count": 4
  },
  {
   "outputs": [
    {
     "output_type": "execute_result",
     "data": {
      "text/plain": "2.0"
     },
     "metadata": {},
     "execution_count": 5
    }
   ],
   "cell_type": "code",
   "source": [
    "imag(z)"
   ],
   "metadata": {},
   "execution_count": 5
  },
  {
   "cell_type": "markdown",
   "source": [
    "We can also set up an array of complex numbers. For example, here is a set of points at\n",
    "$y = 0.1$ and between $x = -1$ and $x = 1$."
   ],
   "metadata": {}
  },
  {
   "outputs": [],
   "cell_type": "code",
   "source": [
    "z = (-1:0.1:1) .+ 0.1im;"
   ],
   "metadata": {},
   "execution_count": 6
  },
  {
   "cell_type": "markdown",
   "source": [
    "The `.+` signifies to add `0.1im` (i.e., $0.1\\mathrm{i}$) to every element in the list\n",
    "`-1:0.1:1`.\n",
    "\n",
    "If we want just the $x$ components of this array of points, then use `real`, but you will\n",
    "need to use a `.` to apply it to every element of the array:"
   ],
   "metadata": {}
  },
  {
   "outputs": [
    {
     "output_type": "execute_result",
     "data": {
      "text/plain": "21-element Vector{Float64}:\n -1.0\n -0.9\n -0.8\n -0.7\n -0.6\n -0.5\n -0.4\n -0.3\n -0.2\n -0.1\n  ⋮\n  0.2\n  0.3\n  0.4\n  0.5\n  0.6\n  0.7\n  0.8\n  0.9\n  1.0"
     },
     "metadata": {},
     "execution_count": 7
    }
   ],
   "cell_type": "code",
   "source": [
    "real.(z)"
   ],
   "metadata": {},
   "execution_count": 7
  },
  {
   "cell_type": "markdown",
   "source": [
    "Plot these points just to see what we've created:"
   ],
   "metadata": {}
  },
  {
   "outputs": [
    {
     "output_type": "execute_result",
     "data": {
      "text/plain": "Plot{Plots.GRBackend() n=1}",
      "image/png": "[encoded data removed]",
      "text/html": [
       "<?xml version=\"1.0\" encoding=\"utf-8\"?>\n",
       "<svg xmlns=\"http://www.w3.org/2000/svg\" xmlns:xlink=\"http://www.w3.org/1999/xlink\" width=\"400\" height=\"300\" viewBox=\"0 0 1600 1200\">\n",
       "<defs>\n",
       "  <clipPath id=\"clip530\">\n",
       "    <rect x=\"0\" y=\"0\" width=\"1600\" height=\"1200\"/>\n",
       "  </clipPath>\n",
       "</defs>\n",
       "<path clip-path=\"url(#clip530)\" d=\"\n",
       "M0 1200 L1600 1200 L1600 0 L0 0  Z\n",
       "  \" fill=\"#ffffff\" fill-rule=\"evenodd\" fill-opacity=\"1\"/>\n",
       "<defs>\n",
       "  <clipPath id=\"clip531\">\n",
       "    <rect x=\"320\" y=\"0\" width=\"1121\" height=\"1121\"/>\n",
       "  </clipPath>\n",
       "</defs>\n",
       "<defs>\n",
       "  <clipPath id=\"clip532\">\n",
       "    <rect x=\"255\" y=\"207\" width=\"1299\" height=\"650\"/>\n",
       "  </clipPath>\n",
       "</defs>\n",
       "<path clip-path=\"url(#clip530)\" d=\"\n",
       "M255.144 856.485 L1552.76 856.485 L1552.76 207.679 L255.144 207.679  Z\n",
       "  \" fill=\"#ffffff\" fill-rule=\"evenodd\" fill-opacity=\"1\"/>\n",
       "<polyline clip-path=\"url(#clip530)\" style=\"stroke:#000000; stroke-linecap:round; stroke-linejoin:round; stroke-width:4; stroke-opacity:1; fill:none\" points=\"\n",
       "  255.144,856.485 1552.76,856.485 \n",
       "  \"/>\n",
       "<polyline clip-path=\"url(#clip530)\" style=\"stroke:#000000; stroke-linecap:round; stroke-linejoin:round; stroke-width:4; stroke-opacity:1; fill:none\" points=\"\n",
       "  255.144,856.485 255.144,843.841 \n",
       "  \"/>\n",
       "<polyline clip-path=\"url(#clip530)\" style=\"stroke:#000000; stroke-linecap:round; stroke-linejoin:round; stroke-width:4; stroke-opacity:1; fill:none\" points=\"\n",
       "  579.547,856.485 579.547,843.841 \n",
       "  \"/>\n",
       "<polyline clip-path=\"url(#clip530)\" style=\"stroke:#000000; stroke-linecap:round; stroke-linejoin:round; stroke-width:4; stroke-opacity:1; fill:none\" points=\"\n",
       "  903.95,856.485 903.95,843.841 \n",
       "  \"/>\n",
       "<polyline clip-path=\"url(#clip530)\" style=\"stroke:#000000; stroke-linecap:round; stroke-linejoin:round; stroke-width:4; stroke-opacity:1; fill:none\" points=\"\n",
       "  1228.35,856.485 1228.35,843.841 \n",
       "  \"/>\n",
       "<polyline clip-path=\"url(#clip530)\" style=\"stroke:#000000; stroke-linecap:round; stroke-linejoin:round; stroke-width:4; stroke-opacity:1; fill:none\" points=\"\n",
       "  1552.76,856.485 1552.76,843.841 \n",
       "  \"/>\n",
       "<path clip-path=\"url(#clip530)\" d=\"M225.086 895.656 L254.762 895.656 L254.762 899.591 L225.086 899.591 L225.086 895.656 Z\" fill=\"#000000\" fill-rule=\"evenodd\" fill-opacity=\"1\" /><path clip-path=\"url(#clip530)\" d=\"M268.882 908.55 L285.202 908.55 L285.202 912.485 L263.257 912.485 L263.257 908.55 Q265.919 905.795 270.503 901.166 Q275.109 896.513 276.29 895.17 Q278.535 892.647 279.415 890.911 Q280.318 889.152 280.318 887.462 Q280.318 884.707 278.373 882.971 Q276.452 881.235 273.35 881.235 Q271.151 881.235 268.697 881.999 Q266.267 882.763 263.489 884.314 L263.489 879.592 Q266.313 878.457 268.767 877.879 Q271.22 877.3 273.257 877.3 Q278.628 877.3 281.822 879.985 Q285.017 882.67 285.017 887.161 Q285.017 889.291 284.206 891.212 Q283.419 893.11 281.313 895.703 Q280.734 896.374 277.632 899.591 Q274.53 902.786 268.882 908.55 Z\" fill=\"#000000\" fill-rule=\"evenodd\" fill-opacity=\"1\" /><path clip-path=\"url(#clip530)\" d=\"M549.304 895.656 L578.98 895.656 L578.98 899.591 L549.304 899.591 L549.304 895.656 Z\" fill=\"#000000\" fill-rule=\"evenodd\" fill-opacity=\"1\" /><path clip-path=\"url(#clip530)\" d=\"M589.883 908.55 L597.521 908.55 L597.521 882.184 L589.211 883.851 L589.211 879.592 L597.475 877.925 L602.151 877.925 L602.151 908.55 L609.79 908.55 L609.79 912.485 L589.883 912.485 L589.883 908.55 Z\" fill=\"#000000\" fill-rule=\"evenodd\" fill-opacity=\"1\" /><path clip-path=\"url(#clip530)\" d=\"M903.95 881.004 Q900.339 881.004 898.51 884.568 Q896.705 888.11 896.705 895.24 Q896.705 902.346 898.51 905.911 Q900.339 909.453 903.95 909.453 Q907.584 909.453 909.39 905.911 Q911.218 902.346 911.218 895.24 Q911.218 888.11 909.39 884.568 Q907.584 881.004 903.95 881.004 M903.95 877.3 Q909.76 877.3 912.816 881.906 Q915.894 886.49 915.894 895.24 Q915.894 903.966 912.816 908.573 Q909.76 913.156 903.95 913.156 Q898.14 913.156 895.061 908.573 Q892.006 903.966 892.006 895.24 Q892.006 886.49 895.061 881.906 Q898.14 877.3 903.95 877.3 Z\" fill=\"#000000\" fill-rule=\"evenodd\" fill-opacity=\"1\" /><path clip-path=\"url(#clip530)\" d=\"M1218.73 908.55 L1226.37 908.55 L1226.37 882.184 L1218.06 883.851 L1218.06 879.592 L1226.33 877.925 L1231 877.925 L1231 908.55 L1238.64 908.55 L1238.64 912.485 L1218.73 912.485 L1218.73 908.55 Z\" fill=\"#000000\" fill-rule=\"evenodd\" fill-opacity=\"1\" /><path clip-path=\"url(#clip530)\" d=\"M1547.41 908.55 L1563.73 908.55 L1563.73 912.485 L1541.78 912.485 L1541.78 908.55 Q1544.45 905.795 1549.03 901.166 Q1553.64 896.513 1554.82 895.17 Q1557.06 892.647 1557.94 890.911 Q1558.84 889.152 1558.84 887.462 Q1558.84 884.707 1556.9 882.971 Q1554.98 881.235 1551.88 881.235 Q1549.68 881.235 1547.22 881.999 Q1544.79 882.763 1542.02 884.314 L1542.02 879.592 Q1544.84 878.457 1547.29 877.879 Q1549.75 877.3 1551.78 877.3 Q1557.15 877.3 1560.35 879.985 Q1563.54 882.67 1563.54 887.161 Q1563.54 889.291 1562.73 891.212 Q1561.95 893.11 1559.84 895.703 Q1559.26 896.374 1556.16 899.591 Q1553.06 902.786 1547.41 908.55 Z\" fill=\"#000000\" fill-rule=\"evenodd\" fill-opacity=\"1\" /><path clip-path=\"url(#clip530)\" d=\"M918.125 950.106 Q918.125 951.91 916.998 952.94 Q915.87 953.939 914.582 953.939 Q913.358 953.939 912.714 953.23 Q912.07 952.522 912.07 951.62 Q912.07 950.396 912.972 949.333 Q913.874 948.27 915.226 948.045 Q913.906 947.208 911.941 947.208 Q910.653 947.208 909.526 947.884 Q908.431 948.56 907.755 949.43 Q907.11 950.299 906.531 951.555 Q905.983 952.779 905.758 953.52 Q905.565 954.228 905.404 955.001 L903.149 964.019 Q902.054 968.302 902.054 969.816 Q902.054 971.684 902.956 972.94 Q903.858 974.164 905.661 974.164 Q906.37 974.164 907.175 973.971 Q907.98 973.745 909.011 973.166 Q910.073 972.554 911.007 971.652 Q911.974 970.718 912.908 969.14 Q913.841 967.562 914.453 965.533 Q914.647 964.824 915.291 964.824 Q916.096 964.824 916.096 965.468 Q916.096 966.016 915.645 967.175 Q915.226 968.302 914.292 969.784 Q913.391 971.233 912.199 972.554 Q911.007 973.842 909.236 974.744 Q907.465 975.645 905.532 975.645 Q902.763 975.645 900.927 974.164 Q899.091 972.682 898.415 970.621 Q898.254 970.911 898.028 971.298 Q897.803 971.684 897.127 972.554 Q896.483 973.391 895.742 974.035 Q895.001 974.647 893.842 975.13 Q892.714 975.645 891.491 975.645 Q889.945 975.645 888.56 975.194 Q887.207 974.744 886.241 973.713 Q885.275 972.682 885.275 971.265 Q885.275 969.687 886.338 968.592 Q887.433 967.465 888.914 967.465 Q889.848 967.465 890.589 968.013 Q891.362 968.56 891.362 969.752 Q891.362 971.072 890.46 972.071 Q889.558 973.069 888.27 973.327 Q889.59 974.164 891.555 974.164 Q893.681 974.164 895.355 972.296 Q897.03 970.428 897.835 967.304 Q899.832 959.8 900.605 956.451 Q901.378 953.069 901.378 951.62 Q901.378 950.267 901.024 949.333 Q900.669 948.399 900.057 947.981 Q899.478 947.53 898.93 947.369 Q898.415 947.208 897.835 947.208 Q896.869 947.208 895.774 947.594 Q894.711 947.981 893.423 948.882 Q892.167 949.752 890.975 951.555 Q889.784 953.359 888.979 955.839 Q888.818 956.58 888.109 956.58 Q887.336 956.547 887.336 955.903 Q887.336 955.356 887.755 954.228 Q888.206 953.069 889.107 951.62 Q890.041 950.171 891.233 948.882 Q892.457 947.562 894.228 946.66 Q896.032 945.758 897.964 945.758 Q898.834 945.758 899.671 945.952 Q900.54 946.113 901.571 946.596 Q902.634 947.079 903.568 948.142 Q904.502 949.204 905.081 950.75 Q905.468 950.01 905.983 949.301 Q906.531 948.592 907.368 947.723 Q908.238 946.821 909.429 946.306 Q910.653 945.758 912.006 945.758 Q913.326 945.758 914.614 946.113 Q915.903 946.435 916.998 947.497 Q918.125 948.528 918.125 950.106 Z\" fill=\"#000000\" fill-rule=\"evenodd\" fill-opacity=\"1\" /><polyline clip-path=\"url(#clip530)\" style=\"stroke:#000000; stroke-linecap:round; stroke-linejoin:round; stroke-width:4; stroke-opacity:1; fill:none\" points=\"\n",
       "  255.144,856.485 255.144,207.679 \n",
       "  \"/>\n",
       "<polyline clip-path=\"url(#clip530)\" style=\"stroke:#000000; stroke-linecap:round; stroke-linejoin:round; stroke-width:4; stroke-opacity:1; fill:none\" points=\"\n",
       "  255.144,856.485 274.042,856.485 \n",
       "  \"/>\n",
       "<polyline clip-path=\"url(#clip530)\" style=\"stroke:#000000; stroke-linecap:round; stroke-linejoin:round; stroke-width:4; stroke-opacity:1; fill:none\" points=\"\n",
       "  255.144,694.283 274.042,694.283 \n",
       "  \"/>\n",
       "<polyline clip-path=\"url(#clip530)\" style=\"stroke:#000000; stroke-linecap:round; stroke-linejoin:round; stroke-width:4; stroke-opacity:1; fill:none\" points=\"\n",
       "  255.144,532.082 274.042,532.082 \n",
       "  \"/>\n",
       "<polyline clip-path=\"url(#clip530)\" style=\"stroke:#000000; stroke-linecap:round; stroke-linejoin:round; stroke-width:4; stroke-opacity:1; fill:none\" points=\"\n",
       "  255.144,369.88 274.042,369.88 \n",
       "  \"/>\n",
       "<polyline clip-path=\"url(#clip530)\" style=\"stroke:#000000; stroke-linecap:round; stroke-linejoin:round; stroke-width:4; stroke-opacity:1; fill:none\" points=\"\n",
       "  255.144,207.679 274.042,207.679 \n",
       "  \"/>\n",
       "<path clip-path=\"url(#clip530)\" d=\"M124.2 856.936 L153.876 856.936 L153.876 860.871 L124.2 860.871 L124.2 856.936 Z\" fill=\"#000000\" fill-rule=\"evenodd\" fill-opacity=\"1\" /><path clip-path=\"url(#clip530)\" d=\"M164.779 869.83 L172.417 869.83 L172.417 843.464 L164.107 845.131 L164.107 840.872 L172.371 839.205 L177.047 839.205 L177.047 869.83 L184.686 869.83 L184.686 873.765 L164.779 873.765 L164.779 869.83 Z\" fill=\"#000000\" fill-rule=\"evenodd\" fill-opacity=\"1\" /><path clip-path=\"url(#clip530)\" d=\"M194.13 867.885 L199.015 867.885 L199.015 873.765 L194.13 873.765 L194.13 867.885 Z\" fill=\"#000000\" fill-rule=\"evenodd\" fill-opacity=\"1\" /><path clip-path=\"url(#clip530)\" d=\"M219.2 842.284 Q215.589 842.284 213.76 845.848 Q211.954 849.39 211.954 856.52 Q211.954 863.626 213.76 867.191 Q215.589 870.733 219.2 870.733 Q222.834 870.733 224.639 867.191 Q226.468 863.626 226.468 856.52 Q226.468 849.39 224.639 845.848 Q222.834 842.284 219.2 842.284 M219.2 838.58 Q225.01 838.58 228.065 843.186 Q231.144 847.77 231.144 856.52 Q231.144 865.246 228.065 869.853 Q225.01 874.436 219.2 874.436 Q213.389 874.436 210.311 869.853 Q207.255 865.246 207.255 856.52 Q207.255 847.77 210.311 843.186 Q213.389 838.58 219.2 838.58 Z\" fill=\"#000000\" fill-rule=\"evenodd\" fill-opacity=\"1\" /><path clip-path=\"url(#clip530)\" d=\"M125.196 694.735 L154.871 694.735 L154.871 698.67 L125.196 698.67 L125.196 694.735 Z\" fill=\"#000000\" fill-rule=\"evenodd\" fill-opacity=\"1\" /><path clip-path=\"url(#clip530)\" d=\"M174.964 680.082 Q171.353 680.082 169.524 683.647 Q167.718 687.189 167.718 694.318 Q167.718 701.425 169.524 704.989 Q171.353 708.531 174.964 708.531 Q178.598 708.531 180.404 704.989 Q182.232 701.425 182.232 694.318 Q182.232 687.189 180.404 683.647 Q178.598 680.082 174.964 680.082 M174.964 676.378 Q180.774 676.378 183.829 680.985 Q186.908 685.568 186.908 694.318 Q186.908 703.045 183.829 707.651 Q180.774 712.235 174.964 712.235 Q169.154 712.235 166.075 707.651 Q163.019 703.045 163.019 694.318 Q163.019 685.568 166.075 680.985 Q169.154 676.378 174.964 676.378 Z\" fill=\"#000000\" fill-rule=\"evenodd\" fill-opacity=\"1\" /><path clip-path=\"url(#clip530)\" d=\"M195.126 705.684 L200.01 705.684 L200.01 711.563 L195.126 711.563 L195.126 705.684 Z\" fill=\"#000000\" fill-rule=\"evenodd\" fill-opacity=\"1\" /><path clip-path=\"url(#clip530)\" d=\"M210.241 677.003 L228.598 677.003 L228.598 680.939 L214.524 680.939 L214.524 689.411 Q215.542 689.064 216.561 688.902 Q217.579 688.716 218.598 688.716 Q224.385 688.716 227.764 691.888 Q231.144 695.059 231.144 700.476 Q231.144 706.054 227.672 709.156 Q224.2 712.235 217.88 712.235 Q215.704 712.235 213.436 711.864 Q211.19 711.494 208.783 710.753 L208.783 706.054 Q210.866 707.188 213.089 707.744 Q215.311 708.3 217.788 708.3 Q221.792 708.3 224.13 706.193 Q226.468 704.087 226.468 700.476 Q226.468 696.864 224.13 694.758 Q221.792 692.652 217.788 692.652 Q215.913 692.652 214.038 693.068 Q212.186 693.485 210.241 694.364 L210.241 677.003 Z\" fill=\"#000000\" fill-rule=\"evenodd\" fill-opacity=\"1\" /><path clip-path=\"url(#clip530)\" d=\"M173.968 517.881 Q170.357 517.881 168.529 521.445 Q166.723 524.987 166.723 532.117 Q166.723 539.223 168.529 542.788 Q170.357 546.33 173.968 546.33 Q177.603 546.33 179.408 542.788 Q181.237 539.223 181.237 532.117 Q181.237 524.987 179.408 521.445 Q177.603 517.881 173.968 517.881 M173.968 514.177 Q179.779 514.177 182.834 518.783 Q185.913 523.367 185.913 532.117 Q185.913 540.843 182.834 545.45 Q179.779 550.033 173.968 550.033 Q168.158 550.033 165.08 545.45 Q162.024 540.843 162.024 532.117 Q162.024 523.367 165.08 518.783 Q168.158 514.177 173.968 514.177 Z\" fill=\"#000000\" fill-rule=\"evenodd\" fill-opacity=\"1\" /><path clip-path=\"url(#clip530)\" d=\"M194.13 543.482 L199.015 543.482 L199.015 549.362 L194.13 549.362 L194.13 543.482 Z\" fill=\"#000000\" fill-rule=\"evenodd\" fill-opacity=\"1\" /><path clip-path=\"url(#clip530)\" d=\"M219.2 517.881 Q215.589 517.881 213.76 521.445 Q211.954 524.987 211.954 532.117 Q211.954 539.223 213.76 542.788 Q215.589 546.33 219.2 546.33 Q222.834 546.33 224.639 542.788 Q226.468 539.223 226.468 532.117 Q226.468 524.987 224.639 521.445 Q222.834 517.881 219.2 517.881 M219.2 514.177 Q225.01 514.177 228.065 518.783 Q231.144 523.367 231.144 532.117 Q231.144 540.843 228.065 545.45 Q225.01 550.033 219.2 550.033 Q213.389 550.033 210.311 545.45 Q207.255 540.843 207.255 532.117 Q207.255 523.367 210.311 518.783 Q213.389 514.177 219.2 514.177 Z\" fill=\"#000000\" fill-rule=\"evenodd\" fill-opacity=\"1\" /><path clip-path=\"url(#clip530)\" d=\"M174.964 355.679 Q171.353 355.679 169.524 359.244 Q167.718 362.786 167.718 369.915 Q167.718 377.022 169.524 380.586 Q171.353 384.128 174.964 384.128 Q178.598 384.128 180.404 380.586 Q182.232 377.022 182.232 369.915 Q182.232 362.786 180.404 359.244 Q178.598 355.679 174.964 355.679 M174.964 351.975 Q180.774 351.975 183.829 356.582 Q186.908 361.165 186.908 369.915 Q186.908 378.642 183.829 383.248 Q180.774 387.832 174.964 387.832 Q169.154 387.832 166.075 383.248 Q163.019 378.642 163.019 369.915 Q163.019 361.165 166.075 356.582 Q169.154 351.975 174.964 351.975 Z\" fill=\"#000000\" fill-rule=\"evenodd\" fill-opacity=\"1\" /><path clip-path=\"url(#clip530)\" d=\"M195.126 381.281 L200.01 381.281 L200.01 387.16 L195.126 387.16 L195.126 381.281 Z\" fill=\"#000000\" fill-rule=\"evenodd\" fill-opacity=\"1\" /><path clip-path=\"url(#clip530)\" d=\"M210.241 352.6 L228.598 352.6 L228.598 356.536 L214.524 356.536 L214.524 365.008 Q215.542 364.661 216.561 364.499 Q217.579 364.313 218.598 364.313 Q224.385 364.313 227.764 367.485 Q231.144 370.656 231.144 376.073 Q231.144 381.651 227.672 384.753 Q224.2 387.832 217.88 387.832 Q215.704 387.832 213.436 387.461 Q211.19 387.091 208.783 386.35 L208.783 381.651 Q210.866 382.786 213.089 383.341 Q215.311 383.897 217.788 383.897 Q221.792 383.897 224.13 381.79 Q226.468 379.684 226.468 376.073 Q226.468 372.461 224.13 370.355 Q221.792 368.249 217.788 368.249 Q215.913 368.249 214.038 368.665 Q212.186 369.082 210.241 369.962 L210.241 352.6 Z\" fill=\"#000000\" fill-rule=\"evenodd\" fill-opacity=\"1\" /><path clip-path=\"url(#clip530)\" d=\"M164.779 221.024 L172.417 221.024 L172.417 194.658 L164.107 196.325 L164.107 192.066 L172.371 190.399 L177.047 190.399 L177.047 221.024 L184.686 221.024 L184.686 224.959 L164.779 224.959 L164.779 221.024 Z\" fill=\"#000000\" fill-rule=\"evenodd\" fill-opacity=\"1\" /><path clip-path=\"url(#clip530)\" d=\"M194.13 219.079 L199.015 219.079 L199.015 224.959 L194.13 224.959 L194.13 219.079 Z\" fill=\"#000000\" fill-rule=\"evenodd\" fill-opacity=\"1\" /><path clip-path=\"url(#clip530)\" d=\"M219.2 193.478 Q215.589 193.478 213.76 197.042 Q211.954 200.584 211.954 207.714 Q211.954 214.82 213.76 218.385 Q215.589 221.927 219.2 221.927 Q222.834 221.927 224.639 218.385 Q226.468 214.82 226.468 207.714 Q226.468 200.584 224.639 197.042 Q222.834 193.478 219.2 193.478 M219.2 189.774 Q225.01 189.774 228.065 194.38 Q231.144 198.964 231.144 207.714 Q231.144 216.441 228.065 221.047 Q225.01 225.63 219.2 225.63 Q213.389 225.63 210.311 221.047 Q207.255 216.441 207.255 207.714 Q207.255 198.964 210.311 194.38 Q213.389 189.774 219.2 189.774 Z\" fill=\"#000000\" fill-rule=\"evenodd\" fill-opacity=\"1\" /><path clip-path=\"url(#clip530)\" d=\"M52.7883 517.643 Q53.2392 517.643 54.302 517.933 L79.4869 524.245 Q85.0908 525.63 89.0199 530.139 Q92.949 534.616 92.949 539.704 Q92.949 542.764 91.3065 544.728 Q89.6962 546.693 87.2164 546.693 Q85.0264 546.693 83.9636 545.534 Q82.933 544.374 82.933 542.989 Q82.933 542.538 83.0618 542.055 Q83.1906 541.572 83.7381 541.057 Q84.2856 540.542 85.2196 540.542 Q86.7333 540.542 87.9249 541.862 Q88.4724 542.506 88.6012 543.118 Q88.73 543.698 88.73 544.696 Q89.6318 544.31 90.2437 543.601 Q90.8556 542.893 91.0811 542.087 Q91.3387 541.282 91.4031 540.767 Q91.4997 540.22 91.4997 539.704 Q91.4997 535.582 87.3452 532.426 Q86.0891 531.492 84.8331 530.815 Q83.6093 530.107 82.0956 529.592 Q80.6141 529.076 79.809 528.851 Q79.0039 528.593 77.1681 528.142 Q80.1633 531.138 80.1633 534.809 Q80.1633 536.355 79.7446 537.74 Q79.3259 539.092 78.4564 540.284 Q77.5546 541.476 75.9765 542.184 Q74.3984 542.86 72.305 542.86 Q70.0828 542.86 67.0555 541.991 Q64.0281 541.121 58.4565 539.028 Q55.3325 537.901 53.8189 537.901 Q53.0781 537.901 52.6273 538.062 Q52.1442 538.223 51.9831 538.545 Q51.7899 538.867 51.7577 539.06 Q51.7255 539.221 51.7255 539.543 Q51.7255 541.443 53.6578 543.215 Q55.5902 544.986 59.9058 546.21 Q60.7109 546.467 60.9042 546.629 Q61.0974 546.79 61.0974 547.273 Q61.0652 548.078 60.4211 548.078 Q60.1634 548.078 59.165 547.788 Q58.1345 547.498 56.6208 546.822 Q55.0749 546.113 53.69 545.147 Q52.273 544.181 51.2746 542.667 Q50.2762 541.121 50.2762 539.35 Q50.2762 536.935 51.8543 535.453 Q53.4002 533.939 55.6868 533.939 Q56.6208 533.939 57.4581 534.197 Q58.2633 534.423 60.4211 535.26 Q69.1167 538.641 73.3678 538.641 Q74.3984 538.641 75.268 538.48 Q76.1053 538.287 76.9427 537.869 Q77.7478 537.45 78.2309 536.613 Q78.6818 535.743 78.6818 534.551 Q78.6818 533.038 77.9733 531.621 Q77.2325 530.171 76.2342 529.27 Q75.2358 528.336 74.3984 527.788 Q73.5289 527.208 73.078 527.08 L61.2262 524.117 L55.9445 522.796 Q53.0781 522.184 52.3696 521.894 Q51.6933 521.508 51.339 520.832 Q50.9848 520.155 50.9848 519.576 Q50.9848 518.77 51.4678 518.223 Q51.9509 517.643 52.7883 517.643 Z\" fill=\"#000000\" fill-rule=\"evenodd\" fill-opacity=\"1\" /><circle clip-path=\"url(#clip532)\" cx=\"579.547\" cy=\"499.642\" r=\"14.4\" fill=\"#009af9\" fill-rule=\"evenodd\" fill-opacity=\"1\" stroke=\"#000000\" stroke-opacity=\"1\" stroke-width=\"2.4\"/>\n",
       "<circle clip-path=\"url(#clip532)\" cx=\"611.987\" cy=\"499.642\" r=\"14.4\" fill=\"#009af9\" fill-rule=\"evenodd\" fill-opacity=\"1\" stroke=\"#000000\" stroke-opacity=\"1\" stroke-width=\"2.4\"/>\n",
       "<circle clip-path=\"url(#clip532)\" cx=\"644.428\" cy=\"499.642\" r=\"14.4\" fill=\"#009af9\" fill-rule=\"evenodd\" fill-opacity=\"1\" stroke=\"#000000\" stroke-opacity=\"1\" stroke-width=\"2.4\"/>\n",
       "<circle clip-path=\"url(#clip532)\" cx=\"676.868\" cy=\"499.642\" r=\"14.4\" fill=\"#009af9\" fill-rule=\"evenodd\" fill-opacity=\"1\" stroke=\"#000000\" stroke-opacity=\"1\" stroke-width=\"2.4\"/>\n",
       "<circle clip-path=\"url(#clip532)\" cx=\"709.308\" cy=\"499.642\" r=\"14.4\" fill=\"#009af9\" fill-rule=\"evenodd\" fill-opacity=\"1\" stroke=\"#000000\" stroke-opacity=\"1\" stroke-width=\"2.4\"/>\n",
       "<circle clip-path=\"url(#clip532)\" cx=\"741.748\" cy=\"499.642\" r=\"14.4\" fill=\"#009af9\" fill-rule=\"evenodd\" fill-opacity=\"1\" stroke=\"#000000\" stroke-opacity=\"1\" stroke-width=\"2.4\"/>\n",
       "<circle clip-path=\"url(#clip532)\" cx=\"774.189\" cy=\"499.642\" r=\"14.4\" fill=\"#009af9\" fill-rule=\"evenodd\" fill-opacity=\"1\" stroke=\"#000000\" stroke-opacity=\"1\" stroke-width=\"2.4\"/>\n",
       "<circle clip-path=\"url(#clip532)\" cx=\"806.629\" cy=\"499.642\" r=\"14.4\" fill=\"#009af9\" fill-rule=\"evenodd\" fill-opacity=\"1\" stroke=\"#000000\" stroke-opacity=\"1\" stroke-width=\"2.4\"/>\n",
       "<circle clip-path=\"url(#clip532)\" cx=\"839.069\" cy=\"499.642\" r=\"14.4\" fill=\"#009af9\" fill-rule=\"evenodd\" fill-opacity=\"1\" stroke=\"#000000\" stroke-opacity=\"1\" stroke-width=\"2.4\"/>\n",
       "<circle clip-path=\"url(#clip532)\" cx=\"871.51\" cy=\"499.642\" r=\"14.4\" fill=\"#009af9\" fill-rule=\"evenodd\" fill-opacity=\"1\" stroke=\"#000000\" stroke-opacity=\"1\" stroke-width=\"2.4\"/>\n",
       "<circle clip-path=\"url(#clip532)\" cx=\"903.95\" cy=\"499.642\" r=\"14.4\" fill=\"#009af9\" fill-rule=\"evenodd\" fill-opacity=\"1\" stroke=\"#000000\" stroke-opacity=\"1\" stroke-width=\"2.4\"/>\n",
       "<circle clip-path=\"url(#clip532)\" cx=\"936.39\" cy=\"499.642\" r=\"14.4\" fill=\"#009af9\" fill-rule=\"evenodd\" fill-opacity=\"1\" stroke=\"#000000\" stroke-opacity=\"1\" stroke-width=\"2.4\"/>\n",
       "<circle clip-path=\"url(#clip532)\" cx=\"968.831\" cy=\"499.642\" r=\"14.4\" fill=\"#009af9\" fill-rule=\"evenodd\" fill-opacity=\"1\" stroke=\"#000000\" stroke-opacity=\"1\" stroke-width=\"2.4\"/>\n",
       "<circle clip-path=\"url(#clip532)\" cx=\"1001.27\" cy=\"499.642\" r=\"14.4\" fill=\"#009af9\" fill-rule=\"evenodd\" fill-opacity=\"1\" stroke=\"#000000\" stroke-opacity=\"1\" stroke-width=\"2.4\"/>\n",
       "<circle clip-path=\"url(#clip532)\" cx=\"1033.71\" cy=\"499.642\" r=\"14.4\" fill=\"#009af9\" fill-rule=\"evenodd\" fill-opacity=\"1\" stroke=\"#000000\" stroke-opacity=\"1\" stroke-width=\"2.4\"/>\n",
       "<circle clip-path=\"url(#clip532)\" cx=\"1066.15\" cy=\"499.642\" r=\"14.4\" fill=\"#009af9\" fill-rule=\"evenodd\" fill-opacity=\"1\" stroke=\"#000000\" stroke-opacity=\"1\" stroke-width=\"2.4\"/>\n",
       "<circle clip-path=\"url(#clip532)\" cx=\"1098.59\" cy=\"499.642\" r=\"14.4\" fill=\"#009af9\" fill-rule=\"evenodd\" fill-opacity=\"1\" stroke=\"#000000\" stroke-opacity=\"1\" stroke-width=\"2.4\"/>\n",
       "<circle clip-path=\"url(#clip532)\" cx=\"1131.03\" cy=\"499.642\" r=\"14.4\" fill=\"#009af9\" fill-rule=\"evenodd\" fill-opacity=\"1\" stroke=\"#000000\" stroke-opacity=\"1\" stroke-width=\"2.4\"/>\n",
       "<circle clip-path=\"url(#clip532)\" cx=\"1163.47\" cy=\"499.642\" r=\"14.4\" fill=\"#009af9\" fill-rule=\"evenodd\" fill-opacity=\"1\" stroke=\"#000000\" stroke-opacity=\"1\" stroke-width=\"2.4\"/>\n",
       "<circle clip-path=\"url(#clip532)\" cx=\"1195.91\" cy=\"499.642\" r=\"14.4\" fill=\"#009af9\" fill-rule=\"evenodd\" fill-opacity=\"1\" stroke=\"#000000\" stroke-opacity=\"1\" stroke-width=\"2.4\"/>\n",
       "<circle clip-path=\"url(#clip532)\" cx=\"1228.35\" cy=\"499.642\" r=\"14.4\" fill=\"#009af9\" fill-rule=\"evenodd\" fill-opacity=\"1\" stroke=\"#000000\" stroke-opacity=\"1\" stroke-width=\"2.4\"/>\n",
       "</svg>\n"
      ],
      "image/svg+xml": [
       "<?xml version=\"1.0\" encoding=\"utf-8\"?>\n",
       "<svg xmlns=\"http://www.w3.org/2000/svg\" xmlns:xlink=\"http://www.w3.org/1999/xlink\" width=\"400\" height=\"300\" viewBox=\"0 0 1600 1200\">\n",
       "<defs>\n",
       "  <clipPath id=\"clip480\">\n",
       "    <rect x=\"0\" y=\"0\" width=\"1600\" height=\"1200\"/>\n",
       "  </clipPath>\n",
       "</defs>\n",
       "<path clip-path=\"url(#clip480)\" d=\"\n",
       "M0 1200 L1600 1200 L1600 0 L0 0  Z\n",
       "  \" fill=\"#ffffff\" fill-rule=\"evenodd\" fill-opacity=\"1\"/>\n",
       "<defs>\n",
       "  <clipPath id=\"clip481\">\n",
       "    <rect x=\"320\" y=\"0\" width=\"1121\" height=\"1121\"/>\n",
       "  </clipPath>\n",
       "</defs>\n",
       "<defs>\n",
       "  <clipPath id=\"clip482\">\n",
       "    <rect x=\"326\" y=\"47\" width=\"1040\" height=\"1040\"/>\n",
       "  </clipPath>\n",
       "</defs>\n",
       "<path clip-path=\"url(#clip480)\" d=\"\n",
       "M255.144 856.485 L1552.76 856.485 L1552.76 207.679 L255.144 207.679  Z\n",
       "  \" fill=\"#ffffff\" fill-rule=\"evenodd\" fill-opacity=\"1\"/>\n",
       "<defs>\n",
       "  <clipPath id=\"clip483\">\n",
       "    <rect x=\"255\" y=\"207\" width=\"1299\" height=\"650\"/>\n",
       "  </clipPath>\n",
       "</defs>\n",
       "<polyline clip-path=\"url(#clip480)\" style=\"stroke:#000000; stroke-linecap:round; stroke-linejoin:round; stroke-width:4; stroke-opacity:1; fill:none\" points=\"\n",
       "  255.144,856.485 1552.76,856.485 \n",
       "  \"/>\n",
       "<polyline clip-path=\"url(#clip480)\" style=\"stroke:#000000; stroke-linecap:round; stroke-linejoin:round; stroke-width:4; stroke-opacity:1; fill:none\" points=\"\n",
       "  255.144,856.485 255.144,843.841 \n",
       "  \"/>\n",
       "<polyline clip-path=\"url(#clip480)\" style=\"stroke:#000000; stroke-linecap:round; stroke-linejoin:round; stroke-width:4; stroke-opacity:1; fill:none\" points=\"\n",
       "  579.547,856.485 579.547,843.841 \n",
       "  \"/>\n",
       "<polyline clip-path=\"url(#clip480)\" style=\"stroke:#000000; stroke-linecap:round; stroke-linejoin:round; stroke-width:4; stroke-opacity:1; fill:none\" points=\"\n",
       "  903.95,856.485 903.95,843.841 \n",
       "  \"/>\n",
       "<polyline clip-path=\"url(#clip480)\" style=\"stroke:#000000; stroke-linecap:round; stroke-linejoin:round; stroke-width:4; stroke-opacity:1; fill:none\" points=\"\n",
       "  1228.35,856.485 1228.35,843.841 \n",
       "  \"/>\n",
       "<polyline clip-path=\"url(#clip480)\" style=\"stroke:#000000; stroke-linecap:round; stroke-linejoin:round; stroke-width:4; stroke-opacity:1; fill:none\" points=\"\n",
       "  1552.76,856.485 1552.76,843.841 \n",
       "  \"/>\n",
       "<path clip-path=\"url(#clip480)\" d=\"M225.086 895.656 L254.762 895.656 L254.762 899.591 L225.086 899.591 L225.086 895.656 Z\" fill=\"#000000\" fill-rule=\"evenodd\" fill-opacity=\"1\" /><path clip-path=\"url(#clip480)\" d=\"M268.882 908.55 L285.202 908.55 L285.202 912.485 L263.257 912.485 L263.257 908.55 Q265.919 905.795 270.503 901.166 Q275.109 896.513 276.29 895.17 Q278.535 892.647 279.415 890.911 Q280.318 889.152 280.318 887.462 Q280.318 884.707 278.373 882.971 Q276.452 881.235 273.35 881.235 Q271.151 881.235 268.697 881.999 Q266.267 882.763 263.489 884.314 L263.489 879.592 Q266.313 878.457 268.767 877.879 Q271.22 877.3 273.257 877.3 Q278.628 877.3 281.822 879.985 Q285.017 882.67 285.017 887.161 Q285.017 889.291 284.206 891.212 Q283.419 893.11 281.313 895.703 Q280.734 896.374 277.632 899.591 Q274.53 902.786 268.882 908.55 Z\" fill=\"#000000\" fill-rule=\"evenodd\" fill-opacity=\"1\" /><path clip-path=\"url(#clip480)\" d=\"M549.304 895.656 L578.98 895.656 L578.98 899.591 L549.304 899.591 L549.304 895.656 Z\" fill=\"#000000\" fill-rule=\"evenodd\" fill-opacity=\"1\" /><path clip-path=\"url(#clip480)\" d=\"M589.883 908.55 L597.521 908.55 L597.521 882.184 L589.211 883.851 L589.211 879.592 L597.475 877.925 L602.151 877.925 L602.151 908.55 L609.79 908.55 L609.79 912.485 L589.883 912.485 L589.883 908.55 Z\" fill=\"#000000\" fill-rule=\"evenodd\" fill-opacity=\"1\" /><path clip-path=\"url(#clip480)\" d=\"M903.95 881.004 Q900.339 881.004 898.51 884.568 Q896.705 888.11 896.705 895.24 Q896.705 902.346 898.51 905.911 Q900.339 909.453 903.95 909.453 Q907.584 909.453 909.39 905.911 Q911.218 902.346 911.218 895.24 Q911.218 888.11 909.39 884.568 Q907.584 881.004 903.95 881.004 M903.95 877.3 Q909.76 877.3 912.816 881.906 Q915.894 886.49 915.894 895.24 Q915.894 903.966 912.816 908.573 Q909.76 913.156 903.95 913.156 Q898.14 913.156 895.061 908.573 Q892.006 903.966 892.006 895.24 Q892.006 886.49 895.061 881.906 Q898.14 877.3 903.95 877.3 Z\" fill=\"#000000\" fill-rule=\"evenodd\" fill-opacity=\"1\" /><path clip-path=\"url(#clip480)\" d=\"M1218.73 908.55 L1226.37 908.55 L1226.37 882.184 L1218.06 883.851 L1218.06 879.592 L1226.33 877.925 L1231 877.925 L1231 908.55 L1238.64 908.55 L1238.64 912.485 L1218.73 912.485 L1218.73 908.55 Z\" fill=\"#000000\" fill-rule=\"evenodd\" fill-opacity=\"1\" /><path clip-path=\"url(#clip480)\" d=\"M1547.41 908.55 L1563.73 908.55 L1563.73 912.485 L1541.78 912.485 L1541.78 908.55 Q1544.45 905.795 1549.03 901.166 Q1553.64 896.513 1554.82 895.17 Q1557.06 892.647 1557.94 890.911 Q1558.84 889.152 1558.84 887.462 Q1558.84 884.707 1556.9 882.971 Q1554.98 881.235 1551.88 881.235 Q1549.68 881.235 1547.22 881.999 Q1544.79 882.763 1542.02 884.314 L1542.02 879.592 Q1544.84 878.457 1547.29 877.879 Q1549.75 877.3 1551.78 877.3 Q1557.15 877.3 1560.35 879.985 Q1563.54 882.67 1563.54 887.161 Q1563.54 889.291 1562.73 891.212 Q1561.95 893.11 1559.84 895.703 Q1559.26 896.374 1556.16 899.591 Q1553.06 902.786 1547.41 908.55 Z\" fill=\"#000000\" fill-rule=\"evenodd\" fill-opacity=\"1\" /><path clip-path=\"url(#clip480)\" d=\"M918.125 950.106 Q918.125 951.91 916.998 952.94 Q915.87 953.939 914.582 953.939 Q913.358 953.939 912.714 953.23 Q912.07 952.522 912.07 951.62 Q912.07 950.396 912.972 949.333 Q913.874 948.27 915.226 948.045 Q913.906 947.208 911.941 947.208 Q910.653 947.208 909.526 947.884 Q908.431 948.56 907.755 949.43 Q907.11 950.299 906.531 951.555 Q905.983 952.779 905.758 953.52 Q905.565 954.228 905.404 955.001 L903.149 964.019 Q902.054 968.302 902.054 969.816 Q902.054 971.684 902.956 972.94 Q903.858 974.164 905.661 974.164 Q906.37 974.164 907.175 973.971 Q907.98 973.745 909.011 973.166 Q910.073 972.554 911.007 971.652 Q911.974 970.718 912.908 969.14 Q913.841 967.562 914.453 965.533 Q914.647 964.824 915.291 964.824 Q916.096 964.824 916.096 965.468 Q916.096 966.016 915.645 967.175 Q915.226 968.302 914.292 969.784 Q913.391 971.233 912.199 972.554 Q911.007 973.842 909.236 974.744 Q907.465 975.645 905.532 975.645 Q902.763 975.645 900.927 974.164 Q899.091 972.682 898.415 970.621 Q898.254 970.911 898.028 971.298 Q897.803 971.684 897.127 972.554 Q896.483 973.391 895.742 974.035 Q895.001 974.647 893.842 975.13 Q892.714 975.645 891.491 975.645 Q889.945 975.645 888.56 975.194 Q887.207 974.744 886.241 973.713 Q885.275 972.682 885.275 971.265 Q885.275 969.687 886.338 968.592 Q887.433 967.465 888.914 967.465 Q889.848 967.465 890.589 968.013 Q891.362 968.56 891.362 969.752 Q891.362 971.072 890.46 972.071 Q889.558 973.069 888.27 973.327 Q889.59 974.164 891.555 974.164 Q893.681 974.164 895.355 972.296 Q897.03 970.428 897.835 967.304 Q899.832 959.8 900.605 956.451 Q901.378 953.069 901.378 951.62 Q901.378 950.267 901.024 949.333 Q900.669 948.399 900.057 947.981 Q899.478 947.53 898.93 947.369 Q898.415 947.208 897.835 947.208 Q896.869 947.208 895.774 947.594 Q894.711 947.981 893.423 948.882 Q892.167 949.752 890.975 951.555 Q889.784 953.359 888.979 955.839 Q888.818 956.58 888.109 956.58 Q887.336 956.547 887.336 955.903 Q887.336 955.356 887.755 954.228 Q888.206 953.069 889.107 951.62 Q890.041 950.171 891.233 948.882 Q892.457 947.562 894.228 946.66 Q896.032 945.758 897.964 945.758 Q898.834 945.758 899.671 945.952 Q900.54 946.113 901.571 946.596 Q902.634 947.079 903.568 948.142 Q904.502 949.204 905.081 950.75 Q905.468 950.01 905.983 949.301 Q906.531 948.592 907.368 947.723 Q908.238 946.821 909.429 946.306 Q910.653 945.758 912.006 945.758 Q913.326 945.758 914.614 946.113 Q915.903 946.435 916.998 947.497 Q918.125 948.528 918.125 950.106 Z\" fill=\"#000000\" fill-rule=\"evenodd\" fill-opacity=\"1\" /><polyline clip-path=\"url(#clip480)\" style=\"stroke:#000000; stroke-linecap:round; stroke-linejoin:round; stroke-width:4; stroke-opacity:1; fill:none\" points=\"\n",
       "  255.144,856.485 255.144,207.679 \n",
       "  \"/>\n",
       "<polyline clip-path=\"url(#clip480)\" style=\"stroke:#000000; stroke-linecap:round; stroke-linejoin:round; stroke-width:4; stroke-opacity:1; fill:none\" points=\"\n",
       "  255.144,856.485 274.042,856.485 \n",
       "  \"/>\n",
       "<polyline clip-path=\"url(#clip480)\" style=\"stroke:#000000; stroke-linecap:round; stroke-linejoin:round; stroke-width:4; stroke-opacity:1; fill:none\" points=\"\n",
       "  255.144,694.283 274.042,694.283 \n",
       "  \"/>\n",
       "<polyline clip-path=\"url(#clip480)\" style=\"stroke:#000000; stroke-linecap:round; stroke-linejoin:round; stroke-width:4; stroke-opacity:1; fill:none\" points=\"\n",
       "  255.144,532.082 274.042,532.082 \n",
       "  \"/>\n",
       "<polyline clip-path=\"url(#clip480)\" style=\"stroke:#000000; stroke-linecap:round; stroke-linejoin:round; stroke-width:4; stroke-opacity:1; fill:none\" points=\"\n",
       "  255.144,369.88 274.042,369.88 \n",
       "  \"/>\n",
       "<polyline clip-path=\"url(#clip480)\" style=\"stroke:#000000; stroke-linecap:round; stroke-linejoin:round; stroke-width:4; stroke-opacity:1; fill:none\" points=\"\n",
       "  255.144,207.679 274.042,207.679 \n",
       "  \"/>\n",
       "<path clip-path=\"url(#clip480)\" d=\"M124.2 856.936 L153.876 856.936 L153.876 860.871 L124.2 860.871 L124.2 856.936 Z\" fill=\"#000000\" fill-rule=\"evenodd\" fill-opacity=\"1\" /><path clip-path=\"url(#clip480)\" d=\"M164.779 869.83 L172.417 869.83 L172.417 843.464 L164.107 845.131 L164.107 840.872 L172.371 839.205 L177.047 839.205 L177.047 869.83 L184.686 869.83 L184.686 873.765 L164.779 873.765 L164.779 869.83 Z\" fill=\"#000000\" fill-rule=\"evenodd\" fill-opacity=\"1\" /><path clip-path=\"url(#clip480)\" d=\"M194.13 867.885 L199.015 867.885 L199.015 873.765 L194.13 873.765 L194.13 867.885 Z\" fill=\"#000000\" fill-rule=\"evenodd\" fill-opacity=\"1\" /><path clip-path=\"url(#clip480)\" d=\"M219.2 842.284 Q215.589 842.284 213.76 845.848 Q211.954 849.39 211.954 856.52 Q211.954 863.626 213.76 867.191 Q215.589 870.733 219.2 870.733 Q222.834 870.733 224.639 867.191 Q226.468 863.626 226.468 856.52 Q226.468 849.39 224.639 845.848 Q222.834 842.284 219.2 842.284 M219.2 838.58 Q225.01 838.58 228.065 843.186 Q231.144 847.77 231.144 856.52 Q231.144 865.246 228.065 869.853 Q225.01 874.436 219.2 874.436 Q213.389 874.436 210.311 869.853 Q207.255 865.246 207.255 856.52 Q207.255 847.77 210.311 843.186 Q213.389 838.58 219.2 838.58 Z\" fill=\"#000000\" fill-rule=\"evenodd\" fill-opacity=\"1\" /><path clip-path=\"url(#clip480)\" d=\"M125.196 694.735 L154.871 694.735 L154.871 698.67 L125.196 698.67 L125.196 694.735 Z\" fill=\"#000000\" fill-rule=\"evenodd\" fill-opacity=\"1\" /><path clip-path=\"url(#clip480)\" d=\"M174.964 680.082 Q171.353 680.082 169.524 683.647 Q167.718 687.189 167.718 694.318 Q167.718 701.425 169.524 704.989 Q171.353 708.531 174.964 708.531 Q178.598 708.531 180.404 704.989 Q182.232 701.425 182.232 694.318 Q182.232 687.189 180.404 683.647 Q178.598 680.082 174.964 680.082 M174.964 676.378 Q180.774 676.378 183.829 680.985 Q186.908 685.568 186.908 694.318 Q186.908 703.045 183.829 707.651 Q180.774 712.235 174.964 712.235 Q169.154 712.235 166.075 707.651 Q163.019 703.045 163.019 694.318 Q163.019 685.568 166.075 680.985 Q169.154 676.378 174.964 676.378 Z\" fill=\"#000000\" fill-rule=\"evenodd\" fill-opacity=\"1\" /><path clip-path=\"url(#clip480)\" d=\"M195.126 705.684 L200.01 705.684 L200.01 711.563 L195.126 711.563 L195.126 705.684 Z\" fill=\"#000000\" fill-rule=\"evenodd\" fill-opacity=\"1\" /><path clip-path=\"url(#clip480)\" d=\"M210.241 677.003 L228.598 677.003 L228.598 680.939 L214.524 680.939 L214.524 689.411 Q215.542 689.064 216.561 688.902 Q217.579 688.716 218.598 688.716 Q224.385 688.716 227.764 691.888 Q231.144 695.059 231.144 700.476 Q231.144 706.054 227.672 709.156 Q224.2 712.235 217.88 712.235 Q215.704 712.235 213.436 711.864 Q211.19 711.494 208.783 710.753 L208.783 706.054 Q210.866 707.188 213.089 707.744 Q215.311 708.3 217.788 708.3 Q221.792 708.3 224.13 706.193 Q226.468 704.087 226.468 700.476 Q226.468 696.864 224.13 694.758 Q221.792 692.652 217.788 692.652 Q215.913 692.652 214.038 693.068 Q212.186 693.485 210.241 694.364 L210.241 677.003 Z\" fill=\"#000000\" fill-rule=\"evenodd\" fill-opacity=\"1\" /><path clip-path=\"url(#clip480)\" d=\"M173.968 517.881 Q170.357 517.881 168.529 521.445 Q166.723 524.987 166.723 532.117 Q166.723 539.223 168.529 542.788 Q170.357 546.33 173.968 546.33 Q177.603 546.33 179.408 542.788 Q181.237 539.223 181.237 532.117 Q181.237 524.987 179.408 521.445 Q177.603 517.881 173.968 517.881 M173.968 514.177 Q179.779 514.177 182.834 518.783 Q185.913 523.367 185.913 532.117 Q185.913 540.843 182.834 545.45 Q179.779 550.033 173.968 550.033 Q168.158 550.033 165.08 545.45 Q162.024 540.843 162.024 532.117 Q162.024 523.367 165.08 518.783 Q168.158 514.177 173.968 514.177 Z\" fill=\"#000000\" fill-rule=\"evenodd\" fill-opacity=\"1\" /><path clip-path=\"url(#clip480)\" d=\"M194.13 543.482 L199.015 543.482 L199.015 549.362 L194.13 549.362 L194.13 543.482 Z\" fill=\"#000000\" fill-rule=\"evenodd\" fill-opacity=\"1\" /><path clip-path=\"url(#clip480)\" d=\"M219.2 517.881 Q215.589 517.881 213.76 521.445 Q211.954 524.987 211.954 532.117 Q211.954 539.223 213.76 542.788 Q215.589 546.33 219.2 546.33 Q222.834 546.33 224.639 542.788 Q226.468 539.223 226.468 532.117 Q226.468 524.987 224.639 521.445 Q222.834 517.881 219.2 517.881 M219.2 514.177 Q225.01 514.177 228.065 518.783 Q231.144 523.367 231.144 532.117 Q231.144 540.843 228.065 545.45 Q225.01 550.033 219.2 550.033 Q213.389 550.033 210.311 545.45 Q207.255 540.843 207.255 532.117 Q207.255 523.367 210.311 518.783 Q213.389 514.177 219.2 514.177 Z\" fill=\"#000000\" fill-rule=\"evenodd\" fill-opacity=\"1\" /><path clip-path=\"url(#clip480)\" d=\"M174.964 355.679 Q171.353 355.679 169.524 359.244 Q167.718 362.786 167.718 369.915 Q167.718 377.022 169.524 380.586 Q171.353 384.128 174.964 384.128 Q178.598 384.128 180.404 380.586 Q182.232 377.022 182.232 369.915 Q182.232 362.786 180.404 359.244 Q178.598 355.679 174.964 355.679 M174.964 351.975 Q180.774 351.975 183.829 356.582 Q186.908 361.165 186.908 369.915 Q186.908 378.642 183.829 383.248 Q180.774 387.832 174.964 387.832 Q169.154 387.832 166.075 383.248 Q163.019 378.642 163.019 369.915 Q163.019 361.165 166.075 356.582 Q169.154 351.975 174.964 351.975 Z\" fill=\"#000000\" fill-rule=\"evenodd\" fill-opacity=\"1\" /><path clip-path=\"url(#clip480)\" d=\"M195.126 381.281 L200.01 381.281 L200.01 387.16 L195.126 387.16 L195.126 381.281 Z\" fill=\"#000000\" fill-rule=\"evenodd\" fill-opacity=\"1\" /><path clip-path=\"url(#clip480)\" d=\"M210.241 352.6 L228.598 352.6 L228.598 356.536 L214.524 356.536 L214.524 365.008 Q215.542 364.661 216.561 364.499 Q217.579 364.313 218.598 364.313 Q224.385 364.313 227.764 367.485 Q231.144 370.656 231.144 376.073 Q231.144 381.651 227.672 384.753 Q224.2 387.832 217.88 387.832 Q215.704 387.832 213.436 387.461 Q211.19 387.091 208.783 386.35 L208.783 381.651 Q210.866 382.786 213.089 383.341 Q215.311 383.897 217.788 383.897 Q221.792 383.897 224.13 381.79 Q226.468 379.684 226.468 376.073 Q226.468 372.461 224.13 370.355 Q221.792 368.249 217.788 368.249 Q215.913 368.249 214.038 368.665 Q212.186 369.082 210.241 369.962 L210.241 352.6 Z\" fill=\"#000000\" fill-rule=\"evenodd\" fill-opacity=\"1\" /><path clip-path=\"url(#clip480)\" d=\"M164.779 221.024 L172.417 221.024 L172.417 194.658 L164.107 196.325 L164.107 192.066 L172.371 190.399 L177.047 190.399 L177.047 221.024 L184.686 221.024 L184.686 224.959 L164.779 224.959 L164.779 221.024 Z\" fill=\"#000000\" fill-rule=\"evenodd\" fill-opacity=\"1\" /><path clip-path=\"url(#clip480)\" d=\"M194.13 219.079 L199.015 219.079 L199.015 224.959 L194.13 224.959 L194.13 219.079 Z\" fill=\"#000000\" fill-rule=\"evenodd\" fill-opacity=\"1\" /><path clip-path=\"url(#clip480)\" d=\"M219.2 193.478 Q215.589 193.478 213.76 197.042 Q211.954 200.584 211.954 207.714 Q211.954 214.82 213.76 218.385 Q215.589 221.927 219.2 221.927 Q222.834 221.927 224.639 218.385 Q226.468 214.82 226.468 207.714 Q226.468 200.584 224.639 197.042 Q222.834 193.478 219.2 193.478 M219.2 189.774 Q225.01 189.774 228.065 194.38 Q231.144 198.964 231.144 207.714 Q231.144 216.441 228.065 221.047 Q225.01 225.63 219.2 225.63 Q213.389 225.63 210.311 221.047 Q207.255 216.441 207.255 207.714 Q207.255 198.964 210.311 194.38 Q213.389 189.774 219.2 189.774 Z\" fill=\"#000000\" fill-rule=\"evenodd\" fill-opacity=\"1\" /><path clip-path=\"url(#clip480)\" d=\"M52.7883 517.643 Q53.2392 517.643 54.302 517.933 L79.4869 524.245 Q85.0908 525.63 89.0199 530.139 Q92.949 534.616 92.949 539.704 Q92.949 542.764 91.3065 544.728 Q89.6962 546.693 87.2164 546.693 Q85.0264 546.693 83.9636 545.534 Q82.933 544.374 82.933 542.989 Q82.933 542.538 83.0618 542.055 Q83.1906 541.572 83.7381 541.057 Q84.2856 540.542 85.2196 540.542 Q86.7333 540.542 87.9249 541.862 Q88.4724 542.506 88.6012 543.118 Q88.73 543.698 88.73 544.696 Q89.6318 544.31 90.2437 543.601 Q90.8556 542.893 91.0811 542.087 Q91.3387 541.282 91.4031 540.767 Q91.4997 540.22 91.4997 539.704 Q91.4997 535.582 87.3452 532.426 Q86.0891 531.492 84.8331 530.815 Q83.6093 530.107 82.0956 529.592 Q80.6141 529.076 79.809 528.851 Q79.0039 528.593 77.1681 528.142 Q80.1633 531.138 80.1633 534.809 Q80.1633 536.355 79.7446 537.74 Q79.3259 539.092 78.4564 540.284 Q77.5546 541.476 75.9765 542.184 Q74.3984 542.86 72.305 542.86 Q70.0828 542.86 67.0555 541.991 Q64.0281 541.121 58.4565 539.028 Q55.3325 537.901 53.8189 537.901 Q53.0781 537.901 52.6273 538.062 Q52.1442 538.223 51.9831 538.545 Q51.7899 538.867 51.7577 539.06 Q51.7255 539.221 51.7255 539.543 Q51.7255 541.443 53.6578 543.215 Q55.5902 544.986 59.9058 546.21 Q60.7109 546.467 60.9042 546.629 Q61.0974 546.79 61.0974 547.273 Q61.0652 548.078 60.4211 548.078 Q60.1634 548.078 59.165 547.788 Q58.1345 547.498 56.6208 546.822 Q55.0749 546.113 53.69 545.147 Q52.273 544.181 51.2746 542.667 Q50.2762 541.121 50.2762 539.35 Q50.2762 536.935 51.8543 535.453 Q53.4002 533.939 55.6868 533.939 Q56.6208 533.939 57.4581 534.197 Q58.2633 534.423 60.4211 535.26 Q69.1167 538.641 73.3678 538.641 Q74.3984 538.641 75.268 538.48 Q76.1053 538.287 76.9427 537.869 Q77.7478 537.45 78.2309 536.613 Q78.6818 535.743 78.6818 534.551 Q78.6818 533.038 77.9733 531.621 Q77.2325 530.171 76.2342 529.27 Q75.2358 528.336 74.3984 527.788 Q73.5289 527.208 73.078 527.08 L61.2262 524.117 L55.9445 522.796 Q53.0781 522.184 52.3696 521.894 Q51.6933 521.508 51.339 520.832 Q50.9848 520.155 50.9848 519.576 Q50.9848 518.77 51.4678 518.223 Q51.9509 517.643 52.7883 517.643 Z\" fill=\"#000000\" fill-rule=\"evenodd\" fill-opacity=\"1\" /><circle clip-path=\"url(#clip483)\" cx=\"579.547\" cy=\"499.642\" r=\"14.4\" fill=\"#009af9\" fill-rule=\"evenodd\" fill-opacity=\"1\" stroke=\"#000000\" stroke-opacity=\"1\" stroke-width=\"2.4\"/>\n",
       "<circle clip-path=\"url(#clip483)\" cx=\"611.987\" cy=\"499.642\" r=\"14.4\" fill=\"#009af9\" fill-rule=\"evenodd\" fill-opacity=\"1\" stroke=\"#000000\" stroke-opacity=\"1\" stroke-width=\"2.4\"/>\n",
       "<circle clip-path=\"url(#clip483)\" cx=\"644.428\" cy=\"499.642\" r=\"14.4\" fill=\"#009af9\" fill-rule=\"evenodd\" fill-opacity=\"1\" stroke=\"#000000\" stroke-opacity=\"1\" stroke-width=\"2.4\"/>\n",
       "<circle clip-path=\"url(#clip483)\" cx=\"676.868\" cy=\"499.642\" r=\"14.4\" fill=\"#009af9\" fill-rule=\"evenodd\" fill-opacity=\"1\" stroke=\"#000000\" stroke-opacity=\"1\" stroke-width=\"2.4\"/>\n",
       "<circle clip-path=\"url(#clip483)\" cx=\"709.308\" cy=\"499.642\" r=\"14.4\" fill=\"#009af9\" fill-rule=\"evenodd\" fill-opacity=\"1\" stroke=\"#000000\" stroke-opacity=\"1\" stroke-width=\"2.4\"/>\n",
       "<circle clip-path=\"url(#clip483)\" cx=\"741.748\" cy=\"499.642\" r=\"14.4\" fill=\"#009af9\" fill-rule=\"evenodd\" fill-opacity=\"1\" stroke=\"#000000\" stroke-opacity=\"1\" stroke-width=\"2.4\"/>\n",
       "<circle clip-path=\"url(#clip483)\" cx=\"774.189\" cy=\"499.642\" r=\"14.4\" fill=\"#009af9\" fill-rule=\"evenodd\" fill-opacity=\"1\" stroke=\"#000000\" stroke-opacity=\"1\" stroke-width=\"2.4\"/>\n",
       "<circle clip-path=\"url(#clip483)\" cx=\"806.629\" cy=\"499.642\" r=\"14.4\" fill=\"#009af9\" fill-rule=\"evenodd\" fill-opacity=\"1\" stroke=\"#000000\" stroke-opacity=\"1\" stroke-width=\"2.4\"/>\n",
       "<circle clip-path=\"url(#clip483)\" cx=\"839.069\" cy=\"499.642\" r=\"14.4\" fill=\"#009af9\" fill-rule=\"evenodd\" fill-opacity=\"1\" stroke=\"#000000\" stroke-opacity=\"1\" stroke-width=\"2.4\"/>\n",
       "<circle clip-path=\"url(#clip483)\" cx=\"871.51\" cy=\"499.642\" r=\"14.4\" fill=\"#009af9\" fill-rule=\"evenodd\" fill-opacity=\"1\" stroke=\"#000000\" stroke-opacity=\"1\" stroke-width=\"2.4\"/>\n",
       "<circle clip-path=\"url(#clip483)\" cx=\"903.95\" cy=\"499.642\" r=\"14.4\" fill=\"#009af9\" fill-rule=\"evenodd\" fill-opacity=\"1\" stroke=\"#000000\" stroke-opacity=\"1\" stroke-width=\"2.4\"/>\n",
       "<circle clip-path=\"url(#clip483)\" cx=\"936.39\" cy=\"499.642\" r=\"14.4\" fill=\"#009af9\" fill-rule=\"evenodd\" fill-opacity=\"1\" stroke=\"#000000\" stroke-opacity=\"1\" stroke-width=\"2.4\"/>\n",
       "<circle clip-path=\"url(#clip483)\" cx=\"968.831\" cy=\"499.642\" r=\"14.4\" fill=\"#009af9\" fill-rule=\"evenodd\" fill-opacity=\"1\" stroke=\"#000000\" stroke-opacity=\"1\" stroke-width=\"2.4\"/>\n",
       "<circle clip-path=\"url(#clip483)\" cx=\"1001.27\" cy=\"499.642\" r=\"14.4\" fill=\"#009af9\" fill-rule=\"evenodd\" fill-opacity=\"1\" stroke=\"#000000\" stroke-opacity=\"1\" stroke-width=\"2.4\"/>\n",
       "<circle clip-path=\"url(#clip483)\" cx=\"1033.71\" cy=\"499.642\" r=\"14.4\" fill=\"#009af9\" fill-rule=\"evenodd\" fill-opacity=\"1\" stroke=\"#000000\" stroke-opacity=\"1\" stroke-width=\"2.4\"/>\n",
       "<circle clip-path=\"url(#clip483)\" cx=\"1066.15\" cy=\"499.642\" r=\"14.4\" fill=\"#009af9\" fill-rule=\"evenodd\" fill-opacity=\"1\" stroke=\"#000000\" stroke-opacity=\"1\" stroke-width=\"2.4\"/>\n",
       "<circle clip-path=\"url(#clip483)\" cx=\"1098.59\" cy=\"499.642\" r=\"14.4\" fill=\"#009af9\" fill-rule=\"evenodd\" fill-opacity=\"1\" stroke=\"#000000\" stroke-opacity=\"1\" stroke-width=\"2.4\"/>\n",
       "<circle clip-path=\"url(#clip483)\" cx=\"1131.03\" cy=\"499.642\" r=\"14.4\" fill=\"#009af9\" fill-rule=\"evenodd\" fill-opacity=\"1\" stroke=\"#000000\" stroke-opacity=\"1\" stroke-width=\"2.4\"/>\n",
       "<circle clip-path=\"url(#clip483)\" cx=\"1163.47\" cy=\"499.642\" r=\"14.4\" fill=\"#009af9\" fill-rule=\"evenodd\" fill-opacity=\"1\" stroke=\"#000000\" stroke-opacity=\"1\" stroke-width=\"2.4\"/>\n",
       "<circle clip-path=\"url(#clip483)\" cx=\"1195.91\" cy=\"499.642\" r=\"14.4\" fill=\"#009af9\" fill-rule=\"evenodd\" fill-opacity=\"1\" stroke=\"#000000\" stroke-opacity=\"1\" stroke-width=\"2.4\"/>\n",
       "<circle clip-path=\"url(#clip483)\" cx=\"1228.35\" cy=\"499.642\" r=\"14.4\" fill=\"#009af9\" fill-rule=\"evenodd\" fill-opacity=\"1\" stroke=\"#000000\" stroke-opacity=\"1\" stroke-width=\"2.4\"/>\n",
       "</svg>\n"
      ]
     },
     "metadata": {},
     "execution_count": 8
    }
   ],
   "cell_type": "code",
   "source": [
    "scatter(real.(z),imag.(z),ratio=1,xlim=(-2,2),ylim=(-1,1),legend=false,xlabel=L\"x\",ylabel=L\"y\")"
   ],
   "metadata": {},
   "execution_count": 8
  },
  {
   "cell_type": "markdown",
   "source": [
    "Suppose we want points on a circle. That's easy to do in the polar form,\n",
    "$z = a \\mathrm{e}^{\\mathrm{i}\\theta}$, where $a$ is the radius of the circle, and $\\theta$\n",
    "varies from 0 to $2\\pi$.\n",
    "Set the radius of the circle"
   ],
   "metadata": {}
  },
  {
   "outputs": [
    {
     "output_type": "execute_result",
     "data": {
      "text/plain": "0.5"
     },
     "metadata": {},
     "execution_count": 9
    }
   ],
   "cell_type": "code",
   "source": [
    "a = 0.5"
   ],
   "metadata": {},
   "execution_count": 9
  },
  {
   "cell_type": "markdown",
   "source": [
    "Set a range of angles between 0 and 2π"
   ],
   "metadata": {}
  },
  {
   "outputs": [
    {
     "output_type": "execute_result",
     "data": {
      "text/plain": "0.0:0.1282282715750936:6.283185307179586"
     },
     "metadata": {},
     "execution_count": 10
    }
   ],
   "cell_type": "code",
   "source": [
    "θ = range(0,2π,length=50)"
   ],
   "metadata": {},
   "execution_count": 10
  },
  {
   "cell_type": "markdown",
   "source": [
    "And finally, create the coordinates of all of the points on the circle:"
   ],
   "metadata": {}
  },
  {
   "outputs": [
    {
     "output_type": "execute_result",
     "data": {
      "text/plain": "50-element Vector{ComplexF64}:\n                 0.5 + 0.0im\n  0.4958950069116231 + 0.063938580842253im\n  0.4836474315195147 + 0.12682729195475367im\n  0.4634583786730109 + 0.18763350243968704im\n  0.4356593520616947 + 0.24535877600196893im\n 0.40070681093397836 + 0.29905526524560794im\n  0.3591746750488638 + 0.3478412753017432im\n  0.3117449009293668 + 0.3909157412340149im\n  0.2591962841552626 + 0.42757138150267304im\n 0.20239167156119697 + 0.4572063115079062im\n                     ⋮\n 0.25919628415526225 - 0.4275713815026732im\n  0.3117449009293667 - 0.39091574123401496im\n  0.3591746750488635 - 0.34784127530174347im\n  0.4007068109339782 - 0.2990552652456081im\n  0.4356593520616945 - 0.24535877600196931im\n  0.4634583786730108 - 0.1876335024396873im\n 0.48364743151951456 - 0.12682729195475417im\n   0.495895006911623 - 0.06393858084225332im\n                 0.5 - 1.2246467991473532e-16im"
     },
     "metadata": {},
     "execution_count": 11
    }
   ],
   "cell_type": "code",
   "source": [
    "z = a*exp.(im*θ)"
   ],
   "metadata": {},
   "execution_count": 11
  },
  {
   "cell_type": "markdown",
   "source": [
    "The last element of z is identical to the first one, so we can get rid of the redundant one\n",
    "with the following:"
   ],
   "metadata": {}
  },
  {
   "outputs": [],
   "cell_type": "code",
   "source": [
    "pop!(z);"
   ],
   "metadata": {},
   "execution_count": 12
  },
  {
   "cell_type": "markdown",
   "source": [
    "Let us plot these points to check. The `ratio=1` argument makes sure that we get equal\n",
    "dimensions of the axes. So a circle looks like a circle rather than a squashed circle"
   ],
   "metadata": {}
  },
  {
   "outputs": [
    {
     "output_type": "execute_result",
     "data": {
      "text/plain": "Plot{Plots.GRBackend() n=1}",
      "image/png": "[encoded data removed]",
      "text/html": [
       "<?xml version=\"1.0\" encoding=\"utf-8\"?>\n",
       "<svg xmlns=\"http://www.w3.org/2000/svg\" xmlns:xlink=\"http://www.w3.org/1999/xlink\" width=\"400\" height=\"300\" viewBox=\"0 0 1600 1200\">\n",
       "<defs>\n",
       "  <clipPath id=\"clip620\">\n",
       "    <rect x=\"0\" y=\"0\" width=\"1600\" height=\"1200\"/>\n",
       "  </clipPath>\n",
       "</defs>\n",
       "<path clip-path=\"url(#clip620)\" d=\"\n",
       "M0 1200 L1600 1200 L1600 0 L0 0  Z\n",
       "  \" fill=\"#ffffff\" fill-rule=\"evenodd\" fill-opacity=\"1\"/>\n",
       "<defs>\n",
       "  <clipPath id=\"clip621\">\n",
       "    <rect x=\"320\" y=\"0\" width=\"1121\" height=\"1121\"/>\n",
       "  </clipPath>\n",
       "</defs>\n",
       "<defs>\n",
       "  <clipPath id=\"clip622\">\n",
       "    <rect x=\"395\" y=\"47\" width=\"971\" height=\"971\"/>\n",
       "  </clipPath>\n",
       "</defs>\n",
       "<path clip-path=\"url(#clip620)\" d=\"\n",
       "M395.883 1016.92 L1365.56 1016.92 L1365.56 47.2441 L395.883 47.2441  Z\n",
       "  \" fill=\"#ffffff\" fill-rule=\"evenodd\" fill-opacity=\"1\"/>\n",
       "<polyline clip-path=\"url(#clip620)\" style=\"stroke:#000000; stroke-linecap:round; stroke-linejoin:round; stroke-width:4; stroke-opacity:1; fill:none\" points=\"\n",
       "  395.883,1016.92 1365.56,1016.92 \n",
       "  \"/>\n",
       "<polyline clip-path=\"url(#clip620)\" style=\"stroke:#000000; stroke-linecap:round; stroke-linejoin:round; stroke-width:4; stroke-opacity:1; fill:none\" points=\"\n",
       "  395.883,1016.92 395.883,998.022 \n",
       "  \"/>\n",
       "<polyline clip-path=\"url(#clip620)\" style=\"stroke:#000000; stroke-linecap:round; stroke-linejoin:round; stroke-width:4; stroke-opacity:1; fill:none\" points=\"\n",
       "  638.302,1016.92 638.302,998.022 \n",
       "  \"/>\n",
       "<polyline clip-path=\"url(#clip620)\" style=\"stroke:#000000; stroke-linecap:round; stroke-linejoin:round; stroke-width:4; stroke-opacity:1; fill:none\" points=\"\n",
       "  880.721,1016.92 880.721,998.022 \n",
       "  \"/>\n",
       "<polyline clip-path=\"url(#clip620)\" style=\"stroke:#000000; stroke-linecap:round; stroke-linejoin:round; stroke-width:4; stroke-opacity:1; fill:none\" points=\"\n",
       "  1123.14,1016.92 1123.14,998.022 \n",
       "  \"/>\n",
       "<polyline clip-path=\"url(#clip620)\" style=\"stroke:#000000; stroke-linecap:round; stroke-linejoin:round; stroke-width:4; stroke-opacity:1; fill:none\" points=\"\n",
       "  1365.56,1016.92 1365.56,998.022 \n",
       "  \"/>\n",
       "<path clip-path=\"url(#clip620)\" d=\"M365.825 1056.09 L395.501 1056.09 L395.501 1060.03 L365.825 1060.03 L365.825 1056.09 Z\" fill=\"#000000\" fill-rule=\"evenodd\" fill-opacity=\"1\" /><path clip-path=\"url(#clip620)\" d=\"M409.621 1068.98 L425.941 1068.98 L425.941 1072.92 L403.996 1072.92 L403.996 1068.98 Q406.658 1066.23 411.242 1061.6 Q415.848 1056.95 417.029 1055.61 Q419.274 1053.08 420.154 1051.35 Q421.057 1049.59 421.057 1047.9 Q421.057 1045.14 419.112 1043.41 Q417.191 1041.67 414.089 1041.67 Q411.89 1041.67 409.436 1042.43 Q407.006 1043.2 404.228 1044.75 L404.228 1040.03 Q407.052 1038.89 409.506 1038.31 Q411.959 1037.73 413.996 1037.73 Q419.367 1037.73 422.561 1040.42 Q425.756 1043.11 425.756 1047.6 Q425.756 1049.73 424.945 1051.65 Q424.158 1053.54 422.052 1056.14 Q421.473 1056.81 418.371 1060.03 Q415.27 1063.22 409.621 1068.98 Z\" fill=\"#000000\" fill-rule=\"evenodd\" fill-opacity=\"1\" /><path clip-path=\"url(#clip620)\" d=\"M608.059 1056.09 L637.735 1056.09 L637.735 1060.03 L608.059 1060.03 L608.059 1056.09 Z\" fill=\"#000000\" fill-rule=\"evenodd\" fill-opacity=\"1\" /><path clip-path=\"url(#clip620)\" d=\"M648.638 1068.98 L656.276 1068.98 L656.276 1042.62 L647.966 1044.29 L647.966 1040.03 L656.23 1038.36 L660.906 1038.36 L660.906 1068.98 L668.545 1068.98 L668.545 1072.92 L648.638 1072.92 L648.638 1068.98 Z\" fill=\"#000000\" fill-rule=\"evenodd\" fill-opacity=\"1\" /><path clip-path=\"url(#clip620)\" d=\"M880.721 1041.44 Q877.11 1041.44 875.281 1045 Q873.476 1048.54 873.476 1055.67 Q873.476 1062.78 875.281 1066.35 Q877.11 1069.89 880.721 1069.89 Q884.355 1069.89 886.161 1066.35 Q887.989 1062.78 887.989 1055.67 Q887.989 1048.54 886.161 1045 Q884.355 1041.44 880.721 1041.44 M880.721 1037.73 Q886.531 1037.73 889.587 1042.34 Q892.665 1046.92 892.665 1055.67 Q892.665 1064.4 889.587 1069.01 Q886.531 1073.59 880.721 1073.59 Q874.911 1073.59 871.832 1069.01 Q868.777 1064.4 868.777 1055.67 Q868.777 1046.92 871.832 1042.34 Q874.911 1037.73 880.721 1037.73 Z\" fill=\"#000000\" fill-rule=\"evenodd\" fill-opacity=\"1\" /><path clip-path=\"url(#clip620)\" d=\"M1113.52 1068.98 L1121.16 1068.98 L1121.16 1042.62 L1112.85 1044.29 L1112.85 1040.03 L1121.11 1038.36 L1125.79 1038.36 L1125.79 1068.98 L1133.43 1068.98 L1133.43 1072.92 L1113.52 1072.92 L1113.52 1068.98 Z\" fill=\"#000000\" fill-rule=\"evenodd\" fill-opacity=\"1\" /><path clip-path=\"url(#clip620)\" d=\"M1360.21 1068.98 L1376.53 1068.98 L1376.53 1072.92 L1354.59 1072.92 L1354.59 1068.98 Q1357.25 1066.23 1361.83 1061.6 Q1366.44 1056.95 1367.62 1055.61 Q1369.86 1053.08 1370.74 1051.35 Q1371.65 1049.59 1371.65 1047.9 Q1371.65 1045.14 1369.7 1043.41 Q1367.78 1041.67 1364.68 1041.67 Q1362.48 1041.67 1360.03 1042.43 Q1357.6 1043.2 1354.82 1044.75 L1354.82 1040.03 Q1357.64 1038.89 1360.1 1038.31 Q1362.55 1037.73 1364.59 1037.73 Q1369.96 1037.73 1373.15 1040.42 Q1376.35 1043.11 1376.35 1047.6 Q1376.35 1049.73 1375.54 1051.65 Q1374.75 1053.54 1372.64 1056.14 Q1372.06 1056.81 1368.96 1060.03 Q1365.86 1063.22 1360.21 1068.98 Z\" fill=\"#000000\" fill-rule=\"evenodd\" fill-opacity=\"1\" /><path clip-path=\"url(#clip620)\" d=\"M894.896 1110.54 Q894.896 1112.34 893.769 1113.38 Q892.641 1114.37 891.353 1114.37 Q890.129 1114.37 889.485 1113.67 Q888.841 1112.96 888.841 1112.05 Q888.841 1110.83 889.743 1109.77 Q890.645 1108.71 891.997 1108.48 Q890.677 1107.64 888.712 1107.64 Q887.424 1107.64 886.297 1108.32 Q885.202 1109 884.526 1109.86 Q883.881 1110.73 883.302 1111.99 Q882.754 1113.21 882.529 1113.95 Q882.336 1114.66 882.175 1115.44 L879.92 1124.45 Q878.825 1128.74 878.825 1130.25 Q878.825 1132.12 879.727 1133.37 Q880.629 1134.6 882.432 1134.6 Q883.141 1134.6 883.946 1134.41 Q884.751 1134.18 885.782 1133.6 Q886.844 1132.99 887.778 1132.09 Q888.745 1131.15 889.678 1129.57 Q890.612 1128 891.224 1125.97 Q891.418 1125.26 892.062 1125.26 Q892.867 1125.26 892.867 1125.9 Q892.867 1126.45 892.416 1127.61 Q891.997 1128.74 891.063 1130.22 Q890.162 1131.67 888.97 1132.99 Q887.778 1134.28 886.007 1135.18 Q884.236 1136.08 882.303 1136.08 Q879.534 1136.08 877.698 1134.6 Q875.862 1133.12 875.186 1131.06 Q875.025 1131.35 874.799 1131.73 Q874.574 1132.12 873.898 1132.99 Q873.253 1133.83 872.513 1134.47 Q871.772 1135.08 870.613 1135.56 Q869.485 1136.08 868.262 1136.08 Q866.716 1136.08 865.331 1135.63 Q863.978 1135.18 863.012 1134.15 Q862.046 1133.12 862.046 1131.7 Q862.046 1130.12 863.109 1129.03 Q864.204 1127.9 865.685 1127.9 Q866.619 1127.9 867.36 1128.45 Q868.133 1128.99 868.133 1130.19 Q868.133 1131.51 867.231 1132.51 Q866.329 1133.5 865.041 1133.76 Q866.361 1134.6 868.326 1134.6 Q870.452 1134.6 872.126 1132.73 Q873.801 1130.86 874.606 1127.74 Q876.603 1120.24 877.376 1116.89 Q878.149 1113.5 878.149 1112.05 Q878.149 1110.7 877.795 1109.77 Q877.44 1108.83 876.828 1108.42 Q876.249 1107.96 875.701 1107.8 Q875.186 1107.64 874.606 1107.64 Q873.64 1107.64 872.545 1108.03 Q871.482 1108.42 870.194 1109.32 Q868.938 1110.19 867.746 1111.99 Q866.555 1113.79 865.75 1116.27 Q865.588 1117.01 864.88 1117.01 Q864.107 1116.98 864.107 1116.34 Q864.107 1115.79 864.526 1114.66 Q864.977 1113.5 865.878 1112.05 Q866.812 1110.61 868.004 1109.32 Q869.228 1108 870.999 1107.1 Q872.803 1106.19 874.735 1106.19 Q875.605 1106.19 876.442 1106.39 Q877.311 1106.55 878.342 1107.03 Q879.405 1107.51 880.339 1108.58 Q881.273 1109.64 881.852 1111.19 Q882.239 1110.44 882.754 1109.74 Q883.302 1109.03 884.139 1108.16 Q885.009 1107.26 886.2 1106.74 Q887.424 1106.19 888.777 1106.19 Q890.097 1106.19 891.385 1106.55 Q892.674 1106.87 893.769 1107.93 Q894.896 1108.96 894.896 1110.54 Z\" fill=\"#000000\" fill-rule=\"evenodd\" fill-opacity=\"1\" /><polyline clip-path=\"url(#clip620)\" style=\"stroke:#000000; stroke-linecap:round; stroke-linejoin:round; stroke-width:4; stroke-opacity:1; fill:none\" points=\"\n",
       "  395.883,1016.92 395.883,47.2441 \n",
       "  \"/>\n",
       "<polyline clip-path=\"url(#clip620)\" style=\"stroke:#000000; stroke-linecap:round; stroke-linejoin:round; stroke-width:4; stroke-opacity:1; fill:none\" points=\"\n",
       "  395.883,1016.92 409.517,1016.92 \n",
       "  \"/>\n",
       "<polyline clip-path=\"url(#clip620)\" style=\"stroke:#000000; stroke-linecap:round; stroke-linejoin:round; stroke-width:4; stroke-opacity:1; fill:none\" points=\"\n",
       "  395.883,774.501 409.517,774.501 \n",
       "  \"/>\n",
       "<polyline clip-path=\"url(#clip620)\" style=\"stroke:#000000; stroke-linecap:round; stroke-linejoin:round; stroke-width:4; stroke-opacity:1; fill:none\" points=\"\n",
       "  395.883,532.082 409.517,532.082 \n",
       "  \"/>\n",
       "<polyline clip-path=\"url(#clip620)\" style=\"stroke:#000000; stroke-linecap:round; stroke-linejoin:round; stroke-width:4; stroke-opacity:1; fill:none\" points=\"\n",
       "  395.883,289.663 409.517,289.663 \n",
       "  \"/>\n",
       "<polyline clip-path=\"url(#clip620)\" style=\"stroke:#000000; stroke-linecap:round; stroke-linejoin:round; stroke-width:4; stroke-opacity:1; fill:none\" points=\"\n",
       "  395.883,47.2441 409.517,47.2441 \n",
       "  \"/>\n",
       "<path clip-path=\"url(#clip620)\" d=\"M311.768 1017.37 L341.443 1017.37 L341.443 1021.31 L311.768 1021.31 L311.768 1017.37 Z\" fill=\"#000000\" fill-rule=\"evenodd\" fill-opacity=\"1\" /><path clip-path=\"url(#clip620)\" d=\"M355.564 1030.26 L371.883 1030.26 L371.883 1034.2 L349.939 1034.2 L349.939 1030.26 Q352.601 1027.51 357.184 1022.88 Q361.791 1018.23 362.971 1016.89 Q365.216 1014.36 366.096 1012.63 Q366.999 1010.87 366.999 1009.18 Q366.999 1006.42 365.054 1004.69 Q363.133 1002.95 360.031 1002.95 Q357.832 1002.95 355.379 1003.71 Q352.948 1004.48 350.17 1006.03 L350.17 1001.31 Q352.994 1000.17 355.448 999.594 Q357.902 999.015 359.939 999.015 Q365.309 999.015 368.503 1001.7 Q371.698 1004.39 371.698 1008.88 Q371.698 1011.01 370.888 1012.93 Q370.101 1014.82 367.994 1017.42 Q367.415 1018.09 364.314 1021.31 Q361.212 1024.5 355.564 1030.26 Z\" fill=\"#000000\" fill-rule=\"evenodd\" fill-opacity=\"1\" /><path clip-path=\"url(#clip620)\" d=\"M311.397 774.952 L341.073 774.952 L341.073 778.887 L311.397 778.887 L311.397 774.952 Z\" fill=\"#000000\" fill-rule=\"evenodd\" fill-opacity=\"1\" /><path clip-path=\"url(#clip620)\" d=\"M351.976 787.846 L359.615 787.846 L359.615 761.48 L351.304 763.147 L351.304 758.888 L359.568 757.221 L364.244 757.221 L364.244 787.846 L371.883 787.846 L371.883 791.781 L351.976 791.781 L351.976 787.846 Z\" fill=\"#000000\" fill-rule=\"evenodd\" fill-opacity=\"1\" /><path clip-path=\"url(#clip620)\" d=\"M359.939 517.881 Q356.328 517.881 354.499 521.445 Q352.693 524.987 352.693 532.117 Q352.693 539.223 354.499 542.788 Q356.328 546.33 359.939 546.33 Q363.573 546.33 365.378 542.788 Q367.207 539.223 367.207 532.117 Q367.207 524.987 365.378 521.445 Q363.573 517.881 359.939 517.881 M359.939 514.177 Q365.749 514.177 368.804 518.783 Q371.883 523.367 371.883 532.117 Q371.883 540.843 368.804 545.45 Q365.749 550.033 359.939 550.033 Q354.129 550.033 351.05 545.45 Q347.994 540.843 347.994 532.117 Q347.994 523.367 351.05 518.783 Q354.129 514.177 359.939 514.177 Z\" fill=\"#000000\" fill-rule=\"evenodd\" fill-opacity=\"1\" /><path clip-path=\"url(#clip620)\" d=\"M351.976 303.008 L359.615 303.008 L359.615 276.642 L351.304 278.309 L351.304 274.05 L359.568 272.383 L364.244 272.383 L364.244 303.008 L371.883 303.008 L371.883 306.943 L351.976 306.943 L351.976 303.008 Z\" fill=\"#000000\" fill-rule=\"evenodd\" fill-opacity=\"1\" /><path clip-path=\"url(#clip620)\" d=\"M355.564 60.5889 L371.883 60.5889 L371.883 64.5241 L349.939 64.5241 L349.939 60.5889 Q352.601 57.8343 357.184 53.2047 Q361.791 48.552 362.971 47.2094 Q365.216 44.6862 366.096 42.9501 Q366.999 41.1909 366.999 39.5011 Q366.999 36.7465 365.054 35.0104 Q363.133 33.2743 360.031 33.2743 Q357.832 33.2743 355.379 34.0381 Q352.948 34.802 350.17 36.3529 L350.17 31.6308 Q352.994 30.4965 355.448 29.9178 Q357.902 29.3391 359.939 29.3391 Q365.309 29.3391 368.503 32.0243 Q371.698 34.7094 371.698 39.2002 Q371.698 41.3298 370.888 43.2511 Q370.101 45.1492 367.994 47.7418 Q367.415 48.4131 364.314 51.6306 Q361.212 54.8251 355.564 60.5889 Z\" fill=\"#000000\" fill-rule=\"evenodd\" fill-opacity=\"1\" /><path clip-path=\"url(#clip620)\" d=\"M239.985 517.643 Q240.436 517.643 241.499 517.933 L266.684 524.245 Q272.288 525.63 276.217 530.139 Q280.146 534.616 280.146 539.704 Q280.146 542.764 278.504 544.728 Q276.893 546.693 274.413 546.693 Q272.223 546.693 271.161 545.534 Q270.13 544.374 270.13 542.989 Q270.13 542.538 270.259 542.055 Q270.388 541.572 270.935 541.057 Q271.483 540.542 272.417 540.542 Q273.93 540.542 275.122 541.862 Q275.669 542.506 275.798 543.118 Q275.927 543.698 275.927 544.696 Q276.829 544.31 277.441 543.601 Q278.053 542.893 278.278 542.087 Q278.536 541.282 278.6 540.767 Q278.697 540.22 278.697 539.704 Q278.697 535.582 274.542 532.426 Q273.286 531.492 272.03 530.815 Q270.806 530.107 269.293 529.592 Q267.811 529.076 267.006 528.851 Q266.201 528.593 264.365 528.142 Q267.36 531.138 267.36 534.809 Q267.36 536.355 266.942 537.74 Q266.523 539.092 265.653 540.284 Q264.752 541.476 263.174 542.184 Q261.596 542.86 259.502 542.86 Q257.28 542.86 254.253 541.991 Q251.225 541.121 245.654 539.028 Q242.53 537.901 241.016 537.901 Q240.275 537.901 239.824 538.062 Q239.341 538.223 239.18 538.545 Q238.987 538.867 238.955 539.06 Q238.923 539.221 238.923 539.543 Q238.923 541.443 240.855 543.215 Q242.787 544.986 247.103 546.21 Q247.908 546.467 248.101 546.629 Q248.295 546.79 248.295 547.273 Q248.262 548.078 247.618 548.078 Q247.361 548.078 246.362 547.788 Q245.332 547.498 243.818 546.822 Q242.272 546.113 240.887 545.147 Q239.47 544.181 238.472 542.667 Q237.473 541.121 237.473 539.35 Q237.473 536.935 239.051 535.453 Q240.597 533.939 242.884 533.939 Q243.818 533.939 244.655 534.197 Q245.46 534.423 247.618 535.26 Q256.314 538.641 260.565 538.641 Q261.596 538.641 262.465 538.48 Q263.302 538.287 264.14 537.869 Q264.945 537.45 265.428 536.613 Q265.879 535.743 265.879 534.551 Q265.879 533.038 265.17 531.621 Q264.43 530.171 263.431 529.27 Q262.433 528.336 261.596 527.788 Q260.726 527.208 260.275 527.08 L248.423 524.117 L243.142 522.796 Q240.275 522.184 239.567 521.894 Q238.89 521.508 238.536 520.832 Q238.182 520.155 238.182 519.576 Q238.182 518.77 238.665 518.223 Q239.148 517.643 239.985 517.643 Z\" fill=\"#000000\" fill-rule=\"evenodd\" fill-opacity=\"1\" /><circle clip-path=\"url(#clip622)\" cx=\"1001.93\" cy=\"532.082\" r=\"14.4\" fill=\"#009af9\" fill-rule=\"evenodd\" fill-opacity=\"1\" stroke=\"#000000\" stroke-opacity=\"1\" stroke-width=\"2.4\"/>\n",
       "<circle clip-path=\"url(#clip622)\" cx=\"1000.94\" cy=\"516.582\" r=\"14.4\" fill=\"#009af9\" fill-rule=\"evenodd\" fill-opacity=\"1\" stroke=\"#000000\" stroke-opacity=\"1\" stroke-width=\"2.4\"/>\n",
       "<circle clip-path=\"url(#clip622)\" cx=\"997.966\" cy=\"501.337\" r=\"14.4\" fill=\"#009af9\" fill-rule=\"evenodd\" fill-opacity=\"1\" stroke=\"#000000\" stroke-opacity=\"1\" stroke-width=\"2.4\"/>\n",
       "<circle clip-path=\"url(#clip622)\" cx=\"993.072\" cy=\"486.596\" r=\"14.4\" fill=\"#009af9\" fill-rule=\"evenodd\" fill-opacity=\"1\" stroke=\"#000000\" stroke-opacity=\"1\" stroke-width=\"2.4\"/>\n",
       "<circle clip-path=\"url(#clip622)\" cx=\"986.333\" cy=\"472.602\" r=\"14.4\" fill=\"#009af9\" fill-rule=\"evenodd\" fill-opacity=\"1\" stroke=\"#000000\" stroke-opacity=\"1\" stroke-width=\"2.4\"/>\n",
       "<circle clip-path=\"url(#clip622)\" cx=\"977.86\" cy=\"459.585\" r=\"14.4\" fill=\"#009af9\" fill-rule=\"evenodd\" fill-opacity=\"1\" stroke=\"#000000\" stroke-opacity=\"1\" stroke-width=\"2.4\"/>\n",
       "<circle clip-path=\"url(#clip622)\" cx=\"967.792\" cy=\"447.759\" r=\"14.4\" fill=\"#009af9\" fill-rule=\"evenodd\" fill-opacity=\"1\" stroke=\"#000000\" stroke-opacity=\"1\" stroke-width=\"2.4\"/>\n",
       "<circle clip-path=\"url(#clip622)\" cx=\"956.294\" cy=\"437.317\" r=\"14.4\" fill=\"#009af9\" fill-rule=\"evenodd\" fill-opacity=\"1\" stroke=\"#000000\" stroke-opacity=\"1\" stroke-width=\"2.4\"/>\n",
       "<circle clip-path=\"url(#clip622)\" cx=\"943.555\" cy=\"428.431\" r=\"14.4\" fill=\"#009af9\" fill-rule=\"evenodd\" fill-opacity=\"1\" stroke=\"#000000\" stroke-opacity=\"1\" stroke-width=\"2.4\"/>\n",
       "<circle clip-path=\"url(#clip622)\" cx=\"929.784\" cy=\"421.247\" r=\"14.4\" fill=\"#009af9\" fill-rule=\"evenodd\" fill-opacity=\"1\" stroke=\"#000000\" stroke-opacity=\"1\" stroke-width=\"2.4\"/>\n",
       "<circle clip-path=\"url(#clip622)\" cx=\"915.208\" cy=\"415.882\" r=\"14.4\" fill=\"#009af9\" fill-rule=\"evenodd\" fill-opacity=\"1\" stroke=\"#000000\" stroke-opacity=\"1\" stroke-width=\"2.4\"/>\n",
       "<circle clip-path=\"url(#clip622)\" cx=\"900.066\" cy=\"412.426\" r=\"14.4\" fill=\"#009af9\" fill-rule=\"evenodd\" fill-opacity=\"1\" stroke=\"#000000\" stroke-opacity=\"1\" stroke-width=\"2.4\"/>\n",
       "<circle clip-path=\"url(#clip622)\" cx=\"884.606\" cy=\"410.935\" r=\"14.4\" fill=\"#009af9\" fill-rule=\"evenodd\" fill-opacity=\"1\" stroke=\"#000000\" stroke-opacity=\"1\" stroke-width=\"2.4\"/>\n",
       "<circle clip-path=\"url(#clip622)\" cx=\"869.082\" cy=\"411.433\" r=\"14.4\" fill=\"#009af9\" fill-rule=\"evenodd\" fill-opacity=\"1\" stroke=\"#000000\" stroke-opacity=\"1\" stroke-width=\"2.4\"/>\n",
       "<circle clip-path=\"url(#clip622)\" cx=\"853.749\" cy=\"413.911\" r=\"14.4\" fill=\"#009af9\" fill-rule=\"evenodd\" fill-opacity=\"1\" stroke=\"#000000\" stroke-opacity=\"1\" stroke-width=\"2.4\"/>\n",
       "<circle clip-path=\"url(#clip622)\" cx=\"838.859\" cy=\"418.331\" r=\"14.4\" fill=\"#009af9\" fill-rule=\"evenodd\" fill-opacity=\"1\" stroke=\"#000000\" stroke-opacity=\"1\" stroke-width=\"2.4\"/>\n",
       "<circle clip-path=\"url(#clip622)\" cx=\"824.657\" cy=\"424.618\" r=\"14.4\" fill=\"#009af9\" fill-rule=\"evenodd\" fill-opacity=\"1\" stroke=\"#000000\" stroke-opacity=\"1\" stroke-width=\"2.4\"/>\n",
       "<circle clip-path=\"url(#clip622)\" cx=\"811.375\" cy=\"432.669\" r=\"14.4\" fill=\"#009af9\" fill-rule=\"evenodd\" fill-opacity=\"1\" stroke=\"#000000\" stroke-opacity=\"1\" stroke-width=\"2.4\"/>\n",
       "<circle clip-path=\"url(#clip622)\" cx=\"799.232\" cy=\"442.353\" r=\"14.4\" fill=\"#009af9\" fill-rule=\"evenodd\" fill-opacity=\"1\" stroke=\"#000000\" stroke-opacity=\"1\" stroke-width=\"2.4\"/>\n",
       "<circle clip-path=\"url(#clip622)\" cx=\"788.426\" cy=\"453.511\" r=\"14.4\" fill=\"#009af9\" fill-rule=\"evenodd\" fill-opacity=\"1\" stroke=\"#000000\" stroke-opacity=\"1\" stroke-width=\"2.4\"/>\n",
       "<circle clip-path=\"url(#clip622)\" cx=\"779.137\" cy=\"465.958\" r=\"14.4\" fill=\"#009af9\" fill-rule=\"evenodd\" fill-opacity=\"1\" stroke=\"#000000\" stroke-opacity=\"1\" stroke-width=\"2.4\"/>\n",
       "<circle clip-path=\"url(#clip622)\" cx=\"771.515\" cy=\"479.491\" r=\"14.4\" fill=\"#009af9\" fill-rule=\"evenodd\" fill-opacity=\"1\" stroke=\"#000000\" stroke-opacity=\"1\" stroke-width=\"2.4\"/>\n",
       "<circle clip-path=\"url(#clip622)\" cx=\"765.686\" cy=\"493.888\" r=\"14.4\" fill=\"#009af9\" fill-rule=\"evenodd\" fill-opacity=\"1\" stroke=\"#000000\" stroke-opacity=\"1\" stroke-width=\"2.4\"/>\n",
       "<circle clip-path=\"url(#clip622)\" cx=\"761.747\" cy=\"508.912\" r=\"14.4\" fill=\"#009af9\" fill-rule=\"evenodd\" fill-opacity=\"1\" stroke=\"#000000\" stroke-opacity=\"1\" stroke-width=\"2.4\"/>\n",
       "<circle clip-path=\"url(#clip622)\" cx=\"759.76\" cy=\"524.316\" r=\"14.4\" fill=\"#009af9\" fill-rule=\"evenodd\" fill-opacity=\"1\" stroke=\"#000000\" stroke-opacity=\"1\" stroke-width=\"2.4\"/>\n",
       "<circle clip-path=\"url(#clip622)\" cx=\"759.76\" cy=\"539.848\" r=\"14.4\" fill=\"#009af9\" fill-rule=\"evenodd\" fill-opacity=\"1\" stroke=\"#000000\" stroke-opacity=\"1\" stroke-width=\"2.4\"/>\n",
       "<circle clip-path=\"url(#clip622)\" cx=\"761.747\" cy=\"555.252\" r=\"14.4\" fill=\"#009af9\" fill-rule=\"evenodd\" fill-opacity=\"1\" stroke=\"#000000\" stroke-opacity=\"1\" stroke-width=\"2.4\"/>\n",
       "<circle clip-path=\"url(#clip622)\" cx=\"765.686\" cy=\"570.276\" r=\"14.4\" fill=\"#009af9\" fill-rule=\"evenodd\" fill-opacity=\"1\" stroke=\"#000000\" stroke-opacity=\"1\" stroke-width=\"2.4\"/>\n",
       "<circle clip-path=\"url(#clip622)\" cx=\"771.515\" cy=\"584.673\" r=\"14.4\" fill=\"#009af9\" fill-rule=\"evenodd\" fill-opacity=\"1\" stroke=\"#000000\" stroke-opacity=\"1\" stroke-width=\"2.4\"/>\n",
       "<circle clip-path=\"url(#clip622)\" cx=\"779.137\" cy=\"598.206\" r=\"14.4\" fill=\"#009af9\" fill-rule=\"evenodd\" fill-opacity=\"1\" stroke=\"#000000\" stroke-opacity=\"1\" stroke-width=\"2.4\"/>\n",
       "<circle clip-path=\"url(#clip622)\" cx=\"788.426\" cy=\"610.653\" r=\"14.4\" fill=\"#009af9\" fill-rule=\"evenodd\" fill-opacity=\"1\" stroke=\"#000000\" stroke-opacity=\"1\" stroke-width=\"2.4\"/>\n",
       "<circle clip-path=\"url(#clip622)\" cx=\"799.232\" cy=\"621.811\" r=\"14.4\" fill=\"#009af9\" fill-rule=\"evenodd\" fill-opacity=\"1\" stroke=\"#000000\" stroke-opacity=\"1\" stroke-width=\"2.4\"/>\n",
       "<circle clip-path=\"url(#clip622)\" cx=\"811.375\" cy=\"631.495\" r=\"14.4\" fill=\"#009af9\" fill-rule=\"evenodd\" fill-opacity=\"1\" stroke=\"#000000\" stroke-opacity=\"1\" stroke-width=\"2.4\"/>\n",
       "<circle clip-path=\"url(#clip622)\" cx=\"824.657\" cy=\"639.546\" r=\"14.4\" fill=\"#009af9\" fill-rule=\"evenodd\" fill-opacity=\"1\" stroke=\"#000000\" stroke-opacity=\"1\" stroke-width=\"2.4\"/>\n",
       "<circle clip-path=\"url(#clip622)\" cx=\"838.859\" cy=\"645.833\" r=\"14.4\" fill=\"#009af9\" fill-rule=\"evenodd\" fill-opacity=\"1\" stroke=\"#000000\" stroke-opacity=\"1\" stroke-width=\"2.4\"/>\n",
       "<circle clip-path=\"url(#clip622)\" cx=\"853.749\" cy=\"650.252\" r=\"14.4\" fill=\"#009af9\" fill-rule=\"evenodd\" fill-opacity=\"1\" stroke=\"#000000\" stroke-opacity=\"1\" stroke-width=\"2.4\"/>\n",
       "<circle clip-path=\"url(#clip622)\" cx=\"869.082\" cy=\"652.731\" r=\"14.4\" fill=\"#009af9\" fill-rule=\"evenodd\" fill-opacity=\"1\" stroke=\"#000000\" stroke-opacity=\"1\" stroke-width=\"2.4\"/>\n",
       "<circle clip-path=\"url(#clip622)\" cx=\"884.606\" cy=\"653.229\" r=\"14.4\" fill=\"#009af9\" fill-rule=\"evenodd\" fill-opacity=\"1\" stroke=\"#000000\" stroke-opacity=\"1\" stroke-width=\"2.4\"/>\n",
       "<circle clip-path=\"url(#clip622)\" cx=\"900.066\" cy=\"651.738\" r=\"14.4\" fill=\"#009af9\" fill-rule=\"evenodd\" fill-opacity=\"1\" stroke=\"#000000\" stroke-opacity=\"1\" stroke-width=\"2.4\"/>\n",
       "<circle clip-path=\"url(#clip622)\" cx=\"915.208\" cy=\"648.282\" r=\"14.4\" fill=\"#009af9\" fill-rule=\"evenodd\" fill-opacity=\"1\" stroke=\"#000000\" stroke-opacity=\"1\" stroke-width=\"2.4\"/>\n",
       "<circle clip-path=\"url(#clip622)\" cx=\"929.784\" cy=\"642.917\" r=\"14.4\" fill=\"#009af9\" fill-rule=\"evenodd\" fill-opacity=\"1\" stroke=\"#000000\" stroke-opacity=\"1\" stroke-width=\"2.4\"/>\n",
       "<circle clip-path=\"url(#clip622)\" cx=\"943.555\" cy=\"635.733\" r=\"14.4\" fill=\"#009af9\" fill-rule=\"evenodd\" fill-opacity=\"1\" stroke=\"#000000\" stroke-opacity=\"1\" stroke-width=\"2.4\"/>\n",
       "<circle clip-path=\"url(#clip622)\" cx=\"956.294\" cy=\"626.847\" r=\"14.4\" fill=\"#009af9\" fill-rule=\"evenodd\" fill-opacity=\"1\" stroke=\"#000000\" stroke-opacity=\"1\" stroke-width=\"2.4\"/>\n",
       "<circle clip-path=\"url(#clip622)\" cx=\"967.792\" cy=\"616.405\" r=\"14.4\" fill=\"#009af9\" fill-rule=\"evenodd\" fill-opacity=\"1\" stroke=\"#000000\" stroke-opacity=\"1\" stroke-width=\"2.4\"/>\n",
       "<circle clip-path=\"url(#clip622)\" cx=\"977.86\" cy=\"604.579\" r=\"14.4\" fill=\"#009af9\" fill-rule=\"evenodd\" fill-opacity=\"1\" stroke=\"#000000\" stroke-opacity=\"1\" stroke-width=\"2.4\"/>\n",
       "<circle clip-path=\"url(#clip622)\" cx=\"986.333\" cy=\"591.562\" r=\"14.4\" fill=\"#009af9\" fill-rule=\"evenodd\" fill-opacity=\"1\" stroke=\"#000000\" stroke-opacity=\"1\" stroke-width=\"2.4\"/>\n",
       "<circle clip-path=\"url(#clip622)\" cx=\"993.072\" cy=\"577.568\" r=\"14.4\" fill=\"#009af9\" fill-rule=\"evenodd\" fill-opacity=\"1\" stroke=\"#000000\" stroke-opacity=\"1\" stroke-width=\"2.4\"/>\n",
       "<circle clip-path=\"url(#clip622)\" cx=\"997.966\" cy=\"562.827\" r=\"14.4\" fill=\"#009af9\" fill-rule=\"evenodd\" fill-opacity=\"1\" stroke=\"#000000\" stroke-opacity=\"1\" stroke-width=\"2.4\"/>\n",
       "<circle clip-path=\"url(#clip622)\" cx=\"1000.94\" cy=\"547.582\" r=\"14.4\" fill=\"#009af9\" fill-rule=\"evenodd\" fill-opacity=\"1\" stroke=\"#000000\" stroke-opacity=\"1\" stroke-width=\"2.4\"/>\n",
       "</svg>\n"
      ],
      "image/svg+xml": [
       "<?xml version=\"1.0\" encoding=\"utf-8\"?>\n",
       "<svg xmlns=\"http://www.w3.org/2000/svg\" xmlns:xlink=\"http://www.w3.org/1999/xlink\" width=\"400\" height=\"300\" viewBox=\"0 0 1600 1200\">\n",
       "<defs>\n",
       "  <clipPath id=\"clip570\">\n",
       "    <rect x=\"0\" y=\"0\" width=\"1600\" height=\"1200\"/>\n",
       "  </clipPath>\n",
       "</defs>\n",
       "<path clip-path=\"url(#clip570)\" d=\"\n",
       "M0 1200 L1600 1200 L1600 0 L0 0  Z\n",
       "  \" fill=\"#ffffff\" fill-rule=\"evenodd\" fill-opacity=\"1\"/>\n",
       "<defs>\n",
       "  <clipPath id=\"clip571\">\n",
       "    <rect x=\"320\" y=\"0\" width=\"1121\" height=\"1121\"/>\n",
       "  </clipPath>\n",
       "</defs>\n",
       "<defs>\n",
       "  <clipPath id=\"clip572\">\n",
       "    <rect x=\"255\" y=\"207\" width=\"1299\" height=\"650\"/>\n",
       "  </clipPath>\n",
       "</defs>\n",
       "<path clip-path=\"url(#clip570)\" d=\"\n",
       "M395.883 1016.92 L1365.56 1016.92 L1365.56 47.2441 L395.883 47.2441  Z\n",
       "  \" fill=\"#ffffff\" fill-rule=\"evenodd\" fill-opacity=\"1\"/>\n",
       "<defs>\n",
       "  <clipPath id=\"clip573\">\n",
       "    <rect x=\"395\" y=\"47\" width=\"971\" height=\"971\"/>\n",
       "  </clipPath>\n",
       "</defs>\n",
       "<polyline clip-path=\"url(#clip570)\" style=\"stroke:#000000; stroke-linecap:round; stroke-linejoin:round; stroke-width:4; stroke-opacity:1; fill:none\" points=\"\n",
       "  395.883,1016.92 1365.56,1016.92 \n",
       "  \"/>\n",
       "<polyline clip-path=\"url(#clip570)\" style=\"stroke:#000000; stroke-linecap:round; stroke-linejoin:round; stroke-width:4; stroke-opacity:1; fill:none\" points=\"\n",
       "  395.883,1016.92 395.883,998.022 \n",
       "  \"/>\n",
       "<polyline clip-path=\"url(#clip570)\" style=\"stroke:#000000; stroke-linecap:round; stroke-linejoin:round; stroke-width:4; stroke-opacity:1; fill:none\" points=\"\n",
       "  638.302,1016.92 638.302,998.022 \n",
       "  \"/>\n",
       "<polyline clip-path=\"url(#clip570)\" style=\"stroke:#000000; stroke-linecap:round; stroke-linejoin:round; stroke-width:4; stroke-opacity:1; fill:none\" points=\"\n",
       "  880.721,1016.92 880.721,998.022 \n",
       "  \"/>\n",
       "<polyline clip-path=\"url(#clip570)\" style=\"stroke:#000000; stroke-linecap:round; stroke-linejoin:round; stroke-width:4; stroke-opacity:1; fill:none\" points=\"\n",
       "  1123.14,1016.92 1123.14,998.022 \n",
       "  \"/>\n",
       "<polyline clip-path=\"url(#clip570)\" style=\"stroke:#000000; stroke-linecap:round; stroke-linejoin:round; stroke-width:4; stroke-opacity:1; fill:none\" points=\"\n",
       "  1365.56,1016.92 1365.56,998.022 \n",
       "  \"/>\n",
       "<path clip-path=\"url(#clip570)\" d=\"M365.825 1056.09 L395.501 1056.09 L395.501 1060.03 L365.825 1060.03 L365.825 1056.09 Z\" fill=\"#000000\" fill-rule=\"evenodd\" fill-opacity=\"1\" /><path clip-path=\"url(#clip570)\" d=\"M409.621 1068.98 L425.941 1068.98 L425.941 1072.92 L403.996 1072.92 L403.996 1068.98 Q406.658 1066.23 411.242 1061.6 Q415.848 1056.95 417.029 1055.61 Q419.274 1053.08 420.154 1051.35 Q421.057 1049.59 421.057 1047.9 Q421.057 1045.14 419.112 1043.41 Q417.191 1041.67 414.089 1041.67 Q411.89 1041.67 409.436 1042.43 Q407.006 1043.2 404.228 1044.75 L404.228 1040.03 Q407.052 1038.89 409.506 1038.31 Q411.959 1037.73 413.996 1037.73 Q419.367 1037.73 422.561 1040.42 Q425.756 1043.11 425.756 1047.6 Q425.756 1049.73 424.945 1051.65 Q424.158 1053.54 422.052 1056.14 Q421.473 1056.81 418.371 1060.03 Q415.27 1063.22 409.621 1068.98 Z\" fill=\"#000000\" fill-rule=\"evenodd\" fill-opacity=\"1\" /><path clip-path=\"url(#clip570)\" d=\"M608.059 1056.09 L637.735 1056.09 L637.735 1060.03 L608.059 1060.03 L608.059 1056.09 Z\" fill=\"#000000\" fill-rule=\"evenodd\" fill-opacity=\"1\" /><path clip-path=\"url(#clip570)\" d=\"M648.638 1068.98 L656.276 1068.98 L656.276 1042.62 L647.966 1044.29 L647.966 1040.03 L656.23 1038.36 L660.906 1038.36 L660.906 1068.98 L668.545 1068.98 L668.545 1072.92 L648.638 1072.92 L648.638 1068.98 Z\" fill=\"#000000\" fill-rule=\"evenodd\" fill-opacity=\"1\" /><path clip-path=\"url(#clip570)\" d=\"M880.721 1041.44 Q877.11 1041.44 875.281 1045 Q873.476 1048.54 873.476 1055.67 Q873.476 1062.78 875.281 1066.35 Q877.11 1069.89 880.721 1069.89 Q884.355 1069.89 886.161 1066.35 Q887.989 1062.78 887.989 1055.67 Q887.989 1048.54 886.161 1045 Q884.355 1041.44 880.721 1041.44 M880.721 1037.73 Q886.531 1037.73 889.587 1042.34 Q892.665 1046.92 892.665 1055.67 Q892.665 1064.4 889.587 1069.01 Q886.531 1073.59 880.721 1073.59 Q874.911 1073.59 871.832 1069.01 Q868.777 1064.4 868.777 1055.67 Q868.777 1046.92 871.832 1042.34 Q874.911 1037.73 880.721 1037.73 Z\" fill=\"#000000\" fill-rule=\"evenodd\" fill-opacity=\"1\" /><path clip-path=\"url(#clip570)\" d=\"M1113.52 1068.98 L1121.16 1068.98 L1121.16 1042.62 L1112.85 1044.29 L1112.85 1040.03 L1121.11 1038.36 L1125.79 1038.36 L1125.79 1068.98 L1133.43 1068.98 L1133.43 1072.92 L1113.52 1072.92 L1113.52 1068.98 Z\" fill=\"#000000\" fill-rule=\"evenodd\" fill-opacity=\"1\" /><path clip-path=\"url(#clip570)\" d=\"M1360.21 1068.98 L1376.53 1068.98 L1376.53 1072.92 L1354.59 1072.92 L1354.59 1068.98 Q1357.25 1066.23 1361.83 1061.6 Q1366.44 1056.95 1367.62 1055.61 Q1369.86 1053.08 1370.74 1051.35 Q1371.65 1049.59 1371.65 1047.9 Q1371.65 1045.14 1369.7 1043.41 Q1367.78 1041.67 1364.68 1041.67 Q1362.48 1041.67 1360.03 1042.43 Q1357.6 1043.2 1354.82 1044.75 L1354.82 1040.03 Q1357.64 1038.89 1360.1 1038.31 Q1362.55 1037.73 1364.59 1037.73 Q1369.96 1037.73 1373.15 1040.42 Q1376.35 1043.11 1376.35 1047.6 Q1376.35 1049.73 1375.54 1051.65 Q1374.75 1053.54 1372.64 1056.14 Q1372.06 1056.81 1368.96 1060.03 Q1365.86 1063.22 1360.21 1068.98 Z\" fill=\"#000000\" fill-rule=\"evenodd\" fill-opacity=\"1\" /><path clip-path=\"url(#clip570)\" d=\"M894.896 1110.54 Q894.896 1112.34 893.769 1113.38 Q892.641 1114.37 891.353 1114.37 Q890.129 1114.37 889.485 1113.67 Q888.841 1112.96 888.841 1112.05 Q888.841 1110.83 889.743 1109.77 Q890.645 1108.71 891.997 1108.48 Q890.677 1107.64 888.712 1107.64 Q887.424 1107.64 886.297 1108.32 Q885.202 1109 884.526 1109.86 Q883.881 1110.73 883.302 1111.99 Q882.754 1113.21 882.529 1113.95 Q882.336 1114.66 882.175 1115.44 L879.92 1124.45 Q878.825 1128.74 878.825 1130.25 Q878.825 1132.12 879.727 1133.37 Q880.629 1134.6 882.432 1134.6 Q883.141 1134.6 883.946 1134.41 Q884.751 1134.18 885.782 1133.6 Q886.844 1132.99 887.778 1132.09 Q888.745 1131.15 889.678 1129.57 Q890.612 1128 891.224 1125.97 Q891.418 1125.26 892.062 1125.26 Q892.867 1125.26 892.867 1125.9 Q892.867 1126.45 892.416 1127.61 Q891.997 1128.74 891.063 1130.22 Q890.162 1131.67 888.97 1132.99 Q887.778 1134.28 886.007 1135.18 Q884.236 1136.08 882.303 1136.08 Q879.534 1136.08 877.698 1134.6 Q875.862 1133.12 875.186 1131.06 Q875.025 1131.35 874.799 1131.73 Q874.574 1132.12 873.898 1132.99 Q873.253 1133.83 872.513 1134.47 Q871.772 1135.08 870.613 1135.56 Q869.485 1136.08 868.262 1136.08 Q866.716 1136.08 865.331 1135.63 Q863.978 1135.18 863.012 1134.15 Q862.046 1133.12 862.046 1131.7 Q862.046 1130.12 863.109 1129.03 Q864.204 1127.9 865.685 1127.9 Q866.619 1127.9 867.36 1128.45 Q868.133 1128.99 868.133 1130.19 Q868.133 1131.51 867.231 1132.51 Q866.329 1133.5 865.041 1133.76 Q866.361 1134.6 868.326 1134.6 Q870.452 1134.6 872.126 1132.73 Q873.801 1130.86 874.606 1127.74 Q876.603 1120.24 877.376 1116.89 Q878.149 1113.5 878.149 1112.05 Q878.149 1110.7 877.795 1109.77 Q877.44 1108.83 876.828 1108.42 Q876.249 1107.96 875.701 1107.8 Q875.186 1107.64 874.606 1107.64 Q873.64 1107.64 872.545 1108.03 Q871.482 1108.42 870.194 1109.32 Q868.938 1110.19 867.746 1111.99 Q866.555 1113.79 865.75 1116.27 Q865.588 1117.01 864.88 1117.01 Q864.107 1116.98 864.107 1116.34 Q864.107 1115.79 864.526 1114.66 Q864.977 1113.5 865.878 1112.05 Q866.812 1110.61 868.004 1109.32 Q869.228 1108 870.999 1107.1 Q872.803 1106.19 874.735 1106.19 Q875.605 1106.19 876.442 1106.39 Q877.311 1106.55 878.342 1107.03 Q879.405 1107.51 880.339 1108.58 Q881.273 1109.64 881.852 1111.19 Q882.239 1110.44 882.754 1109.74 Q883.302 1109.03 884.139 1108.16 Q885.009 1107.26 886.2 1106.74 Q887.424 1106.19 888.777 1106.19 Q890.097 1106.19 891.385 1106.55 Q892.674 1106.87 893.769 1107.93 Q894.896 1108.96 894.896 1110.54 Z\" fill=\"#000000\" fill-rule=\"evenodd\" fill-opacity=\"1\" /><polyline clip-path=\"url(#clip570)\" style=\"stroke:#000000; stroke-linecap:round; stroke-linejoin:round; stroke-width:4; stroke-opacity:1; fill:none\" points=\"\n",
       "  395.883,1016.92 395.883,47.2441 \n",
       "  \"/>\n",
       "<polyline clip-path=\"url(#clip570)\" style=\"stroke:#000000; stroke-linecap:round; stroke-linejoin:round; stroke-width:4; stroke-opacity:1; fill:none\" points=\"\n",
       "  395.883,1016.92 409.517,1016.92 \n",
       "  \"/>\n",
       "<polyline clip-path=\"url(#clip570)\" style=\"stroke:#000000; stroke-linecap:round; stroke-linejoin:round; stroke-width:4; stroke-opacity:1; fill:none\" points=\"\n",
       "  395.883,774.501 409.517,774.501 \n",
       "  \"/>\n",
       "<polyline clip-path=\"url(#clip570)\" style=\"stroke:#000000; stroke-linecap:round; stroke-linejoin:round; stroke-width:4; stroke-opacity:1; fill:none\" points=\"\n",
       "  395.883,532.082 409.517,532.082 \n",
       "  \"/>\n",
       "<polyline clip-path=\"url(#clip570)\" style=\"stroke:#000000; stroke-linecap:round; stroke-linejoin:round; stroke-width:4; stroke-opacity:1; fill:none\" points=\"\n",
       "  395.883,289.663 409.517,289.663 \n",
       "  \"/>\n",
       "<polyline clip-path=\"url(#clip570)\" style=\"stroke:#000000; stroke-linecap:round; stroke-linejoin:round; stroke-width:4; stroke-opacity:1; fill:none\" points=\"\n",
       "  395.883,47.2441 409.517,47.2441 \n",
       "  \"/>\n",
       "<path clip-path=\"url(#clip570)\" d=\"M311.768 1017.37 L341.443 1017.37 L341.443 1021.31 L311.768 1021.31 L311.768 1017.37 Z\" fill=\"#000000\" fill-rule=\"evenodd\" fill-opacity=\"1\" /><path clip-path=\"url(#clip570)\" d=\"M355.564 1030.26 L371.883 1030.26 L371.883 1034.2 L349.939 1034.2 L349.939 1030.26 Q352.601 1027.51 357.184 1022.88 Q361.791 1018.23 362.971 1016.89 Q365.216 1014.36 366.096 1012.63 Q366.999 1010.87 366.999 1009.18 Q366.999 1006.42 365.054 1004.69 Q363.133 1002.95 360.031 1002.95 Q357.832 1002.95 355.379 1003.71 Q352.948 1004.48 350.17 1006.03 L350.17 1001.31 Q352.994 1000.17 355.448 999.594 Q357.902 999.015 359.939 999.015 Q365.309 999.015 368.503 1001.7 Q371.698 1004.39 371.698 1008.88 Q371.698 1011.01 370.888 1012.93 Q370.101 1014.82 367.994 1017.42 Q367.415 1018.09 364.314 1021.31 Q361.212 1024.5 355.564 1030.26 Z\" fill=\"#000000\" fill-rule=\"evenodd\" fill-opacity=\"1\" /><path clip-path=\"url(#clip570)\" d=\"M311.397 774.952 L341.073 774.952 L341.073 778.887 L311.397 778.887 L311.397 774.952 Z\" fill=\"#000000\" fill-rule=\"evenodd\" fill-opacity=\"1\" /><path clip-path=\"url(#clip570)\" d=\"M351.976 787.846 L359.615 787.846 L359.615 761.48 L351.304 763.147 L351.304 758.888 L359.568 757.221 L364.244 757.221 L364.244 787.846 L371.883 787.846 L371.883 791.781 L351.976 791.781 L351.976 787.846 Z\" fill=\"#000000\" fill-rule=\"evenodd\" fill-opacity=\"1\" /><path clip-path=\"url(#clip570)\" d=\"M359.939 517.881 Q356.328 517.881 354.499 521.445 Q352.693 524.987 352.693 532.117 Q352.693 539.223 354.499 542.788 Q356.328 546.33 359.939 546.33 Q363.573 546.33 365.378 542.788 Q367.207 539.223 367.207 532.117 Q367.207 524.987 365.378 521.445 Q363.573 517.881 359.939 517.881 M359.939 514.177 Q365.749 514.177 368.804 518.783 Q371.883 523.367 371.883 532.117 Q371.883 540.843 368.804 545.45 Q365.749 550.033 359.939 550.033 Q354.129 550.033 351.05 545.45 Q347.994 540.843 347.994 532.117 Q347.994 523.367 351.05 518.783 Q354.129 514.177 359.939 514.177 Z\" fill=\"#000000\" fill-rule=\"evenodd\" fill-opacity=\"1\" /><path clip-path=\"url(#clip570)\" d=\"M351.976 303.008 L359.615 303.008 L359.615 276.642 L351.304 278.309 L351.304 274.05 L359.568 272.383 L364.244 272.383 L364.244 303.008 L371.883 303.008 L371.883 306.943 L351.976 306.943 L351.976 303.008 Z\" fill=\"#000000\" fill-rule=\"evenodd\" fill-opacity=\"1\" /><path clip-path=\"url(#clip570)\" d=\"M355.564 60.5889 L371.883 60.5889 L371.883 64.5241 L349.939 64.5241 L349.939 60.5889 Q352.601 57.8343 357.184 53.2047 Q361.791 48.552 362.971 47.2094 Q365.216 44.6862 366.096 42.9501 Q366.999 41.1909 366.999 39.5011 Q366.999 36.7465 365.054 35.0104 Q363.133 33.2743 360.031 33.2743 Q357.832 33.2743 355.379 34.0381 Q352.948 34.802 350.17 36.3529 L350.17 31.6308 Q352.994 30.4965 355.448 29.9178 Q357.902 29.3391 359.939 29.3391 Q365.309 29.3391 368.503 32.0243 Q371.698 34.7094 371.698 39.2002 Q371.698 41.3298 370.888 43.2511 Q370.101 45.1492 367.994 47.7418 Q367.415 48.4131 364.314 51.6306 Q361.212 54.8251 355.564 60.5889 Z\" fill=\"#000000\" fill-rule=\"evenodd\" fill-opacity=\"1\" /><path clip-path=\"url(#clip570)\" d=\"M239.985 517.643 Q240.436 517.643 241.499 517.933 L266.684 524.245 Q272.288 525.63 276.217 530.139 Q280.146 534.616 280.146 539.704 Q280.146 542.764 278.504 544.728 Q276.893 546.693 274.413 546.693 Q272.223 546.693 271.161 545.534 Q270.13 544.374 270.13 542.989 Q270.13 542.538 270.259 542.055 Q270.388 541.572 270.935 541.057 Q271.483 540.542 272.417 540.542 Q273.93 540.542 275.122 541.862 Q275.669 542.506 275.798 543.118 Q275.927 543.698 275.927 544.696 Q276.829 544.31 277.441 543.601 Q278.053 542.893 278.278 542.087 Q278.536 541.282 278.6 540.767 Q278.697 540.22 278.697 539.704 Q278.697 535.582 274.542 532.426 Q273.286 531.492 272.03 530.815 Q270.806 530.107 269.293 529.592 Q267.811 529.076 267.006 528.851 Q266.201 528.593 264.365 528.142 Q267.36 531.138 267.36 534.809 Q267.36 536.355 266.942 537.74 Q266.523 539.092 265.653 540.284 Q264.752 541.476 263.174 542.184 Q261.596 542.86 259.502 542.86 Q257.28 542.86 254.253 541.991 Q251.225 541.121 245.654 539.028 Q242.53 537.901 241.016 537.901 Q240.275 537.901 239.824 538.062 Q239.341 538.223 239.18 538.545 Q238.987 538.867 238.955 539.06 Q238.923 539.221 238.923 539.543 Q238.923 541.443 240.855 543.215 Q242.787 544.986 247.103 546.21 Q247.908 546.467 248.101 546.629 Q248.295 546.79 248.295 547.273 Q248.262 548.078 247.618 548.078 Q247.361 548.078 246.362 547.788 Q245.332 547.498 243.818 546.822 Q242.272 546.113 240.887 545.147 Q239.47 544.181 238.472 542.667 Q237.473 541.121 237.473 539.35 Q237.473 536.935 239.051 535.453 Q240.597 533.939 242.884 533.939 Q243.818 533.939 244.655 534.197 Q245.46 534.423 247.618 535.26 Q256.314 538.641 260.565 538.641 Q261.596 538.641 262.465 538.48 Q263.302 538.287 264.14 537.869 Q264.945 537.45 265.428 536.613 Q265.879 535.743 265.879 534.551 Q265.879 533.038 265.17 531.621 Q264.43 530.171 263.431 529.27 Q262.433 528.336 261.596 527.788 Q260.726 527.208 260.275 527.08 L248.423 524.117 L243.142 522.796 Q240.275 522.184 239.567 521.894 Q238.89 521.508 238.536 520.832 Q238.182 520.155 238.182 519.576 Q238.182 518.77 238.665 518.223 Q239.148 517.643 239.985 517.643 Z\" fill=\"#000000\" fill-rule=\"evenodd\" fill-opacity=\"1\" /><circle clip-path=\"url(#clip573)\" cx=\"1001.93\" cy=\"532.082\" r=\"14.4\" fill=\"#009af9\" fill-rule=\"evenodd\" fill-opacity=\"1\" stroke=\"#000000\" stroke-opacity=\"1\" stroke-width=\"2.4\"/>\n",
       "<circle clip-path=\"url(#clip573)\" cx=\"1000.94\" cy=\"516.582\" r=\"14.4\" fill=\"#009af9\" fill-rule=\"evenodd\" fill-opacity=\"1\" stroke=\"#000000\" stroke-opacity=\"1\" stroke-width=\"2.4\"/>\n",
       "<circle clip-path=\"url(#clip573)\" cx=\"997.966\" cy=\"501.337\" r=\"14.4\" fill=\"#009af9\" fill-rule=\"evenodd\" fill-opacity=\"1\" stroke=\"#000000\" stroke-opacity=\"1\" stroke-width=\"2.4\"/>\n",
       "<circle clip-path=\"url(#clip573)\" cx=\"993.072\" cy=\"486.596\" r=\"14.4\" fill=\"#009af9\" fill-rule=\"evenodd\" fill-opacity=\"1\" stroke=\"#000000\" stroke-opacity=\"1\" stroke-width=\"2.4\"/>\n",
       "<circle clip-path=\"url(#clip573)\" cx=\"986.333\" cy=\"472.602\" r=\"14.4\" fill=\"#009af9\" fill-rule=\"evenodd\" fill-opacity=\"1\" stroke=\"#000000\" stroke-opacity=\"1\" stroke-width=\"2.4\"/>\n",
       "<circle clip-path=\"url(#clip573)\" cx=\"977.86\" cy=\"459.585\" r=\"14.4\" fill=\"#009af9\" fill-rule=\"evenodd\" fill-opacity=\"1\" stroke=\"#000000\" stroke-opacity=\"1\" stroke-width=\"2.4\"/>\n",
       "<circle clip-path=\"url(#clip573)\" cx=\"967.792\" cy=\"447.759\" r=\"14.4\" fill=\"#009af9\" fill-rule=\"evenodd\" fill-opacity=\"1\" stroke=\"#000000\" stroke-opacity=\"1\" stroke-width=\"2.4\"/>\n",
       "<circle clip-path=\"url(#clip573)\" cx=\"956.294\" cy=\"437.317\" r=\"14.4\" fill=\"#009af9\" fill-rule=\"evenodd\" fill-opacity=\"1\" stroke=\"#000000\" stroke-opacity=\"1\" stroke-width=\"2.4\"/>\n",
       "<circle clip-path=\"url(#clip573)\" cx=\"943.555\" cy=\"428.431\" r=\"14.4\" fill=\"#009af9\" fill-rule=\"evenodd\" fill-opacity=\"1\" stroke=\"#000000\" stroke-opacity=\"1\" stroke-width=\"2.4\"/>\n",
       "<circle clip-path=\"url(#clip573)\" cx=\"929.784\" cy=\"421.247\" r=\"14.4\" fill=\"#009af9\" fill-rule=\"evenodd\" fill-opacity=\"1\" stroke=\"#000000\" stroke-opacity=\"1\" stroke-width=\"2.4\"/>\n",
       "<circle clip-path=\"url(#clip573)\" cx=\"915.208\" cy=\"415.882\" r=\"14.4\" fill=\"#009af9\" fill-rule=\"evenodd\" fill-opacity=\"1\" stroke=\"#000000\" stroke-opacity=\"1\" stroke-width=\"2.4\"/>\n",
       "<circle clip-path=\"url(#clip573)\" cx=\"900.066\" cy=\"412.426\" r=\"14.4\" fill=\"#009af9\" fill-rule=\"evenodd\" fill-opacity=\"1\" stroke=\"#000000\" stroke-opacity=\"1\" stroke-width=\"2.4\"/>\n",
       "<circle clip-path=\"url(#clip573)\" cx=\"884.606\" cy=\"410.935\" r=\"14.4\" fill=\"#009af9\" fill-rule=\"evenodd\" fill-opacity=\"1\" stroke=\"#000000\" stroke-opacity=\"1\" stroke-width=\"2.4\"/>\n",
       "<circle clip-path=\"url(#clip573)\" cx=\"869.082\" cy=\"411.433\" r=\"14.4\" fill=\"#009af9\" fill-rule=\"evenodd\" fill-opacity=\"1\" stroke=\"#000000\" stroke-opacity=\"1\" stroke-width=\"2.4\"/>\n",
       "<circle clip-path=\"url(#clip573)\" cx=\"853.749\" cy=\"413.911\" r=\"14.4\" fill=\"#009af9\" fill-rule=\"evenodd\" fill-opacity=\"1\" stroke=\"#000000\" stroke-opacity=\"1\" stroke-width=\"2.4\"/>\n",
       "<circle clip-path=\"url(#clip573)\" cx=\"838.859\" cy=\"418.331\" r=\"14.4\" fill=\"#009af9\" fill-rule=\"evenodd\" fill-opacity=\"1\" stroke=\"#000000\" stroke-opacity=\"1\" stroke-width=\"2.4\"/>\n",
       "<circle clip-path=\"url(#clip573)\" cx=\"824.657\" cy=\"424.618\" r=\"14.4\" fill=\"#009af9\" fill-rule=\"evenodd\" fill-opacity=\"1\" stroke=\"#000000\" stroke-opacity=\"1\" stroke-width=\"2.4\"/>\n",
       "<circle clip-path=\"url(#clip573)\" cx=\"811.375\" cy=\"432.669\" r=\"14.4\" fill=\"#009af9\" fill-rule=\"evenodd\" fill-opacity=\"1\" stroke=\"#000000\" stroke-opacity=\"1\" stroke-width=\"2.4\"/>\n",
       "<circle clip-path=\"url(#clip573)\" cx=\"799.232\" cy=\"442.353\" r=\"14.4\" fill=\"#009af9\" fill-rule=\"evenodd\" fill-opacity=\"1\" stroke=\"#000000\" stroke-opacity=\"1\" stroke-width=\"2.4\"/>\n",
       "<circle clip-path=\"url(#clip573)\" cx=\"788.426\" cy=\"453.511\" r=\"14.4\" fill=\"#009af9\" fill-rule=\"evenodd\" fill-opacity=\"1\" stroke=\"#000000\" stroke-opacity=\"1\" stroke-width=\"2.4\"/>\n",
       "<circle clip-path=\"url(#clip573)\" cx=\"779.137\" cy=\"465.958\" r=\"14.4\" fill=\"#009af9\" fill-rule=\"evenodd\" fill-opacity=\"1\" stroke=\"#000000\" stroke-opacity=\"1\" stroke-width=\"2.4\"/>\n",
       "<circle clip-path=\"url(#clip573)\" cx=\"771.515\" cy=\"479.491\" r=\"14.4\" fill=\"#009af9\" fill-rule=\"evenodd\" fill-opacity=\"1\" stroke=\"#000000\" stroke-opacity=\"1\" stroke-width=\"2.4\"/>\n",
       "<circle clip-path=\"url(#clip573)\" cx=\"765.686\" cy=\"493.888\" r=\"14.4\" fill=\"#009af9\" fill-rule=\"evenodd\" fill-opacity=\"1\" stroke=\"#000000\" stroke-opacity=\"1\" stroke-width=\"2.4\"/>\n",
       "<circle clip-path=\"url(#clip573)\" cx=\"761.747\" cy=\"508.912\" r=\"14.4\" fill=\"#009af9\" fill-rule=\"evenodd\" fill-opacity=\"1\" stroke=\"#000000\" stroke-opacity=\"1\" stroke-width=\"2.4\"/>\n",
       "<circle clip-path=\"url(#clip573)\" cx=\"759.76\" cy=\"524.316\" r=\"14.4\" fill=\"#009af9\" fill-rule=\"evenodd\" fill-opacity=\"1\" stroke=\"#000000\" stroke-opacity=\"1\" stroke-width=\"2.4\"/>\n",
       "<circle clip-path=\"url(#clip573)\" cx=\"759.76\" cy=\"539.848\" r=\"14.4\" fill=\"#009af9\" fill-rule=\"evenodd\" fill-opacity=\"1\" stroke=\"#000000\" stroke-opacity=\"1\" stroke-width=\"2.4\"/>\n",
       "<circle clip-path=\"url(#clip573)\" cx=\"761.747\" cy=\"555.252\" r=\"14.4\" fill=\"#009af9\" fill-rule=\"evenodd\" fill-opacity=\"1\" stroke=\"#000000\" stroke-opacity=\"1\" stroke-width=\"2.4\"/>\n",
       "<circle clip-path=\"url(#clip573)\" cx=\"765.686\" cy=\"570.276\" r=\"14.4\" fill=\"#009af9\" fill-rule=\"evenodd\" fill-opacity=\"1\" stroke=\"#000000\" stroke-opacity=\"1\" stroke-width=\"2.4\"/>\n",
       "<circle clip-path=\"url(#clip573)\" cx=\"771.515\" cy=\"584.673\" r=\"14.4\" fill=\"#009af9\" fill-rule=\"evenodd\" fill-opacity=\"1\" stroke=\"#000000\" stroke-opacity=\"1\" stroke-width=\"2.4\"/>\n",
       "<circle clip-path=\"url(#clip573)\" cx=\"779.137\" cy=\"598.206\" r=\"14.4\" fill=\"#009af9\" fill-rule=\"evenodd\" fill-opacity=\"1\" stroke=\"#000000\" stroke-opacity=\"1\" stroke-width=\"2.4\"/>\n",
       "<circle clip-path=\"url(#clip573)\" cx=\"788.426\" cy=\"610.653\" r=\"14.4\" fill=\"#009af9\" fill-rule=\"evenodd\" fill-opacity=\"1\" stroke=\"#000000\" stroke-opacity=\"1\" stroke-width=\"2.4\"/>\n",
       "<circle clip-path=\"url(#clip573)\" cx=\"799.232\" cy=\"621.811\" r=\"14.4\" fill=\"#009af9\" fill-rule=\"evenodd\" fill-opacity=\"1\" stroke=\"#000000\" stroke-opacity=\"1\" stroke-width=\"2.4\"/>\n",
       "<circle clip-path=\"url(#clip573)\" cx=\"811.375\" cy=\"631.495\" r=\"14.4\" fill=\"#009af9\" fill-rule=\"evenodd\" fill-opacity=\"1\" stroke=\"#000000\" stroke-opacity=\"1\" stroke-width=\"2.4\"/>\n",
       "<circle clip-path=\"url(#clip573)\" cx=\"824.657\" cy=\"639.546\" r=\"14.4\" fill=\"#009af9\" fill-rule=\"evenodd\" fill-opacity=\"1\" stroke=\"#000000\" stroke-opacity=\"1\" stroke-width=\"2.4\"/>\n",
       "<circle clip-path=\"url(#clip573)\" cx=\"838.859\" cy=\"645.833\" r=\"14.4\" fill=\"#009af9\" fill-rule=\"evenodd\" fill-opacity=\"1\" stroke=\"#000000\" stroke-opacity=\"1\" stroke-width=\"2.4\"/>\n",
       "<circle clip-path=\"url(#clip573)\" cx=\"853.749\" cy=\"650.252\" r=\"14.4\" fill=\"#009af9\" fill-rule=\"evenodd\" fill-opacity=\"1\" stroke=\"#000000\" stroke-opacity=\"1\" stroke-width=\"2.4\"/>\n",
       "<circle clip-path=\"url(#clip573)\" cx=\"869.082\" cy=\"652.731\" r=\"14.4\" fill=\"#009af9\" fill-rule=\"evenodd\" fill-opacity=\"1\" stroke=\"#000000\" stroke-opacity=\"1\" stroke-width=\"2.4\"/>\n",
       "<circle clip-path=\"url(#clip573)\" cx=\"884.606\" cy=\"653.229\" r=\"14.4\" fill=\"#009af9\" fill-rule=\"evenodd\" fill-opacity=\"1\" stroke=\"#000000\" stroke-opacity=\"1\" stroke-width=\"2.4\"/>\n",
       "<circle clip-path=\"url(#clip573)\" cx=\"900.066\" cy=\"651.738\" r=\"14.4\" fill=\"#009af9\" fill-rule=\"evenodd\" fill-opacity=\"1\" stroke=\"#000000\" stroke-opacity=\"1\" stroke-width=\"2.4\"/>\n",
       "<circle clip-path=\"url(#clip573)\" cx=\"915.208\" cy=\"648.282\" r=\"14.4\" fill=\"#009af9\" fill-rule=\"evenodd\" fill-opacity=\"1\" stroke=\"#000000\" stroke-opacity=\"1\" stroke-width=\"2.4\"/>\n",
       "<circle clip-path=\"url(#clip573)\" cx=\"929.784\" cy=\"642.917\" r=\"14.4\" fill=\"#009af9\" fill-rule=\"evenodd\" fill-opacity=\"1\" stroke=\"#000000\" stroke-opacity=\"1\" stroke-width=\"2.4\"/>\n",
       "<circle clip-path=\"url(#clip573)\" cx=\"943.555\" cy=\"635.733\" r=\"14.4\" fill=\"#009af9\" fill-rule=\"evenodd\" fill-opacity=\"1\" stroke=\"#000000\" stroke-opacity=\"1\" stroke-width=\"2.4\"/>\n",
       "<circle clip-path=\"url(#clip573)\" cx=\"956.294\" cy=\"626.847\" r=\"14.4\" fill=\"#009af9\" fill-rule=\"evenodd\" fill-opacity=\"1\" stroke=\"#000000\" stroke-opacity=\"1\" stroke-width=\"2.4\"/>\n",
       "<circle clip-path=\"url(#clip573)\" cx=\"967.792\" cy=\"616.405\" r=\"14.4\" fill=\"#009af9\" fill-rule=\"evenodd\" fill-opacity=\"1\" stroke=\"#000000\" stroke-opacity=\"1\" stroke-width=\"2.4\"/>\n",
       "<circle clip-path=\"url(#clip573)\" cx=\"977.86\" cy=\"604.579\" r=\"14.4\" fill=\"#009af9\" fill-rule=\"evenodd\" fill-opacity=\"1\" stroke=\"#000000\" stroke-opacity=\"1\" stroke-width=\"2.4\"/>\n",
       "<circle clip-path=\"url(#clip573)\" cx=\"986.333\" cy=\"591.562\" r=\"14.4\" fill=\"#009af9\" fill-rule=\"evenodd\" fill-opacity=\"1\" stroke=\"#000000\" stroke-opacity=\"1\" stroke-width=\"2.4\"/>\n",
       "<circle clip-path=\"url(#clip573)\" cx=\"993.072\" cy=\"577.568\" r=\"14.4\" fill=\"#009af9\" fill-rule=\"evenodd\" fill-opacity=\"1\" stroke=\"#000000\" stroke-opacity=\"1\" stroke-width=\"2.4\"/>\n",
       "<circle clip-path=\"url(#clip573)\" cx=\"997.966\" cy=\"562.827\" r=\"14.4\" fill=\"#009af9\" fill-rule=\"evenodd\" fill-opacity=\"1\" stroke=\"#000000\" stroke-opacity=\"1\" stroke-width=\"2.4\"/>\n",
       "<circle clip-path=\"url(#clip573)\" cx=\"1000.94\" cy=\"547.582\" r=\"14.4\" fill=\"#009af9\" fill-rule=\"evenodd\" fill-opacity=\"1\" stroke=\"#000000\" stroke-opacity=\"1\" stroke-width=\"2.4\"/>\n",
       "</svg>\n"
      ]
     },
     "metadata": {},
     "execution_count": 13
    }
   ],
   "cell_type": "code",
   "source": [
    "scatter(real.(z),imag.(z),ratio=1,xlim=(-2,2),ylim=(-2,2),legend=false,xlabel=L\"x\",ylabel=L\"y\")"
   ],
   "metadata": {},
   "execution_count": 13
  },
  {
   "cell_type": "markdown",
   "source": [
    "### Other operations\n",
    "The **complex conjugate** is an important operation, denoted by $()^{*}$. For example,\n",
    "if $z = x + \\mathrm{i}y$, then the conjugate simply switches the sign of the imaginary part.\n",
    "\n",
    "$$ z^{*} = x - \\mathrm{i}y $$\n",
    "\n",
    "It does not look that important, but it is useful for many operations.\n",
    "\n",
    "For example, the magnitude squared (i.e., the 'length' squared) of a complex variable\n",
    "can be obtained with the help of the conjugate, $|z|^2 = z z^* = x^2 + y^2$. Check this:\n",
    "\n",
    "$$ zz^* = (x+\\mathrm{i}y)(x-\\mathrm{i}y) = x^2 + \\mathrm{i}yx - \\mathrm{i}xy - \\mathrm{i}^2 y^2$$.\n",
    "\n",
    "But since $\\mathrm{i}^2 = -1$, then this is simply $x^2+y^2$."
   ],
   "metadata": {}
  },
  {
   "cell_type": "markdown",
   "source": [
    "#### Complex conjugate of the polar form\n",
    "The complex conjugate of the polar form is also easy:\n",
    "\n",
    "$$ z^* = r \\mathrm{e}^{-\\mathrm{i}\\theta}$$.\n",
    "\n",
    "Then, using the polar form, the magnitude squared is\n",
    "\n",
    "$$ |z|^2 = z z^* = r \\mathrm{e}^{\\mathrm{i}\\theta} r \\mathrm{e}^{-\\mathrm{i}\\theta} = r^2$$\n",
    "\n",
    "As expected, $r^2 = x^2 + y^2$."
   ],
   "metadata": {}
  },
  {
   "cell_type": "markdown",
   "source": [
    "In Julia, we use `conj` to get the complex conjugate and `abs` to get the magnitude"
   ],
   "metadata": {}
  },
  {
   "outputs": [
    {
     "output_type": "execute_result",
     "data": {
      "text/plain": "1.0 + 2.0im"
     },
     "metadata": {},
     "execution_count": 14
    }
   ],
   "cell_type": "code",
   "source": [
    "z = 1.0+im*2.0"
   ],
   "metadata": {},
   "execution_count": 14
  },
  {
   "outputs": [
    {
     "output_type": "execute_result",
     "data": {
      "text/plain": "1.0 - 2.0im"
     },
     "metadata": {},
     "execution_count": 15
    }
   ],
   "cell_type": "code",
   "source": [
    "conj(z)"
   ],
   "metadata": {},
   "execution_count": 15
  },
  {
   "outputs": [
    {
     "output_type": "execute_result",
     "data": {
      "text/plain": "2.23606797749979"
     },
     "metadata": {},
     "execution_count": 16
    }
   ],
   "cell_type": "code",
   "source": [
    "abs(z)"
   ],
   "metadata": {},
   "execution_count": 16
  },
  {
   "cell_type": "markdown",
   "source": [
    "### The rotation operation\n",
    "The complex number $\\mathrm{e}^{\\mathrm{i}\\alpha}$ has special importance: By multiplying\n",
    "it with another complex number, it **rotates** that number by angle $\\alpha$ in the\n",
    "counter-clockwise direction about the origin. That can be particularly useful for moving\n",
    "points around.\n",
    "\n",
    "Let's try this:"
   ],
   "metadata": {}
  },
  {
   "outputs": [],
   "cell_type": "code",
   "source": [
    "α = π/2              ## angle of counter-clockwise rotation\n",
    "z = 1.0+2.0*im       ## original point\n",
    "zrot = exp(im*α)*z;  ## new point, rotated"
   ],
   "metadata": {},
   "execution_count": 17
  },
  {
   "cell_type": "markdown",
   "source": [
    "Plot these points, using some lines from the origin to show that the rotation\n",
    "preserves the length."
   ],
   "metadata": {}
  },
  {
   "outputs": [
    {
     "output_type": "execute_result",
     "data": {
      "text/plain": "Plot{Plots.GRBackend() n=3}",
      "image/png": "[encoded data removed]",
      "text/html": [
       "<?xml version=\"1.0\" encoding=\"utf-8\"?>\n",
       "<svg xmlns=\"http://www.w3.org/2000/svg\" xmlns:xlink=\"http://www.w3.org/1999/xlink\" width=\"400\" height=\"300\" viewBox=\"0 0 1600 1200\">\n",
       "<defs>\n",
       "  <clipPath id=\"clip710\">\n",
       "    <rect x=\"0\" y=\"0\" width=\"1600\" height=\"1200\"/>\n",
       "  </clipPath>\n",
       "</defs>\n",
       "<path clip-path=\"url(#clip710)\" d=\"\n",
       "M0 1200 L1600 1200 L1600 0 L0 0  Z\n",
       "  \" fill=\"#ffffff\" fill-rule=\"evenodd\" fill-opacity=\"1\"/>\n",
       "<defs>\n",
       "  <clipPath id=\"clip711\">\n",
       "    <rect x=\"320\" y=\"0\" width=\"1121\" height=\"1121\"/>\n",
       "  </clipPath>\n",
       "</defs>\n",
       "<path clip-path=\"url(#clip710)\" d=\"\n",
       "M326.964 1086.13 L1365.85 1086.13 L1365.85 47.2441 L326.964 47.2441  Z\n",
       "  \" fill=\"#ffffff\" fill-rule=\"evenodd\" fill-opacity=\"1\"/>\n",
       "<defs>\n",
       "  <clipPath id=\"clip712\">\n",
       "    <rect x=\"326\" y=\"47\" width=\"1040\" height=\"1040\"/>\n",
       "  </clipPath>\n",
       "</defs>\n",
       "<polyline clip-path=\"url(#clip710)\" style=\"stroke:#000000; stroke-linecap:round; stroke-linejoin:round; stroke-width:4; stroke-opacity:1; fill:none\" points=\"\n",
       "  326.964,1086.13 1365.85,1086.13 \n",
       "  \"/>\n",
       "<polyline clip-path=\"url(#clip710)\" style=\"stroke:#000000; stroke-linecap:round; stroke-linejoin:round; stroke-width:4; stroke-opacity:1; fill:none\" points=\"\n",
       "  326.964,1086.13 326.964,1067.23 \n",
       "  \"/>\n",
       "<polyline clip-path=\"url(#clip710)\" style=\"stroke:#000000; stroke-linecap:round; stroke-linejoin:round; stroke-width:4; stroke-opacity:1; fill:none\" points=\"\n",
       "  500.112,1086.13 500.112,1067.23 \n",
       "  \"/>\n",
       "<polyline clip-path=\"url(#clip710)\" style=\"stroke:#000000; stroke-linecap:round; stroke-linejoin:round; stroke-width:4; stroke-opacity:1; fill:none\" points=\"\n",
       "  673.259,1086.13 673.259,1067.23 \n",
       "  \"/>\n",
       "<polyline clip-path=\"url(#clip710)\" style=\"stroke:#000000; stroke-linecap:round; stroke-linejoin:round; stroke-width:4; stroke-opacity:1; fill:none\" points=\"\n",
       "  846.406,1086.13 846.406,1067.23 \n",
       "  \"/>\n",
       "<polyline clip-path=\"url(#clip710)\" style=\"stroke:#000000; stroke-linecap:round; stroke-linejoin:round; stroke-width:4; stroke-opacity:1; fill:none\" points=\"\n",
       "  1019.55,1086.13 1019.55,1067.23 \n",
       "  \"/>\n",
       "<polyline clip-path=\"url(#clip710)\" style=\"stroke:#000000; stroke-linecap:round; stroke-linejoin:round; stroke-width:4; stroke-opacity:1; fill:none\" points=\"\n",
       "  1192.7,1086.13 1192.7,1067.23 \n",
       "  \"/>\n",
       "<polyline clip-path=\"url(#clip710)\" style=\"stroke:#000000; stroke-linecap:round; stroke-linejoin:round; stroke-width:4; stroke-opacity:1; fill:none\" points=\"\n",
       "  1365.85,1086.13 1365.85,1067.23 \n",
       "  \"/>\n",
       "<path clip-path=\"url(#clip710)\" d=\"M296.432 1125.3 L326.108 1125.3 L326.108 1129.23 L296.432 1129.23 L296.432 1125.3 Z\" fill=\"#000000\" fill-rule=\"evenodd\" fill-opacity=\"1\" /><path clip-path=\"url(#clip710)\" d=\"M350.367 1123.49 Q353.723 1124.21 355.598 1126.48 Q357.497 1128.75 357.497 1132.08 Q357.497 1137.2 353.978 1140 Q350.46 1142.8 343.978 1142.8 Q341.802 1142.8 339.487 1142.36 Q337.196 1141.94 334.742 1141.09 L334.742 1136.57 Q336.687 1137.71 339.001 1138.29 Q341.316 1138.86 343.839 1138.86 Q348.237 1138.86 350.529 1137.13 Q352.844 1135.39 352.844 1132.08 Q352.844 1129.03 350.691 1127.31 Q348.561 1125.58 344.742 1125.58 L340.714 1125.58 L340.714 1121.73 L344.927 1121.73 Q348.376 1121.73 350.205 1120.37 Q352.034 1118.98 352.034 1116.39 Q352.034 1113.73 350.136 1112.31 Q348.261 1110.88 344.742 1110.88 Q342.821 1110.88 340.622 1111.29 Q338.423 1111.71 335.784 1112.59 L335.784 1108.42 Q338.446 1107.68 340.761 1107.31 Q343.099 1106.94 345.159 1106.94 Q350.483 1106.94 353.585 1109.37 Q356.686 1111.78 356.686 1115.9 Q356.686 1118.77 355.043 1120.76 Q353.399 1122.73 350.367 1123.49 Z\" fill=\"#000000\" fill-rule=\"evenodd\" fill-opacity=\"1\" /><path clip-path=\"url(#clip710)\" d=\"M470.054 1125.3 L499.73 1125.3 L499.73 1129.23 L470.054 1129.23 L470.054 1125.3 Z\" fill=\"#000000\" fill-rule=\"evenodd\" fill-opacity=\"1\" /><path clip-path=\"url(#clip710)\" d=\"M513.85 1138.19 L530.169 1138.19 L530.169 1142.13 L508.225 1142.13 L508.225 1138.19 Q510.887 1135.44 515.47 1130.81 Q520.077 1126.16 521.257 1124.81 Q523.503 1122.29 524.382 1120.55 Q525.285 1118.79 525.285 1117.1 Q525.285 1114.35 523.341 1112.61 Q521.419 1110.88 518.318 1110.88 Q516.119 1110.88 513.665 1111.64 Q511.234 1112.41 508.457 1113.96 L508.457 1109.23 Q511.281 1108.1 513.734 1107.52 Q516.188 1106.94 518.225 1106.94 Q523.595 1106.94 526.79 1109.63 Q529.984 1112.31 529.984 1116.8 Q529.984 1118.93 529.174 1120.85 Q528.387 1122.75 526.281 1125.35 Q525.702 1126.02 522.6 1129.23 Q519.498 1132.43 513.85 1138.19 Z\" fill=\"#000000\" fill-rule=\"evenodd\" fill-opacity=\"1\" /><path clip-path=\"url(#clip710)\" d=\"M643.016 1125.3 L672.692 1125.3 L672.692 1129.23 L643.016 1129.23 L643.016 1125.3 Z\" fill=\"#000000\" fill-rule=\"evenodd\" fill-opacity=\"1\" /><path clip-path=\"url(#clip710)\" d=\"M683.595 1138.19 L691.233 1138.19 L691.233 1111.83 L682.923 1113.49 L682.923 1109.23 L691.187 1107.57 L695.863 1107.57 L695.863 1138.19 L703.502 1138.19 L703.502 1142.13 L683.595 1142.13 L683.595 1138.19 Z\" fill=\"#000000\" fill-rule=\"evenodd\" fill-opacity=\"1\" /><path clip-path=\"url(#clip710)\" d=\"M846.406 1110.65 Q842.795 1110.65 840.966 1114.21 Q839.161 1117.75 839.161 1124.88 Q839.161 1131.99 840.966 1135.55 Q842.795 1139.1 846.406 1139.1 Q850.04 1139.1 851.846 1135.55 Q853.675 1131.99 853.675 1124.88 Q853.675 1117.75 851.846 1114.21 Q850.04 1110.65 846.406 1110.65 M846.406 1106.94 Q852.216 1106.94 855.272 1111.55 Q858.351 1116.13 858.351 1124.88 Q858.351 1133.61 855.272 1138.22 Q852.216 1142.8 846.406 1142.8 Q840.596 1142.8 837.517 1138.22 Q834.462 1133.61 834.462 1124.88 Q834.462 1116.13 837.517 1111.55 Q840.596 1106.94 846.406 1106.94 Z\" fill=\"#000000\" fill-rule=\"evenodd\" fill-opacity=\"1\" /><path clip-path=\"url(#clip710)\" d=\"M1009.94 1138.19 L1017.57 1138.19 L1017.57 1111.83 L1009.26 1113.49 L1009.26 1109.23 L1017.53 1107.57 L1022.2 1107.57 L1022.2 1138.19 L1029.84 1138.19 L1029.84 1142.13 L1009.94 1142.13 L1009.94 1138.19 Z\" fill=\"#000000\" fill-rule=\"evenodd\" fill-opacity=\"1\" /><path clip-path=\"url(#clip710)\" d=\"M1187.35 1138.19 L1203.67 1138.19 L1203.67 1142.13 L1181.73 1142.13 L1181.73 1138.19 Q1184.39 1135.44 1188.97 1130.81 Q1193.58 1126.16 1194.76 1124.81 Q1197.01 1122.29 1197.89 1120.55 Q1198.79 1118.79 1198.79 1117.1 Q1198.79 1114.35 1196.84 1112.61 Q1194.92 1110.88 1191.82 1110.88 Q1189.62 1110.88 1187.17 1111.64 Q1184.74 1112.41 1181.96 1113.96 L1181.96 1109.23 Q1184.78 1108.1 1187.24 1107.52 Q1189.69 1106.94 1191.73 1106.94 Q1197.1 1106.94 1200.29 1109.63 Q1203.49 1112.31 1203.49 1116.8 Q1203.49 1118.93 1202.68 1120.85 Q1201.89 1122.75 1199.78 1125.35 Q1199.21 1126.02 1196.1 1129.23 Q1193 1132.43 1187.35 1138.19 Z\" fill=\"#000000\" fill-rule=\"evenodd\" fill-opacity=\"1\" /><path clip-path=\"url(#clip710)\" d=\"M1370.1 1123.49 Q1373.45 1124.21 1375.33 1126.48 Q1377.23 1128.75 1377.23 1132.08 Q1377.23 1137.2 1373.71 1140 Q1370.19 1142.8 1363.71 1142.8 Q1361.53 1142.8 1359.22 1142.36 Q1356.92 1141.94 1354.47 1141.09 L1354.47 1136.57 Q1356.42 1137.71 1358.73 1138.29 Q1361.04 1138.86 1363.57 1138.86 Q1367.97 1138.86 1370.26 1137.13 Q1372.57 1135.39 1372.57 1132.08 Q1372.57 1129.03 1370.42 1127.31 Q1368.29 1125.58 1364.47 1125.58 L1360.44 1125.58 L1360.44 1121.73 L1364.66 1121.73 Q1368.11 1121.73 1369.93 1120.37 Q1371.76 1118.98 1371.76 1116.39 Q1371.76 1113.73 1369.86 1112.31 Q1367.99 1110.88 1364.47 1110.88 Q1362.55 1110.88 1360.35 1111.29 Q1358.15 1111.71 1355.51 1112.59 L1355.51 1108.42 Q1358.17 1107.68 1360.49 1107.31 Q1362.83 1106.94 1364.89 1106.94 Q1370.21 1106.94 1373.31 1109.37 Q1376.42 1111.78 1376.42 1115.9 Q1376.42 1118.77 1374.77 1120.76 Q1373.13 1122.73 1370.1 1123.49 Z\" fill=\"#000000\" fill-rule=\"evenodd\" fill-opacity=\"1\" /><polyline clip-path=\"url(#clip710)\" style=\"stroke:#000000; stroke-linecap:round; stroke-linejoin:round; stroke-width:4; stroke-opacity:1; fill:none\" points=\"\n",
       "  326.964,1086.13 326.964,47.2441 \n",
       "  \"/>\n",
       "<polyline clip-path=\"url(#clip710)\" style=\"stroke:#000000; stroke-linecap:round; stroke-linejoin:round; stroke-width:4; stroke-opacity:1; fill:none\" points=\"\n",
       "  326.964,1086.13 340.861,1086.13 \n",
       "  \"/>\n",
       "<polyline clip-path=\"url(#clip710)\" style=\"stroke:#000000; stroke-linecap:round; stroke-linejoin:round; stroke-width:4; stroke-opacity:1; fill:none\" points=\"\n",
       "  326.964,912.981 340.861,912.981 \n",
       "  \"/>\n",
       "<polyline clip-path=\"url(#clip710)\" style=\"stroke:#000000; stroke-linecap:round; stroke-linejoin:round; stroke-width:4; stroke-opacity:1; fill:none\" points=\"\n",
       "  326.964,739.833 340.861,739.833 \n",
       "  \"/>\n",
       "<polyline clip-path=\"url(#clip710)\" style=\"stroke:#000000; stroke-linecap:round; stroke-linejoin:round; stroke-width:4; stroke-opacity:1; fill:none\" points=\"\n",
       "  326.964,566.686 340.861,566.686 \n",
       "  \"/>\n",
       "<polyline clip-path=\"url(#clip710)\" style=\"stroke:#000000; stroke-linecap:round; stroke-linejoin:round; stroke-width:4; stroke-opacity:1; fill:none\" points=\"\n",
       "  326.964,393.539 340.861,393.539 \n",
       "  \"/>\n",
       "<polyline clip-path=\"url(#clip710)\" style=\"stroke:#000000; stroke-linecap:round; stroke-linejoin:round; stroke-width:4; stroke-opacity:1; fill:none\" points=\"\n",
       "  326.964,220.391 340.861,220.391 \n",
       "  \"/>\n",
       "<polyline clip-path=\"url(#clip710)\" style=\"stroke:#000000; stroke-linecap:round; stroke-linejoin:round; stroke-width:4; stroke-opacity:1; fill:none\" points=\"\n",
       "  326.964,47.2441 340.861,47.2441 \n",
       "  \"/>\n",
       "<path clip-path=\"url(#clip710)\" d=\"M241.9 1086.58 L271.576 1086.58 L271.576 1090.51 L241.9 1090.51 L241.9 1086.58 Z\" fill=\"#000000\" fill-rule=\"evenodd\" fill-opacity=\"1\" /><path clip-path=\"url(#clip710)\" d=\"M295.835 1084.77 Q299.191 1085.49 301.066 1087.76 Q302.964 1090.03 302.964 1093.36 Q302.964 1098.48 299.446 1101.28 Q295.927 1104.08 289.446 1104.08 Q287.27 1104.08 284.955 1103.64 Q282.664 1103.22 280.21 1102.37 L280.21 1097.85 Q282.154 1098.99 284.469 1099.57 Q286.784 1100.14 289.307 1100.14 Q293.705 1100.14 295.997 1098.41 Q298.312 1096.67 298.312 1093.36 Q298.312 1090.31 296.159 1088.59 Q294.029 1086.86 290.21 1086.86 L286.182 1086.86 L286.182 1083.01 L290.395 1083.01 Q293.844 1083.01 295.673 1081.65 Q297.501 1080.26 297.501 1077.67 Q297.501 1075.01 295.603 1073.59 Q293.728 1072.16 290.21 1072.16 Q288.289 1072.16 286.089 1072.57 Q283.89 1072.99 281.252 1073.87 L281.252 1069.7 Q283.914 1068.96 286.228 1068.59 Q288.566 1068.22 290.626 1068.22 Q295.951 1068.22 299.052 1070.65 Q302.154 1073.06 302.154 1077.18 Q302.154 1080.05 300.511 1082.04 Q298.867 1084.01 295.835 1084.77 Z\" fill=\"#000000\" fill-rule=\"evenodd\" fill-opacity=\"1\" /><path clip-path=\"url(#clip710)\" d=\"M242.849 913.432 L272.525 913.432 L272.525 917.367 L242.849 917.367 L242.849 913.432 Z\" fill=\"#000000\" fill-rule=\"evenodd\" fill-opacity=\"1\" /><path clip-path=\"url(#clip710)\" d=\"M286.645 926.325 L302.964 926.325 L302.964 930.261 L281.02 930.261 L281.02 926.325 Q283.682 923.571 288.265 918.941 Q292.872 914.288 294.052 912.946 Q296.298 910.423 297.177 908.687 Q298.08 906.927 298.08 905.238 Q298.08 902.483 296.136 900.747 Q294.214 899.011 291.113 899.011 Q288.914 899.011 286.46 899.775 Q284.029 900.539 281.252 902.089 L281.252 897.367 Q284.076 896.233 286.529 895.654 Q288.983 895.076 291.02 895.076 Q296.39 895.076 299.585 897.761 Q302.779 900.446 302.779 904.937 Q302.779 907.066 301.969 908.988 Q301.182 910.886 299.076 913.478 Q298.497 914.15 295.395 917.367 Q292.293 920.562 286.645 926.325 Z\" fill=\"#000000\" fill-rule=\"evenodd\" fill-opacity=\"1\" /><path clip-path=\"url(#clip710)\" d=\"M242.479 740.285 L272.154 740.285 L272.154 744.22 L242.479 744.22 L242.479 740.285 Z\" fill=\"#000000\" fill-rule=\"evenodd\" fill-opacity=\"1\" /><path clip-path=\"url(#clip710)\" d=\"M283.057 753.178 L290.696 753.178 L290.696 726.813 L282.386 728.479 L282.386 724.22 L290.65 722.553 L295.326 722.553 L295.326 753.178 L302.964 753.178 L302.964 757.113 L283.057 757.113 L283.057 753.178 Z\" fill=\"#000000\" fill-rule=\"evenodd\" fill-opacity=\"1\" /><path clip-path=\"url(#clip710)\" d=\"M291.02 552.485 Q287.409 552.485 285.58 556.049 Q283.775 559.591 283.775 566.721 Q283.775 573.827 285.58 577.392 Q287.409 580.934 291.02 580.934 Q294.654 580.934 296.46 577.392 Q298.288 573.827 298.288 566.721 Q298.288 559.591 296.46 556.049 Q294.654 552.485 291.02 552.485 M291.02 548.781 Q296.83 548.781 299.886 553.387 Q302.964 557.971 302.964 566.721 Q302.964 575.448 299.886 580.054 Q296.83 584.637 291.02 584.637 Q285.21 584.637 282.131 580.054 Q279.076 575.448 279.076 566.721 Q279.076 557.971 282.131 553.387 Q285.21 548.781 291.02 548.781 Z\" fill=\"#000000\" fill-rule=\"evenodd\" fill-opacity=\"1\" /><path clip-path=\"url(#clip710)\" d=\"M283.057 406.884 L290.696 406.884 L290.696 380.518 L282.386 382.185 L282.386 377.925 L290.65 376.259 L295.326 376.259 L295.326 406.884 L302.964 406.884 L302.964 410.819 L283.057 410.819 L283.057 406.884 Z\" fill=\"#000000\" fill-rule=\"evenodd\" fill-opacity=\"1\" /><path clip-path=\"url(#clip710)\" d=\"M286.645 233.736 L302.964 233.736 L302.964 237.671 L281.02 237.671 L281.02 233.736 Q283.682 230.982 288.265 226.352 Q292.872 221.699 294.052 220.357 Q296.298 217.834 297.177 216.097 Q298.08 214.338 298.08 212.648 Q298.08 209.894 296.136 208.158 Q294.214 206.422 291.113 206.422 Q288.914 206.422 286.46 207.185 Q284.029 207.949 281.252 209.5 L281.252 204.778 Q284.076 203.644 286.529 203.065 Q288.983 202.486 291.02 202.486 Q296.39 202.486 299.585 205.172 Q302.779 207.857 302.779 212.347 Q302.779 214.477 301.969 216.398 Q301.182 218.296 299.076 220.889 Q298.497 221.56 295.395 224.778 Q292.293 227.972 286.645 233.736 Z\" fill=\"#000000\" fill-rule=\"evenodd\" fill-opacity=\"1\" /><path clip-path=\"url(#clip710)\" d=\"M295.835 45.8899 Q299.191 46.6075 301.066 48.876 Q302.964 51.1445 302.964 54.4779 Q302.964 59.5936 299.446 62.3945 Q295.927 65.1954 289.446 65.1954 Q287.27 65.1954 284.955 64.7556 Q282.664 64.3389 280.21 63.4824 L280.21 58.9686 Q282.154 60.1028 284.469 60.6815 Q286.784 61.2602 289.307 61.2602 Q293.705 61.2602 295.997 59.5241 Q298.312 57.788 298.312 54.4779 Q298.312 51.4223 296.159 49.7094 Q294.029 47.9733 290.21 47.9733 L286.182 47.9733 L286.182 44.1307 L290.395 44.1307 Q293.844 44.1307 295.673 42.765 Q297.501 41.3761 297.501 38.7835 Q297.501 36.1215 295.603 34.7094 Q293.728 33.2743 290.21 33.2743 Q288.289 33.2743 286.089 33.6909 Q283.89 34.1076 281.252 34.9872 L281.252 30.8206 Q283.914 30.0798 286.228 29.7095 Q288.566 29.3391 290.626 29.3391 Q295.951 29.3391 299.052 31.7696 Q302.154 34.177 302.154 38.2974 Q302.154 41.1677 300.511 43.1585 Q298.867 45.1261 295.835 45.8899 Z\" fill=\"#000000\" fill-rule=\"evenodd\" fill-opacity=\"1\" /><circle clip-path=\"url(#clip712)\" cx=\"1019.55\" cy=\"220.391\" r=\"14.4\" fill=\"#009af9\" fill-rule=\"evenodd\" fill-opacity=\"1\" stroke=\"#000000\" stroke-opacity=\"1\" stroke-width=\"2.4\"/>\n",
       "<circle clip-path=\"url(#clip712)\" cx=\"500.112\" cy=\"393.539\" r=\"14.4\" fill=\"#009af9\" fill-rule=\"evenodd\" fill-opacity=\"1\" stroke=\"#000000\" stroke-opacity=\"1\" stroke-width=\"2.4\"/>\n",
       "<polyline clip-path=\"url(#clip712)\" style=\"stroke:#e26f46; stroke-linecap:round; stroke-linejoin:round; stroke-width:4; stroke-opacity:1; fill:none\" points=\"\n",
       "  846.406,566.686 1019.55,220.391 \n",
       "  \"/>\n",
       "<polyline clip-path=\"url(#clip712)\" style=\"stroke:#3da44d; stroke-linecap:round; stroke-linejoin:round; stroke-width:4; stroke-opacity:1; fill:none\" points=\"\n",
       "  846.406,566.686 500.112,393.539 \n",
       "  \"/>\n",
       "<path clip-path=\"url(#clip710)\" d=\"\n",
       "M759.896 289.234 L1318.76 289.234 L1318.76 81.8736 L759.896 81.8736  Z\n",
       "  \" fill=\"#ffffff\" fill-rule=\"evenodd\" fill-opacity=\"1\"/>\n",
       "<polyline clip-path=\"url(#clip710)\" style=\"stroke:#000000; stroke-linecap:round; stroke-linejoin:round; stroke-width:4; stroke-opacity:1; fill:none\" points=\"\n",
       "  759.896,289.234 1318.76,289.234 1318.76,81.8736 759.896,81.8736 759.896,289.234 \n",
       "  \"/>\n",
       "<circle clip-path=\"url(#clip710)\" cx=\"822.682\" cy=\"133.714\" r=\"23.04\" fill=\"#009af9\" fill-rule=\"evenodd\" fill-opacity=\"1\" stroke=\"#000000\" stroke-opacity=\"1\" stroke-width=\"3.84\"/>\n",
       "<path clip-path=\"url(#clip710)\" d=\"M899.311 153.401 Q897.506 158.031 895.793 159.443 Q894.08 160.855 891.21 160.855 L887.807 160.855 L887.807 157.29 L890.307 157.29 Q892.066 157.29 893.038 156.456 Q894.01 155.623 895.191 152.521 L895.955 150.577 L885.469 125.068 L889.983 125.068 L898.085 145.345 L906.186 125.068 L910.7 125.068 L899.311 153.401 Z\" fill=\"#000000\" fill-rule=\"evenodd\" fill-opacity=\"1\" /><path clip-path=\"url(#clip710)\" d=\"M917.992 147.058 L925.631 147.058 L925.631 120.693 L917.321 122.359 L917.321 118.1 L925.584 116.434 L930.26 116.434 L930.26 147.058 L937.899 147.058 L937.899 150.994 L917.992 150.994 L917.992 147.058 Z\" fill=\"#000000\" fill-rule=\"evenodd\" fill-opacity=\"1\" /><polyline clip-path=\"url(#clip710)\" style=\"stroke:#e26f46; stroke-linecap:round; stroke-linejoin:round; stroke-width:4; stroke-opacity:1; fill:none\" points=\"\n",
       "  775.592,185.554 869.772,185.554 \n",
       "  \"/>\n",
       "<path clip-path=\"url(#clip710)\" d=\"M901.858 186.63 Q903.362 187.139 904.774 188.806 Q906.209 190.473 907.645 193.389 L912.39 202.834 L907.367 202.834 L902.946 193.968 Q901.233 190.496 899.612 189.361 Q898.015 188.227 895.237 188.227 L890.145 188.227 L890.145 202.834 L885.469 202.834 L885.469 168.274 L896.024 168.274 Q901.95 168.274 904.867 170.75 Q907.784 173.227 907.784 178.227 Q907.784 181.491 906.256 183.644 Q904.751 185.797 901.858 186.63 M890.145 172.116 L890.145 184.385 L896.024 184.385 Q899.404 184.385 901.117 182.834 Q902.853 181.26 902.853 178.227 Q902.853 175.195 901.117 173.667 Q899.404 172.116 896.024 172.116 L890.145 172.116 Z\" fill=\"#000000\" fill-rule=\"evenodd\" fill-opacity=\"1\" /><path clip-path=\"url(#clip710)\" d=\"M928.964 189.801 Q923.802 189.801 921.811 190.982 Q919.821 192.162 919.821 195.01 Q919.821 197.278 921.302 198.621 Q922.807 199.94 925.376 199.94 Q928.918 199.94 931.047 197.44 Q933.2 194.917 933.2 190.75 L933.2 189.801 L928.964 189.801 M937.459 188.042 L937.459 202.834 L933.2 202.834 L933.2 198.898 Q931.742 201.259 929.566 202.394 Q927.39 203.505 924.242 203.505 Q920.26 203.505 917.899 201.283 Q915.561 199.037 915.561 195.287 Q915.561 190.912 918.478 188.69 Q921.418 186.468 927.228 186.468 L933.2 186.468 L933.2 186.051 Q933.2 183.111 931.256 181.514 Q929.334 179.894 925.839 179.894 Q923.617 179.894 921.51 180.426 Q919.404 180.959 917.459 182.023 L917.459 178.088 Q919.797 177.186 921.996 176.746 Q924.196 176.283 926.279 176.283 Q931.904 176.283 934.682 179.199 Q937.459 182.116 937.459 188.042 Z\" fill=\"#000000\" fill-rule=\"evenodd\" fill-opacity=\"1\" /><path clip-path=\"url(#clip710)\" d=\"M957.019 205.241 Q955.214 209.871 953.501 211.283 Q951.788 212.695 948.918 212.695 L945.515 212.695 L945.515 209.13 L948.015 209.13 Q949.774 209.13 950.746 208.296 Q951.719 207.463 952.899 204.361 L953.663 202.417 L943.177 176.908 L947.691 176.908 L955.793 197.185 L963.894 176.908 L968.408 176.908 L957.019 205.241 Z\" fill=\"#000000\" fill-rule=\"evenodd\" fill-opacity=\"1\" /><path clip-path=\"url(#clip710)\" d=\"M993.57 169.547 L993.57 176.908 L1002.34 176.908 L1002.34 180.218 L993.57 180.218 L993.57 194.292 Q993.57 197.463 994.427 198.366 Q995.306 199.269 997.968 199.269 L1002.34 199.269 L1002.34 202.834 L997.968 202.834 Q993.038 202.834 991.163 201.005 Q989.288 199.153 989.288 194.292 L989.288 180.218 L986.163 180.218 L986.163 176.908 L989.288 176.908 L989.288 169.547 L993.57 169.547 Z\" fill=\"#000000\" fill-rule=\"evenodd\" fill-opacity=\"1\" /><path clip-path=\"url(#clip710)\" d=\"M1017.99 179.894 Q1014.57 179.894 1012.57 182.579 Q1010.58 185.241 1010.58 189.894 Q1010.58 194.547 1012.55 197.232 Q1014.54 199.894 1017.99 199.894 Q1021.39 199.894 1023.38 197.209 Q1025.38 194.523 1025.38 189.894 Q1025.38 185.287 1023.38 182.602 Q1021.39 179.894 1017.99 179.894 M1017.99 176.283 Q1023.55 176.283 1026.72 179.894 Q1029.89 183.505 1029.89 189.894 Q1029.89 196.26 1026.72 199.894 Q1023.55 203.505 1017.99 203.505 Q1012.41 203.505 1009.24 199.894 Q1006.09 196.26 1006.09 189.894 Q1006.09 183.505 1009.24 179.894 Q1012.41 176.283 1017.99 176.283 Z\" fill=\"#000000\" fill-rule=\"evenodd\" fill-opacity=\"1\" /><path clip-path=\"url(#clip710)\" d=\"M1062.07 179.894 Q1058.64 179.894 1056.65 182.579 Q1054.66 185.241 1054.66 189.894 Q1054.66 194.547 1056.63 197.232 Q1058.62 199.894 1062.07 199.894 Q1065.47 199.894 1067.46 197.209 Q1069.45 194.523 1069.45 189.894 Q1069.45 185.287 1067.46 182.602 Q1065.47 179.894 1062.07 179.894 M1062.07 176.283 Q1067.62 176.283 1070.79 179.894 Q1073.96 183.505 1073.96 189.894 Q1073.96 196.26 1070.79 199.894 Q1067.62 203.505 1062.07 203.505 Q1056.49 203.505 1053.32 199.894 Q1050.17 196.26 1050.17 189.894 Q1050.17 183.505 1053.32 179.894 Q1056.49 176.283 1062.07 176.283 Z\" fill=\"#000000\" fill-rule=\"evenodd\" fill-opacity=\"1\" /><path clip-path=\"url(#clip710)\" d=\"M1096.05 180.889 Q1095.33 180.473 1094.47 180.287 Q1093.64 180.079 1092.62 180.079 Q1089.01 180.079 1087.07 182.44 Q1085.14 184.778 1085.14 189.176 L1085.14 202.834 L1080.86 202.834 L1080.86 176.908 L1085.14 176.908 L1085.14 180.936 Q1086.49 178.574 1088.64 177.44 Q1090.79 176.283 1093.87 176.283 Q1094.31 176.283 1094.84 176.352 Q1095.38 176.399 1096.02 176.514 L1096.05 180.889 Z\" fill=\"#000000\" fill-rule=\"evenodd\" fill-opacity=\"1\" /><path clip-path=\"url(#clip710)\" d=\"M1100.51 176.908 L1104.77 176.908 L1104.77 202.834 L1100.51 202.834 L1100.51 176.908 M1100.51 166.815 L1104.77 166.815 L1104.77 172.209 L1100.51 172.209 L1100.51 166.815 Z\" fill=\"#000000\" fill-rule=\"evenodd\" fill-opacity=\"1\" /><path clip-path=\"url(#clip710)\" d=\"M1130.75 189.57 Q1130.75 184.94 1128.82 182.394 Q1126.93 179.848 1123.48 179.848 Q1120.05 179.848 1118.13 182.394 Q1116.23 184.94 1116.23 189.57 Q1116.23 194.176 1118.13 196.722 Q1120.05 199.269 1123.48 199.269 Q1126.93 199.269 1128.82 196.722 Q1130.75 194.176 1130.75 189.57 M1135 199.616 Q1135 206.236 1132.06 209.454 Q1129.12 212.695 1123.06 212.695 Q1120.81 212.695 1118.82 212.347 Q1116.83 212.023 1114.96 211.329 L1114.96 207.185 Q1116.83 208.204 1118.66 208.69 Q1120.49 209.176 1122.39 209.176 Q1126.58 209.176 1128.66 206.977 Q1130.75 204.801 1130.75 200.38 L1130.75 198.273 Q1129.43 200.565 1127.37 201.699 Q1125.31 202.834 1122.44 202.834 Q1117.67 202.834 1114.75 199.199 Q1111.83 195.565 1111.83 189.57 Q1111.83 183.551 1114.75 179.917 Q1117.67 176.283 1122.44 176.283 Q1125.31 176.283 1127.37 177.417 Q1129.43 178.551 1130.75 180.843 L1130.75 176.908 L1135 176.908 L1135 199.616 Z\" fill=\"#000000\" fill-rule=\"evenodd\" fill-opacity=\"1\" /><path clip-path=\"url(#clip710)\" d=\"M1143.78 176.908 L1148.04 176.908 L1148.04 202.834 L1143.78 202.834 L1143.78 176.908 M1143.78 166.815 L1148.04 166.815 L1148.04 172.209 L1143.78 172.209 L1143.78 166.815 Z\" fill=\"#000000\" fill-rule=\"evenodd\" fill-opacity=\"1\" /><path clip-path=\"url(#clip710)\" d=\"M1178.5 187.185 L1178.5 202.834 L1174.24 202.834 L1174.24 187.324 Q1174.24 183.644 1172.81 181.815 Q1171.37 179.986 1168.5 179.986 Q1165.05 179.986 1163.06 182.186 Q1161.07 184.385 1161.07 188.181 L1161.07 202.834 L1156.79 202.834 L1156.79 176.908 L1161.07 176.908 L1161.07 180.936 Q1162.6 178.598 1164.66 177.44 Q1166.74 176.283 1169.45 176.283 Q1173.92 176.283 1176.21 179.061 Q1178.5 181.815 1178.5 187.185 Z\" fill=\"#000000\" fill-rule=\"evenodd\" fill-opacity=\"1\" /><path clip-path=\"url(#clip710)\" d=\"M1198.78 189.801 Q1193.62 189.801 1191.62 190.982 Q1189.63 192.162 1189.63 195.01 Q1189.63 197.278 1191.12 198.621 Q1192.62 199.94 1195.19 199.94 Q1198.73 199.94 1200.86 197.44 Q1203.01 194.917 1203.01 190.75 L1203.01 189.801 L1198.78 189.801 M1207.27 188.042 L1207.27 202.834 L1203.01 202.834 L1203.01 198.898 Q1201.56 201.259 1199.38 202.394 Q1197.2 203.505 1194.06 203.505 Q1190.07 203.505 1187.71 201.283 Q1185.37 199.037 1185.37 195.287 Q1185.37 190.912 1188.29 188.69 Q1191.23 186.468 1197.04 186.468 L1203.01 186.468 L1203.01 186.051 Q1203.01 183.111 1201.07 181.514 Q1199.15 179.894 1195.65 179.894 Q1193.43 179.894 1191.32 180.426 Q1189.22 180.959 1187.27 182.023 L1187.27 178.088 Q1189.61 177.186 1191.81 176.746 Q1194.01 176.283 1196.09 176.283 Q1201.72 176.283 1204.49 179.199 Q1207.27 182.116 1207.27 188.042 Z\" fill=\"#000000\" fill-rule=\"evenodd\" fill-opacity=\"1\" /><path clip-path=\"url(#clip710)\" d=\"M1216.05 166.815 L1220.31 166.815 L1220.31 202.834 L1216.05 202.834 L1216.05 166.815 Z\" fill=\"#000000\" fill-rule=\"evenodd\" fill-opacity=\"1\" /><path clip-path=\"url(#clip710)\" d=\"M1248.41 198.945 L1248.41 212.695 L1244.12 212.695 L1244.12 176.908 L1248.41 176.908 L1248.41 180.843 Q1249.75 178.528 1251.79 177.417 Q1253.85 176.283 1256.69 176.283 Q1261.42 176.283 1264.36 180.033 Q1267.32 183.783 1267.32 189.894 Q1267.32 196.005 1264.36 199.755 Q1261.42 203.505 1256.69 203.505 Q1253.85 203.505 1251.79 202.394 Q1249.75 201.259 1248.41 198.945 M1262.9 189.894 Q1262.9 185.195 1260.95 182.533 Q1259.03 179.848 1255.65 179.848 Q1252.27 179.848 1250.33 182.533 Q1248.41 185.195 1248.41 189.894 Q1248.41 194.593 1250.33 197.278 Q1252.27 199.94 1255.65 199.94 Q1259.03 199.94 1260.95 197.278 Q1262.9 194.593 1262.9 189.894 Z\" fill=\"#000000\" fill-rule=\"evenodd\" fill-opacity=\"1\" /><path clip-path=\"url(#clip710)\" d=\"M1278.59 169.547 L1278.59 176.908 L1287.36 176.908 L1287.36 180.218 L1278.59 180.218 L1278.59 194.292 Q1278.59 197.463 1279.45 198.366 Q1280.33 199.269 1282.99 199.269 L1287.36 199.269 L1287.36 202.834 L1282.99 202.834 Q1278.06 202.834 1276.18 201.005 Q1274.31 199.153 1274.31 194.292 L1274.31 180.218 L1271.18 180.218 L1271.18 176.908 L1274.31 176.908 L1274.31 169.547 L1278.59 169.547 Z\" fill=\"#000000\" fill-rule=\"evenodd\" fill-opacity=\"1\" /><polyline clip-path=\"url(#clip710)\" style=\"stroke:#3da44d; stroke-linecap:round; stroke-linejoin:round; stroke-width:4; stroke-opacity:1; fill:none\" points=\"\n",
       "  775.592,237.394 869.772,237.394 \n",
       "  \"/>\n",
       "<path clip-path=\"url(#clip710)\" d=\"M901.858 238.47 Q903.362 238.979 904.774 240.646 Q906.209 242.313 907.645 245.229 L912.39 254.674 L907.367 254.674 L902.946 245.808 Q901.233 242.336 899.612 241.201 Q898.015 240.067 895.237 240.067 L890.145 240.067 L890.145 254.674 L885.469 254.674 L885.469 220.114 L896.024 220.114 Q901.95 220.114 904.867 222.59 Q907.784 225.067 907.784 230.067 Q907.784 233.331 906.256 235.484 Q904.751 237.637 901.858 238.47 M890.145 223.956 L890.145 236.225 L896.024 236.225 Q899.404 236.225 901.117 234.674 Q902.853 233.1 902.853 230.067 Q902.853 227.035 901.117 225.507 Q899.404 223.956 896.024 223.956 L890.145 223.956 Z\" fill=\"#000000\" fill-rule=\"evenodd\" fill-opacity=\"1\" /><path clip-path=\"url(#clip710)\" d=\"M928.964 241.641 Q923.802 241.641 921.811 242.822 Q919.821 244.002 919.821 246.85 Q919.821 249.118 921.302 250.461 Q922.807 251.78 925.376 251.78 Q928.918 251.78 931.047 249.28 Q933.2 246.757 933.2 242.59 L933.2 241.641 L928.964 241.641 M937.459 239.882 L937.459 254.674 L933.2 254.674 L933.2 250.738 Q931.742 253.099 929.566 254.234 Q927.39 255.345 924.242 255.345 Q920.26 255.345 917.899 253.123 Q915.561 250.877 915.561 247.127 Q915.561 242.752 918.478 240.53 Q921.418 238.308 927.228 238.308 L933.2 238.308 L933.2 237.891 Q933.2 234.951 931.256 233.354 Q929.334 231.734 925.839 231.734 Q923.617 231.734 921.51 232.266 Q919.404 232.799 917.459 233.863 L917.459 229.928 Q919.797 229.026 921.996 228.586 Q924.196 228.123 926.279 228.123 Q931.904 228.123 934.682 231.039 Q937.459 233.956 937.459 239.882 Z\" fill=\"#000000\" fill-rule=\"evenodd\" fill-opacity=\"1\" /><path clip-path=\"url(#clip710)\" d=\"M957.019 257.081 Q955.214 261.711 953.501 263.123 Q951.788 264.535 948.918 264.535 L945.515 264.535 L945.515 260.97 L948.015 260.97 Q949.774 260.97 950.746 260.136 Q951.719 259.303 952.899 256.201 L953.663 254.257 L943.177 228.748 L947.691 228.748 L955.793 249.025 L963.894 228.748 L968.408 228.748 L957.019 257.081 Z\" fill=\"#000000\" fill-rule=\"evenodd\" fill-opacity=\"1\" /><path clip-path=\"url(#clip710)\" d=\"M993.57 221.387 L993.57 228.748 L1002.34 228.748 L1002.34 232.058 L993.57 232.058 L993.57 246.132 Q993.57 249.303 994.427 250.206 Q995.306 251.109 997.968 251.109 L1002.34 251.109 L1002.34 254.674 L997.968 254.674 Q993.038 254.674 991.163 252.845 Q989.288 250.993 989.288 246.132 L989.288 232.058 L986.163 232.058 L986.163 228.748 L989.288 228.748 L989.288 221.387 L993.57 221.387 Z\" fill=\"#000000\" fill-rule=\"evenodd\" fill-opacity=\"1\" /><path clip-path=\"url(#clip710)\" d=\"M1017.99 231.734 Q1014.57 231.734 1012.57 234.419 Q1010.58 237.081 1010.58 241.734 Q1010.58 246.387 1012.55 249.072 Q1014.54 251.734 1017.99 251.734 Q1021.39 251.734 1023.38 249.049 Q1025.38 246.363 1025.38 241.734 Q1025.38 237.127 1023.38 234.442 Q1021.39 231.734 1017.99 231.734 M1017.99 228.123 Q1023.55 228.123 1026.72 231.734 Q1029.89 235.345 1029.89 241.734 Q1029.89 248.1 1026.72 251.734 Q1023.55 255.345 1017.99 255.345 Q1012.41 255.345 1009.24 251.734 Q1006.09 248.1 1006.09 241.734 Q1006.09 235.345 1009.24 231.734 Q1012.41 228.123 1017.99 228.123 Z\" fill=\"#000000\" fill-rule=\"evenodd\" fill-opacity=\"1\" /><path clip-path=\"url(#clip710)\" d=\"M1067.04 232.729 Q1066.32 232.313 1065.47 232.127 Q1064.63 231.919 1063.62 231.919 Q1060 231.919 1058.06 234.28 Q1056.14 236.618 1056.14 241.016 L1056.14 254.674 L1051.86 254.674 L1051.86 228.748 L1056.14 228.748 L1056.14 232.776 Q1057.48 230.414 1059.63 229.28 Q1061.79 228.123 1064.87 228.123 Q1065.31 228.123 1065.84 228.192 Q1066.37 228.239 1067.02 228.354 L1067.04 232.729 Z\" fill=\"#000000\" fill-rule=\"evenodd\" fill-opacity=\"1\" /><path clip-path=\"url(#clip710)\" d=\"M1080.51 231.734 Q1077.09 231.734 1075.1 234.419 Q1073.11 237.081 1073.11 241.734 Q1073.11 246.387 1075.07 249.072 Q1077.07 251.734 1080.51 251.734 Q1083.92 251.734 1085.91 249.049 Q1087.9 246.363 1087.9 241.734 Q1087.9 237.127 1085.91 234.442 Q1083.92 231.734 1080.51 231.734 M1080.51 228.123 Q1086.07 228.123 1089.24 231.734 Q1092.41 235.345 1092.41 241.734 Q1092.41 248.1 1089.24 251.734 Q1086.07 255.345 1080.51 255.345 Q1074.94 255.345 1071.76 251.734 Q1068.62 248.1 1068.62 241.734 Q1068.62 235.345 1071.76 231.734 Q1074.94 228.123 1080.51 228.123 Z\" fill=\"#000000\" fill-rule=\"evenodd\" fill-opacity=\"1\" /><path clip-path=\"url(#clip710)\" d=\"M1103.69 221.387 L1103.69 228.748 L1112.46 228.748 L1112.46 232.058 L1103.69 232.058 L1103.69 246.132 Q1103.69 249.303 1104.54 250.206 Q1105.42 251.109 1108.08 251.109 L1112.46 251.109 L1112.46 254.674 L1108.08 254.674 Q1103.15 254.674 1101.28 252.845 Q1099.4 250.993 1099.4 246.132 L1099.4 232.058 L1096.28 232.058 L1096.28 228.748 L1099.4 228.748 L1099.4 221.387 L1103.69 221.387 Z\" fill=\"#000000\" fill-rule=\"evenodd\" fill-opacity=\"1\" /><path clip-path=\"url(#clip710)\" d=\"M1129.84 241.641 Q1124.68 241.641 1122.69 242.822 Q1120.7 244.002 1120.7 246.85 Q1120.7 249.118 1122.18 250.461 Q1123.69 251.78 1126.25 251.78 Q1129.8 251.78 1131.93 249.28 Q1134.08 246.757 1134.08 242.59 L1134.08 241.641 L1129.84 241.641 M1138.34 239.882 L1138.34 254.674 L1134.08 254.674 L1134.08 250.738 Q1132.62 253.099 1130.44 254.234 Q1128.27 255.345 1125.12 255.345 Q1121.14 255.345 1118.78 253.123 Q1116.44 250.877 1116.44 247.127 Q1116.44 242.752 1119.36 240.53 Q1122.3 238.308 1128.11 238.308 L1134.08 238.308 L1134.08 237.891 Q1134.08 234.951 1132.13 233.354 Q1130.21 231.734 1126.72 231.734 Q1124.5 231.734 1122.39 232.266 Q1120.28 232.799 1118.34 233.863 L1118.34 229.928 Q1120.68 229.026 1122.87 228.586 Q1125.07 228.123 1127.16 228.123 Q1132.78 228.123 1135.56 231.039 Q1138.34 233.956 1138.34 239.882 Z\" fill=\"#000000\" fill-rule=\"evenodd\" fill-opacity=\"1\" /><path clip-path=\"url(#clip710)\" d=\"M1151.32 221.387 L1151.32 228.748 L1160.1 228.748 L1160.1 232.058 L1151.32 232.058 L1151.32 246.132 Q1151.32 249.303 1152.18 250.206 Q1153.06 251.109 1155.72 251.109 L1160.1 251.109 L1160.1 254.674 L1155.72 254.674 Q1150.79 254.674 1148.92 252.845 Q1147.04 250.993 1147.04 246.132 L1147.04 232.058 L1143.92 232.058 L1143.92 228.748 L1147.04 228.748 L1147.04 221.387 L1151.32 221.387 Z\" fill=\"#000000\" fill-rule=\"evenodd\" fill-opacity=\"1\" /><path clip-path=\"url(#clip710)\" d=\"M1187.87 240.646 L1187.87 242.729 L1168.29 242.729 Q1168.57 247.127 1170.93 249.442 Q1173.31 251.734 1177.55 251.734 Q1180 251.734 1182.3 251.132 Q1184.61 250.53 1186.88 249.326 L1186.88 253.354 Q1184.59 254.326 1182.18 254.836 Q1179.77 255.345 1177.3 255.345 Q1171.09 255.345 1167.46 251.734 Q1163.85 248.123 1163.85 241.965 Q1163.85 235.6 1167.27 231.873 Q1170.72 228.123 1176.56 228.123 Q1181.79 228.123 1184.82 231.502 Q1187.87 234.859 1187.87 240.646 M1183.62 239.396 Q1183.57 235.901 1181.65 233.817 Q1179.75 231.734 1176.6 231.734 Q1173.04 231.734 1170.88 233.748 Q1168.75 235.762 1168.43 239.419 L1183.62 239.396 Z\" fill=\"#000000\" fill-rule=\"evenodd\" fill-opacity=\"1\" /><path clip-path=\"url(#clip710)\" d=\"M1211.93 232.683 L1211.93 218.655 L1216.18 218.655 L1216.18 254.674 L1211.93 254.674 L1211.93 250.785 Q1210.58 253.099 1208.52 254.234 Q1206.49 255.345 1203.62 255.345 Q1198.92 255.345 1195.95 251.595 Q1193.01 247.845 1193.01 241.734 Q1193.01 235.623 1195.95 231.873 Q1198.92 228.123 1203.62 228.123 Q1206.49 228.123 1208.52 229.257 Q1210.58 230.368 1211.93 232.683 M1197.41 241.734 Q1197.41 246.433 1199.33 249.118 Q1201.28 251.78 1204.66 251.78 Q1208.04 251.78 1209.98 249.118 Q1211.93 246.433 1211.93 241.734 Q1211.93 237.035 1209.98 234.373 Q1208.04 231.688 1204.66 231.688 Q1201.28 231.688 1199.33 234.373 Q1197.41 237.035 1197.41 241.734 Z\" fill=\"#000000\" fill-rule=\"evenodd\" fill-opacity=\"1\" /><path clip-path=\"url(#clip710)\" d=\"M1244.15 250.785 L1244.15 264.535 L1239.87 264.535 L1239.87 228.748 L1244.15 228.748 L1244.15 232.683 Q1245.49 230.368 1247.53 229.257 Q1249.59 228.123 1252.43 228.123 Q1257.16 228.123 1260.1 231.873 Q1263.06 235.623 1263.06 241.734 Q1263.06 247.845 1260.1 251.595 Q1257.16 255.345 1252.43 255.345 Q1249.59 255.345 1247.53 254.234 Q1245.49 253.099 1244.15 250.785 M1258.64 241.734 Q1258.64 237.035 1256.69 234.373 Q1254.77 231.688 1251.39 231.688 Q1248.01 231.688 1246.07 234.373 Q1244.15 237.035 1244.15 241.734 Q1244.15 246.433 1246.07 249.118 Q1248.01 251.78 1251.39 251.78 Q1254.77 251.78 1256.69 249.118 Q1258.64 246.433 1258.64 241.734 Z\" fill=\"#000000\" fill-rule=\"evenodd\" fill-opacity=\"1\" /><path clip-path=\"url(#clip710)\" d=\"M1274.33 221.387 L1274.33 228.748 L1283.11 228.748 L1283.11 232.058 L1274.33 232.058 L1274.33 246.132 Q1274.33 249.303 1275.19 250.206 Q1276.07 251.109 1278.73 251.109 L1283.11 251.109 L1283.11 254.674 L1278.73 254.674 Q1273.8 254.674 1271.93 252.845 Q1270.05 250.993 1270.05 246.132 L1270.05 232.058 L1266.93 232.058 L1266.93 228.748 L1270.05 228.748 L1270.05 221.387 L1274.33 221.387 Z\" fill=\"#000000\" fill-rule=\"evenodd\" fill-opacity=\"1\" /></svg>\n"
      ],
      "image/svg+xml": [
       "<?xml version=\"1.0\" encoding=\"utf-8\"?>\n",
       "<svg xmlns=\"http://www.w3.org/2000/svg\" xmlns:xlink=\"http://www.w3.org/1999/xlink\" width=\"400\" height=\"300\" viewBox=\"0 0 1600 1200\">\n",
       "<defs>\n",
       "  <clipPath id=\"clip660\">\n",
       "    <rect x=\"0\" y=\"0\" width=\"1600\" height=\"1200\"/>\n",
       "  </clipPath>\n",
       "</defs>\n",
       "<path clip-path=\"url(#clip660)\" d=\"\n",
       "M0 1200 L1600 1200 L1600 0 L0 0  Z\n",
       "  \" fill=\"#ffffff\" fill-rule=\"evenodd\" fill-opacity=\"1\"/>\n",
       "<defs>\n",
       "  <clipPath id=\"clip661\">\n",
       "    <rect x=\"320\" y=\"0\" width=\"1121\" height=\"1121\"/>\n",
       "  </clipPath>\n",
       "</defs>\n",
       "<path clip-path=\"url(#clip660)\" d=\"\n",
       "M326.964 1086.13 L1365.85 1086.13 L1365.85 47.2441 L326.964 47.2441  Z\n",
       "  \" fill=\"#ffffff\" fill-rule=\"evenodd\" fill-opacity=\"1\"/>\n",
       "<defs>\n",
       "  <clipPath id=\"clip662\">\n",
       "    <rect x=\"326\" y=\"47\" width=\"1040\" height=\"1040\"/>\n",
       "  </clipPath>\n",
       "</defs>\n",
       "<polyline clip-path=\"url(#clip660)\" style=\"stroke:#000000; stroke-linecap:round; stroke-linejoin:round; stroke-width:4; stroke-opacity:1; fill:none\" points=\"\n",
       "  326.964,1086.13 1365.85,1086.13 \n",
       "  \"/>\n",
       "<polyline clip-path=\"url(#clip660)\" style=\"stroke:#000000; stroke-linecap:round; stroke-linejoin:round; stroke-width:4; stroke-opacity:1; fill:none\" points=\"\n",
       "  326.964,1086.13 326.964,1067.23 \n",
       "  \"/>\n",
       "<polyline clip-path=\"url(#clip660)\" style=\"stroke:#000000; stroke-linecap:round; stroke-linejoin:round; stroke-width:4; stroke-opacity:1; fill:none\" points=\"\n",
       "  500.112,1086.13 500.112,1067.23 \n",
       "  \"/>\n",
       "<polyline clip-path=\"url(#clip660)\" style=\"stroke:#000000; stroke-linecap:round; stroke-linejoin:round; stroke-width:4; stroke-opacity:1; fill:none\" points=\"\n",
       "  673.259,1086.13 673.259,1067.23 \n",
       "  \"/>\n",
       "<polyline clip-path=\"url(#clip660)\" style=\"stroke:#000000; stroke-linecap:round; stroke-linejoin:round; stroke-width:4; stroke-opacity:1; fill:none\" points=\"\n",
       "  846.406,1086.13 846.406,1067.23 \n",
       "  \"/>\n",
       "<polyline clip-path=\"url(#clip660)\" style=\"stroke:#000000; stroke-linecap:round; stroke-linejoin:round; stroke-width:4; stroke-opacity:1; fill:none\" points=\"\n",
       "  1019.55,1086.13 1019.55,1067.23 \n",
       "  \"/>\n",
       "<polyline clip-path=\"url(#clip660)\" style=\"stroke:#000000; stroke-linecap:round; stroke-linejoin:round; stroke-width:4; stroke-opacity:1; fill:none\" points=\"\n",
       "  1192.7,1086.13 1192.7,1067.23 \n",
       "  \"/>\n",
       "<polyline clip-path=\"url(#clip660)\" style=\"stroke:#000000; stroke-linecap:round; stroke-linejoin:round; stroke-width:4; stroke-opacity:1; fill:none\" points=\"\n",
       "  1365.85,1086.13 1365.85,1067.23 \n",
       "  \"/>\n",
       "<path clip-path=\"url(#clip660)\" d=\"M296.432 1125.3 L326.108 1125.3 L326.108 1129.23 L296.432 1129.23 L296.432 1125.3 Z\" fill=\"#000000\" fill-rule=\"evenodd\" fill-opacity=\"1\" /><path clip-path=\"url(#clip660)\" d=\"M350.367 1123.49 Q353.723 1124.21 355.598 1126.48 Q357.497 1128.75 357.497 1132.08 Q357.497 1137.2 353.978 1140 Q350.46 1142.8 343.978 1142.8 Q341.802 1142.8 339.487 1142.36 Q337.196 1141.94 334.742 1141.09 L334.742 1136.57 Q336.687 1137.71 339.001 1138.29 Q341.316 1138.86 343.839 1138.86 Q348.237 1138.86 350.529 1137.13 Q352.844 1135.39 352.844 1132.08 Q352.844 1129.03 350.691 1127.31 Q348.561 1125.58 344.742 1125.58 L340.714 1125.58 L340.714 1121.73 L344.927 1121.73 Q348.376 1121.73 350.205 1120.37 Q352.034 1118.98 352.034 1116.39 Q352.034 1113.73 350.136 1112.31 Q348.261 1110.88 344.742 1110.88 Q342.821 1110.88 340.622 1111.29 Q338.423 1111.71 335.784 1112.59 L335.784 1108.42 Q338.446 1107.68 340.761 1107.31 Q343.099 1106.94 345.159 1106.94 Q350.483 1106.94 353.585 1109.37 Q356.686 1111.78 356.686 1115.9 Q356.686 1118.77 355.043 1120.76 Q353.399 1122.73 350.367 1123.49 Z\" fill=\"#000000\" fill-rule=\"evenodd\" fill-opacity=\"1\" /><path clip-path=\"url(#clip660)\" d=\"M470.054 1125.3 L499.73 1125.3 L499.73 1129.23 L470.054 1129.23 L470.054 1125.3 Z\" fill=\"#000000\" fill-rule=\"evenodd\" fill-opacity=\"1\" /><path clip-path=\"url(#clip660)\" d=\"M513.85 1138.19 L530.169 1138.19 L530.169 1142.13 L508.225 1142.13 L508.225 1138.19 Q510.887 1135.44 515.47 1130.81 Q520.077 1126.16 521.257 1124.81 Q523.503 1122.29 524.382 1120.55 Q525.285 1118.79 525.285 1117.1 Q525.285 1114.35 523.341 1112.61 Q521.419 1110.88 518.318 1110.88 Q516.119 1110.88 513.665 1111.64 Q511.234 1112.41 508.457 1113.96 L508.457 1109.23 Q511.281 1108.1 513.734 1107.52 Q516.188 1106.94 518.225 1106.94 Q523.595 1106.94 526.79 1109.63 Q529.984 1112.31 529.984 1116.8 Q529.984 1118.93 529.174 1120.85 Q528.387 1122.75 526.281 1125.35 Q525.702 1126.02 522.6 1129.23 Q519.498 1132.43 513.85 1138.19 Z\" fill=\"#000000\" fill-rule=\"evenodd\" fill-opacity=\"1\" /><path clip-path=\"url(#clip660)\" d=\"M643.016 1125.3 L672.692 1125.3 L672.692 1129.23 L643.016 1129.23 L643.016 1125.3 Z\" fill=\"#000000\" fill-rule=\"evenodd\" fill-opacity=\"1\" /><path clip-path=\"url(#clip660)\" d=\"M683.595 1138.19 L691.233 1138.19 L691.233 1111.83 L682.923 1113.49 L682.923 1109.23 L691.187 1107.57 L695.863 1107.57 L695.863 1138.19 L703.502 1138.19 L703.502 1142.13 L683.595 1142.13 L683.595 1138.19 Z\" fill=\"#000000\" fill-rule=\"evenodd\" fill-opacity=\"1\" /><path clip-path=\"url(#clip660)\" d=\"M846.406 1110.65 Q842.795 1110.65 840.966 1114.21 Q839.161 1117.75 839.161 1124.88 Q839.161 1131.99 840.966 1135.55 Q842.795 1139.1 846.406 1139.1 Q850.04 1139.1 851.846 1135.55 Q853.675 1131.99 853.675 1124.88 Q853.675 1117.75 851.846 1114.21 Q850.04 1110.65 846.406 1110.65 M846.406 1106.94 Q852.216 1106.94 855.272 1111.55 Q858.351 1116.13 858.351 1124.88 Q858.351 1133.61 855.272 1138.22 Q852.216 1142.8 846.406 1142.8 Q840.596 1142.8 837.517 1138.22 Q834.462 1133.61 834.462 1124.88 Q834.462 1116.13 837.517 1111.55 Q840.596 1106.94 846.406 1106.94 Z\" fill=\"#000000\" fill-rule=\"evenodd\" fill-opacity=\"1\" /><path clip-path=\"url(#clip660)\" d=\"M1009.94 1138.19 L1017.57 1138.19 L1017.57 1111.83 L1009.26 1113.49 L1009.26 1109.23 L1017.53 1107.57 L1022.2 1107.57 L1022.2 1138.19 L1029.84 1138.19 L1029.84 1142.13 L1009.94 1142.13 L1009.94 1138.19 Z\" fill=\"#000000\" fill-rule=\"evenodd\" fill-opacity=\"1\" /><path clip-path=\"url(#clip660)\" d=\"M1187.35 1138.19 L1203.67 1138.19 L1203.67 1142.13 L1181.73 1142.13 L1181.73 1138.19 Q1184.39 1135.44 1188.97 1130.81 Q1193.58 1126.16 1194.76 1124.81 Q1197.01 1122.29 1197.89 1120.55 Q1198.79 1118.79 1198.79 1117.1 Q1198.79 1114.35 1196.84 1112.61 Q1194.92 1110.88 1191.82 1110.88 Q1189.62 1110.88 1187.17 1111.64 Q1184.74 1112.41 1181.96 1113.96 L1181.96 1109.23 Q1184.78 1108.1 1187.24 1107.52 Q1189.69 1106.94 1191.73 1106.94 Q1197.1 1106.94 1200.29 1109.63 Q1203.49 1112.31 1203.49 1116.8 Q1203.49 1118.93 1202.68 1120.85 Q1201.89 1122.75 1199.78 1125.35 Q1199.21 1126.02 1196.1 1129.23 Q1193 1132.43 1187.35 1138.19 Z\" fill=\"#000000\" fill-rule=\"evenodd\" fill-opacity=\"1\" /><path clip-path=\"url(#clip660)\" d=\"M1370.1 1123.49 Q1373.45 1124.21 1375.33 1126.48 Q1377.23 1128.75 1377.23 1132.08 Q1377.23 1137.2 1373.71 1140 Q1370.19 1142.8 1363.71 1142.8 Q1361.53 1142.8 1359.22 1142.36 Q1356.92 1141.94 1354.47 1141.09 L1354.47 1136.57 Q1356.42 1137.71 1358.73 1138.29 Q1361.04 1138.86 1363.57 1138.86 Q1367.97 1138.86 1370.26 1137.13 Q1372.57 1135.39 1372.57 1132.08 Q1372.57 1129.03 1370.42 1127.31 Q1368.29 1125.58 1364.47 1125.58 L1360.44 1125.58 L1360.44 1121.73 L1364.66 1121.73 Q1368.11 1121.73 1369.93 1120.37 Q1371.76 1118.98 1371.76 1116.39 Q1371.76 1113.73 1369.86 1112.31 Q1367.99 1110.88 1364.47 1110.88 Q1362.55 1110.88 1360.35 1111.29 Q1358.15 1111.71 1355.51 1112.59 L1355.51 1108.42 Q1358.17 1107.68 1360.49 1107.31 Q1362.83 1106.94 1364.89 1106.94 Q1370.21 1106.94 1373.31 1109.37 Q1376.42 1111.78 1376.42 1115.9 Q1376.42 1118.77 1374.77 1120.76 Q1373.13 1122.73 1370.1 1123.49 Z\" fill=\"#000000\" fill-rule=\"evenodd\" fill-opacity=\"1\" /><polyline clip-path=\"url(#clip660)\" style=\"stroke:#000000; stroke-linecap:round; stroke-linejoin:round; stroke-width:4; stroke-opacity:1; fill:none\" points=\"\n",
       "  326.964,1086.13 326.964,47.2441 \n",
       "  \"/>\n",
       "<polyline clip-path=\"url(#clip660)\" style=\"stroke:#000000; stroke-linecap:round; stroke-linejoin:round; stroke-width:4; stroke-opacity:1; fill:none\" points=\"\n",
       "  326.964,1086.13 340.861,1086.13 \n",
       "  \"/>\n",
       "<polyline clip-path=\"url(#clip660)\" style=\"stroke:#000000; stroke-linecap:round; stroke-linejoin:round; stroke-width:4; stroke-opacity:1; fill:none\" points=\"\n",
       "  326.964,912.981 340.861,912.981 \n",
       "  \"/>\n",
       "<polyline clip-path=\"url(#clip660)\" style=\"stroke:#000000; stroke-linecap:round; stroke-linejoin:round; stroke-width:4; stroke-opacity:1; fill:none\" points=\"\n",
       "  326.964,739.833 340.861,739.833 \n",
       "  \"/>\n",
       "<polyline clip-path=\"url(#clip660)\" style=\"stroke:#000000; stroke-linecap:round; stroke-linejoin:round; stroke-width:4; stroke-opacity:1; fill:none\" points=\"\n",
       "  326.964,566.686 340.861,566.686 \n",
       "  \"/>\n",
       "<polyline clip-path=\"url(#clip660)\" style=\"stroke:#000000; stroke-linecap:round; stroke-linejoin:round; stroke-width:4; stroke-opacity:1; fill:none\" points=\"\n",
       "  326.964,393.539 340.861,393.539 \n",
       "  \"/>\n",
       "<polyline clip-path=\"url(#clip660)\" style=\"stroke:#000000; stroke-linecap:round; stroke-linejoin:round; stroke-width:4; stroke-opacity:1; fill:none\" points=\"\n",
       "  326.964,220.391 340.861,220.391 \n",
       "  \"/>\n",
       "<polyline clip-path=\"url(#clip660)\" style=\"stroke:#000000; stroke-linecap:round; stroke-linejoin:round; stroke-width:4; stroke-opacity:1; fill:none\" points=\"\n",
       "  326.964,47.2441 340.861,47.2441 \n",
       "  \"/>\n",
       "<path clip-path=\"url(#clip660)\" d=\"M241.9 1086.58 L271.576 1086.58 L271.576 1090.51 L241.9 1090.51 L241.9 1086.58 Z\" fill=\"#000000\" fill-rule=\"evenodd\" fill-opacity=\"1\" /><path clip-path=\"url(#clip660)\" d=\"M295.835 1084.77 Q299.191 1085.49 301.066 1087.76 Q302.964 1090.03 302.964 1093.36 Q302.964 1098.48 299.446 1101.28 Q295.927 1104.08 289.446 1104.08 Q287.27 1104.08 284.955 1103.64 Q282.664 1103.22 280.21 1102.37 L280.21 1097.85 Q282.154 1098.99 284.469 1099.57 Q286.784 1100.14 289.307 1100.14 Q293.705 1100.14 295.997 1098.41 Q298.312 1096.67 298.312 1093.36 Q298.312 1090.31 296.159 1088.59 Q294.029 1086.86 290.21 1086.86 L286.182 1086.86 L286.182 1083.01 L290.395 1083.01 Q293.844 1083.01 295.673 1081.65 Q297.501 1080.26 297.501 1077.67 Q297.501 1075.01 295.603 1073.59 Q293.728 1072.16 290.21 1072.16 Q288.289 1072.16 286.089 1072.57 Q283.89 1072.99 281.252 1073.87 L281.252 1069.7 Q283.914 1068.96 286.228 1068.59 Q288.566 1068.22 290.626 1068.22 Q295.951 1068.22 299.052 1070.65 Q302.154 1073.06 302.154 1077.18 Q302.154 1080.05 300.511 1082.04 Q298.867 1084.01 295.835 1084.77 Z\" fill=\"#000000\" fill-rule=\"evenodd\" fill-opacity=\"1\" /><path clip-path=\"url(#clip660)\" d=\"M242.849 913.432 L272.525 913.432 L272.525 917.367 L242.849 917.367 L242.849 913.432 Z\" fill=\"#000000\" fill-rule=\"evenodd\" fill-opacity=\"1\" /><path clip-path=\"url(#clip660)\" d=\"M286.645 926.325 L302.964 926.325 L302.964 930.261 L281.02 930.261 L281.02 926.325 Q283.682 923.571 288.265 918.941 Q292.872 914.288 294.052 912.946 Q296.298 910.423 297.177 908.687 Q298.08 906.927 298.08 905.238 Q298.08 902.483 296.136 900.747 Q294.214 899.011 291.113 899.011 Q288.914 899.011 286.46 899.775 Q284.029 900.539 281.252 902.089 L281.252 897.367 Q284.076 896.233 286.529 895.654 Q288.983 895.076 291.02 895.076 Q296.39 895.076 299.585 897.761 Q302.779 900.446 302.779 904.937 Q302.779 907.066 301.969 908.988 Q301.182 910.886 299.076 913.478 Q298.497 914.15 295.395 917.367 Q292.293 920.562 286.645 926.325 Z\" fill=\"#000000\" fill-rule=\"evenodd\" fill-opacity=\"1\" /><path clip-path=\"url(#clip660)\" d=\"M242.479 740.285 L272.154 740.285 L272.154 744.22 L242.479 744.22 L242.479 740.285 Z\" fill=\"#000000\" fill-rule=\"evenodd\" fill-opacity=\"1\" /><path clip-path=\"url(#clip660)\" d=\"M283.057 753.178 L290.696 753.178 L290.696 726.813 L282.386 728.479 L282.386 724.22 L290.65 722.553 L295.326 722.553 L295.326 753.178 L302.964 753.178 L302.964 757.113 L283.057 757.113 L283.057 753.178 Z\" fill=\"#000000\" fill-rule=\"evenodd\" fill-opacity=\"1\" /><path clip-path=\"url(#clip660)\" d=\"M291.02 552.485 Q287.409 552.485 285.58 556.049 Q283.775 559.591 283.775 566.721 Q283.775 573.827 285.58 577.392 Q287.409 580.934 291.02 580.934 Q294.654 580.934 296.46 577.392 Q298.288 573.827 298.288 566.721 Q298.288 559.591 296.46 556.049 Q294.654 552.485 291.02 552.485 M291.02 548.781 Q296.83 548.781 299.886 553.387 Q302.964 557.971 302.964 566.721 Q302.964 575.448 299.886 580.054 Q296.83 584.637 291.02 584.637 Q285.21 584.637 282.131 580.054 Q279.076 575.448 279.076 566.721 Q279.076 557.971 282.131 553.387 Q285.21 548.781 291.02 548.781 Z\" fill=\"#000000\" fill-rule=\"evenodd\" fill-opacity=\"1\" /><path clip-path=\"url(#clip660)\" d=\"M283.057 406.884 L290.696 406.884 L290.696 380.518 L282.386 382.185 L282.386 377.925 L290.65 376.259 L295.326 376.259 L295.326 406.884 L302.964 406.884 L302.964 410.819 L283.057 410.819 L283.057 406.884 Z\" fill=\"#000000\" fill-rule=\"evenodd\" fill-opacity=\"1\" /><path clip-path=\"url(#clip660)\" d=\"M286.645 233.736 L302.964 233.736 L302.964 237.671 L281.02 237.671 L281.02 233.736 Q283.682 230.982 288.265 226.352 Q292.872 221.699 294.052 220.357 Q296.298 217.834 297.177 216.097 Q298.08 214.338 298.08 212.648 Q298.08 209.894 296.136 208.158 Q294.214 206.422 291.113 206.422 Q288.914 206.422 286.46 207.185 Q284.029 207.949 281.252 209.5 L281.252 204.778 Q284.076 203.644 286.529 203.065 Q288.983 202.486 291.02 202.486 Q296.39 202.486 299.585 205.172 Q302.779 207.857 302.779 212.347 Q302.779 214.477 301.969 216.398 Q301.182 218.296 299.076 220.889 Q298.497 221.56 295.395 224.778 Q292.293 227.972 286.645 233.736 Z\" fill=\"#000000\" fill-rule=\"evenodd\" fill-opacity=\"1\" /><path clip-path=\"url(#clip660)\" d=\"M295.835 45.8899 Q299.191 46.6075 301.066 48.876 Q302.964 51.1445 302.964 54.4779 Q302.964 59.5936 299.446 62.3945 Q295.927 65.1954 289.446 65.1954 Q287.27 65.1954 284.955 64.7556 Q282.664 64.3389 280.21 63.4824 L280.21 58.9686 Q282.154 60.1028 284.469 60.6815 Q286.784 61.2602 289.307 61.2602 Q293.705 61.2602 295.997 59.5241 Q298.312 57.788 298.312 54.4779 Q298.312 51.4223 296.159 49.7094 Q294.029 47.9733 290.21 47.9733 L286.182 47.9733 L286.182 44.1307 L290.395 44.1307 Q293.844 44.1307 295.673 42.765 Q297.501 41.3761 297.501 38.7835 Q297.501 36.1215 295.603 34.7094 Q293.728 33.2743 290.21 33.2743 Q288.289 33.2743 286.089 33.6909 Q283.89 34.1076 281.252 34.9872 L281.252 30.8206 Q283.914 30.0798 286.228 29.7095 Q288.566 29.3391 290.626 29.3391 Q295.951 29.3391 299.052 31.7696 Q302.154 34.177 302.154 38.2974 Q302.154 41.1677 300.511 43.1585 Q298.867 45.1261 295.835 45.8899 Z\" fill=\"#000000\" fill-rule=\"evenodd\" fill-opacity=\"1\" /><circle clip-path=\"url(#clip662)\" cx=\"1019.55\" cy=\"220.391\" r=\"14.4\" fill=\"#009af9\" fill-rule=\"evenodd\" fill-opacity=\"1\" stroke=\"#000000\" stroke-opacity=\"1\" stroke-width=\"2.4\"/>\n",
       "<circle clip-path=\"url(#clip662)\" cx=\"500.112\" cy=\"393.539\" r=\"14.4\" fill=\"#009af9\" fill-rule=\"evenodd\" fill-opacity=\"1\" stroke=\"#000000\" stroke-opacity=\"1\" stroke-width=\"2.4\"/>\n",
       "<polyline clip-path=\"url(#clip662)\" style=\"stroke:#e26f46; stroke-linecap:round; stroke-linejoin:round; stroke-width:4; stroke-opacity:1; fill:none\" points=\"\n",
       "  846.406,566.686 1019.55,220.391 \n",
       "  \"/>\n",
       "<polyline clip-path=\"url(#clip662)\" style=\"stroke:#3da44d; stroke-linecap:round; stroke-linejoin:round; stroke-width:4; stroke-opacity:1; fill:none\" points=\"\n",
       "  846.406,566.686 500.112,393.539 \n",
       "  \"/>\n",
       "<path clip-path=\"url(#clip660)\" d=\"\n",
       "M759.896 289.234 L1318.76 289.234 L1318.76 81.8736 L759.896 81.8736  Z\n",
       "  \" fill=\"#ffffff\" fill-rule=\"evenodd\" fill-opacity=\"1\"/>\n",
       "<polyline clip-path=\"url(#clip660)\" style=\"stroke:#000000; stroke-linecap:round; stroke-linejoin:round; stroke-width:4; stroke-opacity:1; fill:none\" points=\"\n",
       "  759.896,289.234 1318.76,289.234 1318.76,81.8736 759.896,81.8736 759.896,289.234 \n",
       "  \"/>\n",
       "<circle clip-path=\"url(#clip660)\" cx=\"822.682\" cy=\"133.714\" r=\"23.04\" fill=\"#009af9\" fill-rule=\"evenodd\" fill-opacity=\"1\" stroke=\"#000000\" stroke-opacity=\"1\" stroke-width=\"3.84\"/>\n",
       "<path clip-path=\"url(#clip660)\" d=\"M899.311 153.401 Q897.506 158.031 895.793 159.443 Q894.08 160.855 891.21 160.855 L887.807 160.855 L887.807 157.29 L890.307 157.29 Q892.066 157.29 893.038 156.456 Q894.01 155.623 895.191 152.521 L895.955 150.577 L885.469 125.068 L889.983 125.068 L898.085 145.345 L906.186 125.068 L910.7 125.068 L899.311 153.401 Z\" fill=\"#000000\" fill-rule=\"evenodd\" fill-opacity=\"1\" /><path clip-path=\"url(#clip660)\" d=\"M917.992 147.058 L925.631 147.058 L925.631 120.693 L917.321 122.359 L917.321 118.1 L925.584 116.434 L930.26 116.434 L930.26 147.058 L937.899 147.058 L937.899 150.994 L917.992 150.994 L917.992 147.058 Z\" fill=\"#000000\" fill-rule=\"evenodd\" fill-opacity=\"1\" /><polyline clip-path=\"url(#clip660)\" style=\"stroke:#e26f46; stroke-linecap:round; stroke-linejoin:round; stroke-width:4; stroke-opacity:1; fill:none\" points=\"\n",
       "  775.592,185.554 869.772,185.554 \n",
       "  \"/>\n",
       "<path clip-path=\"url(#clip660)\" d=\"M901.858 186.63 Q903.362 187.139 904.774 188.806 Q906.209 190.473 907.645 193.389 L912.39 202.834 L907.367 202.834 L902.946 193.968 Q901.233 190.496 899.612 189.361 Q898.015 188.227 895.237 188.227 L890.145 188.227 L890.145 202.834 L885.469 202.834 L885.469 168.274 L896.024 168.274 Q901.95 168.274 904.867 170.75 Q907.784 173.227 907.784 178.227 Q907.784 181.491 906.256 183.644 Q904.751 185.797 901.858 186.63 M890.145 172.116 L890.145 184.385 L896.024 184.385 Q899.404 184.385 901.117 182.834 Q902.853 181.26 902.853 178.227 Q902.853 175.195 901.117 173.667 Q899.404 172.116 896.024 172.116 L890.145 172.116 Z\" fill=\"#000000\" fill-rule=\"evenodd\" fill-opacity=\"1\" /><path clip-path=\"url(#clip660)\" d=\"M928.964 189.801 Q923.802 189.801 921.811 190.982 Q919.821 192.162 919.821 195.01 Q919.821 197.278 921.302 198.621 Q922.807 199.94 925.376 199.94 Q928.918 199.94 931.047 197.44 Q933.2 194.917 933.2 190.75 L933.2 189.801 L928.964 189.801 M937.459 188.042 L937.459 202.834 L933.2 202.834 L933.2 198.898 Q931.742 201.259 929.566 202.394 Q927.39 203.505 924.242 203.505 Q920.26 203.505 917.899 201.283 Q915.561 199.037 915.561 195.287 Q915.561 190.912 918.478 188.69 Q921.418 186.468 927.228 186.468 L933.2 186.468 L933.2 186.051 Q933.2 183.111 931.256 181.514 Q929.334 179.894 925.839 179.894 Q923.617 179.894 921.51 180.426 Q919.404 180.959 917.459 182.023 L917.459 178.088 Q919.797 177.186 921.996 176.746 Q924.196 176.283 926.279 176.283 Q931.904 176.283 934.682 179.199 Q937.459 182.116 937.459 188.042 Z\" fill=\"#000000\" fill-rule=\"evenodd\" fill-opacity=\"1\" /><path clip-path=\"url(#clip660)\" d=\"M957.019 205.241 Q955.214 209.871 953.501 211.283 Q951.788 212.695 948.918 212.695 L945.515 212.695 L945.515 209.13 L948.015 209.13 Q949.774 209.13 950.746 208.296 Q951.719 207.463 952.899 204.361 L953.663 202.417 L943.177 176.908 L947.691 176.908 L955.793 197.185 L963.894 176.908 L968.408 176.908 L957.019 205.241 Z\" fill=\"#000000\" fill-rule=\"evenodd\" fill-opacity=\"1\" /><path clip-path=\"url(#clip660)\" d=\"M993.57 169.547 L993.57 176.908 L1002.34 176.908 L1002.34 180.218 L993.57 180.218 L993.57 194.292 Q993.57 197.463 994.427 198.366 Q995.306 199.269 997.968 199.269 L1002.34 199.269 L1002.34 202.834 L997.968 202.834 Q993.038 202.834 991.163 201.005 Q989.288 199.153 989.288 194.292 L989.288 180.218 L986.163 180.218 L986.163 176.908 L989.288 176.908 L989.288 169.547 L993.57 169.547 Z\" fill=\"#000000\" fill-rule=\"evenodd\" fill-opacity=\"1\" /><path clip-path=\"url(#clip660)\" d=\"M1017.99 179.894 Q1014.57 179.894 1012.57 182.579 Q1010.58 185.241 1010.58 189.894 Q1010.58 194.547 1012.55 197.232 Q1014.54 199.894 1017.99 199.894 Q1021.39 199.894 1023.38 197.209 Q1025.38 194.523 1025.38 189.894 Q1025.38 185.287 1023.38 182.602 Q1021.39 179.894 1017.99 179.894 M1017.99 176.283 Q1023.55 176.283 1026.72 179.894 Q1029.89 183.505 1029.89 189.894 Q1029.89 196.26 1026.72 199.894 Q1023.55 203.505 1017.99 203.505 Q1012.41 203.505 1009.24 199.894 Q1006.09 196.26 1006.09 189.894 Q1006.09 183.505 1009.24 179.894 Q1012.41 176.283 1017.99 176.283 Z\" fill=\"#000000\" fill-rule=\"evenodd\" fill-opacity=\"1\" /><path clip-path=\"url(#clip660)\" d=\"M1062.07 179.894 Q1058.64 179.894 1056.65 182.579 Q1054.66 185.241 1054.66 189.894 Q1054.66 194.547 1056.63 197.232 Q1058.62 199.894 1062.07 199.894 Q1065.47 199.894 1067.46 197.209 Q1069.45 194.523 1069.45 189.894 Q1069.45 185.287 1067.46 182.602 Q1065.47 179.894 1062.07 179.894 M1062.07 176.283 Q1067.62 176.283 1070.79 179.894 Q1073.96 183.505 1073.96 189.894 Q1073.96 196.26 1070.79 199.894 Q1067.62 203.505 1062.07 203.505 Q1056.49 203.505 1053.32 199.894 Q1050.17 196.26 1050.17 189.894 Q1050.17 183.505 1053.32 179.894 Q1056.49 176.283 1062.07 176.283 Z\" fill=\"#000000\" fill-rule=\"evenodd\" fill-opacity=\"1\" /><path clip-path=\"url(#clip660)\" d=\"M1096.05 180.889 Q1095.33 180.473 1094.47 180.287 Q1093.64 180.079 1092.62 180.079 Q1089.01 180.079 1087.07 182.44 Q1085.14 184.778 1085.14 189.176 L1085.14 202.834 L1080.86 202.834 L1080.86 176.908 L1085.14 176.908 L1085.14 180.936 Q1086.49 178.574 1088.64 177.44 Q1090.79 176.283 1093.87 176.283 Q1094.31 176.283 1094.84 176.352 Q1095.38 176.399 1096.02 176.514 L1096.05 180.889 Z\" fill=\"#000000\" fill-rule=\"evenodd\" fill-opacity=\"1\" /><path clip-path=\"url(#clip660)\" d=\"M1100.51 176.908 L1104.77 176.908 L1104.77 202.834 L1100.51 202.834 L1100.51 176.908 M1100.51 166.815 L1104.77 166.815 L1104.77 172.209 L1100.51 172.209 L1100.51 166.815 Z\" fill=\"#000000\" fill-rule=\"evenodd\" fill-opacity=\"1\" /><path clip-path=\"url(#clip660)\" d=\"M1130.75 189.57 Q1130.75 184.94 1128.82 182.394 Q1126.93 179.848 1123.48 179.848 Q1120.05 179.848 1118.13 182.394 Q1116.23 184.94 1116.23 189.57 Q1116.23 194.176 1118.13 196.722 Q1120.05 199.269 1123.48 199.269 Q1126.93 199.269 1128.82 196.722 Q1130.75 194.176 1130.75 189.57 M1135 199.616 Q1135 206.236 1132.06 209.454 Q1129.12 212.695 1123.06 212.695 Q1120.81 212.695 1118.82 212.347 Q1116.83 212.023 1114.96 211.329 L1114.96 207.185 Q1116.83 208.204 1118.66 208.69 Q1120.49 209.176 1122.39 209.176 Q1126.58 209.176 1128.66 206.977 Q1130.75 204.801 1130.75 200.38 L1130.75 198.273 Q1129.43 200.565 1127.37 201.699 Q1125.31 202.834 1122.44 202.834 Q1117.67 202.834 1114.75 199.199 Q1111.83 195.565 1111.83 189.57 Q1111.83 183.551 1114.75 179.917 Q1117.67 176.283 1122.44 176.283 Q1125.31 176.283 1127.37 177.417 Q1129.43 178.551 1130.75 180.843 L1130.75 176.908 L1135 176.908 L1135 199.616 Z\" fill=\"#000000\" fill-rule=\"evenodd\" fill-opacity=\"1\" /><path clip-path=\"url(#clip660)\" d=\"M1143.78 176.908 L1148.04 176.908 L1148.04 202.834 L1143.78 202.834 L1143.78 176.908 M1143.78 166.815 L1148.04 166.815 L1148.04 172.209 L1143.78 172.209 L1143.78 166.815 Z\" fill=\"#000000\" fill-rule=\"evenodd\" fill-opacity=\"1\" /><path clip-path=\"url(#clip660)\" d=\"M1178.5 187.185 L1178.5 202.834 L1174.24 202.834 L1174.24 187.324 Q1174.24 183.644 1172.81 181.815 Q1171.37 179.986 1168.5 179.986 Q1165.05 179.986 1163.06 182.186 Q1161.07 184.385 1161.07 188.181 L1161.07 202.834 L1156.79 202.834 L1156.79 176.908 L1161.07 176.908 L1161.07 180.936 Q1162.6 178.598 1164.66 177.44 Q1166.74 176.283 1169.45 176.283 Q1173.92 176.283 1176.21 179.061 Q1178.5 181.815 1178.5 187.185 Z\" fill=\"#000000\" fill-rule=\"evenodd\" fill-opacity=\"1\" /><path clip-path=\"url(#clip660)\" d=\"M1198.78 189.801 Q1193.62 189.801 1191.62 190.982 Q1189.63 192.162 1189.63 195.01 Q1189.63 197.278 1191.12 198.621 Q1192.62 199.94 1195.19 199.94 Q1198.73 199.94 1200.86 197.44 Q1203.01 194.917 1203.01 190.75 L1203.01 189.801 L1198.78 189.801 M1207.27 188.042 L1207.27 202.834 L1203.01 202.834 L1203.01 198.898 Q1201.56 201.259 1199.38 202.394 Q1197.2 203.505 1194.06 203.505 Q1190.07 203.505 1187.71 201.283 Q1185.37 199.037 1185.37 195.287 Q1185.37 190.912 1188.29 188.69 Q1191.23 186.468 1197.04 186.468 L1203.01 186.468 L1203.01 186.051 Q1203.01 183.111 1201.07 181.514 Q1199.15 179.894 1195.65 179.894 Q1193.43 179.894 1191.32 180.426 Q1189.22 180.959 1187.27 182.023 L1187.27 178.088 Q1189.61 177.186 1191.81 176.746 Q1194.01 176.283 1196.09 176.283 Q1201.72 176.283 1204.49 179.199 Q1207.27 182.116 1207.27 188.042 Z\" fill=\"#000000\" fill-rule=\"evenodd\" fill-opacity=\"1\" /><path clip-path=\"url(#clip660)\" d=\"M1216.05 166.815 L1220.31 166.815 L1220.31 202.834 L1216.05 202.834 L1216.05 166.815 Z\" fill=\"#000000\" fill-rule=\"evenodd\" fill-opacity=\"1\" /><path clip-path=\"url(#clip660)\" d=\"M1248.41 198.945 L1248.41 212.695 L1244.12 212.695 L1244.12 176.908 L1248.41 176.908 L1248.41 180.843 Q1249.75 178.528 1251.79 177.417 Q1253.85 176.283 1256.69 176.283 Q1261.42 176.283 1264.36 180.033 Q1267.32 183.783 1267.32 189.894 Q1267.32 196.005 1264.36 199.755 Q1261.42 203.505 1256.69 203.505 Q1253.85 203.505 1251.79 202.394 Q1249.75 201.259 1248.41 198.945 M1262.9 189.894 Q1262.9 185.195 1260.95 182.533 Q1259.03 179.848 1255.65 179.848 Q1252.27 179.848 1250.33 182.533 Q1248.41 185.195 1248.41 189.894 Q1248.41 194.593 1250.33 197.278 Q1252.27 199.94 1255.65 199.94 Q1259.03 199.94 1260.95 197.278 Q1262.9 194.593 1262.9 189.894 Z\" fill=\"#000000\" fill-rule=\"evenodd\" fill-opacity=\"1\" /><path clip-path=\"url(#clip660)\" d=\"M1278.59 169.547 L1278.59 176.908 L1287.36 176.908 L1287.36 180.218 L1278.59 180.218 L1278.59 194.292 Q1278.59 197.463 1279.45 198.366 Q1280.33 199.269 1282.99 199.269 L1287.36 199.269 L1287.36 202.834 L1282.99 202.834 Q1278.06 202.834 1276.18 201.005 Q1274.31 199.153 1274.31 194.292 L1274.31 180.218 L1271.18 180.218 L1271.18 176.908 L1274.31 176.908 L1274.31 169.547 L1278.59 169.547 Z\" fill=\"#000000\" fill-rule=\"evenodd\" fill-opacity=\"1\" /><polyline clip-path=\"url(#clip660)\" style=\"stroke:#3da44d; stroke-linecap:round; stroke-linejoin:round; stroke-width:4; stroke-opacity:1; fill:none\" points=\"\n",
       "  775.592,237.394 869.772,237.394 \n",
       "  \"/>\n",
       "<path clip-path=\"url(#clip660)\" d=\"M901.858 238.47 Q903.362 238.979 904.774 240.646 Q906.209 242.313 907.645 245.229 L912.39 254.674 L907.367 254.674 L902.946 245.808 Q901.233 242.336 899.612 241.201 Q898.015 240.067 895.237 240.067 L890.145 240.067 L890.145 254.674 L885.469 254.674 L885.469 220.114 L896.024 220.114 Q901.95 220.114 904.867 222.59 Q907.784 225.067 907.784 230.067 Q907.784 233.331 906.256 235.484 Q904.751 237.637 901.858 238.47 M890.145 223.956 L890.145 236.225 L896.024 236.225 Q899.404 236.225 901.117 234.674 Q902.853 233.1 902.853 230.067 Q902.853 227.035 901.117 225.507 Q899.404 223.956 896.024 223.956 L890.145 223.956 Z\" fill=\"#000000\" fill-rule=\"evenodd\" fill-opacity=\"1\" /><path clip-path=\"url(#clip660)\" d=\"M928.964 241.641 Q923.802 241.641 921.811 242.822 Q919.821 244.002 919.821 246.85 Q919.821 249.118 921.302 250.461 Q922.807 251.78 925.376 251.78 Q928.918 251.78 931.047 249.28 Q933.2 246.757 933.2 242.59 L933.2 241.641 L928.964 241.641 M937.459 239.882 L937.459 254.674 L933.2 254.674 L933.2 250.738 Q931.742 253.099 929.566 254.234 Q927.39 255.345 924.242 255.345 Q920.26 255.345 917.899 253.123 Q915.561 250.877 915.561 247.127 Q915.561 242.752 918.478 240.53 Q921.418 238.308 927.228 238.308 L933.2 238.308 L933.2 237.891 Q933.2 234.951 931.256 233.354 Q929.334 231.734 925.839 231.734 Q923.617 231.734 921.51 232.266 Q919.404 232.799 917.459 233.863 L917.459 229.928 Q919.797 229.026 921.996 228.586 Q924.196 228.123 926.279 228.123 Q931.904 228.123 934.682 231.039 Q937.459 233.956 937.459 239.882 Z\" fill=\"#000000\" fill-rule=\"evenodd\" fill-opacity=\"1\" /><path clip-path=\"url(#clip660)\" d=\"M957.019 257.081 Q955.214 261.711 953.501 263.123 Q951.788 264.535 948.918 264.535 L945.515 264.535 L945.515 260.97 L948.015 260.97 Q949.774 260.97 950.746 260.136 Q951.719 259.303 952.899 256.201 L953.663 254.257 L943.177 228.748 L947.691 228.748 L955.793 249.025 L963.894 228.748 L968.408 228.748 L957.019 257.081 Z\" fill=\"#000000\" fill-rule=\"evenodd\" fill-opacity=\"1\" /><path clip-path=\"url(#clip660)\" d=\"M993.57 221.387 L993.57 228.748 L1002.34 228.748 L1002.34 232.058 L993.57 232.058 L993.57 246.132 Q993.57 249.303 994.427 250.206 Q995.306 251.109 997.968 251.109 L1002.34 251.109 L1002.34 254.674 L997.968 254.674 Q993.038 254.674 991.163 252.845 Q989.288 250.993 989.288 246.132 L989.288 232.058 L986.163 232.058 L986.163 228.748 L989.288 228.748 L989.288 221.387 L993.57 221.387 Z\" fill=\"#000000\" fill-rule=\"evenodd\" fill-opacity=\"1\" /><path clip-path=\"url(#clip660)\" d=\"M1017.99 231.734 Q1014.57 231.734 1012.57 234.419 Q1010.58 237.081 1010.58 241.734 Q1010.58 246.387 1012.55 249.072 Q1014.54 251.734 1017.99 251.734 Q1021.39 251.734 1023.38 249.049 Q1025.38 246.363 1025.38 241.734 Q1025.38 237.127 1023.38 234.442 Q1021.39 231.734 1017.99 231.734 M1017.99 228.123 Q1023.55 228.123 1026.72 231.734 Q1029.89 235.345 1029.89 241.734 Q1029.89 248.1 1026.72 251.734 Q1023.55 255.345 1017.99 255.345 Q1012.41 255.345 1009.24 251.734 Q1006.09 248.1 1006.09 241.734 Q1006.09 235.345 1009.24 231.734 Q1012.41 228.123 1017.99 228.123 Z\" fill=\"#000000\" fill-rule=\"evenodd\" fill-opacity=\"1\" /><path clip-path=\"url(#clip660)\" d=\"M1067.04 232.729 Q1066.32 232.313 1065.47 232.127 Q1064.63 231.919 1063.62 231.919 Q1060 231.919 1058.06 234.28 Q1056.14 236.618 1056.14 241.016 L1056.14 254.674 L1051.86 254.674 L1051.86 228.748 L1056.14 228.748 L1056.14 232.776 Q1057.48 230.414 1059.63 229.28 Q1061.79 228.123 1064.87 228.123 Q1065.31 228.123 1065.84 228.192 Q1066.37 228.239 1067.02 228.354 L1067.04 232.729 Z\" fill=\"#000000\" fill-rule=\"evenodd\" fill-opacity=\"1\" /><path clip-path=\"url(#clip660)\" d=\"M1080.51 231.734 Q1077.09 231.734 1075.1 234.419 Q1073.11 237.081 1073.11 241.734 Q1073.11 246.387 1075.07 249.072 Q1077.07 251.734 1080.51 251.734 Q1083.92 251.734 1085.91 249.049 Q1087.9 246.363 1087.9 241.734 Q1087.9 237.127 1085.91 234.442 Q1083.92 231.734 1080.51 231.734 M1080.51 228.123 Q1086.07 228.123 1089.24 231.734 Q1092.41 235.345 1092.41 241.734 Q1092.41 248.1 1089.24 251.734 Q1086.07 255.345 1080.51 255.345 Q1074.94 255.345 1071.76 251.734 Q1068.62 248.1 1068.62 241.734 Q1068.62 235.345 1071.76 231.734 Q1074.94 228.123 1080.51 228.123 Z\" fill=\"#000000\" fill-rule=\"evenodd\" fill-opacity=\"1\" /><path clip-path=\"url(#clip660)\" d=\"M1103.69 221.387 L1103.69 228.748 L1112.46 228.748 L1112.46 232.058 L1103.69 232.058 L1103.69 246.132 Q1103.69 249.303 1104.54 250.206 Q1105.42 251.109 1108.08 251.109 L1112.46 251.109 L1112.46 254.674 L1108.08 254.674 Q1103.15 254.674 1101.28 252.845 Q1099.4 250.993 1099.4 246.132 L1099.4 232.058 L1096.28 232.058 L1096.28 228.748 L1099.4 228.748 L1099.4 221.387 L1103.69 221.387 Z\" fill=\"#000000\" fill-rule=\"evenodd\" fill-opacity=\"1\" /><path clip-path=\"url(#clip660)\" d=\"M1129.84 241.641 Q1124.68 241.641 1122.69 242.822 Q1120.7 244.002 1120.7 246.85 Q1120.7 249.118 1122.18 250.461 Q1123.69 251.78 1126.25 251.78 Q1129.8 251.78 1131.93 249.28 Q1134.08 246.757 1134.08 242.59 L1134.08 241.641 L1129.84 241.641 M1138.34 239.882 L1138.34 254.674 L1134.08 254.674 L1134.08 250.738 Q1132.62 253.099 1130.44 254.234 Q1128.27 255.345 1125.12 255.345 Q1121.14 255.345 1118.78 253.123 Q1116.44 250.877 1116.44 247.127 Q1116.44 242.752 1119.36 240.53 Q1122.3 238.308 1128.11 238.308 L1134.08 238.308 L1134.08 237.891 Q1134.08 234.951 1132.13 233.354 Q1130.21 231.734 1126.72 231.734 Q1124.5 231.734 1122.39 232.266 Q1120.28 232.799 1118.34 233.863 L1118.34 229.928 Q1120.68 229.026 1122.87 228.586 Q1125.07 228.123 1127.16 228.123 Q1132.78 228.123 1135.56 231.039 Q1138.34 233.956 1138.34 239.882 Z\" fill=\"#000000\" fill-rule=\"evenodd\" fill-opacity=\"1\" /><path clip-path=\"url(#clip660)\" d=\"M1151.32 221.387 L1151.32 228.748 L1160.1 228.748 L1160.1 232.058 L1151.32 232.058 L1151.32 246.132 Q1151.32 249.303 1152.18 250.206 Q1153.06 251.109 1155.72 251.109 L1160.1 251.109 L1160.1 254.674 L1155.72 254.674 Q1150.79 254.674 1148.92 252.845 Q1147.04 250.993 1147.04 246.132 L1147.04 232.058 L1143.92 232.058 L1143.92 228.748 L1147.04 228.748 L1147.04 221.387 L1151.32 221.387 Z\" fill=\"#000000\" fill-rule=\"evenodd\" fill-opacity=\"1\" /><path clip-path=\"url(#clip660)\" d=\"M1187.87 240.646 L1187.87 242.729 L1168.29 242.729 Q1168.57 247.127 1170.93 249.442 Q1173.31 251.734 1177.55 251.734 Q1180 251.734 1182.3 251.132 Q1184.61 250.53 1186.88 249.326 L1186.88 253.354 Q1184.59 254.326 1182.18 254.836 Q1179.77 255.345 1177.3 255.345 Q1171.09 255.345 1167.46 251.734 Q1163.85 248.123 1163.85 241.965 Q1163.85 235.6 1167.27 231.873 Q1170.72 228.123 1176.56 228.123 Q1181.79 228.123 1184.82 231.502 Q1187.87 234.859 1187.87 240.646 M1183.62 239.396 Q1183.57 235.901 1181.65 233.817 Q1179.75 231.734 1176.6 231.734 Q1173.04 231.734 1170.88 233.748 Q1168.75 235.762 1168.43 239.419 L1183.62 239.396 Z\" fill=\"#000000\" fill-rule=\"evenodd\" fill-opacity=\"1\" /><path clip-path=\"url(#clip660)\" d=\"M1211.93 232.683 L1211.93 218.655 L1216.18 218.655 L1216.18 254.674 L1211.93 254.674 L1211.93 250.785 Q1210.58 253.099 1208.52 254.234 Q1206.49 255.345 1203.62 255.345 Q1198.92 255.345 1195.95 251.595 Q1193.01 247.845 1193.01 241.734 Q1193.01 235.623 1195.95 231.873 Q1198.92 228.123 1203.62 228.123 Q1206.49 228.123 1208.52 229.257 Q1210.58 230.368 1211.93 232.683 M1197.41 241.734 Q1197.41 246.433 1199.33 249.118 Q1201.28 251.78 1204.66 251.78 Q1208.04 251.78 1209.98 249.118 Q1211.93 246.433 1211.93 241.734 Q1211.93 237.035 1209.98 234.373 Q1208.04 231.688 1204.66 231.688 Q1201.28 231.688 1199.33 234.373 Q1197.41 237.035 1197.41 241.734 Z\" fill=\"#000000\" fill-rule=\"evenodd\" fill-opacity=\"1\" /><path clip-path=\"url(#clip660)\" d=\"M1244.15 250.785 L1244.15 264.535 L1239.87 264.535 L1239.87 228.748 L1244.15 228.748 L1244.15 232.683 Q1245.49 230.368 1247.53 229.257 Q1249.59 228.123 1252.43 228.123 Q1257.16 228.123 1260.1 231.873 Q1263.06 235.623 1263.06 241.734 Q1263.06 247.845 1260.1 251.595 Q1257.16 255.345 1252.43 255.345 Q1249.59 255.345 1247.53 254.234 Q1245.49 253.099 1244.15 250.785 M1258.64 241.734 Q1258.64 237.035 1256.69 234.373 Q1254.77 231.688 1251.39 231.688 Q1248.01 231.688 1246.07 234.373 Q1244.15 237.035 1244.15 241.734 Q1244.15 246.433 1246.07 249.118 Q1248.01 251.78 1251.39 251.78 Q1254.77 251.78 1256.69 249.118 Q1258.64 246.433 1258.64 241.734 Z\" fill=\"#000000\" fill-rule=\"evenodd\" fill-opacity=\"1\" /><path clip-path=\"url(#clip660)\" d=\"M1274.33 221.387 L1274.33 228.748 L1283.11 228.748 L1283.11 232.058 L1274.33 232.058 L1274.33 246.132 Q1274.33 249.303 1275.19 250.206 Q1276.07 251.109 1278.73 251.109 L1283.11 251.109 L1283.11 254.674 L1278.73 254.674 Q1273.8 254.674 1271.93 252.845 Q1270.05 250.993 1270.05 246.132 L1270.05 232.058 L1266.93 232.058 L1266.93 228.748 L1270.05 228.748 L1270.05 221.387 L1274.33 221.387 Z\" fill=\"#000000\" fill-rule=\"evenodd\" fill-opacity=\"1\" /></svg>\n"
      ]
     },
     "metadata": {},
     "execution_count": 18
    }
   ],
   "cell_type": "code",
   "source": [
    "scatter(real.([z,zrot]),imag.([z,zrot]),xlim=(-3,3),ylim=(-3,3),legend=true,ratio=1)\n",
    "plot!([0,real(z)],[0,imag(z)],label=\"Ray to original pt\")\n",
    "plot!([0,real(zrot)],[0,imag(zrot)],label=\"Ray to rotated pt\")"
   ],
   "metadata": {},
   "execution_count": 18
  },
  {
   "cell_type": "markdown",
   "source": [
    "### Other uses of complex variables in potential flow\n",
    "There are many other uses of complex variables in potential flow. We don't need to\n",
    "cover them all here. However, it is helpful to know that we can write a **velocity vector**\n",
    "in complex form in terms of its Cartesian components:\n",
    "\n",
    "$$ u + \\mathrm{i} v $$\n",
    "\n",
    "We can also write velocity in its polar components:\n",
    "\n",
    "$$ u_r + \\mathrm{i} u_\\theta $$\n",
    "\n",
    "We can go from one form to the other by using the **local** rotation operator,\n",
    "$\\mathrm{e}^{-\\mathrm{i}\\theta}$.\n",
    "\n",
    "$$ u_r + \\mathrm{i} u_\\theta = (u + \\mathrm{i} v) \\mathrm{e}^{-\\mathrm{i}\\theta}$$\""
   ],
   "metadata": {}
  },
  {
   "cell_type": "markdown",
   "source": [
    "Try this rotation:"
   ],
   "metadata": {}
  },
  {
   "outputs": [
    {
     "output_type": "execute_result",
     "data": {
      "text/plain": "1.0 + 6.123233995736766e-17im"
     },
     "metadata": {},
     "execution_count": 19
    }
   ],
   "cell_type": "code",
   "source": [
    "u = 0.0\n",
    "v = 1.0\n",
    "θ = π/2\n",
    "(u+im*v)*exp(-im*θ) # ur + i*uθ"
   ],
   "metadata": {},
   "execution_count": 19
  },
  {
   "cell_type": "markdown",
   "source": [
    "The real and imaginary parts of this are $u_r$ and $u_\\theta$"
   ],
   "metadata": {}
  },
  {
   "cell_type": "markdown",
   "source": [
    "---\n",
    "\n",
    "*This notebook was generated using [Literate.jl](https://github.com/fredrikekre/Literate.jl).*"
   ],
   "metadata": {}
  }
 ],
 "nbformat_minor": 3,
 "metadata": {
  "language_info": {
   "file_extension": ".jl",
   "mimetype": "application/julia",
   "name": "julia",
   "version": "1.8.1"
  },
  "kernelspec": {
   "name": "julia-1.8",
   "display_name": "Julia 1.8.1",
   "language": "julia"
  }
 },
 "nbformat": 4
}
