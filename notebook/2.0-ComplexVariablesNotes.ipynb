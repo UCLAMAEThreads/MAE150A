{
 "cells": [
  {
   "cell_type": "markdown",
   "metadata": {},
   "source": [
    "<img src=\"logo_UCLA_blue_boxed.svg\" alt=\"ucla logo\" width=\"150\" align=\"left\"/>"
   ]
  },
  {
   "cell_type": "markdown",
   "metadata": {},
   "source": [
    "### **MAE 150A - Intermediate Fluid Mechanics**\n",
    "\n",
    "<hr />"
   ]
  },
  {
   "cell_type": "markdown",
   "metadata": {},
   "source": [
    "# Basic notes on complex variables"
   ]
  },
  {
   "cell_type": "markdown",
   "metadata": {},
   "source": [
    "This notebook reviews some aspects of complex variables and demonstrates how to use them in Julia."
   ]
  },
  {
   "cell_type": "markdown",
   "metadata": {},
   "source": [
    "### First, set up the environment"
   ]
  },
  {
   "cell_type": "code",
   "execution_count": null,
   "metadata": {},
   "outputs": [],
   "source": [
    "using MAE150A"
   ]
  },
  {
   "cell_type": "code",
   "execution_count": null,
   "metadata": {},
   "outputs": [],
   "source": [
    "using Plots"
   ]
  },
  {
   "cell_type": "markdown",
   "metadata": {},
   "source": [
    "Potential flows make common use of **complex variables**. For example, rather than write the position of a point in Cartesian coordinates as $(x,y)$, it is typical to write it instead as\n",
    "\n",
    "$$ z = x + \\mathrm{i} y $$\n",
    "\n",
    "where $\\mathrm{i} = \\sqrt{-1}$ is the imaginary unit. It is also common for us to use cylindrical (or polar) coordinates. These also have a complex form. If a point is at $(r,\\theta)$, then we write this as\n",
    "\n",
    "$$ z = r \\mathrm{e}^{\\mathrm{i}\\theta} $$\n",
    "\n",
    "Remember Euler's formula, $\\mathrm{e}^{\\mathrm{i}\\theta} = \\cos\\theta + \\mathrm{i}\\sin\\theta$. This ensures that $x = r \\cos\\theta$ and $y = r \\sin\\theta$, as we should expect."
   ]
  },
  {
   "cell_type": "markdown",
   "metadata": {},
   "source": [
    "#### Complex variables in Julia\n",
    "Julia allows us to write complex variables very easily. The imaginary unit is `im`. So, for example, the point $(1.0,2.0)$ can be written in complex form as"
   ]
  },
  {
   "cell_type": "code",
   "execution_count": null,
   "metadata": {},
   "outputs": [],
   "source": [
    "z = 1.0+im*2.0"
   ]
  },
  {
   "cell_type": "markdown",
   "metadata": {},
   "source": [
    "(The reason we used 1.0 instead of 1 was to ensure that this is treated as a floating-point number, rather than an integer.)\n",
    "\n",
    "We can always recover the real or imaginary part of a variable with `real` and `imag`:"
   ]
  },
  {
   "cell_type": "code",
   "execution_count": null,
   "metadata": {},
   "outputs": [],
   "source": [
    "real(z)"
   ]
  },
  {
   "cell_type": "code",
   "execution_count": null,
   "metadata": {},
   "outputs": [],
   "source": [
    "imag(z)"
   ]
  },
  {
   "cell_type": "markdown",
   "metadata": {},
   "source": [
    "We can also set up an array of complex numbers. For example, here is a set of points at $y = 0.1$ and between $x = -1$ and $x = 1$."
   ]
  },
  {
   "cell_type": "code",
   "execution_count": null,
   "metadata": {},
   "outputs": [],
   "source": [
    "z = (-1:0.1:1) .+ 0.1im;"
   ]
  },
  {
   "cell_type": "markdown",
   "metadata": {},
   "source": [
    "The `.+` signifies to add `0.1im` (i.e., $0.1\\mathrm{i}$) to every element in the list `-1:0.1:1`.\n",
    "\n",
    "If we want just the $x$ components of this array of points, then use `real`, but you will need to use a `.` to apply it to every element of the array:"
   ]
  },
  {
   "cell_type": "code",
   "execution_count": null,
   "metadata": {},
   "outputs": [],
   "source": [
    "real.(z)"
   ]
  },
  {
   "cell_type": "markdown",
   "metadata": {},
   "source": [
    "Plot these points just to see what we've created:"
   ]
  },
  {
   "cell_type": "code",
   "execution_count": null,
   "metadata": {},
   "outputs": [],
   "source": [
    "scatter(real.(z),imag.(z),ratio=1,xlim=(-2,2),ylim=(-1,1),legend=false,xlabel=L\"x\",ylabel=L\"y\")"
   ]
  },
  {
   "cell_type": "markdown",
   "metadata": {},
   "source": [
    "Suppose we want points on a circle. That's easy to do in the polar form, $z = a \\mathrm{e}^{\\mathrm{i}\\theta}$, where $a$ is the radius of the circle, and $\\theta$ varies from 0 to $2\\pi$."
   ]
  },
  {
   "cell_type": "code",
   "execution_count": null,
   "metadata": {},
   "outputs": [],
   "source": [
    "# set the radius of the circle\n",
    "a = 0.5\n",
    "\n",
    "# a range of angles between 0 and 2π\n",
    "θ = range(0,2π,length=50)\n",
    "\n",
    "#\n",
    "z = a*exp.(im*θ)\n",
    "\n",
    "# the last element of z is identical to the first one, so get rid of the redundant one\n",
    "pop!(z);"
   ]
  },
  {
   "cell_type": "markdown",
   "metadata": {},
   "source": [
    "And plot these to check"
   ]
  },
  {
   "cell_type": "code",
   "execution_count": null,
   "metadata": {},
   "outputs": [],
   "source": [
    "# the ratio=1 argument makes sure that we get equal dimensions of the axes. So a circle looks\n",
    "# like a circle!\n",
    "scatter(real.(z),imag.(z),ratio=1,xlim=(-2,2),ylim=(-2,2),legend=false,xlabel=L\"x\",ylabel=L\"y\")"
   ]
  },
  {
   "cell_type": "markdown",
   "metadata": {},
   "source": [
    "### Other operations\n",
    "The **complex conjugate** is an important operation, denoted by $()^{*}$. For example, if $z = x + \\mathrm{i}y$, then the conjugate simply switches the sign of the imaginary part.\n",
    "\n",
    "$$ z^{*} = x - \\mathrm{i}y $$\n",
    "\n",
    "It does not look that important, but it is useful for many operations.\n",
    "\n",
    "For example, the magnitude squared (i.e., the 'length' squared) of a complex variable can be obtained with the help of the conjugate, $|z|^2 = z z^* = x^2 + y^2$. Check this:\n",
    "\n",
    "$$ zz^* = (x+\\mathrm{i}y)(x-\\mathrm{i}y) = x^2 + \\mathrm{i}yx - \\mathrm{i}xy - \\mathrm{i}^2 y^2$$.\n",
    "\n",
    "But since $\\mathrm{i}^2 = -1$, then this is simply $x^2+y^2$."
   ]
  },
  {
   "cell_type": "markdown",
   "metadata": {},
   "source": [
    "#### Complex conjugate of the polar form\n",
    "The complex conjugate of the polar form is also easy:\n",
    "\n",
    "$$ z^* = r \\mathrm{e}^{-\\mathrm{i}\\theta}$$.\n",
    "\n",
    "Then, using the polar form, the magnitude squared is\n",
    "\n",
    "$$ |z|^2 = z z^* = r \\mathrm{e}^{\\mathrm{i}\\theta} r \\mathrm{e}^{-\\mathrm{i}\\theta} = r^2$$\n",
    "\n",
    "As expected, $r^2 = x^2 + y^2$."
   ]
  },
  {
   "cell_type": "markdown",
   "metadata": {},
   "source": [
    "In Julia, we use `conj` to get the complex conjugate and `abs` to get the magnitude"
   ]
  },
  {
   "cell_type": "code",
   "execution_count": null,
   "metadata": {},
   "outputs": [],
   "source": [
    "z = 1.0+im*2.0"
   ]
  },
  {
   "cell_type": "code",
   "execution_count": null,
   "metadata": {},
   "outputs": [],
   "source": [
    "conj(z)"
   ]
  },
  {
   "cell_type": "code",
   "execution_count": null,
   "metadata": {},
   "outputs": [],
   "source": [
    "abs(z)"
   ]
  },
  {
   "cell_type": "markdown",
   "metadata": {},
   "source": [
    "### The rotation operation\n",
    "The complex number $\\mathrm{e}^{\\mathrm{i}\\alpha}$ has special importance: By multiplying it with another complex number, it **rotates** that number by angle $\\alpha$ in the counter-clockwise direction about the origin. That can be particularly useful for moving points around.\n",
    "\n",
    "Let's try this:"
   ]
  },
  {
   "cell_type": "code",
   "execution_count": null,
   "metadata": {},
   "outputs": [],
   "source": [
    "α = π/2              # angle of counter-clockwise rotation\n",
    "z = 1.0+2.0*im       # original point\n",
    "zrot = exp(im*α)*z;  # new point, rotated"
   ]
  },
  {
   "cell_type": "markdown",
   "metadata": {},
   "source": [
    "Plot these points, using some lines from the origin to show that the rotation preserves the length."
   ]
  },
  {
   "cell_type": "code",
   "execution_count": null,
   "metadata": {},
   "outputs": [],
   "source": [
    "scatter(real.([z,zrot]),imag.([z,zrot]),xlim=(-3,3),ylim=(-3,3),legend=false,ratio=1)\n",
    "plot!([0,real(z)],[0,imag(z)]) # a ray from origin to original point\n",
    "plot!([0,real(zrot)],[0,imag(zrot)]) # a ray from origin to new point, rotated 90 degrees"
   ]
  },
  {
   "cell_type": "markdown",
   "metadata": {},
   "source": [
    "### Other uses of complex variables in potential flow\n",
    "There are many other uses of complex variables in potential flow. We don't need to cover them all here. However, it is helpful to know that we can write a **velocity vector** in complex form in terms of its Cartesian components:\n",
    "\n",
    "$$ u + \\mathrm{i} v $$\n",
    "\n",
    "We can also write velocity in its polar components:\n",
    "\n",
    "$$ u_r + \\mathrm{i} u_\\theta $$\n",
    "\n",
    "We can go from one form to the other by using the **local** rotation operator, $\\mathrm{e}^{-\\mathrm{i}\\theta}$.\n",
    "\n",
    "$$ u_r + \\mathrm{i} u_\\theta = (u + \\mathrm{i} v) \\mathrm{e}^{-\\mathrm{i}\\theta}$$"
   ]
  },
  {
   "cell_type": "markdown",
   "metadata": {},
   "source": [
    "Try this rotation:"
   ]
  },
  {
   "cell_type": "code",
   "execution_count": null,
   "metadata": {},
   "outputs": [],
   "source": [
    "u = 0.0\n",
    "v = 1.0\n",
    "θ = π/2\n",
    "(u+im*v)*exp(-im*θ) # ur + i*uθ"
   ]
  },
  {
   "cell_type": "code",
   "execution_count": null,
   "metadata": {},
   "outputs": [],
   "source": []
  }
 ],
 "metadata": {
  "@webio": {
   "lastCommId": null,
   "lastKernelId": null
  },
  "kernelspec": {
   "display_name": "Julia 1.5.3",
   "language": "julia",
   "name": "julia-1.5"
  },
  "language_info": {
   "file_extension": ".jl",
   "mimetype": "application/julia",
   "name": "julia",
   "version": "1.5.3"
  }
 },
 "nbformat": 4,
 "nbformat_minor": 2
}
