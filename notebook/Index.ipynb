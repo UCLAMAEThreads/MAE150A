{
 "cells": [
  {
   "cell_type": "markdown",
   "metadata": {},
   "source": [
    "<img src=\"logo_UCLA_blue_boxed.svg\" alt=\"ucla logo\" width=\"150\" align=\"left\"/>"
   ]
  },
  {
   "cell_type": "markdown",
   "metadata": {},
   "source": [
    "### **MAE 150A - Intermediate Fluid Mechanics**"
   ]
  },
  {
   "cell_type": "markdown",
   "metadata": {},
   "source": [
    "These Jupyter notebooks and associated code serve as a companion to the course.\n",
    "\n",
    "These are not static notebooks. **You are encouraged to play with them: run with different parameter values, create other plots, etc.!** The whole point is to enable an understanding of fluid mechanics through interactiveness. \n",
    "\n",
    "*The code is released under the [MIT license](https://opensource.org/licenses/MIT).*\n",
    "<hr />"
   ]
  },
  {
   "cell_type": "markdown",
   "metadata": {},
   "source": [
    "## Table of Notebooks\n",
    "\n",
    "- [Introduction](0.1-WelcomeToJulia.ipynb)\n",
    "\n",
    "#### Chapter 1 - Kinematics and plotting\n",
    "\n",
    "- [1.1 Flow lines in a steady flow field](1.1-FlowLines1.ipynb)\n",
    "- [1.2 Plotting a flow field](1.2-PlottingFlowFields.ipynb)\n",
    "- [1.3 Vorticity, streamfunction, and velocity](1.3-VorticityAndStreamfunction.ipynb)\n",
    "\n",
    "#### Chapter 2 - Potential flow\n",
    "\n",
    "- [2.0 Notes on complex variables](2.0-ComplexVariablesNotes.ipynb)\n",
    "- [2.1 Basic potential flows](2.1-BasicPotentialFlows.ipynb)\n",
    "- [2.2 Potential flows past bodies](2.2-PotentialFlowBodies.ipynb)\n",
    "\n",
    "#### Chapter 3 - Viscous flow\n",
    "\n",
    "- [3.0 The Rayleigh problem](3.0-RayleighProblem.ipynb)\n",
    "- [3.1 Laminar boundary layer flow](3.1-BlasiusAndFalknerSkan.ipynb)\n",
    "- [3.2 Boundary layer in the Navier-Stokes solution](3.2-FlatPlateFlow.ipynb)\n",
    "- [3.3 Viscous flow past a stationary airfoil](3.3-ViscousAirfoilFlow.ipynb)\n",
    "\n",
    "#### Chapter 4 - Compressible flow\n",
    "\n",
    "- [4.0 Basics of compressible flow tools](4.0-BasicGasDynamics.ipynb)\n",
    "- [4.1 Isentropic quasi 1D gas dynamics](4.1-IsentropicGasDynamics.ipynb)\n",
    "- [4.2 Quasi 1D gas dynamics with normal shocks](4.2-NormalShocks.ipynb)\n",
    "- [4.3 Frictional duct flow](4.3-FannoFlow.ipynb)\n",
    "- [4.4 Duct flow with heat transfer](4.4-RayleighFlow.ipynb)"
   ]
  },
  {
   "cell_type": "code",
   "execution_count": null,
   "metadata": {},
   "outputs": [],
   "source": []
  }
 ],
 "metadata": {
  "kernelspec": {
   "display_name": "Julia 1.4.2",
   "language": "julia",
   "name": "julia-1.4"
  },
  "language_info": {
   "file_extension": ".jl",
   "mimetype": "application/julia",
   "name": "julia",
   "version": "1.4.2"
  }
 },
 "nbformat": 4,
 "nbformat_minor": 4
}
