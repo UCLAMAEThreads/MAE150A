{
 "cells": [
  {
   "cell_type": "markdown",
   "metadata": {},
   "source": [
    "<img src=\"logo_UCLA_blue_boxed.svg\" alt=\"ucla logo\" width=\"150\" align=\"left\"/>"
   ]
  },
  {
   "cell_type": "markdown",
   "metadata": {},
   "source": [
    "### **MAE 150A - Intermediate Fluid Mechanics**\n",
    "\n",
    "<hr />"
   ]
  },
  {
   "cell_type": "markdown",
   "metadata": {},
   "source": [
    "# The Rayleigh problem and self-similarity"
   ]
  },
  {
   "cell_type": "markdown",
   "metadata": {},
   "source": [
    "This notebook reviews the Rayleigh problem and the concept of self-similar flow"
   ]
  },
  {
   "cell_type": "markdown",
   "metadata": {},
   "source": [
    "### First, set up the environment"
   ]
  },
  {
   "cell_type": "code",
   "execution_count": 1,
   "metadata": {},
   "outputs": [
    {
     "name": "stderr",
     "output_type": "stream",
     "text": [
      "┌ Info: Recompiling stale cache file /Users/jeff/.julia/compiled/v1.2/MAE150A/A9IAL.ji for MAE150A [a017625c-406c-46ee-99d6-0fac6062339e]\n",
      "└ @ Base loading.jl:1240\n"
     ]
    }
   ],
   "source": [
    "using MAE150A"
   ]
  },
  {
   "cell_type": "code",
   "execution_count": 2,
   "metadata": {},
   "outputs": [
    {
     "name": "stderr",
     "output_type": "stream",
     "text": [
      "┌ Info: Recompiling stale cache file /Users/jeff/.julia/compiled/v1.2/PyPlot/oatAj.ji for PyPlot [d330b81b-6aea-500a-939a-2ce795aea3ee]\n",
      "└ @ Base loading.jl:1240\n"
     ]
    }
   ],
   "source": [
    "pyplot()\n",
    "initialize_environment()"
   ]
  },
  {
   "cell_type": "code",
   "execution_count": 5,
   "metadata": {},
   "outputs": [],
   "source": [
    "using SpecialFunctions"
   ]
  },
  {
   "cell_type": "markdown",
   "metadata": {},
   "source": [
    "### Set up functions for the solution of the Rayleigh problem"
   ]
  },
  {
   "cell_type": "markdown",
   "metadata": {},
   "source": [
    "The self-similar velocity profile"
   ]
  },
  {
   "cell_type": "code",
   "execution_count": 54,
   "metadata": {},
   "outputs": [
    {
     "data": {
      "text/plain": [
       "δ (generic function with 1 method)"
      ]
     },
     "execution_count": 54,
     "metadata": {},
     "output_type": "execute_result"
    }
   ],
   "source": [
    "F(η) = 1 - erf(η)\n",
    "δ(ν,t) = 2*sqrt(ν*t)"
   ]
  },
  {
   "cell_type": "markdown",
   "metadata": {},
   "source": [
    "The velocity and vorticity. We set a default values of viscosity and wall velocity here, but they can be changed"
   ]
  },
  {
   "cell_type": "code",
   "execution_count": 55,
   "metadata": {},
   "outputs": [
    {
     "data": {
      "text/plain": [
       "u (generic function with 1 method)"
      ]
     },
     "execution_count": 55,
     "metadata": {},
     "output_type": "execute_result"
    }
   ],
   "source": [
    "u(y,t;ν = 1.0, U = 1.0) = U*F(y/δ(ν,t))"
   ]
  },
  {
   "cell_type": "markdown",
   "metadata": {},
   "source": [
    "## Inspecting the flow solution\n",
    "The velocity field that develops in the fluid by the impulsively-started flat plate is unsteady. This means, of course, that this velocity changes in time. Let's inspect this:"
   ]
  },
  {
   "cell_type": "code",
   "execution_count": 56,
   "metadata": {},
   "outputs": [
    {
     "data": {
      "text/plain": [
       "4.0"
      ]
     },
     "execution_count": 56,
     "metadata": {},
     "output_type": "execute_result"
    }
   ],
   "source": [
    "# These are just sample choices of viscosity and wall velocity. Others can be chosen!\n",
    "ν = 1.0\n",
    "U = 4.0"
   ]
  },
  {
   "cell_type": "code",
   "execution_count": 57,
   "metadata": {},
   "outputs": [
    {
     "data": {
      "image/png": "[encoded data removed]"
     },
     "execution_count": 57,
     "metadata": {},
     "output_type": "execute_result"
    }
   ],
   "source": [
    "y = range(0,5,length=501)\n",
    "plot(u.(y,0.001,ν=ν,U=U),y,xlim=(0,2U),ylim=(0,5),label=L\"t = 0.001\",legend=true,xlabel=L\"u(y,t)\",ylabel=L\"y\")\n",
    "plot!(u.(y,0.1,ν=ν,U=U),y,xlim=(0,2U),ylim=(0,5),label=L\"t = 0.1\")\n",
    "plot!(u.(y,1.0,ν=ν,U=U),y,xlim=(0,2U),ylim=(0,5),label=L\"t = 1.0\")"
   ]
  },
  {
   "cell_type": "markdown",
   "metadata": {},
   "source": [
    "This velocity behaves as one might expect: it starts out at rest, with only the fluid near the wall ($y = 0$) in motion at the speed of the wall. As time progresses, more and more fluid is brought into motion by viscous stresses \"dragging along\" higher and higher regions of the fluid."
   ]
  },
  {
   "cell_type": "markdown",
   "metadata": {},
   "source": [
    "However, there is an aspect of this flow that is important to discuss. This velocity profile has the same **shape** at all times. What does this mean? "
   ]
  },
  {
   "cell_type": "markdown",
   "metadata": {},
   "source": [
    "### Revisiting Couette flow\n",
    "Before we answer that question, let's remind ourselves of a more basic flow---steady Couette flow---and its velocity profile:\n",
    "\n",
    "$$ u = Uy/h $$\n",
    "\n",
    "where $h$ is the height of the gap between two parallel walls: the upper wall is moving at speed $U$ and the lower wall is stationary.\n",
    "\n",
    "If we compare two different cases of Couette flow: one with a gap size $h = 1$ and wall speed $U = 1$ and another with $h = 3$ and $U = 6$, then we see the following two velocity profiles:"
   ]
  },
  {
   "cell_type": "code",
   "execution_count": 41,
   "metadata": {},
   "outputs": [
    {
     "data": {
      "image/png": "[encoded data removed]"
     },
     "execution_count": 41,
     "metadata": {},
     "output_type": "execute_result"
    }
   ],
   "source": [
    "h = 1; U = 1\n",
    "y = range(0,h,length=101)\n",
    "plot(U*y/h,y,xlim=(0,U),ylim=(0,h),xlabel=L\"u(y)\",ylabel=L\"y\")\n",
    "h = 3; U = 6\n",
    "y = range(0,h,length=101)\n",
    "plot!(U*y/h,y,xlim=(0,U),ylim=(0,h))"
   ]
  },
  {
   "cell_type": "markdown",
   "metadata": {},
   "source": [
    "Obviously these profiles are different. However, the two geometries are the same shape---a gap between two walls---but with different heights. Also, their upper walls are both in the same motion, but with different velocities. Their differences in both respects can be \"scaled out\" of the solution. For this reason, we say that these two cases are **geometrically and dynamically similar** to each other, and their velocity profiles share a common form\n",
    "\n",
    "$$ \\dfrac{u}{U} = \\dfrac{y}{h}$$\n",
    "\n",
    "or\n",
    "\n",
    "$$ F(\\eta) = \\eta$$\n",
    "\n",
    "where $F = u/U$ and $\\eta = y/h$.\n",
    "\n",
    "Similarly, one could say the same thing about **steady Poiseuille flow** in a gap, in which the common shape is\n",
    "\n",
    "$$F(\\eta) = 4\\eta(1 - \\eta)$$\n",
    "\n",
    "where $F = u/U_{max}$ and $\\eta = y/h$."
   ]
  },
  {
   "cell_type": "markdown",
   "metadata": {},
   "source": [
    "### Back to the Rayleigh problem...\n",
    "The Rayleigh problem also has similarity, but **not** between two different geometries. The Rayleigh problem only has one geometry---a semi-infinite region above a flat plate---with **no characteristic length** (like $h$ in Couette flow).\n",
    "\n",
    "However, the flow itself \"creates\" its own characteristic length scale: the thickness of the layer of fluid with significant velocity. We know that this thickness $\\delta$ should vary in time, and should be influenced by viscosity. By dimensional analysis, it is easy to show that this thickness must have the form\n",
    "\n",
    "$$\\delta = C \\sqrt{\\nu t}$$\n",
    "\n",
    "where $C$ is a constant. The value of this constant depends on how we specifically define this thickness. For example, we might say that the layer is defined as all fluid whose velocity is greater than 1% of the wall velocity. It is conventional to choose $C = 2$, but this choice is not really important.\n",
    "\n",
    "So this length scale, $\\delta(t)$, becomes the crucial one for setting the dimensions of the flow. So from dimensional analysis we expect the velocity profile to have a common shape\n",
    "\n",
    "$$ u/U = F(\\eta)$$\n",
    "\n",
    "where $\\eta = y/\\delta(t)$. Notice that time and distance are no longer separate independent variables; there is only **one** independent variable, formed from a combination of $y$ and $t$. We say that this type of flow is **self-similar**, because its similarity is not between different geometries, but with *itself at different times*.\n"
   ]
  },
  {
   "cell_type": "markdown",
   "metadata": {},
   "source": [
    "This **self-similar** profile is shown here:"
   ]
  },
  {
   "cell_type": "code",
   "execution_count": 51,
   "metadata": {},
   "outputs": [
    {
     "data": {
      "image/png": "[encoded data removed]"
     },
     "execution_count": 51,
     "metadata": {},
     "output_type": "execute_result"
    }
   ],
   "source": [
    "η = range(0,4,length=401)\n",
    "plot(F.(η),y,xlim=(0,2),ylim=(0,3),xlabel=L\"F(\\eta)\",ylabel=L\"\\eta\",title=\"Self-similar Rayleigh velocity profile\")"
   ]
  },
  {
   "cell_type": "markdown",
   "metadata": {},
   "source": [
    "### The vorticity of the Rayleigh flow\n",
    "The vorticity, like the velocity, is also self-similar. In this case, the shape is a half Gaussian."
   ]
  },
  {
   "cell_type": "code",
   "execution_count": 60,
   "metadata": {},
   "outputs": [
    {
     "data": {
      "text/plain": [
       "ω (generic function with 3 methods)"
      ]
     },
     "execution_count": 60,
     "metadata": {},
     "output_type": "execute_result"
    }
   ],
   "source": [
    "Fp(η) = 2/sqrt(π)*exp(-η^2)\n",
    "ω(y,t;ν=1.0,U=1.0) = U/δ(ν,t)*Fp(y/δ(ν,t))"
   ]
  },
  {
   "cell_type": "code",
   "execution_count": 61,
   "metadata": {},
   "outputs": [
    {
     "data": {
      "image/png": "[encoded data removed]"
     },
     "execution_count": 61,
     "metadata": {},
     "output_type": "execute_result"
    }
   ],
   "source": [
    "y = range(0,5,length=501)\n",
    "plot(ω.(y,0.001,ν=ν,U=U),y,xlim=(0,2U),ylim=(0,5),label=L\"t = 0.001\",legend=true,xlabel=L\"ω(y,t)\",ylabel=L\"y\")\n",
    "plot!(ω.(y,0.1,ν=ν,U=U),y,xlim=(0,2U),ylim=(0,5),label=L\"t = 0.1\")\n",
    "plot!(ω.(y,1.0,ν=ν,U=U),y,xlim=(0,2U),ylim=(0,5),label=L\"t = 1.0\")"
   ]
  },
  {
   "cell_type": "markdown",
   "metadata": {},
   "source": [
    "### Consequences of self-similarity"
   ]
  },
  {
   "cell_type": "code",
   "execution_count": null,
   "metadata": {},
   "outputs": [],
   "source": []
  }
 ],
 "metadata": {
  "kernelspec": {
   "display_name": "Julia 1.2.0",
   "language": "julia",
   "name": "julia-1.2"
  },
  "language_info": {
   "file_extension": ".jl",
   "mimetype": "application/julia",
   "name": "julia",
   "version": "1.2.0"
  }
 },
 "nbformat": 4,
 "nbformat_minor": 2
}
