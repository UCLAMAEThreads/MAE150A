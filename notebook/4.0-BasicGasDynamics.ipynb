{
 "cells": [
  {
   "cell_type": "markdown",
   "source": [
    "<img src=\"https://raw.githubusercontent.com/UCLAMAEThreads/MAE150A/master/notebook/logo_UCLA_blue_boxed.svg\" alt=\"ucla logo\" width=\"150\" align=\"left\"/>"
   ],
   "metadata": {}
  },
  {
   "cell_type": "markdown",
   "source": [
    "### **MAE 150A - Intermediate Fluid Mechanics**\n",
    "<hr />"
   ],
   "metadata": {}
  },
  {
   "cell_type": "markdown",
   "source": [
    "# Basic Tools for Quasi-1D Steady Compressible Flow\n",
    "This notebook demonstrates the basic syntax for some tools for computing\n",
    "quasi-1d steady compressible flow."
   ],
   "metadata": {}
  },
  {
   "cell_type": "markdown",
   "source": [
    "### Set up the module"
   ],
   "metadata": {}
  },
  {
   "outputs": [],
   "cell_type": "code",
   "source": [
    "using MAE150A"
   ],
   "metadata": {},
   "execution_count": 1
  },
  {
   "outputs": [],
   "cell_type": "code",
   "source": [
    "using Gasdynamics1D"
   ],
   "metadata": {},
   "execution_count": 2
  },
  {
   "cell_type": "markdown",
   "source": [
    "### Setting basic properties and states\n",
    "We can set thermodynamic properties and states in a straightforward manner.\n",
    "However, it is important to remember that we have to explicitly define the\n",
    "type of property or state we are setting. Examples below will show how this works."
   ],
   "metadata": {}
  },
  {
   "cell_type": "markdown",
   "source": [
    "Let's say we wish to set the pressure to 10000 Pa. Pascals are the default units\n",
    "of pressure, as can be verified by using the `default_unit` function:"
   ],
   "metadata": {}
  },
  {
   "outputs": [
    {
     "output_type": "execute_result",
     "data": {
      "text/plain": "Pa"
     },
     "metadata": {},
     "execution_count": 3
    }
   ],
   "cell_type": "code",
   "source": [
    "default_unit(Pressure)"
   ],
   "metadata": {},
   "execution_count": 3
  },
  {
   "cell_type": "markdown",
   "source": [
    "So if we do not specify the unit, it is **automatically set to the default unit**:"
   ],
   "metadata": {}
  },
  {
   "outputs": [
    {
     "output_type": "execute_result",
     "data": {
      "text/plain": "Gasdynamics1D.Pressure = 10000.0 Pa"
     },
     "metadata": {},
     "execution_count": 4
    }
   ],
   "cell_type": "code",
   "source": [
    "Pressure(10000)"
   ],
   "metadata": {},
   "execution_count": 4
  },
  {
   "cell_type": "markdown",
   "source": [
    "We can set a quantity with another unit using the syntax u\"[unit]\". For example,\n",
    "if we set pressure to 1 atm, it will still convert it to the default\n",
    "unit."
   ],
   "metadata": {}
  },
  {
   "outputs": [
    {
     "output_type": "execute_result",
     "data": {
      "text/plain": "Gasdynamics1D.Pressure = 101325.0 Pa"
     },
     "metadata": {},
     "execution_count": 5
    }
   ],
   "cell_type": "code",
   "source": [
    "p = Pressure(1u\"atm\")"
   ],
   "metadata": {},
   "execution_count": 5
  },
  {
   "cell_type": "markdown",
   "source": [
    "However, we can always report the quantity in some desired units with the `value`\n",
    "function:"
   ],
   "metadata": {}
  },
  {
   "outputs": [
    {
     "output_type": "execute_result",
     "data": {
      "text/plain": "1.0 atm"
     },
     "metadata": {},
     "execution_count": 6
    }
   ],
   "cell_type": "code",
   "source": [
    "value(p,u\"atm\")"
   ],
   "metadata": {},
   "execution_count": 6
  },
  {
   "outputs": [
    {
     "output_type": "execute_result",
     "data": {
      "text/plain": "14.695948775513449 psi"
     },
     "metadata": {},
     "execution_count": 7
    }
   ],
   "cell_type": "code",
   "source": [
    "value(p,u\"psi\")"
   ],
   "metadata": {},
   "execution_count": 7
  },
  {
   "outputs": [
    {
     "output_type": "execute_result",
     "data": {
      "text/plain": "101.325 kPa"
     },
     "metadata": {},
     "execution_count": 8
    }
   ],
   "cell_type": "code",
   "source": [
    "value(p,u\"kPa\")"
   ],
   "metadata": {},
   "execution_count": 8
  },
  {
   "cell_type": "markdown",
   "source": [
    "#### Other thermodynamic quantities\n",
    "We can set most any other thermodynamic quantity in similar fashion:"
   ],
   "metadata": {}
  },
  {
   "outputs": [
    {
     "output_type": "execute_result",
     "data": {
      "text/plain": "Gasdynamics1D.Temperature = 293.15 K"
     },
     "metadata": {},
     "execution_count": 9
    }
   ],
   "cell_type": "code",
   "source": [
    "T = Temperature(20u\"°C\")"
   ],
   "metadata": {},
   "execution_count": 9
  },
  {
   "outputs": [
    {
     "output_type": "execute_result",
     "data": {
      "text/plain": "Gasdynamics1D.StagnationTemperature = 20.0 K"
     },
     "metadata": {},
     "execution_count": 10
    }
   ],
   "cell_type": "code",
   "source": [
    "T0 = StagnationTemperature(20)"
   ],
   "metadata": {},
   "execution_count": 10
  },
  {
   "outputs": [
    {
     "output_type": "execute_result",
     "data": {
      "text/plain": "Gasdynamics1D.MachNumber = 2.0"
     },
     "metadata": {},
     "execution_count": 11
    }
   ],
   "cell_type": "code",
   "source": [
    "MachNumber(2.0)"
   ],
   "metadata": {},
   "execution_count": 11
  },
  {
   "outputs": [
    {
     "output_type": "execute_result",
     "data": {
      "text/plain": "Gasdynamics1D.Enthalpy = 50.0 J kg⁻¹"
     },
     "metadata": {},
     "execution_count": 12
    }
   ],
   "cell_type": "code",
   "source": [
    "Enthalpy(50)"
   ],
   "metadata": {},
   "execution_count": 12
  },
  {
   "outputs": [
    {
     "output_type": "execute_result",
     "data": {
      "text/plain": "Gasdynamics1D.Entropy = 10.0 J kg⁻¹ K⁻¹"
     },
     "metadata": {},
     "execution_count": 13
    }
   ],
   "cell_type": "code",
   "source": [
    "Entropy(10)"
   ],
   "metadata": {},
   "execution_count": 13
  },
  {
   "outputs": [
    {
     "output_type": "execute_result",
     "data": {
      "text/plain": "Gasdynamics1D.Area = 0.005 m²"
     },
     "metadata": {},
     "execution_count": 14
    }
   ],
   "cell_type": "code",
   "source": [
    "Area(50u\"cm^2\")"
   ],
   "metadata": {},
   "execution_count": 14
  },
  {
   "outputs": [
    {
     "output_type": "execute_result",
     "data": {
      "text/plain": "Gasdynamics1D.Length = 5.0 m"
     },
     "metadata": {},
     "execution_count": 15
    }
   ],
   "cell_type": "code",
   "source": [
    "Length(5)"
   ],
   "metadata": {},
   "execution_count": 15
  },
  {
   "cell_type": "markdown",
   "source": [
    "and others..."
   ],
   "metadata": {}
  },
  {
   "cell_type": "markdown",
   "source": [
    "#### Gas properties\n",
    "We can set the properties of the gas that we are analyzing. (Note: It is\n",
    "assumed that the gas is perfect.)"
   ],
   "metadata": {}
  },
  {
   "outputs": [
    {
     "output_type": "execute_result",
     "data": {
      "text/plain": "Gasdynamics1D.SpecificHeatRatio = 1.3"
     },
     "metadata": {},
     "execution_count": 16
    }
   ],
   "cell_type": "code",
   "source": [
    "SpecificHeatRatio(1.3)"
   ],
   "metadata": {},
   "execution_count": 16
  },
  {
   "outputs": [
    {
     "output_type": "execute_result",
     "data": {
      "text/plain": "Gasdynamics1D.GasConstant = 320.0 J kg⁻¹ K⁻¹"
     },
     "metadata": {},
     "execution_count": 17
    }
   ],
   "cell_type": "code",
   "source": [
    "GasConstant(320)"
   ],
   "metadata": {},
   "execution_count": 17
  },
  {
   "cell_type": "markdown",
   "source": [
    "and we can define a gas with these values:"
   ],
   "metadata": {}
  },
  {
   "outputs": [
    {
     "output_type": "execute_result",
     "data": {
      "text/plain": "Perfect gas with\n   Specific heat ratio = 1.3\n   Gas constant = 320.0 J kg⁻¹ K⁻¹\n   cp = 1386.6666666666665 J kg⁻¹ K⁻¹\n   cv = 1066.6666666666665 J kg⁻¹ K⁻¹\n"
     },
     "metadata": {},
     "execution_count": 18
    }
   ],
   "cell_type": "code",
   "source": [
    "gas = PerfectGas(γ=SpecificHeatRatio(1.3),R=GasConstant(320))"
   ],
   "metadata": {},
   "execution_count": 18
  },
  {
   "cell_type": "markdown",
   "source": [
    "We have **pre-defined gases** (at standard conditions), as well, for convenience:"
   ],
   "metadata": {}
  },
  {
   "outputs": [
    {
     "output_type": "execute_result",
     "data": {
      "text/plain": "Perfect gas with\n   Specific heat ratio = 1.4\n   Gas constant = 287.0 J kg⁻¹ K⁻¹\n   cp = 1004.5000000000001 J kg⁻¹ K⁻¹\n   cv = 717.5000000000001 J kg⁻¹ K⁻¹\n"
     },
     "metadata": {},
     "execution_count": 19
    }
   ],
   "cell_type": "code",
   "source": [
    "Air"
   ],
   "metadata": {},
   "execution_count": 19
  },
  {
   "outputs": [
    {
     "output_type": "execute_result",
     "data": {
      "text/plain": "Perfect gas with\n   Specific heat ratio = 1.6666666666666667\n   Gas constant = 2077.26439404998 J kg⁻¹ K⁻¹\n   cp = 5193.160985124951 J kg⁻¹ K⁻¹\n   cv = 3115.8965910749703 J kg⁻¹ K⁻¹\n"
     },
     "metadata": {},
     "execution_count": 20
    }
   ],
   "cell_type": "code",
   "source": [
    "He"
   ],
   "metadata": {},
   "execution_count": 20
  },
  {
   "outputs": [
    {
     "output_type": "execute_result",
     "data": {
      "text/plain": "Perfect gas with\n   Specific heat ratio = 1.395\n   Gas constant = 259.83507666343445 J kg⁻¹ K⁻¹\n   cp = 917.645397330357 J kg⁻¹ K⁻¹\n   cv = 657.8103206669226 J kg⁻¹ K⁻¹\n"
     },
     "metadata": {},
     "execution_count": 21
    }
   ],
   "cell_type": "code",
   "source": [
    "O2"
   ],
   "metadata": {},
   "execution_count": 21
  },
  {
   "outputs": [
    {
     "output_type": "execute_result",
     "data": {
      "text/plain": "Perfect gas with\n   Specific heat ratio = 1.289\n   Gas constant = 188.9221226574242 J kg⁻¹ K⁻¹\n   cp = 842.631889638131 J kg⁻¹ K⁻¹\n   cv = 653.7097669807068 J kg⁻¹ K⁻¹\n"
     },
     "metadata": {},
     "execution_count": 22
    }
   ],
   "cell_type": "code",
   "source": [
    "CO2"
   ],
   "metadata": {},
   "execution_count": 22
  },
  {
   "outputs": [
    {
     "output_type": "execute_result",
     "data": {
      "text/plain": "Perfect gas with\n   Specific heat ratio = 1.405\n   Gas constant = 4124.237409798234 J kg⁻¹ K⁻¹\n   cp = 14307.539656213627 J kg⁻¹ K⁻¹\n   cv = 10183.302246415391 J kg⁻¹ K⁻¹\n"
     },
     "metadata": {},
     "execution_count": 23
    }
   ],
   "cell_type": "code",
   "source": [
    "H2"
   ],
   "metadata": {},
   "execution_count": 23
  },
  {
   "outputs": [
    {
     "output_type": "execute_result",
     "data": {
      "text/plain": "Perfect gas with\n   Specific heat ratio = 1.4\n   Gas constant = 296.80305204485137 J kg⁻¹ K⁻¹\n   cp = 1038.81068215698 J kg⁻¹ K⁻¹\n   cv = 742.0076301121286 J kg⁻¹ K⁻¹\n"
     },
     "metadata": {},
     "execution_count": 24
    }
   ],
   "cell_type": "code",
   "source": [
    "N2"
   ],
   "metadata": {},
   "execution_count": 24
  },
  {
   "outputs": [
    {
     "output_type": "execute_result",
     "data": {
      "text/plain": "Perfect gas with\n   Specific heat ratio = 1.6666666666666667\n   Gas constant = 208.1321372322329 J kg⁻¹ K⁻¹\n   cp = 520.3303430805823 J kg⁻¹ K⁻¹\n   cv = 312.1982058483494 J kg⁻¹ K⁻¹\n"
     },
     "metadata": {},
     "execution_count": 25
    }
   ],
   "cell_type": "code",
   "source": [
    "Ar"
   ],
   "metadata": {},
   "execution_count": 25
  },
  {
   "cell_type": "markdown",
   "source": [
    "#### Equations of state\n",
    "We can apply the equation of state for a perfect gas to determine other quantities.\n",
    "For example, suppose we have carbon dioxide at 1.2 kg/m^3 and 80 kPa. What is the temperature?"
   ],
   "metadata": {}
  },
  {
   "outputs": [
    {
     "output_type": "execute_result",
     "data": {
      "text/plain": "Gasdynamics1D.Temperature = 352.87908969535823 K"
     },
     "metadata": {},
     "execution_count": 26
    }
   ],
   "cell_type": "code",
   "source": [
    "T = Temperature(Density(1.2),Pressure(80u\"kPa\"),gas=CO2)"
   ],
   "metadata": {},
   "execution_count": 26
  },
  {
   "cell_type": "markdown",
   "source": [
    "You can switch the order of the arguments and it will still work:"
   ],
   "metadata": {}
  },
  {
   "outputs": [
    {
     "output_type": "execute_result",
     "data": {
      "text/plain": "Gasdynamics1D.Temperature = 352.87908969535823 K"
     },
     "metadata": {},
     "execution_count": 27
    }
   ],
   "cell_type": "code",
   "source": [
    "T = Temperature(Pressure(80u\"kPa\"),Density(1.2),gas=CO2)"
   ],
   "metadata": {},
   "execution_count": 27
  },
  {
   "cell_type": "markdown",
   "source": [
    "Then we can calculate the enthalpy, for example:"
   ],
   "metadata": {}
  },
  {
   "outputs": [
    {
     "output_type": "execute_result",
     "data": {
      "text/plain": "Gasdynamics1D.Enthalpy = 297347.17416378326 J kg⁻¹"
     },
     "metadata": {},
     "execution_count": 28
    }
   ],
   "cell_type": "code",
   "source": [
    "Enthalpy(T,gas=CO2)"
   ],
   "metadata": {},
   "execution_count": 28
  },
  {
   "cell_type": "markdown",
   "source": [
    "What is the speed of sound of air at 20 degrees Celsius? Let's find out:"
   ],
   "metadata": {}
  },
  {
   "outputs": [
    {
     "output_type": "execute_result",
     "data": {
      "text/plain": "Gasdynamics1D.SoundSpeed = 343.20208332701003 m s⁻¹"
     },
     "metadata": {},
     "execution_count": 29
    }
   ],
   "cell_type": "code",
   "source": [
    "SoundSpeed(Temperature(20u\"°C\"),gas=Air)"
   ],
   "metadata": {},
   "execution_count": 29
  },
  {
   "cell_type": "markdown",
   "source": [
    "How about oxygen?"
   ],
   "metadata": {}
  },
  {
   "outputs": [
    {
     "output_type": "execute_result",
     "data": {
      "text/plain": "Gasdynamics1D.SoundSpeed = 325.97248434464626 m s⁻¹"
     },
     "metadata": {},
     "execution_count": 30
    }
   ],
   "cell_type": "code",
   "source": [
    "SoundSpeed(Temperature(20u\"°C\"),gas=O2)"
   ],
   "metadata": {},
   "execution_count": 30
  },
  {
   "cell_type": "markdown",
   "source": [
    "**Note: the default gas is air. So if you do not put the `gas=` argument in,\n",
    "it will assume air at standard conditions.**"
   ],
   "metadata": {}
  },
  {
   "cell_type": "markdown",
   "source": [
    "---\n",
    "\n",
    "*This notebook was generated using [Literate.jl](https://github.com/fredrikekre/Literate.jl).*"
   ],
   "metadata": {}
  }
 ],
 "nbformat_minor": 3,
 "metadata": {
  "language_info": {
   "file_extension": ".jl",
   "mimetype": "application/julia",
   "name": "julia",
   "version": "1.5.3"
  },
  "kernelspec": {
   "name": "julia-1.5",
   "display_name": "Julia 1.5.3",
   "language": "julia"
  }
 },
 "nbformat": 4
}
