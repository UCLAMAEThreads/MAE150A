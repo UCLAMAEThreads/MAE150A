{
 "cells": [
  {
   "cell_type": "markdown",
   "metadata": {},
   "source": [
    "<img src=\"logo_UCLA_blue_boxed.svg\" alt=\"ucla logo\" width=\"150\" align=\"left\"/>"
   ]
  },
  {
   "cell_type": "markdown",
   "metadata": {},
   "source": [
    "### **MAE 150A - Intermediate Fluid Mechanics**\n",
    "\n",
    "<hr />"
   ]
  },
  {
   "cell_type": "markdown",
   "metadata": {},
   "source": [
    "# Laminar boundary layer flow"
   ]
  },
  {
   "cell_type": "markdown",
   "metadata": {},
   "source": [
    "This notebook focuses on the solution of the boundary layer equations when the external velocity outside the boundary layer has the form of flow past a wedge, as in the diagram below:"
   ]
  },
  {
   "cell_type": "markdown",
   "metadata": {},
   "source": [
    "<img src=\"WedgeDiagram.svg\" alt=\"wedge diagram\" width=\"600\" align=\"left\"/>"
   ]
  },
  {
   "cell_type": "markdown",
   "metadata": {},
   "source": [
    "For the flow past a wedge with half-angle $\\beta/2$, potential flow theory predicts that the external velocity has the form,\n",
    "$$U_e(x) = A x^{m}$$\n",
    "where $A$ is a positive constant and\n",
    "$$ m = \\frac{\\beta}{2-\\beta}$$\n",
    "\n",
    "Our focus here is on the boundary layer that develops along the wall of the wedge. The boundary-layer flow has a **self-similar form** as it develops along the $x$ direction. Just as the Rayleigh flow develops with the same profile shape in time, with a time-varying thickness $\\delta(t) = (\\nu t)^{1/2}$, the boundary layer's profile has the same shape at every $x$ location, but with **spatially-varying thickness** proportional to\n",
    "$$\\delta(x) = \\left( \\frac{\\nu x}{U_e(x)}\\right)^{1/2}$$\n",
    "\n",
    "This means that the velocity tangent to the wall can be written in the form\n",
    "$$ u(x,y) = U_e(x) F'(\\eta) $$\n",
    "where\n",
    "$$\\eta = \\dfrac{y}{\\delta(x)}$$\n",
    "\n",
    "With this form, the boundary layer equations reduce to an ordinary differential equation for $F$ in this case,\n",
    "\n",
    "$$ F''' + \\frac{1}{2} (m+1) F F'' + m (1-F'^2)  = 0$$\n",
    "\n",
    "This is called the **Falkner-Skan equation**. The equation is non-linear, however, and must be solved computationally. The tools to solve it are provided for you here."
   ]
  },
  {
   "cell_type": "markdown",
   "metadata": {},
   "source": [
    "#### Boundary conditions\n",
    "The boundary conditions on the flow are no-slip ($u = 0$ at $y = 0$), no-flow-through ($v = 0$ at $y = 0$). Also, the flow must approach the external velocity outside the boundary layer. This means $u \\rightarrow U_e$ as $y \\rightarrow \\infty$."
   ]
  },
  {
   "cell_type": "markdown",
   "metadata": {},
   "source": [
    "#### Special cases\n",
    "The case $\\beta = 0$ (so that $m = 0$) corresponds to a flat plate, parallel to free stream, and $U_e(x) = U_\\infty$. This is called a **Blasius boundary layer**.\n",
    "\n",
    "When $\\beta > 0$, the external flow is accelerating, and the pressure gradient is said to be **favorable**.\n",
    "\n",
    "When $\\beta < 0$, the external flow is decelerating, and the pressure gradient is adverse. The lowest admissible value of $\\beta$ is approximately $-0.1999$. Below this, the boundary layer equations do not hold.\n",
    "\n",
    "#### Other boundary-layer quantities\n",
    "*Every* measure of thickness of the boundary layer is proportional to $\\delta(x)$. However, we need the solution of the Falkner-Skan equation to determine what the constant of proportionality is.\n",
    "\n",
    "For example, the 99% thickness is\n",
    "\n",
    "$$\\delta_{99}(x) = C_{1}\\delta(x)$$\n",
    "\n",
    "the displacement thickness is\n",
    "\n",
    "$$\\delta^{*}(x) = C_{2} \\delta(x)$$\n",
    "\n",
    "and the momentum thickness is\n",
    "\n",
    "$$\\theta(x) = C_{3} \\delta(x)$$\n",
    "\n",
    "These constants $C_1$, $C_2$ and $C_3$ depend on $\\beta$, and they can only be found by solving the Falkner-Skan problem.\n",
    "\n",
    "Another quantity of interest is the **skin friction coefficient**,\n",
    "\n",
    "$$c_{f} = \\dfrac{\\tau_{w}}{\\frac{1}{2} \\rho U_e^2} $$\n",
    "\n",
    "It can be shown that the skin friction coefficient of a Falkner-Skan boundary layer must be of the form\n",
    "\n",
    "$$ c_{f} = \\dfrac{C_4}{(U_e(x) x/\\nu)^{1/2}} $$\n",
    "\n",
    "As with the other constants, $C_4$ can only be found by solving the Falkner-Skan equation."
   ]
  },
  {
   "cell_type": "markdown",
   "metadata": {},
   "source": [
    "### First, set up the environment"
   ]
  },
  {
   "cell_type": "code",
   "execution_count": 1,
   "metadata": {},
   "outputs": [],
   "source": [
    "using MAE150A"
   ]
  },
  {
   "cell_type": "code",
   "execution_count": 2,
   "metadata": {},
   "outputs": [],
   "source": [
    "pyplot()\n",
    "initialize_environment()"
   ]
  },
  {
   "cell_type": "markdown",
   "metadata": {},
   "source": [
    "### Generate the velocity profile and other solution features\n",
    "Here, we will compute the self-similar velocity profile and compute other boundary-layer quantities. The only input for this `falknerskan` function is $\\beta$.\n",
    "\n",
    "It returns the velocity profile `u` (scaled by $U_e$), the vertical coordinate $\\eta$, and the proportionality constants $C_1$ through $C_4$ described above."
   ]
  },
  {
   "cell_type": "code",
   "execution_count": 3,
   "metadata": {},
   "outputs": [
    {
     "name": "stdout",
     "output_type": "stream",
     "text": [
      "search: \u001b[0m\u001b[1mf\u001b[22m\u001b[0m\u001b[1ma\u001b[22m\u001b[0m\u001b[1ml\u001b[22m\u001b[0m\u001b[1mk\u001b[22m\u001b[0m\u001b[1mn\u001b[22m\u001b[0m\u001b[1me\u001b[22m\u001b[0m\u001b[1mr\u001b[22m\u001b[0m\u001b[1ms\u001b[22m\u001b[0m\u001b[1mk\u001b[22m\u001b[0m\u001b[1ma\u001b[22m\u001b[0m\u001b[1mn\u001b[22m\n",
      "\n"
     ]
    },
    {
     "data": {
      "text/latex": [
       "\\begin{verbatim}\n",
       "falknerskan(β[,Vw=0][,ηmax=8][,h0init=1.3]) -> u, η, d99, dstar, theta, cf\n",
       "\\end{verbatim}\n",
       "Compute the Falkner-Skan boundary layer solution for parameter \\texttt{β}, where \\texttt{β} can be a value larger than -0.1999 (the separation case). It returns, in order\n",
       "\n",
       "\\begin{itemize}\n",
       "\\item the velocity profile ($u/U$)\n",
       "\n",
       "\n",
       "\\item the corresponding vertical coordinates $\\eta$\n",
       "\n",
       "\n",
       "\\item the proportionality factor on the 99 percent thickness\n",
       "\n",
       "\n",
       "\\item the proportionality factor on the displacement thickness\n",
       "\n",
       "\n",
       "\\item the proportionality factor on the momentum thickness\n",
       "\n",
       "\n",
       "\\item the proportionality factor on the skin friction coefficient\n",
       "\n",
       "\\end{itemize}\n"
      ],
      "text/markdown": [
       "```\n",
       "falknerskan(β[,Vw=0][,ηmax=8][,h0init=1.3]) -> u, η, d99, dstar, theta, cf\n",
       "```\n",
       "\n",
       "Compute the Falkner-Skan boundary layer solution for parameter `β`, where `β` can be a value larger than -0.1999 (the separation case). It returns, in order\n",
       "\n",
       "  * the velocity profile ($u/U$)\n",
       "  * the corresponding vertical coordinates $\\eta$\n",
       "  * the proportionality factor on the 99 percent thickness\n",
       "  * the proportionality factor on the displacement thickness\n",
       "  * the proportionality factor on the momentum thickness\n",
       "  * the proportionality factor on the skin friction coefficient\n"
      ],
      "text/plain": [
       "\u001b[36m  falknerskan(β[,Vw=0][,ηmax=8][,h0init=1.3]) -> u, η, d99, dstar, theta, cf\u001b[39m\n",
       "\n",
       "  Compute the Falkner-Skan boundary layer solution for parameter \u001b[36mβ\u001b[39m, where \u001b[36mβ\u001b[39m\n",
       "  can be a value larger than -0.1999 (the separation case). It returns, in\n",
       "  order\n",
       "\n",
       "    •    the velocity profile (\u001b[35mu/U\u001b[39m)\n",
       "\n",
       "    •    the corresponding vertical coordinates \u001b[35m\\eta\u001b[39m\n",
       "\n",
       "    •    the proportionality factor on the 99 percent thickness\n",
       "\n",
       "    •    the proportionality factor on the displacement thickness\n",
       "\n",
       "    •    the proportionality factor on the momentum thickness\n",
       "\n",
       "    •    the proportionality factor on the skin friction coefficient"
      ]
     },
     "execution_count": 3,
     "metadata": {},
     "output_type": "execute_result"
    }
   ],
   "source": [
    "?falknerskan"
   ]
  },
  {
   "cell_type": "code",
   "execution_count": 4,
   "metadata": {},
   "outputs": [],
   "source": [
    "β = 0;\n",
    "u, η, d99, dstar, theta, Cf = falknerskan(β); # I used more descriptive symbols that C1, C2, C3, C4"
   ]
  },
  {
   "cell_type": "markdown",
   "metadata": {},
   "source": [
    "For example, the proportionality constant on the 99 percent thickness is"
   ]
  },
  {
   "cell_type": "code",
   "execution_count": 5,
   "metadata": {},
   "outputs": [
    {
     "data": {
      "text/plain": [
       "4.909798375018248"
      ]
     },
     "execution_count": 5,
     "metadata": {},
     "output_type": "execute_result"
    }
   ],
   "source": [
    "d99"
   ]
  },
  {
   "cell_type": "markdown",
   "metadata": {},
   "source": [
    "which means that, for $\\beta = 0$,\n",
    "\n",
    "$$\\delta_{99}(x) = 4.91 \\sqrt{\\dfrac{\\nu x}{U_e}} $$\n",
    "\n",
    "or, in other words,\n",
    "\n",
    "$$\\dfrac{\\delta_{99}(x)}{x} = \\dfrac{4.91}{\\sqrt{Re_x}} $$\n",
    "\n",
    "Similarly, the momentum thickness:"
   ]
  },
  {
   "cell_type": "code",
   "execution_count": 6,
   "metadata": {},
   "outputs": [
    {
     "data": {
      "text/plain": [
       "0.6641092052459793"
      ]
     },
     "execution_count": 6,
     "metadata": {},
     "output_type": "execute_result"
    }
   ],
   "source": [
    "theta"
   ]
  },
  {
   "cell_type": "markdown",
   "metadata": {},
   "source": [
    "so that\n",
    "\n",
    "$$\\dfrac{\\theta(x)}{x} = \\dfrac{0.664}{\\sqrt{Re_x}} $$"
   ]
  },
  {
   "cell_type": "markdown",
   "metadata": {},
   "source": [
    "#### Let's plot the profile"
   ]
  },
  {
   "cell_type": "code",
   "execution_count": 7,
   "metadata": {},
   "outputs": [
    {
     "data": {
      "image/png": "[encoded data removed]"
     },
     "execution_count": 7,
     "metadata": {},
     "output_type": "execute_result"
    }
   ],
   "source": [
    "plot(u,η,xlim=(0,2),ylim=(0,maximum(η)),xlabel=L\"F'(\\eta) = u/U_e\",ylabel=L\"\\eta = y/\\delta(x)\")"
   ]
  },
  {
   "cell_type": "markdown",
   "metadata": {},
   "source": [
    "**Homework problem:** On the same plot, show the self-similar velocity profile at $\\beta = -0.1999$, $\\beta = 0$, $\\beta = 0.5$ and $\\beta = 1.0$. Describe the differences in the profiles (e.g., what happens when $\\beta > 0$, $\\beta < 0$)?"
   ]
  },
  {
   "cell_type": "markdown",
   "metadata": {},
   "source": [
    "#### Drag force\n",
    "When $\\beta = 0$ (Blasius), the drag coefficient on a plate of length $L$ is equal to\n",
    "\n",
    "$$C_D = \\dfrac{4\\theta(L)}{L} = \\dfrac{2.656}{\\sqrt{Re_L}}$$"
   ]
  },
  {
   "cell_type": "code",
   "execution_count": null,
   "metadata": {},
   "outputs": [],
   "source": []
  }
 ],
 "metadata": {
  "kernelspec": {
   "display_name": "Julia 1.2.0",
   "language": "julia",
   "name": "julia-1.2"
  },
  "language_info": {
   "file_extension": ".jl",
   "mimetype": "application/julia",
   "name": "julia",
   "version": "1.2.0"
  }
 },
 "nbformat": 4,
 "nbformat_minor": 2
}
