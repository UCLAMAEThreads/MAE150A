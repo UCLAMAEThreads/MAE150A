{
 "cells": [
  {
   "cell_type": "markdown",
   "metadata": {},
   "source": [
    "<img src=\"logo_UCLA_blue_boxed.svg\" alt=\"ucla logo\" width=\"150\" align=\"left\"/>"
   ]
  },
  {
   "cell_type": "markdown",
   "metadata": {},
   "source": [
    "### **MAE 150A - Intermediate Fluid Mechanics**\n",
    "\n",
    "<hr />"
   ]
  },
  {
   "cell_type": "markdown",
   "metadata": {},
   "source": [
    "# Normal shocks\n",
    "This notebook demonstrates the use of the compressible tools for dealing with **normal shock waves**."
   ]
  },
  {
   "cell_type": "code",
   "execution_count": 1,
   "metadata": {},
   "outputs": [],
   "source": [
    "include(\"src/gasdynamics.jl\")"
   ]
  },
  {
   "cell_type": "code",
   "execution_count": 2,
   "metadata": {},
   "outputs": [],
   "source": [
    "using Plots\n",
    "using LaTeXStrings"
   ]
  },
  {
   "cell_type": "markdown",
   "metadata": {},
   "source": [
    "### General use of normal shock relations"
   ]
  },
  {
   "cell_type": "markdown",
   "metadata": {},
   "source": [
    "Normal shock relations are designated with the argument `NormalShock`. For example, let's look at the ratio of stagnation pressures $p_{02}/p_{01}$ across a normal shock with the Mach number $M_1$ entering the shock equal to 2:"
   ]
  },
  {
   "cell_type": "code",
   "execution_count": 11,
   "metadata": {},
   "outputs": [
    {
     "data": {
      "text/plain": [
       "StagnationPressureRatio = 0.720874 "
      ]
     },
     "execution_count": 11,
     "metadata": {},
     "output_type": "execute_result"
    }
   ],
   "source": [
    "p02_over_p01 = StagnationPressureRatio(MachNumber(2),NormalShock)"
   ]
  },
  {
   "cell_type": "markdown",
   "metadata": {},
   "source": [
    "and the density $\\rho_2/\\rho_1$ increases by the factor:"
   ]
  },
  {
   "cell_type": "code",
   "execution_count": 6,
   "metadata": {},
   "outputs": [
    {
     "data": {
      "text/plain": [
       "DensityRatio = 2.66667 "
      ]
     },
     "execution_count": 6,
     "metadata": {},
     "output_type": "execute_result"
    }
   ],
   "source": [
    "ρ2_over_ρ1 = DensityRatio(MachNumber(2),NormalShock)"
   ]
  },
  {
   "cell_type": "markdown",
   "metadata": {},
   "source": [
    "What is the entropy change across this shock?"
   ]
  },
  {
   "cell_type": "code",
   "execution_count": 7,
   "metadata": {},
   "outputs": [
    {
     "data": {
      "text/plain": [
       "Entropy = 93.9325 JPerKGK"
      ]
     },
     "execution_count": 7,
     "metadata": {},
     "output_type": "execute_result"
    }
   ],
   "source": [
    "s2_minus_s1 = Entropy(Entropy(0),MachNumber(2),NormalShock)"
   ]
  },
  {
   "cell_type": "markdown",
   "metadata": {},
   "source": [
    "Let's plot the entropy increase as a function of Mach number:"
   ]
  },
  {
   "cell_type": "code",
   "execution_count": 8,
   "metadata": {},
   "outputs": [],
   "source": [
    "M1 = range(1,3,length=101)\n",
    "s2 = []\n",
    "pratio = []\n",
    "for M in M1\n",
    "    push!(s2,value(Entropy(Entropy(0),MachNumber(M),NormalShock)))\n",
    "    push!(pratio,value(PressureRatio(MachNumber(M),NormalShock)))\n",
    "end"
   ]
  },
  {
   "cell_type": "code",
   "execution_count": 10,
   "metadata": {},
   "outputs": [
    {
     "data": {
      "image/svg+xml": [
       "<?xml version=\"1.0\" encoding=\"utf-8\"?>\n",
       "<svg xmlns=\"http://www.w3.org/2000/svg\" xmlns:xlink=\"http://www.w3.org/1999/xlink\" width=\"600\" height=\"400\" viewBox=\"0 0 2400 1600\">\n",
       "<defs>\n",
       "  <clipPath id=\"clip6700\">\n",
       "    <rect x=\"0\" y=\"0\" width=\"2400\" height=\"1600\"/>\n",
       "  </clipPath>\n",
       "</defs>\n",
       "<path clip-path=\"url(#clip6700)\" d=\"\n",
       "M0 1600 L2400 1600 L2400 0 L0 0  Z\n",
       "  \" fill=\"#ffffff\" fill-rule=\"evenodd\" fill-opacity=\"1\"/>\n",
       "<defs>\n",
       "  <clipPath id=\"clip6701\">\n",
       "    <rect x=\"480\" y=\"0\" width=\"1681\" height=\"1600\"/>\n",
       "  </clipPath>\n",
       "</defs>\n",
       "<path clip-path=\"url(#clip6700)\" d=\"\n",
       "M229.135 1425.62 L2352.76 1425.62 L2352.76 47.2441 L229.135 47.2441  Z\n",
       "  \" fill=\"#ffffff\" fill-rule=\"evenodd\" fill-opacity=\"1\"/>\n",
       "<defs>\n",
       "  <clipPath id=\"clip6702\">\n",
       "    <rect x=\"229\" y=\"47\" width=\"2125\" height=\"1379\"/>\n",
       "  </clipPath>\n",
       "</defs>\n",
       "<polyline clip-path=\"url(#clip6702)\" style=\"stroke:#000000; stroke-width:2; stroke-opacity:0.1; fill:none\" points=\"\n",
       "  229.135,1425.62 229.135,47.2441 \n",
       "  \"/>\n",
       "<polyline clip-path=\"url(#clip6702)\" style=\"stroke:#000000; stroke-width:2; stroke-opacity:0.1; fill:none\" points=\"\n",
       "  760.04,1425.62 760.04,47.2441 \n",
       "  \"/>\n",
       "<polyline clip-path=\"url(#clip6702)\" style=\"stroke:#000000; stroke-width:2; stroke-opacity:0.1; fill:none\" points=\"\n",
       "  1290.95,1425.62 1290.95,47.2441 \n",
       "  \"/>\n",
       "<polyline clip-path=\"url(#clip6702)\" style=\"stroke:#000000; stroke-width:2; stroke-opacity:0.1; fill:none\" points=\"\n",
       "  1821.85,1425.62 1821.85,47.2441 \n",
       "  \"/>\n",
       "<polyline clip-path=\"url(#clip6702)\" style=\"stroke:#000000; stroke-width:2; stroke-opacity:0.1; fill:none\" points=\"\n",
       "  2352.76,1425.62 2352.76,47.2441 \n",
       "  \"/>\n",
       "<polyline clip-path=\"url(#clip6702)\" style=\"stroke:#000000; stroke-width:2; stroke-opacity:0.1; fill:none\" points=\"\n",
       "  229.135,1425.62 2352.76,1425.62 \n",
       "  \"/>\n",
       "<polyline clip-path=\"url(#clip6702)\" style=\"stroke:#000000; stroke-width:2; stroke-opacity:0.1; fill:none\" points=\"\n",
       "  229.135,1081.02 2352.76,1081.02 \n",
       "  \"/>\n",
       "<polyline clip-path=\"url(#clip6702)\" style=\"stroke:#000000; stroke-width:2; stroke-opacity:0.1; fill:none\" points=\"\n",
       "  229.135,736.431 2352.76,736.431 \n",
       "  \"/>\n",
       "<polyline clip-path=\"url(#clip6702)\" style=\"stroke:#000000; stroke-width:2; stroke-opacity:0.1; fill:none\" points=\"\n",
       "  229.135,391.838 2352.76,391.838 \n",
       "  \"/>\n",
       "<polyline clip-path=\"url(#clip6702)\" style=\"stroke:#000000; stroke-width:2; stroke-opacity:0.1; fill:none\" points=\"\n",
       "  229.135,47.2441 2352.76,47.2441 \n",
       "  \"/>\n",
       "<polyline clip-path=\"url(#clip6700)\" style=\"stroke:#000000; stroke-width:4; stroke-opacity:1; fill:none\" points=\"\n",
       "  229.135,1425.62 2352.76,1425.62 \n",
       "  \"/>\n",
       "<polyline clip-path=\"url(#clip6700)\" style=\"stroke:#000000; stroke-width:4; stroke-opacity:1; fill:none\" points=\"\n",
       "  229.135,1425.62 229.135,47.2441 \n",
       "  \"/>\n",
       "<polyline clip-path=\"url(#clip6700)\" style=\"stroke:#000000; stroke-width:4; stroke-opacity:1; fill:none\" points=\"\n",
       "  229.135,1425.62 229.135,1409.08 \n",
       "  \"/>\n",
       "<polyline clip-path=\"url(#clip6700)\" style=\"stroke:#000000; stroke-width:4; stroke-opacity:1; fill:none\" points=\"\n",
       "  760.04,1425.62 760.04,1409.08 \n",
       "  \"/>\n",
       "<polyline clip-path=\"url(#clip6700)\" style=\"stroke:#000000; stroke-width:4; stroke-opacity:1; fill:none\" points=\"\n",
       "  1290.95,1425.62 1290.95,1409.08 \n",
       "  \"/>\n",
       "<polyline clip-path=\"url(#clip6700)\" style=\"stroke:#000000; stroke-width:4; stroke-opacity:1; fill:none\" points=\"\n",
       "  1821.85,1425.62 1821.85,1409.08 \n",
       "  \"/>\n",
       "<polyline clip-path=\"url(#clip6700)\" style=\"stroke:#000000; stroke-width:4; stroke-opacity:1; fill:none\" points=\"\n",
       "  2352.76,1425.62 2352.76,1409.08 \n",
       "  \"/>\n",
       "<polyline clip-path=\"url(#clip6700)\" style=\"stroke:#000000; stroke-width:4; stroke-opacity:1; fill:none\" points=\"\n",
       "  229.135,1425.62 254.619,1425.62 \n",
       "  \"/>\n",
       "<polyline clip-path=\"url(#clip6700)\" style=\"stroke:#000000; stroke-width:4; stroke-opacity:1; fill:none\" points=\"\n",
       "  229.135,1081.02 254.619,1081.02 \n",
       "  \"/>\n",
       "<polyline clip-path=\"url(#clip6700)\" style=\"stroke:#000000; stroke-width:4; stroke-opacity:1; fill:none\" points=\"\n",
       "  229.135,736.431 254.619,736.431 \n",
       "  \"/>\n",
       "<polyline clip-path=\"url(#clip6700)\" style=\"stroke:#000000; stroke-width:4; stroke-opacity:1; fill:none\" points=\"\n",
       "  229.135,391.838 254.619,391.838 \n",
       "  \"/>\n",
       "<polyline clip-path=\"url(#clip6700)\" style=\"stroke:#000000; stroke-width:4; stroke-opacity:1; fill:none\" points=\"\n",
       "  229.135,47.2441 254.619,47.2441 \n",
       "  \"/>\n",
       "<g clip-path=\"url(#clip6700)\">\n",
       "<text style=\"fill:#000000; fill-opacity:1; font-family:Arial,Helvetica Neue,Helvetica,sans-serif; font-size:48px; text-anchor:middle;\" transform=\"rotate(0, 229.135, 1479.62)\" x=\"229.135\" y=\"1479.62\">1.0</text>\n",
       "</g>\n",
       "<g clip-path=\"url(#clip6700)\">\n",
       "<text style=\"fill:#000000; fill-opacity:1; font-family:Arial,Helvetica Neue,Helvetica,sans-serif; font-size:48px; text-anchor:middle;\" transform=\"rotate(0, 760.04, 1479.62)\" x=\"760.04\" y=\"1479.62\">1.5</text>\n",
       "</g>\n",
       "<g clip-path=\"url(#clip6700)\">\n",
       "<text style=\"fill:#000000; fill-opacity:1; font-family:Arial,Helvetica Neue,Helvetica,sans-serif; font-size:48px; text-anchor:middle;\" transform=\"rotate(0, 1290.95, 1479.62)\" x=\"1290.95\" y=\"1479.62\">2.0</text>\n",
       "</g>\n",
       "<g clip-path=\"url(#clip6700)\">\n",
       "<text style=\"fill:#000000; fill-opacity:1; font-family:Arial,Helvetica Neue,Helvetica,sans-serif; font-size:48px; text-anchor:middle;\" transform=\"rotate(0, 1821.85, 1479.62)\" x=\"1821.85\" y=\"1479.62\">2.5</text>\n",
       "</g>\n",
       "<g clip-path=\"url(#clip6700)\">\n",
       "<text style=\"fill:#000000; fill-opacity:1; font-family:Arial,Helvetica Neue,Helvetica,sans-serif; font-size:48px; text-anchor:middle;\" transform=\"rotate(0, 2352.76, 1479.62)\" x=\"2352.76\" y=\"1479.62\">3.0</text>\n",
       "</g>\n",
       "<g clip-path=\"url(#clip6700)\">\n",
       "<text style=\"fill:#000000; fill-opacity:1; font-family:Arial,Helvetica Neue,Helvetica,sans-serif; font-size:48px; text-anchor:end;\" transform=\"rotate(0, 205.135, 1443.12)\" x=\"205.135\" y=\"1443.12\">0</text>\n",
       "</g>\n",
       "<g clip-path=\"url(#clip6700)\">\n",
       "<text style=\"fill:#000000; fill-opacity:1; font-family:Arial,Helvetica Neue,Helvetica,sans-serif; font-size:48px; text-anchor:end;\" transform=\"rotate(0, 205.135, 1098.52)\" x=\"205.135\" y=\"1098.52\">100</text>\n",
       "</g>\n",
       "<g clip-path=\"url(#clip6700)\">\n",
       "<text style=\"fill:#000000; fill-opacity:1; font-family:Arial,Helvetica Neue,Helvetica,sans-serif; font-size:48px; text-anchor:end;\" transform=\"rotate(0, 205.135, 753.931)\" x=\"205.135\" y=\"753.931\">200</text>\n",
       "</g>\n",
       "<g clip-path=\"url(#clip6700)\">\n",
       "<text style=\"fill:#000000; fill-opacity:1; font-family:Arial,Helvetica Neue,Helvetica,sans-serif; font-size:48px; text-anchor:end;\" transform=\"rotate(0, 205.135, 409.338)\" x=\"205.135\" y=\"409.338\">300</text>\n",
       "</g>\n",
       "<g clip-path=\"url(#clip6700)\">\n",
       "<text style=\"fill:#000000; fill-opacity:1; font-family:Arial,Helvetica Neue,Helvetica,sans-serif; font-size:48px; text-anchor:end;\" transform=\"rotate(0, 205.135, 64.7441)\" x=\"205.135\" y=\"64.7441\">400</text>\n",
       "</g>\n",
       "<g clip-path=\"url(#clip6700)\">\n",
       "<text style=\"fill:#000000; fill-opacity:1; font-family:Arial,Helvetica Neue,Helvetica,sans-serif; font-size:66px; text-anchor:middle;\" transform=\"rotate(0, 1290.95, 1559.48)\" x=\"1290.95\" y=\"1559.48\">Mach number</text>\n",
       "</g>\n",
       "<g clip-path=\"url(#clip6700)\">\n",
       "<text style=\"fill:#000000; fill-opacity:1; font-family:Arial,Helvetica Neue,Helvetica,sans-serif; font-size:66px; text-anchor:middle;\" transform=\"rotate(-90, 89.2861, 736.431)\" x=\"89.2861\" y=\"736.431\">Entropy increase (J/kgK)</text>\n",
       "</g>\n",
       "<polyline clip-path=\"url(#clip6702)\" style=\"stroke:#009af9; stroke-width:4; stroke-opacity:1; fill:none\" points=\"\n",
       "  229.135,1425.62 250.371,1425.61 271.608,1425.54 292.844,1425.37 314.08,1425.06 335.316,1424.56 356.552,1423.85 377.789,1422.91 399.025,1421.71 420.261,1420.23 \n",
       "  441.497,1418.47 462.734,1416.41 483.97,1414.04 505.206,1411.35 526.442,1408.34 547.678,1405.01 568.915,1401.34 590.151,1397.35 611.387,1393.02 632.623,1388.37 \n",
       "  653.859,1383.38 675.096,1378.07 696.332,1372.44 717.568,1366.48 738.804,1360.21 760.04,1353.62 781.277,1346.72 802.513,1339.52 823.749,1332.02 844.985,1324.22 \n",
       "  866.221,1316.13 887.458,1307.76 908.694,1299.1 929.93,1290.18 951.166,1280.98 972.402,1271.52 993.639,1261.81 1014.87,1251.84 1036.11,1241.63 1057.35,1231.18 \n",
       "  1078.58,1220.49 1099.82,1209.57 1121.06,1198.44 1142.29,1187.08 1163.53,1175.51 1184.76,1163.73 1206,1151.75 1227.24,1139.58 1248.47,1127.22 1269.71,1114.66 \n",
       "  1290.95,1101.93 1312.18,1089.03 1333.42,1075.95 1354.65,1062.7 1375.89,1049.3 1397.13,1035.74 1418.36,1022.02 1439.6,1008.16 1460.84,994.161 1482.07,980.019 \n",
       "  1503.31,965.743 1524.54,951.337 1545.78,936.805 1567.02,922.151 1588.25,907.38 1609.49,892.494 1630.72,877.498 1651.96,862.395 1673.2,847.19 1694.43,831.885 \n",
       "  1715.67,816.484 1736.91,800.991 1758.14,785.408 1779.38,769.739 1800.61,753.988 1821.85,738.157 1843.09,722.249 1864.32,706.267 1885.56,690.215 1906.8,674.094 \n",
       "  1928.03,657.909 1949.27,641.66 1970.5,625.352 1991.74,608.986 2012.98,592.566 2034.21,576.093 2055.45,559.57 2076.69,542.999 2097.92,526.383 2119.16,509.723 \n",
       "  2140.39,493.023 2161.63,476.283 2182.87,459.506 2204.1,442.695 2225.34,425.85 2246.57,408.975 2267.81,392.07 2289.05,375.138 2310.28,358.18 2331.52,341.198 \n",
       "  2352.76,324.194 \n",
       "  \"/>\n",
       "<path clip-path=\"url(#clip6700)\" d=\"\n",
       "M1989.93 251.724 L2280.76 251.724 L2280.76 130.764 L1989.93 130.764  Z\n",
       "  \" fill=\"#ffffff\" fill-rule=\"evenodd\" fill-opacity=\"1\"/>\n",
       "<polyline clip-path=\"url(#clip6700)\" style=\"stroke:#000000; stroke-width:4; stroke-opacity:1; fill:none\" points=\"\n",
       "  1989.93,251.724 2280.76,251.724 2280.76,130.764 1989.93,130.764 1989.93,251.724 \n",
       "  \"/>\n",
       "<polyline clip-path=\"url(#clip6700)\" style=\"stroke:#009af9; stroke-width:4; stroke-opacity:1; fill:none\" points=\"\n",
       "  2013.93,191.244 2157.93,191.244 \n",
       "  \"/>\n",
       "<g clip-path=\"url(#clip6700)\">\n",
       "<text style=\"fill:#000000; fill-opacity:1; font-family:Arial,Helvetica Neue,Helvetica,sans-serif; font-size:48px; text-anchor:start;\" transform=\"rotate(0, 2181.93, 208.744)\" x=\"2181.93\" y=\"208.744\">y1</text>\n",
       "</g>\n",
       "</svg>\n"
      ]
     },
     "execution_count": 10,
     "metadata": {},
     "output_type": "execute_result"
    }
   ],
   "source": [
    "plot(M1,s2,xlim=(1,3),ylim=(0,400),xlabel=\"Mach number\",ylabel=\"Entropy increase (J/kgK)\")"
   ]
  },
  {
   "cell_type": "markdown",
   "metadata": {},
   "source": [
    "Not surprisingly, the entropy jump gets bigger as the Mach number increases"
   ]
  },
  {
   "cell_type": "markdown",
   "metadata": {},
   "source": [
    "### Example 8.6 in Wilcox\n",
    "For air entering a shock at Mach number 3, 1 atm, and 50 degrees F, what are the Mach number, pressure, and temperature on the other side of the shock?"
   ]
  },
  {
   "cell_type": "code",
   "execution_count": 12,
   "metadata": {},
   "outputs": [
    {
     "data": {
      "text/plain": [
       "Temperature = 283.15 Kelvin"
      ]
     },
     "execution_count": 12,
     "metadata": {},
     "output_type": "execute_result"
    }
   ],
   "source": [
    "p1 = Pressure(1,units=atm)\n",
    "M1 = MachNumber(3)\n",
    "T1 = Temperature(50,units=F)"
   ]
  },
  {
   "cell_type": "markdown",
   "metadata": {},
   "source": [
    "The Mach number exiting the shock is"
   ]
  },
  {
   "cell_type": "code",
   "execution_count": 13,
   "metadata": {},
   "outputs": [
    {
     "data": {
      "text/plain": [
       "MachNumber = 0.475191 "
      ]
     },
     "execution_count": 13,
     "metadata": {},
     "output_type": "execute_result"
    }
   ],
   "source": [
    "M2 = MachNumber(M1,NormalShock)"
   ]
  },
  {
   "cell_type": "markdown",
   "metadata": {},
   "source": [
    "Pressure exiting the shock (in atm) is"
   ]
  },
  {
   "cell_type": "code",
   "execution_count": 14,
   "metadata": {},
   "outputs": [
    {
     "data": {
      "text/plain": [
       "10.333333333333334"
      ]
     },
     "execution_count": 14,
     "metadata": {},
     "output_type": "execute_result"
    }
   ],
   "source": [
    "p2 = Pressure(p1*PressureRatio(M1,NormalShock))\n",
    "value(p2,atm)"
   ]
  },
  {
   "cell_type": "markdown",
   "metadata": {},
   "source": [
    "and the temperature exiting the shock (in F) is"
   ]
  },
  {
   "cell_type": "code",
   "execution_count": 15,
   "metadata": {},
   "outputs": [
    {
     "data": {
      "text/plain": [
       "905.7422222222218"
      ]
     },
     "execution_count": 15,
     "metadata": {},
     "output_type": "execute_result"
    }
   ],
   "source": [
    "T2 = Temperature(T1*TemperatureRatio(M1,NormalShock))\n",
    "value(T2,F)"
   ]
  },
  {
   "cell_type": "markdown",
   "metadata": {},
   "source": [
    "### Example 8.9 in Wilcox\n",
    "A blow-down supersonic windtunnel is supplied with air from a large reservoir. A Pitot tube is placed at the exit plane of a converging-diverging nozzle. The test section lies at the end of the diverging section. The Mach number in the test section (M2) is 2 and the pressure is below atmospheric, so a shock is formed at the exit. The pressure just after the shock (p3) is 14.7 psi. Find the pressure in the reservoir (p01), the pressure in the throat (pth), the Mach number just after the shock (M3), the pressure at the Pitot tube (p4), and the temperature at the Pitot tube (T4)."
   ]
  },
  {
   "cell_type": "code",
   "execution_count": 16,
   "metadata": {},
   "outputs": [
    {
     "data": {
      "text/plain": [
       "Pressure = 101353.0 Pascals"
      ]
     },
     "execution_count": 16,
     "metadata": {},
     "output_type": "execute_result"
    }
   ],
   "source": [
    "M2 = MachNumber(2)\n",
    "p3 = Pressure(14.7,units=psi)"
   ]
  },
  {
   "cell_type": "markdown",
   "metadata": {},
   "source": [
    "First, let's find the pressure just before the shock and the Mach number just after the shock"
   ]
  },
  {
   "cell_type": "code",
   "execution_count": 18,
   "metadata": {},
   "outputs": [
    {
     "data": {
      "text/plain": [
       "MachNumber = 0.57735 "
      ]
     },
     "execution_count": 18,
     "metadata": {},
     "output_type": "execute_result"
    }
   ],
   "source": [
    "# p3/p2\n",
    "p3_over_p2 = PressureRatio(M2,NormalShock)\n",
    "\n",
    "# p03/p02\n",
    "p03_over_p02 = StagnationPressureRatio(M2,NormalShock)\n",
    "\n",
    "# M3\n",
    "M3 = MachNumber(M2,NormalShock)"
   ]
  },
  {
   "cell_type": "markdown",
   "metadata": {},
   "source": [
    "We can now calculate the pressure just before the shock, using $p_2 = p_3/(p_3/p_2)$"
   ]
  },
  {
   "cell_type": "code",
   "execution_count": 19,
   "metadata": {},
   "outputs": [
    {
     "data": {
      "text/plain": [
       "Pressure = 22522.9 Pascals"
      ]
     },
     "execution_count": 19,
     "metadata": {},
     "output_type": "execute_result"
    }
   ],
   "source": [
    "p2 = Pressure(p3/p3_over_p2)"
   ]
  },
  {
   "cell_type": "markdown",
   "metadata": {},
   "source": [
    "Now, let's find the conditions in the throat and reservoir, based on what we have been given here. We can immediately find the stagnation pressure upstream of the shock using the isentropic relation. This stagnation pressure is the same as the reservoir pressure. "
   ]
  },
  {
   "cell_type": "code",
   "execution_count": 22,
   "metadata": {},
   "outputs": [
    {
     "data": {
      "text/plain": [
       "StagnationPressure = 176229.0 Pascals"
      ]
     },
     "execution_count": 22,
     "metadata": {},
     "output_type": "execute_result"
    }
   ],
   "source": [
    "p02 = StagnationPressure(p2,M2,Isentropic)\n",
    "p01 = p02"
   ]
  },
  {
   "cell_type": "markdown",
   "metadata": {},
   "source": [
    "We know that the throat is choked. It must be, because the flow is subsonic before and supersonic after the throat. Therefore, $M_{th}$ is 1, and we can get the local pressure ($p_{th}$) from knowing the stagnation pressure and Mach number there:"
   ]
  },
  {
   "cell_type": "code",
   "execution_count": 24,
   "metadata": {},
   "outputs": [
    {
     "data": {
      "text/plain": [
       "Pressure = 93098.6 Pascals"
      ]
     },
     "execution_count": 24,
     "metadata": {},
     "output_type": "execute_result"
    }
   ],
   "source": [
    "Mth = MachNumber(1)\n",
    "p0th = p02\n",
    "pth = Pressure(p0th,Mth,Isentropic)"
   ]
  },
  {
   "cell_type": "markdown",
   "metadata": {},
   "source": [
    "Now we can calculate the conditions at the Pitot tube at the exit. At the nose of the Pitot tube, the flow stagnates. Thus, the pressure and temperature are equal to the stagnation values. The stagnation pressure at the exit is the same as the stagnation pressure at point 3 (just after the shock):"
   ]
  },
  {
   "cell_type": "code",
   "execution_count": 25,
   "metadata": {},
   "outputs": [
    {
     "data": {
      "text/plain": [
       "Pressure = 127039.0 Pascals"
      ]
     },
     "execution_count": 25,
     "metadata": {},
     "output_type": "execute_result"
    }
   ],
   "source": [
    "p03 = Pressure(p03_over_p02*p02)"
   ]
  },
  {
   "cell_type": "code",
   "execution_count": 26,
   "metadata": {},
   "outputs": [
    {
     "data": {
      "text/plain": [
       "18.425439988556167"
      ]
     },
     "execution_count": 26,
     "metadata": {},
     "output_type": "execute_result"
    }
   ],
   "source": [
    "value(p03,psi)"
   ]
  }
 ],
 "metadata": {
  "kernelspec": {
   "display_name": "Julia 1.2.0",
   "language": "julia",
   "name": "julia-1.2"
  },
  "language_info": {
   "file_extension": ".jl",
   "mimetype": "application/julia",
   "name": "julia",
   "version": "1.2.0"
  }
 },
 "nbformat": 4,
 "nbformat_minor": 2
}
