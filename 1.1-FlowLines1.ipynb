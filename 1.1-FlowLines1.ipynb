{
 "cells": [
  {
   "cell_type": "markdown",
   "metadata": {},
   "source": [
    "<img src=\"logo_UCLA_blue_boxed.svg\" alt=\"ucla logo\" width=\"150\" align=\"left\"/>"
   ]
  },
  {
   "cell_type": "markdown",
   "metadata": {},
   "source": [
    "### **MAE 150A - Intermediate Fluid Mechanics**\n",
    "\n",
    "<hr />"
   ]
  },
  {
   "cell_type": "markdown",
   "metadata": {},
   "source": [
    "# Flow lines and the material derivative in a steady flow field"
   ]
  },
  {
   "cell_type": "markdown",
   "metadata": {},
   "source": [
    "In this notebook we will discuss:\n",
    "* Path lines (particle trajectories)\n",
    "* The material derivative\n",
    "* Streamlines and the streamfunction\n",
    "\n",
    "and observe them in a pre-computed steady flow field."
   ]
  },
  {
   "cell_type": "markdown",
   "metadata": {},
   "source": [
    "### Set up the module"
   ]
  },
  {
   "cell_type": "code",
   "execution_count": null,
   "metadata": {},
   "outputs": [],
   "source": [
    "using MAE150A"
   ]
  },
  {
   "cell_type": "code",
   "execution_count": null,
   "metadata": {},
   "outputs": [],
   "source": [
    "pyplot()\n",
    "initialize_environment()"
   ]
  },
  {
   "cell_type": "markdown",
   "metadata": {},
   "source": [
    "### Load the flow from file"
   ]
  },
  {
   "cell_type": "markdown",
   "metadata": {},
   "source": [
    "First, let us load the flow from a pre-computed CFD solution. This is the steady state flow past a NACA 4415 airfoil at 5 degrees angle of attack at Reynolds number 1000."
   ]
  },
  {
   "cell_type": "code",
   "execution_count": null,
   "metadata": {},
   "outputs": [],
   "source": [
    "filename = \"NACA4415_5deg.jld\"\n",
    "state, f, sys, body = load_ns_solution(filename);"
   ]
  },
  {
   "cell_type": "markdown",
   "metadata": {},
   "source": [
    "Get the flow fields associated with the flow state: velocity (u), vorticity (ω), and streamfunction (ψ)"
   ]
  },
  {
   "cell_type": "code",
   "execution_count": null,
   "metadata": {},
   "outputs": [],
   "source": [
    "u, ω, ψ, Cp = get_flowfield(state,f,sys)"
   ]
  },
  {
   "cell_type": "markdown",
   "metadata": {},
   "source": [
    "## Particle trajectories (i.e., pathlines)\n",
    "First, let us discuss particle trajectories."
   ]
  },
  {
   "cell_type": "markdown",
   "metadata": {},
   "source": [
    "A particle moves at a velocity $\\mathbf{V}(t)$ equal to the fluid velocity field, $\\mathbf{u}(\\mathbf{x},t)$, evaluated at the particle's location $\\mathbf{r}(t)$. We can write this mathematically as\n",
    "\n",
    "$$ \\mathbf{V}(t) = \\mathbf{u}(\\mathbf{r}(t),t) $$\n",
    "\n",
    "This means that the particle's trajectory, $\\mathbf{r}(t)$, is determined by the equation\n",
    "\n",
    "$$ \\dfrac{\\mathrm{d}\\mathbf{r}}{\\mathrm{d}t} = \\mathbf{u}(\\mathbf{r}(t),t) $$\n",
    "\n",
    "If we integrate this equation over time, starting from some initial location $\\mathbf{r}(0)$, then we get the trajectory of a single fluid particle.\n",
    "\n",
    "If the velocity field is **steady**, then this equation simplifies a bit, because we lose the second argument ($t$) of $\\mathbf{u}$, and we thus have only one unchanging velocity field to integrate.\n",
    "\n",
    "If we want to look at trajectories of many particles, then we simply integrate this equation for each particle. Each particle corresponds to a different initial condition."
   ]
  },
  {
   "cell_type": "markdown",
   "metadata": {},
   "source": [
    "Let's compute the trajectories, $\\mathbf{r}_p(t)$, of a few particles $p = 1,\\ldots,n$, in this steady velocity field. We will release them from some places upstream of the airfoil and see where they go over a time interval."
   ]
  },
  {
   "cell_type": "code",
   "execution_count": null,
   "metadata": {},
   "outputs": [],
   "source": [
    "#=\n",
    "Initial locations of the particles. Each pair is the initial coordinates of a particle. You can (and should) play\n",
    "around with these, add more particles, etc.\n",
    "=#\n",
    "pts = [ [-1,-0.5], [-1,0], [-1,0.25], [-1,-0.25] ]\n",
    "\n",
    "#=\n",
    "Time range over which to compute the trajectory (from t = 0 to t = Tmax). You might need to change this to\n",
    "make the trajectories go far enough.\n",
    "=#\n",
    "Tmax = 5.0\n",
    "\n",
    "#=\n",
    "Time step size. This is set small to eliminate errors. Probably no reason to change it.\n",
    "=#\n",
    "Δt = 0.001\n",
    "\n",
    "#=\n",
    "Compute the trajectories.\n",
    "=#\n",
    "traj_array = compute_trajectory(u,sys,pts,Tmax,Δt);"
   ]
  },
  {
   "cell_type": "markdown",
   "metadata": {},
   "source": [
    "Each entry in the output array `traj_array` contains a trajectory of a particle. For example, `traj_array[1]` contains the trajectory of particle 1, $\\mathbf{r}_1(t)$."
   ]
  },
  {
   "cell_type": "markdown",
   "metadata": {},
   "source": [
    "Plot the trajectory, $\\mathbf{r}_p(t)$, of each particle"
   ]
  },
  {
   "cell_type": "code",
   "execution_count": null,
   "metadata": {},
   "outputs": [],
   "source": [
    "ps = plot(body,xlim=(-1,4),ylim=(-1,1),title=\"Particle trajectories\",xlabel=L\"x\",ylabel=L\"y\") # plot the body\n",
    "for traj in traj_array\n",
    "    # plot the x, y coordinates of this particle's trajectory\n",
    "    plot!(ps,traj[1,:],traj[2,:],linewidth=2)\n",
    "end\n",
    "plot(ps,size=(800,400))"
   ]
  },
  {
   "cell_type": "markdown",
   "metadata": {},
   "source": [
    "## Particle acceleration and the material derivative of velocity\n",
    "Now, let's develop some intuition for how the particle's velocity changes along its trajectory---i.e., the acceleration. From the particle's perspective (the Lagrangian perspective), this is simply\n",
    "\n",
    "$$ \\dfrac{\\mathrm{d}\\mathbf{V}}{\\mathrm{d}t} $$\n",
    "\n",
    "But earlier, we equated the particle's velocity to the local fluid velocity field. If we take the time derivative of both sides of this equation, then, by the chain rule, we get\n",
    "\n",
    "$$ \\dfrac{\\mathrm{d}\\mathbf{V}}{\\mathrm{d}t} = \\dfrac{\\mathrm{d}\\mathbf{r}}{\\mathrm{d}t} \\cdot \\nabla \\mathbf{u}(\\mathbf{r}(t),t) + \\dfrac{\\partial \\mathbf{u}}{\\partial t} (\\mathbf{r}(t),t).$$\n",
    "\n",
    "Notice the appearance of the particle velocity ($\\mathrm{d}\\mathbf{r}/\\mathrm{d}t$) on the right-hand side. We can replace this with the local fluid velocity. Let's also switch the order of the terms, as is conventional:\n",
    "\n",
    "$$ \\dfrac{\\mathrm{d}\\mathbf{V}}{\\mathrm{d}t} = \\dfrac{\\partial \\mathbf{u}}{\\partial t}(\\mathbf{r}(t),t) + \\mathbf{u} \\cdot \\nabla \\mathbf{u}(\\mathbf{r}(t),t).$$\n",
    "\n",
    "The right hand side is called the material derivative of velocity, $D\\mathbf{u}/Dt$. It contains two terms: a **convective acceleration** ($\\mathbf{u}\\cdot\\nabla\\mathbf{u}$), due to spatial changes of velocity along the particle's path, and an **unsteady term** ($\\partial\\mathbf{u}/\\partial t$), due to time changes in the velocity field itself.\n",
    "\n",
    "Like the fluid velocity, it is a field quantity (a function of space and time, independently of each other). Here, it is evaluated at the location of the particle:\n",
    "\n",
    "$$ \\dfrac{\\mathrm{d}\\mathbf{V}}{\\mathrm{d}t} = \\dfrac{D \\mathbf{u}}{D t} (\\mathbf{r}(t),t)$$"
   ]
  },
  {
   "cell_type": "markdown",
   "metadata": {},
   "source": [
    "### Material derivative in action\n",
    "Let's explore this equality on our steady airfoil flow. In such a flow, the material derivative just contains the convective acceleration:\n",
    "\n",
    "$$ \\dfrac{D \\mathbf{u}}{D t} = \\mathbf{u}\\cdot\\nabla\\mathbf{u}$$\n",
    "\n",
    "So if we compute the convective acceleration field and then evaluate it along the particle's trajectory, this should be equal to the particle's acceleration. Let's try this."
   ]
  },
  {
   "cell_type": "markdown",
   "metadata": {},
   "source": [
    "#### Velocity along the trajectory\n",
    "First, let us calculate the velocity along a particle's trajectory."
   ]
  },
  {
   "cell_type": "code",
   "execution_count": null,
   "metadata": {},
   "outputs": [],
   "source": [
    "particle_number = 2\n",
    "traj = traj_array[particle_number]\n",
    "\n",
    "utraj,vtraj = field_along_trajectory(u,sys,traj);"
   ]
  },
  {
   "cell_type": "markdown",
   "metadata": {},
   "source": [
    "Plot the velocity components as a function of the $x$ component of the trajectory. This allows us to see how these components change as the particle encounters the airfoil. We also plot the particle's trajectory for reference."
   ]
  },
  {
   "cell_type": "code",
   "execution_count": null,
   "metadata": {},
   "outputs": [],
   "source": [
    "# Draw a rectangular box showing the range of x values where the airfoil lies\n",
    "Xr = [minimum(body.x), maximum(body.x), maximum(body.x), minimum(body.x), minimum(body.x)]\n",
    "Yr = [-20,-20,20,20,-20]\n",
    "pv = plot(Xr,Yr,fillrange=0,fillcolor=:lightgray,linecolor=:lightgray,label=\"Body location\",xlim=(-1,3),ylim=(-1.5,1.5))\n",
    "\n",
    "# Plot the components of velocity\n",
    "xtraj = traj[1,:]\n",
    "ytraj = traj[2,:]\n",
    "plot!(pv,xtraj,utraj,xlabel=L\"x\",label=L\"u_p\",title=\"Particle velocity components along trajectory\")\n",
    "plot!(pv,xtraj,vtraj,label=L\"v_p\",ylabel=\"Velocity\")\n",
    "\n",
    "ps = plot(body,xlim=(-1,3),ylim=(-0.5,0.5),title=\"Particle trajectory\",xlabel=L\"x\",ylabel=L\"y\") # plot the body\n",
    "plot!(ps,xtraj,ytraj,linewidth=2)\n",
    "plot(ps,pv,layout=(2,1))"
   ]
  },
  {
   "cell_type": "markdown",
   "metadata": {},
   "source": [
    "Notice how the particle's u component drops as it encounters the nose of the airfoil, while the v component gets larger as the particle moves toward the top of the airfoil.\n",
    "\n",
    "The u component then **accelerates rapidly**---to a value even larger than the background flow speed---as it passes over the upper surface. (By the way: this aspect is essential for generating lift.)\n",
    "\n",
    "Then both components get smaller as the particle passes over the rear part of the wing."
   ]
  },
  {
   "cell_type": "markdown",
   "metadata": {},
   "source": [
    "#### Rate of change of particle velocity\n",
    "Let's evaluate the rate of change of this particle velocity"
   ]
  },
  {
   "cell_type": "code",
   "execution_count": null,
   "metadata": {},
   "outputs": [],
   "source": [
    "dudt_traj = ddt(utraj,Δt)\n",
    "dvdt_traj = ddt(vtraj,Δt);"
   ]
  },
  {
   "cell_type": "markdown",
   "metadata": {},
   "source": [
    "Now compute the convective acceleration field, $\\mathbf{u}\\cdot\\nabla\\mathbf{u}$, and evaluate it along the particle's trajectory."
   ]
  },
  {
   "cell_type": "code",
   "execution_count": null,
   "metadata": {},
   "outputs": [],
   "source": [
    "# Calculates the convective acceleration field\n",
    "ugradu = convective_acceleration(u,sys)\n",
    "\n",
    "# Evaluate this field's components along the trajectory\n",
    "ugradu_traj, ugradv_traj = field_along_trajectory(ugradu,sys,traj);"
   ]
  },
  {
   "cell_type": "markdown",
   "metadata": {},
   "source": [
    "Plot the acceleration components. We will compare the particle's acceleration, $\\mathrm{d}\\mathbf{V}/\\mathrm{d}t$, to the convective acceleration evaluated along the trajectory, $\\mathbf{u}\\cdot\\nabla\\mathbf{u}(\\mathbf{r}(t))$. They should be equal:"
   ]
  },
  {
   "cell_type": "code",
   "execution_count": null,
   "metadata": {},
   "outputs": [],
   "source": [
    "# Construct the plot\n",
    "\n",
    "# Draw a rectangular box showing the range of x values where the airfoil lies\n",
    "Xr = [minimum(body.x), maximum(body.x), maximum(body.x), minimum(body.x), minimum(body.x)]\n",
    "Yr = [-20,-20,20,20,-20]\n",
    "\n",
    "xtraj = traj[1,:]\n",
    "\n",
    "# Plot the x component of particle acceleration and the x component of the convective acceleration\n",
    "pv1 = plot(Xr,Yr,fillrange=0,fillcolor=:lightgray,linecolor=:lightgray,label=\"Body location\",xlim=(-1,3),ylim=(-5,10))\n",
    "plot!(pv1,xtraj,dudt_traj,xlabel=L\"x\",ylabel=L\"a_x\",label=L\"\\mathrm{d}u_p/\\mathrm{d}t\",title=\"x acceleration component along trajectory\")\n",
    "plot!(pv1,xtraj,ugradu_traj,label=L\"\\mathbf{u}\\cdot\\nabla u(\\mathbf{r}_p(t))\")\n",
    "\n",
    "pv2 = plot(Xr,Yr,fillrange=0,fillcolor=:lightgray,linecolor=:lightgray,label=\"Body location\",xlim=(-1,3),ylim=(-5,10))\n",
    "# Plot the y component of particle acceleration and the y component of the convective acceleration\n",
    "xtraj = traj[1,:]\n",
    "plot!(pv2,xtraj,dvdt_traj,xlabel=L\"x\",ylabel=L\"a_y\",label=L\"\\mathrm{d}v_p/\\mathrm{d}t\",title=\"y acceleration component along trajectory\")\n",
    "plot!(pv2,xtraj,ugradv_traj,label=L\"\\mathbf{u}\\cdot\\nabla v(\\mathbf{r}_p(t))\")\n",
    "\n",
    "plot(pv1,pv2,layout=(2,1),size=(900,600))"
   ]
  },
  {
   "cell_type": "markdown",
   "metadata": {},
   "source": [
    "This confirms that these two ways of viewing the acceleration---the Lagrangian view from the particle's perspective, and the Eulerian calculation of an acceleration field---are, indeed, the same. There are some small differences, but these are due to numerical errors, not conceptual differences."
   ]
  },
  {
   "cell_type": "markdown",
   "metadata": {},
   "source": [
    "## Streamlines and the streamfunction\n",
    "What will happen if we plot the value of streamfunction, $\\psi$, along the particle trajectory? Let's find out:"
   ]
  },
  {
   "cell_type": "code",
   "execution_count": null,
   "metadata": {},
   "outputs": [],
   "source": [
    "ψtraj = field_along_trajectory(ψ,sys,traj);"
   ]
  },
  {
   "cell_type": "markdown",
   "metadata": {},
   "source": [
    "Plot the streamfunction as a function of x along trajectory:"
   ]
  },
  {
   "cell_type": "code",
   "execution_count": null,
   "metadata": {},
   "outputs": [],
   "source": [
    "plot(xtraj,ψtraj,xlim=(-1,3),ylim=(-1,1),legend=false,xlabel=L\"x\",ylabel=L\"\\psi\",title=\"Streamfunction along trajectory\")"
   ]
  },
  {
   "cell_type": "markdown",
   "metadata": {},
   "source": [
    "It's constant! This should not be surprising. In this steady flow, the **particle pathlines are identical to streamlines**, and on any streamline, the streamfunction is constant."
   ]
  },
  {
   "cell_type": "code",
   "execution_count": null,
   "metadata": {},
   "outputs": [],
   "source": []
  }
 ],
 "metadata": {
  "kernelspec": {
   "display_name": "Julia 1.2.0",
   "language": "julia",
   "name": "julia-1.2"
  },
  "language_info": {
   "file_extension": ".jl",
   "mimetype": "application/julia",
   "name": "julia",
   "version": "1.2.0"
  }
 },
 "nbformat": 4,
 "nbformat_minor": 2
}
