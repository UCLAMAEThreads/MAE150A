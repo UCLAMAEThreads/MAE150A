{
 "cells": [
  {
   "cell_type": "markdown",
   "metadata": {},
   "source": [
    "<img src=\"logo_UCLA_blue_boxed.svg\" alt=\"ucla logo\" width=\"150\" align=\"left\"/>"
   ]
  },
  {
   "cell_type": "markdown",
   "metadata": {},
   "source": [
    "### **MAE 150A - Intermediate Fluid Mechanics**\n",
    "\n",
    "<hr />"
   ]
  },
  {
   "cell_type": "markdown",
   "metadata": {},
   "source": [
    "# Vorticity, streamfunction, and velocity"
   ]
  },
  {
   "cell_type": "markdown",
   "metadata": {},
   "source": [
    "In this notebook we will discuss the relationship between vorticity ($\\omega$), velocity ($\\mathbf{u}$), and streamfunction ($\\psi$), in two-dimensional flows:\n",
    "\n",
    "$$ \\nabla^2\\psi = -\\omega $$\n",
    "\n",
    "and\n",
    "\n",
    "$$ \\mathbf{u} = \\nabla\\times (\\psi \\mathbf{k}) $$\n",
    "\n",
    "We will do this by considering some example vorticity distributions, formed from one or more vortices of the form\n",
    "\n",
    "$$ \\omega(x,y) = \\dfrac{\\Gamma}{\\pi \\sigma^2} \\mathrm{e}^{-((x-x0)^2+(y-y0)^2)/\\sigma^2} $$\n",
    "\n",
    "This shape is called a *Gaussian*, and physically, represents a type of vortex called an Oseen vortex. The parameter $\\Gamma$ is the circulation of this vortex, $\\sigma$ is its radius, and $(x0,y0)$ its center."
   ]
  },
  {
   "cell_type": "markdown",
   "metadata": {},
   "source": [
    "### Set up the module"
   ]
  },
  {
   "cell_type": "code",
   "execution_count": null,
   "metadata": {},
   "outputs": [],
   "source": [
    "using MAE150A"
   ]
  },
  {
   "cell_type": "code",
   "execution_count": null,
   "metadata": {},
   "outputs": [],
   "source": [
    "pyplot()\n",
    "initialize_environment()"
   ]
  },
  {
   "cell_type": "markdown",
   "metadata": {},
   "source": [
    "### Set up a grid on which to construct our fields\n",
    "You probably will not have any reason to change these, but you're welcome to play around, of course."
   ]
  },
  {
   "cell_type": "code",
   "execution_count": null,
   "metadata": {},
   "outputs": [],
   "source": [
    "# grid cell size\n",
    "Δx = 0.02\n",
    "\n",
    "# set the size of a region in which to set up the flow\n",
    "xlim = (-2,2)\n",
    "ylim = (-2,2)\n",
    "\n",
    "# make the grid\n",
    "g = PhysicalGrid(xlim,ylim,Δx)"
   ]
  },
  {
   "cell_type": "markdown",
   "metadata": {},
   "source": [
    "Set up some other data structures for later use. You shouldn't need to touch these."
   ]
  },
  {
   "cell_type": "code",
   "execution_count": null,
   "metadata": {},
   "outputs": [],
   "source": [
    "ω = Nodes(Dual,size(g))\n",
    "umag = Nodes(Primal,size(g))\n",
    "\n",
    "xg,yg = coordinates(ω,g) # coordinates of grid points at which vorticity is evaluated\n",
    "xc,yc = coordinates(umag,g) # coordinates of grid points at which velocity magnitude is evaluated\n",
    "\n",
    "# Discrete Laplacian operator and its inverse\n",
    "L = plan_laplacian(ω,with_inverse=true);"
   ]
  },
  {
   "cell_type": "markdown",
   "metadata": {},
   "source": [
    "### Now set up a single vortex at the origin and let's look at it"
   ]
  },
  {
   "cell_type": "code",
   "execution_count": null,
   "metadata": {},
   "outputs": [],
   "source": [
    "Γ = 1\n",
    "σ = 0.2;\n",
    "vort = OseenVortex(0,0,Γ,σ)"
   ]
  },
  {
   "cell_type": "markdown",
   "metadata": {},
   "source": [
    "The next line evaluates the vortex at all points on the grid.\n",
    "\n",
    "Note: We use a couple of Julia tricks here. It's not important to know the details. But if you're interested: the apostrophe after yg means `transpose`. So `xg`,`yg'` gives the coordinates of the rows and columns of the Cartesian grid. The `@.` means *vectorize* the next operation, i.e., perform this operation at every value of `xg` and every value of `yg` and assign the result to the array `ω`."
   ]
  },
  {
   "cell_type": "code",
   "execution_count": null,
   "metadata": {},
   "outputs": [],
   "source": [
    "@. ω = vort(xg,yg');"
   ]
  },
  {
   "cell_type": "markdown",
   "metadata": {},
   "source": [
    "Now plot the vorticity field"
   ]
  },
  {
   "cell_type": "code",
   "execution_count": null,
   "metadata": {},
   "outputs": [],
   "source": [
    "plot(xg,yg,ω,xlim=(-2,2),ylim=(-2,2),xlabel=L\"x\",ylabel=L\"y\",title=\"Vorticity field\")"
   ]
  },
  {
   "cell_type": "markdown",
   "metadata": {},
   "source": [
    "#### Now let's compute the streamfunction\n",
    "We need to solve the Poisson equation to get the streamfunction, $\\psi$:\n",
    "\n",
    "$$ \\nabla^2 \\psi = -\\omega $$\n",
    "\n",
    "Details, if interested: We have set up the $L$ operator to be a discrete version of $\\nabla^2$ on the grid (using finite differences). But strictly speaking, $L \\approx \\Delta x^2 \\nabla^2$, where $\\Delta x$ is the grid spacing. The inverse of $L$ is also available. We use the *backslash* (`\\`) to provide this inverse. So the discrete solution is"
   ]
  },
  {
   "cell_type": "code",
   "execution_count": null,
   "metadata": {},
   "outputs": [],
   "source": [
    "ψ = -Δx^2*(L\\ω);"
   ]
  },
  {
   "cell_type": "markdown",
   "metadata": {},
   "source": [
    "Plot the streamfunction contours"
   ]
  },
  {
   "cell_type": "code",
   "execution_count": null,
   "metadata": {},
   "outputs": [],
   "source": [
    "plot(xg,yg,ψ,color=:black,xlim=(-2,2),ylim=(-2,2),xlabel=L\"x\",ylabel=L\"y\",title=\"Streamfunction\")"
   ]
  },
  {
   "cell_type": "markdown",
   "metadata": {},
   "source": [
    "Remember that each of these contours of streamfunction is a **streamline**. The only drawback is that the arrows aren't on it. (How would you determine the direction of the streamlines?)\n",
    "\n",
    "It probably is not a surprise that the streamlines of a radially-symmetric vortex are a bunch of concentric circles. This makes it clear that a vortex is a region of rotational flow."
   ]
  },
  {
   "cell_type": "markdown",
   "metadata": {},
   "source": [
    "#### Finally, compute the velocity field\n",
    "Here, we take the curl of the streamfunction (treating the streamfunction as a vector directed out of the screen),\n",
    "\n",
    "$$ \\mathbf{u} = \\nabla\\times (\\psi\\mathbf{k}) $$\n",
    "\n",
    "The discrete curl operator is simply called `curl` but we have to divide by the grid spacing to get the correct approximation of the actual curl."
   ]
  },
  {
   "cell_type": "code",
   "execution_count": null,
   "metadata": {},
   "outputs": [],
   "source": [
    "u = curl(ψ)/Δx;"
   ]
  },
  {
   "cell_type": "markdown",
   "metadata": {},
   "source": [
    "Now plot them"
   ]
  },
  {
   "cell_type": "code",
   "execution_count": null,
   "metadata": {},
   "outputs": [],
   "source": [
    "xu, yu, xv, yv = coordinates(u,g)\n",
    "ps1 = plot(xu,yu,u.u,xlim=(-2,2),ylim=(-2,2),xlabel=L\"x\",ylabel=L\"y\",title=\"u component\",colorbar=:true)\n",
    "ps2 = plot(xv,yv,u.v,xlim=(-2,2),ylim=(-2,2),xlabel=L\"x\",ylabel=L\"y\",title=\"v component\",colorbar=:true)\n",
    "plot(ps1,ps2,size=(900,450))"
   ]
  },
  {
   "cell_type": "markdown",
   "metadata": {},
   "source": [
    "These are not as obvious to interpret. But with a little bit of thought, you can see that regions of large $x$ velocity are above and below the vortex, and regions of large $y$ velocity are on the sides."
   ]
  },
  {
   "cell_type": "markdown",
   "metadata": {},
   "source": [
    "#### The velocity magnitude"
   ]
  },
  {
   "cell_type": "markdown",
   "metadata": {},
   "source": [
    "The speed of the flow, $|\\mathbf{u}|$, is a little easier to interpret. But where is the speed the largest?"
   ]
  },
  {
   "cell_type": "code",
   "execution_count": null,
   "metadata": {},
   "outputs": [],
   "source": [
    "umag = mag(u);\n",
    "plot(xc,yc,umag,xlim=(-2,2),ylim=(-2,2),xlabel=L\"x\",ylabel=L\"y\",title=\"Velocity magnitude\",colorbar=:true)"
   ]
  },
  {
   "cell_type": "markdown",
   "metadata": {},
   "source": [
    "To see the speed distribution a little better, try plotting along a slice $y = 0$.\n",
    "\n",
    "For those that like details: To get this slice, we construct a function that interpolates the velocity magnitude field on the grid, and we can then evaluate that function at any x,y location we like. Here, we evaluate it at $y = 0$ in a range of points along the $x$ axis."
   ]
  },
  {
   "cell_type": "code",
   "execution_count": null,
   "metadata": {},
   "outputs": [],
   "source": [
    "umag_fcn = interpolatable_field(xc,yc,umag);"
   ]
  },
  {
   "cell_type": "code",
   "execution_count": null,
   "metadata": {},
   "outputs": [],
   "source": [
    "plot(xc,umag_fcn.(xc,0),xlim=(-2,2),ylim=(0,1),xlabel=L\"x\",ylabel=L\"|\\mathbf{u}(x,0)|\",title=\"Velocity magnitude\",legend=false)"
   ]
  },
  {
   "cell_type": "markdown",
   "metadata": {},
   "source": [
    "The velocity is actually zero at the center and maximum a little bit away from the center. Try changing $\\sigma$ and seeing how this location of maximum speed changes."
   ]
  },
  {
   "cell_type": "markdown",
   "metadata": {},
   "source": [
    "### Construct a pair of vortices"
   ]
  },
  {
   "cell_type": "code",
   "execution_count": null,
   "metadata": {},
   "outputs": [],
   "source": [
    "Γ = 1\n",
    "σ = 0.3\n",
    "v1 = OseenVortex(-1,0,Γ,σ)\n",
    "v2 = OseenVortex(1,0,Γ,σ)"
   ]
  },
  {
   "cell_type": "code",
   "execution_count": null,
   "metadata": {},
   "outputs": [],
   "source": [
    "@. ω = v1(xg,yg') + v2(xg,yg');"
   ]
  },
  {
   "cell_type": "code",
   "execution_count": null,
   "metadata": {},
   "outputs": [],
   "source": [
    "plot(xg,yg,ω,xlim=(-2,2),ylim=(-2,2),xlabel=L\"x\",ylabel=L\"y\",title=\"Vorticity field\")"
   ]
  },
  {
   "cell_type": "code",
   "execution_count": null,
   "metadata": {},
   "outputs": [],
   "source": [
    "ψ = -Δx^2*(L\\ω);"
   ]
  },
  {
   "cell_type": "code",
   "execution_count": null,
   "metadata": {},
   "outputs": [],
   "source": [
    "plot(xg,yg,ψ,color=:black,xlim=(-2,2),ylim=(-2,2),xlabel=L\"x\",ylabel=L\"y\",title=\"Streamfunction\")"
   ]
  },
  {
   "cell_type": "markdown",
   "metadata": {},
   "source": [
    "#### Stagnation points\n",
    "Where are the stagnation points for this flow? There are a few ways to hunt for them:\n",
    "* where streamlines cross\n",
    "* where velocity components both vanish\n",
    "* where velocity magnitude is zero\n",
    "\n",
    "Let's try the second approach. We will plot the zero contour (the contour for which the value is zero) of the $x$ and $y$ components of velocity and lay them on top of each other. Stagnation points correspond to where the zero contours of each component cross. We will put the streamlines in the plot, too, just for reference."
   ]
  },
  {
   "cell_type": "code",
   "execution_count": null,
   "metadata": {},
   "outputs": [],
   "source": [
    "u = curl(ψ)/Δx;\n",
    "xu, yu, xv, yv = coordinates(u,g)\n",
    "plot(xg,yg,ψ,color=:lightgray)\n",
    "plot!(xu,yu,u.u,levels=[0],color=:red,xlim=(-2,2),ylim=(-2,2)) # x component in red\n",
    "plot!(xv,yv,u.v,levels=[0],color=:blue) # y component in red"
   ]
  },
  {
   "cell_type": "markdown",
   "metadata": {},
   "source": [
    "So there are three stagnation points: one near each of the vortex centers and a third one right at the origin."
   ]
  },
  {
   "cell_type": "markdown",
   "metadata": {},
   "source": [
    "### Make some other vorticity fields and explore the associated streamlines here\n",
    "Add more vortices, change their locations, their strengths (positive or negative), their radius. Explore!"
   ]
  },
  {
   "cell_type": "code",
   "execution_count": null,
   "metadata": {},
   "outputs": [],
   "source": []
  }
 ],
 "metadata": {
  "kernelspec": {
   "display_name": "Julia 1.2.0",
   "language": "julia",
   "name": "julia-1.2"
  },
  "language_info": {
   "file_extension": ".jl",
   "mimetype": "application/julia",
   "name": "julia",
   "version": "1.2.0"
  }
 },
 "nbformat": 4,
 "nbformat_minor": 2
}
