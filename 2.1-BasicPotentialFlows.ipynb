{
 "cells": [
  {
   "cell_type": "markdown",
   "metadata": {},
   "source": [
    "<img src=\"logo_UCLA_blue_boxed.svg\" alt=\"ucla logo\" width=\"150\" align=\"left\"/>"
   ]
  },
  {
   "cell_type": "markdown",
   "metadata": {},
   "source": [
    "### **MAE 150A - Intermediate Fluid Mechanics**\n",
    "\n",
    "<hr />"
   ]
  },
  {
   "cell_type": "markdown",
   "metadata": {},
   "source": [
    "# Basic planar potential flows"
   ]
  },
  {
   "cell_type": "markdown",
   "metadata": {},
   "source": [
    "In this notebook we will discuss elementary potential flows. These will be the building blocks of more complex potential flows that come later.\n",
    "\n",
    "Remember that, by definition, all of these flows are solutions of Laplace's equation, both for the scalar potential\n",
    "\n",
    "$$ \\nabla^2 \\phi = 0$$\n",
    "\n",
    "and the streamfunction\n",
    "\n",
    "$$ \\nabla^2 \\psi = 0$$\n",
    "\n",
    "In some cases (singularities), however, they fail to solve these equations at some points.\n",
    "\n",
    "Also, remember the relationships of these quantities with velocity:\n",
    "\n",
    "$$ u = \\dfrac{\\partial \\phi}{\\partial x} = \\dfrac{\\partial \\psi}{\\partial y}$$\n",
    "\n",
    "and\n",
    "\n",
    "$$ v = \\dfrac{\\partial \\phi}{\\partial y} = -\\dfrac{\\partial \\psi}{\\partial x}$$\n",
    "\n",
    "In polar coordinates,\n",
    "\n",
    "$$ u_r = \\dfrac{\\partial \\phi}{\\partial r} = \\dfrac{1}{r} \\dfrac{\\partial \\psi}{\\partial \\theta}$$\n",
    "\n",
    "and\n",
    "\n",
    "$$ u_\\theta = \\dfrac{1}{r} \\dfrac{\\partial \\phi}{\\partial \\theta} = -\\dfrac{\\partial \\psi}{\\partial r}$$"
   ]
  },
  {
   "cell_type": "markdown",
   "metadata": {},
   "source": [
    "### Set up the module"
   ]
  },
  {
   "cell_type": "code",
   "execution_count": null,
   "metadata": {},
   "outputs": [],
   "source": [
    "using MAE150A"
   ]
  },
  {
   "cell_type": "code",
   "execution_count": null,
   "metadata": {},
   "outputs": [],
   "source": [
    "pyplot()\n",
    "initialize_environment()"
   ]
  },
  {
   "cell_type": "markdown",
   "metadata": {},
   "source": [
    "### Set up a grid on which to visualize the potential flows"
   ]
  },
  {
   "cell_type": "code",
   "execution_count": null,
   "metadata": {},
   "outputs": [],
   "source": [
    "# grid cell size\n",
    "Δx = 0.02\n",
    "\n",
    "# set the size of a region in which to set up the flow.\n",
    "xlim = (-2,2)\n",
    "ylim = (-2,2)\n",
    "\n",
    "# make the grid\n",
    "g = PhysicalGrid(xlim,ylim,Δx)"
   ]
  },
  {
   "cell_type": "markdown",
   "metadata": {},
   "source": [
    "And here is the streamfunction and velocity and their associated grid coordinates"
   ]
  },
  {
   "cell_type": "code",
   "execution_count": null,
   "metadata": {},
   "outputs": [],
   "source": [
    "ψ = Nodes(Dual,size(g)) # streamfunction field\n",
    "u = Edges(Primal,size(g)) # velocity field\n",
    "xg, yg = coordinates(ψ,g)\n",
    "xu, yu, xv, yv = coordinates(u,g);"
   ]
  },
  {
   "cell_type": "markdown",
   "metadata": {},
   "source": [
    "and let's set up complex versions of this grid for evaluating the flows"
   ]
  },
  {
   "cell_type": "code",
   "execution_count": null,
   "metadata": {},
   "outputs": [],
   "source": [
    "zg = complexgrid(xg,yg)\n",
    "zu = complexgrid(xu,yu)\n",
    "zv = complexgrid(xv,yv);"
   ]
  },
  {
   "cell_type": "markdown",
   "metadata": {},
   "source": [
    "Hang on... what? Complex variables? Make sure to review the notes in the [complex variables review notebook](2.1-ComplexVariablesNotes.ipynb) if you want to know why we would do this or feel uncomfortable..."
   ]
  },
  {
   "cell_type": "markdown",
   "metadata": {},
   "source": [
    "Let's look at the complex form of the grid points we just set up:"
   ]
  },
  {
   "cell_type": "code",
   "execution_count": null,
   "metadata": {},
   "outputs": [],
   "source": [
    "zg"
   ]
  },
  {
   "cell_type": "markdown",
   "metadata": {},
   "source": [
    "Each of the points in this array is a unique $(x,y)$ location on the grid. The top left element in the array is actually the bottom left point on the grid."
   ]
  },
  {
   "cell_type": "markdown",
   "metadata": {},
   "source": [
    "## The basic building block flows"
   ]
  },
  {
   "cell_type": "markdown",
   "metadata": {},
   "source": [
    "### The most basic: Uniform flow\n",
    "First, let us inspect a uniform flow, also called a *free stream*.\n",
    "\n",
    "$$ u = U_\\infty \\cos\\alpha,\\quad v = U_\\infty \\sin \\alpha, \\qquad \\psi = U_\\infty (y \\cos\\alpha - x \\sin\\alpha), \\qquad \\phi = U_\\infty (x\\cos\\alpha + y \\sin\\alpha) $$\n",
    "\n",
    "We can specify this with the strength of the flow. Let us set up a uniform flow with speed equal to 1 at an angle $\\alpha = 45$ degrees ($\\pi/4$ radians). We will use the complex polar notation for this:"
   ]
  },
  {
   "cell_type": "code",
   "execution_count": null,
   "metadata": {},
   "outputs": [],
   "source": [
    "U∞ = 1.0  # speed\n",
    "α = π/4 # angle in radians\n",
    "f = Freestreams.Freestream(U∞*exp(im*α))"
   ]
  },
  {
   "cell_type": "markdown",
   "metadata": {},
   "source": [
    "#### Evaluation of the flow\n",
    "Let's look at the streamlines of this uniform flow. For that, we evaluate the streamfunction on our grid (`zg`) that we set up earlier.\n",
    "\n",
    "A few notes on the command below. We use the notation `PotentialFlow.streamfunction` to let it know that we are using the streamfunction command in the `PotentialFlow` package. Also, the `.=` makes sure to put the evaluated streamfunction on this grid into an array we have already set up (`ψ`)."
   ]
  },
  {
   "cell_type": "code",
   "execution_count": null,
   "metadata": {},
   "outputs": [],
   "source": [
    "ψ .= PotentialFlow.streamfunction(zg,f);"
   ]
  },
  {
   "cell_type": "markdown",
   "metadata": {},
   "source": [
    "Plot the streamfunction contours"
   ]
  },
  {
   "cell_type": "code",
   "execution_count": null,
   "metadata": {},
   "outputs": [],
   "source": [
    "plot(xg,yg,ψ,color=:black,xlabel=L\"x\",ylabel=L\"y\",title=\"Streamlines of a uniform flow\")"
   ]
  },
  {
   "cell_type": "markdown",
   "metadata": {},
   "source": [
    "As expected, the streamlines are angled at 45 degrees. (The arrows are missing, unfortunately.)\n",
    "\n",
    "Try some different angles to see the result."
   ]
  },
  {
   "cell_type": "markdown",
   "metadata": {},
   "source": [
    "We can also evaluate the **velocity field** of the free stream, using the `induce_velocity` function. It should show the same value everywhere:"
   ]
  },
  {
   "cell_type": "code",
   "execution_count": null,
   "metadata": {},
   "outputs": [],
   "source": [
    "# the last argument is actually the time, but this is a steady flow, so it is irrelevant\n",
    "induce_velocity(zg,f,0.0) "
   ]
  },
  {
   "cell_type": "markdown",
   "metadata": {},
   "source": [
    "### Basic singularity: A source\n",
    "Now, let's consider a source flow,\n",
    "\n",
    "$$ u_r = Q/(2\\pi r), \\quad u_\\theta = 0,\\qquad \\psi = \\dfrac{Q \\theta}{2\\pi}, \\qquad \\phi = \\dfrac{Q }{2\\pi} \\ln r$$\n",
    "\n",
    "Let's place one at the origin with strength $Q$ equal to 1."
   ]
  },
  {
   "cell_type": "code",
   "execution_count": null,
   "metadata": {},
   "outputs": [],
   "source": [
    "zs = 0.0+im*0.0  # location of the source\n",
    "Q = 1.0  # strength of the source\n",
    "s = Source.Point(zs,Q)"
   ]
  },
  {
   "cell_type": "markdown",
   "metadata": {},
   "source": [
    "Evaluate its streamfunction and plot it:"
   ]
  },
  {
   "cell_type": "code",
   "execution_count": null,
   "metadata": {},
   "outputs": [],
   "source": [
    "ψ .= PotentialFlow.streamfunction(zg,s);\n",
    "plot(xg,yg,ψ,color=:black,xlabel=L\"x\",ylabel=L\"y\",title=\"Streamlines of a source\")"
   ]
  },
  {
   "cell_type": "markdown",
   "metadata": {},
   "source": [
    "This looks as expected, but a little strange along the $-x$ axis. Remember, the streamfunction is multi-valued. This dark line is the **branch cut** of the streamfunction, where it jumps from one value to another across that line."
   ]
  },
  {
   "cell_type": "markdown",
   "metadata": {},
   "source": [
    "**SIDE NOTE:** We cannot avoid the branch cut, but we can move it to a different ray by using a rotation operator. To move it to some specified angle $\\tau$, we rotate all of the evaluation points from $\\tau$ to $-\\pi$."
   ]
  },
  {
   "cell_type": "code",
   "execution_count": null,
   "metadata": {},
   "outputs": [],
   "source": [
    "τ = π/4 # angle at which we prefer the branch cut\n",
    "rot = exp(-im*(π+τ))  # rotation operator, which moves rotates from $\\tau$ to $-\\pi$.\n",
    "ψ .= PotentialFlow.streamfunction(zg.*rot,s);\n",
    "plot(xg,yg,ψ,color=:black,xlabel=L\"x\",ylabel=L\"y\",title=\"Streamlines of a source\")"
   ]
  },
  {
   "cell_type": "markdown",
   "metadata": {},
   "source": [
    "Let's evaluate the velocity field of the source. We will be a bit complicated about this, mostly for plotting purposes. Remember from the [field plotting notebook](1.2-PlottingFlowFields), the u and v components are stored at different places on a staggered grid. We therefore evaluate each component on a different set of points: "
   ]
  },
  {
   "cell_type": "code",
   "execution_count": null,
   "metadata": {},
   "outputs": [],
   "source": [
    "u.u .= real.(induce_velocity(zu,s,0.0))\n",
    "u.v .= imag.(induce_velocity(zv,s,0.0));\n",
    "ps1 = plot(xu,yu,u.u,levels=range(-1,1,length=31),clim=(-1,1),xlabel=L\"x\",ylabel=L\"y\",title=\"u component\")\n",
    "ps2 = plot(xv,yv,u.v,levels=range(-1,1,length=31),clim=(-1,1),xlabel=L\"x\",ylabel=L\"y\",title=\"v component\")\n",
    "plot(ps1,ps2)"
   ]
  },
  {
   "cell_type": "markdown",
   "metadata": {},
   "source": [
    "### Another basic singularity: A point vortex\n",
    "Now, let's consider a point vortex,\n",
    "\n",
    "$$ u_r = 0, \\quad u_\\theta = \\dfrac{\\Gamma}{2\\pi r},\\qquad \\psi = -\\dfrac{\\Gamma}{2\\pi} \\ln r, \\qquad \\phi = \\dfrac{\\Gamma \\theta}{2\\pi} $$\n",
    "\n",
    "Let's place one at the origin with strength $\\Gamma$ equal to 1."
   ]
  },
  {
   "cell_type": "code",
   "execution_count": null,
   "metadata": {},
   "outputs": [],
   "source": [
    "zv = 0.0+im*0.0  # location of the vortex\n",
    "Γ = 1.0  # strength of the vortex\n",
    "v = Vortex.Point(zv,Γ)"
   ]
  },
  {
   "cell_type": "markdown",
   "metadata": {},
   "source": [
    "Evaluate its streamfunction and plot it:"
   ]
  },
  {
   "cell_type": "code",
   "execution_count": null,
   "metadata": {},
   "outputs": [],
   "source": [
    "ψ .= PotentialFlow.streamfunction(zg,v);\n",
    "plot(xg,yg,ψ,color=:black,xlabel=L\"x\",ylabel=L\"y\",title=\"Streamlines of a vortex\")"
   ]
  },
  {
   "cell_type": "markdown",
   "metadata": {},
   "source": [
    "### Another singularity: a dipole (or doublet)\n",
    "A doublet is also a singularity, but higher order than the source and vortex. It has the form\n",
    "\n",
    "$$ u_r = -\\dfrac{D}{\\pi r^2} \\cos(\\theta-\\alpha),\\quad u_\\theta = -\\dfrac{D}{\\pi r^2} \\sin(\\theta-\\alpha), \\qquad \\psi = -\\dfrac{D}{\\pi r} \\sin(\\theta-\\alpha), \\qquad \\phi = \\dfrac{D}{\\pi r} \\cos(\\theta-\\alpha) $$\n",
    "\n",
    "$D$ is the strength and $\\alpha$ the angle. Notice that it has both a $u_r$ and a $u_\\theta$ component of velocity, and has a different dependence on $r$. It decays faster with distance away from the center."
   ]
  },
  {
   "cell_type": "markdown",
   "metadata": {},
   "source": [
    "Let's create a doublet of strength 1 at angle $\\pi/4$:"
   ]
  },
  {
   "cell_type": "code",
   "execution_count": null,
   "metadata": {},
   "outputs": [],
   "source": [
    "zd = 0.0+im*0.0\n",
    "D = 1.0\n",
    "α = π/4\n",
    "d = Doublets.Doublet(zd,D*exp(im*α))"
   ]
  },
  {
   "cell_type": "code",
   "execution_count": null,
   "metadata": {},
   "outputs": [],
   "source": [
    "ψ .= PotentialFlow.streamfunction(zg,d);\n",
    "plot(xg,yg,ψ,levels=range(-1,1,length=15),color=:black,xlabel=L\"x\",ylabel=L\"y\",title=\"Streamlines of a doublet\")"
   ]
  },
  {
   "cell_type": "markdown",
   "metadata": {},
   "source": [
    "### A corner flow\n",
    "A corner flow is a flow in a sector of interior angle $\\nu\\pi$. It is generated by the streamfunction\n",
    "\n",
    "$$ \\psi(r,\\theta) = \\nu \\sigma r^{1/\\nu} \\cos((\\theta-\\alpha)/\\nu)$$\n",
    "\n",
    "The strength is $\\sigma$ and the rotation angle of the corner is $\\alpha$."
   ]
  },
  {
   "cell_type": "markdown",
   "metadata": {},
   "source": [
    "Create a corner flow of strength 1 and interior angle $\\pi/3$ (60 degrees). "
   ]
  },
  {
   "cell_type": "code",
   "execution_count": null,
   "metadata": {},
   "outputs": [],
   "source": [
    "ν = 0.5\n",
    "σ = 1.0\n",
    "α = 0.0\n",
    "c = Corner(σ,ν,α)"
   ]
  },
  {
   "cell_type": "code",
   "execution_count": null,
   "metadata": {},
   "outputs": [],
   "source": [
    "ψ .= PotentialFlow.streamfunction(zg,c);\n",
    "plot(xg,yg,ψ,levels=range(-3,3,length=31),color=:black,xlabel=L\"x\",ylabel=L\"y\",title=\"Streamlines of a corner\")"
   ]
  },
  {
   "cell_type": "markdown",
   "metadata": {},
   "source": [
    "Note the straight streamlines that cross at the origin. There is a stagnation point there. What is the direction of the flow? Here is all you would need to draw arrows on this:"
   ]
  },
  {
   "cell_type": "code",
   "execution_count": null,
   "metadata": {},
   "outputs": [],
   "source": [
    "induce_velocity(1.0+im*1.0,c,0.0)"
   ]
  },
  {
   "cell_type": "markdown",
   "metadata": {},
   "source": [
    "## Combinations of potential flows\n",
    "We can easily make combinations of potential flows, simply by adding them.\n",
    "\n",
    "Let's try a combination of a uniform flow at 0 degrees and a source at the origin of strength 2:"
   ]
  },
  {
   "cell_type": "code",
   "execution_count": null,
   "metadata": {},
   "outputs": [],
   "source": [
    "# The uniform flow\n",
    "U∞ = 1.0  # speed\n",
    "α = 0.0 # angle in radians\n",
    "f = Freestreams.Freestream(U∞*exp(im*α))\n",
    "\n",
    "# The source\n",
    "zs = 0.0+im*0.0  # location of the source\n",
    "Q = 2.0  # strength of the source\n",
    "s = Source.Point(zs,Q)"
   ]
  },
  {
   "cell_type": "markdown",
   "metadata": {},
   "source": [
    "We will add these, but take some care to use our rotation trick on the branch cut of the source, so that it is along the +x axis."
   ]
  },
  {
   "cell_type": "code",
   "execution_count": null,
   "metadata": {},
   "outputs": [],
   "source": [
    "τ = 0.0 # angle at which we prefer the branch cut\n",
    "rot = exp(-im*(π+τ))\n",
    "ψ .= PotentialFlow.streamfunction(zg,f) .+ PotentialFlow.streamfunction(zg.*rot,s);;\n",
    "plot(xg,yg,ψ,color=:black,xlim=(-2,2),ylim=(-2,2),xlabel=L\"x\",ylabel=L\"y\",title=\"Streamlines of a uniform flow + source\")"
   ]
  },
  {
   "cell_type": "markdown",
   "metadata": {},
   "source": [
    "There is a **stagnation point** in this flow somewhere to the left of the source, and this indicates that **stagnation streamlines** cross there.\n",
    "\n",
    "To add the stagnation streamline to the plot, we can find the value of streamfunction at the stagnation point. This is the value it will have on the entire stagnation streamlines."
   ]
  },
  {
   "cell_type": "markdown",
   "metadata": {},
   "source": [
    "In this example, we can find the location of the stagnation point by hand, using the polar velocity components from the flow:\n",
    "\n",
    "$$ u_r = U_\\infty \\cos\\theta + \\dfrac{Q}{2\\pi r}, \\quad u_\\theta = 0 $$\n",
    "\n",
    "The stagnation point is at $\\theta = \\pi$ and $r = a = Q/(2\\pi U_\\infty)$. In Cartesian coordinates, this is $x = -Q/(2\\pi U_\\infty)$ and $y = 0$."
   ]
  },
  {
   "cell_type": "markdown",
   "metadata": {},
   "source": [
    "To evaluate the streamfunction at a specific point, we first turn the grid of streamfunction values into a function of $x$ and $y$."
   ]
  },
  {
   "cell_type": "code",
   "execution_count": null,
   "metadata": {},
   "outputs": [],
   "source": [
    "ψfield = interpolatable_field(xg,yg,ψ);"
   ]
  },
  {
   "cell_type": "markdown",
   "metadata": {},
   "source": [
    "Now evaluate it at the stagnation point:"
   ]
  },
  {
   "cell_type": "code",
   "execution_count": null,
   "metadata": {},
   "outputs": [],
   "source": [
    "xstag = -Q/(2π*U∞)\n",
    "ystag = 0\n",
    "ψstag = ψfield(xstag,ystag)"
   ]
  },
  {
   "cell_type": "markdown",
   "metadata": {},
   "source": [
    "Now add this streamline to the plot:"
   ]
  },
  {
   "cell_type": "code",
   "execution_count": null,
   "metadata": {},
   "outputs": [],
   "source": [
    "plot(xg,yg,ψ,color=:black,xlim=(-2,2),ylim=(-2,2),xlabel=L\"x\",ylabel=L\"y\",title=\"Streamlines of a uniform flow + source\")\n",
    "plot!(xg,yg,ψ,levels=[ψstag],linewidth=2)\n",
    "scatter!([xstag],[ystag],label=\"stagnation point\",legend=true)"
   ]
  },
  {
   "cell_type": "markdown",
   "metadata": {},
   "source": [
    "### Another combination: two vortices\n",
    "The tools provided in `PotentialFlow` do not require us to explicitly add the flows; it does it for us. This is especially useful with a lot of vortices. Let us try two point vortices, and place them at $(-1,0)$ and $(1,0)$, and give them strengths $1$ and $-1$:"
   ]
  },
  {
   "cell_type": "code",
   "execution_count": null,
   "metadata": {},
   "outputs": [],
   "source": [
    "# First create empty arrays\n",
    "zvort = ComplexF64[]\n",
    "Γvort = Float64[]\n",
    "\n",
    "# Add the first vortex to the array\n",
    "push!(zvort,-1.0+0im)\n",
    "push!(Γvort,1.0)\n",
    "\n",
    "# add the second vortex to the array\n",
    "push!(zvort,1.0+0im)\n",
    "push!(Γvort,-1.0)\n",
    "\n",
    "# Now make the list of vortices. Note the . after Vortex.Point, which is needed to create\n",
    "# an array of point vortices\n",
    "v = Vortex.Point.(zvort,Γvort)"
   ]
  },
  {
   "cell_type": "markdown",
   "metadata": {},
   "source": [
    "The usual plot"
   ]
  },
  {
   "cell_type": "code",
   "execution_count": null,
   "metadata": {},
   "outputs": [],
   "source": [
    "ψ .= PotentialFlow.streamfunction(zg,v)\n",
    "plot(xg,yg,ψ,color=:black,levels=range(-1,1,length=15),xlim=(-2,2),ylim=(-2,2),xlabel=L\"x\",ylabel=L\"y\",title=\"Streamlines of a pair of vortices\")\n",
    "plot!(v) # This adds markers for the vortices"
   ]
  },
  {
   "cell_type": "markdown",
   "metadata": {},
   "source": [
    "What is the direction of the flow created here? Let's evaluate the velocity at the origin, which is a convenient point on the vertical line in the middle:"
   ]
  },
  {
   "cell_type": "code",
   "execution_count": null,
   "metadata": {},
   "outputs": [],
   "source": [
    "induce_velocity(0.0+im*0.0,v,0.0) # again, the last argument is time, which is irrelevant"
   ]
  },
  {
   "cell_type": "markdown",
   "metadata": {},
   "source": [
    "The real part ($u$) is zero (as expected on this line of symmetry) and the imaginary part ($v$) is positive, indicating an **upward flow** between the two vortices."
   ]
  },
  {
   "cell_type": "markdown",
   "metadata": {},
   "source": [
    "### Another combination: several vortices\n",
    "The tools provided in `PotentialFlow` do not require us to explicitly add the flows; it does it for us. This is especially useful with a lot of vortices. Let's try to make a circular **vortex patch**. This is formed from a collection of point vortices arranged in concentric rings. Each vortex will have the same strength."
   ]
  },
  {
   "cell_type": "markdown",
   "metadata": {},
   "source": [
    "Create one patch at $(-1,0)$ with strength 1"
   ]
  },
  {
   "cell_type": "code",
   "execution_count": null,
   "metadata": {},
   "outputs": [],
   "source": [
    "xcent = -1.0\n",
    "ycent = 0.0\n",
    "Γ = 1.0\n",
    "R = 0.5\n",
    "nring = 5\n",
    "\n",
    "v1 = vortex_patch(xcent,ycent,Γ,R,nring);"
   ]
  },
  {
   "cell_type": "markdown",
   "metadata": {},
   "source": [
    "and another patch at $(1,0)$ with strength -1"
   ]
  },
  {
   "cell_type": "code",
   "execution_count": null,
   "metadata": {},
   "outputs": [],
   "source": [
    "xcent = 1.0\n",
    "ycent = 0.0\n",
    "Γ = -1.0\n",
    "R = 0.5\n",
    "nring = 5\n",
    "\n",
    "v2 = vortex_patch(xcent,ycent,Γ,R,nring);"
   ]
  },
  {
   "cell_type": "markdown",
   "metadata": {},
   "source": [
    "We can combine them easily into something called a **tuple**"
   ]
  },
  {
   "cell_type": "code",
   "execution_count": null,
   "metadata": {},
   "outputs": [],
   "source": [
    "vortex_system = (v1,v2);"
   ]
  },
  {
   "cell_type": "markdown",
   "metadata": {},
   "source": [
    "Now plot them"
   ]
  },
  {
   "cell_type": "code",
   "execution_count": null,
   "metadata": {},
   "outputs": [],
   "source": [
    "ψ .= PotentialFlow.streamfunction(zg,vortex_system)\n",
    "plot(xg,yg,ψ,color=:black,xlim=(-2,2),ylim=(-2,2),xlabel=L\"x\",ylabel=L\"y\",title=\"Streamlines of two vortex patches\")\n",
    "plot!(vortex_system)"
   ]
  },
  {
   "cell_type": "markdown",
   "metadata": {},
   "source": [
    "We can evaluate the velocity of this system at any point, e.g.,"
   ]
  },
  {
   "cell_type": "code",
   "execution_count": null,
   "metadata": {},
   "outputs": [],
   "source": [
    "z_eval = 0.0+0.0*im\n",
    "induce_velocity(z_eval,vortex_system,0.0)"
   ]
  },
  {
   "cell_type": "code",
   "execution_count": null,
   "metadata": {},
   "outputs": [],
   "source": []
  }
 ],
 "metadata": {
  "kernelspec": {
   "display_name": "Julia 1.2.0",
   "language": "julia",
   "name": "julia-1.2"
  },
  "language_info": {
   "file_extension": ".jl",
   "mimetype": "application/julia",
   "name": "julia",
   "version": "1.2.0"
  }
 },
 "nbformat": 4,
 "nbformat_minor": 2
}
