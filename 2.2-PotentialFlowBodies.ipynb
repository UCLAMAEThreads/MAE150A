{
 "cells": [
  {
   "cell_type": "markdown",
   "metadata": {},
   "source": [
    "<img src=\"logo_UCLA_blue_boxed.svg\" alt=\"ucla logo\" width=\"150\" align=\"left\"/>"
   ]
  },
  {
   "cell_type": "markdown",
   "metadata": {},
   "source": [
    "### **MAE 150A - Intermediate Fluid Mechanics**\n",
    "\n",
    "<hr />"
   ]
  },
  {
   "cell_type": "markdown",
   "metadata": {},
   "source": [
    "# Planar potential flows past stationary bodies"
   ]
  },
  {
   "cell_type": "markdown",
   "metadata": {},
   "source": [
    "In this notebook, we'll take a look at how we can use distributions of singularities to generate potential flows past stationary obstacles."
   ]
  },
  {
   "cell_type": "markdown",
   "metadata": {},
   "source": [
    "### Set up the module"
   ]
  },
  {
   "cell_type": "code",
   "execution_count": null,
   "metadata": {},
   "outputs": [],
   "source": [
    "using MAE150A"
   ]
  },
  {
   "cell_type": "code",
   "execution_count": null,
   "metadata": {},
   "outputs": [],
   "source": [
    "using LinearAlgebra: diagm"
   ]
  },
  {
   "cell_type": "code",
   "execution_count": null,
   "metadata": {},
   "outputs": [],
   "source": [
    "pyplot()\n",
    "initialize_environment()"
   ]
  },
  {
   "cell_type": "markdown",
   "metadata": {},
   "source": [
    "This notebook will work with distributions of singularities. It will use some complex variables behind the scenes, and we need the help of a function for computing the dot product between two vectors expressed in complex form:"
   ]
  },
  {
   "cell_type": "code",
   "execution_count": null,
   "metadata": {},
   "outputs": [],
   "source": [
    "\"\"\"\n",
    "    dotproduct(a,b)\n",
    "\n",
    "Compute the dot product between `a` and `b`, each given as complex\n",
    "forms of two-dimensional vectors.\n",
    "\"\"\"\n",
    "dotproduct(a::Number, b::Number) = real(conj(a)*b)"
   ]
  },
  {
   "cell_type": "markdown",
   "metadata": {},
   "source": [
    "## Distributions of singularities"
   ]
  },
  {
   "cell_type": "markdown",
   "metadata": {},
   "source": [
    "Suppose we want to model a solid surface in a potential flow.\n",
    "The only role of that surface is to prevent fluid from going through it.\n",
    "We can accomplish the same thing by replacing the surface with a **distribution of singularities**. We place a large number of singularities (e.g., source, vortices, or doublets) on the surface of the body, and solve for their strengths such that the no-flow-through condition is enforced.\n",
    "\n",
    "Mathematically, we would use an infinite number of singularities, each with vanishingly-small strength. But in practice, we can do very well by just using a large number, and then enforcing the no-flow-through condition at these points.\n",
    "\n",
    "This forms a linear algebra problem: **find the strengths of $N$ singularities to enforce the no-flow-through condition at $N$ points.**"
   ]
  },
  {
   "cell_type": "markdown",
   "metadata": {},
   "source": [
    "First, let us set up a free stream"
   ]
  },
  {
   "cell_type": "code",
   "execution_count": null,
   "metadata": {},
   "outputs": [],
   "source": [
    "U∞ = 1.0 + 0im\n",
    "fs = Freestreams.Freestream(U∞)"
   ]
  },
  {
   "cell_type": "markdown",
   "metadata": {},
   "source": [
    "### Flow past a triangle"
   ]
  },
  {
   "cell_type": "markdown",
   "metadata": {},
   "source": [
    "Let's start by considering flow past a equilateral triangle.\n",
    "We will discretize this triangle into small segments, each with length $\\Delta s$. It is a little complicated to construct, but don't get stuck in the details here. Just look at the result below."
   ]
  },
  {
   "cell_type": "code",
   "execution_count": null,
   "metadata": {},
   "outputs": [],
   "source": [
    "# parameterization along each side\n",
    "Δs = 0.1\n",
    "s = -(1 - Δs):Δs:(1 - Δs)\n",
    "\n",
    "# Create sources of strength = 1 on each side\n",
    "bottom = Source.Point.(s, 1.0)\n",
    "right  = Source.Point.((s .+ 1).*exp(im*2π/3) .+ 1, 1.0)\n",
    "left   = Source.Point.((s .+ 1)*exp(-im*2π/3) .+ im*√3, 1.0)\n",
    "\n",
    "# Set up the list of sources.\n",
    "sources = vcat(bottom, right, left)\n",
    "\n",
    "# The targets are the locations at which we want to evaluate the velocity. These coincide with\n",
    "# the locations of the sources\n",
    "targets = Elements.position.(sources)\n",
    "\n",
    "# The list of normal vectors at each source location\n",
    "n̂ = vcat(\n",
    "    fill(-1.0im, length(bottom)),\n",
    "    fill(exp(im*π/6), length(right)),\n",
    "    fill(exp(im*5π/6), length(left)))\n",
    "\n",
    "# Each source represents a segment of the side. This is the list of segment lengths\n",
    "Δs = fill(Δs, length(n̂));\n",
    "\n",
    "# Let's plot the sources and normals just to make sure it looks like what we want:\n",
    "plot(sources)\n",
    "quiver!(real.(targets), imag.(targets), quiver = 0.15.*(real.(n̂), imag.(n̂)), color = :black)\n",
    "plot!(sources, markersize = 8)"
   ]
  },
  {
   "cell_type": "markdown",
   "metadata": {},
   "source": [
    "The cross marks correspond to the center of each source, and the arrows correspond to the normal vectors along the surface.\n",
    "\n",
    "So the velocity at any point in the fluid is equal to the freestream plus the velocity induced by each of the $N$ point sources:\n",
    "\n",
    "$$\n",
    "\\mathbf{u}(\\mathbf{x}) = \\mathbf{U}_\\infty + \\sum_{n = 1}^N \\mathbf{u}_n(\\mathbf{x})\n",
    "$$\n",
    "\n",
    "If we want enforce the no-flow-through condition at the point sources, then we must have\n",
    "\n",
    "$$\n",
    "\\sum_{n = 1}^N \\mathbf{n}_i \\cdot \\mathbf{u}_n(\\mathbf{x}_i) = - \\mathbf{n}_i \\cdot \\mathbf{U}_\\infty \\qquad \\text{for } i = 1, 2, \\cdots, N.\n",
    "$$\n",
    "\n",
    "As long as the we are not evaluating the velocity that a segment induces on itself, we will treat the segment as a point source:\n",
    "\n",
    "$$\n",
    "    \\mathbf{u}_n(\\mathbf{x})\n",
    "  = \\frac{Q_n }{2\\pi}\n",
    "    \\frac{\\mathbf{x} - \\mathbf{x}_n}\n",
    "         {|\\mathbf{x} - \\mathbf{x}_n|^2} \\qquad \\text{when } \\mathbf{x} \\neq \\mathbf{x}_n\n",
    "$$\n",
    "\n",
    "But how **would** we evaluate $\\mathbf{u}_n(\\mathbf{x}_n)$?  We probably won't go over it in class, so you'll just have to believe ([or not](#Or-Not)) that it is:\n",
    "\n",
    "$$\n",
    "\\mathbf{n}_n \\cdot \\mathbf{u}_n(\\mathbf{x}_n) = \\frac{Q_n}{2\\Delta s}\n",
    "$$\n",
    "\n",
    "<a id=\"back\"></a>\n",
    "\n",
    "So the no-flow-through condition above can be written in matrix form:\n",
    "\n",
    "$$\n",
    "\\underbrace{\n",
    "\\begin{bmatrix}\n",
    "\\frac{1}{2\\Delta s} & \\mathbf{n}_1 \\cdot \\frac{1}{2\\pi}\\frac{\\mathbf{x}_1 - \\mathbf{x}_2}{|\\mathbf{x}_1 - \\mathbf{x}_2|^2}\n",
    "& \\cdots & \\mathbf{n}_1 \\cdot \\frac{1}{2\\pi}\\frac{\\mathbf{x}_1 - \\mathbf{x}_N}{|\\mathbf{x}_1 - \\mathbf{x}_N|^2}\n",
    "\\\\\n",
    "\\mathbf{n}_2 \\cdot \\frac{1}{2\\pi}\\frac{\\mathbf{x}_2 - \\mathbf{x}_1}{|\\mathbf{x}_2 - \\mathbf{x}_1|^2} & \\frac{1}{2\\Delta s}\n",
    "& & \\vdots\n",
    "\\\\\n",
    "\\vdots & & \\ddots & \\vdots \\\\\n",
    "\\mathbf{n}_N \\cdot \\frac{1}{2\\pi}\\frac{\\mathbf{x}_N - \\mathbf{x}_1}{|\\mathbf{x}_N - \\mathbf{x}_1|^2} &\n",
    "\\cdots & \\cdots &\n",
    "\\frac{1}{2\\Delta s}\n",
    "\\end{bmatrix}}_{A}\n",
    "\\begin{bmatrix}\n",
    "Q_1 \\\\\n",
    "Q_2 \\\\\n",
    "\\vdots \\\\\n",
    "\\vdots \\\\\n",
    "Q_n\n",
    "\\end{bmatrix} =\n",
    "\\underbrace{ -\n",
    "\\begin{bmatrix}\n",
    "\\mathbf{n}_1 \\cdot \\mathbf{U}_\\infty \\\\\n",
    "\\mathbf{n}_2 \\cdot \\mathbf{U}_\\infty \\\\\n",
    "\\vdots \\\\\n",
    "\\vdots \\\\\n",
    "\\mathbf{n}_N \\cdot \\mathbf{U}_\\infty \\\\\n",
    "\\end{bmatrix}}_{b},\n",
    "$$\n",
    "\n",
    "which we can solve to find the strengths of the point sources.\n",
    "In code, this will look something like:"
   ]
  },
  {
   "cell_type": "code",
   "execution_count": null,
   "metadata": {},
   "outputs": [],
   "source": [
    "# The right-hand side\n",
    "b = -dotproduct.(n̂, U∞)\n",
    "\n",
    "# Form the matrix elements:\n",
    "A = [dotproduct(n, induce_velocity(target, source, 0)) for (n, target) in zip(n̂, targets), source in sources]\n",
    "A .+= 0.5*diagm(0 => 1 ./ Δs)\n",
    "\n",
    "# And solve it...\n",
    "Q = A \\ b;"
   ]
  },
  {
   "cell_type": "code",
   "execution_count": null,
   "metadata": {},
   "outputs": [],
   "source": [
    "sources = Source.Point.(targets, Q)\n",
    "\n",
    "plot(sources, color = :RdBu_r, colorbar = :right, markersize = 10, title = \"Strengths of sources\")"
   ]
  },
  {
   "cell_type": "markdown",
   "metadata": {},
   "source": [
    "In the figure above, red x's correspond to sources while blue x's correspond to sinks.\n",
    "Now, we will look at the streamlines for this flow."
   ]
  },
  {
   "cell_type": "markdown",
   "metadata": {},
   "source": [
    "#### Streamlines\n",
    "Now let's plot the streamlines. Instead of using the streamfunction, as we have done before, we will compute streamlines from the trajectories of tracer particles. This avoids the challenges of dealing with the branch cut in the streamfunction for a source. We set up an vector of complex points where we wish to start the trajectories:"
   ]
  },
  {
   "cell_type": "code",
   "execution_count": null,
   "metadata": {},
   "outputs": [],
   "source": [
    "# a bunch of points along the left side of the obstacle\n",
    "zstart = collect(-3.0 .+ range(-3,3,length=30)*im)"
   ]
  },
  {
   "cell_type": "code",
   "execution_count": null,
   "metadata": {},
   "outputs": [],
   "source": [
    "Tmax = 20\n",
    "Δt = 0.01\n",
    "tx, ty = compute_trajectories((fs,sources),zstart,Tmax,Δt);"
   ]
  },
  {
   "cell_type": "code",
   "execution_count": null,
   "metadata": {},
   "outputs": [],
   "source": [
    "plt = plot(tx, ty, color = colorant\"black\", xlabel = L\"x\", ylabel = L\"y\",\n",
    "               xlim = (-3, 3), ylim = (-3, 3), size = (400, 400), title = \"Streamlines\")\n",
    "plot!(plt, sources, markersize = 2, color = :RdBu_r)"
   ]
  },
  {
   "cell_type": "markdown",
   "metadata": {},
   "source": [
    "#### Pressure distribution\n",
    "Let's calculate the pressure distribution the surface of the object. We will need the fluid velocity on the surface for this. To calculate this, we simply evaluate it at all of the source locations. However, the source's effect on itself needs to be added in explicitly. Let's create a function to do that work for us."
   ]
  },
  {
   "cell_type": "code",
   "execution_count": null,
   "metadata": {},
   "outputs": [],
   "source": [
    "function surface_velocity(targets,sources,other_elements,n̂,Δs)\n",
    "    us = induce_velocity(targets, (other_elements,sources), 0)\n",
    "    for (i,(ni,Δsi,source)) in enumerate(zip(n̂,Δs,sources))\n",
    "        us[i] -= 0.5*im*source.S*ni/Δsi\n",
    "    end\n",
    "    return us\n",
    "end"
   ]
  },
  {
   "cell_type": "markdown",
   "metadata": {},
   "source": [
    "Now, the pressure can be obtained by applying the Bernoulli equation between two points, one at a large distance away where we only have a uniform flow. The flow is steady and gravity is ignored here, so this is just\n",
    "\n",
    "$$ p = p_\\infty + \\frac{1}{2}\\rho U_\\infty^2 - \\frac{1}{2}\\rho |\\mathbf{u}|^2 $$ \n",
    "\n",
    "The **pressure coefficient** is defined as the difference of the pressure from the ambient pressure, normalized by the dynamic pressure in the uniform flow:\n",
    "\n",
    "$$ C_p = \\dfrac{p - p_\\infty}{\\frac{1}{2} \\rho U_\\infty^2} $$\n",
    "\n",
    "Putting these two things together, the pressure coefficient is\n",
    "\n",
    "$$ C_p = 1 - |\\mathbf{u}|^2/U_\\infty^2 $$\n",
    "\n",
    "Remember that we are only interested here in the pressure at points on the surface, so $\\mathbf{u}$ is the surface velocity. Let's compute the pressure coefficient here. We will plot it by coloring the source points with the local value of $C_p$."
   ]
  },
  {
   "cell_type": "code",
   "execution_count": null,
   "metadata": {},
   "outputs": [],
   "source": [
    "us = surface_velocity(targets,sources,fs,n̂,Δs)\n",
    "Cp = 1 .- dotproduct.(us,us)/dotproduct(U∞,U∞)\n",
    "plot(sources, marker_z = Cp, color = :RdBu_r, colorbar = :right, markersize = 10, title = \"Cp distribution\")"
   ]
  },
  {
   "cell_type": "markdown",
   "metadata": {},
   "source": [
    "Before moving on, we'll wrap all of our steps into a function so we don't have to keep repeating ourselves. But we will add a little bit more functionality, too. There is no reason we need to limit ourselves to just a uniform flow outside of our body. Maybe we want to include, say, some vortices outside the body, too. They can all be included in the superposition:\n",
    "\n",
    "$$\n",
    "\\mathbf{u}(\\mathbf{x}) = \\mathbf{u}_{\\mathrm{other}} + \\sum_{n = 1}^N \\mathbf{u}_n(\\mathbf{x})\n",
    "$$\n",
    "\n",
    "where $\\mathbf{u}_{\\mathrm{other}}$ is the sum of the velocity from *other elements*, like uniform flow and vortices outside the body shape. If we want enforce the no-flow-through condition at the point sources, then we just put all the elements with known values on the right side: \n",
    "\n",
    "$$\n",
    "\\sum_{n = 1}^N \\mathbf{n}_i \\cdot \\mathbf{u}_n(\\mathbf{x}_i) = - \\mathbf{n}_i \\cdot \\mathbf{u}_{\\mathrm{other}}(\\mathbf{x}_i) \\qquad \\text{for } i = 1, 2, \\cdots, N.\n",
    "$$"
   ]
  },
  {
   "cell_type": "markdown",
   "metadata": {},
   "source": [
    "In the function defined below, we can provide a list of these other elements in the argument `other_elements`. Examples below will show how it is used"
   ]
  },
  {
   "cell_type": "code",
   "execution_count": null,
   "metadata": {},
   "outputs": [],
   "source": [
    "# This function has default values for the starting points of the tracer particles and the integration time\n",
    "# and time step size for the trajectory integration. You can override any of these, as examples below will show.\n",
    "\n",
    "function simulate_flow(unit_sources, Δs, n̂, other_elements; tracer_start = collect(-3.0 .+ range(-3,3,length=31)*im), Tmax = 20.0, Δt = 0.01)\n",
    "    \n",
    "    # locations at which we enforce no flow through\n",
    "    targets = Elements.position.(unit_sources)\n",
    "\n",
    "    # velocity induced by other elements at the target points\n",
    "    other_vel = induce_velocity(targets,other_elements,0)\n",
    "    \n",
    "    b = -dotproduct.(n̂, other_vel)\n",
    "    \n",
    "    A = [dotproduct(n, induce_velocity(target, source, 0)) for (n, target) in zip(n̂, targets), source in unit_sources]\n",
    "    A .+= 0.5*diagm(0 => 1 ./ Δs)\n",
    "\n",
    "    Q = A \\ b\n",
    "        \n",
    "    sources = Source.Point.(targets, Q)\n",
    "\n",
    "    # compute other stuff, like surface velocity, pressure, and tracer trajectories\n",
    "    \n",
    "    us = surface_velocity(targets, sources, other_elements, n̂, Δs)\n",
    "\n",
    "    Cp = 1 .- dotproduct.(us,us) #/dotproduct(U∞,U∞)\n",
    "        \n",
    "    tx, ty = compute_trajectories((other_elements,sources),tracer_start,Tmax,Δt)\n",
    "    \n",
    "    \n",
    "    sources, us, Cp, tx, ty\n",
    "end"
   ]
  },
  {
   "cell_type": "markdown",
   "metadata": {},
   "source": [
    "### Flow Past a Cylinder\n",
    "We will now look at flows past a circular cylinder. This is a useful problem because we already know what the flow should be, so we can check that everything works.\n",
    "\n",
    "Since we will use this a lot, let's make a function that constructs a circle of points. It also supplies the unit normal vectors and the lengths of the segments:"
   ]
  },
  {
   "cell_type": "code",
   "execution_count": null,
   "metadata": {},
   "outputs": [],
   "source": [
    "function circle(center::Number,radius::Float64,n::Int)\n",
    "    θ = range(0, 2π, length=n+1)[1:end-1]\n",
    "    z = center .+ radius*exp.(im.*θ)\n",
    "    n̂ = radius*exp.(im.*θ)\n",
    "    Δs = radius*fill(step(θ), length(θ))\n",
    "    return z, n̂, Δs\n",
    "end"
   ]
  },
  {
   "cell_type": "markdown",
   "metadata": {},
   "source": [
    "As before, we first construct the surface of the body with point sources. A circle of radius 1 centered at the origin."
   ]
  },
  {
   "cell_type": "code",
   "execution_count": null,
   "metadata": {},
   "outputs": [],
   "source": [
    "center = 0.0+0im\n",
    "r = 1.0\n",
    "npts = 100\n",
    "z, n̂, Δs = circle(center,r,npts)\n",
    "\n",
    "# sources of unit strength\n",
    "sources = Source.Point.(z, 1.0);\n",
    "targets = Elements.position.(sources)\n",
    "\n",
    "plot(sources, ratio = 1)\n",
    "quiver!(real.(targets), imag.(targets), quiver = 0.15.*(real.(n̂), imag.(n̂)), color = :black)\n",
    "plot!(sources, markersize = 10)"
   ]
  },
  {
   "cell_type": "markdown",
   "metadata": {},
   "source": [
    "Now with a freestream from left to right, we have:"
   ]
  },
  {
   "cell_type": "code",
   "execution_count": null,
   "metadata": {},
   "outputs": [],
   "source": [
    "U∞ = 1.0+0im\n",
    "other_elements = Freestreams.Freestream(U∞)\n",
    "actual_sources, us, Cp, tx, ty = simulate_flow(sources, Δs, n̂, other_elements)\n",
    "plt = plot(tx, ty, color = colorant\"black\", xlabel = L\"x\", ylabel = L\"y\",\n",
    "               xlim = (-3, 3), ylim = (-3, 3), size = (400, 400))\n",
    "plot!(plt, sources, markersize = 2, color = :RdBu_r)"
   ]
  },
  {
   "cell_type": "markdown",
   "metadata": {},
   "source": [
    "Let's compute the pressure distribution on the shape. "
   ]
  },
  {
   "cell_type": "code",
   "execution_count": null,
   "metadata": {},
   "outputs": [],
   "source": [
    "θ = range(0, 2π, length=length(Cp)+1)[1:end-1]\n",
    "plot(θ,Cp,xlim=(0,2π),xlabel=L\"\\theta\",ylabel=L\"C_p\")"
   ]
  },
  {
   "cell_type": "markdown",
   "metadata": {},
   "source": [
    "This agrees with our expected result, $C_p(\\theta) = 1 - 4\\sin^2\\theta$."
   ]
  },
  {
   "cell_type": "markdown",
   "metadata": {},
   "source": [
    "What is the total force on the body? That comes by integrating the pressure times the local normal:\n",
    "\n",
    "$$ \\mathbf{F} = -\\int_{S} p\\mathbf{n}\\mathrm{d}A $$\n",
    "\n",
    "This integral (non-dimensionalized by the reference dynamic pressure) is approximately given by the **sum** over the surface pressure coefficients times normals times segment lengths: "
   ]
  },
  {
   "cell_type": "code",
   "execution_count": null,
   "metadata": {},
   "outputs": [],
   "source": [
    "F = -sum(Cp.*n̂.*Δs)"
   ]
  },
  {
   "cell_type": "markdown",
   "metadata": {},
   "source": [
    "The force has very tiny values for both $F_x$ (the real part) and $F_y$ (the imaginary part). This is **d'Alembert's paradox**. (But is this *always* the case for a potential flow past a closed body?)"
   ]
  },
  {
   "cell_type": "markdown",
   "metadata": {},
   "source": [
    "### Flow past an airfoil\n",
    "In this example, we will compute the flow past an airfoil. NACA airfoils are a family of airfoil shapes in which the camber and thickness can be independently chosen. For example, NACA 4212 indicates an airfoil with 4% camber (the \"4\"), with maximum camber at location 20% of the chord length (the \"2\"), and thickness 12% of the chord (the \"12\"). Symmetric members of the family have the numbers 00xx."
   ]
  },
  {
   "cell_type": "code",
   "execution_count": null,
   "metadata": {},
   "outputs": [],
   "source": [
    "targets = naca4(0.04,0.4,0.12,np=100)\n",
    "\n",
    "# get the lengths and normals of each point\n",
    "dt = 0.5*[diff(targets);0]\n",
    "dz = dt + circshift(dt,1) \n",
    "Δs = abs.(dz)\n",
    "n̂ = -im*dz./Δs;\n",
    "\n",
    "sources = Source.Point.(targets, 1.0)\n",
    "\n",
    "plot(sources, ratio = 1)\n",
    "quiver!(real.(targets), imag.(targets), quiver = 0.15.*(real.(n̂), imag.(n̂)), color = :black)"
   ]
  },
  {
   "cell_type": "markdown",
   "metadata": {},
   "source": [
    "Now we will compute the flow at 5 degrees angle of attack:"
   ]
  },
  {
   "cell_type": "code",
   "execution_count": null,
   "metadata": {},
   "outputs": [],
   "source": [
    "α = 5*π/180\n",
    "U∞ = 1.0*exp(im*α)\n",
    "other_elements = Freestreams.Freestream(U∞)\n",
    "actual_sources, us, Cp, tx, ty = simulate_flow(sources, Δs, n̂, other_elements, tracer_start = collect(-3 .+ im*range(-1,0.5,length=31)));\n",
    "plt = plot(tx, ty, color = colorant\"black\", xlabel = L\"x\", ylabel = L\"y\",\n",
    "               xlim = (-1, 1), ylim = (-0.5, 0.5), size = (600, 600))\n",
    "plot!(plt, sources, markersize = 2, color = :RdBu_r)"
   ]
  },
  {
   "cell_type": "markdown",
   "metadata": {},
   "source": [
    "You might notice that the flow does not come smoothly off the trailing edge. In fact, we need to supply circulation about the airfoil in just the right measure to make this flow come smoothly off. This condition of \"smooth\" flow at the trailing edge is called the **Kutta condition**. This circulation is called the **bound circulation** of the airfoil.\n",
    "\n",
    "We will put a point vortex at the origin and determine the strength of this vortex so that the condition is enforced. There are various ways to check the Kutta condition. An easy way is to look at the jump in surface velocity at the points on either side of the trailing edge. **When the difference between these values is minimum, the Kutta condition is enforced.**"
   ]
  },
  {
   "cell_type": "code",
   "execution_count": null,
   "metadata": {},
   "outputs": [],
   "source": [
    "U∞ = 1.0*exp(im*5*π/180)\n",
    "\n",
    "# strength \n",
    "Γ = -0.583\n",
    "\n",
    "other_elements = (Freestreams.Freestream(U∞),Vortex.Point(0+0im,Γ))\n",
    "actual_sources, us, Cp, tx, ty = simulate_flow(sources, Δs, n̂, other_elements, tracer_start = collect(-3 .+ im*range(-1,0.5,length=31)));\n",
    "plt = plot(tx, ty, color = colorant\"black\", xlabel = L\"x\", ylabel = L\"y\",\n",
    "               xlim = (-1, 1), ylim = (-0.5, 0.5), size = (600, 600))\n",
    "plot!(plt, sources, markersize = 2, color = :RdBu_r)"
   ]
  },
  {
   "cell_type": "markdown",
   "metadata": {},
   "source": [
    "Here is the jump in velocity at the trailing edge. We want this value to be as small as possible."
   ]
  },
  {
   "cell_type": "code",
   "execution_count": null,
   "metadata": {},
   "outputs": [],
   "source": [
    "abs(us[1]-us[end])"
   ]
  },
  {
   "cell_type": "markdown",
   "metadata": {},
   "source": [
    "The force"
   ]
  },
  {
   "cell_type": "code",
   "execution_count": null,
   "metadata": {},
   "outputs": [],
   "source": [
    "F = -sum(Cp.*n̂.*Δs)"
   ]
  },
  {
   "cell_type": "markdown",
   "metadata": {},
   "source": [
    "There is both an $x$ and a $y$ component. The circulation only generates force perpendicular to the free stream. But the free stream is at an angle, so the force itself is also at a slight angle."
   ]
  },
  {
   "cell_type": "markdown",
   "metadata": {},
   "source": [
    "### Flow Past a Happy Face"
   ]
  },
  {
   "cell_type": "code",
   "execution_count": null,
   "metadata": {},
   "outputs": [],
   "source": [
    "ns = 50\n",
    "θ = range(π/6, 5π/6, length=ns)\n",
    "Δs = step(θ)\n",
    "targets = exp.(-im*θ)\n",
    "n̂ = targets;\n",
    "targets = vcat(targets, reverse((1 - 2Δs)*targets, 1))\n",
    "n̂ = vcat(n̂, -reverse(n̂, 1))\n",
    "#n̂[1] *= exp(im*π/4)\n",
    "#n̂[ns] *= exp(-im*π/4)\n",
    "\n",
    "dt = 0.5*[diff(targets);0]\n",
    "dz = dt + circshift(dt,1) \n",
    "Δs = abs.(dz)\n",
    "\n",
    "# add points on the ends of the smile\n",
    "push!(targets,0.5*(targets[1]+targets[2ns]))\n",
    "push!(Δs,2step(θ))\n",
    "push!(n̂,n̂[1]*im)\n",
    "\n",
    "push!(targets,0.5*(targets[ns]+targets[ns+1]))\n",
    "push!(Δs,2step(θ))\n",
    "push!(n̂,-n̂[ns]*im)    \n",
    "        \n",
    "θᵢ = range(0, 2π, length=31)[1:end-1]\n",
    "left_eye = 0.1exp.(im*θᵢ) .- 0.5 .+ 0.2im\n",
    "right_eye = 0.1exp.(im*θᵢ) .+ 0.5 .+ 0.2im;\n",
    "\n",
    "append!(targets, left_eye)\n",
    "append!(targets, right_eye)\n",
    "append!(Δs, fill(0.5π/length(θᵢ), 2length(θᵢ)))\n",
    "append!(n̂, exp.(im*θᵢ))\n",
    "append!(n̂, exp.(im*θᵢ))\n",
    "\n",
    "sources = Source.Point.(targets, 1.0);\n",
    "plot(sources, ratio = 1)\n",
    "quiver!(real.(targets), imag.(targets), quiver = 0.15.*(real.(n̂), imag.(n̂)), color = :black)"
   ]
  },
  {
   "cell_type": "markdown",
   "metadata": {},
   "source": [
    "With $U_\\infty$ going downward:"
   ]
  },
  {
   "cell_type": "code",
   "execution_count": null,
   "metadata": {},
   "outputs": [],
   "source": [
    "U∞ = 0.0-im\n",
    "other_elements = Freestreams.Freestream(U∞)\n",
    "actual_sources, us, Cp, tx, ty = simulate_flow(sources, Δs, n̂, other_elements, tracer_start = collect(range(-3,3,length=31) .+ 3im),Δt = 0.0025)\n",
    "plt = plot(tx, ty, color = colorant\"black\", xlabel = L\"x\", ylabel = L\"y\",\n",
    "               xlim = (-3, 3), ylim = (-3, 3), size = (400, 400))\n",
    "plot!(plt, sources, markersize = 2, color = :RdBu_r)"
   ]
  },
  {
   "cell_type": "markdown",
   "metadata": {},
   "source": [
    "With $U_\\infty$ going from left to right:"
   ]
  },
  {
   "cell_type": "code",
   "execution_count": null,
   "metadata": {},
   "outputs": [],
   "source": [
    "U∞ = 1.0+0im\n",
    "other_elements = Freestreams.Freestream(U∞)\n",
    "actual_sources, us, Cp, tx, ty = simulate_flow(sources, Δs, n̂, other_elements)\n",
    "plt = plot(tx, ty, color = colorant\"black\", xlabel = L\"x\", ylabel = L\"y\",\n",
    "               xlim = (-3, 3), ylim = (-3, 3), size = (400, 400))\n",
    "plot!(plt, sources, markersize = 2, color = :RdBu_r)"
   ]
  },
  {
   "cell_type": "markdown",
   "metadata": {},
   "source": [
    "## Appendix"
   ]
  },
  {
   "cell_type": "markdown",
   "metadata": {},
   "source": [
    "### Or Not"
   ]
  },
  {
   "cell_type": "markdown",
   "metadata": {},
   "source": [
    "We'll have to discuss source sheets for a little bit here to find out the velocity that the sheet induces on itself.\n",
    "To keep it simple, we will use a straight sheet segment with length $\\Delta s$ centered around the origin.\n",
    "The equation describing this sheet segment is given by:\n",
    "\n",
    "$$\n",
    "\\mathbf{u}_s(\\mathbf{x}) = \\frac{1}{2\\pi}\n",
    "\\int_{-\\Delta s/2}^{\\Delta s/2}\n",
    "\\sigma(l) \\frac{\\mathbf{x} - \\mathbf{x}_s(l)}\n",
    "{|\\mathbf{x} - \\mathbf{x}_s(l)|}\n",
    "\\mathrm{d}l,\n",
    "$$\n",
    "\n",
    "where $\\sigma$ is the local strength of the sheet.\n",
    "This is not all that different from the point sources, except when you approach the sheet.\n",
    "\n",
    "We first assume that $\\Delta s$ is small enough that $\\sigma$ is essentially constant in the interval.\n",
    "Then, if we parametrize the target point as\n",
    "\n",
    "$$\n",
    "\\mathbf{x} = r\\cos\\theta\\,\\mathbf{i} + r\\sin\\theta\\,\\mathbf{j},\n",
    "$$\n",
    "\n",
    "we obtain\n",
    "\n",
    "$$\n",
    "\\begin{align*}\n",
    "\\mathbf{u}_s(\\mathbf{x})\n",
    "& = \\frac{\\sigma(0)}{2\\pi}\n",
    "\\left[ \\mathbf{i}\n",
    "\\int_{-\\Delta s/2}^{\\Delta s/2}\n",
    "\\frac{(r\\cos\\theta - l)}\n",
    "{|\\mathbf{x} - \\mathbf{x}_s(l)|}\n",
    "\\mathrm{d}l + \\mathbf{j}\n",
    "\\int_{-\\Delta s/2}^{\\Delta s/2}\n",
    "\\frac{r\\cos\\theta}\n",
    "{|\\mathbf{x} - \\mathbf{x}_s(l)|}\n",
    "\\mathrm{d}l\n",
    "\\right] \\\\\n",
    "& =-\\frac{\\sigma(0)}{2\\pi}\n",
    "\\left( \\frac{\\mathbf{i}}{2}\n",
    "\\log\\left[ (r\\cos\\theta - l)^2 + (r\\sin\\theta)^2\n",
    "\\right]_{-\\Delta s/2}^{\\Delta s/2} + \\left. \\mathbf{j}\n",
    "\\tan^{-1 }\\left(\\frac{r\\cos\\theta - l}\n",
    "{r\\sin\\theta}\n",
    "\\right)\n",
    "\\right|_{-\\Delta s/2}^{\\Delta s/2}\n",
    "\\right)\n",
    "\\end{align*}\n",
    "$$\n",
    "\n",
    "As $\\mathbf{x}$ approaches the origin, $r$ goes to zero\n",
    "\n",
    "$$\n",
    "\\lim_{r \\rightarrow 0}\n",
    "\\mathbf{u}_s(\\mathbf{x}) = \\mathrm{sign}(\\theta)\\frac{\\sigma(0)}{2}.\n",
    "$$\n",
    "\n",
    "Since we are using point sources to model a segment of a source sheet, its strength $S$ is distributed along the segment, i.e.\n",
    "\n",
    "$$\n",
    "S = \\int_{-\\Delta s/2}^{\\Delta s/2} \\sigma(l) \\mathrm{d}l.\n",
    "$$\n",
    "\n",
    "For a short sheet segment, we assume that $\\sigma$ is essentially constant along the segment, so we have $\\sigma \\approx \\frac{S}{\\Delta s}$, which finally gives us\n",
    "\n",
    "\\begin{equation}\n",
    "\\lim_{r \\rightarrow 0} \\mathbf{u}_s(\\mathbf{x}) = \\frac{S}{2\\Delta s}\n",
    "\\end{equation}\n",
    "\n",
    "You can go [back](#back) now."
   ]
  },
  {
   "cell_type": "code",
   "execution_count": null,
   "metadata": {},
   "outputs": [],
   "source": []
  }
 ],
 "metadata": {
  "kernelspec": {
   "display_name": "Julia 1.2.0",
   "language": "julia",
   "name": "julia-1.2"
  },
  "language_info": {
   "file_extension": ".jl",
   "mimetype": "application/julia",
   "name": "julia",
   "version": "1.2.0"
  }
 },
 "nbformat": 4,
 "nbformat_minor": 2
}
