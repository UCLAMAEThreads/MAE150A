{
 "cells": [
  {
   "cell_type": "markdown",
   "metadata": {},
   "source": [
    "<img src=\"logo_UCLA_blue_boxed.svg\" alt=\"ucla logo\" width=\"150\" align=\"left\"/>"
   ]
  },
  {
   "cell_type": "markdown",
   "metadata": {},
   "source": [
    "### **MAE 150A - Intermediate Fluid Mechanics**\n",
    "\n",
    "<hr />"
   ]
  },
  {
   "cell_type": "markdown",
   "metadata": {},
   "source": [
    "# Steady frictional flow through a constant-area duct\n",
    "This notebook demonstrates the use of tools for computing flow through a constant-area duct with frictional effects, also known as **Fanno flow**"
   ]
  },
  {
   "cell_type": "code",
   "execution_count": 3,
   "metadata": {},
   "outputs": [],
   "source": [
    "include(\"src/gasdynamics.jl\")"
   ]
  },
  {
   "cell_type": "code",
   "execution_count": 1,
   "metadata": {},
   "outputs": [],
   "source": [
    "using Plots\n",
    "using LaTeXStrings"
   ]
  },
  {
   "cell_type": "markdown",
   "metadata": {},
   "source": [
    "### Some general aspects of Fanno flow\n",
    "Most calculations with frictional flow involve the relationship between Mach number and the reference length $L^*$, representing the length required from that point to bring the flow to Mach number equal to 1. The relationship is based on the dimensionless parameter\n",
    "\n",
    "$$ \\dfrac{f L^*}{D}$$\n",
    "\n",
    "where $f$ is the Darcy friction factor and $D$ is the duct diameter. Let's plot this relationship for air:"
   ]
  },
  {
   "cell_type": "code",
   "execution_count": 15,
   "metadata": {},
   "outputs": [],
   "source": [
    "Mrange = range(0.1,8,length=801)\n",
    "fLDarray = []\n",
    "for M in Mrange\n",
    "    push!(fLDarray,value(FLStarOverD(MachNumber(M),FannoFlow,gas=Air)))\n",
    "end"
   ]
  },
  {
   "cell_type": "code",
   "execution_count": 19,
   "metadata": {},
   "outputs": [
    {
     "data": {
      "image/svg+xml": [
       "<?xml version=\"1.0\" encoding=\"utf-8\"?>\n",
       "<svg xmlns=\"http://www.w3.org/2000/svg\" xmlns:xlink=\"http://www.w3.org/1999/xlink\" width=\"600\" height=\"400\" viewBox=\"0 0 2400 1600\">\n",
       "<defs>\n",
       "  <clipPath id=\"clip5200\">\n",
       "    <rect x=\"0\" y=\"0\" width=\"2400\" height=\"1600\"/>\n",
       "  </clipPath>\n",
       "</defs>\n",
       "<path clip-path=\"url(#clip5200)\" d=\"\n",
       "M0 1600 L2400 1600 L2400 0 L0 0  Z\n",
       "  \" fill=\"#ffffff\" fill-rule=\"evenodd\" fill-opacity=\"1\"/>\n",
       "<defs>\n",
       "  <clipPath id=\"clip5201\">\n",
       "    <rect x=\"480\" y=\"0\" width=\"1681\" height=\"1600\"/>\n",
       "  </clipPath>\n",
       "</defs>\n",
       "<path clip-path=\"url(#clip5200)\" d=\"\n",
       "M200.265 1425.62 L2352.76 1425.62 L2352.76 47.2441 L200.265 47.2441  Z\n",
       "  \" fill=\"#ffffff\" fill-rule=\"evenodd\" fill-opacity=\"1\"/>\n",
       "<defs>\n",
       "  <clipPath id=\"clip5202\">\n",
       "    <rect x=\"200\" y=\"47\" width=\"2153\" height=\"1379\"/>\n",
       "  </clipPath>\n",
       "</defs>\n",
       "<polyline clip-path=\"url(#clip5202)\" style=\"stroke:#000000; stroke-width:2; stroke-opacity:0.1; fill:none\" points=\"\n",
       "  200.265,1425.62 200.265,47.2441 \n",
       "  \"/>\n",
       "<polyline clip-path=\"url(#clip5202)\" style=\"stroke:#000000; stroke-width:2; stroke-opacity:0.1; fill:none\" points=\"\n",
       "  469.326,1425.62 469.326,47.2441 \n",
       "  \"/>\n",
       "<polyline clip-path=\"url(#clip5202)\" style=\"stroke:#000000; stroke-width:2; stroke-opacity:0.1; fill:none\" points=\"\n",
       "  738.388,1425.62 738.388,47.2441 \n",
       "  \"/>\n",
       "<polyline clip-path=\"url(#clip5202)\" style=\"stroke:#000000; stroke-width:2; stroke-opacity:0.1; fill:none\" points=\"\n",
       "  1007.45,1425.62 1007.45,47.2441 \n",
       "  \"/>\n",
       "<polyline clip-path=\"url(#clip5202)\" style=\"stroke:#000000; stroke-width:2; stroke-opacity:0.1; fill:none\" points=\"\n",
       "  1276.51,1425.62 1276.51,47.2441 \n",
       "  \"/>\n",
       "<polyline clip-path=\"url(#clip5202)\" style=\"stroke:#000000; stroke-width:2; stroke-opacity:0.1; fill:none\" points=\"\n",
       "  1545.57,1425.62 1545.57,47.2441 \n",
       "  \"/>\n",
       "<polyline clip-path=\"url(#clip5202)\" style=\"stroke:#000000; stroke-width:2; stroke-opacity:0.1; fill:none\" points=\"\n",
       "  1814.63,1425.62 1814.63,47.2441 \n",
       "  \"/>\n",
       "<polyline clip-path=\"url(#clip5202)\" style=\"stroke:#000000; stroke-width:2; stroke-opacity:0.1; fill:none\" points=\"\n",
       "  2083.69,1425.62 2083.69,47.2441 \n",
       "  \"/>\n",
       "<polyline clip-path=\"url(#clip5202)\" style=\"stroke:#000000; stroke-width:2; stroke-opacity:0.1; fill:none\" points=\"\n",
       "  2352.76,1425.62 2352.76,47.2441 \n",
       "  \"/>\n",
       "<polyline clip-path=\"url(#clip5202)\" style=\"stroke:#000000; stroke-width:2; stroke-opacity:0.1; fill:none\" points=\"\n",
       "  200.265,1425.62 2352.76,1425.62 \n",
       "  \"/>\n",
       "<polyline clip-path=\"url(#clip5202)\" style=\"stroke:#000000; stroke-width:2; stroke-opacity:0.1; fill:none\" points=\"\n",
       "  200.265,1149.94 2352.76,1149.94 \n",
       "  \"/>\n",
       "<polyline clip-path=\"url(#clip5202)\" style=\"stroke:#000000; stroke-width:2; stroke-opacity:0.1; fill:none\" points=\"\n",
       "  200.265,874.269 2352.76,874.269 \n",
       "  \"/>\n",
       "<polyline clip-path=\"url(#clip5202)\" style=\"stroke:#000000; stroke-width:2; stroke-opacity:0.1; fill:none\" points=\"\n",
       "  200.265,598.594 2352.76,598.594 \n",
       "  \"/>\n",
       "<polyline clip-path=\"url(#clip5202)\" style=\"stroke:#000000; stroke-width:2; stroke-opacity:0.1; fill:none\" points=\"\n",
       "  200.265,322.919 2352.76,322.919 \n",
       "  \"/>\n",
       "<polyline clip-path=\"url(#clip5202)\" style=\"stroke:#000000; stroke-width:2; stroke-opacity:0.1; fill:none\" points=\"\n",
       "  200.265,47.2441 2352.76,47.2441 \n",
       "  \"/>\n",
       "<polyline clip-path=\"url(#clip5200)\" style=\"stroke:#000000; stroke-width:4; stroke-opacity:1; fill:none\" points=\"\n",
       "  200.265,1425.62 2352.76,1425.62 \n",
       "  \"/>\n",
       "<polyline clip-path=\"url(#clip5200)\" style=\"stroke:#000000; stroke-width:4; stroke-opacity:1; fill:none\" points=\"\n",
       "  200.265,1425.62 200.265,47.2441 \n",
       "  \"/>\n",
       "<polyline clip-path=\"url(#clip5200)\" style=\"stroke:#000000; stroke-width:4; stroke-opacity:1; fill:none\" points=\"\n",
       "  200.265,1425.62 200.265,1409.08 \n",
       "  \"/>\n",
       "<polyline clip-path=\"url(#clip5200)\" style=\"stroke:#000000; stroke-width:4; stroke-opacity:1; fill:none\" points=\"\n",
       "  469.326,1425.62 469.326,1409.08 \n",
       "  \"/>\n",
       "<polyline clip-path=\"url(#clip5200)\" style=\"stroke:#000000; stroke-width:4; stroke-opacity:1; fill:none\" points=\"\n",
       "  738.388,1425.62 738.388,1409.08 \n",
       "  \"/>\n",
       "<polyline clip-path=\"url(#clip5200)\" style=\"stroke:#000000; stroke-width:4; stroke-opacity:1; fill:none\" points=\"\n",
       "  1007.45,1425.62 1007.45,1409.08 \n",
       "  \"/>\n",
       "<polyline clip-path=\"url(#clip5200)\" style=\"stroke:#000000; stroke-width:4; stroke-opacity:1; fill:none\" points=\"\n",
       "  1276.51,1425.62 1276.51,1409.08 \n",
       "  \"/>\n",
       "<polyline clip-path=\"url(#clip5200)\" style=\"stroke:#000000; stroke-width:4; stroke-opacity:1; fill:none\" points=\"\n",
       "  1545.57,1425.62 1545.57,1409.08 \n",
       "  \"/>\n",
       "<polyline clip-path=\"url(#clip5200)\" style=\"stroke:#000000; stroke-width:4; stroke-opacity:1; fill:none\" points=\"\n",
       "  1814.63,1425.62 1814.63,1409.08 \n",
       "  \"/>\n",
       "<polyline clip-path=\"url(#clip5200)\" style=\"stroke:#000000; stroke-width:4; stroke-opacity:1; fill:none\" points=\"\n",
       "  2083.69,1425.62 2083.69,1409.08 \n",
       "  \"/>\n",
       "<polyline clip-path=\"url(#clip5200)\" style=\"stroke:#000000; stroke-width:4; stroke-opacity:1; fill:none\" points=\"\n",
       "  2352.76,1425.62 2352.76,1409.08 \n",
       "  \"/>\n",
       "<polyline clip-path=\"url(#clip5200)\" style=\"stroke:#000000; stroke-width:4; stroke-opacity:1; fill:none\" points=\"\n",
       "  200.265,1425.62 226.095,1425.62 \n",
       "  \"/>\n",
       "<polyline clip-path=\"url(#clip5200)\" style=\"stroke:#000000; stroke-width:4; stroke-opacity:1; fill:none\" points=\"\n",
       "  200.265,1149.94 226.095,1149.94 \n",
       "  \"/>\n",
       "<polyline clip-path=\"url(#clip5200)\" style=\"stroke:#000000; stroke-width:4; stroke-opacity:1; fill:none\" points=\"\n",
       "  200.265,874.269 226.095,874.269 \n",
       "  \"/>\n",
       "<polyline clip-path=\"url(#clip5200)\" style=\"stroke:#000000; stroke-width:4; stroke-opacity:1; fill:none\" points=\"\n",
       "  200.265,598.594 226.095,598.594 \n",
       "  \"/>\n",
       "<polyline clip-path=\"url(#clip5200)\" style=\"stroke:#000000; stroke-width:4; stroke-opacity:1; fill:none\" points=\"\n",
       "  200.265,322.919 226.095,322.919 \n",
       "  \"/>\n",
       "<polyline clip-path=\"url(#clip5200)\" style=\"stroke:#000000; stroke-width:4; stroke-opacity:1; fill:none\" points=\"\n",
       "  200.265,47.2441 226.095,47.2441 \n",
       "  \"/>\n",
       "<g clip-path=\"url(#clip5200)\">\n",
       "<text style=\"fill:#000000; fill-opacity:1; font-family:Arial,Helvetica Neue,Helvetica,sans-serif; font-size:48px; text-anchor:middle;\" transform=\"rotate(0, 200.265, 1479.62)\" x=\"200.265\" y=\"1479.62\">0</text>\n",
       "</g>\n",
       "<g clip-path=\"url(#clip5200)\">\n",
       "<text style=\"fill:#000000; fill-opacity:1; font-family:Arial,Helvetica Neue,Helvetica,sans-serif; font-size:48px; text-anchor:middle;\" transform=\"rotate(0, 469.326, 1479.62)\" x=\"469.326\" y=\"1479.62\">1</text>\n",
       "</g>\n",
       "<g clip-path=\"url(#clip5200)\">\n",
       "<text style=\"fill:#000000; fill-opacity:1; font-family:Arial,Helvetica Neue,Helvetica,sans-serif; font-size:48px; text-anchor:middle;\" transform=\"rotate(0, 738.388, 1479.62)\" x=\"738.388\" y=\"1479.62\">2</text>\n",
       "</g>\n",
       "<g clip-path=\"url(#clip5200)\">\n",
       "<text style=\"fill:#000000; fill-opacity:1; font-family:Arial,Helvetica Neue,Helvetica,sans-serif; font-size:48px; text-anchor:middle;\" transform=\"rotate(0, 1007.45, 1479.62)\" x=\"1007.45\" y=\"1479.62\">3</text>\n",
       "</g>\n",
       "<g clip-path=\"url(#clip5200)\">\n",
       "<text style=\"fill:#000000; fill-opacity:1; font-family:Arial,Helvetica Neue,Helvetica,sans-serif; font-size:48px; text-anchor:middle;\" transform=\"rotate(0, 1276.51, 1479.62)\" x=\"1276.51\" y=\"1479.62\">4</text>\n",
       "</g>\n",
       "<g clip-path=\"url(#clip5200)\">\n",
       "<text style=\"fill:#000000; fill-opacity:1; font-family:Arial,Helvetica Neue,Helvetica,sans-serif; font-size:48px; text-anchor:middle;\" transform=\"rotate(0, 1545.57, 1479.62)\" x=\"1545.57\" y=\"1479.62\">5</text>\n",
       "</g>\n",
       "<g clip-path=\"url(#clip5200)\">\n",
       "<text style=\"fill:#000000; fill-opacity:1; font-family:Arial,Helvetica Neue,Helvetica,sans-serif; font-size:48px; text-anchor:middle;\" transform=\"rotate(0, 1814.63, 1479.62)\" x=\"1814.63\" y=\"1479.62\">6</text>\n",
       "</g>\n",
       "<g clip-path=\"url(#clip5200)\">\n",
       "<text style=\"fill:#000000; fill-opacity:1; font-family:Arial,Helvetica Neue,Helvetica,sans-serif; font-size:48px; text-anchor:middle;\" transform=\"rotate(0, 2083.69, 1479.62)\" x=\"2083.69\" y=\"1479.62\">7</text>\n",
       "</g>\n",
       "<g clip-path=\"url(#clip5200)\">\n",
       "<text style=\"fill:#000000; fill-opacity:1; font-family:Arial,Helvetica Neue,Helvetica,sans-serif; font-size:48px; text-anchor:middle;\" transform=\"rotate(0, 2352.76, 1479.62)\" x=\"2352.76\" y=\"1479.62\">8</text>\n",
       "</g>\n",
       "<g clip-path=\"url(#clip5200)\">\n",
       "<text style=\"fill:#000000; fill-opacity:1; font-family:Arial,Helvetica Neue,Helvetica,sans-serif; font-size:48px; text-anchor:end;\" transform=\"rotate(0, 176.265, 1443.12)\" x=\"176.265\" y=\"1443.12\">0</text>\n",
       "</g>\n",
       "<g clip-path=\"url(#clip5200)\">\n",
       "<text style=\"fill:#000000; fill-opacity:1; font-family:Arial,Helvetica Neue,Helvetica,sans-serif; font-size:48px; text-anchor:end;\" transform=\"rotate(0, 176.265, 1167.44)\" x=\"176.265\" y=\"1167.44\">2</text>\n",
       "</g>\n",
       "<g clip-path=\"url(#clip5200)\">\n",
       "<text style=\"fill:#000000; fill-opacity:1; font-family:Arial,Helvetica Neue,Helvetica,sans-serif; font-size:48px; text-anchor:end;\" transform=\"rotate(0, 176.265, 891.769)\" x=\"176.265\" y=\"891.769\">4</text>\n",
       "</g>\n",
       "<g clip-path=\"url(#clip5200)\">\n",
       "<text style=\"fill:#000000; fill-opacity:1; font-family:Arial,Helvetica Neue,Helvetica,sans-serif; font-size:48px; text-anchor:end;\" transform=\"rotate(0, 176.265, 616.094)\" x=\"176.265\" y=\"616.094\">6</text>\n",
       "</g>\n",
       "<g clip-path=\"url(#clip5200)\">\n",
       "<text style=\"fill:#000000; fill-opacity:1; font-family:Arial,Helvetica Neue,Helvetica,sans-serif; font-size:48px; text-anchor:end;\" transform=\"rotate(0, 176.265, 340.419)\" x=\"176.265\" y=\"340.419\">8</text>\n",
       "</g>\n",
       "<g clip-path=\"url(#clip5200)\">\n",
       "<text style=\"fill:#000000; fill-opacity:1; font-family:Arial,Helvetica Neue,Helvetica,sans-serif; font-size:48px; text-anchor:end;\" transform=\"rotate(0, 176.265, 64.7441)\" x=\"176.265\" y=\"64.7441\">10</text>\n",
       "</g>\n",
       "<g clip-path=\"url(#clip5200)\">\n",
       "<text style=\"fill:#000000; fill-opacity:1; font-family:Arial,Helvetica Neue,Helvetica,sans-serif; font-size:66px; text-anchor:middle;\" transform=\"rotate(0, 1276.51, 1559.48)\" x=\"1276.51\" y=\"1559.48\">Mach number</text>\n",
       "</g>\n",
       "<g clip-path=\"url(#clip5200)\">\n",
       "<image width=\"66\" height=\"196\" xlink:href=\"data:image/png;base64,\n",
       "iVBORw0KGgoAAAANSUhEUgAAAEIAAADECAYAAAArvfctAAAKPklEQVR4nO1d4XGjOhDevLkCZJcg\n",
       "d8C5BLkDJyVwqYBJCeQqwCkBXwWYEogrwC5B0MG+H4eITAQGIyHg+GZ2cmcnID5WK2m12n1CRNCF\n",
       "LMuQcw55ngMAACEENpvNk7YbGMSPPn98Op0wjmOI4xjO53PdryEhBLbbLTiOAy8vL/Dz58/xkYOI\n",
       "nYRzjr7vIyEEAeAhoZSi53mYJAl2vb8p6fTLQRA8/PBNpIRhaJ2Q1lrAGNNOgiyO42AURdYIafVL\n",
       "juMYJUEWxhimaTo4IU+IzaPGbrfDOI6V3xFCgDEG6/UaKKUAACBGDc45nM9nuF6vjdevu24YhrDb\n",
       "7YYzqk0seZ6nfGu+73d6a0mSYBAE6LoudtEuz/MG04zaL9I0/dYw13WRc967cZxzDIIA9/t9q66i\n",
       "454PE1FtpO/7RhojSKGUNhpSa0TYUNEoimq7DmPMaBuUH4ZhOOjbUBGi0pD9fm+sLcoPXdctb25z\n",
       "bFcZa1PaqfxQqCel1BoJsnZUyTDxcpQfCrV0Xdc6EYh/h195bWPiBak/LG44hjWAkOpwrruLNBIx\n",
       "ptUh4q0RBwCtU/FGImzM+e+JbMh1DqmNRAwxo3tE5KFV18v6r8OyZDQIgqD89+/fv/VcdIoagfg1\n",
       "xBNC/l2NAAB4e3sDAIA8z+Hz87PZl9ACkyXi+fm59FXU+Uu6YLJEAADs93sAAEiSpPe1Jk3EdrsF\n",
       "AGjaSmiNSRPhOA4A/HUP9kUjETpuYBLCTyp21vqgkQgdRsgk1uu1vos1zSOgcIaEYTjaOYVoZ9/r\n",
       "KN35T09PynGZUgqMsVJWq5X1PUzRVkTs1ZZORFRBKQXHcUpibOx8j4KIKsSGz5DEjJKIKoYgRhcR\n",
       "d42lzn1PQggyxtD3fW1OH9BkLBsvLrvqkiRB3/e174r3JWYQIpqcHjIxfYJG+hKji4hGG5Gmaet+\n",
       "/fn5iXEcQ5IkEMexltkeAABjrByZqrvjWZahmFQZNZac84fnCpfLpYyv0kmMPFzneQ4vLy8AYMhY\n",
       "ClXXOZtM07TcAdfZlUBT11B+6Hme8U1X3cQYsRE2ILrS+XyGOI47R9oYsRFjQJZlNzbmHjGzJaKK\n",
       "e8QYMZZTkCiKbmyLEWM5FfF9XxsRk/ZZMsa0XWvSRAifpQ5MmgidmMyoUQdd/ojJawQhRMt1eh1c\n",
       "GQPiONay/zL5rqELk+8aurAQUWAhosBCRIGFiAL/ZVmGu90On5+f8Xg8/rtDiOoIo+u6VqPybUjj\n",
       "UUZCCHqeN8oIXO1EiH+II0V1W3yO46Dv+6ONk9BGhCxpmqLnebXeZcbYqCL3jREhS5Ik6LpuLSn7\n",
       "/X4W9qTTL4dhOFt78tAf3bMnlNLJ2ZPeF0jTFH3frz23yRjDIAhGT4jWi03Znhi7cBRFtUeeCSHo\n",
       "uu6ojkoNcpMgCGqNrLAnto3soDcTaVnq7InjOBgEgRUja+0NJEnSOGkTEb+zJ0KWMdgT6yRUpWnS\n",
       "JrIVmbAn1h+8ToQ9aVoE6rQn1h+4jQyxCLT+kF1FTNpUhAin0iP2xPqD9RGdi0DrD6NDdDiVrD+E\n",
       "bhH2pGkRqLIn1htuUrosAq03dihpmrTt93v7DRxaVPaEUor/dFiAiN1kjC3xEQLL3meBhYgCCxEF\n",
       "FiIKLEQUWIgosBBRYCGiwEJEgYWIArVEXC4XPBwOmGVZ7Rz8cDjg6XSaxxy9bpUmHBt15z/lY0S2\n",
       "t+t0SO0Xsi9Q5QyVnR2zJkLOKFpN+SrnoTWVL3s0RCDeqr/s+BTaYiNVtBUiEL/SJYo3L2vKHLpE\n",
       "ayLEg4u8kSJX9Vy6RGsiEL+6SBAESAiZVZcQUrrqDocDiiyAlFKglAIhBCilsF6vgTFWZglMkgQI\n",
       "IZDnOVyvV+Ccw/V6hev1Cuv1Gg6Hg/VEXZ2B+NezCzV7iY/IFKNyfwAArFarJ0opihP4siYIzZBL\n",
       "UHmeV1ZVuV6vpWYIiPSKk4LMSt3eYJIkXxshUJ+lfEoBplVp9Utius05LzdGxhQaOAgRYrgUtS1E\n",
       "2vYxVFoYjAjRJaoaINYZQxYLskqE6BLVty9PvefSRWq/kKudVIPK5eF2Ll2k9ot7+VvkOKY5aEXt\n",
       "FyJUuO6IAeccKaXGE3cNJctueIHFeVtgIaLAQkSBhYgCCxEFRpFs59evX0gIsVtB2vb4jXhbUtPW\n",
       "GS/rJAhJ0/Rb1P2QZ7ysE6ASVYC56TNe1h+6SVSFUE2d8bL+sG01RCZDJsXzPC1dx/pDtpUkSWqP\n",
       "HuhwBUxq0ZVlGVJKlcnG0UT2wvf3dzwcDqNjaLVaPYnNJe1QqQkhRFuNvKFshpGusVqtMM/z3upm\n",
       "EpvNBuVNJSNdYwqQS13qQKNG9KmmMATkEjn/rEYADJgOumsi/6EhqjvqwKRL2A2WF/vj4wOaAk5t\n",
       "Q2ctv7tdY7vdwvv7O+ooN6sbOjWicdRQQS5AZs2bJMFo5bYmIqqwTcxoiKhiaGJGS0QVcjmpap0t\n",
       "HTBay0/eCdddSspxHPQ8T1uqNtC06GokQuyEc84xDEN0XbfWOWKLmEGIqHOpD0VMGxfcIES09QWa\n",
       "JIZSiq7rKusSy5E7fYkw4o/IsgxFcUM5UFUH5LrEnHN4fX0FAMOjRt+LyzidTmiCGIHebVWpyRC1\n",
       "/KIoQs/ztFWYNdI1bEBojKjl1xVGusYYIAqpCrmH2RJRxT1ijNiIKUjVpd/3etYfqI/I0cF9rzVp\n",
       "562oB6wDkyZiqeVnAJMZNeqw1PIrsNTyKxCGoZbi7JPvGrow+a6hCwsRBRYiCtQScTwecbfb4Waz\n",
       "wefn5/kk1amDat4tH2eUZW45IxoXXeLQa91+xpTPf3dadL29vQEhBMIwVGrQ2GMmHsY3FYGvo84q\n",
       "f2LbGOgoiiaVg+bmP2KfQETBc85vcklX0zA1Xhhg1LGaVbmZYhcRdGX84mq1ejoejw9rm66N5CHw\n",
       "bYq92WxQZArpE1qobZd6IHwzlq7rQp7nQCmF2c8dJNyNjyCE3AR/bDabVm94ahqhJOJ4PGKTP9Bx\n",
       "HNhut+VPVWTMLIgAuE9GFZTSkhhKaelYnTwRAH+Te76+vvaaRDHGbjSobdcaGq0cM6fTCT8+PuDP\n",
       "nz9ablrtWpRS68HvnT1UYustSRI4n8/a4rXlriV+DklOb1edCAo5n88ggkN0TaQIITfEGO1aJqar\n",
       "1eyoumIghIg4K1U40aNizHmrGj4vlwsKzRE/dWiPOGAv5joPdSlTixhouTnLOccoitD3fWSMaYnr\n",
       "fKSk3aAa0RZVu9PHKLuuC57n3bcttjWiiyRJgkEQPGR37h2dHqVGdEEXu0MphSiK1NphSiOCILDm\n",
       "7JUDYFU2RxXuPHgjbYgo8i5IIYR8cyNab+TQIsKNqpmcrTfMJhmyI3r2W36fn594OBzwcrmUo8Lb\n",
       "2xsA/E1rXcL22zEp1R072QsPlZ076401KaoRIwgCFLt58ugx60AR1dm0/X4PeZ5DkiSQZdnXfML2\n",
       "WzMpckBqVapzHOuNNS2qKtKq7M2z7hoCp9MJz+czcM5r8+H9D40XtUR82j/IAAAAAElFTkSuQmCC\n",
       "\" transform=\"translate(31, 638)\"/>\n",
       "</g>\n",
       "<polyline clip-path=\"url(#clip5202)\" style=\"stroke:#009af9; stroke-width:4; stroke-opacity:1; fill:none\" points=\"\n",
       "  227.171,-7798.68 229.828,-6130.68 232.485,-4861.39 235.142,-3873.81 237.799,-3090.89 240.456,-2460.16 243.113,-1944.95 245.77,-1518.97 248.427,-1162.99 251.084,-862.685 \n",
       "  253.741,-607.198 256.398,-388.193 259.055,-199.176 261.712,-35.0311 264.369,108.317 267.026,234.146 269.683,345.117 272.34,443.404 274.997,530.805 277.654,608.809 \n",
       "  280.311,678.663 282.968,741.414 285.625,797.949 288.282,849.021 290.939,895.275 293.596,937.264 296.252,975.464 298.909,1010.29 301.566,1042.1 304.223,1071.2 \n",
       "  306.88,1097.88 309.537,1122.36 312.194,1144.88 314.851,1165.6 317.508,1184.7 320.165,1202.33 322.822,1218.62 325.479,1233.68 328.136,1247.63 330.793,1260.55 \n",
       "  333.45,1272.53 336.107,1283.65 338.764,1293.97 341.421,1303.57 344.078,1312.49 346.735,1320.8 349.392,1328.52 352.049,1335.72 354.706,1342.42 357.363,1348.67 \n",
       "  360.02,1354.49 362.677,1359.91 365.334,1364.97 367.991,1369.69 370.648,1374.09 373.305,1378.19 375.962,1382.01 378.619,1385.58 381.276,1388.9 383.933,1391.99 \n",
       "  386.59,1394.87 389.247,1397.56 391.904,1400.05 394.561,1402.38 397.218,1404.53 399.875,1406.54 402.532,1408.39 405.189,1410.11 407.846,1411.71 410.503,1413.18 \n",
       "  413.16,1414.54 415.817,1415.79 418.474,1416.94 421.131,1418 423.788,1418.97 426.445,1419.85 429.102,1420.65 431.759,1421.38 434.416,1422.03 437.072,1422.62 \n",
       "  439.729,1423.15 442.386,1423.61 445.043,1424.02 447.7,1424.38 450.357,1424.68 453.014,1424.94 455.671,1425.15 458.328,1425.32 460.985,1425.45 463.642,1425.54 \n",
       "  466.299,1425.6 468.956,1425.62 471.613,1425.61 474.27,1425.57 476.927,1425.49 479.584,1425.4 482.241,1425.27 484.898,1425.12 487.555,1424.95 490.212,1424.76 \n",
       "  492.869,1424.55 495.526,1424.31 498.183,1424.06 500.84,1423.79 503.497,1423.51 506.154,1423.21 508.811,1422.9 511.468,1422.57 514.125,1422.23 516.782,1421.87 \n",
       "  519.439,1421.51 522.096,1421.13 524.753,1420.75 527.41,1420.35 530.067,1419.95 532.724,1419.54 535.381,1419.12 538.038,1418.69 540.695,1418.26 543.352,1417.82 \n",
       "  546.009,1417.37 548.666,1416.92 551.323,1416.46 553.98,1416 556.637,1415.54 559.294,1415.07 561.951,1414.59 564.608,1414.12 567.265,1413.64 569.922,1413.16 \n",
       "  572.579,1412.67 575.236,1412.19 577.892,1411.7 580.549,1411.21 583.206,1410.72 585.863,1410.22 588.52,1409.73 591.177,1409.23 593.834,1408.74 596.491,1408.24 \n",
       "  599.148,1407.75 601.805,1407.25 604.462,1406.75 607.119,1406.26 609.776,1405.76 612.433,1405.26 615.09,1404.77 617.747,1404.27 620.404,1403.78 623.061,1403.29 \n",
       "  625.718,1402.79 628.375,1402.3 631.032,1401.81 633.689,1401.32 636.346,1400.83 639.003,1400.35 641.66,1399.86 644.317,1399.38 646.974,1398.9 649.631,1398.42 \n",
       "  652.288,1397.94 654.945,1397.46 657.602,1396.99 660.259,1396.51 662.916,1396.04 665.573,1395.57 668.23,1395.11 670.887,1394.64 673.544,1394.18 676.201,1393.72 \n",
       "  678.858,1393.26 681.515,1392.8 684.172,1392.35 686.829,1391.89 689.486,1391.44 692.143,1391 694.8,1390.55 697.457,1390.11 700.114,1389.67 702.771,1389.23 \n",
       "  705.428,1388.79 708.085,1388.36 710.742,1387.93 713.399,1387.5 716.056,1387.07 718.712,1386.65 721.369,1386.22 724.026,1385.8 726.683,1385.39 729.34,1384.97 \n",
       "  731.997,1384.56 734.654,1384.15 737.311,1383.74 739.968,1383.34 742.625,1382.94 745.282,1382.54 747.939,1382.14 750.596,1381.74 753.253,1381.35 755.91,1380.96 \n",
       "  758.567,1380.57 761.224,1380.19 763.881,1379.8 766.538,1379.42 769.195,1379.05 771.852,1378.67 774.509,1378.3 777.166,1377.93 779.823,1377.56 782.48,1377.19 \n",
       "  785.137,1376.83 787.794,1376.47 790.451,1376.11 793.108,1375.75 795.765,1375.4 798.422,1375.04 801.079,1374.69 803.736,1374.35 806.393,1374 809.05,1373.66 \n",
       "  811.707,1373.32 814.364,1372.98 817.021,1372.64 819.678,1372.31 822.335,1371.98 824.992,1371.65 827.649,1371.32 830.306,1371 832.963,1370.67 835.62,1370.35 \n",
       "  838.277,1370.04 840.934,1369.72 843.591,1369.4 846.248,1369.09 848.905,1368.78 851.562,1368.48 854.219,1368.17 856.876,1367.87 859.532,1367.56 862.189,1367.26 \n",
       "  864.846,1366.97 867.503,1366.67 870.16,1366.38 872.817,1366.09 875.474,1365.8 878.131,1365.51 880.788,1365.22 883.445,1364.94 886.102,1364.66 888.759,1364.38 \n",
       "  891.416,1364.1 894.073,1363.83 896.73,1363.55 899.387,1363.28 902.044,1363.01 904.701,1362.74 907.358,1362.47 910.015,1362.21 912.672,1361.95 915.329,1361.69 \n",
       "  917.986,1361.43 920.643,1361.17 923.3,1360.91 925.957,1360.66 928.614,1360.41 931.271,1360.15 933.928,1359.91 936.585,1359.66 939.242,1359.41 941.899,1359.17 \n",
       "  944.556,1358.93 947.213,1358.69 949.87,1358.45 952.527,1358.21 955.184,1357.97 957.841,1357.74 960.498,1357.51 963.155,1357.28 965.812,1357.05 968.469,1356.82 \n",
       "  971.126,1356.59 973.783,1356.37 976.44,1356.14 979.097,1355.92 981.754,1355.7 984.411,1355.48 987.068,1355.27 989.725,1355.05 992.382,1354.83 995.039,1354.62 \n",
       "  997.696,1354.41 1000.35,1354.2 1003.01,1353.99 1005.67,1353.78 1008.32,1353.58 1010.98,1353.37 1013.64,1353.17 1016.29,1352.97 1018.95,1352.77 1021.61,1352.57 \n",
       "  1024.27,1352.37 1026.92,1352.17 1029.58,1351.98 1032.24,1351.78 1034.89,1351.59 1037.55,1351.4 1040.21,1351.21 1042.86,1351.02 1045.52,1350.83 1048.18,1350.65 \n",
       "  1050.84,1350.46 1053.49,1350.28 1056.15,1350.1 1058.81,1349.91 1061.46,1349.73 1064.12,1349.55 1066.78,1349.38 1069.43,1349.2 1072.09,1349.02 1074.75,1348.85 \n",
       "  1077.4,1348.68 1080.06,1348.5 1082.72,1348.33 1085.38,1348.16 1088.03,1347.99 1090.69,1347.82 1093.35,1347.66 1096,1347.49 1098.66,1347.33 1101.32,1347.16 \n",
       "  1103.97,1347 1106.63,1346.84 1109.29,1346.68 1111.95,1346.52 1114.6,1346.36 1117.26,1346.2 1119.92,1346.05 1122.57,1345.89 1125.23,1345.74 1127.89,1345.58 \n",
       "  1130.54,1345.43 1133.2,1345.28 1135.86,1345.13 1138.52,1344.98 1141.17,1344.83 1143.83,1344.68 1146.49,1344.54 1149.14,1344.39 1151.8,1344.25 1154.46,1344.1 \n",
       "  1157.11,1343.96 1159.77,1343.82 1162.43,1343.68 1165.09,1343.54 1167.74,1343.4 1170.4,1343.26 1173.06,1343.12 1175.71,1342.98 1178.37,1342.85 1181.03,1342.71 \n",
       "  1183.68,1342.58 1186.34,1342.44 1189,1342.31 1191.66,1342.18 1194.31,1342.05 1196.97,1341.92 1199.63,1341.79 1202.28,1341.66 1204.94,1341.53 1207.6,1341.4 \n",
       "  1210.25,1341.28 1212.91,1341.15 1215.57,1341.03 1218.22,1340.9 1220.88,1340.78 1223.54,1340.66 1226.2,1340.53 1228.85,1340.41 1231.51,1340.29 1234.17,1340.17 \n",
       "  1236.82,1340.05 1239.48,1339.94 1242.14,1339.82 1244.79,1339.7 1247.45,1339.58 1250.11,1339.47 1252.77,1339.35 1255.42,1339.24 1258.08,1339.13 1260.74,1339.01 \n",
       "  1263.39,1338.9 1266.05,1338.79 1268.71,1338.68 1271.36,1338.57 1274.02,1338.46 1276.68,1338.35 1279.34,1338.24 1281.99,1338.14 1284.65,1338.03 1287.31,1337.92 \n",
       "  1289.96,1337.82 1292.62,1337.71 1295.28,1337.61 1297.93,1337.5 1300.59,1337.4 1303.25,1337.3 1305.91,1337.2 1308.56,1337.09 1311.22,1336.99 1313.88,1336.89 \n",
       "  1316.53,1336.79 1319.19,1336.7 1321.85,1336.6 1324.5,1336.5 1327.16,1336.4 1329.82,1336.3 1332.48,1336.21 1335.13,1336.11 1337.79,1336.02 1340.45,1335.92 \n",
       "  1343.1,1335.83 1345.76,1335.73 1348.42,1335.64 1351.07,1335.55 1353.73,1335.46 1356.39,1335.37 1359.04,1335.27 1361.7,1335.18 1364.36,1335.09 1367.02,1335.01 \n",
       "  1369.67,1334.92 1372.33,1334.83 1374.99,1334.74 1377.64,1334.65 1380.3,1334.57 1382.96,1334.48 1385.61,1334.39 1388.27,1334.31 1390.93,1334.22 1393.59,1334.14 \n",
       "  1396.24,1334.05 1398.9,1333.97 1401.56,1333.89 1404.21,1333.8 1406.87,1333.72 1409.53,1333.64 1412.18,1333.56 1414.84,1333.48 1417.5,1333.4 1420.16,1333.32 \n",
       "  1422.81,1333.24 1425.47,1333.16 1428.13,1333.08 1430.78,1333 1433.44,1332.92 1436.1,1332.85 1438.75,1332.77 1441.41,1332.69 1444.07,1332.62 1446.73,1332.54 \n",
       "  1449.38,1332.46 1452.04,1332.39 1454.7,1332.32 1457.35,1332.24 1460.01,1332.17 1462.67,1332.09 1465.32,1332.02 1467.98,1331.95 1470.64,1331.88 1473.3,1331.8 \n",
       "  1475.95,1331.73 1478.61,1331.66 1481.27,1331.59 1483.92,1331.52 1486.58,1331.45 1489.24,1331.38 1491.89,1331.31 1494.55,1331.24 1497.21,1331.17 1499.86,1331.11 \n",
       "  1502.52,1331.04 1505.18,1330.97 1507.84,1330.9 1510.49,1330.84 1513.15,1330.77 1515.81,1330.7 1518.46,1330.64 1521.12,1330.57 1523.78,1330.51 1526.43,1330.44 \n",
       "  1529.09,1330.38 1531.75,1330.31 1534.41,1330.25 1537.06,1330.19 1539.72,1330.12 1542.38,1330.06 1545.03,1330 1547.69,1329.94 1550.35,1329.88 1553,1329.81 \n",
       "  1555.66,1329.75 1558.32,1329.69 1560.98,1329.63 1563.63,1329.57 1566.29,1329.51 1568.95,1329.45 1571.6,1329.39 1574.26,1329.33 1576.92,1329.27 1579.57,1329.22 \n",
       "  1582.23,1329.16 1584.89,1329.1 1587.55,1329.04 1590.2,1328.98 1592.86,1328.93 1595.52,1328.87 1598.17,1328.81 1600.83,1328.76 1603.49,1328.7 1606.14,1328.65 \n",
       "  1608.8,1328.59 1611.46,1328.54 1614.12,1328.48 1616.77,1328.43 1619.43,1328.37 1622.09,1328.32 1624.74,1328.26 1627.4,1328.21 1630.06,1328.16 1632.71,1328.1 \n",
       "  1635.37,1328.05 1638.03,1328 1640.68,1327.95 1643.34,1327.9 1646,1327.84 1648.66,1327.79 1651.31,1327.74 1653.97,1327.69 1656.63,1327.64 1659.28,1327.59 \n",
       "  1661.94,1327.54 1664.6,1327.49 1667.25,1327.44 1669.91,1327.39 1672.57,1327.34 1675.23,1327.29 1677.88,1327.24 1680.54,1327.19 1683.2,1327.15 1685.85,1327.1 \n",
       "  1688.51,1327.05 1691.17,1327 1693.82,1326.95 1696.48,1326.91 1699.14,1326.86 1701.8,1326.81 1704.45,1326.77 1707.11,1326.72 1709.77,1326.67 1712.42,1326.63 \n",
       "  1715.08,1326.58 1717.74,1326.54 1720.39,1326.49 1723.05,1326.45 1725.71,1326.4 1728.37,1326.36 1731.02,1326.31 1733.68,1326.27 1736.34,1326.23 1738.99,1326.18 \n",
       "  1741.65,1326.14 1744.31,1326.09 1746.96,1326.05 1749.62,1326.01 1752.28,1325.97 1754.94,1325.92 1757.59,1325.88 1760.25,1325.84 1762.91,1325.8 1765.56,1325.75 \n",
       "  1768.22,1325.71 1770.88,1325.67 1773.53,1325.63 1776.19,1325.59 1778.85,1325.55 1781.5,1325.51 1784.16,1325.47 1786.82,1325.43 1789.48,1325.39 1792.13,1325.35 \n",
       "  1794.79,1325.31 1797.45,1325.27 1800.1,1325.23 1802.76,1325.19 1805.42,1325.15 1808.07,1325.11 1810.73,1325.07 1813.39,1325.03 1816.05,1324.99 1818.7,1324.96 \n",
       "  1821.36,1324.92 1824.02,1324.88 1826.67,1324.84 1829.33,1324.8 1831.99,1324.77 1834.64,1324.73 1837.3,1324.69 1839.96,1324.66 1842.62,1324.62 1845.27,1324.58 \n",
       "  1847.93,1324.55 1850.59,1324.51 1853.24,1324.47 1855.9,1324.44 1858.56,1324.4 1861.21,1324.37 1863.87,1324.33 1866.53,1324.3 1869.19,1324.26 1871.84,1324.23 \n",
       "  1874.5,1324.19 1877.16,1324.16 1879.81,1324.12 1882.47,1324.09 1885.13,1324.05 1887.78,1324.02 1890.44,1323.98 1893.1,1323.95 1895.76,1323.92 1898.41,1323.88 \n",
       "  1901.07,1323.85 1903.73,1323.82 1906.38,1323.78 1909.04,1323.75 1911.7,1323.72 1914.35,1323.68 1917.01,1323.65 1919.67,1323.62 1922.32,1323.59 1924.98,1323.55 \n",
       "  1927.64,1323.52 1930.3,1323.49 1932.95,1323.46 1935.61,1323.43 1938.27,1323.4 1940.92,1323.36 1943.58,1323.33 1946.24,1323.3 1948.89,1323.27 1951.55,1323.24 \n",
       "  1954.21,1323.21 1956.87,1323.18 1959.52,1323.15 1962.18,1323.12 1964.84,1323.09 1967.49,1323.06 1970.15,1323.03 1972.81,1323 1975.46,1322.97 1978.12,1322.94 \n",
       "  1980.78,1322.91 1983.44,1322.88 1986.09,1322.85 1988.75,1322.82 1991.41,1322.79 1994.06,1322.76 1996.72,1322.73 1999.38,1322.71 2002.03,1322.68 2004.69,1322.65 \n",
       "  2007.35,1322.62 2010.01,1322.59 2012.66,1322.56 2015.32,1322.54 2017.98,1322.51 2020.63,1322.48 2023.29,1322.45 2025.95,1322.43 2028.6,1322.4 2031.26,1322.37 \n",
       "  2033.92,1322.34 2036.58,1322.32 2039.23,1322.29 2041.89,1322.26 2044.55,1322.24 2047.2,1322.21 2049.86,1322.18 2052.52,1322.16 2055.17,1322.13 2057.83,1322.1 \n",
       "  2060.49,1322.08 2063.14,1322.05 2065.8,1322.03 2068.46,1322 2071.12,1321.97 2073.77,1321.95 2076.43,1321.92 2079.09,1321.9 2081.74,1321.87 2084.4,1321.85 \n",
       "  2087.06,1321.82 2089.71,1321.8 2092.37,1321.77 2095.03,1321.75 2097.69,1321.72 2100.34,1321.7 2103,1321.67 2105.66,1321.65 2108.31,1321.62 2110.97,1321.6 \n",
       "  2113.63,1321.58 2116.28,1321.55 2118.94,1321.53 2121.6,1321.5 2124.26,1321.48 2126.91,1321.46 2129.57,1321.43 2132.23,1321.41 2134.88,1321.39 2137.54,1321.36 \n",
       "  2140.2,1321.34 2142.85,1321.32 2145.51,1321.29 2148.17,1321.27 2150.83,1321.25 2153.48,1321.23 2156.14,1321.2 2158.8,1321.18 2161.45,1321.16 2164.11,1321.13 \n",
       "  2166.77,1321.11 2169.42,1321.09 2172.08,1321.07 2174.74,1321.05 2177.4,1321.02 2180.05,1321 2182.71,1320.98 2185.37,1320.96 2188.02,1320.94 2190.68,1320.91 \n",
       "  2193.34,1320.89 2195.99,1320.87 2198.65,1320.85 2201.31,1320.83 2203.96,1320.81 2206.62,1320.79 2209.28,1320.77 2211.94,1320.74 2214.59,1320.72 2217.25,1320.7 \n",
       "  2219.91,1320.68 2222.56,1320.66 2225.22,1320.64 2227.88,1320.62 2230.53,1320.6 2233.19,1320.58 2235.85,1320.56 2238.51,1320.54 2241.16,1320.52 2243.82,1320.5 \n",
       "  2246.48,1320.48 2249.13,1320.46 2251.79,1320.44 2254.45,1320.42 2257.1,1320.4 2259.76,1320.38 2262.42,1320.36 2265.08,1320.34 2267.73,1320.32 2270.39,1320.3 \n",
       "  2273.05,1320.28 2275.7,1320.26 2278.36,1320.24 2281.02,1320.22 2283.67,1320.21 2286.33,1320.19 2288.99,1320.17 2291.65,1320.15 2294.3,1320.13 2296.96,1320.11 \n",
       "  2299.62,1320.09 2302.27,1320.07 2304.93,1320.06 2307.59,1320.04 2310.24,1320.02 2312.9,1320 2315.56,1319.98 2318.22,1319.96 2320.87,1319.95 2323.53,1319.93 \n",
       "  2326.19,1319.91 2328.84,1319.89 2331.5,1319.87 2334.16,1319.86 2336.81,1319.84 2339.47,1319.82 2342.13,1319.8 2344.78,1319.79 2347.44,1319.77 2350.1,1319.75 \n",
       "  2352.76,1319.73 \n",
       "  \"/>\n",
       "</svg>\n"
      ]
     },
     "execution_count": 19,
     "metadata": {},
     "output_type": "execute_result"
    }
   ],
   "source": [
    "plot(Mrange,fLDarray,xlim=(0,8),ylim=(0,10),xticks=0:1:8,xlabel=\"Mach number\",ylabel=L\"fL^*/D\",legend=false)"
   ]
  },
  {
   "cell_type": "markdown",
   "metadata": {},
   "source": [
    "Notice that the reference length goes to zero at Mach number 1, as it should, by its definition. It should also be noted that there are a few values of $fL^*/D$ for which there are two possible Mach numbers---one subsonic and one supersonic. This is analogous to the situation in isentropic flow with area changes."
   ]
  },
  {
   "cell_type": "markdown",
   "metadata": {},
   "source": [
    "### Example 1\n",
    "Flow enters a duct of diameter 2 cm at Mach number equal to 0.1 and leaves at Mach number equal to 0.5. Assume that the friction factor is equal to 0.024 throughout.\n",
    "\n",
    "(a) What is the length of the duct?\n",
    "\n",
    "(b) How much longer would the duct have to be to reach Mach number equal to 1 at the exit?"
   ]
  },
  {
   "cell_type": "markdown",
   "metadata": {},
   "source": [
    "First, we use $M_1 = 0.1$ to calculate $f L_1^*/D$. We will do the same with $M_2$ to calculate $f L_2^*/D$. The actual length $L$ is given by the difference between $L_1^*$ and $L_2^*$."
   ]
  },
  {
   "cell_type": "code",
   "execution_count": 8,
   "metadata": {},
   "outputs": [
    {
     "data": {
      "text/plain": [
       "Diameter = 0.02 Meters"
      ]
     },
     "execution_count": 8,
     "metadata": {},
     "output_type": "execute_result"
    }
   ],
   "source": [
    "f = FrictionFactor(0.024)\n",
    "D = Diameter(2,units=CM)"
   ]
  },
  {
   "cell_type": "code",
   "execution_count": 9,
   "metadata": {},
   "outputs": [
    {
     "data": {
      "text/plain": [
       "FLOverD = 66.9216 "
      ]
     },
     "execution_count": 9,
     "metadata": {},
     "output_type": "execute_result"
    }
   ],
   "source": [
    "M1 = MachNumber(0.1)\n",
    "fL1star_over_D = FLStarOverD(M1,FannoFlow)"
   ]
  },
  {
   "cell_type": "code",
   "execution_count": 10,
   "metadata": {},
   "outputs": [
    {
     "data": {
      "text/plain": [
       "FLOverD = 1.06906 "
      ]
     },
     "execution_count": 10,
     "metadata": {},
     "output_type": "execute_result"
    }
   ],
   "source": [
    "M2 = MachNumber(0.5)\n",
    "fL2star_over_D = FLStarOverD(M2,FannoFlow)"
   ]
  },
  {
   "cell_type": "markdown",
   "metadata": {},
   "source": [
    "Now calculate $L_1^*$ and $L_2^*$, and $L$ from their difference:"
   ]
  },
  {
   "cell_type": "code",
   "execution_count": 13,
   "metadata": {},
   "outputs": [
    {
     "data": {
      "text/plain": [
       "Length = 54.8771 Meters"
      ]
     },
     "execution_count": 13,
     "metadata": {},
     "output_type": "execute_result"
    }
   ],
   "source": [
    "L1star = Length(fL1star_over_D*D/f)\n",
    "L2star = Length(fL2star_over_D*D/f)\n",
    "L = Length(L1star-L2star)"
   ]
  },
  {
   "cell_type": "markdown",
   "metadata": {},
   "source": [
    "The additional length needed to bring the flow to Mach number 1 is, by definition, $L_2^*$:"
   ]
  },
  {
   "cell_type": "code",
   "execution_count": 14,
   "metadata": {},
   "outputs": [
    {
     "data": {
      "text/plain": [
       "Length = 0.890884 Meters"
      ]
     },
     "execution_count": 14,
     "metadata": {},
     "output_type": "execute_result"
    }
   ],
   "source": [
    "L2star"
   ]
  },
  {
   "cell_type": "markdown",
   "metadata": {},
   "source": [
    "So we only need 0.89 m more to bring the flow to sonic (choked) conditions."
   ]
  },
  {
   "cell_type": "markdown",
   "metadata": {},
   "source": [
    "###  Example 2\n",
    "Consider a flow of air through a circular pipe of diameter 3 cm, starting at stagnation pressure 200 kPa, stagnation temperature 500 K, and velocity 100 m/s. The friction factor in the pipe can be assumed to be 0.02 throughout.\n",
    "\n",
    "(a) What length of pipe would be needed to drive the flow to Mach number 1 at the exit?\n",
    "\n",
    "(b) What is the mass flow rate through the pipe at those conditions?\n",
    "\n",
    "(c) Suppose the pipe were 30 m long. How would the mass flow rate change?"
   ]
  },
  {
   "cell_type": "markdown",
   "metadata": {},
   "source": [
    "For (a), we are seeking $L_1^*$. First set the known conditions:"
   ]
  },
  {
   "cell_type": "code",
   "execution_count": 20,
   "metadata": {},
   "outputs": [
    {
     "data": {
      "text/plain": [
       "FrictionFactor = 0.02 "
      ]
     },
     "execution_count": 20,
     "metadata": {},
     "output_type": "execute_result"
    }
   ],
   "source": [
    "D = Diameter(3,units=CM)\n",
    "p01 = StagnationPressure(200,units=KPa)\n",
    "T01 = StagnationTemperature(500)\n",
    "u1 = Velocity(100)\n",
    "f = FrictionFactor(0.02)"
   ]
  },
  {
   "cell_type": "markdown",
   "metadata": {},
   "source": [
    "Now calculate the Mach number at the entrance. For this, we need $c_1$, the speed of sound. We get this by using the known stagnation temperature $T_{01} = 500$ K and velocity $u_1 = 100$ m/s. We will calculate the temperature $T_1$ from these (using $h_1 = h_{01} - u_1^2/2$), and $c_1$ from that:"
   ]
  },
  {
   "cell_type": "code",
   "execution_count": 21,
   "metadata": {},
   "outputs": [
    {
     "data": {
      "text/plain": [
       "MachNumber = 0.224224 "
      ]
     },
     "execution_count": 21,
     "metadata": {},
     "output_type": "execute_result"
    }
   ],
   "source": [
    "h01 = StagnationEnthalpy(T01)\n",
    "h1 = Enthalpy(h01,u1) # this computes h1 = h01 - u1^2/2\n",
    "T1 = Temperature(h1)\n",
    "c1 = SoundSpeed(T1)\n",
    "M1 = MachNumber(u1,c1)"
   ]
  },
  {
   "cell_type": "markdown",
   "metadata": {},
   "source": [
    "Now we can compute $fL_1^*/D$ and then $L_1^*$. This is what we seek."
   ]
  },
  {
   "cell_type": "code",
   "execution_count": 22,
   "metadata": {},
   "outputs": [
    {
     "data": {
      "text/plain": [
       "Length = 16.6163 Meters"
      ]
     },
     "execution_count": 22,
     "metadata": {},
     "output_type": "execute_result"
    }
   ],
   "source": [
    "fL1starD = FLStarOverD(M1,FannoFlow)\n",
    "L1star = Length(fL1starD*D/f)"
   ]
  },
  {
   "cell_type": "markdown",
   "metadata": {},
   "source": [
    "so we need a pipe of 16.6 m to reach Mach number 1.\n",
    "\n",
    "Now let's compute the mass flow rate. We need the area and density. For the density, we will first get the stagnation density (from $p_{01}$ and $T_{01}$) and then get density from the isentropic relation. (We are not using isentropic relations between two different points in the duct; we are using it to relate *local* stagnation conditions to *local* conditions.)"
   ]
  },
  {
   "cell_type": "code",
   "execution_count": 23,
   "metadata": {},
   "outputs": [
    {
     "data": {
      "text/plain": [
       "Density = 1.3593 KGPerCuM"
      ]
     },
     "execution_count": 23,
     "metadata": {},
     "output_type": "execute_result"
    }
   ],
   "source": [
    "A = Area(D)\n",
    "ρ01 = StagnationDensity(p01,T01)\n",
    "ρ1 = Density(ρ01,M1,Isentropic)"
   ]
  },
  {
   "cell_type": "markdown",
   "metadata": {},
   "source": [
    "and the mass flow rate is:"
   ]
  },
  {
   "cell_type": "code",
   "execution_count": 24,
   "metadata": {},
   "outputs": [
    {
     "data": {
      "text/plain": [
       "MassFlowRate = 0.0960832 KGPerSec"
      ]
     },
     "execution_count": 24,
     "metadata": {},
     "output_type": "execute_result"
    }
   ],
   "source": [
    "ṁ = MassFlowRate(ρ1*u1*A)"
   ]
  },
  {
   "cell_type": "markdown",
   "metadata": {},
   "source": [
    "(c) Now suppose the pipe is 30 m long. This becomes our new $L_1^*$, and all of the conditions at the entrance must adjust accordingly. First find the Mach number"
   ]
  },
  {
   "cell_type": "code",
   "execution_count": 26,
   "metadata": {},
   "outputs": [
    {
     "data": {
      "text/plain": [
       "MachNumber = 0.174121 "
      ]
     },
     "execution_count": 26,
     "metadata": {},
     "output_type": "execute_result"
    }
   ],
   "source": [
    "Lstar = L = Length(30)\n",
    "fLstar_over_D = FLOverD(f,Lstar,D)\n",
    "M1 = MachNumber(fLstar_over_D,FannoFlow)"
   ]
  },
  {
   "cell_type": "markdown",
   "metadata": {},
   "source": [
    "Note that the entrance Mach number is lower. The flow slows down due to the longer pipe. Now find the new values of $\\rho_1$ and $u_1$ (by finding $c_1$):"
   ]
  },
  {
   "cell_type": "code",
   "execution_count": 28,
   "metadata": {},
   "outputs": [
    {
     "data": {
      "text/plain": [
       "MassFlowRate = 0.0755048 KGPerSec"
      ]
     },
     "execution_count": 28,
     "metadata": {},
     "output_type": "execute_result"
    }
   ],
   "source": [
    "T1 = Temperature(T01,M1,Isentropic)\n",
    "ρ1 = Density(ρ01,M1,Isentropic)\n",
    "c1 = SoundSpeed(T1)\n",
    "u1 = Velocity(c1,M1)\n",
    "ṁ = MassFlowRate(ρ1*u1*A)"
   ]
  },
  {
   "cell_type": "markdown",
   "metadata": {},
   "source": [
    "So the mass flow rate is smaller than it was with the shorter pipe! For the same reservoir conditions, less mass flow rate is delivered to a longer (choked) pipe."
   ]
  },
  {
   "cell_type": "code",
   "execution_count": null,
   "metadata": {},
   "outputs": [],
   "source": []
  }
 ],
 "metadata": {
  "kernelspec": {
   "display_name": "Julia 1.2.0",
   "language": "julia",
   "name": "julia-1.2"
  },
  "language_info": {
   "file_extension": ".jl",
   "mimetype": "application/julia",
   "name": "julia",
   "version": "1.2.0"
  }
 },
 "nbformat": 4,
 "nbformat_minor": 2
}
